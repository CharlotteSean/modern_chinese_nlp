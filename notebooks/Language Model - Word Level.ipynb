{
 "cells": [
  {
   "cell_type": "code",
   "execution_count": 1,
   "metadata": {},
   "outputs": [],
   "source": [
    "import sys\n",
    "sys.path.append(\"../\")"
   ]
  },
  {
   "cell_type": "code",
   "execution_count": 2,
   "metadata": {},
   "outputs": [
    {
     "name": "stderr",
     "output_type": "stream",
     "text": [
      "/opt/conda/lib/python3.6/importlib/_bootstrap.py:219: RuntimeWarning: numpy.dtype size changed, may indicate binary incompatibility. Expected 96, got 88\n",
      "  return f(*args, **kwds)\n",
      "/opt/conda/lib/python3.6/importlib/_bootstrap.py:219: RuntimeWarning: numpy.dtype size changed, may indicate binary incompatibility. Expected 96, got 88\n",
      "  return f(*args, **kwds)\n",
      "/opt/conda/lib/python3.6/site-packages/sklearn/ensemble/weight_boosting.py:29: DeprecationWarning: numpy.core.umath_tests is an internal NumPy module and should not be imported. It will be removed in a future NumPy release.\n",
      "  from numpy.core.umath_tests import inner1d\n",
      "/opt/conda/lib/python3.6/importlib/_bootstrap.py:219: RuntimeWarning: numpy.dtype size changed, may indicate binary incompatibility. Expected 96, got 88\n",
      "  return f(*args, **kwds)\n",
      "/opt/conda/lib/python3.6/importlib/_bootstrap.py:219: RuntimeWarning: numpy.ufunc size changed, may indicate binary incompatibility. Expected 192, got 176\n",
      "  return f(*args, **kwds)\n"
     ]
    }
   ],
   "source": [
    "from pathlib import Path\n",
    "from functools import partial\n",
    "\n",
    "import joblib\n",
    "import pandas as pd\n",
    "import numpy as np\n",
    "\n",
    "from sklearn.model_selection import train_test_split\n",
    "from fastai.text import LanguageModelLoader, LanguageModelData\n",
    "from fastai.core import T\n",
    "from fastai.rnn_reg import EmbeddingDropout\n",
    "from torch.optim import Adam\n",
    "import torch.nn as nn\n",
    "import torch\n",
    "import torch.nn.functional as F"
   ]
  },
  {
   "cell_type": "code",
   "execution_count": 3,
   "metadata": {},
   "outputs": [],
   "source": [
    "tokens = joblib.load(\"../data/tokens_word.pkl\")"
   ]
  },
  {
   "cell_type": "code",
   "execution_count": 4,
   "metadata": {},
   "outputs": [
    {
     "name": "stdout",
     "output_type": "stream",
     "text": [
      "367208\n",
      "367208\n"
     ]
    }
   ],
   "source": [
    "# Filter out empty rows\n",
    "print(len(tokens))\n",
    "tokens = [x for x in tokens if x.shape[0] > 0]\n",
    "print(len(tokens))"
   ]
  },
  {
   "cell_type": "code",
   "execution_count": 5,
   "metadata": {},
   "outputs": [],
   "source": [
    "trn_tokens, val_tokens = train_test_split(tokens, test_size=0.2, random_state=9)\n",
    "val_tokens, tst_tokens = train_test_split(val_tokens, test_size=0.5, random_state=9)"
   ]
  },
  {
   "cell_type": "code",
   "execution_count": 6,
   "metadata": {},
   "outputs": [
    {
     "name": "stdout",
     "output_type": "stream",
     "text": [
      "Total tokens: 97937703\n",
      "Unknown Percentage: 16.95 %\n"
     ]
    }
   ],
   "source": [
    "def get_voc_stats(tokens):\n",
    "    total_tokens = np.sum([x.shape[0] for x in tokens])\n",
    "    unks = np.sum([np.sum(x == 1) for x in tokens])\n",
    "    print(\"Total tokens: %d\\nUnknown Percentage: %.2f %%\" % (total_tokens, unks * 100 / total_tokens))\n",
    "get_voc_stats(tokens)"
   ]
  },
  {
   "cell_type": "code",
   "execution_count": 7,
   "metadata": {},
   "outputs": [],
   "source": [
    "bptt = 50\n",
    "batch_size = 64\n",
    "n_tok = int(np.max([np.max(x) for x in tokens]) + 1)\n",
    "trn_loader = LanguageModelLoader(\n",
    "    np.concatenate(trn_tokens), batch_size, bptt)\n",
    "val_loader = LanguageModelLoader(\n",
    "    np.concatenate(val_tokens), batch_size, bptt)\n",
    "tst_loader = LanguageModelLoader(\n",
    "    np.concatenate(tst_tokens), batch_size, bptt)"
   ]
  },
  {
   "cell_type": "code",
   "execution_count": 8,
   "metadata": {},
   "outputs": [
    {
     "data": {
      "text/plain": [
       "[(1, 70402),\n",
       " (2, 33395),\n",
       " (3, 31320),\n",
       " (5, 21166),\n",
       " (4, 18291),\n",
       " (6, 9345),\n",
       " (19, 8532),\n",
       " (8, 7118),\n",
       " (10, 6034),\n",
       " (32, 5090)]"
      ]
     },
     "execution_count": 8,
     "metadata": {},
     "output_type": "execute_result"
    }
   ],
   "source": [
    "from collections import Counter\n",
    "tmp = []\n",
    "for i in range(10000):\n",
    "    for j in range(1, trn_tokens[i].shape[0]):\n",
    "        if trn_tokens[i][j] == 1:\n",
    "            tmp.append(trn_tokens[i][j-1])\n",
    "Counter(tmp).most_common(10)"
   ]
  },
  {
   "cell_type": "code",
   "execution_count": 9,
   "metadata": {},
   "outputs": [
    {
     "data": {
      "text/plain": [
       "[(1, 18290),\n",
       " (20, 9225),\n",
       " (6, 4395),\n",
       " (16, 1642),\n",
       " (23, 1119),\n",
       " (45, 1033),\n",
       " (109, 993),\n",
       " (36, 927),\n",
       " (29, 876),\n",
       " (95, 846)]"
      ]
     },
     "execution_count": 9,
     "metadata": {},
     "output_type": "execute_result"
    }
   ],
   "source": [
    "from collections import Counter\n",
    "tmp = []\n",
    "for i in range(10000):\n",
    "    for j in range(1, trn_tokens[i].shape[0]-1):\n",
    "        if trn_tokens[i][j] == 4:\n",
    "            tmp.append(trn_tokens[i][j+1])\n",
    "Counter(tmp).most_common(10)"
   ]
  },
  {
   "cell_type": "code",
   "execution_count": 10,
   "metadata": {},
   "outputs": [],
   "source": [
    "mapping = joblib.load(\"../data/mapping_word.pkl\")"
   ]
  },
  {
   "cell_type": "code",
   "execution_count": 11,
   "metadata": {},
   "outputs": [],
   "source": [
    "itos = ['<pad>'] + ['<unk>'] *  n_tok\n",
    "for k, v in mapping.items():\n",
    "    itos[v] = k"
   ]
  },
  {
   "cell_type": "code",
   "execution_count": 12,
   "metadata": {},
   "outputs": [
    {
     "data": {
      "text/plain": [
       "'。'"
      ]
     },
     "execution_count": 12,
     "metadata": {},
     "output_type": "execute_result"
    }
   ],
   "source": [
    "itos[4]"
   ]
  },
  {
   "cell_type": "code",
   "execution_count": 13,
   "metadata": {},
   "outputs": [],
   "source": [
    "path = Path(\"../data/cache/lm_word/\")\n",
    "path.mkdir(parents=True, exist_ok=True)\n",
    "model_data = LanguageModelData(\n",
    "    path, pad_idx=0, n_tok=n_tok, trn_dl=trn_loader, val_dl=val_loader, test_dl=tst_loader\n",
    ")"
   ]
  },
  {
   "cell_type": "markdown",
   "metadata": {
    "heading_collapsed": true
   },
   "source": [
    "### QRNN Model"
   ]
  },
  {
   "cell_type": "code",
   "execution_count": null,
   "metadata": {
    "hidden": true
   },
   "outputs": [],
   "source": [
    "drops = np.array([0.05, 0.1, 0.05, 0, 0.1])\n",
    "learner = model_data.get_model(\n",
    "    partial(Adam, betas=(0.8, 0.999)),\n",
    "    emb_sz=300, n_hid=500, n_layers=4,\n",
    "    dropouti=drops[0], dropout=drops[1], wdrop=drops[2],\n",
    "    dropoute=drops[3], dropouth=drops[4], qrnn=True\n",
    ")"
   ]
  },
  {
   "cell_type": "code",
   "execution_count": null,
   "metadata": {
    "hidden": true
   },
   "outputs": [],
   "source": [
    "learner.clip = 25.\n",
    "learner.lr_find(start_lr=1e-5, end_lr=1, linear=False)\n",
    "learner.sched.plot()"
   ]
  },
  {
   "cell_type": "code",
   "execution_count": null,
   "metadata": {
    "hidden": true
   },
   "outputs": [],
   "source": [
    "lrs = 2e-3\n",
    "learner.fit(lrs, 1, wds=1e-7, use_clr=(50, 3), cycle_len=10, use_wd_sched=True)"
   ]
  },
  {
   "cell_type": "code",
   "execution_count": null,
   "metadata": {
    "hidden": true
   },
   "outputs": [],
   "source": [
    "learner.sched.plot_lr()"
   ]
  },
  {
   "cell_type": "code",
   "execution_count": null,
   "metadata": {
    "hidden": true
   },
   "outputs": [],
   "source": [
    "lrs = 5e-4\n",
    "learner.fit(lrs, 1, wds=1e-7, use_clr=(50, 3), cycle_len=10, use_wd_sched=True)"
   ]
  },
  {
   "cell_type": "code",
   "execution_count": null,
   "metadata": {
    "hidden": true
   },
   "outputs": [],
   "source": [
    "learner.sched.plot_loss()"
   ]
  },
  {
   "cell_type": "code",
   "execution_count": null,
   "metadata": {
    "hidden": true
   },
   "outputs": [],
   "source": [
    "learner.save(\"lm_qrnn\")\n",
    "learner.save_encoder(\"lm_qrnn_enc\")"
   ]
  },
  {
   "cell_type": "code",
   "execution_count": null,
   "metadata": {
    "hidden": true
   },
   "outputs": [],
   "source": [
    "learner.load(\"lm_qrnn\")"
   ]
  },
  {
   "cell_type": "markdown",
   "metadata": {},
   "source": [
    "### LSTM"
   ]
  },
  {
   "cell_type": "code",
   "execution_count": 14,
   "metadata": {},
   "outputs": [],
   "source": [
    "drops = np.array([0.1, 0.1, 0.05, 0, 0.1])\n",
    "learner = model_data.get_model(\n",
    "    partial(Adam, betas=(0.7, 0.99)),\n",
    "    emb_sz=300, n_hid=500, n_layers=3,\n",
    "    dropouti=drops[0], dropout=drops[1], wdrop=drops[2],\n",
    "    dropoute=drops[3], dropouth=drops[4], qrnn=False\n",
    ")"
   ]
  },
  {
   "cell_type": "code",
   "execution_count": 15,
   "metadata": {},
   "outputs": [
    {
     "data": {
      "application/vnd.jupyter.widget-view+json": {
       "model_id": "9cdbef22e9be469da7c68c8cd5e68dc9",
       "version_major": 2,
       "version_minor": 0
      },
      "text/plain": [
       "HBox(children=(IntProgress(value=0, description='Epoch', max=1), HTML(value='')))"
      ]
     },
     "metadata": {},
     "output_type": "display_data"
    },
    {
     "name": "stdout",
     "output_type": "stream",
     "text": [
      " 80%|███████▉  | 19504/24484 [17:12<04:23, 18.89it/s, loss=17]  "
     ]
    },
    {
     "data": {
      "image/png": "[encoded data removed]",
      "text/plain": [
       "<Figure size 432x288 with 1 Axes>"
      ]
     },
     "metadata": {},
     "output_type": "display_data"
    }
   ],
   "source": [
    "learner.clip = 10.\n",
    "learner.lr_find(start_lr=1e-5, end_lr=1, linear=False)\n",
    "learner.sched.plot()"
   ]
  },
  {
   "cell_type": "code",
   "execution_count": 16,
   "metadata": {},
   "outputs": [
    {
     "data": {
      "application/vnd.jupyter.widget-view+json": {
       "model_id": "53645dd7afbb4afcba0bd77dc6b37bf2",
       "version_major": 2,
       "version_minor": 0
      },
      "text/plain": [
       "HBox(children=(IntProgress(value=0, description='Epoch', max=15), HTML(value='')))"
      ]
     },
     "metadata": {},
     "output_type": "display_data"
    },
    {
     "name": "stdout",
     "output_type": "stream",
     "text": [
      "epoch      trn_loss   val_loss                                  \n",
      "    0      4.345192   4.260249  \n",
      "    1      4.16335    4.076405                                  \n",
      "    2      4.137914   4.051645                                  \n",
      "    3      4.184074   4.054441                                  \n",
      "    4      4.19006    4.05613                                   \n",
      "    5      4.111462   4.02054                                   \n",
      "    6      4.087874   3.988497                                  \n",
      "    7      4.082899   3.968057                                  \n",
      "    8      4.098916   3.948941                                  \n",
      "    9      4.043762   3.934794                                  \n",
      "    10     4.053124   3.921426                                  \n",
      "    11     4.067527   3.906694                                  \n",
      "    12     4.008651   3.893846                                  \n",
      "    13     4.010165   3.880458                                  \n",
      "    14     3.998786   3.869341                                  \n"
     ]
    },
    {
     "data": {
      "text/plain": [
       "[3.8693409548466935]"
      ]
     },
     "execution_count": 16,
     "metadata": {},
     "output_type": "execute_result"
    }
   ],
   "source": [
    "lrs = 3e-3\n",
    "learner.clip = 10.\n",
    "learner.fit(lrs, 1, wds=1e-7, use_clr=(50, 3), cycle_len=15, use_wd_sched=True)"
   ]
  },
  {
   "cell_type": "code",
   "execution_count": 17,
   "metadata": {},
   "outputs": [
    {
     "data": {
      "image/png": "[encoded data removed]",
      "text/plain": [
       "<Figure size 432x288 with 1 Axes>"
      ]
     },
     "metadata": {},
     "output_type": "display_data"
    }
   ],
   "source": [
    "learner.sched.plot_lr()"
   ]
  },
  {
   "cell_type": "code",
   "execution_count": 18,
   "metadata": {},
   "outputs": [],
   "source": [
    "learner.save(\"lm_lstm\")\n",
    "learner.save_encoder(\"lm_lstm_enc\")"
   ]
  },
  {
   "cell_type": "code",
   "execution_count": null,
   "metadata": {},
   "outputs": [],
   "source": [
    "# Use tons of memory...\n",
    "# pred, targ = learner.predict_with_targs(is_test=True)"
   ]
  },
  {
   "cell_type": "code",
   "execution_count": null,
   "metadata": {},
   "outputs": [],
   "source": [
    "tmp_iter = iter(trn_loader)"
   ]
  },
  {
   "cell_type": "code",
   "execution_count": null,
   "metadata": {},
   "outputs": [],
   "source": [
    "next(tmp_iter)[0].shape"
   ]
  },
  {
   "cell_type": "code",
   "execution_count": 18,
   "metadata": {},
   "outputs": [],
   "source": [
    "learner.load(\"lm_lstm\")"
   ]
  },
  {
   "cell_type": "markdown",
   "metadata": {},
   "source": [
    "## Test the model"
   ]
  },
  {
   "cell_type": "code",
   "execution_count": 19,
   "metadata": {},
   "outputs": [
    {
     "data": {
      "text/plain": [
       "SequentialRNN(\n",
       "  (0): RNN_Encoder(\n",
       "    (encoder): Embedding(9697, 300, padding_idx=0)\n",
       "    (encoder_with_dropout): EmbeddingDropout(\n",
       "      (embed): Embedding(9697, 300, padding_idx=0)\n",
       "    )\n",
       "    (rnns): ModuleList(\n",
       "      (0): WeightDrop(\n",
       "        (module): LSTM(300, 500)\n",
       "      )\n",
       "      (1): WeightDrop(\n",
       "        (module): LSTM(500, 500)\n",
       "      )\n",
       "      (2): WeightDrop(\n",
       "        (module): LSTM(500, 300)\n",
       "      )\n",
       "    )\n",
       "    (dropouti): LockedDropout()\n",
       "    (dropouths): ModuleList(\n",
       "      (0): LockedDropout()\n",
       "      (1): LockedDropout()\n",
       "      (2): LockedDropout()\n",
       "    )\n",
       "  )\n",
       "  (1): LinearDecoder(\n",
       "    (decoder): Linear(in_features=300, out_features=9697, bias=False)\n",
       "    (dropout): LockedDropout()\n",
       "  )\n",
       ")"
      ]
     },
     "execution_count": 19,
     "metadata": {},
     "output_type": "execute_result"
    }
   ],
   "source": [
    "learner.model.eval()"
   ]
  },
  {
   "cell_type": "markdown",
   "metadata": {},
   "source": [
    "### Next Character Inference"
   ]
  },
  {
   "cell_type": "code",
   "execution_count": 20,
   "metadata": {},
   "outputs": [
    {
     "name": "stdout",
     "output_type": "stream",
     "text": [
      "Requirement already satisfied: jieba in /opt/conda/lib/python3.6/site-packages (0.39)\r\n"
     ]
    }
   ],
   "source": [
    "!pip install jieba\n",
    "import jieba"
   ]
  },
  {
   "cell_type": "code",
   "execution_count": 21,
   "metadata": {},
   "outputs": [
    {
     "data": {
      "text/plain": [
       "[298, 7, 148, 7074, 226, 2, 42, 870, 6259, 25, 154, 1, 3299]"
      ]
     },
     "execution_count": 21,
     "metadata": {},
     "output_type": "execute_result"
    }
   ],
   "source": [
    "texts = \"德国 是 世界 大国 之一 ， 其 国内 生产总值 以 国际 汇率 计\"\n",
    "tokens = list(map(lambda x: mapping.get(x, 1), texts.split(\" \")))\n",
    "tokens"
   ]
  },
  {
   "cell_type": "code",
   "execution_count": 22,
   "metadata": {},
   "outputs": [
    {
     "data": {
      "text/plain": [
       "torch.Size([13, 9697])"
      ]
     },
     "execution_count": 22,
     "metadata": {},
     "output_type": "execute_result"
    }
   ],
   "source": [
    "logits, _, _ = learner.model(T(tokens).unsqueeze(1))\n",
    "logits.shape"
   ]
  },
  {
   "cell_type": "code",
   "execution_count": 23,
   "metadata": {},
   "outputs": [
    {
     "data": {
      "text/html": [
       "<div>\n",
       "<style scoped>\n",
       "    .dataframe tbody tr th:only-of-type {\n",
       "        vertical-align: middle;\n",
       "    }\n",
       "\n",
       "    .dataframe tbody tr th {\n",
       "        vertical-align: top;\n",
       "    }\n",
       "\n",
       "    .dataframe thead th {\n",
       "        text-align: right;\n",
       "    }\n",
       "</style>\n",
       "<table border=\"1\" class=\"dataframe\">\n",
       "  <thead>\n",
       "    <tr style=\"text-align: right;\">\n",
       "      <th></th>\n",
       "      <th>orig</th>\n",
       "      <th>pred_1</th>\n",
       "      <th>pred_2</th>\n",
       "      <th>pred_3</th>\n",
       "    </tr>\n",
       "  </thead>\n",
       "  <tbody>\n",
       "    <tr>\n",
       "      <th>0</th>\n",
       "      <td>德国</td>\n",
       "      <td></td>\n",
       "      <td></td>\n",
       "      <td></td>\n",
       "    </tr>\n",
       "    <tr>\n",
       "      <th>1</th>\n",
       "      <td>是</td>\n",
       "      <td>&lt;unk&gt;</td>\n",
       "      <td>的</td>\n",
       "      <td>人</td>\n",
       "    </tr>\n",
       "    <tr>\n",
       "      <th>2</th>\n",
       "      <td>世界</td>\n",
       "      <td>&lt;unk&gt;</td>\n",
       "      <td>一</td>\n",
       "      <td>一个</td>\n",
       "    </tr>\n",
       "    <tr>\n",
       "      <th>3</th>\n",
       "      <td>大国</td>\n",
       "      <td>上</td>\n",
       "      <td>第一</td>\n",
       "      <td>最</td>\n",
       "    </tr>\n",
       "    <tr>\n",
       "      <th>4</th>\n",
       "      <td>之一</td>\n",
       "      <td>，</td>\n",
       "      <td>。</td>\n",
       "      <td>的</td>\n",
       "    </tr>\n",
       "    <tr>\n",
       "      <th>5</th>\n",
       "      <td>，</td>\n",
       "      <td>。</td>\n",
       "      <td>，</td>\n",
       "      <td>的</td>\n",
       "    </tr>\n",
       "    <tr>\n",
       "      <th>6</th>\n",
       "      <td>其</td>\n",
       "      <td>&lt;unk&gt;</td>\n",
       "      <td>在</td>\n",
       "      <td>并</td>\n",
       "    </tr>\n",
       "    <tr>\n",
       "      <th>7</th>\n",
       "      <td>国内</td>\n",
       "      <td>&lt;unk&gt;</td>\n",
       "      <td>在</td>\n",
       "      <td>主要</td>\n",
       "    </tr>\n",
       "    <tr>\n",
       "      <th>8</th>\n",
       "      <td>生产总值</td>\n",
       "      <td>&lt;unk&gt;</td>\n",
       "      <td>的</td>\n",
       "      <td>主要</td>\n",
       "    </tr>\n",
       "    <tr>\n",
       "      <th>9</th>\n",
       "      <td>以</td>\n",
       "      <td>为</td>\n",
       "      <td>&lt;unk&gt;</td>\n",
       "      <td>的</td>\n",
       "    </tr>\n",
       "    <tr>\n",
       "      <th>10</th>\n",
       "      <td>国际</td>\n",
       "      <td>&lt;unk&gt;</td>\n",
       "      <td>“</td>\n",
       "      <td>欧元</td>\n",
       "    </tr>\n",
       "    <tr>\n",
       "      <th>11</th>\n",
       "      <td>汇率</td>\n",
       "      <td>&lt;unk&gt;</td>\n",
       "      <td>贸易</td>\n",
       "      <td>货币</td>\n",
       "    </tr>\n",
       "    <tr>\n",
       "      <th>12</th>\n",
       "      <td>计</td>\n",
       "      <td>为</td>\n",
       "      <td>为主</td>\n",
       "      <td>的</td>\n",
       "    </tr>\n",
       "    <tr>\n",
       "      <th>13</th>\n",
       "      <td></td>\n",
       "      <td>，</td>\n",
       "      <td>。</td>\n",
       "      <td>的</td>\n",
       "    </tr>\n",
       "  </tbody>\n",
       "</table>\n",
       "</div>"
      ],
      "text/plain": [
       "    orig pred_1 pred_2 pred_3\n",
       "0     德国                     \n",
       "1      是  <unk>      的      人\n",
       "2     世界  <unk>      一     一个\n",
       "3     大国      上     第一      最\n",
       "4     之一      ，      。      的\n",
       "5      ，      。      ，      的\n",
       "6      其  <unk>      在      并\n",
       "7     国内  <unk>      在     主要\n",
       "8   生产总值  <unk>      的     主要\n",
       "9      以      为  <unk>      的\n",
       "10    国际  <unk>      “     欧元\n",
       "11    汇率  <unk>     贸易     货币\n",
       "12     计      为     为主      的\n",
       "13            ，      。      的"
      ]
     },
     "execution_count": 23,
     "metadata": {},
     "output_type": "execute_result"
    }
   ],
   "source": [
    "sorted_idx = np.argsort(logits.data.cpu().numpy(), 1)\n",
    "preds = []\n",
    "for i in range(1, 4):\n",
    "      preds.append(list(map(lambda x: itos[x], sorted_idx[:, -i])))\n",
    "# preds = list(map(lambda x: itos[x], np.argmax(logits.data.cpu().numpy(), 1)))\n",
    "pd.DataFrame({\"orig\": list(texts.split(\" \")) + [\" \"], \n",
    "              \"pred_1\": [\"\"] + preds[0], \"pred_2\": [\"\"] + preds[1], \"pred_3\": [\"\"] + preds[2]})"
   ]
  },
  {
   "cell_type": "code",
   "execution_count": 24,
   "metadata": {},
   "outputs": [],
   "source": [
    "def eval(texts):\n",
    "    learner.model[0].reset()\n",
    "    tokens = list(map(lambda x: mapping.get(x, 1), texts))\n",
    "    logits, _, _ = learner.model(T(tokens).unsqueeze(1))\n",
    "    sorted_idx = np.argsort(logits.data.cpu().numpy(), 1)\n",
    "    preds = []\n",
    "    for i in range(1, 4):\n",
    "          preds.append(list(map(lambda x: itos[x], sorted_idx[:, -i])))\n",
    "    # preds = list(map(lambda x: itos[x], np.argmax(logits.data.cpu().numpy(), 1)))\n",
    "    return pd.DataFrame({\"orig\": [x for x in texts] + [\" \"], \n",
    "                  \"pred_1\": [\"\"] + preds[0], \"pred_2\": [\"\"] + preds[1], \"pred_3\": [\"\"] + preds[2]})"
   ]
  },
  {
   "cell_type": "code",
   "execution_count": 25,
   "metadata": {},
   "outputs": [
    {
     "name": "stderr",
     "output_type": "stream",
     "text": [
      "Building prefix dict from the default dictionary ...\n",
      "Loading model from cache /tmp/jieba.cache\n",
      "Loading model cost 0.472 seconds.\n",
      "Prefix dict has been built succesfully.\n"
     ]
    },
    {
     "data": {
      "text/html": [
       "<div>\n",
       "<style scoped>\n",
       "    .dataframe tbody tr th:only-of-type {\n",
       "        vertical-align: middle;\n",
       "    }\n",
       "\n",
       "    .dataframe tbody tr th {\n",
       "        vertical-align: top;\n",
       "    }\n",
       "\n",
       "    .dataframe thead th {\n",
       "        text-align: right;\n",
       "    }\n",
       "</style>\n",
       "<table border=\"1\" class=\"dataframe\">\n",
       "  <thead>\n",
       "    <tr style=\"text-align: right;\">\n",
       "      <th></th>\n",
       "      <th>orig</th>\n",
       "      <th>pred_1</th>\n",
       "      <th>pred_2</th>\n",
       "      <th>pred_3</th>\n",
       "    </tr>\n",
       "  </thead>\n",
       "  <tbody>\n",
       "    <tr>\n",
       "      <th>0</th>\n",
       "      <td>在</td>\n",
       "      <td></td>\n",
       "      <td></td>\n",
       "      <td></td>\n",
       "    </tr>\n",
       "    <tr>\n",
       "      <th>1</th>\n",
       "      <td>现代</td>\n",
       "      <td>&lt;unk&gt;</td>\n",
       "      <td>此</td>\n",
       "      <td>中国</td>\n",
       "    </tr>\n",
       "    <tr>\n",
       "      <th>2</th>\n",
       "      <td>印刷</td>\n",
       "      <td>&lt;unk&gt;</td>\n",
       "      <td>的</td>\n",
       "      <td>，</td>\n",
       "    </tr>\n",
       "    <tr>\n",
       "      <th>3</th>\n",
       "      <td>媒体</td>\n",
       "      <td>中</td>\n",
       "      <td>的</td>\n",
       "      <td>上</td>\n",
       "    </tr>\n",
       "    <tr>\n",
       "      <th>4</th>\n",
       "      <td>，</td>\n",
       "      <td>上</td>\n",
       "      <td>中</td>\n",
       "      <td>的</td>\n",
       "    </tr>\n",
       "    <tr>\n",
       "      <th>5</th>\n",
       "      <td>卡通</td>\n",
       "      <td>&lt;unk&gt;</td>\n",
       "      <td>并</td>\n",
       "      <td>在</td>\n",
       "    </tr>\n",
       "    <tr>\n",
       "      <th>6</th>\n",
       "      <td>是</td>\n",
       "      <td>&lt;unk&gt;</td>\n",
       "      <td>的</td>\n",
       "      <td>杂志</td>\n",
       "    </tr>\n",
       "    <tr>\n",
       "      <th>7</th>\n",
       "      <td>一种</td>\n",
       "      <td>&lt;unk&gt;</td>\n",
       "      <td>一</td>\n",
       "      <td>在</td>\n",
       "    </tr>\n",
       "    <tr>\n",
       "      <th>8</th>\n",
       "      <td>通常</td>\n",
       "      <td>的</td>\n",
       "      <td>&lt;unk&gt;</td>\n",
       "      <td>，</td>\n",
       "    </tr>\n",
       "    <tr>\n",
       "      <th>9</th>\n",
       "      <td>有</td>\n",
       "      <td>&lt;unk&gt;</td>\n",
       "      <td>的</td>\n",
       "      <td>会</td>\n",
       "    </tr>\n",
       "    <tr>\n",
       "      <th>10</th>\n",
       "      <td>幽默</td>\n",
       "      <td>&lt;unk&gt;</td>\n",
       "      <td>一</td>\n",
       "      <td>一个</td>\n",
       "    </tr>\n",
       "    <tr>\n",
       "      <th>11</th>\n",
       "      <td>色</td>\n",
       "      <td>的</td>\n",
       "      <td>&lt;unk&gt;</td>\n",
       "      <td>、</td>\n",
       "    </tr>\n",
       "    <tr>\n",
       "      <th>12</th>\n",
       "      <td></td>\n",
       "      <td>的</td>\n",
       "      <td>&lt;unk&gt;</td>\n",
       "      <td>，</td>\n",
       "    </tr>\n",
       "  </tbody>\n",
       "</table>\n",
       "</div>"
      ],
      "text/plain": [
       "   orig pred_1 pred_2 pred_3\n",
       "0     在                     \n",
       "1    现代  <unk>      此     中国\n",
       "2    印刷  <unk>      的      ，\n",
       "3    媒体      中      的      上\n",
       "4     ，      上      中      的\n",
       "5    卡通  <unk>      并      在\n",
       "6     是  <unk>      的     杂志\n",
       "7    一种  <unk>      一      在\n",
       "8    通常      的  <unk>      ，\n",
       "9     有  <unk>      的      会\n",
       "10   幽默  <unk>      一     一个\n",
       "11    色      的  <unk>      、\n",
       "12           的  <unk>      ，"
      ]
     },
     "execution_count": 25,
     "metadata": {},
     "output_type": "execute_result"
    }
   ],
   "source": [
    "eval(list(jieba.cut(\"在现代印刷媒体，卡通是一种通常有幽默色\")))"
   ]
  },
  {
   "cell_type": "code",
   "execution_count": 26,
   "metadata": {},
   "outputs": [
    {
     "data": {
      "text/html": [
       "<div>\n",
       "<style scoped>\n",
       "    .dataframe tbody tr th:only-of-type {\n",
       "        vertical-align: middle;\n",
       "    }\n",
       "\n",
       "    .dataframe tbody tr th {\n",
       "        vertical-align: top;\n",
       "    }\n",
       "\n",
       "    .dataframe thead th {\n",
       "        text-align: right;\n",
       "    }\n",
       "</style>\n",
       "<table border=\"1\" class=\"dataframe\">\n",
       "  <thead>\n",
       "    <tr style=\"text-align: right;\">\n",
       "      <th></th>\n",
       "      <th>orig</th>\n",
       "      <th>pred_1</th>\n",
       "      <th>pred_2</th>\n",
       "      <th>pred_3</th>\n",
       "    </tr>\n",
       "  </thead>\n",
       "  <tbody>\n",
       "    <tr>\n",
       "      <th>0</th>\n",
       "      <td>对</td>\n",
       "      <td></td>\n",
       "      <td></td>\n",
       "      <td></td>\n",
       "    </tr>\n",
       "    <tr>\n",
       "      <th>1</th>\n",
       "      <td>中国</td>\n",
       "      <td>&lt;unk&gt;</td>\n",
       "      <td>此</td>\n",
       "      <td>其</td>\n",
       "    </tr>\n",
       "    <tr>\n",
       "      <th>2</th>\n",
       "      <td>与</td>\n",
       "      <td>的</td>\n",
       "      <td>&lt;unk&gt;</td>\n",
       "      <td>大陆</td>\n",
       "    </tr>\n",
       "    <tr>\n",
       "      <th>3</th>\n",
       "      <td>南洋</td>\n",
       "      <td>中国</td>\n",
       "      <td>&lt;unk&gt;</td>\n",
       "      <td>日本</td>\n",
       "    </tr>\n",
       "    <tr>\n",
       "      <th>4</th>\n",
       "      <td>发动</td>\n",
       "      <td>的</td>\n",
       "      <td>&lt;unk&gt;</td>\n",
       "      <td>地区</td>\n",
       "    </tr>\n",
       "    <tr>\n",
       "      <th>5</th>\n",
       "      <td>全面</td>\n",
       "      <td>&lt;unk&gt;</td>\n",
       "      <td>的</td>\n",
       "      <td>了</td>\n",
       "    </tr>\n",
       "    <tr>\n",
       "      <th>6</th>\n",
       "      <td>的</td>\n",
       "      <td>战争</td>\n",
       "      <td>的</td>\n",
       "      <td>&lt;unk&gt;</td>\n",
       "    </tr>\n",
       "    <tr>\n",
       "      <th>7</th>\n",
       "      <td>战争</td>\n",
       "      <td>&lt;unk&gt;</td>\n",
       "      <td>战争</td>\n",
       "      <td>军事</td>\n",
       "    </tr>\n",
       "    <tr>\n",
       "      <th>8</th>\n",
       "      <td>。</td>\n",
       "      <td>，</td>\n",
       "      <td>。</td>\n",
       "      <td>&lt;unk&gt;</td>\n",
       "    </tr>\n",
       "    <tr>\n",
       "      <th>9</th>\n",
       "      <td>1990</td>\n",
       "      <td></td>\n",
       "      <td>&lt;unk&gt;</td>\n",
       "      <td>在</td>\n",
       "    </tr>\n",
       "    <tr>\n",
       "      <th>10</th>\n",
       "      <td>年代</td>\n",
       "      <td>年代</td>\n",
       "      <td>至</td>\n",
       "      <td>－</td>\n",
       "    </tr>\n",
       "    <tr>\n",
       "      <th>11</th>\n",
       "      <td>，</td>\n",
       "      <td>，</td>\n",
       "      <td>初</td>\n",
       "      <td>中期</td>\n",
       "    </tr>\n",
       "    <tr>\n",
       "      <th>12</th>\n",
       "      <td>中</td>\n",
       "      <td>&lt;unk&gt;</td>\n",
       "      <td>中国</td>\n",
       "      <td>在</td>\n",
       "    </tr>\n",
       "    <tr>\n",
       "      <th>13</th>\n",
       "      <td></td>\n",
       "      <td>美</td>\n",
       "      <td>日</td>\n",
       "      <td>苏</td>\n",
       "    </tr>\n",
       "  </tbody>\n",
       "</table>\n",
       "</div>"
      ],
      "text/plain": [
       "    orig pred_1 pred_2 pred_3\n",
       "0      对                     \n",
       "1     中国  <unk>      此      其\n",
       "2      与      的  <unk>     大陆\n",
       "3     南洋     中国  <unk>     日本\n",
       "4     发动      的  <unk>     地区\n",
       "5     全面  <unk>      的      了\n",
       "6      的     战争      的  <unk>\n",
       "7     战争  <unk>     战争     军事\n",
       "8      。      ，      。  <unk>\n",
       "9   1990         <unk>      在\n",
       "10    年代     年代      至      －\n",
       "11     ，      ，      初     中期\n",
       "12     中  <unk>     中国      在\n",
       "13            美      日      苏"
      ]
     },
     "execution_count": 26,
     "metadata": {},
     "output_type": "execute_result"
    }
   ],
   "source": [
    "eval(list(jieba.cut(\"对中国与南洋发动全面的战争。1990年代，中\")))"
   ]
  },
  {
   "cell_type": "markdown",
   "metadata": {},
   "source": [
    "### Generate Sentence"
   ]
  },
  {
   "cell_type": "code",
   "execution_count": 27,
   "metadata": {},
   "outputs": [
    {
     "name": "stdout",
     "output_type": "stream",
     "text": [
      "[0.10361 0.03695 0.02811] 0.0024486978\n",
      "德国是<unk>之一，其国内生产总值以国际<unk>为主，超过\n",
      "[0.20182 0.05693 0.02913] 0.016110476\n",
      "德国是<unk>之一，其国内生产总值以国际<unk>为主，超过1000\n",
      "[0.56216 0.11491 0.03957] 0.11491078\n",
      "德国是<unk>之一，其国内生产总值以国际<unk>为主，超过1000亿\n",
      "[0.47274 0.20617 0.04278] 0.4727403\n",
      "德国是<unk>之一，其国内生产总值以国际<unk>为主，超过1000亿美元\n",
      "[0.45262 0.24442 0.13462] 0.4526201\n",
      "德国是<unk>之一，其国内生产总值以国际<unk>为主，超过1000亿美元。\n",
      "[0.27739 0.12769 0.05385] 0.0042164777\n",
      "德国是<unk>之一，其国内生产总值以国际<unk>为主，超过1000亿美元。2011年\n",
      "[0.35047 0.03903 0.03883] 0.033557795\n",
      "德国是<unk>之一，其国内生产总值以国际<unk>为主，超过1000亿美元。2011年7月\n",
      "[0.30263 0.0533  0.02103] 0.01834555\n",
      "德国是<unk>之一，其国内生产总值以国际<unk>为主，超过1000亿美元。2011年7月17日\n",
      "[0.77887 0.03742 0.01413] 0.778871\n",
      "德国是<unk>之一，其国内生产总值以国际<unk>为主，超过1000亿美元。2011年7月17日，\n",
      "[0.33801 0.03695 0.03627] 0.00020396849\n",
      "德国是<unk>之一，其国内生产总值以国际<unk>为主，超过1000亿美元。2011年7月17日，举办\n",
      "[0.20435 0.14508 0.09793] 0.03629902\n",
      "德国是<unk>之一，其国内生产总值以国际<unk>为主，超过1000亿美元。2011年7月17日，举办世界\n",
      "[0.13596 0.13037 0.09916] 0.007950724\n",
      "德国是<unk>之一，其国内生产总值以国际<unk>为主，超过1000亿美元。2011年7月17日，举办世界的\n",
      "[0.29956 0.06175 0.02747] 0.0037970725\n",
      "德国是<unk>之一，其国内生产总值以国际<unk>为主，超过1000亿美元。2011年7月17日，举办世界的总\n",
      "[0.54025 0.03849 0.03492] 0.00032709006\n",
      "德国是<unk>之一，其国内生产总值以国际<unk>为主，超过1000亿美元。2011年7月17日，举办世界的总风险\n",
      "[0.14125 0.11161 0.10216] 0.1021566\n",
      "德国是<unk>之一，其国内生产总值以国际<unk>为主，超过1000亿美元。2011年7月17日，举办世界的总风险，\n",
      "[0.16062 0.02392 0.02087] 0.00047249775\n",
      "德国是<unk>之一，其国内生产总值以国际<unk>为主，超过1000亿美元。2011年7月17日，举办世界的总风险，进行\n",
      "[0.23343 0.1364  0.03486] 0.13639797\n",
      "德国是<unk>之一，其国内生产总值以国际<unk>为主，超过1000亿美元。2011年7月17日，举办世界的总风险，进行了\n",
      "[0.1918  0.07558 0.03267] 0.00017079021\n",
      "德国是<unk>之一，其国内生产总值以国际<unk>为主，超过1000亿美元。2011年7月17日，举办世界的总风险，进行了『\n",
      "[0.39343 0.04008 0.02678] 9.542777e-05\n",
      "德国是<unk>之一，其国内生产总值以国际<unk>为主，超过1000亿美元。2011年7月17日，举办世界的总风险，进行了『竞赛\n",
      "[0.18754 0.1652  0.04721] 0.0059650526\n",
      "德国是<unk>之一，其国内生产总值以国际<unk>为主，超过1000亿美元。2011年7月17日，举办世界的总风险，进行了『竞赛比赛\n",
      "[0.8508  0.0287  0.01699] 0.8508006\n",
      "德国是<unk>之一，其国内生产总值以国际<unk>为主，超过1000亿美元。2011年7月17日，举办世界的总风险，进行了『竞赛比赛』\n",
      "[0.34891 0.29705 0.10596] 0.012198445\n",
      "德国是<unk>之一，其国内生产总值以国际<unk>为主，超过1000亿美元。2011年7月17日，举办世界的总风险，进行了『竞赛比赛』及\n",
      "[0.50518 0.19328 0.05725] 0.057252176\n",
      "德国是<unk>之一，其国内生产总值以国际<unk>为主，超过1000亿美元。2011年7月17日，举办世界的总风险，进行了『竞赛比赛』及第\n",
      "[0.06641 0.05071 0.04401] 0.015731068\n",
      "德国是<unk>之一，其国内生产总值以国际<unk>为主，超过1000亿美元。2011年7月17日，举办世界的总风险，进行了『竞赛比赛』及第50\n",
      "[0.74229 0.05321 0.03715] 0.74229354\n",
      "德国是<unk>之一，其国内生产总值以国际<unk>为主，超过1000亿美元。2011年7月17日，举办世界的总风险，进行了『竞赛比赛』及第50届\n"
     ]
    }
   ],
   "source": [
    "import random\n",
    "\n",
    "def get_tokens(texts, seg=True):\n",
    "    if seg:\n",
    "        texts = list(jieba.cut(texts))\n",
    "    return list(map(lambda x: mapping.get(x, 1), texts))\n",
    "\n",
    "def generate_text(tokens,N=25):    \n",
    "    preds = []          \n",
    "    for i in range(N):   \n",
    "        learner.model[0].reset()          \n",
    "        logits, _, _ = learner.model(T(tokens).unsqueeze(1))\n",
    "        probs = F.softmax(logits).data.cpu().numpy()[-1, :]\n",
    "        candidates = np.argsort(probs)[::-1]\n",
    "        while True:\n",
    "            candidate = np.random.choice(candidates, p=probs[candidates])\n",
    "            if candidate > 1:\n",
    "                print(probs[candidates][:3], probs[candidate])\n",
    "                preds.append(candidate)\n",
    "                break\n",
    "        # for candidate in candidates:\n",
    "        #     if candidate > 1 and ord(itos[candidate]) > 255 and (random.random() < probs[candidate] or probs[candidate] < 0.2):\n",
    "        #         print(probs[candidate])\n",
    "        #         preds.append(candidate)\n",
    "        #         break\n",
    "        # tokens  = [preds[-1]]# \n",
    "        tokens.append(preds[-1])\n",
    "        # tokens = [:1]\n",
    "        print(\"\".join([itos[x] for x in tokens])) \n",
    "    \n",
    "generate_text(get_tokens(\"德国是世界大国之一，其国内生产总值以国际汇率为主，\"))"
   ]
  },
  {
   "cell_type": "code",
   "execution_count": 28,
   "metadata": {},
   "outputs": [
    {
     "name": "stdout",
     "output_type": "stream",
     "text": [
      "[0.10168 0.03405 0.03088] 0.022783555\n",
      "德国是世界大国之一，其国内生产总值以国际<unk>为主，其\n",
      "[0.16313 0.05038 0.02131] 0.00018471378\n",
      "德国是世界大国之一，其国内生产总值以国际<unk>为主，其原本\n",
      "[0.14612 0.11932 0.05792] 0.0013407941\n",
      "德国是世界大国之一，其国内生产总值以国际<unk>为主，其原本希望\n",
      "[0.10613 0.09098 0.08786] 0.0017182378\n",
      "德国是世界大国之一，其国内生产总值以国际<unk>为主，其原本希望向\n",
      "[0.14173 0.08326 0.05274] 0.05274309\n",
      "德国是世界大国之一，其国内生产总值以国际<unk>为主，其原本希望向欧洲\n",
      "[0.11142 0.09065 0.07793] 0.1114188\n",
      "德国是世界大国之一，其国内生产总值以国际<unk>为主，其原本希望向欧洲各国\n",
      "[0.08712 0.07681 0.06531] 0.004251734\n",
      "德国是世界大国之一，其国内生产总值以国际<unk>为主，其原本希望向欧洲各国作出\n",
      "[0.11363 0.05025 0.04725] 0.0012162224\n",
      "德国是世界大国之一，其国内生产总值以国际<unk>为主，其原本希望向欧洲各国作出抗议\n",
      "[0.51351 0.30257 0.02874] 0.3025663\n",
      "德国是世界大国之一，其国内生产总值以国际<unk>为主，其原本希望向欧洲各国作出抗议。\n",
      "[0.13087 0.10815 0.05271] 0.0019886422\n",
      "德国是世界大国之一，其国内生产总值以国际<unk>为主，其原本希望向欧洲各国作出抗议。2004年\n",
      "[0.26541 0.04608 0.04394] 0.036269575\n",
      "德国是世界大国之一，其国内生产总值以国际<unk>为主，其原本希望向欧洲各国作出抗议。2004年11月\n",
      "[0.29855 0.03704 0.02089] 0.01770223\n",
      "德国是世界大国之一，其国内生产总值以国际<unk>为主，其原本希望向欧洲各国作出抗议。2004年11月30日\n",
      "[0.75234 0.03925 0.01309] 0.75233644\n",
      "德国是世界大国之一，其国内生产总值以国际<unk>为主，其原本希望向欧洲各国作出抗议。2004年11月30日，\n",
      "[0.23959 0.0662  0.04542] 0.06619997\n",
      "德国是世界大国之一，其国内生产总值以国际<unk>为主，其原本希望向欧洲各国作出抗议。2004年11月30日，德国\n",
      "[0.13897 0.0695  0.03845] 0.022953462\n",
      "德国是世界大国之一，其国内生产总值以国际<unk>为主，其原本希望向欧洲各国作出抗议。2004年11月30日，德国的\n",
      "[0.37304 0.02458 0.01348] 0.0003292426\n",
      "德国是世界大国之一，其国内生产总值以国际<unk>为主，其原本希望向欧洲各国作出抗议。2004年11月30日，德国的内部\n",
      "[0.15048 0.02748 0.01553] 0.00055787916\n",
      "德国是世界大国之一，其国内生产总值以国际<unk>为主，其原本希望向欧洲各国作出抗议。2004年11月30日，德国的内部意识\n",
      "[0.23325 0.06309 0.04807] 0.0006205586\n",
      "德国是世界大国之一，其国内生产总值以国际<unk>为主，其原本希望向欧洲各国作出抗议。2004年11月30日，德国的内部意识集团\n",
      "[0.10858 0.05887 0.0406 ] 0.0006442797\n",
      "德国是世界大国之一，其国内生产总值以国际<unk>为主，其原本希望向欧洲各国作出抗议。2004年11月30日，德国的内部意识集团继续\n",
      "[0.094   0.05804 0.04761] 0.0013153241\n",
      "德国是世界大国之一，其国内生产总值以国际<unk>为主，其原本希望向欧洲各国作出抗议。2004年11月30日，德国的内部意识集团继续推出\n",
      "[0.2251  0.1288  0.03146] 0.0012284477\n",
      "德国是世界大国之一，其国内生产总值以国际<unk>为主，其原本希望向欧洲各国作出抗议。2004年11月30日，德国的内部意识集团继续推出各种\n",
      "[0.29318 0.0326  0.02444] 0.0011770617\n",
      "德国是世界大国之一，其国内生产总值以国际<unk>为主，其原本希望向欧洲各国作出抗议。2004年11月30日，德国的内部意识集团继续推出各种标志\n",
      "[0.41733 0.11693 0.06644] 0.11692569\n",
      "德国是世界大国之一，其国内生产总值以国际<unk>为主，其原本希望向欧洲各国作出抗议。2004年11月30日，德国的内部意识集团继续推出各种标志。\n",
      "[0.10932 0.08635 0.06196] 0.022819048\n",
      "德国是世界大国之一，其国内生产总值以国际<unk>为主，其原本希望向欧洲各国作出抗议。2004年11月30日，德国的内部意识集团继续推出各种标志。2005年\n",
      "[0.17843 0.06812 0.06013] 0.056481857\n",
      "德国是世界大国之一，其国内生产总值以国际<unk>为主，其原本希望向欧洲各国作出抗议。2004年11月30日，德国的内部意识集团继续推出各种标志。2005年1月\n"
     ]
    }
   ],
   "source": [
    "generate_text(get_tokens(\"德国 是 世界 大国 之一 ， 其 国内 生产 总 值 以 国际 汇率 为主 ，\".split(\" \"), seg=False))"
   ]
  },
  {
   "cell_type": "code",
   "execution_count": 29,
   "metadata": {},
   "outputs": [
    {
     "name": "stdout",
     "output_type": "stream",
     "text": [
      "[0.26776 0.16698 0.10165] 0.26776108\n",
      "在现代印刷媒体，卡通是<unk>通常有幽默色的\n",
      "[0.32812 0.02118 0.02077] 0.016774628\n",
      "在现代印刷媒体，卡通是<unk>通常有幽默色的，\n",
      "[0.08779 0.07333 0.03865] 0.0015680095\n",
      "在现代印刷媒体，卡通是<unk>通常有幽默色的，“\n",
      "[0.45761 0.01605 0.00895] 0.008924255\n",
      "在现代印刷媒体，卡通是<unk>通常有幽默色的，“有\n",
      "[0.32492 0.07052 0.0242 ] 0.0004259924\n",
      "在现代印刷媒体，卡通是<unk>通常有幽默色的，“有正\n",
      "[0.42701 0.03187 0.02403] 4.072406e-05\n",
      "在现代印刷媒体，卡通是<unk>通常有幽默色的，“有正风格\n",
      "[0.30171 0.28543 0.07556] 0.000339166\n",
      "在现代印刷媒体，卡通是<unk>通常有幽默色的，“有正风格新\n",
      "[0.22627 0.1702  0.09556] 0.0030577823\n",
      "在现代印刷媒体，卡通是<unk>通常有幽默色的，“有正风格新形象\n",
      "[0.31461 0.30087 0.09121] 0.3008681\n",
      "在现代印刷媒体，卡通是<unk>通常有幽默色的，“有正风格新形象的\n",
      "[0.3661  0.02177 0.01781] 0.0005758574\n",
      "在现代印刷媒体，卡通是<unk>通常有幽默色的，“有正风格新形象的名人\n",
      "[0.35036 0.18853 0.07291] 0.18852645\n",
      "在现代印刷媒体，卡通是<unk>通常有幽默色的，“有正风格新形象的名人，\n",
      "[0.14072 0.03044 0.02505] 0.0003965836\n",
      "在现代印刷媒体，卡通是<unk>通常有幽默色的，“有正风格新形象的名人，带\n",
      "[0.36392 0.16813 0.05885] 0.000119746146\n",
      "在现代印刷媒体，卡通是<unk>通常有幽默色的，“有正风格新形象的名人，带风\n",
      "[0.24816 0.1694  0.05127] 0.2481627\n",
      "在现代印刷媒体，卡通是<unk>通常有幽默色的，“有正风格新形象的名人，带风的\n",
      "[0.40395 0.03776 0.00856] 0.00016997226\n",
      "在现代印刷媒体，卡通是<unk>通常有幽默色的，“有正风格新形象的名人，带风的给\n",
      "[0.14458 0.12599 0.09852] 0.00049895106\n",
      "在现代印刷媒体，卡通是<unk>通常有幽默色的，“有正风格新形象的名人，带风的给成\n",
      "[0.23946 0.12227 0.11168] 0.239462\n",
      "在现代印刷媒体，卡通是<unk>通常有幽默色的，“有正风格新形象的名人，带风的给成一个\n",
      "[0.28826 0.0262  0.02089] 0.0010175125\n",
      "在现代印刷媒体，卡通是<unk>通常有幽默色的，“有正风格新形象的名人，带风的给成一个传统\n",
      "[0.52569 0.08922 0.04841] 0.52568835\n",
      "在现代印刷媒体，卡通是<unk>通常有幽默色的，“有正风格新形象的名人，带风的给成一个传统的\n",
      "[0.35507 0.03185 0.02612] 0.00015023431\n",
      "在现代印刷媒体，卡通是<unk>通常有幽默色的，“有正风格新形象的名人，带风的给成一个传统的固定\n",
      "[0.38191 0.05992 0.04984] 0.0075155413\n",
      "在现代印刷媒体，卡通是<unk>通常有幽默色的，“有正风格新形象的名人，带风的给成一个传统的固定，\n",
      "[0.13312 0.02207 0.02047] 0.004880871\n",
      "在现代印刷媒体，卡通是<unk>通常有幽默色的，“有正风格新形象的名人，带风的给成一个传统的固定，用\n",
      "[0.26524 0.08288 0.02211] 0.015997749\n",
      "在现代印刷媒体，卡通是<unk>通常有幽默色的，“有正风格新形象的名人，带风的给成一个传统的固定，用它\n",
      "[0.40078 0.17462 0.06547] 0.0007367924\n",
      "在现代印刷媒体，卡通是<unk>通常有幽默色的，“有正风格新形象的名人，带风的给成一个传统的固定，用它取代\n",
      "[0.18813 0.13597 0.03428] 0.033789307\n",
      "在现代印刷媒体，卡通是<unk>通常有幽默色的，“有正风格新形象的名人，带风的给成一个传统的固定，用它取代它\n"
     ]
    }
   ],
   "source": [
    "generate_text(get_tokens(\"在现代印刷媒体，卡通是一种通常有幽默色\"))"
   ]
  },
  {
   "cell_type": "code",
   "execution_count": 30,
   "metadata": {},
   "outputs": [
    {
     "name": "stdout",
     "output_type": "stream",
     "text": [
      "[0.12343 0.09997 0.08714] 0.021918332\n",
      "在现代印刷媒体，第9\n",
      "[0.15344 0.10969 0.07987] 0.011256595\n",
      "在现代印刷媒体，第9集中\n",
      "[0.16791 0.09435 0.08516] 0.002146972\n",
      "在现代印刷媒体，第9集中作为\n",
      "[0.37796 0.03533 0.02542] 0.002998776\n",
      "在现代印刷媒体，第9集中作为他\n",
      "[0.53684 0.05932 0.05566] 0.5368419\n",
      "在现代印刷媒体，第9集中作为他的\n",
      "[0.28058 0.02156 0.01966] 0.005498793\n",
      "在现代印刷媒体，第9集中作为他的朋友\n",
      "[0.20106 0.13785 0.10446] 0.006793326\n",
      "在现代印刷媒体，第9集中作为他的朋友而\n",
      "[0.12223 0.03634 0.03063] 0.010842701\n",
      "在现代印刷媒体，第9集中作为他的朋友而非\n",
      "[0.22315 0.01534 0.01484] 7.08484e-05\n",
      "在现代印刷媒体，第9集中作为他的朋友而非当今\n",
      "[0.35772 0.12388 0.02706] 0.0068901996\n",
      "在现代印刷媒体，第9集中作为他的朋友而非当今在\n",
      "[0.27785 0.04376 0.03294] 0.00065120467\n",
      "在现代印刷媒体，第9集中作为他的朋友而非当今在街上\n",
      "[0.30024 0.14458 0.03826] 0.30023727\n",
      "在现代印刷媒体，第9集中作为他的朋友而非当今在街上的\n",
      "[0.35784 0.03483 0.03042] 0.0024591538\n",
      "在现代印刷媒体，第9集中作为他的朋友而非当今在街上的读者\n",
      "[0.36567 0.20324 0.07238] 0.3656731\n",
      "在现代印刷媒体，第9集中作为他的朋友而非当今在街上的读者。\n",
      "[0.2327  0.13832 0.06473] 0.0039190827\n",
      "在现代印刷媒体，第9集中作为他的朋友而非当今在街上的读者。这个\n",
      "[0.16975 0.01997 0.01554] 0.00345873\n",
      "在现代印刷媒体，第9集中作为他的朋友而非当今在街上的读者。这个计划\n",
      "[0.10589 0.0622  0.05752] 0.0011039621\n",
      "在现代印刷媒体，第9集中作为他的朋友而非当今在街上的读者。这个计划出现\n",
      "[0.62754 0.2418  0.03992] 0.6275378\n",
      "在现代印刷媒体，第9集中作为他的朋友而非当今在街上的读者。这个计划出现在\n",
      "[0.17185 0.0946  0.0169 ] 0.00022811037\n",
      "在现代印刷媒体，第9集中作为他的朋友而非当今在街上的读者。这个计划出现在开始\n",
      "[0.08032 0.05949 0.05721] 0.006210782\n",
      "在现代印刷媒体，第9集中作为他的朋友而非当今在街上的读者。这个计划出现在开始出版\n",
      "[0.25265 0.07615 0.06136] 0.25265294\n",
      "在现代印刷媒体，第9集中作为他的朋友而非当今在街上的读者。这个计划出现在开始出版的\n",
      "[0.27449 0.15283 0.03392] 6.317133e-05\n",
      "在现代印刷媒体，第9集中作为他的朋友而非当今在街上的读者。这个计划出现在开始出版的线路\n",
      "[0.33475 0.31624 0.06845] 0.31624457\n",
      "在现代印刷媒体，第9集中作为他的朋友而非当今在街上的读者。这个计划出现在开始出版的线路上\n",
      "[0.56531 0.32405 0.00739] 0.3240477\n",
      "在现代印刷媒体，第9集中作为他的朋友而非当今在街上的读者。这个计划出现在开始出版的线路上。\n",
      "[0.19527 0.11729 0.07895] 0.011551608\n",
      "在现代印刷媒体，第9集中作为他的朋友而非当今在街上的读者。这个计划出现在开始出版的线路上。《\n"
     ]
    }
   ],
   "source": [
    "generate_text(get_tokens(\"在现代印刷媒体，第\"))"
   ]
  },
  {
   "cell_type": "code",
   "execution_count": 31,
   "metadata": {},
   "outputs": [
    {
     "name": "stdout",
     "output_type": "stream",
     "text": [
      "[0.25365 0.11852 0.05747] 0.011569235\n",
      "日本后来成为<unk>的<unk>之一，对中国与南洋发动全面的战争。但\n",
      "[0.16636 0.10034 0.09899] 0.0989886\n",
      "日本后来成为<unk>的<unk>之一，对中国与南洋发动全面的战争。但由于\n",
      "[0.25551 0.04944 0.04196] 4.2945714e-05\n",
      "日本后来成为<unk>的<unk>之一，对中国与南洋发动全面的战争。但由于天皇\n",
      "[0.16074 0.13887 0.06919] 0.001371612\n",
      "日本后来成为<unk>的<unk>之一，对中国与南洋发动全面的战争。但由于天皇关系\n",
      "[0.1523  0.09475 0.09229] 0.1523045\n",
      "日本后来成为<unk>的<unk>之一，对中国与南洋发动全面的战争。但由于天皇关系，\n",
      "[0.20886 0.04369 0.03666] 0.036661103\n",
      "日本后来成为<unk>的<unk>之一，对中国与南洋发动全面的战争。但由于天皇关系，在\n",
      "[0.17263 0.07217 0.03241] 0.072173655\n",
      "日本后来成为<unk>的<unk>之一，对中国与南洋发动全面的战争。但由于天皇关系，在日本\n",
      "[0.11653 0.08311 0.0312 ] 1.1422155e-06\n",
      "日本后来成为<unk>的<unk>之一，对中国与南洋发动全面的战争。但由于天皇关系，在日本南宁\n",
      "[0.17101 0.13956 0.05676] 0.17101406\n",
      "日本后来成为<unk>的<unk>之一，对中国与南洋发动全面的战争。但由于天皇关系，在日本南宁的\n",
      "[0.34937 0.01646 0.01248] 4.300072e-06\n",
      "日本后来成为<unk>的<unk>之一，对中国与南洋发动全面的战争。但由于天皇关系，在日本南宁的剑桥\n",
      "[0.42021 0.06721 0.034  ] 0.42021388\n",
      "日本后来成为<unk>的<unk>之一，对中国与南洋发动全面的战争。但由于天皇关系，在日本南宁的剑桥大学\n",
      "[0.1579  0.04142 0.03756] 0.04141537\n",
      "日本后来成为<unk>的<unk>之一，对中国与南洋发动全面的战争。但由于天皇关系，在日本南宁的剑桥大学的\n",
      "[0.3369  0.04642 0.01428] 0.0013864773\n",
      "日本后来成为<unk>的<unk>之一，对中国与南洋发动全面的战争。但由于天皇关系，在日本南宁的剑桥大学的「\n",
      "[0.36345 0.04422 0.01542] 0.0003139839\n",
      "日本后来成为<unk>的<unk>之一，对中国与南洋发动全面的战争。但由于天皇关系，在日本南宁的剑桥大学的「大陆\n",
      "[0.34316 0.08462 0.04702] 0.08461678\n",
      "日本后来成为<unk>的<unk>之一，对中国与南洋发动全面的战争。但由于天皇关系，在日本南宁的剑桥大学的「大陆」\n",
      "[0.05347 0.03868 0.02789] 0.0031915307\n",
      "日本后来成为<unk>的<unk>之一，对中国与南洋发动全面的战争。但由于天皇关系，在日本南宁的剑桥大学的「大陆」开始\n",
      "[0.13368 0.06224 0.04863] 0.0020432041\n",
      "日本后来成为<unk>的<unk>之一，对中国与南洋发动全面的战争。但由于天皇关系，在日本南宁的剑桥大学的「大陆」开始不\n",
      "[0.08563 0.0753  0.05054] 0.018691711\n",
      "日本后来成为<unk>的<unk>之一，对中国与南洋发动全面的战争。但由于天皇关系，在日本南宁的剑桥大学的「大陆」开始不愿\n",
      "[0.14201 0.08822 0.05543] 0.08822265\n",
      "日本后来成为<unk>的<unk>之一，对中国与南洋发动全面的战争。但由于天皇关系，在日本南宁的剑桥大学的「大陆」开始不愿接受\n",
      "[0.16821 0.07572 0.06809] 0.07571956\n",
      "日本后来成为<unk>的<unk>之一，对中国与南洋发动全面的战争。但由于天皇关系，在日本南宁的剑桥大学的「大陆」开始不愿接受，\n",
      "[0.06319 0.06239 0.06145] 0.004609491\n",
      "日本后来成为<unk>的<unk>之一，对中国与南洋发动全面的战争。但由于天皇关系，在日本南宁的剑桥大学的「大陆」开始不愿接受，最后\n",
      "[0.10277 0.07558 0.03842] 0.010787015\n",
      "日本后来成为<unk>的<unk>之一，对中国与南洋发动全面的战争。但由于天皇关系，在日本南宁的剑桥大学的「大陆」开始不愿接受，最后的\n",
      "[0.2     0.03493 0.01815] 0.00017236861\n",
      "日本后来成为<unk>的<unk>之一，对中国与南洋发动全面的战争。但由于天皇关系，在日本南宁的剑桥大学的「大陆」开始不愿接受，最后的规划\n",
      "[0.16383 0.05587 0.04457] 0.013066284\n",
      "日本后来成为<unk>的<unk>之一，对中国与南洋发动全面的战争。但由于天皇关系，在日本南宁的剑桥大学的「大陆」开始不愿接受，最后的规划将\n",
      "[0.12757 0.05335 0.0522 ] 0.0002507974\n",
      "日本后来成为<unk>的<unk>之一，对中国与南洋发动全面的战争。但由于天皇关系，在日本南宁的剑桥大学的「大陆」开始不愿接受，最后的规划将随著\n"
     ]
    }
   ],
   "source": [
    "generate_text(get_tokens(\"日本后来成为第二次世界大战的轴心国之一，对中国与南洋发动全面的战争。\"))           "
   ]
  },
  {
   "cell_type": "code",
   "execution_count": 32,
   "metadata": {},
   "outputs": [
    {
     "name": "stdout",
     "output_type": "stream",
     "text": [
      "[0.67883 0.19416 0.01487] 0.67882925\n",
      "传说日本于公元前<unk>年2月11日建国，在公元4世纪出现<unk>统一政权，并于<unk><unk>确立了天皇的<unk>体制。至平安时代结束前，日本透过文字、宗教、艺术、政治制度等<unk>文化引进的事物，开始派<unk>今日<unk>的文化基础。12世纪后的<unk>年间，日本由<unk>阶级创建的<unk>幕府及军事<unk>实际<unk>，期间包括了政治<unk>的南北朝与战国时代\n",
      "[0.36566 0.20794 0.13577] 0.13577399\n",
      "传说日本于公元前<unk>年2月11日建国，在公元4世纪出现<unk>统一政权，并于<unk><unk>确立了天皇的<unk>体制。至平安时代结束前，日本透过文字、宗教、艺术、政治制度等<unk>文化引进的事物，开始派<unk>今日<unk>的文化基础。12世纪后的<unk>年间，日本由<unk>阶级创建的<unk>幕府及军事<unk>实际<unk>，期间包括了政治<unk>的南北朝与战国时代。\n",
      "[0.19851 0.10159 0.06622] 0.066216595\n",
      "传说日本于公元前<unk>年2月11日建国，在公元4世纪出现<unk>统一政权，并于<unk><unk>确立了天皇的<unk>体制。至平安时代结束前，日本透过文字、宗教、艺术、政治制度等<unk>文化引进的事物，开始派<unk>今日<unk>的文化基础。12世纪后的<unk>年间，日本由<unk>阶级创建的<unk>幕府及军事<unk>实际<unk>，期间包括了政治<unk>的南北朝与战国时代。在\n",
      "[0.23809 0.08705 0.07728] 0.0030324287\n",
      "传说日本于公元前<unk>年2月11日建国，在公元4世纪出现<unk>统一政权，并于<unk><unk>确立了天皇的<unk>体制。至平安时代结束前，日本透过文字、宗教、艺术、政治制度等<unk>文化引进的事物，开始派<unk>今日<unk>的文化基础。12世纪后的<unk>年间，日本由<unk>阶级创建的<unk>幕府及军事<unk>实际<unk>，期间包括了政治<unk>的南北朝与战国时代。在时代\n",
      "[0.09611 0.08913 0.07047] 0.0021799998\n",
      "传说日本于公元前<unk>年2月11日建国，在公元4世纪出现<unk>统一政权，并于<unk><unk>确立了天皇的<unk>体制。至平安时代结束前，日本透过文字、宗教、艺术、政治制度等<unk>文化引进的事物，开始派<unk>今日<unk>的文化基础。12世纪后的<unk>年间，日本由<unk>阶级创建的<unk>幕府及军事<unk>实际<unk>，期间包括了政治<unk>的南北朝与战国时代。在时代间\n",
      "[0.69479 0.07348 0.03095] 0.6947905\n",
      "传说日本于公元前<unk>年2月11日建国，在公元4世纪出现<unk>统一政权，并于<unk><unk>确立了天皇的<unk>体制。至平安时代结束前，日本透过文字、宗教、艺术、政治制度等<unk>文化引进的事物，开始派<unk>今日<unk>的文化基础。12世纪后的<unk>年间，日本由<unk>阶级创建的<unk>幕府及军事<unk>实际<unk>，期间包括了政治<unk>的南北朝与战国时代。在时代间，\n",
      "[0.27048 0.08124 0.03093] 0.0024064465\n",
      "传说日本于公元前<unk>年2月11日建国，在公元4世纪出现<unk>统一政权，并于<unk><unk>确立了天皇的<unk>体制。至平安时代结束前，日本透过文字、宗教、艺术、政治制度等<unk>文化引进的事物，开始派<unk>今日<unk>的文化基础。12世纪后的<unk>年间，日本由<unk>阶级创建的<unk>幕府及军事<unk>实际<unk>，期间包括了政治<unk>的南北朝与战国时代。在时代间，其\n",
      "[0.15643 0.04367 0.02021] 0.0011135347\n",
      "传说日本于公元前<unk>年2月11日建国，在公元4世纪出现<unk>统一政权，并于<unk><unk>确立了天皇的<unk>体制。至平安时代结束前，日本透过文字、宗教、艺术、政治制度等<unk>文化引进的事物，开始派<unk>今日<unk>的文化基础。12世纪后的<unk>年间，日本由<unk>阶级创建的<unk>幕府及军事<unk>实际<unk>，期间包括了政治<unk>的南北朝与战国时代。在时代间，其儒家\n",
      "[0.27289 0.08855 0.05876] 0.27288666\n",
      "传说日本于公元前<unk>年2月11日建国，在公元4世纪出现<unk>统一政权，并于<unk><unk>确立了天皇的<unk>体制。至平安时代结束前，日本透过文字、宗教、艺术、政治制度等<unk>文化引进的事物，开始派<unk>今日<unk>的文化基础。12世纪后的<unk>年间，日本由<unk>阶级创建的<unk>幕府及军事<unk>实际<unk>，期间包括了政治<unk>的南北朝与战国时代。在时代间，其儒家思想\n",
      "[0.05874 0.0549  0.05087] 0.00036110004\n",
      "传说日本于公元前<unk>年2月11日建国，在公元4世纪出现<unk>统一政权，并于<unk><unk>确立了天皇的<unk>体制。至平安时代结束前，日本透过文字、宗教、艺术、政治制度等<unk>文化引进的事物，开始派<unk>今日<unk>的文化基础。12世纪后的<unk>年间，日本由<unk>阶级创建的<unk>幕府及军事<unk>实际<unk>，期间包括了政治<unk>的南北朝与战国时代。在时代间，其儒家思想维持\n",
      "[0.23867 0.10663 0.09535] 0.0228513\n",
      "传说日本于公元前<unk>年2月11日建国，在公元4世纪出现<unk>统一政权，并于<unk><unk>确立了天皇的<unk>体制。至平安时代结束前，日本透过文字、宗教、艺术、政治制度等<unk>文化引进的事物，开始派<unk>今日<unk>的文化基础。12世纪后的<unk>年间，日本由<unk>阶级创建的<unk>幕府及军事<unk>实际<unk>，期间包括了政治<unk>的南北朝与战国时代。在时代间，其儒家思想维持，\n",
      "[0.11906 0.04565 0.03325] 0.00041376622\n",
      "传说日本于公元前<unk>年2月11日建国，在公元4世纪出现<unk>统一政权，并于<unk><unk>确立了天皇的<unk>体制。至平安时代结束前，日本透过文字、宗教、艺术、政治制度等<unk>文化引进的事物，开始派<unk>今日<unk>的文化基础。12世纪后的<unk>年间，日本由<unk>阶级创建的<unk>幕府及军事<unk>实际<unk>，期间包括了政治<unk>的南北朝与战国时代。在时代间，其儒家思想维持，部份\n",
      "[0.21255 0.04543 0.03216] 0.0029117763\n",
      "传说日本于公元前<unk>年2月11日建国，在公元4世纪出现<unk>统一政权，并于<unk><unk>确立了天皇的<unk>体制。至平安时代结束前，日本透过文字、宗教、艺术、政治制度等<unk>文化引进的事物，开始派<unk>今日<unk>的文化基础。12世纪后的<unk>年间，日本由<unk>阶级创建的<unk>幕府及军事<unk>实际<unk>，期间包括了政治<unk>的南北朝与战国时代。在时代间，其儒家思想维持，部份制度\n",
      "[0.07592 0.04697 0.04578] 0.015736619\n",
      "传说日本于公元前<unk>年2月11日建国，在公元4世纪出现<unk>统一政权，并于<unk><unk>确立了天皇的<unk>体制。至平安时代结束前，日本透过文字、宗教、艺术、政治制度等<unk>文化引进的事物，开始派<unk>今日<unk>的文化基础。12世纪后的<unk>年间，日本由<unk>阶级创建的<unk>幕府及军事<unk>实际<unk>，期间包括了政治<unk>的南北朝与战国时代。在时代间，其儒家思想维持，部份制度则\n",
      "[0.07442 0.04753 0.04665] 0.0011410133\n",
      "传说日本于公元前<unk>年2月11日建国，在公元4世纪出现<unk>统一政权，并于<unk><unk>确立了天皇的<unk>体制。至平安时代结束前，日本透过文字、宗教、艺术、政治制度等<unk>文化引进的事物，开始派<unk>今日<unk>的文化基础。12世纪后的<unk>年间，日本由<unk>阶级创建的<unk>幕府及军事<unk>实际<unk>，期间包括了政治<unk>的南北朝与战国时代。在时代间，其儒家思想维持，部份制度则大多\n",
      "[0.17083 0.09553 0.08931] 0.008210824\n",
      "传说日本于公元前<unk>年2月11日建国，在公元4世纪出现<unk>统一政权，并于<unk><unk>确立了天皇的<unk>体制。至平安时代结束前，日本透过文字、宗教、艺术、政治制度等<unk>文化引进的事物，开始派<unk>今日<unk>的文化基础。12世纪后的<unk>年间，日本由<unk>阶级创建的<unk>幕府及军事<unk>实际<unk>，期间包括了政治<unk>的南北朝与战国时代。在时代间，其儒家思想维持，部份制度则大多集中\n",
      "[0.57082 0.35362 0.01017] 0.35362148\n",
      "传说日本于公元前<unk>年2月11日建国，在公元4世纪出现<unk>统一政权，并于<unk><unk>确立了天皇的<unk>体制。至平安时代结束前，日本透过文字、宗教、艺术、政治制度等<unk>文化引进的事物，开始派<unk>今日<unk>的文化基础。12世纪后的<unk>年间，日本由<unk>阶级创建的<unk>幕府及军事<unk>实际<unk>，期间包括了政治<unk>的南北朝与战国时代。在时代间，其儒家思想维持，部份制度则大多集中在\n",
      "[0.33151 0.02712 0.01311] 0.000528289\n",
      "传说日本于公元前<unk>年2月11日建国，在公元4世纪出现<unk>统一政权，并于<unk><unk>确立了天皇的<unk>体制。至平安时代结束前，日本透过文字、宗教、艺术、政治制度等<unk>文化引进的事物，开始派<unk>今日<unk>的文化基础。12世纪后的<unk>年间，日本由<unk>阶级创建的<unk>幕府及军事<unk>实际<unk>，期间包括了政治<unk>的南北朝与战国时代。在时代间，其儒家思想维持，部份制度则大多集中在二\n",
      "[0.18346 0.10879 0.06523] 0.18346053\n",
      "传说日本于公元前<unk>年2月11日建国，在公元4世纪出现<unk>统一政权，并于<unk><unk>确立了天皇的<unk>体制。至平安时代结束前，日本透过文字、宗教、艺术、政治制度等<unk>文化引进的事物，开始派<unk>今日<unk>的文化基础。12世纪后的<unk>年间，日本由<unk>阶级创建的<unk>幕府及军事<unk>实际<unk>，期间包括了政治<unk>的南北朝与战国时代。在时代间，其儒家思想维持，部份制度则大多集中在二代\n",
      "[0.16521 0.12412 0.09807] 0.07314566\n",
      "传说日本于公元前<unk>年2月11日建国，在公元4世纪出现<unk>统一政权，并于<unk><unk>确立了天皇的<unk>体制。至平安时代结束前，日本透过文字、宗教、艺术、政治制度等<unk>文化引进的事物，开始派<unk>今日<unk>的文化基础。12世纪后的<unk>年间，日本由<unk>阶级创建的<unk>幕府及军事<unk>实际<unk>，期间包括了政治<unk>的南北朝与战国时代。在时代间，其儒家思想维持，部份制度则大多集中在二代的\n",
      "[0.32991 0.02833 0.02258] 4.8031823e-05\n",
      "传说日本于公元前<unk>年2月11日建国，在公元4世纪出现<unk>统一政权，并于<unk><unk>确立了天皇的<unk>体制。至平安时代结束前，日本透过文字、宗教、艺术、政治制度等<unk>文化引进的事物，开始派<unk>今日<unk>的文化基础。12世纪后的<unk>年间，日本由<unk>阶级创建的<unk>幕府及军事<unk>实际<unk>，期间包括了政治<unk>的南北朝与战国时代。在时代间，其儒家思想维持，部份制度则大多集中在二代的终极\n",
      "[0.22632 0.03893 0.03839] 0.0037806921\n",
      "传说日本于公元前<unk>年2月11日建国，在公元4世纪出现<unk>统一政权，并于<unk><unk>确立了天皇的<unk>体制。至平安时代结束前，日本透过文字、宗教、艺术、政治制度等<unk>文化引进的事物，开始派<unk>今日<unk>的文化基础。12世纪后的<unk>年间，日本由<unk>阶级创建的<unk>幕府及军事<unk>实际<unk>，期间包括了政治<unk>的南北朝与战国时代。在时代间，其儒家思想维持，部份制度则大多集中在二代的终极的\n",
      "[0.24323 0.04315 0.04046] 0.0058125937\n",
      "传说日本于公元前<unk>年2月11日建国，在公元4世纪出现<unk>统一政权，并于<unk><unk>确立了天皇的<unk>体制。至平安时代结束前，日本透过文字、宗教、艺术、政治制度等<unk>文化引进的事物，开始派<unk>今日<unk>的文化基础。12世纪后的<unk>年间，日本由<unk>阶级创建的<unk>幕府及军事<unk>实际<unk>，期间包括了政治<unk>的南北朝与战国时代。在时代间，其儒家思想维持，部份制度则大多集中在二代的终极的发展\n",
      "[0.15096 0.12551 0.11926] 0.0030820728\n",
      "传说日本于公元前<unk>年2月11日建国，在公元4世纪出现<unk>统一政权，并于<unk><unk>确立了天皇的<unk>体制。至平安时代结束前，日本透过文字、宗教、艺术、政治制度等<unk>文化引进的事物，开始派<unk>今日<unk>的文化基础。12世纪后的<unk>年间，日本由<unk>阶级创建的<unk>幕府及军事<unk>实际<unk>，期间包括了政治<unk>的南北朝与战国时代。在时代间，其儒家思想维持，部份制度则大多集中在二代的终极的发展层面\n",
      "[0.44164 0.322   0.07319] 0.3219986\n",
      "传说日本于公元前<unk>年2月11日建国，在公元4世纪出现<unk>统一政权，并于<unk><unk>确立了天皇的<unk>体制。至平安时代结束前，日本透过文字、宗教、艺术、政治制度等<unk>文化引进的事物，开始派<unk>今日<unk>的文化基础。12世纪后的<unk>年间，日本由<unk>阶级创建的<unk>幕府及军事<unk>实际<unk>，期间包括了政治<unk>的南北朝与战国时代。在时代间，其儒家思想维持，部份制度则大多集中在二代的终极的发展层面，\n"
     ]
    }
   ],
   "source": [
    "generate_text(get_tokens(\"传说日本于公元前660年2月11日建国，在公元4世纪出现首个统一政权，并于大化改新中确立了天皇的中央集权体制\"\n",
    "                         \"。至平安时代结束前，日本透过文字、宗教、艺术、政治制度等从汉文化引进的事物，开始派生出今日为人所知的文化基\"\n",
    "                         \"础。12世纪后的六百年间，日本由武家阶级创建的数个幕府及军事强人政权实际掌权，期间包括了政治纷乱的南北朝与\"\n",
    "                         \"战国\"))           "
   ]
  },
  {
   "cell_type": "code",
   "execution_count": 33,
   "metadata": {},
   "outputs": [
    {
     "name": "stdout",
     "output_type": "stream",
     "text": [
      "[0.08317 0.05693 0.04758] 0.004504886\n",
      "<unk>政府以为<unk>关税<unk>中国<unk>，这种策略肯定会<unk>。如果就业和财富可以\n",
      "[0.1324  0.05004 0.03055] 0.0021702298\n",
      "<unk>政府以为<unk>关税<unk>中国<unk>，这种策略肯定会<unk>。如果就业和财富可以恢复\n",
      "[0.45828 0.06068 0.02827] 0.45827514\n",
      "<unk>政府以为<unk>关税<unk>中国<unk>，这种策略肯定会<unk>。如果就业和财富可以恢复，\n",
      "[0.15087 0.11884 0.09988] 0.007546414\n",
      "<unk>政府以为<unk>关税<unk>中国<unk>，这种策略肯定会<unk>。如果就业和财富可以恢复，便\n",
      "[0.30792 0.10251 0.08843] 0.012547994\n",
      "<unk>政府以为<unk>关税<unk>中国<unk>，这种策略肯定会<unk>。如果就业和财富可以恢复，便必须\n",
      "[0.09213 0.06843 0.02573] 0.0015600664\n",
      "<unk>政府以为<unk>关税<unk>中国<unk>，这种策略肯定会<unk>。如果就业和财富可以恢复，便必须负担\n",
      "[0.23648 0.02804 0.01752] 0.0001326642\n",
      "<unk>政府以为<unk>关税<unk>中国<unk>，这种策略肯定会<unk>。如果就业和财富可以恢复，便必须负担取得\n",
      "[0.25268 0.02982 0.02549] 0.0027797874\n",
      "<unk>政府以为<unk>关税<unk>中国<unk>，这种策略肯定会<unk>。如果就业和财富可以恢复，便必须负担取得钱\n",
      "[0.21462 0.15082 0.13934] 0.13933995\n",
      "<unk>政府以为<unk>关税<unk>中国<unk>，这种策略肯定会<unk>。如果就业和财富可以恢复，便必须负担取得钱的\n",
      "[0.16882 0.16278 0.02337] 0.0010931134\n",
      "<unk>政府以为<unk>关税<unk>中国<unk>，这种策略肯定会<unk>。如果就业和财富可以恢复，便必须负担取得钱的人员\n",
      "[0.28633 0.16715 0.05914] 0.0018380475\n",
      "<unk>政府以为<unk>关税<unk>中国<unk>，这种策略肯定会<unk>。如果就业和财富可以恢复，便必须负担取得钱的人员费用\n",
      "[0.45349 0.2653  0.03359] 0.45349103\n",
      "<unk>政府以为<unk>关税<unk>中国<unk>，这种策略肯定会<unk>。如果就业和财富可以恢复，便必须负担取得钱的人员费用。\n",
      "[0.16961 0.14066 0.03546] 0.14066409\n",
      "<unk>政府以为<unk>关税<unk>中国<unk>，这种策略肯定会<unk>。如果就业和财富可以恢复，便必须负担取得钱的人员费用。\n",
      "[0.41607 0.04034 0.03178] 0.0025492979\n",
      "<unk>政府以为<unk>关税<unk>中国<unk>，这种策略肯定会<unk>。如果就业和财富可以恢复，便必须负担取得钱的人员费用。日本\n",
      "[0.23393 0.04435 0.02474] 0.0011202465\n",
      "<unk>政府以为<unk>关税<unk>中国<unk>，这种策略肯定会<unk>。如果就业和财富可以恢复，便必须负担取得钱的人员费用。日本国际\n",
      "[0.26165 0.11296 0.04173] 0.00039816368\n",
      "<unk>政府以为<unk>关税<unk>中国<unk>，这种策略肯定会<unk>。如果就业和财富可以恢复，便必须负担取得钱的人员费用。日本国际军队\n",
      "[0.12731 0.08957 0.06762] 0.005305008\n",
      "<unk>政府以为<unk>关税<unk>中国<unk>，这种策略肯定会<unk>。如果就业和财富可以恢复，便必须负担取得钱的人员费用。日本国际军队由\n",
      "[0.20488 0.16015 0.05891] 0.20488188\n",
      "<unk>政府以为<unk>关税<unk>中国<unk>，这种策略肯定会<unk>。如果就业和财富可以恢复，便必须负担取得钱的人员费用。日本国际军队由日本\n",
      "[0.19071 0.14787 0.03934] 4.006129e-05\n",
      "<unk>政府以为<unk>关税<unk>中国<unk>，这种策略肯定会<unk>。如果就业和财富可以恢复，便必须负担取得钱的人员费用。日本国际军队由日本法规\n",
      "[0.06453 0.06387 0.03804] 0.006703935\n",
      "<unk>政府以为<unk>关税<unk>中国<unk>，这种策略肯定会<unk>。如果就业和财富可以恢复，便必须负担取得钱的人员费用。日本国际军队由日本法规授权\n",
      "[0.44842 0.05991 0.04933] 0.44842425\n",
      "<unk>政府以为<unk>关税<unk>中国<unk>，这种策略肯定会<unk>。如果就业和财富可以恢复，便必须负担取得钱的人员费用。日本国际军队由日本法规授权，\n",
      "[0.10589 0.0752  0.05428] 0.054278873\n",
      "<unk>政府以为<unk>关税<unk>中国<unk>，这种策略肯定会<unk>。如果就业和财富可以恢复，便必须负担取得钱的人员费用。日本国际军队由日本法规授权，在\n",
      "[0.19906 0.09029 0.03074] 6.46121e-05\n",
      "<unk>政府以为<unk>关税<unk>中国<unk>，这种策略肯定会<unk>。如果就业和财富可以恢复，便必须负担取得钱的人员费用。日本国际军队由日本法规授权，在公众\n",
      "[0.51343 0.06375 0.05873] 6.2126214e-06\n",
      "<unk>政府以为<unk>关税<unk>中国<unk>，这种策略肯定会<unk>。如果就业和财富可以恢复，便必须负担取得钱的人员费用。日本国际军队由日本法规授权，在公众狩猎\n",
      "[0.12458 0.09599 0.0692 ] 0.124579035\n",
      "<unk>政府以为<unk>关税<unk>中国<unk>，这种策略肯定会<unk>。如果就业和财富可以恢复，便必须负担取得钱的人员费用。日本国际军队由日本法规授权，在公众狩猎的\n"
     ]
    }
   ],
   "source": [
    "generate_text(get_tokens(\"特朗普政府以为加征关税会令中国屈服，这种策略肯定会适得其反。如果就业和财富\"))"
   ]
  },
  {
   "cell_type": "code",
   "execution_count": 34,
   "metadata": {},
   "outputs": [
    {
     "name": "stdout",
     "output_type": "stream",
     "text": [
      "[0.5253  0.27479 0.05146] 0.5253021\n",
      "香港有半数<unk>在<unk>，如今这里意外成为<unk>上备受欢迎的拍照地。\n",
      "[0.31652 0.14108 0.05853] 0.006904077\n",
      "香港有半数<unk>在<unk>，如今这里意外成为<unk>上备受欢迎的拍照地。但\n",
      "[0.15381 0.14655 0.07896] 0.00067829207\n",
      "香港有半数<unk>在<unk>，如今这里意外成为<unk>上备受欢迎的拍照地。但一般\n",
      "[0.12711 0.11597 0.10297] 0.11597031\n",
      "香港有半数<unk>在<unk>，如今这里意外成为<unk>上备受欢迎的拍照地。但一般人\n",
      "[0.1412  0.08507 0.07054] 0.0014257208\n",
      "香港有半数<unk>在<unk>，如今这里意外成为<unk>上备受欢迎的拍照地。但一般人看见\n",
      "[0.35652 0.11561 0.03355] 0.021768028\n",
      "香港有半数<unk>在<unk>，如今这里意外成为<unk>上备受欢迎的拍照地。但一般人看见这\n",
      "[0.16062 0.0694  0.04045] 0.039313\n",
      "香港有半数<unk>在<unk>，如今这里意外成为<unk>上备受欢迎的拍照地。但一般人看见这两\n",
      "[0.29843 0.14765 0.06141] 0.013400352\n",
      "香港有半数<unk>在<unk>，如今这里意外成为<unk>上备受欢迎的拍照地。但一般人看见这两点\n",
      "[0.24933 0.17813 0.08421] 0.0080643\n",
      "香港有半数<unk>在<unk>，如今这里意外成为<unk>上备受欢迎的拍照地。但一般人看见这两点也\n",
      "[0.1242  0.10041 0.07822] 0.00015339315\n",
      "香港有半数<unk>在<unk>，如今这里意外成为<unk>上备受欢迎的拍照地。但一般人看见这两点也「\n",
      "[0.22658 0.11595 0.03342] 0.00021343908\n",
      "香港有半数<unk>在<unk>，如今这里意外成为<unk>上备受欢迎的拍照地。但一般人看见这两点也「禁止\n",
      "[0.39482 0.11543 0.02479] 0.11543307\n",
      "香港有半数<unk>在<unk>，如今这里意外成为<unk>上备受欢迎的拍照地。但一般人看见这两点也「禁止」\n",
      "[0.36057 0.34111 0.03265] 0.3411114\n",
      "香港有半数<unk>在<unk>，如今这里意外成为<unk>上备受欢迎的拍照地。但一般人看见这两点也「禁止」。\n",
      "[0.24867 0.14941 0.04933] 0.24867071\n",
      "香港有半数<unk>在<unk>，如今这里意外成为<unk>上备受欢迎的拍照地。但一般人看见这两点也「禁止」。\n",
      "[0.39149 0.04278 0.03266] 0.042782474\n",
      "香港有半数<unk>在<unk>，如今这里意外成为<unk>上备受欢迎的拍照地。但一般人看见这两点也「禁止」。在\n",
      "[0.22275 0.02604 0.01497] 0.00022143689\n",
      "香港有半数<unk>在<unk>，如今这里意外成为<unk>上备受欢迎的拍照地。但一般人看见这两点也「禁止」。在大西洋\n",
      "[0.13262 0.07932 0.05072] 0.008279591\n",
      "香港有半数<unk>在<unk>，如今这里意外成为<unk>上备受欢迎的拍照地。但一般人看见这两点也「禁止」。在大西洋中\n",
      "[0.67671 0.08212 0.0456 ] 0.08212496\n",
      "香港有半数<unk>在<unk>，如今这里意外成为<unk>上备受欢迎的拍照地。但一般人看见这两点也「禁止」。在大西洋中的\n",
      "[0.36298 0.02584 0.01681] 0.025841655\n",
      "香港有半数<unk>在<unk>，如今这里意外成为<unk>上备受欢迎的拍照地。但一般人看见这两点也「禁止」。在大西洋中的一\n",
      "[0.16682 0.07733 0.05894] 0.058939304\n",
      "香港有半数<unk>在<unk>，如今这里意外成为<unk>上备受欢迎的拍照地。但一般人看见这两点也「禁止」。在大西洋中的一段\n",
      "[0.34164 0.17755 0.02557] 9.969449e-06\n",
      "香港有半数<unk>在<unk>，如今这里意外成为<unk>上备受欢迎的拍照地。但一般人看见这两点也「禁止」。在大西洋中的一段克罗地亚\n",
      "[0.1801  0.10746 0.04489] 0.00040497878\n",
      "香港有半数<unk>在<unk>，如今这里意外成为<unk>上备受欢迎的拍照地。但一般人看见这两点也「禁止」。在大西洋中的一段克罗地亚可能\n",
      "[0.42263 0.10144 0.02903] 6.240671e-05\n",
      "香港有半数<unk>在<unk>，如今这里意外成为<unk>上备受欢迎的拍照地。但一般人看见这两点也「禁止」。在大西洋中的一段克罗地亚可能南\n",
      "[0.10726 0.1061  0.04838] 0.0014456308\n",
      "香港有半数<unk>在<unk>，如今这里意外成为<unk>上备受欢迎的拍照地。但一般人看见这两点也「禁止」。在大西洋中的一段克罗地亚可能南日本\n",
      "[0.11253 0.09332 0.07603] 0.093317\n",
      "香港有半数<unk>在<unk>，如今这里意外成为<unk>上备受欢迎的拍照地。但一般人看见这两点也「禁止」。在大西洋中的一段克罗地亚可能南日本的\n"
     ]
    }
   ],
   "source": [
    "generate_text(get_tokens(\"香港有半数人住在公屋，如今这里意外成为Instagram上备受欢迎的拍照地\"))"
   ]
  },
  {
   "cell_type": "code",
   "execution_count": 35,
   "metadata": {},
   "outputs": [
    {
     "name": "stdout",
     "output_type": "stream",
     "text": [
      "[0.46199 0.37074 0.02048] 0.46199197\n",
      "香港有半数<unk>在<unk>，如今这里意外成为<unk>上备受欢迎的拍照地，<unk>一个与<unk>中的香港不同的景象。\n",
      "[0.2495  0.1782  0.05617] 0.056169502\n",
      "香港有半数<unk>在<unk>，如今这里意外成为<unk>上备受欢迎的拍照地，<unk>一个与<unk>中的香港不同的景象。在\n",
      "[0.26122 0.11522 0.01821] 0.11522156\n",
      "香港有半数<unk>在<unk>，如今这里意外成为<unk>上备受欢迎的拍照地，<unk>一个与<unk>中的香港不同的景象。在香港\n",
      "[0.31634 0.14683 0.08309] 0.3163402\n",
      "香港有半数<unk>在<unk>，如今这里意外成为<unk>上备受欢迎的拍照地，<unk>一个与<unk>中的香港不同的景象。在香港，\n",
      "[0.30362 0.07326 0.02613] 0.073257826\n",
      "香港有半数<unk>在<unk>，如今这里意外成为<unk>上备受欢迎的拍照地，<unk>一个与<unk>中的香港不同的景象。在香港，香港\n",
      "[0.22289 0.11143 0.03246] 0.0052798823\n",
      "香港有半数<unk>在<unk>，如今这里意外成为<unk>上备受欢迎的拍照地，<unk>一个与<unk>中的香港不同的景象。在香港，香港为\n",
      "[0.22227 0.10946 0.03232] 0.00038506193\n",
      "香港有半数<unk>在<unk>，如今这里意外成为<unk>上备受欢迎的拍照地，<unk>一个与<unk>中的香港不同的景象。在香港，香港为指\n",
      "[0.2845  0.16465 0.02956] 0.28449965\n",
      "香港有半数<unk>在<unk>，如今这里意外成为<unk>上备受欢迎的拍照地，<unk>一个与<unk>中的香港不同的景象。在香港，香港为指香港\n",
      "[0.24764 0.13608 0.02868] 7.584477e-05\n",
      "香港有半数<unk>在<unk>，如今这里意外成为<unk>上备受欢迎的拍照地，<unk>一个与<unk>中的香港不同的景象。在香港，香港为指香港多次\n",
      "[0.15239 0.05017 0.04382] 0.00015504268\n",
      "香港有半数<unk>在<unk>，如今这里意外成为<unk>上备受欢迎的拍照地，<unk>一个与<unk>中的香港不同的景象。在香港，香港为指香港多次位于\n",
      "[0.34487 0.20704 0.02801] 0.00016829614\n",
      "香港有半数<unk>在<unk>，如今这里意外成为<unk>上备受欢迎的拍照地，<unk>一个与<unk>中的香港不同的景象。在香港，香港为指香港多次位于深\n",
      "[0.38835 0.25541 0.13591] 0.016166914\n",
      "香港有半数<unk>在<unk>，如今这里意外成为<unk>上备受欢迎的拍照地，<unk>一个与<unk>中的香港不同的景象。在香港，香港为指香港多次位于深坑\n",
      "[0.18412 0.11289 0.09639] 0.09638923\n",
      "香港有半数<unk>在<unk>，如今这里意外成为<unk>上备受欢迎的拍照地，<unk>一个与<unk>中的香港不同的景象。在香港，香港为指香港多次位于深坑的\n",
      "[0.46277 0.02926 0.02535] 2.0736474e-05\n",
      "香港有半数<unk>在<unk>，如今这里意外成为<unk>上备受欢迎的拍照地，<unk>一个与<unk>中的香港不同的景象。在香港，香港为指香港多次位于深坑的下部\n",
      "[0.55741 0.0739  0.04355] 0.5574056\n",
      "香港有半数<unk>在<unk>，如今这里意外成为<unk>上备受欢迎的拍照地，<unk>一个与<unk>中的香港不同的景象。在香港，香港为指香港多次位于深坑的下部，\n",
      "[0.09188 0.06651 0.04027] 0.0033793533\n",
      "香港有半数<unk>在<unk>，如今这里意外成为<unk>上备受欢迎的拍照地，<unk>一个与<unk>中的香港不同的景象。在香港，香港为指香港多次位于深坑的下部，除了\n",
      "[0.23079 0.04594 0.03561] 0.00057070074\n",
      "香港有半数<unk>在<unk>，如今这里意外成为<unk>上备受欢迎的拍照地，<unk>一个与<unk>中的香港不同的景象。在香港，香港为指香港多次位于深坑的下部，除了有关\n",
      "[0.28035 0.10338 0.011  ] 0.0052099847\n",
      "香港有半数<unk>在<unk>，如今这里意外成为<unk>上备受欢迎的拍照地，<unk>一个与<unk>中的香港不同的景象。在香港，香港为指香港多次位于深坑的下部，除了有关的\n",
      "[0.31777 0.03472 0.01579] 0.00053921837\n",
      "香港有半数<unk>在<unk>，如今这里意外成为<unk>上备受欢迎的拍照地，<unk>一个与<unk>中的香港不同的景象。在香港，香港为指香港多次位于深坑的下部，除了有关的遗迹\n",
      "[0.41481 0.0933  0.09242] 0.41480857\n",
      "香港有半数<unk>在<unk>，如今这里意外成为<unk>上备受欢迎的拍照地，<unk>一个与<unk>中的香港不同的景象。在香港，香港为指香港多次位于深坑的下部，除了有关的遗迹外\n",
      "[0.936   0.01275 0.00687] 0.0042009447\n",
      "香港有半数<unk>在<unk>，如今这里意外成为<unk>上备受欢迎的拍照地，<unk>一个与<unk>中的香港不同的景象。在香港，香港为指香港多次位于深坑的下部，除了有关的遗迹外还\n",
      "[0.23213 0.10912 0.05602] 0.232129\n",
      "香港有半数<unk>在<unk>，如今这里意外成为<unk>上备受欢迎的拍照地，<unk>一个与<unk>中的香港不同的景象。在香港，香港为指香港多次位于深坑的下部，除了有关的遗迹外还包括\n",
      "[0.23429 0.06244 0.06089] 0.0003662943\n",
      "香港有半数<unk>在<unk>，如今这里意外成为<unk>上备受欢迎的拍照地，<unk>一个与<unk>中的香港不同的景象。在香港，香港为指香港多次位于深坑的下部，除了有关的遗迹外还包括海上\n",
      "[0.38668 0.08132 0.06086] 0.06085976\n",
      "香港有半数<unk>在<unk>，如今这里意外成为<unk>上备受欢迎的拍照地，<unk>一个与<unk>中的香港不同的景象。在香港，香港为指香港多次位于深坑的下部，除了有关的遗迹外还包括海上及\n",
      "[0.30201 0.05976 0.02096] 6.848497e-05\n",
      "香港有半数<unk>在<unk>，如今这里意外成为<unk>上备受欢迎的拍照地，<unk>一个与<unk>中的香港不同的景象。在香港，香港为指香港多次位于深坑的下部，除了有关的遗迹外还包括海上及跑道\n"
     ]
    }
   ],
   "source": [
    "generate_text(get_tokens(\"香港有半数人住在公屋，如今这里意外成为Instagram上备受欢迎的拍照地，\"\n",
    "                         \"呈现出一个与天际线中的香港不同的景象\"))"
   ]
  },
  {
   "cell_type": "code",
   "execution_count": 36,
   "metadata": {},
   "outputs": [
    {
     "name": "stdout",
     "output_type": "stream",
     "text": [
      "[0.18854 0.18043 0.1193 ] 0.00017764299\n",
      "香港有半数<unk>在<unk>，如今这里意外成为<unk>地点\n",
      "[0.4518  0.30841 0.06451] 0.3084124\n",
      "香港有半数<unk>在<unk>，如今这里意外成为<unk>地点，\n",
      "[0.11254 0.05183 0.03298] 0.0025782844\n",
      "香港有半数<unk>在<unk>，如今这里意外成为<unk>地点，此\n",
      "[0.14318 0.07343 0.04265] 0.011657155\n",
      "香港有半数<unk>在<unk>，如今这里意外成为<unk>地点，此站\n",
      "[0.09615 0.0864  0.0623 ] 0.0006323335\n",
      "香港有半数<unk>在<unk>，如今这里意外成为<unk>地点，此站只能\n",
      "[0.15398 0.09164 0.0288 ] 0.02033934\n",
      "香港有半数<unk>在<unk>，如今这里意外成为<unk>地点，此站只能为\n",
      "[0.36057 0.0214  0.01759] 0.005382299\n",
      "香港有半数<unk>在<unk>，如今这里意外成为<unk>地点，此站只能为此\n",
      "[0.17442 0.03621 0.02632] 9.120959e-05\n",
      "香港有半数<unk>在<unk>，如今这里意外成为<unk>地点，此站只能为此风\n",
      "[0.19244 0.09224 0.05171] 0.00010366086\n",
      "香港有半数<unk>在<unk>，如今这里意外成为<unk>地点，此站只能为此风永远\n",
      "[0.25523 0.04771 0.02964] 0.0022961285\n",
      "香港有半数<unk>在<unk>，如今这里意外成为<unk>地点，此站只能为此风永远走\n",
      "[0.13782 0.08484 0.06338] 0.03862617\n",
      "香港有半数<unk>在<unk>，如今这里意外成为<unk>地点，此站只能为此风永远走，\n",
      "[0.08845 0.06708 0.04459] 0.024126125\n",
      "香港有半数<unk>在<unk>，如今这里意外成为<unk>地点，此站只能为此风永远走，也\n",
      "[0.19606 0.10507 0.08205] 0.10507414\n",
      "香港有半数<unk>在<unk>，如今这里意外成为<unk>地点，此站只能为此风永远走，也是\n",
      "[0.21647 0.04078 0.03578] 0.00012127254\n",
      "香港有半数<unk>在<unk>，如今这里意外成为<unk>地点，此站只能为此风永远走，也是私人\n",
      "[0.34105 0.0696  0.0191 ] 0.06960363\n",
      "香港有半数<unk>在<unk>，如今这里意外成为<unk>地点，此站只能为此风永远走，也是私人的\n",
      "[0.4211  0.01447 0.01024] 1.8679442e-05\n",
      "香港有半数<unk>在<unk>，如今这里意外成为<unk>地点，此站只能为此风永远走，也是私人的捐赠\n",
      "[0.53248 0.17307 0.0462 ] 0.5324784\n",
      "香港有半数<unk>在<unk>，如今这里意外成为<unk>地点，此站只能为此风永远走，也是私人的捐赠。\n",
      "[0.33299 0.13754 0.03864] 0.00012935304\n",
      "香港有半数<unk>在<unk>，如今这里意外成为<unk>地点，此站只能为此风永远走，也是私人的捐赠。等\n",
      "[0.19328 0.14082 0.033  ] 0.032997157\n",
      "香港有半数<unk>在<unk>，如今这里意外成为<unk>地点，此站只能为此风永远走，也是私人的捐赠。等，\n",
      "[0.20216 0.05204 0.02286] 0.0011566672\n",
      "香港有半数<unk>在<unk>，如今这里意外成为<unk>地点，此站只能为此风永远走，也是私人的捐赠。等，没有\n",
      "[0.19772 0.07728 0.04385] 3.771906e-05\n",
      "香港有半数<unk>在<unk>，如今这里意外成为<unk>地点，此站只能为此风永远走，也是私人的捐赠。等，没有思想\n",
      "[0.11183 0.08182 0.07438] 0.07437549\n",
      "香港有半数<unk>在<unk>，如今这里意外成为<unk>地点，此站只能为此风永远走，也是私人的捐赠。等，没有思想上\n",
      "[0.45739 0.05197 0.0314 ] 0.4573926\n",
      "香港有半数<unk>在<unk>，如今这里意外成为<unk>地点，此站只能为此风永远走，也是私人的捐赠。等，没有思想上的\n",
      "[0.30447 0.03927 0.02236] 0.022358295\n",
      "香港有半数<unk>在<unk>，如今这里意外成为<unk>地点，此站只能为此风永远走，也是私人的捐赠。等，没有思想上的影响\n",
      "[0.57506 0.32386 0.00915] 0.32385942\n",
      "香港有半数<unk>在<unk>，如今这里意外成为<unk>地点，此站只能为此风永远走，也是私人的捐赠。等，没有思想上的影响。\n"
     ]
    }
   ],
   "source": [
    "generate_text(get_tokens(\"香港有半数人住在公屋，如今这里意外成为Insta\"))"
   ]
  },
  {
   "cell_type": "code",
   "execution_count": null,
   "metadata": {},
   "outputs": [],
   "source": []
  },
  {
   "cell_type": "code",
   "execution_count": null,
   "metadata": {},
   "outputs": [],
   "source": []
  }
 ],
 "metadata": {
  "kernelspec": {
   "display_name": "Python 3",
   "language": "python",
   "name": "python3"
  },
  "language_info": {
   "codemirror_mode": {
    "name": "ipython",
    "version": 3
   },
   "file_extension": ".py",
   "mimetype": "text/x-python",
   "name": "python",
   "nbconvert_exporter": "python",
   "pygments_lexer": "ipython3",
   "version": "3.6.6"
  }
 },
 "nbformat": 4,
 "nbformat_minor": 2
}
