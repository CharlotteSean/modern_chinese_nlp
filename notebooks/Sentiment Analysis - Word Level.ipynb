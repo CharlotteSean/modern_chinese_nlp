{
 "cells": [
  {
   "cell_type": "code",
   "execution_count": 1,
   "metadata": {},
   "outputs": [],
   "source": [
    "import sys\n",
    "sys.path.append(\"../\")"
   ]
  },
  {
   "cell_type": "code",
   "execution_count": 2,
   "metadata": {},
   "outputs": [
    {
     "name": "stdout",
     "output_type": "stream",
     "text": [
      "torch 0.4.1\n",
      "pandas 0.22.0\n",
      "numpy 1.15.0\n",
      "\n",
      "compiler   : GCC 7.2.0\n",
      "system     : Linux\n",
      "release    : 4.10.0-32-generic\n",
      "machine    : x86_64\n",
      "processor  : x86_64\n",
      "CPU cores  : 8\n",
      "interpreter: 64bit\n"
     ]
    },
    {
     "name": "stderr",
     "output_type": "stream",
     "text": [
      "/opt/conda/lib/python3.6/importlib/_bootstrap.py:219: RuntimeWarning: numpy.dtype size changed, may indicate binary incompatibility. Expected 96, got 88\n",
      "  return f(*args, **kwds)\n",
      "/opt/conda/lib/python3.6/importlib/_bootstrap.py:219: RuntimeWarning: numpy.dtype size changed, may indicate binary incompatibility. Expected 96, got 88\n",
      "  return f(*args, **kwds)\n"
     ]
    }
   ],
   "source": [
    "%load_ext watermark\n",
    "%watermark -ptorch,pandas,numpy -m"
   ]
  },
  {
   "cell_type": "code",
   "execution_count": 3,
   "metadata": {},
   "outputs": [
    {
     "name": "stderr",
     "output_type": "stream",
     "text": [
      "/opt/conda/lib/python3.6/site-packages/sklearn/ensemble/weight_boosting.py:29: DeprecationWarning: numpy.core.umath_tests is an internal NumPy module and should not be imported. It will be removed in a future NumPy release.\n",
      "  from numpy.core.umath_tests import inner1d\n",
      "/opt/conda/lib/python3.6/importlib/_bootstrap.py:219: RuntimeWarning: numpy.dtype size changed, may indicate binary incompatibility. Expected 96, got 88\n",
      "  return f(*args, **kwds)\n",
      "/opt/conda/lib/python3.6/importlib/_bootstrap.py:219: RuntimeWarning: numpy.ufunc size changed, may indicate binary incompatibility. Expected 192, got 176\n",
      "  return f(*args, **kwds)\n"
     ]
    }
   ],
   "source": [
    "from pathlib import Path\n",
    "import itertools\n",
    "from collections import Counter\n",
    "from functools import partial, reduce\n",
    "\n",
    "import joblib\n",
    "import pandas as pd\n",
    "import numpy as np\n",
    "\n",
    "from sklearn.model_selection import StratifiedShuffleSplit\n",
    "from fastai.text import (\n",
    "    TextDataset, SortishSampler, SortSampler, DataLoader, ModelData, get_rnn_classifier, seq2seq_reg, \n",
    "    RNN_Learner, TextModel, to_gpu, LanguageModelLoader, LanguageModelData\n",
    ")\n",
    "from fastai.core import T\n",
    "from fastai.rnn_reg import EmbeddingDropout\n",
    "from fastai.text import accuracy\n",
    "from torch.optim import Adam\n",
    "import torch.nn as nn\n",
    "import torch\n",
    "import torch.nn.functional as F\n",
    "from sklearn.metrics import confusion_matrix\n",
    "import matplotlib.pyplot as plt\n",
    "from tqdm import tqdm_notebook\n",
    "\n",
    "%matplotlib inline"
   ]
  },
  {
   "cell_type": "code",
   "execution_count": 4,
   "metadata": {},
   "outputs": [],
   "source": [
    "path = Path(\"../data/cache/lm_word_douban/\")\n",
    "path.mkdir(parents=True, exist_ok=True)"
   ]
  },
  {
   "cell_type": "code",
   "execution_count": 5,
   "metadata": {},
   "outputs": [],
   "source": [
    "def plot_confusion_matrix(cm, classes,\n",
    "                          normalize=False,\n",
    "                          title='Confusion matrix',\n",
    "                          cmap=plt.cm.Blues):\n",
    "    \"\"\"\n",
    "    This function prints and plots the confusion matrix.\n",
    "    Normalization can be applied by setting `normalize=True`.\n",
    "    \"\"\"\n",
    "    if normalize:\n",
    "        cm = cm.astype('float') / cm.sum(axis=1)[:, np.newaxis]\n",
    "        print(\"Normalized confusion matrix\")\n",
    "    else:\n",
    "        print('Confusion matrix, without normalization')\n",
    "\n",
    "    print(cm)\n",
    "\n",
    "    plt.imshow(cm, interpolation='nearest', cmap=cmap)\n",
    "    plt.title(title)\n",
    "    plt.colorbar()\n",
    "    tick_marks = np.arange(len(classes))\n",
    "    plt.xticks(tick_marks, classes, rotation=45)\n",
    "    plt.yticks(tick_marks, classes)\n",
    "\n",
    "    fmt = '.2f' if normalize else 'd'\n",
    "    thresh = cm.max() / 2.\n",
    "    for i, j in itertools.product(range(cm.shape[0]), range(cm.shape[1])):\n",
    "        plt.text(j, i, format(cm[i, j], fmt),\n",
    "                 horizontalalignment=\"center\",\n",
    "                 color=\"white\" if cm[i, j] > thresh else \"black\")\n",
    "\n",
    "    plt.tight_layout()\n",
    "    plt.ylabel('True label')\n",
    "    plt.xlabel('Predicted label')"
   ]
  },
  {
   "cell_type": "markdown",
   "metadata": {},
   "source": [
    "## Import And Tokenize Comments and Ratings"
   ]
  },
  {
   "cell_type": "code",
   "execution_count": 6,
   "metadata": {},
   "outputs": [],
   "source": [
    "UNK = 2\n",
    "BEG = 1\n",
    "MIN_FREQ_WORD = 200\n",
    "VOC_SIZE_WORD = 30000\n",
    "EMB_DIM = 300"
   ]
  },
  {
   "cell_type": "code",
   "execution_count": 7,
   "metadata": {},
   "outputs": [
    {
     "data": {
      "text/html": [
       "<div>\n",
       "<style scoped>\n",
       "    .dataframe tbody tr th:only-of-type {\n",
       "        vertical-align: middle;\n",
       "    }\n",
       "\n",
       "    .dataframe tbody tr th {\n",
       "        vertical-align: top;\n",
       "    }\n",
       "\n",
       "    .dataframe thead th {\n",
       "        text-align: right;\n",
       "    }\n",
       "</style>\n",
       "<table border=\"1\" class=\"dataframe\">\n",
       "  <thead>\n",
       "    <tr style=\"text-align: right;\">\n",
       "      <th></th>\n",
       "      <th>comment</th>\n",
       "      <th>rating</th>\n",
       "    </tr>\n",
       "  </thead>\n",
       "  <tbody>\n",
       "    <tr>\n",
       "      <th>0</th>\n",
       "      <td>别 拿 矫揉造作 的 资产阶级 情调 麻醉 中国 人民 ！</td>\n",
       "      <td>1</td>\n",
       "    </tr>\n",
       "    <tr>\n",
       "      <th>1</th>\n",
       "      <td>文青 们 向往 的 生活 ， 可是 生活 中 没有 了 喜怒哀乐 ， 没有 了 问题 与 冲...</td>\n",
       "      <td>2</td>\n",
       "    </tr>\n",
       "    <tr>\n",
       "      <th>2</th>\n",
       "      <td>自由 也许 在 大理 ， 生活 确实 在 别处 。</td>\n",
       "      <td>3</td>\n",
       "    </tr>\n",
       "    <tr>\n",
       "      <th>3</th>\n",
       "      <td>原来 八旬 是 小四 的 老公 ， 小 彩旗 的 爹 ， 杨丽萍 的 妹夫 。</td>\n",
       "      <td>3</td>\n",
       "    </tr>\n",
       "    <tr>\n",
       "      <th>4</th>\n",
       "      <td>关于 大理 的 蓝光 旅游 宣传片 。</td>\n",
       "      <td>3</td>\n",
       "    </tr>\n",
       "  </tbody>\n",
       "</table>\n",
       "</div>"
      ],
      "text/plain": [
       "                                             comment  rating\n",
       "0                      别 拿 矫揉造作 的 资产阶级 情调 麻醉 中国 人民 ！       1\n",
       "1  文青 们 向往 的 生活 ， 可是 生活 中 没有 了 喜怒哀乐 ， 没有 了 问题 与 冲...       2\n",
       "2                          自由 也许 在 大理 ， 生活 确实 在 别处 。       3\n",
       "3            原来 八旬 是 小四 的 老公 ， 小 彩旗 的 爹 ， 杨丽萍 的 妹夫 。       3\n",
       "4                                关于 大理 的 蓝光 旅游 宣传片 。       3"
      ]
     },
     "execution_count": 7,
     "metadata": {},
     "output_type": "execute_result"
    }
   ],
   "source": [
    "mapping_orig = joblib.load(\"../data/mapping_word.pkl\")\n",
    "df_ratings = pd.read_csv(\"../data/ratings_word.csv\")\n",
    "df_ratings.head()"
   ]
  },
  {
   "cell_type": "markdown",
   "metadata": {},
   "source": [
    "### Refit the Vocabulary"
   ]
  },
  {
   "cell_type": "code",
   "execution_count": 8,
   "metadata": {},
   "outputs": [
    {
     "data": {
      "text/plain": [
       "0             [别, 拿, 矫揉造作, 的, 资产阶级, 情调, 麻醉, 中国, 人民, ！]\n",
       "1    [文青, 们, 向往, 的, 生活, ，, 可是, 生活, 中, 没有, 了, 喜怒哀乐, ...\n",
       "2                 [自由, 也许, 在, 大理, ，, 生活, 确实, 在, 别处, 。]\n",
       "3    [原来, 八旬, 是, 小四, 的, 老公, ，, 小, 彩旗, 的, 爹, ，, 杨丽萍,...\n",
       "4                          [关于, 大理, 的, 蓝光, 旅游, 宣传片, 。]\n",
       "5                                              [嫉妒, 啊]\n",
       "6                                             [oh, 大理]\n",
       "7       [虽然, 完全, 没有, 拍, 出, 大理, 的, 美, ，, 还是, 极其, 向往, 。]\n",
       "8                         [大理, ，, 大理国, ，, 大理, 想, 国, 。]\n",
       "9    [把, 大理, 炒, 热, 了, 可是, 人民, 却, 没有, 以前, 那样, 热爱, 大理...\n",
       "Name: comment, dtype: object"
      ]
     },
     "execution_count": 8,
     "metadata": {},
     "output_type": "execute_result"
    }
   ],
   "source": [
    "df_ratings.iloc[:10][\"comment\"].str.lower().str.split(\" \")"
   ]
  },
  {
   "cell_type": "code",
   "execution_count": 9,
   "metadata": {},
   "outputs": [
    {
     "data": {
      "text/plain": [
       "[('，', 1389819),\n",
       " ('的', 1346692),\n",
       " ('。', 862231),\n",
       " ('是', 419776),\n",
       " ('了', 411745),\n",
       " ('不', 265731),\n",
       " ('看', 201927),\n",
       " ('一', 184012),\n",
       " ('！', 180414),\n",
       " ('我', 177160)]"
      ]
     },
     "execution_count": 9,
     "metadata": {},
     "output_type": "execute_result"
    }
   ],
   "source": [
    "cnt = Counter(itertools.chain.from_iterable(df_ratings[\"comment\"].str.lower().str.split(\" \")))\n",
    "cnt.most_common(10)"
   ]
  },
  {
   "cell_type": "code",
   "execution_count": 10,
   "metadata": {},
   "outputs": [
    {
     "data": {
      "text/plain": [
       "[('大伙儿', 21),\n",
       " ('奖牌', 21),\n",
       " ('怀才不遇', 21),\n",
       " ('青红', 21),\n",
       " ('体育运动', 21),\n",
       " ('云霄', 21),\n",
       " ('佯装', 21),\n",
       " ('...3', 21),\n",
       " ('检', 21),\n",
       " ('懂么', 21)]"
      ]
     },
     "execution_count": 10,
     "metadata": {},
     "output_type": "execute_result"
    }
   ],
   "source": [
    "cnt.most_common(VOC_SIZE_WORD)[-10:]"
   ]
  },
  {
   "cell_type": "code",
   "execution_count": 76,
   "metadata": {},
   "outputs": [
    {
     "data": {
      "text/plain": [
       "6713"
      ]
     },
     "execution_count": 76,
     "metadata": {},
     "output_type": "execute_result"
    }
   ],
   "source": [
    "mapping = {\n",
    "    word: token + 3 for token, (word, freq) in enumerate(\n",
    "        cnt.most_common(VOC_SIZE_WORD))\n",
    "    if freq > MIN_FREQ_WORD\n",
    "}\n",
    "n_toks = len(mapping)\n",
    "itos = [\"pad\", \"BEG\", \"UNK\"] + [0] *  n_toks\n",
    "for k, v in mapping.items():\n",
    "    itos[v] = k\n",
    "n_toks = len(itos) + 1\n",
    "len(itos)"
   ]
  },
  {
   "cell_type": "code",
   "execution_count": 144,
   "metadata": {},
   "outputs": [
    {
     "data": {
      "text/plain": [
       "[('撞车', 6712),\n",
       " ('荡气回肠', 6711),\n",
       " ('跳脱', 6708),\n",
       " ('完成度', 6707),\n",
       " ('慌', 6706),\n",
       " ('孰', 6701),\n",
       " ('情色片', 6697),\n",
       " ('6.', 6695),\n",
       " ('膜拜', 6692),\n",
       " ('不可否认', 6691),\n",
       " ('尔冬', 6690),\n",
       " ('帕索里尼', 6689),\n",
       " ('浴室', 6688),\n",
       " ('华生', 6687),\n",
       " ('影坛', 6685),\n",
       " ('钢铁侠', 6684),\n",
       " ('政治片', 6682),\n",
       " ('少爷', 6681),\n",
       " ('戴安娜', 6680),\n",
       " ('落魄', 6678),\n",
       " ('霓虹', 6676),\n",
       " ('眼花缭乱', 6674),\n",
       " ('闷片', 6672),\n",
       " ('巴赫', 6671),\n",
       " ('拧', 6667),\n",
       " ('理所当然', 6666),\n",
       " ('凄凉', 6665),\n",
       " ('表象', 6662),\n",
       " ('坚信', 6661),\n",
       " ('硬生生', 6660),\n",
       " ('徘徊', 6658),\n",
       " ('力气', 6657),\n",
       " ('李政宰', 6656),\n",
       " ('吴君如', 6655),\n",
       " ('朱茵', 6654),\n",
       " ('梁咏琪', 6653),\n",
       " ('林熙蕾', 6652),\n",
       " ('骨', 6651),\n",
       " ('波兰斯基', 6650),\n",
       " ('分量', 6647),\n",
       " ('试试', 6645),\n",
       " ('贫民窟', 6644),\n",
       " ('老人家', 6643),\n",
       " ('满屏', 6642),\n",
       " ('来看', 6641),\n",
       " ('光鲜', 6639),\n",
       " ('跨度', 6637),\n",
       " ('挺烂', 6632),\n",
       " ('虐杀', 6631),\n",
       " ('难得一见', 6629)]"
      ]
     },
     "execution_count": 144,
     "metadata": {},
     "output_type": "execute_result"
    }
   ],
   "source": [
    "voc_diff = set(mapping.keys()) - set(mapping_orig.keys())\n",
    "sorted([(x, mapping[x]) for x in list(voc_diff)], key=lambda x: x[1], reverse=True)[:50]"
   ]
  },
  {
   "cell_type": "code",
   "execution_count": 12,
   "metadata": {},
   "outputs": [
    {
     "data": {
      "text/plain": [
       "['名声', '不符', '灵活', '慌', '完成度', '跳脱', '智利', '托', '荡气回肠', '撞车']"
      ]
     },
     "execution_count": 12,
     "metadata": {},
     "output_type": "execute_result"
    }
   ],
   "source": [
    "itos[-10:]"
   ]
  },
  {
   "cell_type": "markdown",
   "metadata": {},
   "source": [
    "### Tokenize"
   ]
  },
  {
   "cell_type": "code",
   "execution_count": 13,
   "metadata": {},
   "outputs": [],
   "source": [
    "sss = StratifiedShuffleSplit(n_splits=1, test_size=0.4, random_state=888)\n",
    "train_idx, test_idx = next(sss.split(df_ratings, df_ratings.rating))\n",
    "df_train = df_ratings.iloc[train_idx].copy()\n",
    "df_test = df_ratings.iloc[test_idx].copy()\n",
    "sss = StratifiedShuffleSplit(n_splits=1, test_size=0.5, random_state=888)\n",
    "val_idx, test_idx = next(sss.split(df_test, df_test.rating))\n",
    "df_val = df_test.iloc[val_idx].copy()\n",
    "df_test = df_test.iloc[test_idx].copy()\n",
    "del df_ratings"
   ]
  },
  {
   "cell_type": "code",
   "execution_count": 14,
   "metadata": {},
   "outputs": [
    {
     "data": {
      "text/plain": [
       "('老师 你 太 可爱', [607, 46, 25, 277])"
      ]
     },
     "execution_count": 14,
     "metadata": {},
     "output_type": "execute_result"
    }
   ],
   "source": [
    "df_test.iloc[1][\"comment\"],[mapping.get(x, UNK) for x in df_test.iloc[1][\"comment\"].split(\" \")]"
   ]
  },
  {
   "cell_type": "code",
   "execution_count": 15,
   "metadata": {},
   "outputs": [
    {
     "data": {
      "application/vnd.jupyter.widget-view+json": {
       "model_id": "29fa13a114cb44e78224983c70c097f9",
       "version_major": 2,
       "version_minor": 0
      },
      "text/plain": [
       "HBox(children=(IntProgress(value=0, max=528624), HTML(value='')))"
      ]
     },
     "metadata": {},
     "output_type": "display_data"
    },
    {
     "name": "stdout",
     "output_type": "stream",
     "text": [
      "\n"
     ]
    },
    {
     "data": {
      "application/vnd.jupyter.widget-view+json": {
       "model_id": "d7556f95625e41eaa3683ade866611d5",
       "version_major": 2,
       "version_minor": 0
      },
      "text/plain": [
       "HBox(children=(IntProgress(value=0, max=176208), HTML(value='')))"
      ]
     },
     "metadata": {},
     "output_type": "display_data"
    },
    {
     "name": "stdout",
     "output_type": "stream",
     "text": [
      "\n"
     ]
    },
    {
     "data": {
      "application/vnd.jupyter.widget-view+json": {
       "model_id": "cc7dac47e0734d4182e17d744f7b0f24",
       "version_major": 2,
       "version_minor": 0
      },
      "text/plain": [
       "HBox(children=(IntProgress(value=0, max=176209), HTML(value='')))"
      ]
     },
     "metadata": {},
     "output_type": "display_data"
    },
    {
     "name": "stdout",
     "output_type": "stream",
     "text": [
      "\n"
     ]
    }
   ],
   "source": [
    "results = []\n",
    "tokens_train, tokens_val, tokens_test = [], [], []\n",
    "for df, tokens in zip((df_train, df_val, df_test), (tokens_train, tokens_val, tokens_test)) :\n",
    "    for i, row in tqdm_notebook(df.iterrows(), total=df.shape[0]):\n",
    "        tokens.append(np.array([BEG] + [mapping.get(x, UNK) for x in row[\"comment\"].split(\" \")]))"
   ]
  },
  {
   "cell_type": "code",
   "execution_count": 16,
   "metadata": {},
   "outputs": [],
   "source": [
    "assert len(tokens_train) == df_train.shape[0]"
   ]
  },
  {
   "cell_type": "code",
   "execution_count": 74,
   "metadata": {},
   "outputs": [
    {
     "data": {
      "text/plain": [
       "array([  1, 198, 137,  90,   2])"
      ]
     },
     "execution_count": 74,
     "metadata": {},
     "output_type": "execute_result"
    }
   ],
   "source": [
    "tokens_val[0]"
   ]
  },
  {
   "cell_type": "code",
   "execution_count": 75,
   "metadata": {},
   "outputs": [
    {
     "data": {
      "text/plain": [
       "comment    男 主角 像 卡卡\n",
       "rating             2\n",
       "label              0\n",
       "Name: 681247, dtype: object"
      ]
     },
     "execution_count": 75,
     "metadata": {},
     "output_type": "execute_result"
    }
   ],
   "source": [
    "df_val.iloc[0]"
   ]
  },
  {
   "cell_type": "markdown",
   "metadata": {},
   "source": [
    "### Prepare the embedding matrix"
   ]
  },
  {
   "cell_type": "code",
   "execution_count": 17,
   "metadata": {},
   "outputs": [
    {
     "data": {
      "text/plain": [
       "torch.Size([9697, 300])"
      ]
     },
     "execution_count": 17,
     "metadata": {},
     "output_type": "execute_result"
    }
   ],
   "source": [
    "MODEL_PATH = \"../data/cache/lm_word/models/lm_lstm.h5\"\n",
    "weights = torch.load(MODEL_PATH, map_location=lambda storage, loc: storage)\n",
    "assert weights['0.encoder.weight'].shape[1] == EMB_DIM\n",
    "weights['0.encoder.weight'].shape"
   ]
  },
  {
   "cell_type": "code",
   "execution_count": 18,
   "metadata": {},
   "outputs": [
    {
     "data": {
      "text/plain": [
       "(3851, 57.39195230998509)"
      ]
     },
     "execution_count": 18,
     "metadata": {},
     "output_type": "execute_result"
    }
   ],
   "source": [
    "new_matrix = np.zeros((n_toks, EMB_DIM))\n",
    "hits = 0\n",
    "for i, w in enumerate(itos):\n",
    "    if w in mapping_orig:\n",
    "        new_matrix[i] = weights['0.encoder.weight'][mapping_orig[w]]\n",
    "        hits += 1\n",
    "hits, hits *100 / len(itos[3:])"
   ]
  },
  {
   "cell_type": "code",
   "execution_count": 19,
   "metadata": {},
   "outputs": [],
   "source": [
    "weights['0.encoder.weight'] = T(new_matrix)\n",
    "weights['0.encoder_with_dropout.embed.weight'] = T(np.copy(new_matrix))\n",
    "weights['1.decoder.weight'] = T(np.copy(new_matrix))"
   ]
  },
  {
   "cell_type": "markdown",
   "metadata": {},
   "source": [
    "## Languange Model"
   ]
  },
  {
   "cell_type": "code",
   "execution_count": 20,
   "metadata": {},
   "outputs": [],
   "source": [
    "bs = 64\n",
    "bptt = 50\n",
    "trn_dl = LanguageModelLoader(np.concatenate(tokens_train), bs, bptt)\n",
    "val_dl = LanguageModelLoader(np.concatenate(tokens_val), bs, bptt)"
   ]
  },
  {
   "cell_type": "code",
   "execution_count": 21,
   "metadata": {},
   "outputs": [
    {
     "data": {
      "text/plain": [
       "6712"
      ]
     },
     "execution_count": 21,
     "metadata": {},
     "output_type": "execute_result"
    }
   ],
   "source": [
    "np.max(np.array(list(itertools.chain.from_iterable(tokens_train))))"
   ]
  },
  {
   "cell_type": "code",
   "execution_count": 26,
   "metadata": {},
   "outputs": [],
   "source": [
    "model_data = LanguageModelData(path, 1, n_toks, trn_dl, val_dl, bs=bs, bptt=bptt)"
   ]
  },
  {
   "cell_type": "code",
   "execution_count": 27,
   "metadata": {},
   "outputs": [],
   "source": [
    "drops = np.array([0.25, 0.1, 0.2, 0.02, 0.15])*0.7\n",
    "opt_fn = partial(torch.optim.Adam, betas=(0.8, 0.99))"
   ]
  },
  {
   "cell_type": "code",
   "execution_count": 28,
   "metadata": {},
   "outputs": [],
   "source": [
    "learner = model_data.get_model(opt_fn, EMB_DIM, 500, 3, \n",
    "    dropouti=drops[0], dropout=drops[1], wdrop=drops[2], dropoute=drops[3], dropouth=drops[4])\n",
    "learner.metrics = [accuracy]\n",
    "learner.freeze_to(-1)"
   ]
  },
  {
   "cell_type": "code",
   "execution_count": 29,
   "metadata": {},
   "outputs": [],
   "source": [
    "learner.model.load_state_dict(weights)"
   ]
  },
  {
   "cell_type": "code",
   "execution_count": 30,
   "metadata": {},
   "outputs": [
    {
     "data": {
      "application/vnd.jupyter.widget-view+json": {
       "model_id": "2392a92d47bf49de84ad53dc4de640f4",
       "version_major": 2,
       "version_minor": 0
      },
      "text/plain": [
       "HBox(children=(IntProgress(value=0, description='Epoch', max=1), HTML(value='')))"
      ]
     },
     "metadata": {},
     "output_type": "display_data"
    },
    {
     "name": "stdout",
     "output_type": "stream",
     "text": [
      "epoch      trn_loss   val_loss   accuracy                     \n",
      "    0      8.000923   7.639961   0.122279  \n",
      "\n"
     ]
    },
    {
     "data": {
      "text/plain": [
       "[7.6399610919741345, 0.12227886706528822]"
      ]
     },
     "execution_count": 30,
     "metadata": {},
     "output_type": "execute_result"
    }
   ],
   "source": [
    "lr=1e-3\n",
    "lrs = lr\n",
    "learner.fit(lrs/2, 1, wds=1e-7, use_clr=(32,2), cycle_len=1)"
   ]
  },
  {
   "cell_type": "code",
   "execution_count": 29,
   "metadata": {},
   "outputs": [],
   "source": [
    "learner.save('lm_last_ft')"
   ]
  },
  {
   "cell_type": "code",
   "execution_count": 31,
   "metadata": {},
   "outputs": [
    {
     "data": {
      "application/vnd.jupyter.widget-view+json": {
       "model_id": "13b94a2dbb8144c0b7457da620b7a0d1",
       "version_major": 2,
       "version_minor": 0
      },
      "text/plain": [
       "HBox(children=(IntProgress(value=0, description='Epoch', max=1), HTML(value='')))"
      ]
     },
     "metadata": {},
     "output_type": "display_data"
    },
    {
     "name": "stdout",
     "output_type": "stream",
     "text": [
      "epoch      trn_loss   val_loss   accuracy                     \n",
      "    0      4.765055   4.627863   0.237631  \n",
      "\n"
     ]
    }
   ],
   "source": [
    "learner.unfreeze()\n",
    "learner.clip = 25\n",
    "learner.lr_find(start_lr=lrs/10, end_lr=lrs*10, linear=True)"
   ]
  },
  {
   "cell_type": "code",
   "execution_count": 32,
   "metadata": {},
   "outputs": [
    {
     "data": {
      "image/png": "[encoded data removed]",
      "text/plain": [
       "<Figure size 432x288 with 1 Axes>"
      ]
     },
     "metadata": {},
     "output_type": "display_data"
    }
   ],
   "source": [
    "learner.sched.plot()"
   ]
  },
  {
   "cell_type": "code",
   "execution_count": 33,
   "metadata": {},
   "outputs": [
    {
     "data": {
      "application/vnd.jupyter.widget-view+json": {
       "model_id": "6994b557f69342e0b350b211abc7d4bb",
       "version_major": 2,
       "version_minor": 0
      },
      "text/plain": [
       "HBox(children=(IntProgress(value=0, description='Epoch', max=10), HTML(value='')))"
      ]
     },
     "metadata": {},
     "output_type": "display_data"
    },
    {
     "name": "stdout",
     "output_type": "stream",
     "text": [
      "epoch      trn_loss   val_loss   accuracy                     \n",
      "    0      4.850235   4.698425   0.235259  \n",
      "    1      4.657073   4.510859   0.248149                     \n",
      "    2      4.537391   4.414372   0.255944                     \n",
      "    3      4.46625    4.359282   0.260501                     \n",
      "    4      4.443026   4.32516    0.263364                     \n",
      "    5      4.405089   4.300793   0.265203                     \n",
      "    6      4.377639   4.280795   0.266945                     \n",
      "    7      4.354721   4.265673   0.268153                     \n",
      "    8      4.341965   4.254113   0.269288                     \n",
      "    9      4.339367   4.2459     0.270085                     \n",
      "\n"
     ]
    },
    {
     "data": {
      "text/plain": [
       "[4.245900204567493, 0.2700846901222713]"
      ]
     },
     "execution_count": 33,
     "metadata": {},
     "output_type": "execute_result"
    }
   ],
   "source": [
    "lr = 3e-3\n",
    "lrs = lr\n",
    "learner.fit(lrs, 1, wds=1e-7, use_clr=(20,5), cycle_len=10)"
   ]
  },
  {
   "cell_type": "code",
   "execution_count": 34,
   "metadata": {},
   "outputs": [],
   "source": [
    "learner.save_encoder(\"lm1_enc\")"
   ]
  },
  {
   "cell_type": "code",
   "execution_count": 35,
   "metadata": {},
   "outputs": [],
   "source": [
    "learner.save(\"lm1\")"
   ]
  },
  {
   "cell_type": "code",
   "execution_count": 41,
   "metadata": {},
   "outputs": [],
   "source": [
    "del learner"
   ]
  },
  {
   "cell_type": "markdown",
   "metadata": {},
   "source": [
    "## 3-class Classifier\n",
    "As in https://zhuanlan.zhihu.com/p/27198713"
   ]
  },
  {
   "cell_type": "markdown",
   "metadata": {},
   "source": [
    "### Full Dataset (v1)"
   ]
  },
  {
   "cell_type": "code",
   "execution_count": 36,
   "metadata": {},
   "outputs": [],
   "source": [
    "for df in (df_train, df_val, df_test):\n",
    "    df[\"label\"] = (df[\"rating\"] >= 3) * 1\n",
    "    df.loc[df.rating == 3, \"label\"] = 1\n",
    "    df.loc[df.rating > 3, \"label\"] = 2"
   ]
  },
  {
   "cell_type": "code",
   "execution_count": 37,
   "metadata": {},
   "outputs": [
    {
     "data": {
      "text/plain": [
       "2    240094\n",
       "1    184124\n",
       "0    104406\n",
       "Name: label, dtype: int64"
      ]
     },
     "execution_count": 37,
     "metadata": {},
     "output_type": "execute_result"
    }
   ],
   "source": [
    "df_train.label.value_counts()"
   ]
  },
  {
   "cell_type": "code",
   "execution_count": 188,
   "metadata": {},
   "outputs": [],
   "source": [
    "bs = 64\n",
    "trn_ds = TextDataset(tokens_train, df_train.label.values)\n",
    "val_ds = TextDataset(tokens_val, df_val.label.values)\n",
    "trn_samp = SortishSampler(tokens_train, key=lambda x: len(tokens_train[x]), bs=bs//2)\n",
    "val_samp = SortSampler(tokens_val, key=lambda x: len(tokens_val[x]))\n",
    "trn_dl = DataLoader(trn_ds, bs//2, transpose=True, num_workers=1, pad_idx=0, sampler=trn_samp)\n",
    "val_dl = DataLoader(val_ds, bs, transpose=True, num_workers=1, pad_idx=0, sampler=val_samp)\n",
    "model_data = ModelData(path, trn_dl, val_dl)"
   ]
  },
  {
   "cell_type": "code",
   "execution_count": 189,
   "metadata": {},
   "outputs": [],
   "source": [
    "dps = np.array([0.4,0.5,0.05,0.3,0.4]) * 0.5\n",
    "opt_fn = partial(torch.optim.Adam, betas=(0.7, 0.99))\n",
    "bptt = 50"
   ]
  },
  {
   "cell_type": "code",
   "execution_count": 190,
   "metadata": {},
   "outputs": [],
   "source": [
    "model = get_rnn_classifier(bptt, bptt*2, 3, n_toks, emb_sz=EMB_DIM, n_hid=500, n_layers=3, pad_token=0,\n",
    "          layers=[EMB_DIM*3, 50, 3], drops=[dps[4], 0.1],\n",
    "          dropouti=dps[0], wdrop=dps[1], dropoute=dps[2], dropouth=dps[3])"
   ]
  },
  {
   "cell_type": "code",
   "execution_count": 191,
   "metadata": {},
   "outputs": [],
   "source": [
    "learn = RNN_Learner(model_data, TextModel(to_gpu(model)), opt_fn=opt_fn)\n",
    "learn.reg_fn = partial(seq2seq_reg, alpha=2, beta=1)\n",
    "learn.clip=25.\n",
    "learn.metrics = [accuracy]\n",
    "learn.load_encoder('lm1_enc')"
   ]
  },
  {
   "cell_type": "code",
   "execution_count": 45,
   "metadata": {},
   "outputs": [
    {
     "data": {
      "application/vnd.jupyter.widget-view+json": {
       "model_id": "2c9c11d8a71641a0bab61d0a45805c40",
       "version_major": 2,
       "version_minor": 0
      },
      "text/plain": [
       "HBox(children=(IntProgress(value=0, description='Epoch', max=1), HTML(value='')))"
      ]
     },
     "metadata": {},
     "output_type": "display_data"
    },
    {
     "name": "stdout",
     "output_type": "stream",
     "text": [
      " 80%|████████  | 13271/16520 [02:04<00:30, 106.90it/s, loss=2.72] "
     ]
    },
    {
     "data": {
      "image/png": "[encoded data removed]",
      "text/plain": [
       "<Figure size 432x288 with 1 Axes>"
      ]
     },
     "metadata": {},
     "output_type": "display_data"
    }
   ],
   "source": [
    "learn.freeze_to(-1)\n",
    "learn.lr_find(lrs/1000)\n",
    "learn.sched.plot()"
   ]
  },
  {
   "cell_type": "code",
   "execution_count": 46,
   "metadata": {},
   "outputs": [
    {
     "data": {
      "application/vnd.jupyter.widget-view+json": {
       "model_id": "04ee49ff391349e294b76dd8a073d055",
       "version_major": 2,
       "version_minor": 0
      },
      "text/plain": [
       "HBox(children=(IntProgress(value=0, description='Epoch', max=1), HTML(value='')))"
      ]
     },
     "metadata": {},
     "output_type": "display_data"
    },
    {
     "name": "stdout",
     "output_type": "stream",
     "text": [
      "epoch      trn_loss   val_loss   accuracy                         \n",
      "    0      0.882637   0.851067   0.596267  \n"
     ]
    },
    {
     "data": {
      "text/plain": [
       "[0.8510666038818345, 0.5962669118314718]"
      ]
     },
     "execution_count": 46,
     "metadata": {},
     "output_type": "execute_result"
    }
   ],
   "source": [
    "lr=1e-4\n",
    "lrm = 2.6\n",
    "lrs = np.array([lr/(lrm**4), lr/(lrm**3), lr/(lrm**2), lr/lrm, lr])\n",
    "learn.fit(lrs, 1, wds=0, cycle_len=1, use_clr=(8,3))"
   ]
  },
  {
   "cell_type": "code",
   "execution_count": 47,
   "metadata": {},
   "outputs": [],
   "source": [
    "learn.save('clas_0')"
   ]
  },
  {
   "cell_type": "code",
   "execution_count": 48,
   "metadata": {},
   "outputs": [
    {
     "data": {
      "application/vnd.jupyter.widget-view+json": {
       "model_id": "9d6fd7c8c8004876936747a02b480e19",
       "version_major": 2,
       "version_minor": 0
      },
      "text/plain": [
       "HBox(children=(IntProgress(value=0, description='Epoch', max=1), HTML(value='')))"
      ]
     },
     "metadata": {},
     "output_type": "display_data"
    },
    {
     "name": "stdout",
     "output_type": "stream",
     "text": [
      "epoch      trn_loss   val_loss   accuracy                        \n",
      "    0      0.909291   0.838445   0.603139  \n"
     ]
    },
    {
     "data": {
      "text/plain": [
       "[0.838444728449949, 0.6031394715336421]"
      ]
     },
     "execution_count": 48,
     "metadata": {},
     "output_type": "execute_result"
    }
   ],
   "source": [
    "learn.freeze_to(-2)\n",
    "learn.fit(lrs, 1, wds=0, cycle_len=1, use_clr=(8,3))"
   ]
  },
  {
   "cell_type": "code",
   "execution_count": 49,
   "metadata": {},
   "outputs": [],
   "source": [
    "learn.save('clas_1')"
   ]
  },
  {
   "cell_type": "code",
   "execution_count": 50,
   "metadata": {},
   "outputs": [
    {
     "data": {
      "application/vnd.jupyter.widget-view+json": {
       "model_id": "f1a0e1c932e64d63b8ccd5cdbb9a7e72",
       "version_major": 2,
       "version_minor": 0
      },
      "text/plain": [
       "HBox(children=(IntProgress(value=0, description='Epoch', max=14), HTML(value='')))"
      ]
     },
     "metadata": {},
     "output_type": "display_data"
    },
    {
     "name": "stdout",
     "output_type": "stream",
     "text": [
      "epoch      trn_loss   val_loss   accuracy                        \n",
      "    0      0.879954   0.833281   0.60512   \n",
      "    1      0.868686   0.823808   0.612203                        \n",
      "    2      0.844532   0.815001   0.615386                        \n",
      "    3      0.854847   0.809263   0.61895                         \n",
      "    4      0.855106   0.803011   0.621725                        \n",
      "    5      0.84975    0.798307   0.624886                        \n",
      "    6      0.840797   0.798804   0.626214                        \n",
      "    7      0.843157   0.800835   0.626663                        \n",
      "    8      0.823333   0.795596   0.627815                        \n",
      "    9      0.838305   0.792557   0.628887                        \n",
      "    10     0.842246   0.791693   0.628496                        \n",
      "    11     0.815797   0.791085   0.629012                        \n",
      "    12     0.81966    0.792271   0.628422                        \n",
      "    13     0.811767   0.789824   0.629693                        \n"
     ]
    },
    {
     "data": {
      "text/plain": [
       "[0.7898236833973498, 0.629693316989013]"
      ]
     },
     "execution_count": 50,
     "metadata": {},
     "output_type": "execute_result"
    }
   ],
   "source": [
    "learn.unfreeze()\n",
    "learn.fit(lrs, 1, wds=0, cycle_len=14, use_clr=(32,10))"
   ]
  },
  {
   "cell_type": "code",
   "execution_count": 51,
   "metadata": {},
   "outputs": [],
   "source": [
    "learn.save(\"clas_full\")"
   ]
  },
  {
   "cell_type": "markdown",
   "metadata": {
    "heading_collapsed": true
   },
   "source": [
    "#### Evaluate"
   ]
  },
  {
   "cell_type": "code",
   "execution_count": 198,
   "metadata": {
    "hidden": true
   },
   "outputs": [],
   "source": [
    "learn.load(\"clas_full\")\n",
    "learn.model.reset()\n",
    "_ = learn.model.eval()"
   ]
  },
  {
   "cell_type": "code",
   "execution_count": 53,
   "metadata": {
    "hidden": true
   },
   "outputs": [
    {
     "data": {
      "application/vnd.jupyter.widget-view+json": {
       "model_id": "4584fbf4f7774073bc20cb289f042b9c",
       "version_major": 2,
       "version_minor": 0
      },
      "text/plain": [
       "HBox(children=(IntProgress(value=0, max=2754), HTML(value='')))"
      ]
     },
     "metadata": {},
     "output_type": "display_data"
    }
   ],
   "source": [
    "learn.model.eval()\n",
    "preds, ys = [], []\n",
    "for x, y in tqdm_notebook(val_dl):\n",
    "    preds.append(np.argmax(learn.model(x)[0].cpu().data.numpy(), axis=1))\n",
    "    ys.append(y.cpu().numpy())"
   ]
  },
  {
   "cell_type": "code",
   "execution_count": 54,
   "metadata": {
    "hidden": true
   },
   "outputs": [
    {
     "data": {
      "text/plain": [
       "((176208,), (176208,))"
      ]
     },
     "execution_count": 54,
     "metadata": {},
     "output_type": "execute_result"
    }
   ],
   "source": [
    "preds = np.concatenate(preds)\n",
    "ys = np.concatenate(ys)\n",
    "preds.shape, ys.shape"
   ]
  },
  {
   "cell_type": "code",
   "execution_count": 55,
   "metadata": {
    "hidden": true
   },
   "outputs": [
    {
     "data": {
      "text/plain": [
       "2    80031\n",
       "1    61374\n",
       "0    34803\n",
       "dtype: int64"
      ]
     },
     "execution_count": 55,
     "metadata": {},
     "output_type": "execute_result"
    }
   ],
   "source": [
    "pd.Series(ys).value_counts()"
   ]
  },
  {
   "cell_type": "code",
   "execution_count": 56,
   "metadata": {
    "hidden": true
   },
   "outputs": [
    {
     "data": {
      "text/plain": [
       "2    97951\n",
       "1    50965\n",
       "0    27292\n",
       "dtype: int64"
      ]
     },
     "execution_count": 56,
     "metadata": {},
     "output_type": "execute_result"
    }
   ],
   "source": [
    "pd.Series(preds).value_counts()"
   ]
  },
  {
   "cell_type": "code",
   "execution_count": 57,
   "metadata": {
    "hidden": true
   },
   "outputs": [
    {
     "data": {
      "text/plain": [
       "0.629693316989013"
      ]
     },
     "execution_count": 57,
     "metadata": {},
     "output_type": "execute_result"
    }
   ],
   "source": [
    "np.sum(ys==preds) / ys.shape[0]"
   ]
  },
  {
   "cell_type": "code",
   "execution_count": 59,
   "metadata": {
    "hidden": true
   },
   "outputs": [
    {
     "data": {
      "text/plain": [
       "(array([     6,      9,     24, ..., 176196, 176205, 176207]),)"
      ]
     },
     "execution_count": 59,
     "metadata": {},
     "output_type": "execute_result"
    }
   ],
   "source": [
    "np.where(ys==0)"
   ]
  },
  {
   "cell_type": "code",
   "execution_count": 77,
   "metadata": {
    "hidden": true
   },
   "outputs": [
    {
     "data": {
      "text/plain": [
       "('BEG如此的欺骗，或许我也就UNK了，有什么呢', '如此 的 欺骗 ， 或许 我 也 就 释然 了 ， 有 什么 呢')"
      ]
     },
     "execution_count": 77,
     "metadata": {},
     "output_type": "execute_result"
    }
   ],
   "source": [
    "\"\".join([str(itos[x]) for x in tokens_val[176196]]), df_val[\"comment\"].iloc[176196]"
   ]
  },
  {
   "cell_type": "code",
   "execution_count": 78,
   "metadata": {
    "hidden": true
   },
   "outputs": [
    {
     "data": {
      "text/plain": [
       "('BEG男主角像UNK', '男 主角 像 卡卡')"
      ]
     },
     "execution_count": 78,
     "metadata": {},
     "output_type": "execute_result"
    }
   ],
   "source": [
    "\"\".join([str(itos[x]) for x in tokens_val[0]]), df_val[\"comment\"].iloc[0]"
   ]
  },
  {
   "cell_type": "code",
   "execution_count": 193,
   "metadata": {
    "hidden": true
   },
   "outputs": [],
   "source": [
    "def get_prediction(texts):\n",
    "    input_tensor = T(np.array([1] + [mapping.get(x, UNK) for x in texts])).unsqueeze(1)\n",
    "    return learn.model(input_tensor)[0].data.cpu().numpy()"
   ]
  },
  {
   "cell_type": "code",
   "execution_count": 199,
   "metadata": {
    "hidden": true
   },
   "outputs": [
    {
     "data": {
      "text/plain": [
       "array([[0.09, 0.08, 0.31]], dtype=float32)"
      ]
     },
     "execution_count": 199,
     "metadata": {},
     "output_type": "execute_result"
    }
   ],
   "source": [
    "get_prediction(\"看了快一半了才发现是mini的广告\")"
   ]
  },
  {
   "cell_type": "code",
   "execution_count": 200,
   "metadata": {
    "hidden": true
   },
   "outputs": [
    {
     "data": {
      "text/plain": [
       "array([[-1.73,  0.17,  1.25]], dtype=float32)"
      ]
     },
     "execution_count": 200,
     "metadata": {},
     "output_type": "execute_result"
    }
   ],
   "source": [
    "get_prediction(\"妈蛋，简直太好看了。最后的DJ battle部分，兴奋的我，简直想从座位上站起来一起扭\")"
   ]
  },
  {
   "cell_type": "code",
   "execution_count": 201,
   "metadata": {
    "hidden": true
   },
   "outputs": [
    {
     "data": {
      "text/plain": [
       "array([[-0.4 ,  0.54,  0.13]], dtype=float32)"
      ]
     },
     "execution_count": 201,
     "metadata": {},
     "output_type": "execute_result"
    }
   ],
   "source": [
    "get_prediction(\"说实话我没怎么认真看，电影院里的熊孩子太闹腾了，前面的小奶娃还时不时站在老爸腿上蹦迪，观影体验极差，不过小朋友应该挺喜欢的\")"
   ]
  },
  {
   "cell_type": "code",
   "execution_count": 202,
   "metadata": {
    "hidden": true
   },
   "outputs": [
    {
     "data": {
      "text/plain": [
       "array([[-0.89,  0.43,  0.96]], dtype=float32)"
      ]
     },
     "execution_count": 202,
     "metadata": {},
     "output_type": "execute_result"
    }
   ],
   "source": [
    "get_prediction(\"这电影太好笑了，说好的高科技人才研制的产品永远在关键时候失灵；特地飞到泰国请来救援人才，大家研究出的方法每次都是先给鲨鱼当诱饵……显然这样的对战坚持不了多久，只能赶紧让鲨鱼输了。\")"
   ]
  },
  {
   "cell_type": "code",
   "execution_count": 203,
   "metadata": {
    "hidden": true
   },
   "outputs": [
    {
     "data": {
      "text/plain": [
       "array([[-0.35,  0.38, -0.01]], dtype=float32)"
      ]
     },
     "execution_count": 203,
     "metadata": {},
     "output_type": "execute_result"
    }
   ],
   "source": [
    "get_prediction(\"太接地气了，在三亚煮饺子式的景区海域，冒出来一条大鲨鱼……爽点也很密集，郭达森与李冰冰的CP感不错，编剧果然是老外，中文台词有点尬。\")"
   ]
  },
  {
   "cell_type": "code",
   "execution_count": 204,
   "metadata": {
    "hidden": true
   },
   "outputs": [
    {
     "data": {
      "text/plain": [
       "array([[-0.85,  0.32,  0.51]], dtype=float32)"
      ]
     },
     "execution_count": 204,
     "metadata": {},
     "output_type": "execute_result"
    }
   ],
   "source": [
    "get_prediction(\"李冰冰的脸真的很紧绷，比鲨鱼的脸还绷。\")"
   ]
  },
  {
   "cell_type": "code",
   "execution_count": 205,
   "metadata": {
    "hidden": true
   },
   "outputs": [
    {
     "data": {
      "text/plain": [
       "array([[ 0.57,  0.19, -0.19]], dtype=float32)"
      ]
     },
     "execution_count": 205,
     "metadata": {},
     "output_type": "execute_result"
    }
   ],
   "source": [
    "get_prediction(\"太难了。。。\")"
   ]
  },
  {
   "cell_type": "code",
   "execution_count": 206,
   "metadata": {
    "hidden": true
   },
   "outputs": [
    {
     "data": {
      "text/plain": [
       "array([[ 0.13, -0.16,  0.47]], dtype=float32)"
      ]
     },
     "execution_count": 206,
     "metadata": {},
     "output_type": "execute_result"
    }
   ],
   "source": [
    "get_prediction(\"把我基神写成智障，辣鸡mcu\")"
   ]
  },
  {
   "cell_type": "code",
   "execution_count": 207,
   "metadata": {
    "hidden": true
   },
   "outputs": [
    {
     "data": {
      "text/plain": [
       "array([[ 0.3 ,  0.52, -1.17]], dtype=float32)"
      ]
     },
     "execution_count": 207,
     "metadata": {},
     "output_type": "execute_result"
    }
   ],
   "source": [
    "get_prediction(\"鲨鱼部分还是不错的，尤其是中段第一次出海捕鲨非常刺激，其后急速下滑，三亚那部分拍得是什么鬼。。。爆米花片可以适度的蠢，但人类反派炸鲨和直升机相撞部分简直蠢得太过份了吧？另外充满硬加戏视感的尴尬感情戏把节奏也拖垮了，明明可以更出色，却很遗憾地止步在马马虎虎的水平。6/10\")"
   ]
  },
  {
   "cell_type": "code",
   "execution_count": 208,
   "metadata": {
    "hidden": true
   },
   "outputs": [
    {
     "data": {
      "text/plain": [
       "array([[-1.8 ,  0.16,  1.17]], dtype=float32)"
      ]
     },
     "execution_count": 208,
     "metadata": {},
     "output_type": "execute_result"
    }
   ],
   "source": [
    "get_prediction(\"老冰冰真的很努力！为老冰冰实现了她的好莱坞女主梦鼓掌...\")"
   ]
  },
  {
   "cell_type": "code",
   "execution_count": 209,
   "metadata": {
    "hidden": true
   },
   "outputs": [
    {
     "data": {
      "text/plain": [
       "array([[-0.13,  0.32,  0.3 ]], dtype=float32)"
      ]
     },
     "execution_count": 209,
     "metadata": {},
     "output_type": "execute_result"
    }
   ],
   "source": [
    "get_prediction(\"结局简直丧出天际！灭霸竟然有内心戏！全程下来美队和钢铁侠也没见上一面，我还以为在世界末日前必然要重修旧好了！\")"
   ]
  },
  {
   "cell_type": "code",
   "execution_count": 210,
   "metadata": {
    "hidden": true
   },
   "outputs": [
    {
     "data": {
      "text/plain": [
       "array([[ 2.12, -1.2 , -2.24]], dtype=float32)"
      ]
     },
     "execution_count": 210,
     "metadata": {},
     "output_type": "execute_result"
    }
   ],
   "source": [
    "get_prediction(\"太烂了，难看至极。\")"
   ]
  },
  {
   "cell_type": "code",
   "execution_count": 211,
   "metadata": {
    "hidden": true
   },
   "outputs": [
    {
     "data": {
      "text/plain": [
       "array([[ 0.85,  0.11, -0.15]], dtype=float32)"
      ]
     },
     "execution_count": 211,
     "metadata": {},
     "output_type": "execute_result"
    }
   ],
   "source": [
    "get_prediction(\"看完之后很生气！剧情太差了\")"
   ]
  },
  {
   "cell_type": "code",
   "execution_count": 212,
   "metadata": {
    "hidden": true
   },
   "outputs": [
    {
     "data": {
      "text/plain": [
       "array([[ 0.43,  0.34, -0.29]], dtype=float32)"
      ]
     },
     "execution_count": 212,
     "metadata": {},
     "output_type": "execute_result"
    }
   ],
   "source": [
    "get_prediction(\"关键点都好傻，我知道你要拍续集，我知道未来可以被重写， 但那一拳真的有点傻。\")"
   ]
  },
  {
   "cell_type": "code",
   "execution_count": 213,
   "metadata": {
    "hidden": true
   },
   "outputs": [
    {
     "data": {
      "text/plain": [
       "array([[-0.01, -0.16,  0.37]], dtype=float32)"
      ]
     },
     "execution_count": 213,
     "metadata": {},
     "output_type": "execute_result"
    }
   ],
   "source": [
    "get_prediction(\"好了可以了。再也不看Marvel了。我努力过了。实在是。。啥呀这是。🙄️\")"
   ]
  },
  {
   "cell_type": "code",
   "execution_count": 214,
   "metadata": {
    "hidden": true
   },
   "outputs": [
    {
     "data": {
      "text/plain": [
       "array([[ 0.83, -0.48, -0.1 ]], dtype=float32)"
      ]
     },
     "execution_count": 214,
     "metadata": {},
     "output_type": "execute_result"
    }
   ],
   "source": [
    "get_prediction(\"还我电影票14元\")"
   ]
  },
  {
   "cell_type": "code",
   "execution_count": 96,
   "metadata": {
    "hidden": true
   },
   "outputs": [
    {
     "name": "stdout",
     "output_type": "stream",
     "text": [
      "Confusion matrix, without normalization\n",
      "[[17619 10322  6862]\n",
      " [ 7041 28291 26042]\n",
      " [ 2632 12352 65047]]\n"
     ]
    },
    {
     "data": {
      "image/png": "[encoded data removed]",
      "text/plain": [
       "<Figure size 432x288 with 2 Axes>"
      ]
     },
     "metadata": {},
     "output_type": "display_data"
    }
   ],
   "source": [
    "cnf_matrix = confusion_matrix(ys, preds)\n",
    "np.set_printoptions(precision=2)\n",
    "\n",
    "# Plot non-normalized confusion matrix\n",
    "plt.figure()\n",
    "plot_confusion_matrix(\n",
    "    cnf_matrix, classes=[0, 1, 2],\n",
    "    title='Confusion matrix, without normalization')"
   ]
  },
  {
   "cell_type": "code",
   "execution_count": 97,
   "metadata": {
    "hidden": true
   },
   "outputs": [
    {
     "name": "stdout",
     "output_type": "stream",
     "text": [
      "Normalized confusion matrix\n",
      "[[0.51 0.3  0.2 ]\n",
      " [0.11 0.46 0.42]\n",
      " [0.03 0.15 0.81]]\n"
     ]
    },
    {
     "data": {
      "image/png": "[encoded data removed]",
      "text/plain": [
       "<Figure size 432x288 with 2 Axes>"
      ]
     },
     "metadata": {},
     "output_type": "display_data"
    }
   ],
   "source": [
    "plot_confusion_matrix(\n",
    "    cnf_matrix, classes=[0, 1, 2], normalize=True,\n",
    "    title='Confusion matrix, without normalization')"
   ]
  },
  {
   "cell_type": "code",
   "execution_count": 98,
   "metadata": {
    "hidden": true
   },
   "outputs": [
    {
     "name": "stdout",
     "output_type": "stream",
     "text": [
      "Class 0: P 65%, R 51%, FS 0.57, Support: 34803\n",
      "Class 1: P 56%, R 46%, FS 0.50, Support: 61374\n",
      "Class 2: P 66%, R 81%, FS 0.73, Support: 80031\n"
     ]
    }
   ],
   "source": [
    "from sklearn.metrics import precision_recall_fscore_support\n",
    "precision, recall, fscore, support = precision_recall_fscore_support(ys, preds)\n",
    "for i in range(3):\n",
    "    print(f\"Class {i}: P {precision[i]*100:.0f}%, R {recall[i]*100:.0f}%, FS {fscore[i]:.2f}, Support: {support[i]}\")"
   ]
  },
  {
   "cell_type": "code",
   "execution_count": 99,
   "metadata": {
    "hidden": true
   },
   "outputs": [],
   "source": [
    "test_ds = TextDataset(tokens_test, df_test.label.values)\n",
    "test_samp = SortSampler(tokens_test, key=lambda x: len(tokens_test[x]))\n",
    "test_dl = DataLoader(test_ds, bs, transpose=True, num_workers=1, pad_idx=0, sampler=test_samp)"
   ]
  },
  {
   "cell_type": "code",
   "execution_count": 100,
   "metadata": {
    "hidden": true
   },
   "outputs": [
    {
     "data": {
      "application/vnd.jupyter.widget-view+json": {
       "model_id": "a4a0c4fdf5ef4a27b47190cf4b1dc4d6",
       "version_major": 2,
       "version_minor": 0
      },
      "text/plain": [
       "HBox(children=(IntProgress(value=0, max=2754), HTML(value='')))"
      ]
     },
     "metadata": {},
     "output_type": "display_data"
    }
   ],
   "source": [
    "learn.model.eval()\n",
    "preds, ys = [], []\n",
    "for x, y in tqdm_notebook(test_dl):\n",
    "    preds.append(np.argmax(learn.model(x)[0].cpu().data.numpy(), axis=1))\n",
    "    ys.append(y.cpu().numpy())"
   ]
  },
  {
   "cell_type": "code",
   "execution_count": 101,
   "metadata": {
    "hidden": true
   },
   "outputs": [
    {
     "data": {
      "text/plain": [
       "((176209,), (176209,))"
      ]
     },
     "execution_count": 101,
     "metadata": {},
     "output_type": "execute_result"
    }
   ],
   "source": [
    "preds = np.concatenate(preds)\n",
    "ys = np.concatenate(ys)\n",
    "preds.shape, ys.shape"
   ]
  },
  {
   "cell_type": "code",
   "execution_count": 102,
   "metadata": {
    "hidden": true
   },
   "outputs": [
    {
     "data": {
      "text/plain": [
       "0.6271586581843153"
      ]
     },
     "execution_count": 102,
     "metadata": {},
     "output_type": "execute_result"
    }
   ],
   "source": [
    "np.sum(ys==preds) / ys.shape[0]"
   ]
  },
  {
   "cell_type": "code",
   "execution_count": 103,
   "metadata": {
    "hidden": true
   },
   "outputs": [
    {
     "name": "stdout",
     "output_type": "stream",
     "text": [
      "Confusion matrix, without normalization\n",
      "[[17307 10527  6968]\n",
      " [ 7132 28199 26044]\n",
      " [ 2606 12421 65005]]\n"
     ]
    },
    {
     "data": {
      "image/png": "[encoded data removed]",
      "text/plain": [
       "<Figure size 432x288 with 2 Axes>"
      ]
     },
     "metadata": {},
     "output_type": "display_data"
    }
   ],
   "source": [
    "cnf_matrix = confusion_matrix(ys, preds)\n",
    "np.set_printoptions(precision=2)\n",
    "\n",
    "# Plot non-normalized confusion matrix\n",
    "plt.figure()\n",
    "plot_confusion_matrix(\n",
    "    cnf_matrix, classes=[0, 1, 2],\n",
    "    title='Confusion matrix, without normalization')"
   ]
  },
  {
   "cell_type": "code",
   "execution_count": 104,
   "metadata": {
    "hidden": true
   },
   "outputs": [
    {
     "name": "stdout",
     "output_type": "stream",
     "text": [
      "Normalized confusion matrix\n",
      "[[0.5  0.3  0.2 ]\n",
      " [0.12 0.46 0.42]\n",
      " [0.03 0.16 0.81]]\n"
     ]
    },
    {
     "data": {
      "image/png": "[encoded data removed]",
      "text/plain": [
       "<Figure size 432x288 with 2 Axes>"
      ]
     },
     "metadata": {},
     "output_type": "display_data"
    }
   ],
   "source": [
    "plot_confusion_matrix(\n",
    "    cnf_matrix, classes=[0, 1, 2], normalize=True,\n",
    "    title='Confusion matrix, without normalization')"
   ]
  },
  {
   "cell_type": "code",
   "execution_count": 105,
   "metadata": {
    "hidden": true
   },
   "outputs": [
    {
     "name": "stdout",
     "output_type": "stream",
     "text": [
      "Class 0: P 64%, R 50%, FS 0.56, Support: 34802\n",
      "Class 1: P 55%, R 46%, FS 0.50, Support: 61375\n",
      "Class 2: P 66%, R 81%, FS 0.73, Support: 80032\n"
     ]
    }
   ],
   "source": [
    "from sklearn.metrics import precision_recall_fscore_support\n",
    "precision, recall, fscore, support = precision_recall_fscore_support(ys, preds)\n",
    "for i in range(3):\n",
    "    print(f\"Class {i}: P {precision[i]*100:.0f}%, R {recall[i]*100:.0f}%, FS {fscore[i]:.2f}, Support: {support[i]}\")"
   ]
  },
  {
   "cell_type": "markdown",
   "metadata": {},
   "source": [
    "### Smaller Dataset "
   ]
  },
  {
   "cell_type": "code",
   "execution_count": 215,
   "metadata": {},
   "outputs": [],
   "source": [
    "df_train.reset_index(drop=True, inplace=True)\n",
    "df_val.reset_index(drop=True, inplace=True)"
   ]
  },
  {
   "cell_type": "code",
   "execution_count": 216,
   "metadata": {},
   "outputs": [],
   "source": [
    "df_train_small = pd.concat([\n",
    "    df_train[df_train.label==0].sample(15000),\n",
    "    df_train[df_train.label==1].sample(15000),\n",
    "    df_train[df_train.label==2].sample(15000)\n",
    "], axis=0)\n",
    "df_val_small = pd.concat([\n",
    "    df_val[df_val.label==0].sample(5000),\n",
    "    df_val[df_val.label==1].sample(5000),\n",
    "    df_val[df_val.label==2].sample(5000)\n",
    "], axis=0)"
   ]
  },
  {
   "cell_type": "code",
   "execution_count": 217,
   "metadata": {},
   "outputs": [
    {
     "data": {
      "text/plain": [
       "array([321096, 367818, 249236, ..., 260675, 408863, 225404])"
      ]
     },
     "execution_count": 217,
     "metadata": {},
     "output_type": "execute_result"
    }
   ],
   "source": [
    "np.array(df_train_small.index)"
   ]
  },
  {
   "cell_type": "code",
   "execution_count": 218,
   "metadata": {},
   "outputs": [],
   "source": [
    "bs = 64\n",
    "tokens_train_small = np.array(tokens_train)[np.array(df_train_small.index)]\n",
    "tokens_val_small = np.array(tokens_val)[np.array(df_val_small.index)]\n",
    "trn_ds = TextDataset(tokens_train_small, df_train_small.label.values)\n",
    "val_ds = TextDataset(tokens_val_small, df_val_small.label.values)\n",
    "trn_samp = SortishSampler(tokens_train_small, key=lambda x: len(tokens_train_small[x]), bs=bs//2)\n",
    "val_samp = SortSampler(tokens_val_small, key=lambda x: len(tokens_val_small[x]))\n",
    "trn_dl = DataLoader(trn_ds, bs//2, transpose=True, num_workers=1, pad_idx=0, sampler=trn_samp)\n",
    "val_dl = DataLoader(val_ds, bs, transpose=True, num_workers=1, pad_idx=0, sampler=val_samp)\n",
    "model_data = ModelData(path, trn_dl, val_dl)"
   ]
  },
  {
   "cell_type": "code",
   "execution_count": 110,
   "metadata": {},
   "outputs": [],
   "source": [
    "dps = np.array([0.4,0.5,0.05,0.3,0.4])\n",
    "opt_fn = partial(torch.optim.Adam, betas=(0.7, 0.99))\n",
    "bptt = 50"
   ]
  },
  {
   "cell_type": "code",
   "execution_count": 112,
   "metadata": {},
   "outputs": [],
   "source": [
    "model = get_rnn_classifier(bptt, bptt*2, 3, n_toks, emb_sz=EMB_DIM, n_hid=500, n_layers=3, pad_token=0,\n",
    "          layers=[EMB_DIM*3, 50, 3], drops=[dps[4], 0.1],\n",
    "          dropouti=dps[0], wdrop=dps[1], dropoute=dps[2], dropouth=dps[3])"
   ]
  },
  {
   "cell_type": "code",
   "execution_count": 113,
   "metadata": {},
   "outputs": [],
   "source": [
    "learn = RNN_Learner(model_data, TextModel(to_gpu(model)), opt_fn=opt_fn)\n",
    "learn.reg_fn = partial(seq2seq_reg, alpha=2, beta=1)\n",
    "learn.clip=25.\n",
    "learn.metrics = [accuracy]\n",
    "learn.load_encoder('lm1_enc')"
   ]
  },
  {
   "cell_type": "code",
   "execution_count": 114,
   "metadata": {},
   "outputs": [
    {
     "data": {
      "application/vnd.jupyter.widget-view+json": {
       "model_id": "eada589282234aa5afcc6d0763d227f1",
       "version_major": 2,
       "version_minor": 0
      },
      "text/plain": [
       "HBox(children=(IntProgress(value=0, description='Epoch', max=1), HTML(value='')))"
      ]
     },
     "metadata": {},
     "output_type": "display_data"
    },
    {
     "name": "stdout",
     "output_type": "stream",
     "text": [
      "                                                               \r"
     ]
    },
    {
     "data": {
      "image/png": "[encoded data removed]",
      "text/plain": [
       "<Figure size 432x288 with 1 Axes>"
      ]
     },
     "metadata": {},
     "output_type": "display_data"
    }
   ],
   "source": [
    "learn.freeze_to(-1)\n",
    "learn.lr_find(lrs/100)\n",
    "learn.sched.plot()"
   ]
  },
  {
   "cell_type": "code",
   "execution_count": 115,
   "metadata": {},
   "outputs": [
    {
     "data": {
      "application/vnd.jupyter.widget-view+json": {
       "model_id": "5971403e583646a1982dc9cf4da78ddc",
       "version_major": 2,
       "version_minor": 0
      },
      "text/plain": [
       "HBox(children=(IntProgress(value=0, description='Epoch', max=1), HTML(value='')))"
      ]
     },
     "metadata": {},
     "output_type": "display_data"
    },
    {
     "name": "stdout",
     "output_type": "stream",
     "text": [
      "epoch      trn_loss   val_loss   accuracy                       \n",
      "    0      1.012298   0.922647   0.560333  \n"
     ]
    },
    {
     "data": {
      "text/plain": [
       "[0.9226470053037008, 0.5603333333651225]"
      ]
     },
     "execution_count": 115,
     "metadata": {},
     "output_type": "execute_result"
    }
   ],
   "source": [
    "lr=1e-3\n",
    "lrm = 2.6\n",
    "lrs = np.array([lr/(lrm**4), lr/(lrm**3), lr/(lrm**2), lr/lrm, lr])\n",
    "learn.fit(lrs, 1, wds=0, cycle_len=1, use_clr=(8,3))"
   ]
  },
  {
   "cell_type": "code",
   "execution_count": 116,
   "metadata": {},
   "outputs": [
    {
     "data": {
      "application/vnd.jupyter.widget-view+json": {
       "model_id": "c1c209643009440a96402e1334f3dd6a",
       "version_major": 2,
       "version_minor": 0
      },
      "text/plain": [
       "HBox(children=(IntProgress(value=0, description='Epoch', max=1), HTML(value='')))"
      ]
     },
     "metadata": {},
     "output_type": "display_data"
    },
    {
     "name": "stdout",
     "output_type": "stream",
     "text": [
      "epoch      trn_loss   val_loss   accuracy                      \n",
      "    0      1.004228   0.909876   0.564867  \n"
     ]
    },
    {
     "data": {
      "text/plain": [
       "[0.9098755647023519, 0.5648666666666666]"
      ]
     },
     "execution_count": 116,
     "metadata": {},
     "output_type": "execute_result"
    }
   ],
   "source": [
    "learn.freeze_to(-2)\n",
    "learn.fit(lrs, 1, wds=0, cycle_len=1, use_clr=(8,3))"
   ]
  },
  {
   "cell_type": "code",
   "execution_count": 117,
   "metadata": {},
   "outputs": [
    {
     "data": {
      "application/vnd.jupyter.widget-view+json": {
       "model_id": "190c2a5373694dd79aa11d1efcf5c266",
       "version_major": 2,
       "version_minor": 0
      },
      "text/plain": [
       "HBox(children=(IntProgress(value=0, description='Epoch', max=14), HTML(value='')))"
      ]
     },
     "metadata": {},
     "output_type": "display_data"
    },
    {
     "name": "stdout",
     "output_type": "stream",
     "text": [
      "epoch      trn_loss   val_loss   accuracy                      \n",
      "    0      1.001542   0.904714   0.568467  \n",
      "    1      0.980471   0.891081   0.571867                      \n",
      "    2      0.96149    0.880097   0.581867                      \n",
      "    3      0.976053   0.880369   0.582333                      \n",
      "    4      0.946454   0.872783   0.581733                      \n",
      "    5      0.933126   0.864392   0.584867                      \n",
      "    6      0.937109   0.861721   0.589467                      \n",
      "    7      0.940408   0.861515   0.584333                      \n",
      "    8      0.930203   0.859928   0.590667                      \n",
      "    9      0.9142     0.857158   0.588933                      \n",
      "    10     0.936918   0.854491   0.5924                        \n",
      "    11     0.925632   0.855096   0.589267                      \n",
      "    12     0.907661   0.856662   0.589333                      \n",
      "    13     0.916189   0.853918   0.589267                      \n"
     ]
    },
    {
     "data": {
      "text/plain": [
       "[0.8539179455121358, 0.5892666666666667]"
      ]
     },
     "execution_count": 117,
     "metadata": {},
     "output_type": "execute_result"
    }
   ],
   "source": [
    "learn.unfreeze()\n",
    "learn.fit(lrs, 1, wds=0, cycle_len=14, use_clr=(32,10))"
   ]
  },
  {
   "cell_type": "code",
   "execution_count": 119,
   "metadata": {},
   "outputs": [],
   "source": [
    "learn.save(\"clas_small_full\")"
   ]
  },
  {
   "cell_type": "code",
   "execution_count": 120,
   "metadata": {},
   "outputs": [],
   "source": [
    "learn.model.eval()\n",
    "preds, ys = [], []\n",
    "for x, y in val_dl:\n",
    "    preds.append(np.argmax(learn.model(x)[0].cpu().data.numpy(), axis=1))\n",
    "    ys.append(y.cpu().numpy())"
   ]
  },
  {
   "cell_type": "code",
   "execution_count": 121,
   "metadata": {},
   "outputs": [
    {
     "data": {
      "text/plain": [
       "((15000,), (15000,))"
      ]
     },
     "execution_count": 121,
     "metadata": {},
     "output_type": "execute_result"
    }
   ],
   "source": [
    "preds = np.concatenate(preds)\n",
    "ys = np.concatenate(ys)\n",
    "preds.shape, ys.shape"
   ]
  },
  {
   "cell_type": "code",
   "execution_count": 122,
   "metadata": {},
   "outputs": [
    {
     "name": "stdout",
     "output_type": "stream",
     "text": [
      "Normalized confusion matrix\n",
      "[[0.64 0.2  0.15]\n",
      " [0.23 0.4  0.36]\n",
      " [0.1  0.18 0.72]]\n"
     ]
    },
    {
     "data": {
      "image/png": "[encoded data removed]",
      "text/plain": [
       "<Figure size 432x288 with 2 Axes>"
      ]
     },
     "metadata": {},
     "output_type": "display_data"
    }
   ],
   "source": [
    "cnf_matrix = confusion_matrix(ys, preds)\n",
    "np.set_printoptions(precision=2)\n",
    "plot_confusion_matrix(\n",
    "    cnf_matrix, classes=[0, 1, 2], normalize=True,\n",
    "    title='Confusion matrix, without normalization')"
   ]
  },
  {
   "cell_type": "code",
   "execution_count": 123,
   "metadata": {},
   "outputs": [],
   "source": [
    "test_ds = TextDataset(tokens_test, df_test.label.values)\n",
    "test_samp = SortSampler(tokens_test, key=lambda x: len(tokens_test[x]))\n",
    "test_dl = DataLoader(test_ds, bs, transpose=True, num_workers=1, pad_idx=0, sampler=test_samp)"
   ]
  },
  {
   "cell_type": "code",
   "execution_count": 124,
   "metadata": {},
   "outputs": [
    {
     "data": {
      "application/vnd.jupyter.widget-view+json": {
       "model_id": "5ca956793cb448d28036acbaeae68402",
       "version_major": 2,
       "version_minor": 0
      },
      "text/plain": [
       "HBox(children=(IntProgress(value=0, max=2754), HTML(value='')))"
      ]
     },
     "metadata": {},
     "output_type": "display_data"
    }
   ],
   "source": [
    "learn.model.eval()\n",
    "preds, ys = [], []\n",
    "for x, y in tqdm_notebook(test_dl):\n",
    "    preds.append(np.argmax(learn.model(x)[0].cpu().data.numpy(), axis=1))\n",
    "    ys.append(y.cpu().numpy())"
   ]
  },
  {
   "cell_type": "code",
   "execution_count": 125,
   "metadata": {},
   "outputs": [
    {
     "data": {
      "text/plain": [
       "((176209,), (176209,))"
      ]
     },
     "execution_count": 125,
     "metadata": {},
     "output_type": "execute_result"
    }
   ],
   "source": [
    "preds = np.concatenate(preds)\n",
    "ys = np.concatenate(ys)\n",
    "preds.shape, ys.shape"
   ]
  },
  {
   "cell_type": "code",
   "execution_count": 126,
   "metadata": {},
   "outputs": [
    {
     "data": {
      "text/plain": [
       "0.5934884143261695"
      ]
     },
     "execution_count": 126,
     "metadata": {},
     "output_type": "execute_result"
    }
   ],
   "source": [
    "np.sum(preds==ys) / preds.shape[0]"
   ]
  },
  {
   "cell_type": "code",
   "execution_count": 127,
   "metadata": {},
   "outputs": [
    {
     "name": "stdout",
     "output_type": "stream",
     "text": [
      "Normalized confusion matrix\n",
      "[[0.64 0.21 0.15]\n",
      " [0.24 0.4  0.35]\n",
      " [0.1  0.18 0.72]]\n"
     ]
    },
    {
     "data": {
      "image/png": "[encoded data removed]",
      "text/plain": [
       "<Figure size 432x288 with 2 Axes>"
      ]
     },
     "metadata": {},
     "output_type": "display_data"
    }
   ],
   "source": [
    "cnf_matrix = confusion_matrix(ys, preds)\n",
    "np.set_printoptions(precision=2)\n",
    "plot_confusion_matrix(\n",
    "    cnf_matrix, classes=[0, 1, 2], normalize=True,\n",
    "    title='Confusion matrix, without normalization')"
   ]
  },
  {
   "cell_type": "code",
   "execution_count": 128,
   "metadata": {},
   "outputs": [
    {
     "name": "stdout",
     "output_type": "stream",
     "text": [
      "Class 0: P 49%, R 64%, FS 0.56, Support: 34802\n",
      "Class 1: P 53%, R 40%, FS 0.46, Support: 61375\n",
      "Class 2: P 68%, R 72%, FS 0.70, Support: 80032\n"
     ]
    }
   ],
   "source": [
    "precision, recall, fscore, support = precision_recall_fscore_support(ys, preds)\n",
    "for i in range(3):\n",
    "    print(f\"Class {i}: P {precision[i]*100:.0f}%, R {recall[i]*100:.0f}%, FS {fscore[i]:.2f}, Support: {support[i]}\")"
   ]
  },
  {
   "cell_type": "markdown",
   "metadata": {},
   "source": [
    "## Regressor"
   ]
  },
  {
   "cell_type": "code",
   "execution_count": 129,
   "metadata": {},
   "outputs": [],
   "source": [
    "bs = 64\n",
    "trn_ds = TextDataset(tokens_train, df_train.rating.values.astype(\"float32\"))\n",
    "val_ds = TextDataset(tokens_val, df_val.rating.values.astype(\"float32\"))\n",
    "trn_samp = SortishSampler(tokens_train, key=lambda x: len(tokens_train[x]), bs=bs//2)\n",
    "val_samp = SortSampler(tokens_val, key=lambda x: len(tokens_val[x]))\n",
    "trn_dl = DataLoader(trn_ds, bs//2, transpose=True, num_workers=1, pad_idx=0, sampler=trn_samp)\n",
    "val_dl = DataLoader(val_ds, bs, transpose=True, num_workers=1, pad_idx=0, sampler=val_samp)\n",
    "model_data = ModelData(path, trn_dl, val_dl)"
   ]
  },
  {
   "cell_type": "code",
   "execution_count": 131,
   "metadata": {},
   "outputs": [],
   "source": [
    "dps = np.array([0.4,0.5,0.05,0.3,0.4]) * 0.5\n",
    "opt_fn = partial(torch.optim.Adam, betas=(0.7, 0.99))\n",
    "bptt = 50"
   ]
  },
  {
   "cell_type": "code",
   "execution_count": 133,
   "metadata": {},
   "outputs": [],
   "source": [
    "model = get_rnn_classifier(bptt, bptt*2, 3, n_toks, emb_sz=EMB_DIM, n_hid=500, n_layers=3, pad_token=0,\n",
    "          layers=[EMB_DIM*3, 50, 1], drops=[dps[4], 0.1],\n",
    "          dropouti=dps[0], wdrop=dps[1], dropoute=dps[2], dropouth=dps[3])"
   ]
  },
  {
   "cell_type": "code",
   "execution_count": 134,
   "metadata": {},
   "outputs": [],
   "source": [
    "class RNN_RegLearner(RNN_Learner):\n",
    "    def __init__(self, data, models, **kwargs):\n",
    "        super().__init__(data, models, **kwargs)\n",
    "\n",
    "    def _get_crit(self, data): return lambda x, y: F.mse_loss(x[:, 0], y)"
   ]
  },
  {
   "cell_type": "code",
   "execution_count": 135,
   "metadata": {},
   "outputs": [],
   "source": [
    "learn = RNN_RegLearner(model_data, TextModel(to_gpu(model)), opt_fn=opt_fn)\n",
    "learn.reg_fn = partial(seq2seq_reg, alpha=2, beta=1)\n",
    "learn.clip=25.\n",
    "learn.metrics = []\n",
    "learn.load_encoder('lm1_enc')"
   ]
  },
  {
   "cell_type": "code",
   "execution_count": 145,
   "metadata": {},
   "outputs": [],
   "source": [
    "lr=1e-4\n",
    "lrm = 2.6\n",
    "lrs = np.array([lr/(lrm**4), lr/(lrm**3), lr/(lrm**2), lr/lrm, lr])"
   ]
  },
  {
   "cell_type": "code",
   "execution_count": 137,
   "metadata": {},
   "outputs": [
    {
     "data": {
      "application/vnd.jupyter.widget-view+json": {
       "model_id": "cb60cd5de4914415b12a97f1ec2c7f81",
       "version_major": 2,
       "version_minor": 0
      },
      "text/plain": [
       "HBox(children=(IntProgress(value=0, description='Epoch', max=1), HTML(value='')))"
      ]
     },
     "metadata": {},
     "output_type": "display_data"
    },
    {
     "name": "stdout",
     "output_type": "stream",
     "text": [
      " 80%|███████▉  | 13189/16520 [02:17<00:34, 95.58it/s, loss=1.74] "
     ]
    },
    {
     "data": {
      "image/png": "[encoded data removed]",
      "text/plain": [
       "<Figure size 432x288 with 1 Axes>"
      ]
     },
     "metadata": {},
     "output_type": "display_data"
    }
   ],
   "source": [
    "learn.freeze_to(-1)\n",
    "learn.lr_find(lrs/1000)\n",
    "learn.sched.plot()"
   ]
  },
  {
   "cell_type": "code",
   "execution_count": 146,
   "metadata": {},
   "outputs": [
    {
     "data": {
      "application/vnd.jupyter.widget-view+json": {
       "model_id": "f78e2208442e44888fce73b7cb10fc6e",
       "version_major": 2,
       "version_minor": 0
      },
      "text/plain": [
       "HBox(children=(IntProgress(value=0, description='Epoch', max=1), HTML(value='')))"
      ]
     },
     "metadata": {},
     "output_type": "display_data"
    },
    {
     "name": "stdout",
     "output_type": "stream",
     "text": [
      "epoch      trn_loss   val_loss                                    \n",
      "    0      0.944539   0.820772  \n"
     ]
    }
   ],
   "source": [
    "learn.fit(lrs, 1, wds=0, cycle_len=1, use_clr=(8,3))\n",
    "learn.save('reg_0')"
   ]
  },
  {
   "cell_type": "code",
   "execution_count": 147,
   "metadata": {},
   "outputs": [
    {
     "data": {
      "application/vnd.jupyter.widget-view+json": {
       "model_id": "41e31ea747f2411fafa9d9736ccc7e01",
       "version_major": 2,
       "version_minor": 0
      },
      "text/plain": [
       "HBox(children=(IntProgress(value=0, description='Epoch', max=1), HTML(value='')))"
      ]
     },
     "metadata": {},
     "output_type": "display_data"
    },
    {
     "name": "stdout",
     "output_type": "stream",
     "text": [
      "epoch      trn_loss   val_loss                                   \n",
      "    0      0.896087   0.797165  \n"
     ]
    }
   ],
   "source": [
    "learn.freeze_to(-2)\n",
    "learn.fit(lrs, 1, wds=0, cycle_len=1, use_clr=(8,3))\n",
    "learn.save('reg_1')"
   ]
  },
  {
   "cell_type": "code",
   "execution_count": 148,
   "metadata": {},
   "outputs": [
    {
     "data": {
      "application/vnd.jupyter.widget-view+json": {
       "model_id": "be7f669811824e7fb79b9068b30c8f6f",
       "version_major": 2,
       "version_minor": 0
      },
      "text/plain": [
       "HBox(children=(IntProgress(value=0, description='Epoch', max=14), HTML(value='')))"
      ]
     },
     "metadata": {},
     "output_type": "display_data"
    },
    {
     "name": "stdout",
     "output_type": "stream",
     "text": [
      "epoch      trn_loss   val_loss                                   \n",
      "    0      0.892857   0.780734  \n",
      "    1      0.850102   0.765759                                   \n",
      "    2      0.855231   0.755049                                   \n",
      "    3      0.858158   0.742554                                   \n",
      "    4      0.806615   0.738463                                   \n",
      "    5      0.800257   0.732406                                   \n",
      "    6      0.817405   0.731303                                   \n",
      "    7      0.786261   0.726621                                   \n",
      "    8      0.805938   0.726315                                   \n",
      "    9      0.793017   0.724993                                   \n",
      "    10     0.79336    0.720852                                   \n",
      "    11     0.787377   0.720906                                   \n",
      "    12     0.844286   0.721651                                   \n",
      "    13     0.777026   0.721157                                   \n"
     ]
    }
   ],
   "source": [
    "learn.unfreeze()\n",
    "learn.fit(lrs, 1, wds=0, cycle_len=14, use_clr=(32,10))\n",
    "learn.save('reg_full')"
   ]
  },
  {
   "cell_type": "code",
   "execution_count": 149,
   "metadata": {},
   "outputs": [],
   "source": [
    "# Export Model\n",
    "torch.save(learn.model, path / \"sentiment_model.pth\")"
   ]
  },
  {
   "cell_type": "code",
   "execution_count": 150,
   "metadata": {},
   "outputs": [],
   "source": [
    "learn.load('reg_full')"
   ]
  },
  {
   "cell_type": "markdown",
   "metadata": {},
   "source": [
    "### Evaluation"
   ]
  },
  {
   "cell_type": "code",
   "execution_count": 151,
   "metadata": {},
   "outputs": [],
   "source": [
    "test_ds = TextDataset(tokens_test, df_test.rating.values)\n",
    "test_samp = SortSampler(tokens_test, key=lambda x: len(tokens_test[x]))\n",
    "test_dl = DataLoader(test_ds, bs, transpose=True, num_workers=1, pad_idx=0, sampler=test_samp)"
   ]
  },
  {
   "cell_type": "code",
   "execution_count": 152,
   "metadata": {},
   "outputs": [
    {
     "data": {
      "application/vnd.jupyter.widget-view+json": {
       "model_id": "a858c45097ed4f93af7aa0e69eaebc5e",
       "version_major": 2,
       "version_minor": 0
      },
      "text/plain": [
       "HBox(children=(IntProgress(value=0, max=2754), HTML(value='')))"
      ]
     },
     "metadata": {},
     "output_type": "display_data"
    },
    {
     "data": {
      "text/plain": [
       "((176208,), (176208,))"
      ]
     },
     "execution_count": 152,
     "metadata": {},
     "output_type": "execute_result"
    }
   ],
   "source": [
    "def get_preds(data_loader):\n",
    "    learn.model.eval()\n",
    "    learn.model.reset()         \n",
    "    preds, ys = [], []\n",
    "    for x, y in tqdm_notebook(data_loader):   \n",
    "        preds.append(learn.model(x)[0].cpu().data.numpy()[:, 0])\n",
    "        ys.append(y.cpu().numpy())\n",
    "    preds = np.concatenate(preds)\n",
    "    ys = np.concatenate(ys)\n",
    "    return ys, preds\n",
    "ys, preds = get_preds(val_dl)\n",
    "preds.shape, ys.shape"
   ]
  },
  {
   "cell_type": "code",
   "execution_count": 153,
   "metadata": {
    "scrolled": true
   },
   "outputs": [
    {
     "data": {
      "text/plain": [
       "count    176208.000000\n",
       "mean          3.335331\n",
       "std           1.080536\n",
       "min           1.000000\n",
       "25%           3.000000\n",
       "50%           3.000000\n",
       "75%           4.000000\n",
       "max           5.000000\n",
       "dtype: float64"
      ]
     },
     "execution_count": 153,
     "metadata": {},
     "output_type": "execute_result"
    }
   ],
   "source": [
    "pd.Series(ys).describe()"
   ]
  },
  {
   "cell_type": "code",
   "execution_count": 154,
   "metadata": {},
   "outputs": [
    {
     "data": {
      "text/plain": [
       "count    176208.000000\n",
       "mean          3.335331\n",
       "std           1.080536\n",
       "min           1.000000\n",
       "25%           3.000000\n",
       "50%           3.000000\n",
       "75%           4.000000\n",
       "max           5.000000\n",
       "dtype: float64"
      ]
     },
     "execution_count": 154,
     "metadata": {},
     "output_type": "execute_result"
    }
   ],
   "source": [
    "pd.Series(ys).describe()"
   ]
  },
  {
   "cell_type": "code",
   "execution_count": 155,
   "metadata": {},
   "outputs": [
    {
     "data": {
      "text/plain": [
       "0.7211570452249614"
      ]
     },
     "execution_count": 155,
     "metadata": {},
     "output_type": "execute_result"
    }
   ],
   "source": [
    "np.sum(np.square(preds - ys)) / preds.shape[0]"
   ]
  },
  {
   "cell_type": "code",
   "execution_count": 156,
   "metadata": {},
   "outputs": [
    {
     "data": {
      "text/plain": [
       "0.7203134044708527"
      ]
     },
     "execution_count": 156,
     "metadata": {},
     "output_type": "execute_result"
    }
   ],
   "source": [
    "preds = np.clip(preds, 1, 5)\n",
    "np.sum(np.square(preds - ys)) / preds.shape[0]"
   ]
  },
  {
   "cell_type": "code",
   "execution_count": 157,
   "metadata": {},
   "outputs": [
    {
     "data": {
      "text/html": [
       "<div>\n",
       "<style scoped>\n",
       "    .dataframe tbody tr th:only-of-type {\n",
       "        vertical-align: middle;\n",
       "    }\n",
       "\n",
       "    .dataframe tbody tr th {\n",
       "        vertical-align: top;\n",
       "    }\n",
       "\n",
       "    .dataframe thead th {\n",
       "        text-align: right;\n",
       "    }\n",
       "</style>\n",
       "<table border=\"1\" class=\"dataframe\">\n",
       "  <thead>\n",
       "    <tr style=\"text-align: right;\">\n",
       "      <th></th>\n",
       "      <th>comment</th>\n",
       "      <th>rating</th>\n",
       "      <th>label</th>\n",
       "      <th>preds</th>\n",
       "    </tr>\n",
       "  </thead>\n",
       "  <tbody>\n",
       "    <tr>\n",
       "      <th>0</th>\n",
       "      <td>男 主角 像 卡卡</td>\n",
       "      <td>2</td>\n",
       "      <td>0</td>\n",
       "      <td>3.177300</td>\n",
       "    </tr>\n",
       "    <tr>\n",
       "      <th>1</th>\n",
       "      <td>经典 改编 ， 还是 忠于 原著 的 ， 一路 都 很 稳 。</td>\n",
       "      <td>4</td>\n",
       "      <td>2</td>\n",
       "      <td>3.881618</td>\n",
       "    </tr>\n",
       "    <tr>\n",
       "      <th>2</th>\n",
       "      <td>叙事 ： 时间 空间 的 有机 结合</td>\n",
       "      <td>5</td>\n",
       "      <td>2</td>\n",
       "      <td>3.599128</td>\n",
       "    </tr>\n",
       "    <tr>\n",
       "      <th>3</th>\n",
       "      <td>看 街头 小 混混 打 外星人 挺 热闹 的 ， 可是 前 一 秒 还 在 抢劫 的 少年犯...</td>\n",
       "      <td>2</td>\n",
       "      <td>0</td>\n",
       "      <td>2.469437</td>\n",
       "    </tr>\n",
       "    <tr>\n",
       "      <th>4</th>\n",
       "      <td>这 电影 也 就 一般</td>\n",
       "      <td>3</td>\n",
       "      <td>1</td>\n",
       "      <td>2.753609</td>\n",
       "    </tr>\n",
       "  </tbody>\n",
       "</table>\n",
       "</div>"
      ],
      "text/plain": [
       "                                             comment  rating  label     preds\n",
       "0                                          男 主角 像 卡卡       2      0  3.177300\n",
       "1                    经典 改编 ， 还是 忠于 原著 的 ， 一路 都 很 稳 。       4      2  3.881618\n",
       "2                                 叙事 ： 时间 空间 的 有机 结合       5      2  3.599128\n",
       "3  看 街头 小 混混 打 外星人 挺 热闹 的 ， 可是 前 一 秒 还 在 抢劫 的 少年犯...       2      0  2.469437\n",
       "4                                        这 电影 也 就 一般       3      1  2.753609"
      ]
     },
     "execution_count": 157,
     "metadata": {},
     "output_type": "execute_result"
    }
   ],
   "source": [
    "# Save predictions\n",
    "df_val.loc[df_val.iloc[list(iter(val_samp))].index, \"preds\"] = preds\n",
    "df_val.to_csv(path / \"df_val.csv.gz\", index=False, compression=\"gzip\")\n",
    "df_val.head()"
   ]
  },
  {
   "cell_type": "code",
   "execution_count": 158,
   "metadata": {},
   "outputs": [
    {
     "data": {
      "text/plain": [
       "0.7203134228909114"
      ]
     },
     "execution_count": 158,
     "metadata": {},
     "output_type": "execute_result"
    }
   ],
   "source": [
    "np.sum(np.square(df_val.rating.values - df_val.preds.values)) / preds.shape[0]"
   ]
  },
  {
   "cell_type": "code",
   "execution_count": 159,
   "metadata": {},
   "outputs": [
    {
     "data": {
      "application/vnd.jupyter.widget-view+json": {
       "model_id": "976b48ec9256462fa371835435b63fe1",
       "version_major": 2,
       "version_minor": 0
      },
      "text/plain": [
       "HBox(children=(IntProgress(value=0, max=2754), HTML(value='')))"
      ]
     },
     "metadata": {},
     "output_type": "display_data"
    },
    {
     "data": {
      "text/plain": [
       "((176209,), (176209,))"
      ]
     },
     "execution_count": 159,
     "metadata": {},
     "output_type": "execute_result"
    }
   ],
   "source": [
    "ys, preds = get_preds(test_dl)\n",
    "preds.shape, ys.shape"
   ]
  },
  {
   "cell_type": "code",
   "execution_count": 160,
   "metadata": {},
   "outputs": [
    {
     "data": {
      "text/plain": [
       "0.724214991480893"
      ]
     },
     "execution_count": 160,
     "metadata": {},
     "output_type": "execute_result"
    }
   ],
   "source": [
    "preds = np.clip(preds, 1, 5)\n",
    "np.sum(np.square(preds - ys)) / preds.shape[0]"
   ]
  },
  {
   "cell_type": "code",
   "execution_count": 161,
   "metadata": {},
   "outputs": [
    {
     "data": {
      "text/html": [
       "<div>\n",
       "<style scoped>\n",
       "    .dataframe tbody tr th:only-of-type {\n",
       "        vertical-align: middle;\n",
       "    }\n",
       "\n",
       "    .dataframe tbody tr th {\n",
       "        vertical-align: top;\n",
       "    }\n",
       "\n",
       "    .dataframe thead th {\n",
       "        text-align: right;\n",
       "    }\n",
       "</style>\n",
       "<table border=\"1\" class=\"dataframe\">\n",
       "  <thead>\n",
       "    <tr style=\"text-align: right;\">\n",
       "      <th></th>\n",
       "      <th>comment</th>\n",
       "      <th>rating</th>\n",
       "      <th>label</th>\n",
       "      <th>preds</th>\n",
       "    </tr>\n",
       "  </thead>\n",
       "  <tbody>\n",
       "    <tr>\n",
       "      <th>258461</th>\n",
       "      <td>无话可说 .</td>\n",
       "      <td>3</td>\n",
       "      <td>1</td>\n",
       "      <td>2.623072</td>\n",
       "    </tr>\n",
       "    <tr>\n",
       "      <th>118491</th>\n",
       "      <td>老师 你 太 可爱</td>\n",
       "      <td>5</td>\n",
       "      <td>2</td>\n",
       "      <td>4.029983</td>\n",
       "    </tr>\n",
       "    <tr>\n",
       "      <th>44768</th>\n",
       "      <td>说 了 好多 话 ， 可惜 都 是 陈词滥调 、 无 凭 无据 。</td>\n",
       "      <td>2</td>\n",
       "      <td>0</td>\n",
       "      <td>3.084802</td>\n",
       "    </tr>\n",
       "    <tr>\n",
       "      <th>34630</th>\n",
       "      <td>普巴 家用 的 电脑 是 苹果 。</td>\n",
       "      <td>3</td>\n",
       "      <td>1</td>\n",
       "      <td>3.596427</td>\n",
       "    </tr>\n",
       "    <tr>\n",
       "      <th>382761</th>\n",
       "      <td>这 才 是 一 部 看 完 之后 观众 讲 不 清道 不 明 的 电影 ， 主线 不 明了 ...</td>\n",
       "      <td>4</td>\n",
       "      <td>2</td>\n",
       "      <td>3.324976</td>\n",
       "    </tr>\n",
       "  </tbody>\n",
       "</table>\n",
       "</div>"
      ],
      "text/plain": [
       "                                                  comment  rating  label  \\\n",
       "258461                                             无话可说 .       3      1   \n",
       "118491                                          老师 你 太 可爱       5      2   \n",
       "44768                   说 了 好多 话 ， 可惜 都 是 陈词滥调 、 无 凭 无据 。       2      0   \n",
       "34630                                   普巴 家用 的 电脑 是 苹果 。       3      1   \n",
       "382761  这 才 是 一 部 看 完 之后 观众 讲 不 清道 不 明 的 电影 ， 主线 不 明了 ...       4      2   \n",
       "\n",
       "           preds  \n",
       "258461  2.623072  \n",
       "118491  4.029983  \n",
       "44768   3.084802  \n",
       "34630   3.596427  \n",
       "382761  3.324976  "
      ]
     },
     "execution_count": 161,
     "metadata": {},
     "output_type": "execute_result"
    }
   ],
   "source": [
    "# Save predictions\n",
    "df_test.loc[df_test.iloc[list(iter(test_samp))].index, \"preds\"] = preds\n",
    "df_test.to_csv(path / \"df_test.csv.gz\", index=False, compression=\"gzip\")\n",
    "df_test.head()"
   ]
  },
  {
   "cell_type": "code",
   "execution_count": 162,
   "metadata": {},
   "outputs": [
    {
     "data": {
      "text/html": [
       "<div>\n",
       "<style scoped>\n",
       "    .dataframe tbody tr th:only-of-type {\n",
       "        vertical-align: middle;\n",
       "    }\n",
       "\n",
       "    .dataframe tbody tr th {\n",
       "        vertical-align: top;\n",
       "    }\n",
       "\n",
       "    .dataframe thead th {\n",
       "        text-align: right;\n",
       "    }\n",
       "</style>\n",
       "<table border=\"1\" class=\"dataframe\">\n",
       "  <thead>\n",
       "    <tr style=\"text-align: right;\">\n",
       "      <th></th>\n",
       "      <th>comment</th>\n",
       "      <th>rating</th>\n",
       "      <th>label</th>\n",
       "      <th>preds</th>\n",
       "    </tr>\n",
       "  </thead>\n",
       "  <tbody>\n",
       "    <tr>\n",
       "      <th>314998</th>\n",
       "      <td>要 能 拍 成 外 太空 九号 那样 的 其实 也 不错 。 自 以为 不 是 就 不行 。</td>\n",
       "      <td>1</td>\n",
       "      <td>0</td>\n",
       "      <td>2.886537</td>\n",
       "    </tr>\n",
       "    <tr>\n",
       "      <th>289493</th>\n",
       "      <td>有 种 观影 叫练 听力</td>\n",
       "      <td>1</td>\n",
       "      <td>0</td>\n",
       "      <td>3.224998</td>\n",
       "    </tr>\n",
       "    <tr>\n",
       "      <th>108073</th>\n",
       "      <td>后 现代 作品 的 审美 经常 无奈 的 发现 其 先锋 的 形式 后面 却 是 个 很 平...</td>\n",
       "      <td>3</td>\n",
       "      <td>1</td>\n",
       "      <td>3.587022</td>\n",
       "    </tr>\n",
       "    <tr>\n",
       "      <th>88535</th>\n",
       "      <td>三 年 前 标注 的 “ 想 看 ” ， 今天 终于 看 了 ~ 中规中矩 的 纪录片 ， ...</td>\n",
       "      <td>4</td>\n",
       "      <td>2</td>\n",
       "      <td>4.349826</td>\n",
       "    </tr>\n",
       "    <tr>\n",
       "      <th>483684</th>\n",
       "      <td>有点 小 特别 。</td>\n",
       "      <td>4</td>\n",
       "      <td>2</td>\n",
       "      <td>3.455689</td>\n",
       "    </tr>\n",
       "    <tr>\n",
       "      <th>89137</th>\n",
       "      <td>温柔 的 老师 可爱 的 JOJO</td>\n",
       "      <td>4</td>\n",
       "      <td>2</td>\n",
       "      <td>4.137681</td>\n",
       "    </tr>\n",
       "    <tr>\n",
       "      <th>268855</th>\n",
       "      <td>以后 看到 陈思成 都会 想到 变态 吧</td>\n",
       "      <td>2</td>\n",
       "      <td>0</td>\n",
       "      <td>3.396707</td>\n",
       "    </tr>\n",
       "    <tr>\n",
       "      <th>709102</th>\n",
       "      <td>剧情 能 再 烂 点儿 吗 ， 演员 能 再 假 点儿 吗</td>\n",
       "      <td>1</td>\n",
       "      <td>0</td>\n",
       "      <td>1.400551</td>\n",
       "    </tr>\n",
       "    <tr>\n",
       "      <th>234969</th>\n",
       "      <td>ʕ• ̫͡ •ʕ * ̫͡ * ʕ• ͓͡ •ʔ - ̫ ͡ - ʕ •̫ ͡• ʔ * ̫...</td>\n",
       "      <td>4</td>\n",
       "      <td>2</td>\n",
       "      <td>3.434104</td>\n",
       "    </tr>\n",
       "    <tr>\n",
       "      <th>298456</th>\n",
       "      <td>凯奇 近年来 接 的 最 好 的 片子</td>\n",
       "      <td>3</td>\n",
       "      <td>1</td>\n",
       "      <td>4.186922</td>\n",
       "    </tr>\n",
       "    <tr>\n",
       "      <th>113531</th>\n",
       "      <td>这个 系列 只有 这 一 集 有 中文 字幕</td>\n",
       "      <td>3</td>\n",
       "      <td>1</td>\n",
       "      <td>3.352055</td>\n",
       "    </tr>\n",
       "    <tr>\n",
       "      <th>371755</th>\n",
       "      <td>第二 部 虽然 笑点 稍逊 与 第一 部 ， 但是 整个 剧本 完成 的 依旧 让 人 信服...</td>\n",
       "      <td>4</td>\n",
       "      <td>2</td>\n",
       "      <td>3.684589</td>\n",
       "    </tr>\n",
       "    <tr>\n",
       "      <th>624443</th>\n",
       "      <td>把 背景 代入 当下 也 没 啥 毛病 。</td>\n",
       "      <td>2</td>\n",
       "      <td>0</td>\n",
       "      <td>2.702970</td>\n",
       "    </tr>\n",
       "    <tr>\n",
       "      <th>734107</th>\n",
       "      <td>没 看 完 就 不 想 看 了 ， 很 闷不说 ， 摄像 不 知道 怎么 也 玩 风格 ， ...</td>\n",
       "      <td>2</td>\n",
       "      <td>0</td>\n",
       "      <td>1.868311</td>\n",
       "    </tr>\n",
       "    <tr>\n",
       "      <th>304520</th>\n",
       "      <td>一 开始 以为 是 悬疑片 ， 中间 转 成 推理片 ， 后面 变成 文艺片 ， 后面 结尾...</td>\n",
       "      <td>3</td>\n",
       "      <td>1</td>\n",
       "      <td>2.990246</td>\n",
       "    </tr>\n",
       "    <tr>\n",
       "      <th>225398</th>\n",
       "      <td>发现 人类 社会 历史 中 真正 的 变革 都 是 通过 强硬 激进 的 手段 达成 的 目...</td>\n",
       "      <td>4</td>\n",
       "      <td>2</td>\n",
       "      <td>3.762046</td>\n",
       "    </tr>\n",
       "    <tr>\n",
       "      <th>503336</th>\n",
       "      <td>3.7 灯光 营造 环境 ， 不 喜欢 刻意 的 骚粉 花体字 跟 冷静 温柔 又 暴力 的...</td>\n",
       "      <td>3</td>\n",
       "      <td>1</td>\n",
       "      <td>3.190355</td>\n",
       "    </tr>\n",
       "    <tr>\n",
       "      <th>234901</th>\n",
       "      <td>导演 还 记得 住 自己 童年 的 那么 多 细节 。 很多 细节 也 是 我 曾经 的 记...</td>\n",
       "      <td>4</td>\n",
       "      <td>2</td>\n",
       "      <td>3.653496</td>\n",
       "    </tr>\n",
       "    <tr>\n",
       "      <th>270501</th>\n",
       "      <td>不知所谓</td>\n",
       "      <td>2</td>\n",
       "      <td>0</td>\n",
       "      <td>1.973144</td>\n",
       "    </tr>\n",
       "    <tr>\n",
       "      <th>755736</th>\n",
       "      <td>一个 普通人 怎么 会 有 这种 潜质 呢 ！ 必须 得 FBI 才 可以 吧</td>\n",
       "      <td>3</td>\n",
       "      <td>1</td>\n",
       "      <td>3.893303</td>\n",
       "    </tr>\n",
       "  </tbody>\n",
       "</table>\n",
       "</div>"
      ],
      "text/plain": [
       "                                                  comment  rating  label  \\\n",
       "314998     要 能 拍 成 外 太空 九号 那样 的 其实 也 不错 。 自 以为 不 是 就 不行 。       1      0   \n",
       "289493                                       有 种 观影 叫练 听力       1      0   \n",
       "108073  后 现代 作品 的 审美 经常 无奈 的 发现 其 先锋 的 形式 后面 却 是 个 很 平...       3      1   \n",
       "88535   三 年 前 标注 的 “ 想 看 ” ， 今天 终于 看 了 ~ 中规中矩 的 纪录片 ， ...       4      2   \n",
       "483684                                          有点 小 特别 。       4      2   \n",
       "89137                                   温柔 的 老师 可爱 的 JOJO       4      2   \n",
       "268855                               以后 看到 陈思成 都会 想到 变态 吧       2      0   \n",
       "709102                      剧情 能 再 烂 点儿 吗 ， 演员 能 再 假 点儿 吗       1      0   \n",
       "234969  ʕ• ̫͡ •ʕ * ̫͡ * ʕ• ͓͡ •ʔ - ̫ ͡ - ʕ •̫ ͡• ʔ * ̫...       4      2   \n",
       "298456                                凯奇 近年来 接 的 最 好 的 片子       3      1   \n",
       "113531                             这个 系列 只有 这 一 集 有 中文 字幕       3      1   \n",
       "371755  第二 部 虽然 笑点 稍逊 与 第一 部 ， 但是 整个 剧本 完成 的 依旧 让 人 信服...       4      2   \n",
       "624443                              把 背景 代入 当下 也 没 啥 毛病 。       2      0   \n",
       "734107  没 看 完 就 不 想 看 了 ， 很 闷不说 ， 摄像 不 知道 怎么 也 玩 风格 ， ...       2      0   \n",
       "304520  一 开始 以为 是 悬疑片 ， 中间 转 成 推理片 ， 后面 变成 文艺片 ， 后面 结尾...       3      1   \n",
       "225398  发现 人类 社会 历史 中 真正 的 变革 都 是 通过 强硬 激进 的 手段 达成 的 目...       4      2   \n",
       "503336  3.7 灯光 营造 环境 ， 不 喜欢 刻意 的 骚粉 花体字 跟 冷静 温柔 又 暴力 的...       3      1   \n",
       "234901  导演 还 记得 住 自己 童年 的 那么 多 细节 。 很多 细节 也 是 我 曾经 的 记...       4      2   \n",
       "270501                                               不知所谓       2      0   \n",
       "755736            一个 普通人 怎么 会 有 这种 潜质 呢 ！ 必须 得 FBI 才 可以 吧       3      1   \n",
       "\n",
       "           preds  \n",
       "314998  2.886537  \n",
       "289493  3.224998  \n",
       "108073  3.587022  \n",
       "88535   4.349826  \n",
       "483684  3.455689  \n",
       "89137   4.137681  \n",
       "268855  3.396707  \n",
       "709102  1.400551  \n",
       "234969  3.434104  \n",
       "298456  4.186922  \n",
       "113531  3.352055  \n",
       "371755  3.684589  \n",
       "624443  2.702970  \n",
       "734107  1.868311  \n",
       "304520  2.990246  \n",
       "225398  3.762046  \n",
       "503336  3.190355  \n",
       "234901  3.653496  \n",
       "270501  1.973144  \n",
       "755736  3.893303  "
      ]
     },
     "execution_count": 162,
     "metadata": {},
     "output_type": "execute_result"
    }
   ],
   "source": [
    "df_test.sample(20)"
   ]
  },
  {
   "cell_type": "code",
   "execution_count": 163,
   "metadata": {},
   "outputs": [
    {
     "data": {
      "text/plain": [
       "0.7242149914808932"
      ]
     },
     "execution_count": 163,
     "metadata": {},
     "output_type": "execute_result"
    }
   ],
   "source": [
    "np.sum(np.square(df_test.rating.values - df_test.preds.values)) / preds.shape[0]"
   ]
  },
  {
   "cell_type": "code",
   "execution_count": 164,
   "metadata": {},
   "outputs": [],
   "source": [
    "preds_class = np.round(preds)"
   ]
  },
  {
   "cell_type": "code",
   "execution_count": 165,
   "metadata": {},
   "outputs": [
    {
     "name": "stdout",
     "output_type": "stream",
     "text": [
      "Confusion matrix, without normalization\n",
      "[[ 1316  4475  4701  1004    26]\n",
      " [  577  6552 13621  2516    14]\n",
      " [   71  3925 37805 19421   153]\n",
      " [    6   583 17773 35001  1286]\n",
      " [    7   212  4666 18066  2432]]\n"
     ]
    },
    {
     "data": {
      "image/png": "[encoded data removed]",
      "text/plain": [
       "<Figure size 432x288 with 2 Axes>"
      ]
     },
     "metadata": {},
     "output_type": "display_data"
    }
   ],
   "source": [
    "cnf_matrix = confusion_matrix(ys, preds_class)\n",
    "np.set_printoptions(precision=2)\n",
    "\n",
    "# Plot non-normalized confusion matrix\n",
    "plt.figure()\n",
    "plot_confusion_matrix(\n",
    "    cnf_matrix, classes=[0, 1, 2],\n",
    "    title='Confusion matrix, without normalization')"
   ]
  },
  {
   "cell_type": "code",
   "execution_count": 166,
   "metadata": {},
   "outputs": [
    {
     "name": "stdout",
     "output_type": "stream",
     "text": [
      "Class 0: P 67%, R 11%, FS 0.19, Support: 11522\n",
      "Class 1: P 42%, R 28%, FS 0.34, Support: 23280\n",
      "Class 2: P 48%, R 62%, FS 0.54, Support: 61375\n",
      "Class 3: P 46%, R 64%, FS 0.54, Support: 54649\n",
      "Class 4: P 62%, R 10%, FS 0.17, Support: 25383\n"
     ]
    }
   ],
   "source": [
    "from sklearn.metrics import precision_recall_fscore_support\n",
    "precision, recall, fscore, support = precision_recall_fscore_support(ys, preds_class)\n",
    "for i in range(5):\n",
    "    print(f\"Class {i}: P {precision[i]*100:.0f}%, R {recall[i]*100:.0f}%, FS {fscore[i]:.2f}, Support: {support[i]}\")"
   ]
  },
  {
   "cell_type": "code",
   "execution_count": 177,
   "metadata": {},
   "outputs": [],
   "source": [
    "def get_prediction(texts):\n",
    "    input_tensor = T(np.array([1] + [mapping.get(x, UNK) for x in texts])).unsqueeze(1)\n",
    "    return learn.model(input_tensor)[0].data.cpu().numpy()[0, 0]"
   ]
  },
  {
   "cell_type": "code",
   "execution_count": 178,
   "metadata": {},
   "outputs": [
    {
     "data": {
      "text/plain": [
       "3.2468698"
      ]
     },
     "execution_count": 178,
     "metadata": {},
     "output_type": "execute_result"
    }
   ],
   "source": [
    "get_prediction(\"看了快一半了才发现是mini的广告\")"
   ]
  },
  {
   "cell_type": "code",
   "execution_count": 179,
   "metadata": {},
   "outputs": [
    {
     "data": {
      "text/plain": [
       "3.901013"
      ]
     },
     "execution_count": 179,
     "metadata": {},
     "output_type": "execute_result"
    }
   ],
   "source": [
    "get_prediction(\"妈蛋，简直太好看了。最后的DJ battle部分，兴奋的我，简直想从座位上站起来一起扭\")"
   ]
  },
  {
   "cell_type": "code",
   "execution_count": 180,
   "metadata": {},
   "outputs": [
    {
     "data": {
      "text/plain": [
       "3.1567433"
      ]
     },
     "execution_count": 180,
     "metadata": {},
     "output_type": "execute_result"
    }
   ],
   "source": [
    "get_prediction(\"说实话我没怎么认真看，电影院里的熊孩子太闹腾了，前面的小奶娃还时不时站在老爸腿上蹦迪，观影体验极差，不过小朋友应该挺喜欢的\")"
   ]
  },
  {
   "cell_type": "code",
   "execution_count": 181,
   "metadata": {},
   "outputs": [
    {
     "data": {
      "text/plain": [
       "3.5239468"
      ]
     },
     "execution_count": 181,
     "metadata": {},
     "output_type": "execute_result"
    }
   ],
   "source": [
    "get_prediction(\"李冰冰的脸真的很紧绷，比鲨鱼的脸还绷。\")"
   ]
  },
  {
   "cell_type": "code",
   "execution_count": 182,
   "metadata": {},
   "outputs": [
    {
     "data": {
      "text/plain": [
       "1.4538441"
      ]
     },
     "execution_count": 182,
     "metadata": {},
     "output_type": "execute_result"
    }
   ],
   "source": [
    "get_prediction(\"太烂了，难看至极。\")"
   ]
  },
  {
   "cell_type": "code",
   "execution_count": 183,
   "metadata": {},
   "outputs": [
    {
     "data": {
      "text/plain": [
       "2.41293"
      ]
     },
     "execution_count": 183,
     "metadata": {},
     "output_type": "execute_result"
    }
   ],
   "source": [
    "get_prediction(\"还我电影票14元\")"
   ]
  },
  {
   "cell_type": "code",
   "execution_count": 184,
   "metadata": {},
   "outputs": [
    {
     "data": {
      "text/plain": [
       "3.23396"
      ]
     },
     "execution_count": 184,
     "metadata": {},
     "output_type": "execute_result"
    }
   ],
   "source": [
    "get_prediction(\"好了可以了。再也不看Marvel了。我努力过了。实在是。。啥呀这是。🙄️\")"
   ]
  },
  {
   "cell_type": "code",
   "execution_count": 185,
   "metadata": {},
   "outputs": [
    {
     "data": {
      "text/plain": [
       "3.2597156"
      ]
     },
     "execution_count": 185,
     "metadata": {},
     "output_type": "execute_result"
    }
   ],
   "source": [
    "get_prediction(\"把我基神写成智障，辣鸡mcu\")"
   ]
  },
  {
   "cell_type": "code",
   "execution_count": null,
   "metadata": {},
   "outputs": [],
   "source": []
  }
 ],
 "metadata": {
  "kernelspec": {
   "display_name": "Python 3",
   "language": "python",
   "name": "python3"
  },
  "language_info": {
   "codemirror_mode": {
    "name": "ipython",
    "version": 3
   },
   "file_extension": ".py",
   "mimetype": "text/x-python",
   "name": "python",
   "nbconvert_exporter": "python",
   "pygments_lexer": "ipython3",
   "version": "3.6.6"
  }
 },
 "nbformat": 4,
 "nbformat_minor": 2
}
