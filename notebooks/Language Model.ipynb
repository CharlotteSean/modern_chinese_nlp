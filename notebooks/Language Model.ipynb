{
 "cells": [
  {
   "cell_type": "code",
   "execution_count": 1,
   "metadata": {},
   "outputs": [],
   "source": [
    "import sys\n",
    "sys.path.append(\"../\")"
   ]
  },
  {
   "cell_type": "code",
   "execution_count": 2,
   "metadata": {},
   "outputs": [
    {
     "name": "stderr",
     "output_type": "stream",
     "text": [
      "/opt/conda/lib/python3.6/importlib/_bootstrap.py:219: RuntimeWarning: numpy.dtype size changed, may indicate binary incompatibility. Expected 96, got 88\n",
      "  return f(*args, **kwds)\n",
      "/opt/conda/lib/python3.6/importlib/_bootstrap.py:219: RuntimeWarning: numpy.dtype size changed, may indicate binary incompatibility. Expected 96, got 88\n",
      "  return f(*args, **kwds)\n",
      "/opt/conda/lib/python3.6/site-packages/sklearn/ensemble/weight_boosting.py:29: DeprecationWarning: numpy.core.umath_tests is an internal NumPy module and should not be imported. It will be removed in a future NumPy release.\n",
      "  from numpy.core.umath_tests import inner1d\n",
      "/opt/conda/lib/python3.6/importlib/_bootstrap.py:219: RuntimeWarning: numpy.dtype size changed, may indicate binary incompatibility. Expected 96, got 88\n",
      "  return f(*args, **kwds)\n",
      "/opt/conda/lib/python3.6/importlib/_bootstrap.py:219: RuntimeWarning: numpy.ufunc size changed, may indicate binary incompatibility. Expected 192, got 176\n",
      "  return f(*args, **kwds)\n"
     ]
    }
   ],
   "source": [
    "from pathlib import Path\n",
    "from functools import partial\n",
    "\n",
    "import joblib\n",
    "import pandas as pd\n",
    "import numpy as np\n",
    "\n",
    "from sklearn.model_selection import train_test_split\n",
    "from fastai.text import LanguageModelLoader, LanguageModelData\n",
    "from fastai.core import T\n",
    "from fastai.rnn_reg import EmbeddingDropout\n",
    "from torch.optim import Adam\n",
    "import torch.nn as nn\n",
    "import torch"
   ]
  },
  {
   "cell_type": "code",
   "execution_count": 3,
   "metadata": {},
   "outputs": [],
   "source": [
    "tokens = joblib.load(\"../data/tokens.pkl\")"
   ]
  },
  {
   "cell_type": "code",
   "execution_count": 4,
   "metadata": {},
   "outputs": [],
   "source": [
    "# Filter out empty texts\n",
    "tokens = [x for x in tokens if x.shape[0] > 0]"
   ]
  },
  {
   "cell_type": "code",
   "execution_count": 5,
   "metadata": {},
   "outputs": [],
   "source": [
    "trn_tokens, val_tokens = train_test_split(tokens, test_size=0.2)\n",
    "val_tokens, tst_tokens = train_test_split(val_tokens, test_size=0.5)"
   ]
  },
  {
   "cell_type": "code",
   "execution_count": 6,
   "metadata": {},
   "outputs": [
    {
     "name": "stdout",
     "output_type": "stream",
     "text": [
      "Total tokens: 89299699\n",
      "Unknown Percentage: 0.68 %\n"
     ]
    }
   ],
   "source": [
    "def get_voc_stats(tokens):\n",
    "    total_tokens = np.sum([x.shape[0] for x in tokens])\n",
    "    unks = np.sum([np.sum(x == 1) for x in tokens])\n",
    "    print(\"Total tokens: %d\\nUnknown Percentage: %.2f %%\" % (total_tokens, unks * 100 / total_tokens))\n",
    "get_voc_stats(tokens)"
   ]
  },
  {
   "cell_type": "code",
   "execution_count": 13,
   "metadata": {},
   "outputs": [],
   "source": [
    "bptt = 100\n",
    "batch_size = 128\n",
    "n_tok = int(np.max([np.max(x) for x in tokens]) + 1)\n",
    "trn_loader = LanguageModelLoader(\n",
    "    np.concatenate(trn_tokens), batch_size, bptt)\n",
    "val_loader = LanguageModelLoader(\n",
    "    np.concatenate(val_tokens), batch_size, bptt)\n",
    "tst_loader = LanguageModelLoader(\n",
    "    np.concatenate(tst_tokens), batch_size, bptt)"
   ]
  },
  {
   "cell_type": "markdown",
   "metadata": {},
   "source": [
    "### QRNN Model"
   ]
  },
  {
   "cell_type": "code",
   "execution_count": 8,
   "metadata": {},
   "outputs": [],
   "source": [
    "path = Path(\"../data/cache/lm/\")\n",
    "path.mkdir(parents=True, exist_ok=True)\n",
    "model_data = LanguageModelData(\n",
    "    path, pad_idx=0, n_tok=n_tok, trn_dl=trn_loader, val_dl=val_loader, test_ds=tst_loader\n",
    ")"
   ]
  },
  {
   "cell_type": "code",
   "execution_count": 10,
   "metadata": {},
   "outputs": [],
   "source": [
    "drops = np.array([0.25, 0.1, 0.2, 0.02, 0.15])\n",
    "learner = model_data.get_model(\n",
    "    partial(Adam, betas=(0.8, 0.999)),\n",
    "    emb_sz=300, n_hid=300, n_layers=4,\n",
    "    dropouti=drops[0], dropout=drops[1], wdrop=drops[2],\n",
    "    dropoute=drops[3], dropouth=drops[4], qrnn=True\n",
    ")"
   ]
  },
  {
   "cell_type": "code",
   "execution_count": 11,
   "metadata": {},
   "outputs": [
    {
     "data": {
      "application/vnd.jupyter.widget-view+json": {
       "model_id": "af05c483943d44149b37c3371321c3ab",
       "version_major": 2,
       "version_minor": 0
      },
      "text/plain": [
       "HBox(children=(IntProgress(value=0, description='Epoch', max=1), HTML(value='')))"
      ]
     },
     "metadata": {},
     "output_type": "display_data"
    },
    {
     "name": "stdout",
     "output_type": "stream",
     "text": [
      "epoch      trn_loss   val_loss                                \n",
      "    0      9.667005   8.039155  \n",
      "\n"
     ]
    },
    {
     "data": {
      "image/png": "[encoded data removed]",
      "text/plain": [
       "<Figure size 432x288 with 1 Axes>"
      ]
     },
     "metadata": {},
     "output_type": "display_data"
    }
   ],
   "source": [
    "learner.clip = 25.\n",
    "learner.lr_find(start_lr=1e-5, end_lr=1, linear=False)\n",
    "learner.sched.plot()"
   ]
  },
  {
   "cell_type": "code",
   "execution_count": 11,
   "metadata": {},
   "outputs": [
    {
     "data": {
      "application/vnd.jupyter.widget-view+json": {
       "model_id": "aae717a94d174667a861d162653b3828",
       "version_major": 2,
       "version_minor": 0
      },
      "text/plain": [
       "HBox(children=(IntProgress(value=0, description='Epoch', max=20), HTML(value='')))"
      ]
     },
     "metadata": {},
     "output_type": "display_data"
    },
    {
     "name": "stdout",
     "output_type": "stream",
     "text": [
      "epoch      trn_loss   val_loss                                \n",
      "    0      4.237627   4.015834  \n",
      "    1      3.803474   3.52302                                 \n",
      "    2      3.636249   3.351241                                \n",
      "    3      3.570377   3.275911                                \n",
      "    4      3.521982   3.217143                                \n",
      "    5      3.466035   3.18096                                 \n",
      "    6      3.461691   3.15281                                 \n",
      "    7      3.446914   3.130973                                \n",
      "    8      3.414688   3.115056                                \n",
      "    9      3.407785   3.106338                                \n",
      "    10     3.419165   3.091492                                \n",
      "    11     3.39356    3.080882                                \n",
      "    12     3.397776   3.073432                                \n",
      "    13     3.393257   3.066951                                \n",
      "    14     3.382788   3.059156                                \n",
      "    15     3.381986   3.054795                                \n",
      "    16     3.372572   3.048821                                \n",
      "    17     3.324841   3.043802                                \n",
      "    18     3.373167   3.042037                                \n",
      "    19     3.360454   3.037107                                \n",
      "\n"
     ]
    },
    {
     "data": {
      "text/plain": [
       "[3.0371074495996746]"
      ]
     },
     "execution_count": 11,
     "metadata": {},
     "output_type": "execute_result"
    }
   ],
   "source": [
    "lrs = 2e-3\n",
    "learner.fit(lrs, 1, wds=1e-7, use_clr=(50, 5), cycle_len=20, use_wd_sched=True)"
   ]
  },
  {
   "cell_type": "code",
   "execution_count": 12,
   "metadata": {},
   "outputs": [
    {
     "data": {
      "image/png": "[encoded data removed]",
      "text/plain": [
       "<Figure size 432x288 with 1 Axes>"
      ]
     },
     "metadata": {},
     "output_type": "display_data"
    }
   ],
   "source": [
    "learner.sched.plot_lr()"
   ]
  },
  {
   "cell_type": "code",
   "execution_count": 14,
   "metadata": {},
   "outputs": [
    {
     "data": {
      "image/png": "[encoded data removed]",
      "text/plain": [
       "<Figure size 432x288 with 1 Axes>"
      ]
     },
     "metadata": {},
     "output_type": "display_data"
    }
   ],
   "source": [
    "learner.sched.plot_loss()"
   ]
  },
  {
   "cell_type": "code",
   "execution_count": 16,
   "metadata": {},
   "outputs": [],
   "source": [
    "learner.save(\"lm_qrnn\")\n",
    "learner.save_encoder(\"lm_qrnn_enc\")"
   ]
  },
  {
   "cell_type": "markdown",
   "metadata": {},
   "source": [
    "### LSTM"
   ]
  },
  {
   "cell_type": "code",
   "execution_count": 31,
   "metadata": {},
   "outputs": [],
   "source": [
    "drops = np.array([0.25, 0.1, 0.2, 0.02, 0.15])\n",
    "learner = model_data.get_model(\n",
    "    partial(Adam, betas=(0.8, 0.999)),\n",
    "    emb_sz=300, n_hid=300, n_layers=3,\n",
    "    dropouti=drops[0], dropout=drops[1], wdrop=drops[2],\n",
    "    dropoute=drops[3], dropouth=drops[4], qrnn=False\n",
    ")"
   ]
  },
  {
   "cell_type": "code",
   "execution_count": 32,
   "metadata": {},
   "outputs": [
    {
     "data": {
      "application/vnd.jupyter.widget-view+json": {
       "model_id": "279c8f28266046bf9ee381e8ba7d9405",
       "version_major": 2,
       "version_minor": 0
      },
      "text/plain": [
       "HBox(children=(IntProgress(value=0, description='Epoch', max=1), HTML(value='')))"
      ]
     },
     "metadata": {},
     "output_type": "display_data"
    },
    {
     "name": "stdout",
     "output_type": "stream",
     "text": [
      " 82%|████████▏ | 4553/5560 [05:56<01:18, 12.77it/s, loss=14.3]"
     ]
    },
    {
     "data": {
      "image/png": "[encoded data removed]",
      "text/plain": [
       "<Figure size 432x288 with 1 Axes>"
      ]
     },
     "metadata": {},
     "output_type": "display_data"
    }
   ],
   "source": [
    "learner.clip = 25.\n",
    "learner.lr_find(start_lr=1e-5, end_lr=1, linear=False)\n",
    "learner.sched.plot()"
   ]
  },
  {
   "cell_type": "code",
   "execution_count": 33,
   "metadata": {},
   "outputs": [
    {
     "data": {
      "application/vnd.jupyter.widget-view+json": {
       "model_id": "5d3603e840ed4d9a9eaf3feab9def1e8",
       "version_major": 2,
       "version_minor": 0
      },
      "text/plain": [
       "HBox(children=(IntProgress(value=0, description='Epoch', max=20), HTML(value='')))"
      ]
     },
     "metadata": {},
     "output_type": "display_data"
    },
    {
     "name": "stdout",
     "output_type": "stream",
     "text": [
      "epoch      trn_loss   val_loss                                \n",
      "    0      3.735518   3.557686  \n",
      "    1      3.378875   3.133255                                \n",
      "    2      3.273794   3.017984                                \n",
      "    3      3.239015   2.966163                                \n",
      "    4      3.183572   2.907244                                \n",
      "    5      3.158002   2.878286                                \n",
      "    6      3.138812   2.858471                                \n",
      "    7      3.124154   2.836141                                \n",
      "    8      3.107467   2.824919                                \n",
      "    9      3.092159   2.808824                                \n",
      "    10     3.078499   2.797607                                \n",
      "    11     3.07259    2.789364                                \n",
      "    12     3.061139   2.77668                                 \n",
      "    13     3.048085   2.765979                                \n",
      "    14     3.045886   2.759994                                \n",
      "    15     3.033887   2.751851                                \n",
      "    16     3.034877   2.743908                                \n",
      "    17     3.027546   2.7375                                  \n",
      "    18     3.001253   2.730963                                \n",
      "    19     3.018814   2.727246                                \n"
     ]
    },
    {
     "data": {
      "text/plain": [
       "[2.727246059349605]"
      ]
     },
     "execution_count": 33,
     "metadata": {},
     "output_type": "execute_result"
    }
   ],
   "source": [
    "lrs = 3e-3\n",
    "learner.fit(lrs, 1, wds=1e-7, use_clr=(50, 5), cycle_len=20, use_wd_sched=True)"
   ]
  },
  {
   "cell_type": "code",
   "execution_count": 34,
   "metadata": {},
   "outputs": [
    {
     "data": {
      "image/png": "[encoded data removed]",
      "text/plain": [
       "<Figure size 432x288 with 1 Axes>"
      ]
     },
     "metadata": {},
     "output_type": "display_data"
    }
   ],
   "source": [
    "learner.sched.plot_lr()"
   ]
  },
  {
   "cell_type": "code",
   "execution_count": 35,
   "metadata": {},
   "outputs": [],
   "source": [
    "learner.save(\"lm_lstm\")\n",
    "learner.save_encoder(\"lm_lstm_enc\")"
   ]
  },
  {
   "cell_type": "markdown",
   "metadata": {},
   "source": [
    "## Test the model"
   ]
  },
  {
   "cell_type": "code",
   "execution_count": 52,
   "metadata": {},
   "outputs": [
    {
     "data": {
      "text/plain": [
       "SequentialRNN(\n",
       "  (0): RNN_Encoder(\n",
       "    (encoder): Embedding(3096, 300, padding_idx=0)\n",
       "    (encoder_with_dropout): EmbeddingDropout(\n",
       "      (embed): Embedding(3096, 300, padding_idx=0)\n",
       "    )\n",
       "    (rnns): ModuleList(\n",
       "      (0): WeightDrop(\n",
       "        (module): LSTM(300, 300)\n",
       "      )\n",
       "      (1): WeightDrop(\n",
       "        (module): LSTM(300, 300)\n",
       "      )\n",
       "      (2): WeightDrop(\n",
       "        (module): LSTM(300, 300)\n",
       "      )\n",
       "    )\n",
       "    (dropouti): LockedDropout()\n",
       "    (dropouths): ModuleList(\n",
       "      (0): LockedDropout()\n",
       "      (1): LockedDropout()\n",
       "      (2): LockedDropout()\n",
       "    )\n",
       "  )\n",
       "  (1): LinearDecoder(\n",
       "    (decoder): Linear(in_features=300, out_features=3096, bias=False)\n",
       "    (dropout): LockedDropout()\n",
       "  )\n",
       ")"
      ]
     },
     "execution_count": 52,
     "metadata": {},
     "output_type": "execute_result"
    }
   ],
   "source": [
    "learner.model.eval()"
   ]
  },
  {
   "cell_type": "markdown",
   "metadata": {},
   "source": [
    "### Next Character Inference"
   ]
  },
  {
   "cell_type": "code",
   "execution_count": 53,
   "metadata": {},
   "outputs": [],
   "source": [
    "mapping = joblib.load(\"../data/mapping.pkl\")"
   ]
  },
  {
   "cell_type": "code",
   "execution_count": 54,
   "metadata": {},
   "outputs": [],
   "source": [
    "itos = ['<unk>'] *  n_tok\n",
    "for k, v in mapping.items():\n",
    "    itos[v] = k"
   ]
  },
  {
   "cell_type": "code",
   "execution_count": 55,
   "metadata": {},
   "outputs": [
    {
     "data": {
      "text/plain": [
       "[122,\n",
       " 24,\n",
       " 23,\n",
       " 146,\n",
       " 277,\n",
       " 32,\n",
       " 24,\n",
       " 65,\n",
       " 25,\n",
       " 3,\n",
       " 97,\n",
       " 24,\n",
       " 167,\n",
       " 92,\n",
       " 286,\n",
       " 256,\n",
       " 912,\n",
       " 48,\n",
       " 24,\n",
       " 375,\n",
       " 1140,\n",
       " 736,\n",
       " 213]"
      ]
     },
     "execution_count": 55,
     "metadata": {},
     "output_type": "execute_result"
    }
   ],
   "source": [
    "tokens = list(map(lambda x: mapping.get(x, 1), \"德国是世界大国之一，其国内生产总值以国际汇率计\"))\n",
    "tokens"
   ]
  },
  {
   "cell_type": "code",
   "execution_count": 56,
   "metadata": {},
   "outputs": [
    {
     "data": {
      "text/plain": [
       "torch.Size([23, 3096])"
      ]
     },
     "execution_count": 56,
     "metadata": {},
     "output_type": "execute_result"
    }
   ],
   "source": [
    "logits, _, _ = learner.model(T(tokens).unsqueeze(1))\n",
    "logits.shape"
   ]
  },
  {
   "cell_type": "code",
   "execution_count": 57,
   "metadata": {},
   "outputs": [
    {
     "data": {
      "text/html": [
       "<div>\n",
       "<style scoped>\n",
       "    .dataframe tbody tr th:only-of-type {\n",
       "        vertical-align: middle;\n",
       "    }\n",
       "\n",
       "    .dataframe tbody tr th {\n",
       "        vertical-align: top;\n",
       "    }\n",
       "\n",
       "    .dataframe thead th {\n",
       "        text-align: right;\n",
       "    }\n",
       "</style>\n",
       "<table border=\"1\" class=\"dataframe\">\n",
       "  <thead>\n",
       "    <tr style=\"text-align: right;\">\n",
       "      <th></th>\n",
       "      <th>orig</th>\n",
       "      <th>pred_1</th>\n",
       "      <th>pred_2</th>\n",
       "      <th>pred_3</th>\n",
       "    </tr>\n",
       "  </thead>\n",
       "  <tbody>\n",
       "    <tr>\n",
       "      <th>0</th>\n",
       "      <td>德</td>\n",
       "      <td></td>\n",
       "      <td></td>\n",
       "      <td></td>\n",
       "    </tr>\n",
       "    <tr>\n",
       "      <th>1</th>\n",
       "      <td>国</td>\n",
       "      <td>》</td>\n",
       "      <td>&lt;unk&gt;</td>\n",
       "      <td>的</td>\n",
       "    </tr>\n",
       "    <tr>\n",
       "      <th>2</th>\n",
       "      <td>是</td>\n",
       "      <td>》</td>\n",
       "      <td>王</td>\n",
       "      <td>家</td>\n",
       "    </tr>\n",
       "    <tr>\n",
       "      <th>3</th>\n",
       "      <td>世</td>\n",
       "      <td>日</td>\n",
       "      <td>一</td>\n",
       "      <td>&lt;unk&gt;</td>\n",
       "    </tr>\n",
       "    <tr>\n",
       "      <th>4</th>\n",
       "      <td>界</td>\n",
       "      <td>界</td>\n",
       "      <td>纪</td>\n",
       "      <td>嘉</td>\n",
       "    </tr>\n",
       "    <tr>\n",
       "      <th>5</th>\n",
       "      <td>大</td>\n",
       "      <td>上</td>\n",
       "      <td>各</td>\n",
       "      <td>遗</td>\n",
       "    </tr>\n",
       "    <tr>\n",
       "      <th>6</th>\n",
       "      <td>国</td>\n",
       "      <td>战</td>\n",
       "      <td>陆</td>\n",
       "      <td>学</td>\n",
       "    </tr>\n",
       "    <tr>\n",
       "      <th>7</th>\n",
       "      <td>之</td>\n",
       "      <td>》</td>\n",
       "      <td>的</td>\n",
       "      <td>，</td>\n",
       "    </tr>\n",
       "    <tr>\n",
       "      <th>8</th>\n",
       "      <td>一</td>\n",
       "      <td>一</td>\n",
       "      <td>战</td>\n",
       "      <td>间</td>\n",
       "    </tr>\n",
       "    <tr>\n",
       "      <th>9</th>\n",
       "      <td>，</td>\n",
       "      <td>》</td>\n",
       "      <td>，</td>\n",
       "      <td>的</td>\n",
       "    </tr>\n",
       "    <tr>\n",
       "      <th>10</th>\n",
       "      <td>其</td>\n",
       "      <td>是</td>\n",
       "      <td>在</td>\n",
       "      <td>日</td>\n",
       "    </tr>\n",
       "    <tr>\n",
       "      <th>11</th>\n",
       "      <td>国</td>\n",
       "      <td>中</td>\n",
       "      <td>后</td>\n",
       "      <td>主</td>\n",
       "    </tr>\n",
       "    <tr>\n",
       "      <th>12</th>\n",
       "      <td>内</td>\n",
       "      <td>家</td>\n",
       "      <td>际</td>\n",
       "      <td>王</td>\n",
       "    </tr>\n",
       "    <tr>\n",
       "      <th>13</th>\n",
       "      <td>生</td>\n",
       "      <td>的</td>\n",
       "      <td>最</td>\n",
       "      <td>有</td>\n",
       "    </tr>\n",
       "    <tr>\n",
       "      <th>14</th>\n",
       "      <td>产</td>\n",
       "      <td>活</td>\n",
       "      <td>产</td>\n",
       "      <td>态</td>\n",
       "    </tr>\n",
       "    <tr>\n",
       "      <th>15</th>\n",
       "      <td>总</td>\n",
       "      <td>的</td>\n",
       "      <td>商</td>\n",
       "      <td>了</td>\n",
       "    </tr>\n",
       "    <tr>\n",
       "      <th>16</th>\n",
       "      <td>值</td>\n",
       "      <td>值</td>\n",
       "      <td>量</td>\n",
       "      <td>额</td>\n",
       "    </tr>\n",
       "    <tr>\n",
       "      <th>17</th>\n",
       "      <td>以</td>\n",
       "      <td>最</td>\n",
       "      <td>为</td>\n",
       "      <td>达</td>\n",
       "    </tr>\n",
       "    <tr>\n",
       "      <th>18</th>\n",
       "      <td>国</td>\n",
       "      <td>1</td>\n",
       "      <td>及</td>\n",
       "      <td>2</td>\n",
       "    </tr>\n",
       "    <tr>\n",
       "      <th>19</th>\n",
       "      <td>际</td>\n",
       "      <td>家</td>\n",
       "      <td>际</td>\n",
       "      <td>内</td>\n",
       "    </tr>\n",
       "    <tr>\n",
       "      <th>20</th>\n",
       "      <td>汇</td>\n",
       "      <td>性</td>\n",
       "      <td>的</td>\n",
       "      <td>标</td>\n",
       "    </tr>\n",
       "    <tr>\n",
       "      <th>21</th>\n",
       "      <td>率</td>\n",
       "      <td>率</td>\n",
       "      <td>流</td>\n",
       "      <td>丰</td>\n",
       "    </tr>\n",
       "    <tr>\n",
       "      <th>22</th>\n",
       "      <td>计</td>\n",
       "      <td>为</td>\n",
       "      <td>的</td>\n",
       "      <td>，</td>\n",
       "    </tr>\n",
       "    <tr>\n",
       "      <th>23</th>\n",
       "      <td></td>\n",
       "      <td>算</td>\n",
       "      <td>划</td>\n",
       "      <td>量</td>\n",
       "    </tr>\n",
       "  </tbody>\n",
       "</table>\n",
       "</div>"
      ],
      "text/plain": [
       "   orig pred_1 pred_2 pred_3\n",
       "0     德                     \n",
       "1     国      》  <unk>      的\n",
       "2     是      》      王      家\n",
       "3     世      日      一  <unk>\n",
       "4     界      界      纪      嘉\n",
       "5     大      上      各      遗\n",
       "6     国      战      陆      学\n",
       "7     之      》      的      ，\n",
       "8     一      一      战      间\n",
       "9     ，      》      ，      的\n",
       "10    其      是      在      日\n",
       "11    国      中      后      主\n",
       "12    内      家      际      王\n",
       "13    生      的      最      有\n",
       "14    产      活      产      态\n",
       "15    总      的      商      了\n",
       "16    值      值      量      额\n",
       "17    以      最      为      达\n",
       "18    国      1      及      2\n",
       "19    际      家      际      内\n",
       "20    汇      性      的      标\n",
       "21    率      率      流      丰\n",
       "22    计      为      的      ，\n",
       "23           算      划      量"
      ]
     },
     "execution_count": 57,
     "metadata": {},
     "output_type": "execute_result"
    }
   ],
   "source": [
    "sorted_idx = np.argsort(logits.data.cpu().numpy(), 1)\n",
    "preds = []\n",
    "for i in range(1, 4):\n",
    "      preds.append(list(map(lambda x: itos[x], sorted_idx[:, -i])))\n",
    "# preds = list(map(lambda x: itos[x], np.argmax(logits.data.cpu().numpy(), 1)))\n",
    "pd.DataFrame({\"orig\": [x for x in \"德国是世界大国之一，其国内生产总值以国际汇率计 \"], \n",
    "              \"pred_1\": [\"\"] + preds[0], \"pred_2\": [\"\"] + preds[1], \"pred_3\": [\"\"] + preds[2]})"
   ]
  },
  {
   "cell_type": "code",
   "execution_count": 88,
   "metadata": {},
   "outputs": [],
   "source": [
    "def eval(texts):\n",
    "    learner.model[0].reset()\n",
    "    tokens = list(map(lambda x: mapping.get(x, 1), texts))\n",
    "    logits, _, _ = learner.model(T(tokens).unsqueeze(1))\n",
    "    sorted_idx = np.argsort(logits.data.cpu().numpy(), 1)\n",
    "    preds = []\n",
    "    for i in range(1, 4):\n",
    "          preds.append(list(map(lambda x: itos[x], sorted_idx[:, -i])))\n",
    "    # preds = list(map(lambda x: itos[x], np.argmax(logits.data.cpu().numpy(), 1)))\n",
    "    return pd.DataFrame({\"orig\": [x for x in texts + \" \"], \n",
    "                  \"pred_1\": [\"\"] + preds[0], \"pred_2\": [\"\"] + preds[1], \"pred_3\": [\"\"] + preds[2]})"
   ]
  },
  {
   "cell_type": "code",
   "execution_count": 89,
   "metadata": {},
   "outputs": [
    {
     "data": {
      "text/html": [
       "<div>\n",
       "<style scoped>\n",
       "    .dataframe tbody tr th:only-of-type {\n",
       "        vertical-align: middle;\n",
       "    }\n",
       "\n",
       "    .dataframe tbody tr th {\n",
       "        vertical-align: top;\n",
       "    }\n",
       "\n",
       "    .dataframe thead th {\n",
       "        text-align: right;\n",
       "    }\n",
       "</style>\n",
       "<table border=\"1\" class=\"dataframe\">\n",
       "  <thead>\n",
       "    <tr style=\"text-align: right;\">\n",
       "      <th></th>\n",
       "      <th>orig</th>\n",
       "      <th>pred_1</th>\n",
       "      <th>pred_2</th>\n",
       "      <th>pred_3</th>\n",
       "    </tr>\n",
       "  </thead>\n",
       "  <tbody>\n",
       "    <tr>\n",
       "      <th>0</th>\n",
       "      <td>在</td>\n",
       "      <td></td>\n",
       "      <td></td>\n",
       "      <td></td>\n",
       "    </tr>\n",
       "    <tr>\n",
       "      <th>1</th>\n",
       "      <td>现</td>\n",
       "      <td>1</td>\n",
       "      <td>2</td>\n",
       "      <td>中</td>\n",
       "    </tr>\n",
       "    <tr>\n",
       "      <th>2</th>\n",
       "      <td>代</td>\n",
       "      <td>代</td>\n",
       "      <td>在</td>\n",
       "      <td>今</td>\n",
       "    </tr>\n",
       "    <tr>\n",
       "      <th>3</th>\n",
       "      <td>印</td>\n",
       "      <td>的</td>\n",
       "      <td>化</td>\n",
       "      <td>地</td>\n",
       "    </tr>\n",
       "    <tr>\n",
       "      <th>4</th>\n",
       "      <td>刷</td>\n",
       "      <td>度</td>\n",
       "      <td>刷</td>\n",
       "      <td>第</td>\n",
       "    </tr>\n",
       "    <tr>\n",
       "      <th>5</th>\n",
       "      <td>媒</td>\n",
       "      <td>中</td>\n",
       "      <td>的</td>\n",
       "      <td>业</td>\n",
       "    </tr>\n",
       "    <tr>\n",
       "      <th>6</th>\n",
       "      <td>体</td>\n",
       "      <td>体</td>\n",
       "      <td>介</td>\n",
       "      <td>中</td>\n",
       "    </tr>\n",
       "    <tr>\n",
       "      <th>7</th>\n",
       "      <td>，</td>\n",
       "      <td>中</td>\n",
       "      <td>上</td>\n",
       "      <td>的</td>\n",
       "    </tr>\n",
       "    <tr>\n",
       "      <th>8</th>\n",
       "      <td>卡</td>\n",
       "      <td>并</td>\n",
       "      <td>以</td>\n",
       "      <td>是</td>\n",
       "    </tr>\n",
       "    <tr>\n",
       "      <th>9</th>\n",
       "      <td>通</td>\n",
       "      <td>尔</td>\n",
       "      <td>拉</td>\n",
       "      <td>通</td>\n",
       "    </tr>\n",
       "    <tr>\n",
       "      <th>10</th>\n",
       "      <td>是</td>\n",
       "      <td>的</td>\n",
       "      <td>文</td>\n",
       "      <td>时</td>\n",
       "    </tr>\n",
       "    <tr>\n",
       "      <th>11</th>\n",
       "      <td>一</td>\n",
       "      <td>一</td>\n",
       "      <td>指</td>\n",
       "      <td>由</td>\n",
       "    </tr>\n",
       "    <tr>\n",
       "      <th>12</th>\n",
       "      <td>种</td>\n",
       "      <td>种</td>\n",
       "      <td>个</td>\n",
       "      <td>位</td>\n",
       "    </tr>\n",
       "    <tr>\n",
       "      <th>13</th>\n",
       "      <td>通</td>\n",
       "      <td>不</td>\n",
       "      <td>在</td>\n",
       "      <td>非</td>\n",
       "    </tr>\n",
       "    <tr>\n",
       "      <th>14</th>\n",
       "      <td>常</td>\n",
       "      <td>过</td>\n",
       "      <td>用</td>\n",
       "      <td>讯</td>\n",
       "    </tr>\n",
       "    <tr>\n",
       "      <th>15</th>\n",
       "      <td>有</td>\n",
       "      <td>用</td>\n",
       "      <td>是</td>\n",
       "      <td>的</td>\n",
       "    </tr>\n",
       "    <tr>\n",
       "      <th>16</th>\n",
       "      <td>幽</td>\n",
       "      <td>关</td>\n",
       "      <td>效</td>\n",
       "      <td>一</td>\n",
       "    </tr>\n",
       "    <tr>\n",
       "      <th>17</th>\n",
       "      <td>默</td>\n",
       "      <td>默</td>\n",
       "      <td>灵</td>\n",
       "      <td>暗</td>\n",
       "    </tr>\n",
       "    <tr>\n",
       "      <th>18</th>\n",
       "      <td>色</td>\n",
       "      <td>的</td>\n",
       "      <td>、</td>\n",
       "      <td>性</td>\n",
       "    </tr>\n",
       "    <tr>\n",
       "      <th>19</th>\n",
       "      <td></td>\n",
       "      <td>彩</td>\n",
       "      <td>情</td>\n",
       "      <td>素</td>\n",
       "    </tr>\n",
       "  </tbody>\n",
       "</table>\n",
       "</div>"
      ],
      "text/plain": [
       "   orig pred_1 pred_2 pred_3\n",
       "0     在                     \n",
       "1     现      1      2      中\n",
       "2     代      代      在      今\n",
       "3     印      的      化      地\n",
       "4     刷      度      刷      第\n",
       "5     媒      中      的      业\n",
       "6     体      体      介      中\n",
       "7     ，      中      上      的\n",
       "8     卡      并      以      是\n",
       "9     通      尔      拉      通\n",
       "10    是      的      文      时\n",
       "11    一      一      指      由\n",
       "12    种      种      个      位\n",
       "13    通      不      在      非\n",
       "14    常      过      用      讯\n",
       "15    有      用      是      的\n",
       "16    幽      关      效      一\n",
       "17    默      默      灵      暗\n",
       "18    色      的      、      性\n",
       "19           彩      情      素"
      ]
     },
     "execution_count": 89,
     "metadata": {},
     "output_type": "execute_result"
    }
   ],
   "source": [
    "eval(\"在现代印刷媒体，卡通是一种通常有幽默色\")"
   ]
  },
  {
   "cell_type": "code",
   "execution_count": 94,
   "metadata": {},
   "outputs": [
    {
     "data": {
      "text/html": [
       "<div>\n",
       "<style scoped>\n",
       "    .dataframe tbody tr th:only-of-type {\n",
       "        vertical-align: middle;\n",
       "    }\n",
       "\n",
       "    .dataframe tbody tr th {\n",
       "        vertical-align: top;\n",
       "    }\n",
       "\n",
       "    .dataframe thead th {\n",
       "        text-align: right;\n",
       "    }\n",
       "</style>\n",
       "<table border=\"1\" class=\"dataframe\">\n",
       "  <thead>\n",
       "    <tr style=\"text-align: right;\">\n",
       "      <th></th>\n",
       "      <th>orig</th>\n",
       "      <th>pred_1</th>\n",
       "      <th>pred_2</th>\n",
       "      <th>pred_3</th>\n",
       "    </tr>\n",
       "  </thead>\n",
       "  <tbody>\n",
       "    <tr>\n",
       "      <th>0</th>\n",
       "      <td>日</td>\n",
       "      <td></td>\n",
       "      <td></td>\n",
       "      <td></td>\n",
       "    </tr>\n",
       "    <tr>\n",
       "      <th>1</th>\n",
       "      <td>本</td>\n",
       "      <td>本</td>\n",
       "      <td>报</td>\n",
       "      <td>军</td>\n",
       "    </tr>\n",
       "    <tr>\n",
       "      <th>2</th>\n",
       "      <td>后</td>\n",
       "      <td>的</td>\n",
       "      <td>人</td>\n",
       "      <td>国</td>\n",
       "    </tr>\n",
       "    <tr>\n",
       "      <th>3</th>\n",
       "      <td>来</td>\n",
       "      <td>来</td>\n",
       "      <td>，</td>\n",
       "      <td>裔</td>\n",
       "    </tr>\n",
       "    <tr>\n",
       "      <th>4</th>\n",
       "      <td>成</td>\n",
       "      <td>的</td>\n",
       "      <td>，</td>\n",
       "      <td>在</td>\n",
       "    </tr>\n",
       "    <tr>\n",
       "      <th>5</th>\n",
       "      <td>为</td>\n",
       "      <td>为</td>\n",
       "      <td>立</td>\n",
       "      <td>功</td>\n",
       "    </tr>\n",
       "    <tr>\n",
       "      <th>6</th>\n",
       "      <td>第</td>\n",
       "      <td>日</td>\n",
       "      <td>了</td>\n",
       "      <td>一</td>\n",
       "    </tr>\n",
       "    <tr>\n",
       "      <th>7</th>\n",
       "      <td>二</td>\n",
       "      <td>一</td>\n",
       "      <td>二</td>\n",
       "      <td>三</td>\n",
       "    </tr>\n",
       "    <tr>\n",
       "      <th>8</th>\n",
       "      <td>次</td>\n",
       "      <td>次</td>\n",
       "      <td>大</td>\n",
       "      <td>个</td>\n",
       "    </tr>\n",
       "    <tr>\n",
       "      <th>9</th>\n",
       "      <td>世</td>\n",
       "      <td>世</td>\n",
       "      <td>国</td>\n",
       "      <td>全</td>\n",
       "    </tr>\n",
       "    <tr>\n",
       "      <th>10</th>\n",
       "      <td>界</td>\n",
       "      <td>界</td>\n",
       "      <td>纪</td>\n",
       "      <td>俗</td>\n",
       "    </tr>\n",
       "    <tr>\n",
       "      <th>11</th>\n",
       "      <td>大</td>\n",
       "      <td>大</td>\n",
       "      <td>上</td>\n",
       "      <td>天</td>\n",
       "    </tr>\n",
       "    <tr>\n",
       "      <th>12</th>\n",
       "      <td>战</td>\n",
       "      <td>战</td>\n",
       "      <td>学</td>\n",
       "      <td>陆</td>\n",
       "    </tr>\n",
       "    <tr>\n",
       "      <th>13</th>\n",
       "      <td>的</td>\n",
       "      <td>期</td>\n",
       "      <td>后</td>\n",
       "      <td>中</td>\n",
       "    </tr>\n",
       "    <tr>\n",
       "      <th>14</th>\n",
       "      <td>轴</td>\n",
       "      <td>第</td>\n",
       "      <td>一</td>\n",
       "      <td>最</td>\n",
       "    </tr>\n",
       "    <tr>\n",
       "      <th>15</th>\n",
       "      <td>心</td>\n",
       "      <td>心</td>\n",
       "      <td>线</td>\n",
       "      <td>子</td>\n",
       "    </tr>\n",
       "    <tr>\n",
       "      <th>16</th>\n",
       "      <td>国</td>\n",
       "      <td>。</td>\n",
       "      <td>战</td>\n",
       "      <td>，</td>\n",
       "    </tr>\n",
       "    <tr>\n",
       "      <th>17</th>\n",
       "      <td>之</td>\n",
       "      <td>。</td>\n",
       "      <td>，</td>\n",
       "      <td>家</td>\n",
       "    </tr>\n",
       "    <tr>\n",
       "      <th>18</th>\n",
       "      <td>一</td>\n",
       "      <td>一</td>\n",
       "      <td>战</td>\n",
       "      <td>间</td>\n",
       "    </tr>\n",
       "    <tr>\n",
       "      <th>19</th>\n",
       "      <td>，</td>\n",
       "      <td>。</td>\n",
       "      <td>，</td>\n",
       "      <td>之</td>\n",
       "    </tr>\n",
       "    <tr>\n",
       "      <th>20</th>\n",
       "      <td>对</td>\n",
       "      <td>也</td>\n",
       "      <td>并</td>\n",
       "      <td>在</td>\n",
       "    </tr>\n",
       "    <tr>\n",
       "      <th>21</th>\n",
       "      <td>中</td>\n",
       "      <td>于</td>\n",
       "      <td>日</td>\n",
       "      <td>此</td>\n",
       "    </tr>\n",
       "    <tr>\n",
       "      <th>22</th>\n",
       "      <td>国</td>\n",
       "      <td>国</td>\n",
       "      <td>华</td>\n",
       "      <td>央</td>\n",
       "    </tr>\n",
       "    <tr>\n",
       "      <th>23</th>\n",
       "      <td>与</td>\n",
       "      <td>的</td>\n",
       "      <td>大</td>\n",
       "      <td>共</td>\n",
       "    </tr>\n",
       "    <tr>\n",
       "      <th>24</th>\n",
       "      <td>南</td>\n",
       "      <td>日</td>\n",
       "      <td>中</td>\n",
       "      <td>其</td>\n",
       "    </tr>\n",
       "    <tr>\n",
       "      <th>25</th>\n",
       "      <td>洋</td>\n",
       "      <td>韩</td>\n",
       "      <td>非</td>\n",
       "      <td>美</td>\n",
       "    </tr>\n",
       "    <tr>\n",
       "      <th>26</th>\n",
       "      <td>发</td>\n",
       "      <td>的</td>\n",
       "      <td>等</td>\n",
       "      <td>国</td>\n",
       "    </tr>\n",
       "    <tr>\n",
       "      <th>27</th>\n",
       "      <td>动</td>\n",
       "      <td>展</td>\n",
       "      <td>生</td>\n",
       "      <td>现</td>\n",
       "    </tr>\n",
       "    <tr>\n",
       "      <th>28</th>\n",
       "      <td>全</td>\n",
       "      <td>的</td>\n",
       "      <td>战</td>\n",
       "      <td>了</td>\n",
       "    </tr>\n",
       "    <tr>\n",
       "      <th>29</th>\n",
       "      <td>面</td>\n",
       "      <td>国</td>\n",
       "      <td>面</td>\n",
       "      <td>球</td>\n",
       "    </tr>\n",
       "    <tr>\n",
       "      <th>30</th>\n",
       "      <td>的</td>\n",
       "      <td>的</td>\n",
       "      <td>战</td>\n",
       "      <td>冲</td>\n",
       "    </tr>\n",
       "    <tr>\n",
       "      <th>31</th>\n",
       "      <td>战</td>\n",
       "      <td>冲</td>\n",
       "      <td>战</td>\n",
       "      <td>关</td>\n",
       "    </tr>\n",
       "    <tr>\n",
       "      <th>32</th>\n",
       "      <td>争</td>\n",
       "      <td>争</td>\n",
       "      <td>斗</td>\n",
       "      <td>略</td>\n",
       "    </tr>\n",
       "    <tr>\n",
       "      <th>33</th>\n",
       "      <td>。</td>\n",
       "      <td>。</td>\n",
       "      <td>，</td>\n",
       "      <td>结</td>\n",
       "    </tr>\n",
       "    <tr>\n",
       "      <th>34</th>\n",
       "      <td></td>\n",
       "      <td></td>\n",
       "      <td>1</td>\n",
       "      <td>在</td>\n",
       "    </tr>\n",
       "    <tr>\n",
       "      <th>35</th>\n",
       "      <td></td>\n",
       "      <td></td>\n",
       "      <td>1</td>\n",
       "      <td>2</td>\n",
       "    </tr>\n",
       "    <tr>\n",
       "      <th>36</th>\n",
       "      <td>日</td>\n",
       "      <td>《</td>\n",
       "      <td>2</td>\n",
       "      <td>&lt;unk&gt;</td>\n",
       "    </tr>\n",
       "    <tr>\n",
       "      <th>37</th>\n",
       "      <td></td>\n",
       "      <td>本</td>\n",
       "      <td>治</td>\n",
       "      <td>照</td>\n",
       "    </tr>\n",
       "  </tbody>\n",
       "</table>\n",
       "</div>"
      ],
      "text/plain": [
       "   orig pred_1 pred_2 pred_3\n",
       "0     日                     \n",
       "1     本      本      报      军\n",
       "2     后      的      人      国\n",
       "3     来      来      ，      裔\n",
       "4     成      的      ，      在\n",
       "5     为      为      立      功\n",
       "6     第      日      了      一\n",
       "7     二      一      二      三\n",
       "8     次      次      大      个\n",
       "9     世      世      国      全\n",
       "10    界      界      纪      俗\n",
       "11    大      大      上      天\n",
       "12    战      战      学      陆\n",
       "13    的      期      后      中\n",
       "14    轴      第      一      最\n",
       "15    心      心      线      子\n",
       "16    国      。      战      ，\n",
       "17    之      。      ，      家\n",
       "18    一      一      战      间\n",
       "19    ，      。      ，      之\n",
       "20    对      也      并      在\n",
       "21    中      于      日      此\n",
       "22    国      国      华      央\n",
       "23    与      的      大      共\n",
       "24    南      日      中      其\n",
       "25    洋      韩      非      美\n",
       "26    发      的      等      国\n",
       "27    动      展      生      现\n",
       "28    全      的      战      了\n",
       "29    面      国      面      球\n",
       "30    的      的      战      冲\n",
       "31    战      冲      战      关\n",
       "32    争      争      斗      略\n",
       "33    。      。      ，      结\n",
       "34                  1      在\n",
       "35                  1      2\n",
       "36    日      《      2  <unk>\n",
       "37           本      治      照"
      ]
     },
     "execution_count": 94,
     "metadata": {},
     "output_type": "execute_result"
    }
   ],
   "source": [
    "eval(\"日本后来成为第二次世界大战的轴心国之一，对中国与南洋发动全面的战争。  日\")"
   ]
  },
  {
   "cell_type": "markdown",
   "metadata": {},
   "source": [
    "### Generate Sentence"
   ]
  },
  {
   "cell_type": "code",
   "execution_count": 78,
   "metadata": {},
   "outputs": [
    {
     "name": "stdout",
     "output_type": "stream",
     "text": [
      "算为主要的国家。  《<unk><unk><unk><unk><unk><unk><unk><unk><unk>\n"
     ]
    }
   ],
   "source": [
    "def get_tokens(texts):\n",
    "    return list(map(lambda x: mapping.get(x, 1), texts))\n",
    "\n",
    "def generate_text(tokens,N=20):\n",
    "    learner.model[0].reset()\n",
    "    preds = []\n",
    "    for i in range(N):\n",
    "        logits, _, _ = learner.model(T(tokens).unsqueeze(1))\n",
    "        preds.append(np.argmax(logits.data.cpu().numpy()[-1, :]))\n",
    "        tokens.append(preds[-1])\n",
    "    print(\"\".join([itos[x] for x in preds])) \n",
    "    \n",
    "generate_text(get_tokens(\"德国是世界大国之一，其国内生产总值以国际汇率计\"))"
   ]
  },
  {
   "cell_type": "code",
   "execution_count": 74,
   "metadata": {},
   "outputs": [
    {
     "name": "stdout",
     "output_type": "stream",
     "text": [
      "彩的纸盒。  《<unk><unk><unk><unk><unk><unk><unk><unk><unk><unk><unk><unk>\n"
     ]
    }
   ],
   "source": [
    "generate_text(get_tokens(\"在现代印刷媒体，卡通是一种通常有幽默色\"))"
   ]
  },
  {
   "cell_type": "code",
   "execution_count": 82,
   "metadata": {},
   "outputs": [
    {
     "name": "stdout",
     "output_type": "stream",
     "text": [
      "一版  《<unk><unk><unk><unk><unk><unk><unk><unk><unk><unk><unk><unk><unk><unk><unk>\n"
     ]
    }
   ],
   "source": [
    "generate_text(get_tokens(\"在现代印刷媒体， 第\"))"
   ]
  },
  {
   "cell_type": "code",
   "execution_count": 93,
   "metadata": {},
   "outputs": [
    {
     "name": "stdout",
     "output_type": "stream",
     "text": [
      " 《<unk><unk><unk><unk><unk><unk><unk><unk><unk><unk><unk><unk><unk><unk><unk><unk><unk><unk>\n"
     ]
    }
   ],
   "source": [
    "generate_text(get_tokens(\"日本后来成为第二次世界大战的轴心国之一，对中国与南洋发动全面的战争。 \"))           "
   ]
  },
  {
   "cell_type": "code",
   "execution_count": 83,
   "metadata": {},
   "outputs": [
    {
     "name": "stdout",
     "output_type": "stream",
     "text": [
      "时代的战争。  《<unk><unk><unk><unk><unk><unk><unk><unk><unk><unk><unk>\n"
     ]
    }
   ],
   "source": [
    "generate_text(get_tokens(\"传说日本于公元前660年2月11日建国，在公元4世纪出现首个统一政权，并于大化改新中确立了天皇的中央集权体制\"\n",
    "                         \"。至平安时代结束前，日本透过文字、宗教、艺术、政治制度等从汉文化引进的事物，开始派生出今日为人所知的文化基\"\n",
    "                         \"础。12世纪后的六百年间，日本由武家阶级创建的数个幕府及军事强人政权实际掌权，期间包括了政治纷乱的南北朝与\"\n",
    "                         \"战国\"))           "
   ]
  },
  {
   "cell_type": "code",
   "execution_count": 97,
   "metadata": {},
   "outputs": [
    {
     "name": "stdout",
     "output_type": "stream",
     "text": [
      "，不同的是，这些财产也是一个不同的行为。\n"
     ]
    }
   ],
   "source": [
    "generate_text(get_tokens(\"特朗普政府以为加征关税会令中国屈服，这种策略肯定会适得其反。如果就业和财富\"))"
   ]
  },
  {
   "cell_type": "code",
   "execution_count": 63,
   "metadata": {},
   "outputs": [
    {
     "name": "stdout",
     "output_type": "stream",
     "text": [
      "区。  《<unk><unk><unk><unk><unk><unk><unk><unk><unk><unk><unk><unk><unk><unk><unk>\n"
     ]
    }
   ],
   "source": [
    "generate_text(get_tokens(\"香港有半数人住在公屋，如今这里意外成为Instagram上备受欢迎的拍照地\"))"
   ]
  },
  {
   "cell_type": "code",
   "execution_count": 84,
   "metadata": {},
   "outputs": [
    {
     "name": "stdout",
     "output_type": "stream",
     "text": [
      "「香港」的名称来源于香港的「香港」，而「\n"
     ]
    }
   ],
   "source": [
    "generate_text(get_tokens(\"香港有半数人住在公屋，如今这里意外成为Instagram上备受欢迎的拍照地，\"\n",
    "                         \"呈现出一个与天际线中的香港不同的景象。但太多慕名而来的\"))"
   ]
  },
  {
   "cell_type": "code",
   "execution_count": 85,
   "metadata": {},
   "outputs": [
    {
     "name": "stdout",
     "output_type": "stream",
     "text": [
      "tion of State of Sta\n"
     ]
    }
   ],
   "source": [
    "generate_text(get_tokens(\"香港有半数人住在公屋，如今这里意外成为Insta\"))"
   ]
  },
  {
   "cell_type": "code",
   "execution_count": null,
   "metadata": {},
   "outputs": [],
   "source": []
  }
 ],
 "metadata": {
  "kernelspec": {
   "display_name": "Python 3",
   "language": "python",
   "name": "python3"
  },
  "language_info": {
   "codemirror_mode": {
    "name": "ipython",
    "version": 3
   },
   "file_extension": ".py",
   "mimetype": "text/x-python",
   "name": "python",
   "nbconvert_exporter": "python",
   "pygments_lexer": "ipython3",
   "version": "3.6.6"
  }
 },
 "nbformat": 4,
 "nbformat_minor": 2
}
