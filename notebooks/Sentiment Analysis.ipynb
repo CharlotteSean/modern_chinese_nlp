{
 "cells": [
  {
   "cell_type": "code",
   "execution_count": 1,
   "metadata": {},
   "outputs": [],
   "source": [
    "import sys\n",
    "sys.path.append(\"../\")"
   ]
  },
  {
   "cell_type": "code",
   "execution_count": 2,
   "metadata": {},
   "outputs": [
    {
     "name": "stderr",
     "output_type": "stream",
     "text": [
      "/opt/conda/lib/python3.6/importlib/_bootstrap.py:219: RuntimeWarning: numpy.dtype size changed, may indicate binary incompatibility. Expected 96, got 88\n",
      "  return f(*args, **kwds)\n",
      "/opt/conda/lib/python3.6/importlib/_bootstrap.py:219: RuntimeWarning: numpy.dtype size changed, may indicate binary incompatibility. Expected 96, got 88\n",
      "  return f(*args, **kwds)\n"
     ]
    },
    {
     "name": "stdout",
     "output_type": "stream",
     "text": [
      "torch 0.4.1\n",
      "pandas 0.22.0\n",
      "numpy 1.15.0\n",
      "\n",
      "compiler   : GCC 7.2.0\n",
      "system     : Linux\n",
      "release    : 4.10.0-32-generic\n",
      "machine    : x86_64\n",
      "processor  : x86_64\n",
      "CPU cores  : 8\n",
      "interpreter: 64bit\n"
     ]
    }
   ],
   "source": [
    "%load_ext watermark\n",
    "%watermark -ptorch,pandas,numpy -m"
   ]
  },
  {
   "cell_type": "code",
   "execution_count": 3,
   "metadata": {},
   "outputs": [
    {
     "name": "stderr",
     "output_type": "stream",
     "text": [
      "/opt/conda/lib/python3.6/site-packages/sklearn/ensemble/weight_boosting.py:29: DeprecationWarning: numpy.core.umath_tests is an internal NumPy module and should not be imported. It will be removed in a future NumPy release.\n",
      "  from numpy.core.umath_tests import inner1d\n",
      "/opt/conda/lib/python3.6/importlib/_bootstrap.py:219: RuntimeWarning: numpy.dtype size changed, may indicate binary incompatibility. Expected 96, got 88\n",
      "  return f(*args, **kwds)\n",
      "/opt/conda/lib/python3.6/importlib/_bootstrap.py:219: RuntimeWarning: numpy.ufunc size changed, may indicate binary incompatibility. Expected 192, got 176\n",
      "  return f(*args, **kwds)\n"
     ]
    }
   ],
   "source": [
    "from pathlib import Path\n",
    "import itertools\n",
    "from collections import Counter\n",
    "from functools import partial, reduce\n",
    "\n",
    "import joblib\n",
    "import pandas as pd\n",
    "import numpy as np\n",
    "\n",
    "from sklearn.model_selection import StratifiedShuffleSplit\n",
    "from fastai.text import (\n",
    "    TextDataset, SortishSampler, SortSampler, DataLoader, ModelData, get_rnn_classifier, seq2seq_reg, \n",
    "    RNN_Learner, TextModel, to_gpu, LanguageModelLoader, LanguageModelData\n",
    ")\n",
    "from fastai.core import T\n",
    "from fastai.text import accuracy\n",
    "from fastai.rnn_reg import EmbeddingDropout\n",
    "from torch.optim import Adam\n",
    "import torch.nn as nn\n",
    "import torch\n",
    "import torch.nn.functional as F\n",
    "from sklearn.metrics import confusion_matrix\n",
    "import matplotlib.pyplot as plt\n",
    "from tqdm import tqdm_notebook\n",
    "\n",
    "%matplotlib inline"
   ]
  },
  {
   "cell_type": "code",
   "execution_count": 4,
   "metadata": {},
   "outputs": [],
   "source": [
    "path = Path(\"../data/cache/lm_douban/\")\n",
    "path.mkdir(parents=True, exist_ok=True)"
   ]
  },
  {
   "cell_type": "code",
   "execution_count": 5,
   "metadata": {},
   "outputs": [],
   "source": [
    "def plot_confusion_matrix(cm, classes,\n",
    "                          normalize=False,\n",
    "                          title='Confusion matrix',\n",
    "                          cmap=plt.cm.Blues):\n",
    "    \"\"\"\n",
    "    This function prints and plots the confusion matrix.\n",
    "    Normalization can be applied by setting `normalize=True`.\n",
    "    \"\"\"\n",
    "    if normalize:\n",
    "        cm = cm.astype('float') / cm.sum(axis=1)[:, np.newaxis]\n",
    "        print(\"Normalized confusion matrix\")\n",
    "    else:\n",
    "        print('Confusion matrix, without normalization')\n",
    "\n",
    "    print(cm)\n",
    "\n",
    "    plt.imshow(cm, interpolation='nearest', cmap=cmap)\n",
    "    plt.title(title)\n",
    "    plt.colorbar()\n",
    "    tick_marks = np.arange(len(classes))\n",
    "    plt.xticks(tick_marks, classes, rotation=45)\n",
    "    plt.yticks(tick_marks, classes)\n",
    "\n",
    "    fmt = '.2f' if normalize else 'd'\n",
    "    thresh = cm.max() / 2.\n",
    "    for i, j in itertools.product(range(cm.shape[0]), range(cm.shape[1])):\n",
    "        plt.text(j, i, format(cm[i, j], fmt),\n",
    "                 horizontalalignment=\"center\",\n",
    "                 color=\"white\" if cm[i, j] > thresh else \"black\")\n",
    "\n",
    "    plt.tight_layout()\n",
    "    plt.ylabel('True label')\n",
    "    plt.xlabel('Predicted label')"
   ]
  },
  {
   "cell_type": "markdown",
   "metadata": {},
   "source": [
    "## Import And Tokenize Comments and Ratings"
   ]
  },
  {
   "cell_type": "code",
   "execution_count": 6,
   "metadata": {},
   "outputs": [],
   "source": [
    "UNK = 2\n",
    "BEG = 1\n",
    "MIN_FREQ = 200\n",
    "VOC_SIZE = 10000\n",
    "EMB_DIM = 300"
   ]
  },
  {
   "cell_type": "code",
   "execution_count": 7,
   "metadata": {},
   "outputs": [
    {
     "data": {
      "text/html": [
       "<div>\n",
       "<style scoped>\n",
       "    .dataframe tbody tr th:only-of-type {\n",
       "        vertical-align: middle;\n",
       "    }\n",
       "\n",
       "    .dataframe tbody tr th {\n",
       "        vertical-align: top;\n",
       "    }\n",
       "\n",
       "    .dataframe thead th {\n",
       "        text-align: right;\n",
       "    }\n",
       "</style>\n",
       "<table border=\"1\" class=\"dataframe\">\n",
       "  <thead>\n",
       "    <tr style=\"text-align: right;\">\n",
       "      <th></th>\n",
       "      <th>comment</th>\n",
       "      <th>rating</th>\n",
       "    </tr>\n",
       "  </thead>\n",
       "  <tbody>\n",
       "    <tr>\n",
       "      <th>0</th>\n",
       "      <td>别拿矫揉造作的资产阶级情调麻醉中国人民！</td>\n",
       "      <td>1</td>\n",
       "    </tr>\n",
       "    <tr>\n",
       "      <th>1</th>\n",
       "      <td>文青们向往的生活，可是生活中没有了喜怒哀乐，没有了问题与冲突，这种生活也只不过是看上去很美，...</td>\n",
       "      <td>2</td>\n",
       "    </tr>\n",
       "    <tr>\n",
       "      <th>2</th>\n",
       "      <td>自由也许在大理，生活确实在别处。</td>\n",
       "      <td>3</td>\n",
       "    </tr>\n",
       "    <tr>\n",
       "      <th>3</th>\n",
       "      <td>原来八旬是小四的老公，小彩旗的爹，杨丽萍的妹夫。</td>\n",
       "      <td>3</td>\n",
       "    </tr>\n",
       "    <tr>\n",
       "      <th>4</th>\n",
       "      <td>关于大理的蓝光旅游宣传片。</td>\n",
       "      <td>3</td>\n",
       "    </tr>\n",
       "  </tbody>\n",
       "</table>\n",
       "</div>"
      ],
      "text/plain": [
       "                                             comment  rating\n",
       "0                               别拿矫揉造作的资产阶级情调麻醉中国人民！       1\n",
       "1  文青们向往的生活，可是生活中没有了喜怒哀乐，没有了问题与冲突，这种生活也只不过是看上去很美，...       2\n",
       "2                                   自由也许在大理，生活确实在别处。       3\n",
       "3                           原来八旬是小四的老公，小彩旗的爹，杨丽萍的妹夫。       3\n",
       "4                                      关于大理的蓝光旅游宣传片。       3"
      ]
     },
     "execution_count": 7,
     "metadata": {},
     "output_type": "execute_result"
    }
   ],
   "source": [
    "mapping_orig = joblib.load(\"../data/mapping.pkl\")\n",
    "df_ratings = pd.read_csv(\"../data/ratings.csv\")\n",
    "df_ratings.head()"
   ]
  },
  {
   "cell_type": "markdown",
   "metadata": {},
   "source": [
    "### Refit the Vocabulary"
   ]
  },
  {
   "cell_type": "code",
   "execution_count": 8,
   "metadata": {},
   "outputs": [
    {
     "data": {
      "text/plain": [
       "[('，', 1389819),\n",
       " ('的', 1369188),\n",
       " ('。', 862231),\n",
       " ('是', 621959),\n",
       " ('不', 481610),\n",
       " ('一', 451352),\n",
       " ('了', 450735),\n",
       " ('有', 333459),\n",
       " ('人', 329015),\n",
       " ('看', 293277)]"
      ]
     },
     "execution_count": 8,
     "metadata": {},
     "output_type": "execute_result"
    }
   ],
   "source": [
    "cnt = Counter(itertools.chain.from_iterable(df_ratings[\"comment\"]))\n",
    "cnt.most_common(10)"
   ]
  },
  {
   "cell_type": "code",
   "execution_count": 9,
   "metadata": {},
   "outputs": [
    {
     "data": {
      "text/plain": [
       "[('寈', 1),\n",
       " ('唻', 1),\n",
       " ('墬', 1),\n",
       " ('筅', 1),\n",
       " ('凼', 1),\n",
       " ('脇', 1),\n",
       " ('🎢', 1),\n",
       " ('ث', 1),\n",
       " ('إ', 1),\n",
       " ('彊', 1)]"
      ]
     },
     "execution_count": 9,
     "metadata": {},
     "output_type": "execute_result"
    }
   ],
   "source": [
    "cnt.most_common(VOC_SIZE)[-10:]"
   ]
  },
  {
   "cell_type": "code",
   "execution_count": 135,
   "metadata": {},
   "outputs": [
    {
     "ename": "FileNotFoundError",
     "evalue": "[Errno 2] No such file or directory: 'data/mapping_sent.pkl'",
     "output_type": "error",
     "traceback": [
      "\u001b[0;31m---------------------------------------------------------------------------\u001b[0m",
      "\u001b[0;31mFileNotFoundError\u001b[0m                         Traceback (most recent call last)",
      "\u001b[0;32m<ipython-input-135-3c9325d72134>\u001b[0m in \u001b[0;36m<module>\u001b[0;34m()\u001b[0m\n\u001b[1;32m      4\u001b[0m     \u001b[0;32mif\u001b[0m \u001b[0mfreq\u001b[0m \u001b[0;34m>\u001b[0m \u001b[0mMIN_FREQ\u001b[0m\u001b[0;34m\u001b[0m\u001b[0m\n\u001b[1;32m      5\u001b[0m }\n\u001b[0;32m----> 6\u001b[0;31m \u001b[0mjoblib\u001b[0m\u001b[0;34m.\u001b[0m\u001b[0mdump\u001b[0m\u001b[0;34m(\u001b[0m\u001b[0mmapping\u001b[0m\u001b[0;34m,\u001b[0m \u001b[0;34m\"data/mapping_sent.pkl\"\u001b[0m\u001b[0;34m)\u001b[0m\u001b[0;34m\u001b[0m\u001b[0m\n\u001b[0m\u001b[1;32m      7\u001b[0m \u001b[0mn_toks\u001b[0m \u001b[0;34m=\u001b[0m \u001b[0mlen\u001b[0m\u001b[0;34m(\u001b[0m\u001b[0mmapping\u001b[0m\u001b[0;34m)\u001b[0m\u001b[0;34m\u001b[0m\u001b[0m\n\u001b[1;32m      8\u001b[0m \u001b[0mitos\u001b[0m \u001b[0;34m=\u001b[0m \u001b[0;34m[\u001b[0m\u001b[0;34m\"pad\"\u001b[0m\u001b[0;34m,\u001b[0m \u001b[0;34m\"BEG\"\u001b[0m\u001b[0;34m,\u001b[0m \u001b[0;34m\"UNK\"\u001b[0m\u001b[0;34m]\u001b[0m \u001b[0;34m+\u001b[0m \u001b[0;34m[\u001b[0m\u001b[0;36m0\u001b[0m\u001b[0;34m]\u001b[0m \u001b[0;34m*\u001b[0m  \u001b[0mn_toks\u001b[0m\u001b[0;34m\u001b[0m\u001b[0m\n",
      "\u001b[0;32m/opt/conda/lib/python3.6/site-packages/joblib/numpy_pickle.py\u001b[0m in \u001b[0;36mdump\u001b[0;34m(value, filename, compress, protocol, cache_size)\u001b[0m\n\u001b[1;32m    497\u001b[0m             \u001b[0mNumpyPickler\u001b[0m\u001b[0;34m(\u001b[0m\u001b[0mf\u001b[0m\u001b[0;34m,\u001b[0m \u001b[0mprotocol\u001b[0m\u001b[0;34m=\u001b[0m\u001b[0mprotocol\u001b[0m\u001b[0;34m)\u001b[0m\u001b[0;34m.\u001b[0m\u001b[0mdump\u001b[0m\u001b[0;34m(\u001b[0m\u001b[0mvalue\u001b[0m\u001b[0;34m)\u001b[0m\u001b[0;34m\u001b[0m\u001b[0m\n\u001b[1;32m    498\u001b[0m     \u001b[0;32melif\u001b[0m \u001b[0mis_filename\u001b[0m\u001b[0;34m:\u001b[0m\u001b[0;34m\u001b[0m\u001b[0m\n\u001b[0;32m--> 499\u001b[0;31m         \u001b[0;32mwith\u001b[0m \u001b[0mopen\u001b[0m\u001b[0;34m(\u001b[0m\u001b[0mfilename\u001b[0m\u001b[0;34m,\u001b[0m \u001b[0;34m'wb'\u001b[0m\u001b[0;34m)\u001b[0m \u001b[0;32mas\u001b[0m \u001b[0mf\u001b[0m\u001b[0;34m:\u001b[0m\u001b[0;34m\u001b[0m\u001b[0m\n\u001b[0m\u001b[1;32m    500\u001b[0m             \u001b[0mNumpyPickler\u001b[0m\u001b[0;34m(\u001b[0m\u001b[0mf\u001b[0m\u001b[0;34m,\u001b[0m \u001b[0mprotocol\u001b[0m\u001b[0;34m=\u001b[0m\u001b[0mprotocol\u001b[0m\u001b[0;34m)\u001b[0m\u001b[0;34m.\u001b[0m\u001b[0mdump\u001b[0m\u001b[0;34m(\u001b[0m\u001b[0mvalue\u001b[0m\u001b[0;34m)\u001b[0m\u001b[0;34m\u001b[0m\u001b[0m\n\u001b[1;32m    501\u001b[0m     \u001b[0;32melse\u001b[0m\u001b[0;34m:\u001b[0m\u001b[0;34m\u001b[0m\u001b[0m\n",
      "\u001b[0;31mFileNotFoundError\u001b[0m: [Errno 2] No such file or directory: 'data/mapping_sent.pkl'"
     ]
    }
   ],
   "source": [
    "mapping = {\n",
    "    word: token + 3 for token, (word, freq) in enumerate(\n",
    "        cnt.most_common(VOC_SIZE))\n",
    "    if freq > MIN_FREQ\n",
    "}\n",
    "joblib.dump(mapping, \"data/mapping_sent.pkl\")\n",
    "n_toks = len(mapping)\n",
    "itos = [\"pad\", \"BEG\", \"UNK\"] + [0] *  n_toks\n",
    "for k, v in mapping.items():\n",
    "    itos[v] = k\n",
    "n_toks = len(itos) + 1\n",
    "len(itos)"
   ]
  },
  {
   "cell_type": "code",
   "execution_count": 11,
   "metadata": {},
   "outputs": [
    {
     "data": {
      "text/plain": [
       "['靖', '怅', '瞅', '杏', 'っ', '庙', '霜', '抠', '猾', '洼']"
      ]
     },
     "execution_count": 11,
     "metadata": {},
     "output_type": "execute_result"
    }
   ],
   "source": [
    "itos[-10:]"
   ]
  },
  {
   "cell_type": "code",
   "execution_count": 12,
   "metadata": {},
   "outputs": [
    {
     "data": {
      "text/plain": [
       "[('猾', 3133),\n",
       " ('抠', 3132),\n",
       " ('瞅', 3127),\n",
       " ('怅', 3126),\n",
       " ('辫', 3121),\n",
       " ('蛊', 3120),\n",
       " ('攒', 3118),\n",
       " ('喃', 3116),\n",
       " ('嘶', 3114),\n",
       " ('②', 3109),\n",
       " ('咕', 3101),\n",
       " ('①', 3098),\n",
       " ('姥', 3093),\n",
       " ('蜓', 3092),\n",
       " ('蜻', 3083),\n",
       " ('亢', 3082),\n",
       " ('搓', 3075),\n",
       " ('淌', 3074),\n",
       " ('惘', 3073),\n",
       " ('岷', 3065)]"
      ]
     },
     "execution_count": 12,
     "metadata": {},
     "output_type": "execute_result"
    }
   ],
   "source": [
    "voc_diff = set(mapping.keys()) - set(mapping_orig.keys())\n",
    "sorted([(x, mapping[x]) for x in list(voc_diff)], key=lambda x: x[1], reverse=True)[:20]"
   ]
  },
  {
   "cell_type": "code",
   "execution_count": 14,
   "metadata": {},
   "outputs": [
    {
     "data": {
      "text/plain": [
       "247"
      ]
     },
     "execution_count": 14,
     "metadata": {},
     "output_type": "execute_result"
    }
   ],
   "source": [
    "len(voc_diff)"
   ]
  },
  {
   "cell_type": "markdown",
   "metadata": {},
   "source": [
    "### Tokenize"
   ]
  },
  {
   "cell_type": "code",
   "execution_count": 15,
   "metadata": {},
   "outputs": [],
   "source": [
    "sss = StratifiedShuffleSplit(n_splits=1, test_size=0.4, random_state=888)\n",
    "train_idx, test_idx = next(sss.split(df_ratings, df_ratings.rating))\n",
    "df_train = df_ratings.iloc[train_idx].copy()\n",
    "df_test = df_ratings.iloc[test_idx].copy()\n",
    "sss = StratifiedShuffleSplit(n_splits=1, test_size=0.5, random_state=888)\n",
    "val_idx, test_idx = next(sss.split(df_test, df_test.rating))\n",
    "df_val = df_test.iloc[val_idx].copy()\n",
    "df_test = df_test.iloc[test_idx].copy()\n",
    "del df_ratings"
   ]
  },
  {
   "cell_type": "code",
   "execution_count": 16,
   "metadata": {},
   "outputs": [
    {
     "data": {
      "text/plain": [
       "('无话可说.', [62, 234, 43, 64, 23])"
      ]
     },
     "execution_count": 16,
     "metadata": {},
     "output_type": "execute_result"
    }
   ],
   "source": [
    "df_test.iloc[0][\"comment\"],[mapping.get(x, 1) for x in df_test.iloc[0][\"comment\"]]"
   ]
  },
  {
   "cell_type": "code",
   "execution_count": 17,
   "metadata": {},
   "outputs": [
    {
     "data": {
      "application/vnd.jupyter.widget-view+json": {
       "model_id": "ae8a75047e5c43a5afcfa885a82901a8",
       "version_major": 2,
       "version_minor": 0
      },
      "text/plain": [
       "HBox(children=(IntProgress(value=0, max=528624), HTML(value='')))"
      ]
     },
     "metadata": {},
     "output_type": "display_data"
    },
    {
     "name": "stdout",
     "output_type": "stream",
     "text": [
      "\n"
     ]
    },
    {
     "data": {
      "application/vnd.jupyter.widget-view+json": {
       "model_id": "43202555ee614058b2c8f20058541a86",
       "version_major": 2,
       "version_minor": 0
      },
      "text/plain": [
       "HBox(children=(IntProgress(value=0, max=176208), HTML(value='')))"
      ]
     },
     "metadata": {},
     "output_type": "display_data"
    },
    {
     "name": "stdout",
     "output_type": "stream",
     "text": [
      "\n"
     ]
    },
    {
     "data": {
      "application/vnd.jupyter.widget-view+json": {
       "model_id": "c260122dabf14f789043f4f49d747b8a",
       "version_major": 2,
       "version_minor": 0
      },
      "text/plain": [
       "HBox(children=(IntProgress(value=0, max=176209), HTML(value='')))"
      ]
     },
     "metadata": {},
     "output_type": "display_data"
    },
    {
     "name": "stdout",
     "output_type": "stream",
     "text": [
      "\n"
     ]
    }
   ],
   "source": [
    "results = []\n",
    "tokens_train, tokens_val, tokens_test = [], [], []\n",
    "for df, tokens in zip((df_train, df_val, df_test), (tokens_train, tokens_val, tokens_test)) :\n",
    "    for i, row in tqdm_notebook(df.iterrows(), total=df.shape[0]):\n",
    "        tokens.append(np.array([BEG] + [mapping.get(x, UNK) for x in row[\"comment\"]]))"
   ]
  },
  {
   "cell_type": "code",
   "execution_count": 18,
   "metadata": {},
   "outputs": [],
   "source": [
    "assert len(tokens_train) == df_train.shape[0]"
   ]
  },
  {
   "cell_type": "markdown",
   "metadata": {},
   "source": [
    "### Prepare the embedding matrix"
   ]
  },
  {
   "cell_type": "code",
   "execution_count": 19,
   "metadata": {},
   "outputs": [
    {
     "data": {
      "text/plain": [
       "torch.Size([3937, 300])"
      ]
     },
     "execution_count": 19,
     "metadata": {},
     "output_type": "execute_result"
    }
   ],
   "source": [
    "MODEL_PATH = \"../data/cache/lm/models/lm_lstm.h5\"\n",
    "weights = torch.load(MODEL_PATH, map_location=lambda storage, loc: storage)\n",
    "assert weights['0.encoder.weight'].shape[1] == EMB_DIM\n",
    "weights['0.encoder.weight'].shape"
   ]
  },
  {
   "cell_type": "code",
   "execution_count": 20,
   "metadata": {},
   "outputs": [
    {
     "data": {
      "text/plain": [
       "(2885, 92.11366538952745)"
      ]
     },
     "execution_count": 20,
     "metadata": {},
     "output_type": "execute_result"
    }
   ],
   "source": [
    "new_matrix = np.zeros((n_toks, EMB_DIM))\n",
    "hits = 0\n",
    "for i, w in enumerate(itos):\n",
    "    if w in mapping_orig:\n",
    "        new_matrix[i] = weights['0.encoder.weight'][mapping_orig[w]]\n",
    "        hits += 1\n",
    "hits, hits *100 / len(itos[3:])"
   ]
  },
  {
   "cell_type": "code",
   "execution_count": 21,
   "metadata": {},
   "outputs": [],
   "source": [
    "weights['0.encoder.weight'] = T(new_matrix)\n",
    "weights['0.encoder_with_dropout.embed.weight'] = T(np.copy(new_matrix))\n",
    "weights['1.decoder.weight'] = T(np.copy(new_matrix))"
   ]
  },
  {
   "cell_type": "markdown",
   "metadata": {
    "heading_collapsed": true
   },
   "source": [
    "## Languange Model"
   ]
  },
  {
   "cell_type": "code",
   "execution_count": 22,
   "metadata": {
    "hidden": true
   },
   "outputs": [],
   "source": [
    "bs = 64\n",
    "bptt = 50\n",
    "trn_dl = LanguageModelLoader(np.concatenate(tokens_train), bs, bptt)\n",
    "val_dl = LanguageModelLoader(np.concatenate(tokens_val), bs, bptt)"
   ]
  },
  {
   "cell_type": "code",
   "execution_count": 23,
   "metadata": {
    "hidden": true
   },
   "outputs": [],
   "source": [
    "model_data = LanguageModelData(path, 1, n_toks, trn_dl, val_dl, bs=bs, bptt=bptt)"
   ]
  },
  {
   "cell_type": "code",
   "execution_count": 24,
   "metadata": {
    "hidden": true
   },
   "outputs": [],
   "source": [
    "drops = np.array([0.25, 0.1, 0.2, 0.02, 0.15])*0.7\n",
    "opt_fn = partial(torch.optim.Adam, betas=(0.8, 0.99))"
   ]
  },
  {
   "cell_type": "code",
   "execution_count": 25,
   "metadata": {
    "hidden": true
   },
   "outputs": [],
   "source": [
    "learner = model_data.get_model(opt_fn, EMB_DIM, 500, 3, \n",
    "    dropouti=drops[0], dropout=drops[1], wdrop=drops[2], dropoute=drops[3], dropouth=drops[4])\n",
    "learner.metrics = [accuracy]\n",
    "learner.freeze_to(-1)"
   ]
  },
  {
   "cell_type": "code",
   "execution_count": 26,
   "metadata": {
    "hidden": true
   },
   "outputs": [],
   "source": [
    "learner.model.load_state_dict(weights)"
   ]
  },
  {
   "cell_type": "code",
   "execution_count": 27,
   "metadata": {
    "hidden": true
   },
   "outputs": [
    {
     "data": {
      "application/vnd.jupyter.widget-view+json": {
       "model_id": "7cf38b19b668476ca5c47cecf7d6556b",
       "version_major": 2,
       "version_minor": 0
      },
      "text/plain": [
       "HBox(children=(IntProgress(value=0, description='Epoch', max=1), HTML(value='')))"
      ]
     },
     "metadata": {},
     "output_type": "display_data"
    },
    {
     "name": "stdout",
     "output_type": "stream",
     "text": [
      "epoch      trn_loss   val_loss   accuracy                     \n",
      "    0      4.571147   4.362187   0.248168  \n",
      "\n"
     ]
    },
    {
     "data": {
      "text/plain": [
       "[4.362187013817181, 0.24816782720970543]"
      ]
     },
     "execution_count": 27,
     "metadata": {},
     "output_type": "execute_result"
    }
   ],
   "source": [
    "lr=1e-3\n",
    "lrs = lr\n",
    "learner.fit(lrs/2, 1, wds=1e-7, use_clr=(32,2), cycle_len=1)"
   ]
  },
  {
   "cell_type": "code",
   "execution_count": 28,
   "metadata": {
    "hidden": true
   },
   "outputs": [],
   "source": [
    "learner.save('lm_last_ft')"
   ]
  },
  {
   "cell_type": "code",
   "execution_count": 29,
   "metadata": {
    "hidden": true
   },
   "outputs": [
    {
     "data": {
      "application/vnd.jupyter.widget-view+json": {
       "model_id": "50b44426ec0944f58cbb99ae868650f6",
       "version_major": 2,
       "version_minor": 0
      },
      "text/plain": [
       "HBox(children=(IntProgress(value=0, description='Epoch', max=1), HTML(value='')))"
      ]
     },
     "metadata": {},
     "output_type": "display_data"
    },
    {
     "name": "stdout",
     "output_type": "stream",
     "text": [
      "epoch      trn_loss   val_loss   accuracy                     \n",
      "    0      4.219186   4.019128   0.284691  \n",
      "\n"
     ]
    }
   ],
   "source": [
    "learner.unfreeze()\n",
    "learner.clip = 25\n",
    "learner.lr_find(start_lr=lrs/10, end_lr=lrs*10, linear=True)"
   ]
  },
  {
   "cell_type": "code",
   "execution_count": 30,
   "metadata": {
    "hidden": true
   },
   "outputs": [
    {
     "data": {
      "image/png": "[encoded data removed]",
      "text/plain": [
       "<Figure size 432x288 with 1 Axes>"
      ]
     },
     "metadata": {},
     "output_type": "display_data"
    }
   ],
   "source": [
    "learner.sched.plot()"
   ]
  },
  {
   "cell_type": "code",
   "execution_count": 31,
   "metadata": {
    "hidden": true
   },
   "outputs": [
    {
     "data": {
      "application/vnd.jupyter.widget-view+json": {
       "model_id": "7c6ebccda55b4f26915582a553d35875",
       "version_major": 2,
       "version_minor": 0
      },
      "text/plain": [
       "HBox(children=(IntProgress(value=0, description='Epoch', max=10), HTML(value='')))"
      ]
     },
     "metadata": {},
     "output_type": "display_data"
    },
    {
     "name": "stdout",
     "output_type": "stream",
     "text": [
      "epoch      trn_loss   val_loss   accuracy                     \n",
      "    0      4.123528   3.915372   0.298677  \n",
      "    1      4.010968   3.820885   0.309061                     \n",
      "    2      3.941646   3.760205   0.316861                     \n",
      "    3      3.896431   3.719881   0.321952                     \n",
      "    4      3.858556   3.691727   0.325765                     \n",
      "    5      3.84271    3.666209   0.328942                     \n",
      "    6      3.811241   3.645512   0.331766                     \n",
      "    7      3.793308   3.628097   0.334134                     \n",
      "    8      3.760229   3.613209   0.336333                     \n",
      "    9      3.759326   3.603918   0.337606                     \n",
      "\n"
     ]
    },
    {
     "data": {
      "text/plain": [
       "[3.6039175098059606, 0.33760618418455124]"
      ]
     },
     "execution_count": 31,
     "metadata": {},
     "output_type": "execute_result"
    }
   ],
   "source": [
    "lr = 3e-3\n",
    "lrs = lr\n",
    "learner.fit(lrs, 1, wds=1e-7, use_clr=(20,5), cycle_len=10)"
   ]
  },
  {
   "cell_type": "code",
   "execution_count": 32,
   "metadata": {
    "hidden": true
   },
   "outputs": [],
   "source": [
    "learner.save_encoder(\"lm1_enc\")"
   ]
  },
  {
   "cell_type": "code",
   "execution_count": 33,
   "metadata": {
    "hidden": true
   },
   "outputs": [],
   "source": [
    "learner.save(\"lm1\")"
   ]
  },
  {
   "cell_type": "code",
   "execution_count": 34,
   "metadata": {
    "hidden": true
   },
   "outputs": [],
   "source": [
    "del learner"
   ]
  },
  {
   "cell_type": "markdown",
   "metadata": {
    "heading_collapsed": true
   },
   "source": [
    "## 3-class Classifier\n",
    "As in https://zhuanlan.zhihu.com/p/27198713"
   ]
  },
  {
   "cell_type": "code",
   "execution_count": 35,
   "metadata": {
    "hidden": true
   },
   "outputs": [],
   "source": [
    "for df in (df_train, df_val, df_test):\n",
    "    df[\"label\"] = (df[\"rating\"] >= 3) * 1\n",
    "    df.loc[df.rating == 3, \"label\"] = 1\n",
    "    df.loc[df.rating > 3, \"label\"] = 2"
   ]
  },
  {
   "cell_type": "code",
   "execution_count": 36,
   "metadata": {
    "hidden": true
   },
   "outputs": [
    {
     "data": {
      "text/plain": [
       "2    240094\n",
       "1    184124\n",
       "0    104406\n",
       "Name: label, dtype: int64"
      ]
     },
     "execution_count": 36,
     "metadata": {},
     "output_type": "execute_result"
    }
   ],
   "source": [
    "df_train.label.value_counts()"
   ]
  },
  {
   "cell_type": "code",
   "execution_count": 37,
   "metadata": {
    "hidden": true
   },
   "outputs": [],
   "source": [
    "bs = 64\n",
    "trn_ds = TextDataset(tokens_train, df_train.label.values)\n",
    "val_ds = TextDataset(tokens_val, df_val.label.values)\n",
    "trn_samp = SortishSampler(tokens_train, key=lambda x: len(tokens_train[x]), bs=bs//2)\n",
    "val_samp = SortSampler(tokens_val, key=lambda x: len(tokens_val[x]))\n",
    "trn_dl = DataLoader(trn_ds, bs//2, transpose=True, num_workers=1, pad_idx=0, sampler=trn_samp)\n",
    "val_dl = DataLoader(val_ds, bs, transpose=True, num_workers=1, pad_idx=0, sampler=val_samp)\n",
    "model_data = ModelData(path, trn_dl, val_dl)"
   ]
  },
  {
   "cell_type": "code",
   "execution_count": 38,
   "metadata": {
    "hidden": true
   },
   "outputs": [],
   "source": [
    "dps = np.array([0.4,0.5,0.05,0.3,0.4]) * 0.5\n",
    "opt_fn = partial(torch.optim.Adam, betas=(0.7, 0.99))\n",
    "bptt = 50"
   ]
  },
  {
   "cell_type": "code",
   "execution_count": 39,
   "metadata": {
    "hidden": true
   },
   "outputs": [],
   "source": [
    "model = get_rnn_classifier(bptt, bptt*2, 3, n_toks, emb_sz=EMB_DIM, n_hid=500, n_layers=3, pad_token=0,\n",
    "          layers=[EMB_DIM*3, 50, 3], drops=[dps[4], 0.1],\n",
    "          dropouti=dps[0], wdrop=dps[1], dropoute=dps[2], dropouth=dps[3])"
   ]
  },
  {
   "cell_type": "code",
   "execution_count": 40,
   "metadata": {
    "hidden": true
   },
   "outputs": [],
   "source": [
    "learn = RNN_Learner(model_data, TextModel(to_gpu(model)), opt_fn=opt_fn)\n",
    "learn.reg_fn = partial(seq2seq_reg, alpha=2, beta=1)\n",
    "learn.clip=25.\n",
    "learn.metrics = [accuracy]\n",
    "learn.load_encoder('lm1_enc')"
   ]
  },
  {
   "cell_type": "code",
   "execution_count": 41,
   "metadata": {
    "hidden": true
   },
   "outputs": [
    {
     "data": {
      "application/vnd.jupyter.widget-view+json": {
       "model_id": "3b64e85721894531bafbaf348bce490b",
       "version_major": 2,
       "version_minor": 0
      },
      "text/plain": [
       "HBox(children=(IntProgress(value=0, description='Epoch', max=1), HTML(value='')))"
      ]
     },
     "metadata": {},
     "output_type": "display_data"
    },
    {
     "name": "stdout",
     "output_type": "stream",
     "text": [
      " 80%|████████  | 13241/16520 [02:44<00:40, 80.46it/s, loss=3.22] "
     ]
    },
    {
     "data": {
      "image/png": "[encoded data removed]",
      "text/plain": [
       "<Figure size 432x288 with 1 Axes>"
      ]
     },
     "metadata": {},
     "output_type": "display_data"
    }
   ],
   "source": [
    "learn.freeze_to(-1)\n",
    "learn.lr_find(lrs/1000)\n",
    "learn.sched.plot()"
   ]
  },
  {
   "cell_type": "code",
   "execution_count": 42,
   "metadata": {
    "hidden": true
   },
   "outputs": [
    {
     "data": {
      "application/vnd.jupyter.widget-view+json": {
       "model_id": "c325b79ce7644ad2bee3b5099e417d5e",
       "version_major": 2,
       "version_minor": 0
      },
      "text/plain": [
       "HBox(children=(IntProgress(value=0, description='Epoch', max=1), HTML(value='')))"
      ]
     },
     "metadata": {},
     "output_type": "display_data"
    },
    {
     "name": "stdout",
     "output_type": "stream",
     "text": [
      "epoch      trn_loss   val_loss   accuracy                        \n",
      "    0      0.931715   0.878945   0.578141  \n"
     ]
    },
    {
     "data": {
      "text/plain": [
       "[0.8789454099052362, 0.5781406065558885]"
      ]
     },
     "execution_count": 42,
     "metadata": {},
     "output_type": "execute_result"
    }
   ],
   "source": [
    "lr=2e-4\n",
    "lrm = 2.6\n",
    "lrs = np.array([lr/(lrm**4), lr/(lrm**3), lr/(lrm**2), lr/lrm, lr])\n",
    "learn.fit(lrs, 1, wds=0, cycle_len=1, use_clr=(8,3))"
   ]
  },
  {
   "cell_type": "code",
   "execution_count": 43,
   "metadata": {
    "hidden": true
   },
   "outputs": [],
   "source": [
    "learn.save('clas_0')"
   ]
  },
  {
   "cell_type": "code",
   "execution_count": 44,
   "metadata": {
    "hidden": true
   },
   "outputs": [
    {
     "data": {
      "application/vnd.jupyter.widget-view+json": {
       "model_id": "6a5b87d37b1e4f1f968b1572b34636c6",
       "version_major": 2,
       "version_minor": 0
      },
      "text/plain": [
       "HBox(children=(IntProgress(value=0, description='Epoch', max=1), HTML(value='')))"
      ]
     },
     "metadata": {},
     "output_type": "display_data"
    },
    {
     "name": "stdout",
     "output_type": "stream",
     "text": [
      "epoch      trn_loss   val_loss   accuracy                        \n",
      "    0      0.902932   0.859624   0.588764  \n"
     ]
    },
    {
     "data": {
      "text/plain": [
       "[0.8596239504865673, 0.5887644147825297]"
      ]
     },
     "execution_count": 44,
     "metadata": {},
     "output_type": "execute_result"
    }
   ],
   "source": [
    "learn.freeze_to(-2)\n",
    "learn.fit(lrs, 1, wds=0, cycle_len=1, use_clr=(8,3))"
   ]
  },
  {
   "cell_type": "code",
   "execution_count": 45,
   "metadata": {
    "hidden": true
   },
   "outputs": [],
   "source": [
    "learn.save('clas_1')"
   ]
  },
  {
   "cell_type": "code",
   "execution_count": 46,
   "metadata": {
    "hidden": true
   },
   "outputs": [
    {
     "data": {
      "application/vnd.jupyter.widget-view+json": {
       "model_id": "d970dbdcf40642b79d6f0bd1401f65ea",
       "version_major": 2,
       "version_minor": 0
      },
      "text/plain": [
       "HBox(children=(IntProgress(value=0, description='Epoch', max=14), HTML(value='')))"
      ]
     },
     "metadata": {},
     "output_type": "display_data"
    },
    {
     "name": "stdout",
     "output_type": "stream",
     "text": [
      "epoch      trn_loss   val_loss   accuracy                        \n",
      "    0      0.875884   0.843668   0.600455  \n",
      "    1      0.863819   0.825147   0.611822                        \n",
      "    2      0.842859   0.817996   0.616317                        \n",
      "    3      0.845006   0.803562   0.624052                        \n",
      "    4      0.838059   0.802817   0.627236                        \n",
      "    5      0.834252   0.79209    0.630193                        \n",
      "    6      0.811338   0.790243   0.63181                         \n",
      "    7      0.806754   0.788652   0.632293                        \n",
      "    8      0.804851   0.787352   0.634591                        \n",
      "    9      0.81854    0.786929   0.635351                        \n",
      "    10     0.809957   0.789326   0.633609                        \n",
      "    11     0.816258   0.7824     0.637009                        \n",
      "    12     0.810927   0.784926   0.636447                        \n",
      "    13     0.814956   0.783598   0.637338                        \n"
     ]
    },
    {
     "data": {
      "text/plain": [
       "[0.7835975735689567, 0.6373376918187597]"
      ]
     },
     "execution_count": 46,
     "metadata": {},
     "output_type": "execute_result"
    }
   ],
   "source": [
    "learn.unfreeze()\n",
    "learn.fit(lrs, 1, wds=0, cycle_len=14, use_clr=(32,10))"
   ]
  },
  {
   "cell_type": "code",
   "execution_count": 47,
   "metadata": {
    "hidden": true
   },
   "outputs": [],
   "source": [
    "learn.save(\"clas_full\")"
   ]
  },
  {
   "cell_type": "markdown",
   "metadata": {
    "heading_collapsed": true,
    "hidden": true
   },
   "source": [
    "### Evaluate"
   ]
  },
  {
   "cell_type": "code",
   "execution_count": 50,
   "metadata": {
    "hidden": true
   },
   "outputs": [
    {
     "data": {
      "application/vnd.jupyter.widget-view+json": {
       "model_id": "2e2d0e80a38941cea77d812560201f28",
       "version_major": 2,
       "version_minor": 0
      },
      "text/plain": [
       "HBox(children=(IntProgress(value=0, max=2754), HTML(value='')))"
      ]
     },
     "metadata": {},
     "output_type": "display_data"
    }
   ],
   "source": [
    "learn.model.eval()\n",
    "preds, ys = [], []\n",
    "for x, y in tqdm_notebook(val_dl):\n",
    "    preds.append(np.argmax(learn.model(x)[0].cpu().data.numpy(), axis=1))\n",
    "    ys.append(y.cpu().numpy())"
   ]
  },
  {
   "cell_type": "code",
   "execution_count": 51,
   "metadata": {
    "hidden": true
   },
   "outputs": [
    {
     "data": {
      "text/plain": [
       "((176208,), (176208,))"
      ]
     },
     "execution_count": 51,
     "metadata": {},
     "output_type": "execute_result"
    }
   ],
   "source": [
    "preds = np.concatenate(preds)\n",
    "ys = np.concatenate(ys)\n",
    "preds.shape, ys.shape"
   ]
  },
  {
   "cell_type": "code",
   "execution_count": 52,
   "metadata": {
    "hidden": true
   },
   "outputs": [
    {
     "data": {
      "text/plain": [
       "2    80031\n",
       "1    61374\n",
       "0    34803\n",
       "dtype: int64"
      ]
     },
     "execution_count": 52,
     "metadata": {},
     "output_type": "execute_result"
    }
   ],
   "source": [
    "pd.Series(ys).value_counts()"
   ]
  },
  {
   "cell_type": "code",
   "execution_count": 53,
   "metadata": {
    "hidden": true
   },
   "outputs": [
    {
     "data": {
      "text/plain": [
       "2    92930\n",
       "1    50913\n",
       "0    32365\n",
       "dtype: int64"
      ]
     },
     "execution_count": 53,
     "metadata": {},
     "output_type": "execute_result"
    }
   ],
   "source": [
    "pd.Series(preds).value_counts()"
   ]
  },
  {
   "cell_type": "code",
   "execution_count": 54,
   "metadata": {
    "hidden": true
   },
   "outputs": [
    {
     "data": {
      "text/plain": [
       "0.6373376918187597"
      ]
     },
     "execution_count": 54,
     "metadata": {},
     "output_type": "execute_result"
    }
   ],
   "source": [
    "np.sum(ys==preds) / ys.shape[0]"
   ]
  },
  {
   "cell_type": "code",
   "execution_count": 55,
   "metadata": {
    "hidden": true
   },
   "outputs": [],
   "source": [
    "itos = [\"pad\", \"BEG\", \"UNK\"] + [0] *  n_toks\n",
    "for k, v in mapping.items():\n",
    "    itos[v+1] = k"
   ]
  },
  {
   "cell_type": "code",
   "execution_count": 56,
   "metadata": {
    "hidden": true
   },
   "outputs": [
    {
     "data": {
      "text/plain": [
       "(array([     8,     15,     22, ..., 176204, 176205, 176207]),)"
      ]
     },
     "execution_count": 56,
     "metadata": {},
     "output_type": "execute_result"
    }
   ],
   "source": [
    "np.where(ys==0)"
   ]
  },
  {
   "cell_type": "code",
   "execution_count": 57,
   "metadata": {
    "hidden": true
   },
   "outputs": [
    {
     "data": {
      "text/plain": [
       "'BEG人一论不再一正乐~。克结错结，托爷'"
      ]
     },
     "execution_count": 57,
     "metadata": {},
     "output_type": "execute_result"
    }
   ],
   "source": [
    "\"\".join([itos[x] for x in tokens_val[176204]])"
   ]
  },
  {
   "cell_type": "code",
   "execution_count": 74,
   "metadata": {
    "hidden": true
   },
   "outputs": [],
   "source": [
    "def get_prediction(texts):\n",
    "    input_tensor = T(np.array([1] + [mapping.get(x, UNK) for x in texts])).unsqueeze(1)\n",
    "    return learn.model(input_tensor)[0].data.cpu().numpy()"
   ]
  },
  {
   "cell_type": "code",
   "execution_count": 75,
   "metadata": {
    "hidden": true
   },
   "outputs": [
    {
     "data": {
      "text/plain": [
       "array([[ 0.87358,  0.51092, -0.72312]], dtype=float32)"
      ]
     },
     "execution_count": 75,
     "metadata": {},
     "output_type": "execute_result"
    }
   ],
   "source": [
    "get_prediction(\"看了快一半了才发现是mini的广告\")"
   ]
  },
  {
   "cell_type": "code",
   "execution_count": 76,
   "metadata": {
    "hidden": true
   },
   "outputs": [
    {
     "data": {
      "text/plain": [
       "array([[-2.46992, -1.8464 ,  1.93631]], dtype=float32)"
      ]
     },
     "execution_count": 76,
     "metadata": {},
     "output_type": "execute_result"
    }
   ],
   "source": [
    "get_prediction(\"妈蛋，简直太好看了。最后的DJ battle部分，兴奋的我，简直想从座位上站起来一起扭\")"
   ]
  },
  {
   "cell_type": "code",
   "execution_count": 77,
   "metadata": {
    "hidden": true
   },
   "outputs": [
    {
     "data": {
      "text/plain": [
       "array([[-0.17666,  0.92203, -0.29374]], dtype=float32)"
      ]
     },
     "execution_count": 77,
     "metadata": {},
     "output_type": "execute_result"
    }
   ],
   "source": [
    "get_prediction(\"说实话我没怎么认真看，电影院里的熊孩子太闹腾了，前面的小奶娃还时不时站在老爸腿上蹦迪，观影体验极差，不过小朋友应该挺喜欢的\")"
   ]
  },
  {
   "cell_type": "code",
   "execution_count": 78,
   "metadata": {
    "hidden": true
   },
   "outputs": [
    {
     "data": {
      "text/plain": [
       "array([[-1.57963, -0.30202,  0.90608]], dtype=float32)"
      ]
     },
     "execution_count": 78,
     "metadata": {},
     "output_type": "execute_result"
    }
   ],
   "source": [
    "get_prediction(\"这电影太好笑了，说好的高科技人才研制的产品永远在关键时候失灵；特地飞到泰国请来救援人才，大家研究出的方法每次都是先给鲨鱼当诱饵……显然这样的对战坚持不了多久，只能赶紧让鲨鱼输了。\")"
   ]
  },
  {
   "cell_type": "code",
   "execution_count": 79,
   "metadata": {
    "hidden": true
   },
   "outputs": [
    {
     "data": {
      "text/plain": [
       "array([[-1.30785,  0.4874 ,  0.09932]], dtype=float32)"
      ]
     },
     "execution_count": 79,
     "metadata": {},
     "output_type": "execute_result"
    }
   ],
   "source": [
    "get_prediction(\"太接地气了，在三亚煮饺子式的景区海域，冒出来一条大鲨鱼……爽点也很密集，郭达森与李冰冰的CP感不错，编剧果然是老外，中文台词有点尬。\")"
   ]
  },
  {
   "cell_type": "code",
   "execution_count": 80,
   "metadata": {
    "hidden": true
   },
   "outputs": [
    {
     "data": {
      "text/plain": [
       "array([[-0.91445,  0.74547,  0.37437]], dtype=float32)"
      ]
     },
     "execution_count": 80,
     "metadata": {},
     "output_type": "execute_result"
    }
   ],
   "source": [
    "get_prediction(\"李冰冰的脸真的很紧绷，比鲨鱼的脸还绷。\")"
   ]
  },
  {
   "cell_type": "code",
   "execution_count": 81,
   "metadata": {
    "hidden": true
   },
   "outputs": [
    {
     "data": {
      "text/plain": [
       "array([[ 0.39725, -0.2176 ,  0.13541]], dtype=float32)"
      ]
     },
     "execution_count": 81,
     "metadata": {},
     "output_type": "execute_result"
    }
   ],
   "source": [
    "get_prediction(\"太难了。。。\")"
   ]
  },
  {
   "cell_type": "code",
   "execution_count": 82,
   "metadata": {
    "hidden": true
   },
   "outputs": [
    {
     "data": {
      "text/plain": [
       "array([[ 1.47396, -0.14072, -0.67808]], dtype=float32)"
      ]
     },
     "execution_count": 82,
     "metadata": {},
     "output_type": "execute_result"
    }
   ],
   "source": [
    "get_prediction(\"把我基神写成智障，辣鸡mcu\")"
   ]
  },
  {
   "cell_type": "code",
   "execution_count": 83,
   "metadata": {
    "hidden": true
   },
   "outputs": [
    {
     "data": {
      "text/plain": [
       "array([[-1.01065,  0.80483, -2.39897]], dtype=float32)"
      ]
     },
     "execution_count": 83,
     "metadata": {},
     "output_type": "execute_result"
    }
   ],
   "source": [
    "get_prediction(\"鲨鱼部分还是不错的，尤其是中段第一次出海捕鲨非常刺激，其后急速下滑，三亚那部分拍得是什么鬼。。。爆米花片可以适度的蠢，但人类反派炸鲨和直升机相撞部分简直蠢得太过份了吧？另外充满硬加戏视感的尴尬感情戏把节奏也拖垮了，明明可以更出色，却很遗憾地止步在马马虎虎的水平。6/10\")"
   ]
  },
  {
   "cell_type": "code",
   "execution_count": 84,
   "metadata": {
    "hidden": true
   },
   "outputs": [
    {
     "data": {
      "text/plain": [
       "array([[-1.7034 ,  0.2839 ,  1.22209]], dtype=float32)"
      ]
     },
     "execution_count": 84,
     "metadata": {},
     "output_type": "execute_result"
    }
   ],
   "source": [
    "get_prediction(\"老冰冰真的很努力！为老冰冰实现了她的好莱坞女主梦鼓掌...\")"
   ]
  },
  {
   "cell_type": "code",
   "execution_count": 85,
   "metadata": {
    "hidden": true
   },
   "outputs": [
    {
     "data": {
      "text/plain": [
       "array([[ 0.31844,  0.34698, -0.12014]], dtype=float32)"
      ]
     },
     "execution_count": 85,
     "metadata": {},
     "output_type": "execute_result"
    }
   ],
   "source": [
    "get_prediction(\"结局简直丧出天际！灭霸竟然有内心戏！全程下来美队和钢铁侠也没见上一面，我还以为在世界末日前必然要重修旧好了！\")"
   ]
  },
  {
   "cell_type": "code",
   "execution_count": 86,
   "metadata": {
    "hidden": true
   },
   "outputs": [
    {
     "data": {
      "text/plain": [
       "array([[ 5.31052, -2.62668, -5.6813 ]], dtype=float32)"
      ]
     },
     "execution_count": 86,
     "metadata": {},
     "output_type": "execute_result"
    }
   ],
   "source": [
    "get_prediction(\"太烂了，难看至极。\")"
   ]
  },
  {
   "cell_type": "code",
   "execution_count": 87,
   "metadata": {
    "hidden": true
   },
   "outputs": [
    {
     "data": {
      "text/plain": [
       "array([[ 1.19661,  0.2399 , -0.79594]], dtype=float32)"
      ]
     },
     "execution_count": 87,
     "metadata": {},
     "output_type": "execute_result"
    }
   ],
   "source": [
    "get_prediction(\"看完之后很生气！剧情太差了\")"
   ]
  },
  {
   "cell_type": "code",
   "execution_count": 88,
   "metadata": {
    "hidden": true
   },
   "outputs": [
    {
     "data": {
      "text/plain": [
       "array([[ 0.74671,  0.57978, -0.20511]], dtype=float32)"
      ]
     },
     "execution_count": 88,
     "metadata": {},
     "output_type": "execute_result"
    }
   ],
   "source": [
    "get_prediction(\"关键点都好傻，我知道你要拍续集，我知道未来可以被重写， 但那一拳真的有点傻。\")"
   ]
  },
  {
   "cell_type": "code",
   "execution_count": 89,
   "metadata": {
    "hidden": true
   },
   "outputs": [
    {
     "data": {
      "text/plain": [
       "array([[0.2814 , 0.30807, 0.33032]], dtype=float32)"
      ]
     },
     "execution_count": 89,
     "metadata": {},
     "output_type": "execute_result"
    }
   ],
   "source": [
    "get_prediction(\"好了可以了。再也不看Marvel了。我努力过了。实在是。。啥呀这是。🙄️\")"
   ]
  },
  {
   "cell_type": "code",
   "execution_count": 90,
   "metadata": {
    "hidden": true
   },
   "outputs": [
    {
     "data": {
      "text/plain": [
       "array([[ 1.25546, -0.2495 , -0.03   ]], dtype=float32)"
      ]
     },
     "execution_count": 90,
     "metadata": {},
     "output_type": "execute_result"
    }
   ],
   "source": [
    "get_prediction(\"还我电影票14元\")"
   ]
  },
  {
   "cell_type": "code",
   "execution_count": 91,
   "metadata": {
    "hidden": true
   },
   "outputs": [
    {
     "name": "stdout",
     "output_type": "stream",
     "text": [
      "Confusion matrix, without normalization\n",
      "[[20218  9185  5400]\n",
      " [ 8780 28575 24019]\n",
      " [ 3367 13153 63511]]\n"
     ]
    },
    {
     "data": {
      "image/png": "[encoded data removed]",
      "text/plain": [
       "<Figure size 432x288 with 2 Axes>"
      ]
     },
     "metadata": {},
     "output_type": "display_data"
    }
   ],
   "source": [
    "cnf_matrix = confusion_matrix(ys, preds)\n",
    "np.set_printoptions(precision=2)\n",
    "\n",
    "# Plot non-normalized confusion matrix\n",
    "plt.figure()\n",
    "plot_confusion_matrix(\n",
    "    cnf_matrix, classes=[0, 1, 2],\n",
    "    title='Confusion matrix, without normalization')"
   ]
  },
  {
   "cell_type": "code",
   "execution_count": 92,
   "metadata": {
    "hidden": true
   },
   "outputs": [
    {
     "name": "stdout",
     "output_type": "stream",
     "text": [
      "Normalized confusion matrix\n",
      "[[0.58 0.26 0.16]\n",
      " [0.14 0.47 0.39]\n",
      " [0.04 0.16 0.79]]\n"
     ]
    },
    {
     "data": {
      "image/png": "[encoded data removed]",
      "text/plain": [
       "<Figure size 432x288 with 2 Axes>"
      ]
     },
     "metadata": {},
     "output_type": "display_data"
    }
   ],
   "source": [
    "plot_confusion_matrix(\n",
    "    cnf_matrix, classes=[0, 1, 2], normalize=True,\n",
    "    title='Confusion matrix, without normalization')"
   ]
  },
  {
   "cell_type": "code",
   "execution_count": 93,
   "metadata": {
    "hidden": true
   },
   "outputs": [
    {
     "name": "stdout",
     "output_type": "stream",
     "text": [
      "Class 0: P 62%, R 58%, FS 0.60, Support: 34803\n",
      "Class 1: P 56%, R 47%, FS 0.51, Support: 61374\n",
      "Class 2: P 68%, R 79%, FS 0.73, Support: 80031\n"
     ]
    }
   ],
   "source": [
    "from sklearn.metrics import precision_recall_fscore_support\n",
    "precision, recall, fscore, support = precision_recall_fscore_support(ys, preds)\n",
    "for i in range(3):\n",
    "    print(f\"Class {i}: P {precision[i]*100:.0f}%, R {recall[i]*100:.0f}%, FS {fscore[i]:.2f}, Support: {support[i]}\")"
   ]
  },
  {
   "cell_type": "code",
   "execution_count": 94,
   "metadata": {
    "hidden": true
   },
   "outputs": [],
   "source": [
    "test_ds = TextDataset(tokens_test, df_test.label.values)\n",
    "test_samp = SortSampler(tokens_test, key=lambda x: len(tokens_test[x]))\n",
    "test_dl = DataLoader(test_ds, bs, transpose=True, num_workers=1, pad_idx=0, sampler=test_samp)"
   ]
  },
  {
   "cell_type": "code",
   "execution_count": 95,
   "metadata": {
    "hidden": true
   },
   "outputs": [
    {
     "data": {
      "application/vnd.jupyter.widget-view+json": {
       "model_id": "811fcf6ca8924f9685b065528ed906ea",
       "version_major": 2,
       "version_minor": 0
      },
      "text/plain": [
       "HBox(children=(IntProgress(value=0, max=2754), HTML(value='')))"
      ]
     },
     "metadata": {},
     "output_type": "display_data"
    }
   ],
   "source": [
    "learn.model.eval()\n",
    "preds, ys = [], []\n",
    "for x, y in tqdm_notebook(test_dl):\n",
    "    preds.append(np.argmax(learn.model(x)[0].cpu().data.numpy(), axis=1))\n",
    "    ys.append(y.cpu().numpy())"
   ]
  },
  {
   "cell_type": "code",
   "execution_count": 96,
   "metadata": {
    "hidden": true
   },
   "outputs": [
    {
     "data": {
      "text/plain": [
       "((176209,), (176209,))"
      ]
     },
     "execution_count": 96,
     "metadata": {},
     "output_type": "execute_result"
    }
   ],
   "source": [
    "preds = np.concatenate(preds)\n",
    "ys = np.concatenate(ys)\n",
    "preds.shape, ys.shape"
   ]
  },
  {
   "cell_type": "code",
   "execution_count": 97,
   "metadata": {
    "hidden": true
   },
   "outputs": [
    {
     "data": {
      "text/plain": [
       "0.6346384123398918"
      ]
     },
     "execution_count": 97,
     "metadata": {},
     "output_type": "execute_result"
    }
   ],
   "source": [
    "np.sum(ys==preds) / ys.shape[0]"
   ]
  },
  {
   "cell_type": "code",
   "execution_count": 98,
   "metadata": {
    "hidden": true
   },
   "outputs": [
    {
     "name": "stdout",
     "output_type": "stream",
     "text": [
      "Confusion matrix, without normalization\n",
      "[[19856  9385  5561]\n",
      " [ 8808 28533 24034]\n",
      " [ 3294 13298 63440]]\n"
     ]
    },
    {
     "data": {
      "image/png": "[encoded data removed]",
      "text/plain": [
       "<Figure size 432x288 with 2 Axes>"
      ]
     },
     "metadata": {},
     "output_type": "display_data"
    }
   ],
   "source": [
    "cnf_matrix = confusion_matrix(ys, preds)\n",
    "np.set_printoptions(precision=2)\n",
    "\n",
    "# Plot non-normalized confusion matrix\n",
    "plt.figure()\n",
    "plot_confusion_matrix(\n",
    "    cnf_matrix, classes=[0, 1, 2],\n",
    "    title='Confusion matrix, without normalization')"
   ]
  },
  {
   "cell_type": "code",
   "execution_count": 99,
   "metadata": {
    "hidden": true
   },
   "outputs": [
    {
     "name": "stdout",
     "output_type": "stream",
     "text": [
      "Normalized confusion matrix\n",
      "[[0.57 0.27 0.16]\n",
      " [0.14 0.46 0.39]\n",
      " [0.04 0.17 0.79]]\n"
     ]
    },
    {
     "data": {
      "image/png": "[encoded data removed]",
      "text/plain": [
       "<Figure size 432x288 with 2 Axes>"
      ]
     },
     "metadata": {},
     "output_type": "display_data"
    }
   ],
   "source": [
    "plot_confusion_matrix(\n",
    "    cnf_matrix, classes=[0, 1, 2], normalize=True,\n",
    "    title='Confusion matrix, without normalization')"
   ]
  },
  {
   "cell_type": "code",
   "execution_count": 100,
   "metadata": {
    "hidden": true
   },
   "outputs": [
    {
     "name": "stdout",
     "output_type": "stream",
     "text": [
      "Class 0: P 62%, R 57%, FS 0.59, Support: 34802\n",
      "Class 1: P 56%, R 46%, FS 0.51, Support: 61375\n",
      "Class 2: P 68%, R 79%, FS 0.73, Support: 80032\n"
     ]
    }
   ],
   "source": [
    "from sklearn.metrics import precision_recall_fscore_support\n",
    "precision, recall, fscore, support = precision_recall_fscore_support(ys, preds)\n",
    "for i in range(3):\n",
    "    print(f\"Class {i}: P {precision[i]*100:.0f}%, R {recall[i]*100:.0f}%, FS {fscore[i]:.2f}, Support: {support[i]}\")"
   ]
  },
  {
   "cell_type": "markdown",
   "metadata": {
    "hidden": true
   },
   "source": [
    "### Smaller Dataset "
   ]
  },
  {
   "cell_type": "code",
   "execution_count": 101,
   "metadata": {
    "hidden": true
   },
   "outputs": [],
   "source": [
    "df_train.reset_index(drop=True, inplace=True)\n",
    "df_val.reset_index(drop=True, inplace=True)"
   ]
  },
  {
   "cell_type": "code",
   "execution_count": 102,
   "metadata": {
    "hidden": true
   },
   "outputs": [],
   "source": [
    "df_train_small = pd.concat([\n",
    "    df_train[df_train.label==0].sample(15000),\n",
    "    df_train[df_train.label==1].sample(15000),\n",
    "    df_train[df_train.label==2].sample(15000)\n",
    "], axis=0)\n",
    "df_val_small = pd.concat([\n",
    "    df_val[df_val.label==0].sample(5000),\n",
    "    df_val[df_val.label==1].sample(5000),\n",
    "    df_val[df_val.label==2].sample(5000)\n",
    "], axis=0)"
   ]
  },
  {
   "cell_type": "code",
   "execution_count": 103,
   "metadata": {
    "hidden": true
   },
   "outputs": [
    {
     "data": {
      "text/plain": [
       "array([213557, 405113, 420143, ..., 113128,  26724, 106742])"
      ]
     },
     "execution_count": 103,
     "metadata": {},
     "output_type": "execute_result"
    }
   ],
   "source": [
    "np.array(df_train_small.index)"
   ]
  },
  {
   "cell_type": "code",
   "execution_count": 104,
   "metadata": {
    "hidden": true
   },
   "outputs": [],
   "source": [
    "bs = 64\n",
    "tokens_train_small = np.array(tokens_train)[np.array(df_train_small.index)]\n",
    "tokens_val_small = np.array(tokens_val)[np.array(df_val_small.index)]\n",
    "trn_ds = TextDataset(tokens_train_small, df_train_small.label.values)\n",
    "val_ds = TextDataset(tokens_val_small, df_val_small.label.values)\n",
    "trn_samp = SortishSampler(tokens_train_small, key=lambda x: len(tokens_train_small[x]), bs=bs//2)\n",
    "val_samp = SortSampler(tokens_val_small, key=lambda x: len(tokens_val_small[x]))\n",
    "trn_dl = DataLoader(trn_ds, bs//2, transpose=True, num_workers=1, pad_idx=0, sampler=trn_samp)\n",
    "val_dl = DataLoader(val_ds, bs, transpose=True, num_workers=1, pad_idx=0, sampler=val_samp)\n",
    "model_data = ModelData(path, trn_dl, val_dl)"
   ]
  },
  {
   "cell_type": "code",
   "execution_count": 105,
   "metadata": {
    "hidden": true
   },
   "outputs": [],
   "source": [
    "dps = np.array([0.4,0.5,0.05,0.3,0.4])\n",
    "opt_fn = partial(torch.optim.Adam, betas=(0.7, 0.99))\n",
    "bptt = 50"
   ]
  },
  {
   "cell_type": "code",
   "execution_count": 107,
   "metadata": {
    "hidden": true
   },
   "outputs": [],
   "source": [
    "model = get_rnn_classifier(bptt, bptt*2, 3, n_toks, emb_sz=EMB_DIM, n_hid=500, n_layers=3, pad_token=0,\n",
    "          layers=[EMB_DIM*3, 50, 3], drops=[dps[4], 0.1],\n",
    "          dropouti=dps[0], wdrop=dps[1], dropoute=dps[2], dropouth=dps[3])"
   ]
  },
  {
   "cell_type": "code",
   "execution_count": 108,
   "metadata": {
    "hidden": true
   },
   "outputs": [],
   "source": [
    "learn = RNN_Learner(model_data, TextModel(to_gpu(model)), opt_fn=opt_fn)\n",
    "learn.reg_fn = partial(seq2seq_reg, alpha=2, beta=1)\n",
    "learn.clip=25.\n",
    "learn.metrics = [accuracy]\n",
    "learn.load_encoder('lm1_enc')"
   ]
  },
  {
   "cell_type": "code",
   "execution_count": 109,
   "metadata": {
    "hidden": true
   },
   "outputs": [
    {
     "data": {
      "application/vnd.jupyter.widget-view+json": {
       "model_id": "aa73d451f6c84d22818e2dddf29157e7",
       "version_major": 2,
       "version_minor": 0
      },
      "text/plain": [
       "HBox(children=(IntProgress(value=0, description='Epoch', max=1), HTML(value='')))"
      ]
     },
     "metadata": {},
     "output_type": "display_data"
    },
    {
     "name": "stdout",
     "output_type": "stream",
     "text": [
      " 82%|████████▏ | 1149/1407 [00:12<00:02, 94.78it/s, loss=3.38]"
     ]
    },
    {
     "data": {
      "image/png": "[encoded data removed]",
      "text/plain": [
       "<Figure size 432x288 with 1 Axes>"
      ]
     },
     "metadata": {},
     "output_type": "display_data"
    }
   ],
   "source": [
    "learn.freeze_to(-1)\n",
    "learn.lr_find(lrs/100)\n",
    "learn.sched.plot()"
   ]
  },
  {
   "cell_type": "code",
   "execution_count": 110,
   "metadata": {
    "hidden": true
   },
   "outputs": [
    {
     "data": {
      "application/vnd.jupyter.widget-view+json": {
       "model_id": "c0f3c708d4844c5d9fa3971f3ef35dc2",
       "version_major": 2,
       "version_minor": 0
      },
      "text/plain": [
       "HBox(children=(IntProgress(value=0, description='Epoch', max=1), HTML(value='')))"
      ]
     },
     "metadata": {},
     "output_type": "display_data"
    },
    {
     "name": "stdout",
     "output_type": "stream",
     "text": [
      "epoch      trn_loss   val_loss   accuracy                     \n",
      "    0      1.04091    0.951566   0.534133  \n"
     ]
    },
    {
     "data": {
      "text/plain": [
       "[0.951565968767802, 0.5341333333333333]"
      ]
     },
     "execution_count": 110,
     "metadata": {},
     "output_type": "execute_result"
    }
   ],
   "source": [
    "lr=2e-3\n",
    "lrm = 2.6\n",
    "lrs = np.array([lr/(lrm**4), lr/(lrm**3), lr/(lrm**2), lr/lrm, lr])\n",
    "learn.fit(lrs, 1, wds=0, cycle_len=1, use_clr=(8,3))"
   ]
  },
  {
   "cell_type": "code",
   "execution_count": 111,
   "metadata": {
    "hidden": true
   },
   "outputs": [
    {
     "data": {
      "application/vnd.jupyter.widget-view+json": {
       "model_id": "fe6174bcb4814d60b59637915bc3c0df",
       "version_major": 2,
       "version_minor": 0
      },
      "text/plain": [
       "HBox(children=(IntProgress(value=0, description='Epoch', max=1), HTML(value='')))"
      ]
     },
     "metadata": {},
     "output_type": "display_data"
    },
    {
     "name": "stdout",
     "output_type": "stream",
     "text": [
      "epoch      trn_loss   val_loss   accuracy                      \n",
      "    0      1.012139   0.930201   0.544533  \n"
     ]
    },
    {
     "data": {
      "text/plain": [
       "[0.9302009292602539, 0.5445333333651224]"
      ]
     },
     "execution_count": 111,
     "metadata": {},
     "output_type": "execute_result"
    }
   ],
   "source": [
    "learn.freeze_to(-2)\n",
    "learn.fit(lrs, 1, wds=0, cycle_len=1, use_clr=(8,3))"
   ]
  },
  {
   "cell_type": "code",
   "execution_count": 112,
   "metadata": {
    "hidden": true
   },
   "outputs": [
    {
     "data": {
      "application/vnd.jupyter.widget-view+json": {
       "model_id": "52b4eb2dc0184d829b388fbb5325da39",
       "version_major": 2,
       "version_minor": 0
      },
      "text/plain": [
       "HBox(children=(IntProgress(value=0, description='Epoch', max=14), HTML(value='')))"
      ]
     },
     "metadata": {},
     "output_type": "display_data"
    },
    {
     "name": "stdout",
     "output_type": "stream",
     "text": [
      "epoch      trn_loss   val_loss   accuracy                      \n",
      "    0      1.00208    0.909852   0.557667  \n",
      "    1      0.988538   0.903172   0.568733                      \n",
      "    2      0.973335   0.884232   0.580067                      \n",
      "    3      0.966212   0.874211   0.5854                        \n",
      "    4      0.937243   0.874692   0.5892                        \n",
      "    5      0.934662   0.873447   0.588933                      \n",
      "    6      0.923458   0.864081   0.594867                      \n",
      "    7      0.922806   0.865775   0.5944                        \n",
      "    8      0.924494   0.86593    0.594067                      \n",
      "    9      0.930624   0.861021   0.594667                      \n",
      "    10     0.925022   0.855482   0.5992                        \n",
      "    11     0.904549   0.860083   0.598933                      \n",
      "    12     0.93201    0.861054   0.596667                      \n",
      "    13     0.902114   0.855718   0.6006                        \n"
     ]
    },
    {
     "data": {
      "text/plain": [
       "[0.8557179355621338, 0.6006]"
      ]
     },
     "execution_count": 112,
     "metadata": {},
     "output_type": "execute_result"
    }
   ],
   "source": [
    "learn.unfreeze()\n",
    "learn.fit(lrs, 1, wds=0, cycle_len=14, use_clr=(32,10))"
   ]
  },
  {
   "cell_type": "code",
   "execution_count": 113,
   "metadata": {
    "hidden": true
   },
   "outputs": [],
   "source": [
    "learn.save(\"clas_small_full\")"
   ]
  },
  {
   "cell_type": "code",
   "execution_count": 114,
   "metadata": {
    "hidden": true
   },
   "outputs": [],
   "source": [
    "learn.model.eval()\n",
    "preds, ys = [], []\n",
    "for x, y in val_dl:\n",
    "    preds.append(np.argmax(learn.model(x)[0].cpu().data.numpy(), axis=1))\n",
    "    ys.append(y.cpu().numpy())"
   ]
  },
  {
   "cell_type": "code",
   "execution_count": 115,
   "metadata": {
    "hidden": true
   },
   "outputs": [
    {
     "data": {
      "text/plain": [
       "((15000,), (15000,))"
      ]
     },
     "execution_count": 115,
     "metadata": {},
     "output_type": "execute_result"
    }
   ],
   "source": [
    "preds = np.concatenate(preds)\n",
    "ys = np.concatenate(ys)\n",
    "preds.shape, ys.shape"
   ]
  },
  {
   "cell_type": "code",
   "execution_count": 116,
   "metadata": {
    "hidden": true
   },
   "outputs": [
    {
     "name": "stdout",
     "output_type": "stream",
     "text": [
      "Normalized confusion matrix\n",
      "[[0.68 0.19 0.13]\n",
      " [0.25 0.42 0.33]\n",
      " [0.11 0.19 0.7 ]]\n"
     ]
    },
    {
     "data": {
      "image/png": "[encoded data removed]",
      "text/plain": [
       "<Figure size 432x288 with 2 Axes>"
      ]
     },
     "metadata": {},
     "output_type": "display_data"
    }
   ],
   "source": [
    "cnf_matrix = confusion_matrix(ys, preds)\n",
    "np.set_printoptions(precision=2)\n",
    "plot_confusion_matrix(\n",
    "    cnf_matrix, classes=[0, 1, 2], normalize=True,\n",
    "    title='Confusion matrix, without normalization')"
   ]
  },
  {
   "cell_type": "code",
   "execution_count": 117,
   "metadata": {
    "hidden": true
   },
   "outputs": [],
   "source": [
    "test_ds = TextDataset(tokens_test, df_test.label.values)\n",
    "test_samp = SortSampler(tokens_test, key=lambda x: len(tokens_test[x]))\n",
    "test_dl = DataLoader(test_ds, bs, transpose=True, num_workers=1, pad_idx=0, sampler=test_samp)"
   ]
  },
  {
   "cell_type": "code",
   "execution_count": 118,
   "metadata": {
    "hidden": true
   },
   "outputs": [
    {
     "data": {
      "application/vnd.jupyter.widget-view+json": {
       "model_id": "91fee5852e084fe8a307ffc18c3e6cb9",
       "version_major": 2,
       "version_minor": 0
      },
      "text/plain": [
       "HBox(children=(IntProgress(value=0, max=2754), HTML(value='')))"
      ]
     },
     "metadata": {},
     "output_type": "display_data"
    }
   ],
   "source": [
    "learn.model.eval()\n",
    "preds, ys = [], []\n",
    "for x, y in tqdm_notebook(test_dl):\n",
    "    preds.append(np.argmax(learn.model(x)[0].cpu().data.numpy(), axis=1))\n",
    "    ys.append(y.cpu().numpy())"
   ]
  },
  {
   "cell_type": "code",
   "execution_count": 119,
   "metadata": {
    "hidden": true
   },
   "outputs": [
    {
     "data": {
      "text/plain": [
       "((176209,), (176209,))"
      ]
     },
     "execution_count": 119,
     "metadata": {},
     "output_type": "execute_result"
    }
   ],
   "source": [
    "preds = np.concatenate(preds)\n",
    "ys = np.concatenate(ys)\n",
    "preds.shape, ys.shape"
   ]
  },
  {
   "cell_type": "code",
   "execution_count": 120,
   "metadata": {
    "hidden": true
   },
   "outputs": [
    {
     "data": {
      "text/plain": [
       "0.5921717959922592"
      ]
     },
     "execution_count": 120,
     "metadata": {},
     "output_type": "execute_result"
    }
   ],
   "source": [
    "np.sum(preds==ys) / preds.shape[0]"
   ]
  },
  {
   "cell_type": "code",
   "execution_count": 121,
   "metadata": {
    "hidden": true
   },
   "outputs": [
    {
     "name": "stdout",
     "output_type": "stream",
     "text": [
      "Normalized confusion matrix\n",
      "[[0.67 0.2  0.13]\n",
      " [0.26 0.41 0.33]\n",
      " [0.11 0.19 0.7 ]]\n"
     ]
    },
    {
     "data": {
      "image/png": "[encoded data removed]",
      "text/plain": [
       "<Figure size 432x288 with 2 Axes>"
      ]
     },
     "metadata": {},
     "output_type": "display_data"
    }
   ],
   "source": [
    "cnf_matrix = confusion_matrix(ys, preds)\n",
    "np.set_printoptions(precision=2)\n",
    "plot_confusion_matrix(\n",
    "    cnf_matrix, classes=[0, 1, 2], normalize=True,\n",
    "    title='Confusion matrix, without normalization')"
   ]
  },
  {
   "cell_type": "code",
   "execution_count": 122,
   "metadata": {
    "hidden": true
   },
   "outputs": [
    {
     "name": "stdout",
     "output_type": "stream",
     "text": [
      "Class 0: P 49%, R 67%, FS 0.57, Support: 34802\n",
      "Class 1: P 53%, R 41%, FS 0.46, Support: 61375\n",
      "Class 2: P 69%, R 70%, FS 0.69, Support: 80032\n"
     ]
    }
   ],
   "source": [
    "precision, recall, fscore, support = precision_recall_fscore_support(ys, preds)\n",
    "for i in range(3):\n",
    "    print(f\"Class {i}: P {precision[i]*100:.0f}%, R {recall[i]*100:.0f}%, FS {fscore[i]:.2f}, Support: {support[i]}\")"
   ]
  },
  {
   "cell_type": "markdown",
   "metadata": {},
   "source": [
    "## Regressor"
   ]
  },
  {
   "cell_type": "code",
   "execution_count": 123,
   "metadata": {},
   "outputs": [],
   "source": [
    "bs = 64\n",
    "trn_ds = TextDataset(tokens_train, df_train.rating.values.astype(\"float32\"))\n",
    "val_ds = TextDataset(tokens_val, df_val.rating.values.astype(\"float32\"))\n",
    "trn_samp = SortishSampler(tokens_train, key=lambda x: len(tokens_train[x]), bs=bs//2)\n",
    "val_samp = SortSampler(tokens_val, key=lambda x: len(tokens_val[x]))\n",
    "trn_dl = DataLoader(trn_ds, bs//2, transpose=True, num_workers=1, pad_idx=0, sampler=trn_samp)\n",
    "val_dl = DataLoader(val_ds, bs, transpose=True, num_workers=1, pad_idx=0, sampler=val_samp)\n",
    "model_data = ModelData(path, trn_dl, val_dl)"
   ]
  },
  {
   "cell_type": "code",
   "execution_count": 124,
   "metadata": {},
   "outputs": [],
   "source": [
    "dps = np.array([0.4,0.5,0.05,0.3,0.4]) * 0.5\n",
    "opt_fn = partial(torch.optim.Adam, betas=(0.7, 0.99))\n",
    "bptt = 50"
   ]
  },
  {
   "cell_type": "code",
   "execution_count": 125,
   "metadata": {},
   "outputs": [],
   "source": [
    "model = get_rnn_classifier(bptt, bptt*2, 3, n_toks, emb_sz=EMB_DIM, n_hid=500, n_layers=3, pad_token=0,\n",
    "          layers=[EMB_DIM*3, 50, 1], drops=[dps[4], 0.1],\n",
    "          dropouti=dps[0], wdrop=dps[1], dropoute=dps[2], dropouth=dps[3])"
   ]
  },
  {
   "cell_type": "code",
   "execution_count": 126,
   "metadata": {},
   "outputs": [],
   "source": [
    "class RNN_RegLearner(RNN_Learner):\n",
    "    def __init__(self, data, models, **kwargs):\n",
    "        super().__init__(data, models, **kwargs)\n",
    "\n",
    "    def _get_crit(self, data): return lambda x, y: F.mse_loss(x[:, 0], y)"
   ]
  },
  {
   "cell_type": "code",
   "execution_count": 127,
   "metadata": {},
   "outputs": [],
   "source": [
    "learn = RNN_RegLearner(model_data, TextModel(to_gpu(model)), opt_fn=opt_fn)\n",
    "learn.reg_fn = partial(seq2seq_reg, alpha=2, beta=1)\n",
    "learn.clip=25.\n",
    "learn.metrics = []\n",
    "learn.load_encoder('lm1_enc')"
   ]
  },
  {
   "cell_type": "code",
   "execution_count": 128,
   "metadata": {},
   "outputs": [],
   "source": [
    "lr=2e-4\n",
    "lrm = 2.6\n",
    "lrs = np.array([lr/(lrm**4), lr/(lrm**3), lr/(lrm**2), lr/lrm, lr])"
   ]
  },
  {
   "cell_type": "code",
   "execution_count": 129,
   "metadata": {},
   "outputs": [
    {
     "data": {
      "application/vnd.jupyter.widget-view+json": {
       "model_id": "40d70b531d914ceb83faeb1287540f96",
       "version_major": 2,
       "version_minor": 0
      },
      "text/plain": [
       "HBox(children=(IntProgress(value=0, description='Epoch', max=1), HTML(value='')))"
      ]
     },
     "metadata": {},
     "output_type": "display_data"
    },
    {
     "name": "stdout",
     "output_type": "stream",
     "text": [
      " 81%|████████  | 13348/16520 [03:02<00:43, 73.21it/s, loss=1.4]  "
     ]
    },
    {
     "data": {
      "image/png": "[encoded data removed]",
      "text/plain": [
       "<Figure size 432x288 with 1 Axes>"
      ]
     },
     "metadata": {},
     "output_type": "display_data"
    }
   ],
   "source": [
    "learn.freeze_to(-1)\n",
    "learn.lr_find(lrs/1000)\n",
    "learn.sched.plot()"
   ]
  },
  {
   "cell_type": "code",
   "execution_count": 130,
   "metadata": {},
   "outputs": [
    {
     "data": {
      "application/vnd.jupyter.widget-view+json": {
       "model_id": "f38dcf41312147439cdf4a693381a663",
       "version_major": 2,
       "version_minor": 0
      },
      "text/plain": [
       "HBox(children=(IntProgress(value=0, description='Epoch', max=1), HTML(value='')))"
      ]
     },
     "metadata": {},
     "output_type": "display_data"
    },
    {
     "name": "stdout",
     "output_type": "stream",
     "text": [
      "epoch      trn_loss   val_loss                                   \n",
      "    0      0.968221   0.865725  \n"
     ]
    }
   ],
   "source": [
    "learn.fit(lrs, 1, wds=0, cycle_len=1, use_clr=(8,3))\n",
    "learn.save('reg_0')"
   ]
  },
  {
   "cell_type": "code",
   "execution_count": 131,
   "metadata": {},
   "outputs": [
    {
     "data": {
      "application/vnd.jupyter.widget-view+json": {
       "model_id": "00760685eda347edba3db70a60fed5ec",
       "version_major": 2,
       "version_minor": 0
      },
      "text/plain": [
       "HBox(children=(IntProgress(value=0, description='Epoch', max=1), HTML(value='')))"
      ]
     },
     "metadata": {},
     "output_type": "display_data"
    },
    {
     "name": "stdout",
     "output_type": "stream",
     "text": [
      "epoch      trn_loss   val_loss                                   \n",
      "    0      0.905225   0.835463  \n"
     ]
    }
   ],
   "source": [
    "learn.freeze_to(-2)\n",
    "learn.fit(lrs, 1, wds=0, cycle_len=1, use_clr=(8,3))\n",
    "learn.save('reg_1')"
   ]
  },
  {
   "cell_type": "code",
   "execution_count": 132,
   "metadata": {},
   "outputs": [
    {
     "data": {
      "application/vnd.jupyter.widget-view+json": {
       "model_id": "d422a0d75fa241f68b37aa0ea2922935",
       "version_major": 2,
       "version_minor": 0
      },
      "text/plain": [
       "HBox(children=(IntProgress(value=0, description='Epoch', max=14), HTML(value='')))"
      ]
     },
     "metadata": {},
     "output_type": "display_data"
    },
    {
     "name": "stdout",
     "output_type": "stream",
     "text": [
      "epoch      trn_loss   val_loss                                   \n",
      "    0      0.889001   0.810576  \n",
      "    1      0.89244    0.773509                                   \n",
      "    2      0.7998     0.752368                                   \n",
      "    3      0.805316   0.73986                                    \n",
      "    4      0.77228    0.722108                                   \n",
      "    5      0.781112   0.716881                                   \n",
      "    6      0.785651   0.72082                                    \n",
      "    7      0.768798   0.716898                                   \n",
      "    8      0.735351   0.715576                                   \n",
      "    9      0.768486   0.715306                                   \n",
      "    10     0.773695   0.721079                                   \n",
      "    11     0.735189   0.699495                                   \n",
      "    12     0.808614   0.709349                                   \n",
      "    13     0.749544   0.702017                                   \n"
     ]
    }
   ],
   "source": [
    "learn.unfreeze()\n",
    "learn.fit(lrs, 1, wds=0, cycle_len=14, use_clr=(32,10))\n",
    "learn.save('reg_full')"
   ]
  },
  {
   "cell_type": "code",
   "execution_count": 133,
   "metadata": {},
   "outputs": [],
   "source": [
    "# Export Model\n",
    "torch.save(learn.model, path / \"sentiment_model.pth\")"
   ]
  },
  {
   "cell_type": "code",
   "execution_count": 134,
   "metadata": {},
   "outputs": [],
   "source": [
    "learn.load('reg_full')"
   ]
  },
  {
   "cell_type": "markdown",
   "metadata": {},
   "source": [
    "### Evaluation"
   ]
  },
  {
   "cell_type": "code",
   "execution_count": 138,
   "metadata": {},
   "outputs": [],
   "source": [
    "test_ds = TextDataset(tokens_test, df_test.rating.values)\n",
    "test_samp = SortSampler(tokens_test, key=lambda x: len(tokens_test[x]))\n",
    "test_dl = DataLoader(test_ds, bs, transpose=True, num_workers=1, pad_idx=0, sampler=test_samp)"
   ]
  },
  {
   "cell_type": "code",
   "execution_count": 139,
   "metadata": {},
   "outputs": [
    {
     "data": {
      "application/vnd.jupyter.widget-view+json": {
       "model_id": "39cca598364e40ed880d8e0162b92833",
       "version_major": 2,
       "version_minor": 0
      },
      "text/plain": [
       "HBox(children=(IntProgress(value=0, max=2754), HTML(value='')))"
      ]
     },
     "metadata": {},
     "output_type": "display_data"
    },
    {
     "data": {
      "text/plain": [
       "((176208,), (176208,))"
      ]
     },
     "execution_count": 139,
     "metadata": {},
     "output_type": "execute_result"
    }
   ],
   "source": [
    "def get_preds(data_loader):\n",
    "    learn.model.eval()\n",
    "    learn.model.reset()         \n",
    "    preds, ys = [], []\n",
    "    for x, y in tqdm_notebook(data_loader):   \n",
    "        preds.append(learn.model(x)[0].cpu().data.numpy()[:, 0])\n",
    "        ys.append(y.cpu().numpy())\n",
    "    preds = np.concatenate(preds)\n",
    "    ys = np.concatenate(ys)\n",
    "    return ys, preds\n",
    "ys, preds = get_preds(val_dl)\n",
    "preds.shape, ys.shape"
   ]
  },
  {
   "cell_type": "code",
   "execution_count": 140,
   "metadata": {
    "scrolled": true
   },
   "outputs": [
    {
     "data": {
      "text/plain": [
       "count    176208.000000\n",
       "mean          3.335331\n",
       "std           1.080536\n",
       "min           1.000000\n",
       "25%           3.000000\n",
       "50%           3.000000\n",
       "75%           4.000000\n",
       "max           5.000000\n",
       "dtype: float64"
      ]
     },
     "execution_count": 140,
     "metadata": {},
     "output_type": "execute_result"
    }
   ],
   "source": [
    "pd.Series(ys).describe()"
   ]
  },
  {
   "cell_type": "code",
   "execution_count": 141,
   "metadata": {},
   "outputs": [
    {
     "data": {
      "text/plain": [
       "count    176208.000000\n",
       "mean          3.335331\n",
       "std           1.080536\n",
       "min           1.000000\n",
       "25%           3.000000\n",
       "50%           3.000000\n",
       "75%           4.000000\n",
       "max           5.000000\n",
       "dtype: float64"
      ]
     },
     "execution_count": 141,
     "metadata": {},
     "output_type": "execute_result"
    }
   ],
   "source": [
    "pd.Series(ys).describe()"
   ]
  },
  {
   "cell_type": "code",
   "execution_count": 142,
   "metadata": {},
   "outputs": [
    {
     "data": {
      "text/plain": [
       "0.7020173335631753"
      ]
     },
     "execution_count": 142,
     "metadata": {},
     "output_type": "execute_result"
    }
   ],
   "source": [
    "np.sum(np.square(preds - ys)) / preds.shape[0]"
   ]
  },
  {
   "cell_type": "code",
   "execution_count": 143,
   "metadata": {},
   "outputs": [
    {
     "data": {
      "text/plain": [
       "0.6958915830297149"
      ]
     },
     "execution_count": 143,
     "metadata": {},
     "output_type": "execute_result"
    }
   ],
   "source": [
    "preds = np.clip(preds, 1, 5)\n",
    "np.sum(np.square(preds - ys)) / preds.shape[0]"
   ]
  },
  {
   "cell_type": "code",
   "execution_count": 144,
   "metadata": {},
   "outputs": [
    {
     "data": {
      "text/html": [
       "<div>\n",
       "<style scoped>\n",
       "    .dataframe tbody tr th:only-of-type {\n",
       "        vertical-align: middle;\n",
       "    }\n",
       "\n",
       "    .dataframe tbody tr th {\n",
       "        vertical-align: top;\n",
       "    }\n",
       "\n",
       "    .dataframe thead th {\n",
       "        text-align: right;\n",
       "    }\n",
       "</style>\n",
       "<table border=\"1\" class=\"dataframe\">\n",
       "  <thead>\n",
       "    <tr style=\"text-align: right;\">\n",
       "      <th></th>\n",
       "      <th>comment</th>\n",
       "      <th>rating</th>\n",
       "      <th>label</th>\n",
       "      <th>preds</th>\n",
       "    </tr>\n",
       "  </thead>\n",
       "  <tbody>\n",
       "    <tr>\n",
       "      <th>0</th>\n",
       "      <td>男主角像卡卡</td>\n",
       "      <td>2</td>\n",
       "      <td>0</td>\n",
       "      <td>3.479422</td>\n",
       "    </tr>\n",
       "    <tr>\n",
       "      <th>1</th>\n",
       "      <td>经典改编，还是忠于原著的，一路都很稳。</td>\n",
       "      <td>4</td>\n",
       "      <td>2</td>\n",
       "      <td>4.060974</td>\n",
       "    </tr>\n",
       "    <tr>\n",
       "      <th>2</th>\n",
       "      <td>叙事：时间空间的有机结合</td>\n",
       "      <td>5</td>\n",
       "      <td>2</td>\n",
       "      <td>3.754907</td>\n",
       "    </tr>\n",
       "    <tr>\n",
       "      <th>3</th>\n",
       "      <td>看街头小混混打外星人挺热闹的，可是前一秒还在抢劫的少年犯，下一秒就变成了拯救世界的大英雄，导...</td>\n",
       "      <td>2</td>\n",
       "      <td>0</td>\n",
       "      <td>2.596663</td>\n",
       "    </tr>\n",
       "    <tr>\n",
       "      <th>4</th>\n",
       "      <td>这电影也就一般</td>\n",
       "      <td>3</td>\n",
       "      <td>1</td>\n",
       "      <td>2.412054</td>\n",
       "    </tr>\n",
       "  </tbody>\n",
       "</table>\n",
       "</div>"
      ],
      "text/plain": [
       "                                             comment  rating  label     preds\n",
       "0                                             男主角像卡卡       2      0  3.479422\n",
       "1                                经典改编，还是忠于原著的，一路都很稳。       4      2  4.060974\n",
       "2                                       叙事：时间空间的有机结合       5      2  3.754907\n",
       "3  看街头小混混打外星人挺热闹的，可是前一秒还在抢劫的少年犯，下一秒就变成了拯救世界的大英雄，导...       2      0  2.596663\n",
       "4                                            这电影也就一般       3      1  2.412054"
      ]
     },
     "execution_count": 144,
     "metadata": {},
     "output_type": "execute_result"
    }
   ],
   "source": [
    "# Save predictions\n",
    "df_val.loc[df_val.iloc[list(iter(val_samp))].index, \"preds\"] = preds\n",
    "df_val.to_csv(path / \"df_val.csv.gz\", index=False, compression=\"gzip\")\n",
    "df_val.head()"
   ]
  },
  {
   "cell_type": "code",
   "execution_count": 145,
   "metadata": {},
   "outputs": [
    {
     "data": {
      "text/plain": [
       "0.6958915595702729"
      ]
     },
     "execution_count": 145,
     "metadata": {},
     "output_type": "execute_result"
    }
   ],
   "source": [
    "np.sum(np.square(df_val.rating.values - df_val.preds.values)) / preds.shape[0]"
   ]
  },
  {
   "cell_type": "code",
   "execution_count": 146,
   "metadata": {},
   "outputs": [
    {
     "data": {
      "application/vnd.jupyter.widget-view+json": {
       "model_id": "5df7f0583b5e4d6e88828a6c029cad48",
       "version_major": 2,
       "version_minor": 0
      },
      "text/plain": [
       "HBox(children=(IntProgress(value=0, max=2754), HTML(value='')))"
      ]
     },
     "metadata": {},
     "output_type": "display_data"
    },
    {
     "data": {
      "text/plain": [
       "((176209,), (176209,))"
      ]
     },
     "execution_count": 146,
     "metadata": {},
     "output_type": "execute_result"
    }
   ],
   "source": [
    "ys, preds = get_preds(test_dl)\n",
    "preds.shape, ys.shape"
   ]
  },
  {
   "cell_type": "code",
   "execution_count": 147,
   "metadata": {},
   "outputs": [
    {
     "data": {
      "text/plain": [
       "0.7007267883487146"
      ]
     },
     "execution_count": 147,
     "metadata": {},
     "output_type": "execute_result"
    }
   ],
   "source": [
    "preds = np.clip(preds, 1, 5)\n",
    "np.sum(np.square(preds - ys)) / preds.shape[0]"
   ]
  },
  {
   "cell_type": "code",
   "execution_count": 148,
   "metadata": {},
   "outputs": [
    {
     "data": {
      "text/html": [
       "<div>\n",
       "<style scoped>\n",
       "    .dataframe tbody tr th:only-of-type {\n",
       "        vertical-align: middle;\n",
       "    }\n",
       "\n",
       "    .dataframe tbody tr th {\n",
       "        vertical-align: top;\n",
       "    }\n",
       "\n",
       "    .dataframe thead th {\n",
       "        text-align: right;\n",
       "    }\n",
       "</style>\n",
       "<table border=\"1\" class=\"dataframe\">\n",
       "  <thead>\n",
       "    <tr style=\"text-align: right;\">\n",
       "      <th></th>\n",
       "      <th>comment</th>\n",
       "      <th>rating</th>\n",
       "      <th>label</th>\n",
       "      <th>preds</th>\n",
       "    </tr>\n",
       "  </thead>\n",
       "  <tbody>\n",
       "    <tr>\n",
       "      <th>258461</th>\n",
       "      <td>无话可说.</td>\n",
       "      <td>3</td>\n",
       "      <td>1</td>\n",
       "      <td>2.579908</td>\n",
       "    </tr>\n",
       "    <tr>\n",
       "      <th>118491</th>\n",
       "      <td>老师你太可爱</td>\n",
       "      <td>5</td>\n",
       "      <td>2</td>\n",
       "      <td>4.153790</td>\n",
       "    </tr>\n",
       "    <tr>\n",
       "      <th>44768</th>\n",
       "      <td>说了好多话，可惜都是陈词滥调、无凭无据。</td>\n",
       "      <td>2</td>\n",
       "      <td>0</td>\n",
       "      <td>2.407399</td>\n",
       "    </tr>\n",
       "    <tr>\n",
       "      <th>34630</th>\n",
       "      <td>普巴家用的电脑是苹果。</td>\n",
       "      <td>3</td>\n",
       "      <td>1</td>\n",
       "      <td>3.029899</td>\n",
       "    </tr>\n",
       "    <tr>\n",
       "      <th>382761</th>\n",
       "      <td>这才是一部看完之后观众讲不清道不明的电影，主线不明了，支线都快抢过主线的风头了。而且，我也讲...</td>\n",
       "      <td>4</td>\n",
       "      <td>2</td>\n",
       "      <td>3.379535</td>\n",
       "    </tr>\n",
       "  </tbody>\n",
       "</table>\n",
       "</div>"
      ],
      "text/plain": [
       "                                                  comment  rating  label  \\\n",
       "258461                                              无话可说.       3      1   \n",
       "118491                                             老师你太可爱       5      2   \n",
       "44768                                说了好多话，可惜都是陈词滥调、无凭无据。       2      0   \n",
       "34630                                         普巴家用的电脑是苹果。       3      1   \n",
       "382761  这才是一部看完之后观众讲不清道不明的电影，主线不明了，支线都快抢过主线的风头了。而且，我也讲...       4      2   \n",
       "\n",
       "           preds  \n",
       "258461  2.579908  \n",
       "118491  4.153790  \n",
       "44768   2.407399  \n",
       "34630   3.029899  \n",
       "382761  3.379535  "
      ]
     },
     "execution_count": 148,
     "metadata": {},
     "output_type": "execute_result"
    }
   ],
   "source": [
    "# Save predictions\n",
    "df_test.loc[df_test.iloc[list(iter(test_samp))].index, \"preds\"] = preds\n",
    "df_test.to_csv(path / \"df_test.csv.gz\", index=False, compression=\"gzip\")\n",
    "df_test.head()"
   ]
  },
  {
   "cell_type": "code",
   "execution_count": 149,
   "metadata": {},
   "outputs": [
    {
     "data": {
      "text/html": [
       "<div>\n",
       "<style scoped>\n",
       "    .dataframe tbody tr th:only-of-type {\n",
       "        vertical-align: middle;\n",
       "    }\n",
       "\n",
       "    .dataframe tbody tr th {\n",
       "        vertical-align: top;\n",
       "    }\n",
       "\n",
       "    .dataframe thead th {\n",
       "        text-align: right;\n",
       "    }\n",
       "</style>\n",
       "<table border=\"1\" class=\"dataframe\">\n",
       "  <thead>\n",
       "    <tr style=\"text-align: right;\">\n",
       "      <th></th>\n",
       "      <th>comment</th>\n",
       "      <th>rating</th>\n",
       "      <th>label</th>\n",
       "      <th>preds</th>\n",
       "    </tr>\n",
       "  </thead>\n",
       "  <tbody>\n",
       "    <tr>\n",
       "      <th>630257</th>\n",
       "      <td>柴荣死的时候才39岁，用田丰演那么老气实在太残念了，另外我总觉得赵匡胤怎么眼熟，度了一下发现...</td>\n",
       "      <td>4</td>\n",
       "      <td>2</td>\n",
       "      <td>3.466819</td>\n",
       "    </tr>\n",
       "    <tr>\n",
       "      <th>639998</th>\n",
       "      <td>《孤独的生还者》里面4个seal因为不杀平民导致自己死了3个。《报复行动》里一群傻逼mari...</td>\n",
       "      <td>4</td>\n",
       "      <td>2</td>\n",
       "      <td>3.288943</td>\n",
       "    </tr>\n",
       "    <tr>\n",
       "      <th>307954</th>\n",
       "      <td>没有周星驰，所有的无厘头都像是跟风而已，找不到精髓，就变成了山寨。</td>\n",
       "      <td>3</td>\n",
       "      <td>1</td>\n",
       "      <td>1.867689</td>\n",
       "    </tr>\n",
       "    <tr>\n",
       "      <th>652487</th>\n",
       "      <td>一个通过人性来反映战争的片子，这种反而更能触动人心，二战的时候的压迫与无奈，很多人其实并不想...</td>\n",
       "      <td>3</td>\n",
       "      <td>1</td>\n",
       "      <td>3.790112</td>\n",
       "    </tr>\n",
       "    <tr>\n",
       "      <th>125312</th>\n",
       "      <td>我很骄傲自己哪怕是在那些流言蜚语将MJ妖魔化小丑化到极端的时候我都没有怀疑过这个人。</td>\n",
       "      <td>5</td>\n",
       "      <td>2</td>\n",
       "      <td>3.799084</td>\n",
       "    </tr>\n",
       "    <tr>\n",
       "      <th>582889</th>\n",
       "      <td>还是牛逼的柳河</td>\n",
       "      <td>5</td>\n",
       "      <td>2</td>\n",
       "      <td>3.829310</td>\n",
       "    </tr>\n",
       "    <tr>\n",
       "      <th>65551</th>\n",
       "      <td>一首写实的大海之诗。导演的高明之处在于，并不简单地展示海中的生活，而是有一条儿子的主线。</td>\n",
       "      <td>4</td>\n",
       "      <td>2</td>\n",
       "      <td>3.988124</td>\n",
       "    </tr>\n",
       "    <tr>\n",
       "      <th>353104</th>\n",
       "      <td>也就看个热闹，居然还是改编于小说，这得是多烂的一部小说啊……</td>\n",
       "      <td>3</td>\n",
       "      <td>1</td>\n",
       "      <td>2.194700</td>\n",
       "    </tr>\n",
       "    <tr>\n",
       "      <th>781775</th>\n",
       "      <td>这里是怎么打架的，锦衣卫里又是怎么打架的</td>\n",
       "      <td>5</td>\n",
       "      <td>2</td>\n",
       "      <td>3.027639</td>\n",
       "    </tr>\n",
       "    <tr>\n",
       "      <th>782493</th>\n",
       "      <td>连这个都翻出来了[摊手]</td>\n",
       "      <td>3</td>\n",
       "      <td>1</td>\n",
       "      <td>3.011955</td>\n",
       "    </tr>\n",
       "    <tr>\n",
       "      <th>875167</th>\n",
       "      <td>能死的都死了，不想死的也死了</td>\n",
       "      <td>2</td>\n",
       "      <td>0</td>\n",
       "      <td>2.931053</td>\n",
       "    </tr>\n",
       "    <tr>\n",
       "      <th>416092</th>\n",
       "      <td>想起前年的那部「韩公主」。最黑暗的地方如果能被分享出来，那么即是光明。昨晚睡前看了林奕含事件...</td>\n",
       "      <td>5</td>\n",
       "      <td>2</td>\n",
       "      <td>4.095560</td>\n",
       "    </tr>\n",
       "    <tr>\n",
       "      <th>372322</th>\n",
       "      <td>无间道仿制品</td>\n",
       "      <td>3</td>\n",
       "      <td>1</td>\n",
       "      <td>3.379880</td>\n",
       "    </tr>\n",
       "    <tr>\n",
       "      <th>691961</th>\n",
       "      <td>就那一幕吻戏拍的还不错。</td>\n",
       "      <td>2</td>\n",
       "      <td>0</td>\n",
       "      <td>3.073494</td>\n",
       "    </tr>\n",
       "    <tr>\n",
       "      <th>499258</th>\n",
       "      <td>后半段变好。台词多得思考的空间都没了，脑袋要炸。</td>\n",
       "      <td>3</td>\n",
       "      <td>1</td>\n",
       "      <td>3.109666</td>\n",
       "    </tr>\n",
       "    <tr>\n",
       "      <th>723224</th>\n",
       "      <td>你妹的女人，你二大爷的女人！</td>\n",
       "      <td>1</td>\n",
       "      <td>0</td>\n",
       "      <td>2.957162</td>\n",
       "    </tr>\n",
       "    <tr>\n",
       "      <th>6625</th>\n",
       "      <td>当纪录片质量一般/偏差，内容太散，摄影也很一般；当做了解《智取威虎山》的拍摄花絮看看还不错，...</td>\n",
       "      <td>3</td>\n",
       "      <td>1</td>\n",
       "      <td>3.786204</td>\n",
       "    </tr>\n",
       "    <tr>\n",
       "      <th>158310</th>\n",
       "      <td>政治这坛水太混、太深。当局者迷，旁观者更迷，看不懂。珍爱生命远离政坛！！</td>\n",
       "      <td>3</td>\n",
       "      <td>1</td>\n",
       "      <td>3.872448</td>\n",
       "    </tr>\n",
       "    <tr>\n",
       "      <th>846940</th>\n",
       "      <td>1、超级富豪千万不要找职业经理人操持自己的家业，这些职业经理人都是穷怕了的，干一票就走人，区...</td>\n",
       "      <td>4</td>\n",
       "      <td>2</td>\n",
       "      <td>3.934357</td>\n",
       "    </tr>\n",
       "    <tr>\n",
       "      <th>826211</th>\n",
       "      <td>一直对这种历史很感兴趣。灾难，奇迹，万人景仰，一个民族人种的兴与衰，传奇，史诗</td>\n",
       "      <td>4</td>\n",
       "      <td>2</td>\n",
       "      <td>4.190993</td>\n",
       "    </tr>\n",
       "  </tbody>\n",
       "</table>\n",
       "</div>"
      ],
      "text/plain": [
       "                                                  comment  rating  label  \\\n",
       "630257  柴荣死的时候才39岁，用田丰演那么老气实在太残念了，另外我总觉得赵匡胤怎么眼熟，度了一下发现...       4      2   \n",
       "639998  《孤独的生还者》里面4个seal因为不杀平民导致自己死了3个。《报复行动》里一群傻逼mari...       4      2   \n",
       "307954                  没有周星驰，所有的无厘头都像是跟风而已，找不到精髓，就变成了山寨。       3      1   \n",
       "652487  一个通过人性来反映战争的片子，这种反而更能触动人心，二战的时候的压迫与无奈，很多人其实并不想...       3      1   \n",
       "125312         我很骄傲自己哪怕是在那些流言蜚语将MJ妖魔化小丑化到极端的时候我都没有怀疑过这个人。       5      2   \n",
       "582889                                            还是牛逼的柳河       5      2   \n",
       "65551        一首写实的大海之诗。导演的高明之处在于，并不简单地展示海中的生活，而是有一条儿子的主线。       4      2   \n",
       "353104                     也就看个热闹，居然还是改编于小说，这得是多烂的一部小说啊……       3      1   \n",
       "781775                               这里是怎么打架的，锦衣卫里又是怎么打架的       5      2   \n",
       "782493                                       连这个都翻出来了[摊手]       3      1   \n",
       "875167                                     能死的都死了，不想死的也死了       2      0   \n",
       "416092  想起前年的那部「韩公主」。最黑暗的地方如果能被分享出来，那么即是光明。昨晚睡前看了林奕含事件...       5      2   \n",
       "372322                                             无间道仿制品       3      1   \n",
       "691961                                       就那一幕吻戏拍的还不错。       2      0   \n",
       "499258                           后半段变好。台词多得思考的空间都没了，脑袋要炸。       3      1   \n",
       "723224                                     你妹的女人，你二大爷的女人！       1      0   \n",
       "6625    当纪录片质量一般/偏差，内容太散，摄影也很一般；当做了解《智取威虎山》的拍摄花絮看看还不错，...       3      1   \n",
       "158310               政治这坛水太混、太深。当局者迷，旁观者更迷，看不懂。珍爱生命远离政坛！！       3      1   \n",
       "846940  1、超级富豪千万不要找职业经理人操持自己的家业，这些职业经理人都是穷怕了的，干一票就走人，区...       4      2   \n",
       "826211            一直对这种历史很感兴趣。灾难，奇迹，万人景仰，一个民族人种的兴与衰，传奇，史诗       4      2   \n",
       "\n",
       "           preds  \n",
       "630257  3.466819  \n",
       "639998  3.288943  \n",
       "307954  1.867689  \n",
       "652487  3.790112  \n",
       "125312  3.799084  \n",
       "582889  3.829310  \n",
       "65551   3.988124  \n",
       "353104  2.194700  \n",
       "781775  3.027639  \n",
       "782493  3.011955  \n",
       "875167  2.931053  \n",
       "416092  4.095560  \n",
       "372322  3.379880  \n",
       "691961  3.073494  \n",
       "499258  3.109666  \n",
       "723224  2.957162  \n",
       "6625    3.786204  \n",
       "158310  3.872448  \n",
       "846940  3.934357  \n",
       "826211  4.190993  "
      ]
     },
     "execution_count": 149,
     "metadata": {},
     "output_type": "execute_result"
    }
   ],
   "source": [
    "df_test.sample(20)"
   ]
  },
  {
   "cell_type": "code",
   "execution_count": 150,
   "metadata": {},
   "outputs": [
    {
     "data": {
      "text/plain": [
       "0.7007267883487144"
      ]
     },
     "execution_count": 150,
     "metadata": {},
     "output_type": "execute_result"
    }
   ],
   "source": [
    "np.sum(np.square(df_test.rating.values - df_test.preds.values)) / preds.shape[0]"
   ]
  },
  {
   "cell_type": "code",
   "execution_count": 151,
   "metadata": {},
   "outputs": [],
   "source": [
    "preds_class = np.round(preds)"
   ]
  },
  {
   "cell_type": "code",
   "execution_count": 152,
   "metadata": {},
   "outputs": [
    {
     "name": "stdout",
     "output_type": "stream",
     "text": [
      "Confusion matrix, without normalization\n",
      "[[ 2493  4296  3798   874    61]\n",
      " [ 1249  7297 12153  2546    35]\n",
      " [  260  4763 35676 20317   359]\n",
      " [   38   724 16212 35438  2237]\n",
      " [   19   259  3968 17461  3676]]\n"
     ]
    },
    {
     "data": {
      "image/png": "[encoded data removed]",
      "text/plain": [
       "<Figure size 432x288 with 2 Axes>"
      ]
     },
     "metadata": {},
     "output_type": "display_data"
    }
   ],
   "source": [
    "cnf_matrix = confusion_matrix(ys, preds_class)\n",
    "np.set_printoptions(precision=2)\n",
    "\n",
    "# Plot non-normalized confusion matrix\n",
    "plt.figure()\n",
    "plot_confusion_matrix(\n",
    "    cnf_matrix, classes=[0, 1, 2],\n",
    "    title='Confusion matrix, without normalization')"
   ]
  },
  {
   "cell_type": "code",
   "execution_count": 153,
   "metadata": {},
   "outputs": [
    {
     "name": "stdout",
     "output_type": "stream",
     "text": [
      "Class 0: P 61%, R 22%, FS 0.32, Support: 11522\n",
      "Class 1: P 42%, R 31%, FS 0.36, Support: 23280\n",
      "Class 2: P 50%, R 58%, FS 0.54, Support: 61375\n",
      "Class 3: P 46%, R 65%, FS 0.54, Support: 54649\n",
      "Class 4: P 58%, R 14%, FS 0.23, Support: 25383\n"
     ]
    }
   ],
   "source": [
    "from sklearn.metrics import precision_recall_fscore_support\n",
    "precision, recall, fscore, support = precision_recall_fscore_support(ys, preds_class)\n",
    "for i in range(5):\n",
    "    print(f\"Class {i}: P {precision[i]*100:.0f}%, R {recall[i]*100:.0f}%, FS {fscore[i]:.2f}, Support: {support[i]}\")"
   ]
  },
  {
   "cell_type": "code",
   "execution_count": 163,
   "metadata": {},
   "outputs": [],
   "source": [
    "def get_prediction(texts):\n",
    "    input_tensor = T(np.array([1] + [mapping.get(x, UNK) for x in texts])).unsqueeze(1)\n",
    "    return learn.model(input_tensor)[0].data.cpu().numpy()[0, 0]"
   ]
  },
  {
   "cell_type": "code",
   "execution_count": 164,
   "metadata": {},
   "outputs": [
    {
     "data": {
      "text/plain": [
       "2.460428"
      ]
     },
     "execution_count": 164,
     "metadata": {},
     "output_type": "execute_result"
    }
   ],
   "source": [
    "get_prediction(\"看了快一半了才发现是mini的广告\")"
   ]
  },
  {
   "cell_type": "code",
   "execution_count": 165,
   "metadata": {},
   "outputs": [
    {
     "data": {
      "text/plain": [
       "4.7503815"
      ]
     },
     "execution_count": 165,
     "metadata": {},
     "output_type": "execute_result"
    }
   ],
   "source": [
    "get_prediction(\"妈蛋，简直太好看了。最后的DJ battle部分，兴奋的我，简直想从座位上站起来一起扭\")"
   ]
  },
  {
   "cell_type": "code",
   "execution_count": 166,
   "metadata": {},
   "outputs": [
    {
     "data": {
      "text/plain": [
       "3.0046263"
      ]
     },
     "execution_count": 166,
     "metadata": {},
     "output_type": "execute_result"
    }
   ],
   "source": [
    "get_prediction(\"说实话我没怎么认真看，电影院里的熊孩子太闹腾了，前面的小奶娃还时不时站在老爸腿上蹦迪，观影体验极差，不过小朋友应该挺喜欢的\")"
   ]
  },
  {
   "cell_type": "code",
   "execution_count": 167,
   "metadata": {},
   "outputs": [
    {
     "data": {
      "text/plain": [
       "3.259626"
      ]
     },
     "execution_count": 167,
     "metadata": {},
     "output_type": "execute_result"
    }
   ],
   "source": [
    "get_prediction(\"李冰冰的脸真的很紧绷，比鲨鱼的脸还绷。\")"
   ]
  },
  {
   "cell_type": "code",
   "execution_count": 168,
   "metadata": {},
   "outputs": [
    {
     "data": {
      "text/plain": [
       "0.8791629"
      ]
     },
     "execution_count": 168,
     "metadata": {},
     "output_type": "execute_result"
    }
   ],
   "source": [
    "get_prediction(\"太烂了，难看至极。\")"
   ]
  },
  {
   "cell_type": "code",
   "execution_count": 169,
   "metadata": {},
   "outputs": [
    {
     "data": {
      "text/plain": [
       "2.1875534"
      ]
     },
     "execution_count": 169,
     "metadata": {},
     "output_type": "execute_result"
    }
   ],
   "source": [
    "get_prediction(\"还我电影票14元\")"
   ]
  },
  {
   "cell_type": "code",
   "execution_count": 170,
   "metadata": {},
   "outputs": [
    {
     "data": {
      "text/plain": [
       "3.228706"
      ]
     },
     "execution_count": 170,
     "metadata": {},
     "output_type": "execute_result"
    }
   ],
   "source": [
    "get_prediction(\"好了可以了。再也不看Marvel了。我努力过了。实在是。。啥呀这是。🙄️\")"
   ]
  },
  {
   "cell_type": "code",
   "execution_count": 171,
   "metadata": {},
   "outputs": [
    {
     "data": {
      "text/plain": [
       "1.9167452"
      ]
     },
     "execution_count": 171,
     "metadata": {},
     "output_type": "execute_result"
    }
   ],
   "source": [
    "get_prediction(\"把我基神写成智障，辣鸡mcu\")"
   ]
  }
 ],
 "metadata": {
  "kernelspec": {
   "display_name": "Python 3",
   "language": "python",
   "name": "python3"
  },
  "language_info": {
   "codemirror_mode": {
    "name": "ipython",
    "version": 3
   },
   "file_extension": ".py",
   "mimetype": "text/x-python",
   "name": "python",
   "nbconvert_exporter": "python",
   "pygments_lexer": "ipython3",
   "version": "3.6.6"
  }
 },
 "nbformat": 4,
 "nbformat_minor": 2
}
