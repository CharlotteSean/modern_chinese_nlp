{
 "cells": [
  {
   "cell_type": "code",
   "execution_count": 1,
   "metadata": {},
   "outputs": [],
   "source": [
    "from dekisugi.sequence_model import get_sequence_model\n",
    "\n",
    "model = get_sequence_model(\n",
    "        7500,\n",
    "        emb_sz=500,\n",
    "        pad_idx=2,\n",
    "        dropoute=0,\n",
    "        rnn_hid=500,\n",
    "        rnn_layers=3,\n",
    "        bidir=False,\n",
    "        dropouth=0.2,\n",
    "        dropouti=0.2,\n",
    "        wdrop=0.05,\n",
    "        qrnn=False,\n",
    "        fcn_layers=[50, 1],\n",
    "        fcn_dropouts=[0.1, 0.1]\n",
    "    )"
   ]
  },
  {
   "cell_type": "code",
   "execution_count": 2,
   "metadata": {},
   "outputs": [],
   "source": [
    "import torch\n",
    "model.load_state_dict(torch.load(\"../data/cache/douban_dk/snapshot_seq_regressor_0.164828.pth\"))"
   ]
  },
  {
   "cell_type": "code",
   "execution_count": 3,
   "metadata": {},
   "outputs": [
    {
     "data": {
      "text/plain": [
       "True"
      ]
     },
     "execution_count": 3,
     "metadata": {},
     "output_type": "execute_result"
    }
   ],
   "source": [
    "import sentencepiece as spm\n",
    "sp = spm.SentencePieceProcessor()\n",
    "sp.Load(\"../data/rating_unigram_model.model\")"
   ]
  },
  {
   "cell_type": "code",
   "execution_count": 4,
   "metadata": {},
   "outputs": [],
   "source": [
    "import numpy as np\n",
    "\n",
    "def restore_rating(scores):\n",
    "    return scores * 2 + 3\n",
    "\n",
    "model.cpu()\n",
    "def get_prediction(texts):\n",
    "    model.eval()\n",
    "    input_tensor = torch.LongTensor(sp.EncodeAsIds(texts)).unsqueeze(1)\n",
    "    return restore_rating(model(input_tensor).data.cpu().numpy()[0, 0])"
   ]
  },
  {
   "cell_type": "code",
   "execution_count": 5,
   "metadata": {},
   "outputs": [
    {
     "data": {
      "text/plain": [
       "2.6421082615852356"
      ]
     },
     "execution_count": 5,
     "metadata": {},
     "output_type": "execute_result"
    }
   ],
   "source": [
    "get_prediction(\"看 了 快 一半 了 才 发现 是 mini 的 广告\")"
   ]
  },
  {
   "cell_type": "code",
   "execution_count": 6,
   "metadata": {},
   "outputs": [
    {
     "data": {
      "text/plain": [
       "4.519014477729797"
      ]
     },
     "execution_count": 6,
     "metadata": {},
     "output_type": "execute_result"
    }
   ],
   "source": [
    "get_prediction(\"妈蛋 ， 简直 太 好看 了 。 最后 的 DJ battle 部分 ， 兴奋 的 我 ， 简直 想 从 座位 上 站 起来 一起 扭\")"
   ]
  },
  {
   "cell_type": "code",
   "execution_count": 7,
   "metadata": {},
   "outputs": [
    {
     "data": {
      "text/plain": [
       "1.3203153610229492"
      ]
     },
     "execution_count": 7,
     "metadata": {},
     "output_type": "execute_result"
    }
   ],
   "source": [
    "get_prediction(\"太 烂 了 ， 难看 至极 。\")"
   ]
  },
  {
   "cell_type": "code",
   "execution_count": 8,
   "metadata": {},
   "outputs": [
    {
     "data": {
      "text/plain": [
       "2.671676218509674"
      ]
     },
     "execution_count": 8,
     "metadata": {},
     "output_type": "execute_result"
    }
   ],
   "source": [
    "get_prediction(\"看完 之后 很 生气 ！ 剧情 太差 了\")"
   ]
  },
  {
   "cell_type": "markdown",
   "metadata": {},
   "source": [
    "## For Debug Purpose"
   ]
  },
  {
   "cell_type": "markdown",
   "metadata": {},
   "source": [
    "### From the CSV"
   ]
  },
  {
   "cell_type": "code",
   "execution_count": 9,
   "metadata": {},
   "outputs": [],
   "source": [
    "import pandas as pd\n",
    "df_ratings = pd.read_csv(\"../data/ratings_word.csv\")"
   ]
  },
  {
   "cell_type": "code",
   "execution_count": 10,
   "metadata": {},
   "outputs": [],
   "source": [
    "def evaluate_labeled_row(idx):\n",
    "    return (\n",
    "        get_prediction(df_ratings.iloc[idx][\"comment\"]),\n",
    "        df_ratings.iloc[idx][\"rating\"], \n",
    "        df_ratings.iloc[idx][\"comment\"])"
   ]
  },
  {
   "cell_type": "code",
   "execution_count": 11,
   "metadata": {},
   "outputs": [
    {
     "data": {
      "text/plain": [
       "(4.041322231292725,\n",
       " 4,\n",
       " 'Sex Alcohol and Drugs 那些 迷茫 虚 无 又 具 毁灭性 的 青春 很 华沙 很 美 很 爱 配乐 迷幻 重重')"
      ]
     },
     "execution_count": 11,
     "metadata": {},
     "output_type": "execute_result"
    }
   ],
   "source": [
    "evaluate_labeled_row(1024)"
   ]
  },
  {
   "cell_type": "markdown",
   "metadata": {},
   "source": [
    "### From the Tokenized Dump. Recalculate the Validation Score."
   ]
  },
  {
   "cell_type": "code",
   "execution_count": 12,
   "metadata": {},
   "outputs": [],
   "source": [
    "import joblib\n",
    "tokens, df_ratings = joblib.load(\"../data/cache/douban_sentiment_tokens.pkl\")\n",
    "df_ratings[\"rating\"] = ((df_ratings[\"rating\"] - 3) / 2).astype(\"float32\")"
   ]
  },
  {
   "cell_type": "code",
   "execution_count": 13,
   "metadata": {},
   "outputs": [],
   "source": [
    "from sklearn.model_selection import StratifiedShuffleSplit\n",
    "sss = StratifiedShuffleSplit(n_splits=1, test_size=0.4, random_state=888)\n",
    "train_idx, test_idx = next(sss.split(df_ratings, df_ratings.rating))\n",
    "tokens_train, tokens_test = tokens[train_idx], tokens[test_idx]\n",
    "y_train = df_ratings.iloc[train_idx][[\"rating\"]].copy().values\n",
    "y_test = df_ratings.iloc[test_idx][[\"rating\"]].copy().values\n",
    "sss = StratifiedShuffleSplit(n_splits=1, test_size=0.5, random_state=888)\n",
    "val_idx, test_idx = next(sss.split(y_test, y_test))\n",
    "tokens_valid, tokens_test = tokens_test[val_idx], tokens_test[test_idx]\n",
    "y_valid, y_test = y_test[val_idx], y_test[test_idx]"
   ]
  },
  {
   "cell_type": "code",
   "execution_count": 14,
   "metadata": {},
   "outputs": [],
   "source": [
    "from dekisugi.dataset import TextDataset\n",
    "from dekisugi.dataloader import DataLoader\n",
    "from dekisugi.sampler import SortishSampler, SortSampler\n",
    "trn_ds = TextDataset(tokens_train, y_train)\n",
    "val_ds = TextDataset(tokens_valid, y_valid)\n",
    "tst_ds = TextDataset(tokens_test, y_test)\n",
    "val_samp = SortSampler(\n",
    "    val_ds.x, key=lambda x: len(val_ds.x[x]))\n",
    "val_loader = DataLoader(\n",
    "    val_ds, 128, transpose=True, pin_memory=True,\n",
    "    num_workers=1, pad_idx=2, sampler=val_samp)"
   ]
  },
  {
   "cell_type": "code",
   "execution_count": 15,
   "metadata": {},
   "outputs": [],
   "source": [
    "model.cuda()\n",
    "model.eval()\n",
    "losses = []\n",
    "with torch.set_grad_enabled(False):\n",
    "    for input_tensor, target_tensor in val_loader:\n",
    "        losses.append(np.square(model(input_tensor)[:, 0] - target_tensor[:, 0]).data.numpy())"
   ]
  },
  {
   "cell_type": "code",
   "execution_count": 16,
   "metadata": {},
   "outputs": [
    {
     "data": {
      "text/plain": [
       "0.16481255"
      ]
     },
     "execution_count": 16,
     "metadata": {},
     "output_type": "execute_result"
    }
   ],
   "source": [
    "np.mean(np.concatenate(losses))"
   ]
  },
  {
   "cell_type": "code",
   "execution_count": 17,
   "metadata": {},
   "outputs": [
    {
     "data": {
      "text/plain": [
       "'看 着 挺 欢乐 的 , 宝莱 坞女 主角 从来不 让 人 失望 , 漂亮 的 啊 。 只是 盗窃 实在 小儿科 , 那个 密码 设置 太 傻 了 ! 三星 半'"
      ]
     },
     "execution_count": 17,
     "metadata": {},
     "output_type": "execute_result"
    }
   ],
   "source": [
    "sp.DecodeIds(val_ds[20][0].tolist())"
   ]
  },
  {
   "cell_type": "markdown",
   "metadata": {},
   "source": [
    "#### UseThe  Previously Used Metric"
   ]
  },
  {
   "cell_type": "code",
   "execution_count": 18,
   "metadata": {},
   "outputs": [],
   "source": [
    "model.cuda()\n",
    "model.eval()\n",
    "losses = []\n",
    "with torch.set_grad_enabled(False):\n",
    "    for input_tensor, target_tensor in val_loader:\n",
    "        losses.append(np.square(\n",
    "            2 * (model(input_tensor)[:, 0] - target_tensor[:, 0])).data.numpy())"
   ]
  },
  {
   "cell_type": "code",
   "execution_count": 19,
   "metadata": {},
   "outputs": [
    {
     "data": {
      "text/plain": [
       "0.6592502"
      ]
     },
     "execution_count": 19,
     "metadata": {},
     "output_type": "execute_result"
    }
   ],
   "source": [
    "np.mean(np.concatenate(losses))"
   ]
  },
  {
   "cell_type": "code",
   "execution_count": null,
   "metadata": {},
   "outputs": [],
   "source": []
  }
 ],
 "metadata": {
  "kernelspec": {
   "display_name": "Python 3",
   "language": "python",
   "name": "python3"
  },
  "language_info": {
   "codemirror_mode": {
    "name": "ipython",
    "version": 3
   },
   "file_extension": ".py",
   "mimetype": "text/x-python",
   "name": "python",
   "nbconvert_exporter": "python",
   "pygments_lexer": "ipython3",
   "version": "3.6.7"
  }
 },
 "nbformat": 4,
 "nbformat_minor": 2
}
