{
 "cells": [
  {
   "cell_type": "code",
   "execution_count": 1,
   "metadata": {},
   "outputs": [],
   "source": [
    "from dekisugi.sequence_model import get_sequence_model\n",
    "\n",
    "model = get_sequence_model(\n",
    "        7500,\n",
    "        emb_sz=500,\n",
    "        pad_idx=2,\n",
    "        dropoute=0,\n",
    "        rnn_hid=500,\n",
    "        rnn_layers=3,\n",
    "        bidir=False,\n",
    "        dropouth=0.2,\n",
    "        dropouti=0.2,\n",
    "        wdrop=0.05,\n",
    "        qrnn=False,\n",
    "        fcn_layers=[50, 1],\n",
    "        fcn_dropouts=[0.1, 0.1]\n",
    "    )"
   ]
  },
  {
   "cell_type": "code",
   "execution_count": 2,
   "metadata": {},
   "outputs": [],
   "source": [
    "import torch\n",
    "model.load_state_dict(torch.load(\"../data/cache/douban_dk_noseg/snapshot_seq_regressor_0.153608.pth\"))"
   ]
  },
  {
   "cell_type": "code",
   "execution_count": 3,
   "metadata": {},
   "outputs": [
    {
     "data": {
      "text/plain": [
       "True"
      ]
     },
     "execution_count": 3,
     "metadata": {},
     "output_type": "execute_result"
    }
   ],
   "source": [
    "import sentencepiece as spm\n",
    "sp = spm.SentencePieceProcessor()\n",
    "sp.Load(\"../data/rating_unigram_False.model\")"
   ]
  },
  {
   "cell_type": "code",
   "execution_count": 4,
   "metadata": {},
   "outputs": [],
   "source": [
    "import numpy as np\n",
    "\n",
    "def restore_rating(scores):\n",
    "    return scores * 2 + 3\n",
    "\n",
    "model.cpu()\n",
    "def get_prediction(texts):\n",
    "    model.eval()\n",
    "    input_tensor = torch.LongTensor(sp.EncodeAsIds(texts)).unsqueeze(1)\n",
    "    return restore_rating(model(input_tensor).data.cpu().numpy()[0, 0])"
   ]
  },
  {
   "cell_type": "code",
   "execution_count": 5,
   "metadata": {},
   "outputs": [
    {
     "data": {
      "text/plain": [
       "2.35395485162735"
      ]
     },
     "execution_count": 5,
     "metadata": {},
     "output_type": "execute_result"
    }
   ],
   "source": [
    "get_prediction(\"看了快一半了才发现是mini的广告\")"
   ]
  },
  {
   "cell_type": "code",
   "execution_count": 6,
   "metadata": {},
   "outputs": [
    {
     "data": {
      "text/plain": [
       "4.740134239196777"
      ]
     },
     "execution_count": 6,
     "metadata": {},
     "output_type": "execute_result"
    }
   ],
   "source": [
    "get_prediction(\"妈蛋，简直太好看了。最后的DJ battle部分，兴奋的我，简直想从座位上站起来一起扭\")"
   ]
  },
  {
   "cell_type": "code",
   "execution_count": 7,
   "metadata": {},
   "outputs": [
    {
     "data": {
      "text/plain": [
       "1.1517188549041748"
      ]
     },
     "execution_count": 7,
     "metadata": {},
     "output_type": "execute_result"
    }
   ],
   "source": [
    "get_prediction(\"太烂了，难看至极。\")"
   ]
  },
  {
   "cell_type": "code",
   "execution_count": 8,
   "metadata": {},
   "outputs": [
    {
     "data": {
      "text/plain": [
       "2.083148717880249"
      ]
     },
     "execution_count": 8,
     "metadata": {},
     "output_type": "execute_result"
    }
   ],
   "source": [
    "get_prediction(\"看完之后很生气！剧情太差了\")"
   ]
  },
  {
   "cell_type": "markdown",
   "metadata": {},
   "source": [
    "## For Debug Purpose"
   ]
  },
  {
   "cell_type": "markdown",
   "metadata": {},
   "source": [
    "### From the CSV"
   ]
  },
  {
   "cell_type": "code",
   "execution_count": 9,
   "metadata": {},
   "outputs": [
    {
     "name": "stderr",
     "output_type": "stream",
     "text": [
      "/opt/conda/lib/python3.6/importlib/_bootstrap.py:219: RuntimeWarning: numpy.dtype size changed, may indicate binary incompatibility. Expected 96, got 88\n",
      "  return f(*args, **kwds)\n",
      "/opt/conda/lib/python3.6/importlib/_bootstrap.py:219: RuntimeWarning: numpy.dtype size changed, may indicate binary incompatibility. Expected 96, got 88\n",
      "  return f(*args, **kwds)\n"
     ]
    }
   ],
   "source": [
    "import pandas as pd\n",
    "df_ratings = pd.read_csv(\"../data/ratings_prepared_False.csv\")"
   ]
  },
  {
   "cell_type": "code",
   "execution_count": 10,
   "metadata": {},
   "outputs": [],
   "source": [
    "def evaluate_labeled_row(idx):\n",
    "    return (\n",
    "        get_prediction(df_ratings.iloc[idx][\"comment\"]),\n",
    "        df_ratings.iloc[idx][\"rating\"], \n",
    "        df_ratings.iloc[idx][\"comment\"])"
   ]
  },
  {
   "cell_type": "code",
   "execution_count": 11,
   "metadata": {},
   "outputs": [
    {
     "data": {
      "text/plain": [
       "(3.8785009384155273, 4, 'Sex Alcohol and Drugs那些迷茫虚无又具毁灭性的青春很华沙很美很爱配乐迷幻重重')"
      ]
     },
     "execution_count": 11,
     "metadata": {},
     "output_type": "execute_result"
    }
   ],
   "source": [
    "evaluate_labeled_row(1024)"
   ]
  },
  {
   "cell_type": "markdown",
   "metadata": {},
   "source": [
    "### Reproduce the dataset, and Recalculate the Validation and Test Scores"
   ]
  },
  {
   "cell_type": "code",
   "execution_count": 12,
   "metadata": {},
   "outputs": [
    {
     "data": {
      "application/vnd.jupyter.widget-view+json": {
       "model_id": "3d7f77d846264dd4aa58021a50cc9155",
       "version_major": 2,
       "version_minor": 0
      },
      "text/plain": [
       "HBox(children=(IntProgress(value=0, max=2947699), HTML(value='')))"
      ]
     },
     "metadata": {},
     "output_type": "display_data"
    },
    {
     "name": "stdout",
     "output_type": "stream",
     "text": [
      "\n"
     ]
    }
   ],
   "source": [
    "import tqdm\n",
    "WORD_SEG = False\n",
    "sp = spm.SentencePieceProcessor()\n",
    "sp.Load(f\"../data/rating_unigram_{WORD_SEG}.model\")\n",
    "df_ratings = pd.read_csv(f\"../data/ratings_prepared_{WORD_SEG}.csv\")\n",
    "df_ratings[\"rating\"] = ((df_ratings[\"rating\"] - 3) / 2).astype(\"float32\")\n",
    "tokens = []\n",
    "for _, row in tqdm.tqdm_notebook(df_ratings.iterrows(), total=df_ratings.shape[0]):\n",
    "    tokens.append(sp.EncodeAsIds(row[\"comment\"]))\n",
    "assert len(tokens) == df_ratings.shape[0]"
   ]
  },
  {
   "cell_type": "code",
   "execution_count": 13,
   "metadata": {},
   "outputs": [],
   "source": [
    "def filter_entries(tokens, df_ratings, min_len=1, max_len=1000):\n",
    "    lengths = np.array([len(tokens[i]) for i in range(tokens.shape[0])])\n",
    "    flags = (lengths >= min_len) & (lengths <= max_len)\n",
    "    return (\n",
    "        tokens[flags],\n",
    "        df_ratings.loc[flags].copy()\n",
    "    )\n",
    "def truncate_tokens(tokens, max_len=100):\n",
    "    return np.array([\n",
    "        x[:max_len] for x in tokens\n",
    "    ])\n",
    "tokens, df_ratings = filter_entries(\n",
    "    np.array(tokens), df_ratings, min_len=1)\n",
    "tokens = truncate_tokens(tokens, max_len=100)"
   ]
  },
  {
   "cell_type": "code",
   "execution_count": 14,
   "metadata": {},
   "outputs": [],
   "source": [
    "from sklearn.model_selection import StratifiedShuffleSplit\n",
    "sss = StratifiedShuffleSplit(n_splits=1, test_size=0.4, random_state=888)\n",
    "train_idx, test_idx = next(sss.split(df_ratings, df_ratings.rating))\n",
    "tokens_train, tokens_test = tokens[train_idx], tokens[test_idx]\n",
    "y_train = df_ratings.iloc[train_idx][[\"rating\"]].copy().values\n",
    "y_test = df_ratings.iloc[test_idx][[\"rating\"]].copy().values\n",
    "sss = StratifiedShuffleSplit(n_splits=1, test_size=0.5, random_state=888)\n",
    "val_idx, test_idx = next(sss.split(y_test, y_test))\n",
    "tokens_valid, tokens_test = tokens_test[val_idx], tokens_test[test_idx]\n",
    "y_valid, y_test = y_test[val_idx], y_test[test_idx]"
   ]
  },
  {
   "cell_type": "code",
   "execution_count": 15,
   "metadata": {},
   "outputs": [],
   "source": [
    "from dekisugi.dataset import TextDataset\n",
    "from dekisugi.dataloader import DataLoader\n",
    "from dekisugi.sampler import SortishSampler, SortSampler\n",
    "trn_ds = TextDataset(tokens_train, y_train)\n",
    "val_ds = TextDataset(tokens_valid, y_valid)\n",
    "tst_ds = TextDataset(tokens_test, y_test)\n",
    "val_samp = SortSampler(\n",
    "    val_ds.x, key=lambda x: len(val_ds.x[x]))\n",
    "val_loader = DataLoader(\n",
    "    val_ds, 128, transpose=True, pin_memory=True,\n",
    "    num_workers=1, pad_idx=2, sampler=val_samp)"
   ]
  },
  {
   "cell_type": "markdown",
   "metadata": {},
   "source": [
    "#### Validation"
   ]
  },
  {
   "cell_type": "code",
   "execution_count": 16,
   "metadata": {},
   "outputs": [],
   "source": [
    "model.cuda()\n",
    "model.eval()\n",
    "losses = []\n",
    "with torch.set_grad_enabled(False):\n",
    "    for input_tensor, target_tensor in val_loader:\n",
    "        losses.append(np.square(model(input_tensor)[:, 0] - target_tensor[:, 0]).data.numpy())"
   ]
  },
  {
   "cell_type": "code",
   "execution_count": 17,
   "metadata": {},
   "outputs": [
    {
     "data": {
      "text/plain": [
       "0.15360767"
      ]
     },
     "execution_count": 17,
     "metadata": {},
     "output_type": "execute_result"
    }
   ],
   "source": [
    "np.mean(np.concatenate(losses))"
   ]
  },
  {
   "cell_type": "code",
   "execution_count": 18,
   "metadata": {},
   "outputs": [
    {
     "data": {
      "text/plain": [
       "'爱爱镜头非常精彩。我猜到了开头,猜不到结局。非常精彩的悬疑剧情!不得不佩服陈凯歌大导演!!'"
      ]
     },
     "execution_count": 18,
     "metadata": {},
     "output_type": "execute_result"
    }
   ],
   "source": [
    "sp.DecodeIds(val_ds[21][0].tolist())"
   ]
  },
  {
   "cell_type": "markdown",
   "metadata": {},
   "source": [
    "#### Use the  Previously Used Metric (Validation)"
   ]
  },
  {
   "cell_type": "code",
   "execution_count": 19,
   "metadata": {},
   "outputs": [
    {
     "data": {
      "application/vnd.jupyter.widget-view+json": {
       "model_id": "0ff81d403090436f93bcb3f32f81263e",
       "version_major": 2,
       "version_minor": 0
      },
      "text/plain": [
       "HBox(children=(IntProgress(value=0, max=4606), HTML(value='')))"
      ]
     },
     "metadata": {},
     "output_type": "display_data"
    },
    {
     "name": "stdout",
     "output_type": "stream",
     "text": [
      "\n"
     ]
    }
   ],
   "source": [
    "model.cuda()\n",
    "model.eval()\n",
    "losses = []\n",
    "with torch.set_grad_enabled(False):\n",
    "    for input_tensor, target_tensor in tqdm.tqdm_notebook(val_loader):\n",
    "        losses.append(np.square(\n",
    "            2 * (model(input_tensor)[:, 0] - target_tensor[:, 0])).data.numpy())"
   ]
  },
  {
   "cell_type": "code",
   "execution_count": 20,
   "metadata": {},
   "outputs": [
    {
     "data": {
      "text/plain": [
       "0.61443067"
      ]
     },
     "execution_count": 20,
     "metadata": {},
     "output_type": "execute_result"
    }
   ],
   "source": [
    "np.mean(np.concatenate(losses))"
   ]
  },
  {
   "cell_type": "markdown",
   "metadata": {},
   "source": [
    "#### Test"
   ]
  },
  {
   "cell_type": "code",
   "execution_count": 21,
   "metadata": {},
   "outputs": [],
   "source": [
    "tst_samp = SortSampler(\n",
    "        tst_ds.x, key=lambda x: len(tst_ds.x[x]))\n",
    "tst_loader = DataLoader(\n",
    "    tst_ds, 128, transpose=True,\n",
    "    num_workers=1, pad_idx=2, sampler=tst_samp)"
   ]
  },
  {
   "cell_type": "code",
   "execution_count": 22,
   "metadata": {},
   "outputs": [
    {
     "data": {
      "application/vnd.jupyter.widget-view+json": {
       "model_id": "5696538e2dd04e959c266273801f89cc",
       "version_major": 2,
       "version_minor": 0
      },
      "text/plain": [
       "HBox(children=(IntProgress(value=0, max=4606), HTML(value='')))"
      ]
     },
     "metadata": {},
     "output_type": "display_data"
    },
    {
     "name": "stdout",
     "output_type": "stream",
     "text": [
      "\n"
     ]
    }
   ],
   "source": [
    "model.cuda()\n",
    "model.eval()\n",
    "losses = []\n",
    "with torch.set_grad_enabled(False):\n",
    "    for input_tensor, target_tensor in tqdm.tqdm_notebook(tst_loader):\n",
    "        losses.append(np.square(model(input_tensor)[:, 0] - target_tensor[:, 0]).data.numpy())"
   ]
  },
  {
   "cell_type": "code",
   "execution_count": 23,
   "metadata": {},
   "outputs": [
    {
     "data": {
      "text/plain": [
       "0.15424809"
      ]
     },
     "execution_count": 23,
     "metadata": {},
     "output_type": "execute_result"
    }
   ],
   "source": [
    "np.mean(np.concatenate(losses))"
   ]
  },
  {
   "cell_type": "code",
   "execution_count": null,
   "metadata": {},
   "outputs": [],
   "source": []
  }
 ],
 "metadata": {
  "kernelspec": {
   "display_name": "Python 3",
   "language": "python",
   "name": "python3"
  },
  "language_info": {
   "codemirror_mode": {
    "name": "ipython",
    "version": 3
   },
   "file_extension": ".py",
   "mimetype": "text/x-python",
   "name": "python",
   "nbconvert_exporter": "python",
   "pygments_lexer": "ipython3",
   "version": "3.6.6"
  }
 },
 "nbformat": 4,
 "nbformat_minor": 2
}
