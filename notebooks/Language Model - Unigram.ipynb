{
 "cells": [
  {
   "cell_type": "code",
   "execution_count": 1,
   "metadata": {},
   "outputs": [],
   "source": [
    "import sys\n",
    "sys.path.append(\"../\")"
   ]
  },
  {
   "cell_type": "code",
   "execution_count": 2,
   "metadata": {},
   "outputs": [
    {
     "name": "stderr",
     "output_type": "stream",
     "text": [
      "/opt/conda/lib/python3.6/importlib/_bootstrap.py:219: RuntimeWarning: numpy.dtype size changed, may indicate binary incompatibility. Expected 96, got 88\n",
      "  return f(*args, **kwds)\n",
      "/opt/conda/lib/python3.6/importlib/_bootstrap.py:219: RuntimeWarning: numpy.dtype size changed, may indicate binary incompatibility. Expected 96, got 88\n",
      "  return f(*args, **kwds)\n",
      "/opt/conda/lib/python3.6/site-packages/sklearn/ensemble/weight_boosting.py:29: DeprecationWarning: numpy.core.umath_tests is an internal NumPy module and should not be imported. It will be removed in a future NumPy release.\n",
      "  from numpy.core.umath_tests import inner1d\n",
      "/opt/conda/lib/python3.6/importlib/_bootstrap.py:219: RuntimeWarning: numpy.dtype size changed, may indicate binary incompatibility. Expected 96, got 88\n",
      "  return f(*args, **kwds)\n",
      "/opt/conda/lib/python3.6/importlib/_bootstrap.py:219: RuntimeWarning: numpy.ufunc size changed, may indicate binary incompatibility. Expected 192, got 176\n",
      "  return f(*args, **kwds)\n"
     ]
    }
   ],
   "source": [
    "from pathlib import Path\n",
    "from functools import partial\n",
    "\n",
    "import joblib\n",
    "import pandas as pd\n",
    "import numpy as np\n",
    "\n",
    "from sklearn.model_selection import train_test_split\n",
    "from fastai.text import LanguageModelLoader, LanguageModelData\n",
    "from fastai.core import T\n",
    "from fastai.rnn_reg import EmbeddingDropout\n",
    "from torch.optim import Adam\n",
    "import torch.nn as nn\n",
    "import torch\n",
    "import torch.nn.functional as F\n",
    "\n",
    "import sentencepiece as spm"
   ]
  },
  {
   "cell_type": "code",
   "execution_count": 3,
   "metadata": {},
   "outputs": [],
   "source": [
    "tokens = joblib.load(\"../data/tokens_unigram.pkl\")"
   ]
  },
  {
   "cell_type": "code",
   "execution_count": 4,
   "metadata": {},
   "outputs": [],
   "source": [
    "# Filter out empty texts\n",
    "tokens = [x for x in tokens if x.shape[0] > 0]"
   ]
  },
  {
   "cell_type": "code",
   "execution_count": 5,
   "metadata": {},
   "outputs": [],
   "source": [
    "# Set shuffle = False to keep sentences from the same paragraph together\n",
    "trn_tokens, val_tokens = train_test_split(tokens, test_size=0.2, shuffle=False)\n",
    "val_tokens, tst_tokens = train_test_split(val_tokens, test_size=0.5, shuffle=False)"
   ]
  },
  {
   "cell_type": "code",
   "execution_count": 6,
   "metadata": {},
   "outputs": [
    {
     "name": "stdout",
     "output_type": "stream",
     "text": [
      "Total tokens: 82818072\n",
      "Unknown Percentage: 0.89 %\n"
     ]
    }
   ],
   "source": [
    "def get_voc_stats(tokens):\n",
    "    total_tokens = np.sum([x.shape[0] for x in tokens])\n",
    "    unks = np.sum([np.sum(x == 0) for x in tokens])\n",
    "    print(\"Total tokens: %d\\nUnknown Percentage: %.2f %%\" % (total_tokens, unks * 100 / total_tokens))\n",
    "get_voc_stats(tokens)"
   ]
  },
  {
   "cell_type": "code",
   "execution_count": 7,
   "metadata": {},
   "outputs": [],
   "source": [
    "bptt = 75\n",
    "batch_size = 64\n",
    "n_tok = int(np.max([np.max(x) for x in tokens]) + 1)\n",
    "trn_loader = LanguageModelLoader(\n",
    "    np.concatenate(trn_tokens), batch_size, bptt)\n",
    "val_loader = LanguageModelLoader(\n",
    "    np.concatenate(val_tokens), batch_size, bptt)\n",
    "tst_loader = LanguageModelLoader(\n",
    "    np.concatenate(tst_tokens), batch_size, bptt)"
   ]
  },
  {
   "cell_type": "code",
   "execution_count": 8,
   "metadata": {},
   "outputs": [
    {
     "data": {
      "text/plain": [
       "True"
      ]
     },
     "execution_count": 8,
     "metadata": {},
     "output_type": "execute_result"
    }
   ],
   "source": [
    "sp = spm.SentencePieceProcessor()\n",
    "sp.Load(\"../data/unigram_model.model\")"
   ]
  },
  {
   "cell_type": "code",
   "execution_count": 9,
   "metadata": {},
   "outputs": [
    {
     "data": {
      "text/plain": [
       "[4, 5, 0]"
      ]
     },
     "execution_count": 9,
     "metadata": {},
     "output_type": "execute_result"
    }
   ],
   "source": [
    "sp.EncodeAsIds(\", 的*\")"
   ]
  },
  {
   "cell_type": "code",
   "execution_count": 10,
   "metadata": {},
   "outputs": [
    {
     "data": {
      "text/plain": [
       "0"
      ]
     },
     "execution_count": 10,
     "metadata": {},
     "output_type": "execute_result"
    }
   ],
   "source": [
    "np.sum([np.sum(x == 1) for x in tokens]) # <s>"
   ]
  },
  {
   "cell_type": "code",
   "execution_count": 11,
   "metadata": {},
   "outputs": [
    {
     "data": {
      "text/plain": [
       "0"
      ]
     },
     "execution_count": 11,
     "metadata": {},
     "output_type": "execute_result"
    }
   ],
   "source": [
    "np.sum([np.sum(x == 2) for x in tokens]) # </s>"
   ]
  },
  {
   "cell_type": "code",
   "execution_count": 12,
   "metadata": {},
   "outputs": [
    {
     "data": {
      "text/plain": [
       "'每当 有 涉及 数量 、 结构 、 空间 及 变化 等 方面 的 困难 问题 时 , 通常 就 需要 用 到 数学 工具 去 解决 问题 , 而 这 往往 也 拓展 了 数学 的 研究 范畴 。'"
      ]
     },
     "execution_count": 12,
     "metadata": {},
     "output_type": "execute_result"
    }
   ],
   "source": [
    "sp.DecodeIds(trn_tokens[0].tolist())"
   ]
  },
  {
   "cell_type": "code",
   "execution_count": 13,
   "metadata": {},
   "outputs": [
    {
     "data": {
      "text/plain": [
       "'一 开始 , 数学 的 运用 可见 于 贸易 、 土地 测量 及 之后 的 天文学 。'"
      ]
     },
     "execution_count": 13,
     "metadata": {},
     "output_type": "execute_result"
    }
   ],
   "source": [
    "sp.DecodeIds(trn_tokens[1].tolist())"
   ]
  },
  {
   "cell_type": "code",
   "execution_count": 14,
   "metadata": {},
   "outputs": [
    {
     "data": {
      "text/plain": [
       "[(3, 1239),\n",
       " (149, 31),\n",
       " (3187, 26),\n",
       " (4109, 25),\n",
       " (29, 20),\n",
       " (908, 17),\n",
       " (240, 16),\n",
       " (133, 15),\n",
       " (291, 13),\n",
       " (159, 12)]"
      ]
     },
     "execution_count": 14,
     "metadata": {},
     "output_type": "execute_result"
    }
   ],
   "source": [
    "from collections import Counter\n",
    "tmp = []\n",
    "for i in range(10000):\n",
    "    for j in range(1, trn_tokens[i].shape[0]):\n",
    "        if trn_tokens[i][j] == 0:\n",
    "            tmp.append(trn_tokens[i][j-1])\n",
    "Counter(tmp).most_common(10)"
   ]
  },
  {
   "cell_type": "code",
   "execution_count": 15,
   "metadata": {},
   "outputs": [
    {
     "data": {
      "text/plain": [
       "[(3, 965),\n",
       " (30, 523),\n",
       " (24, 461),\n",
       " (8, 428),\n",
       " (54, 400),\n",
       " (41, 359),\n",
       " (11, 252),\n",
       " (34, 228),\n",
       " (205, 219),\n",
       " (43, 205)]"
      ]
     },
     "execution_count": 15,
     "metadata": {},
     "output_type": "execute_result"
    }
   ],
   "source": [
    "from collections import Counter\n",
    "tmp = []\n",
    "for i in range(10000):\n",
    "    for j in range(1, trn_tokens[i].shape[0]-1):\n",
    "        if trn_tokens[i][j] == 4:\n",
    "            tmp.append(trn_tokens[i][j+1])\n",
    "Counter(tmp).most_common(10)"
   ]
  },
  {
   "cell_type": "code",
   "execution_count": 16,
   "metadata": {},
   "outputs": [
    {
     "data": {
      "text/plain": [
       "'胸'"
      ]
     },
     "execution_count": 16,
     "metadata": {},
     "output_type": "execute_result"
    }
   ],
   "source": [
    "sp.DecodeIds([4569])"
   ]
  },
  {
   "cell_type": "code",
   "execution_count": 17,
   "metadata": {},
   "outputs": [],
   "source": [
    "path = Path(\"../data/cache/lm_unigram/\")\n",
    "path.mkdir(parents=True, exist_ok=True)\n",
    "model_data = LanguageModelData(\n",
    "    path, pad_idx=2, n_tok=n_tok, trn_dl=trn_loader, val_dl=val_loader, test_dl=tst_loader\n",
    ")"
   ]
  },
  {
   "cell_type": "code",
   "execution_count": 18,
   "metadata": {},
   "outputs": [
    {
     "data": {
      "text/plain": [
       "7500"
      ]
     },
     "execution_count": 18,
     "metadata": {},
     "output_type": "execute_result"
    }
   ],
   "source": [
    "n_tok"
   ]
  },
  {
   "cell_type": "markdown",
   "metadata": {
    "heading_collapsed": true
   },
   "source": [
    "### QRNN Model"
   ]
  },
  {
   "cell_type": "code",
   "execution_count": 21,
   "metadata": {
    "hidden": true
   },
   "outputs": [],
   "source": [
    "drops = np.array([0.05, 0.1, 0.05, 0, 0.1])\n",
    "learner = model_data.get_model(\n",
    "    partial(Adam, betas=(0.8, 0.999)),\n",
    "    emb_sz=300, n_hid=500, n_layers=4,\n",
    "    dropouti=drops[0], dropout=drops[1], wdrop=drops[2],\n",
    "    dropoute=drops[3], dropouth=drops[4], qrnn=True\n",
    ")"
   ]
  },
  {
   "cell_type": "code",
   "execution_count": 22,
   "metadata": {
    "hidden": true
   },
   "outputs": [
    {
     "data": {
      "application/vnd.jupyter.widget-view+json": {
       "model_id": "3a9a059ab21d4c14a68765687ce0bda2",
       "version_major": 2,
       "version_minor": 0
      },
      "text/plain": [
       "HBox(children=(IntProgress(value=0, description='Epoch', max=1), HTML(value='')))"
      ]
     },
     "metadata": {},
     "output_type": "display_data"
    },
    {
     "name": "stdout",
     "output_type": "stream",
     "text": [
      " 18%|█▊        | 1208/6593 [01:56<08:37, 10.41it/s, loss=7.6] "
     ]
    },
    {
     "ename": "KeyboardInterrupt",
     "evalue": "",
     "output_type": "error",
     "traceback": [
      "\u001b[0;31m---------------------------------------------------------------------------\u001b[0m",
      "\u001b[0;31mKeyboardInterrupt\u001b[0m                         Traceback (most recent call last)",
      "\u001b[0;32m<ipython-input-22-856fc726a175>\u001b[0m in \u001b[0;36m<module>\u001b[0;34m()\u001b[0m\n\u001b[1;32m      1\u001b[0m \u001b[0mlearner\u001b[0m\u001b[0;34m.\u001b[0m\u001b[0mclip\u001b[0m \u001b[0;34m=\u001b[0m \u001b[0;36m25.\u001b[0m\u001b[0;34m\u001b[0m\u001b[0m\n\u001b[0;32m----> 2\u001b[0;31m \u001b[0mlearner\u001b[0m\u001b[0;34m.\u001b[0m\u001b[0mlr_find\u001b[0m\u001b[0;34m(\u001b[0m\u001b[0mstart_lr\u001b[0m\u001b[0;34m=\u001b[0m\u001b[0;36m1e-5\u001b[0m\u001b[0;34m,\u001b[0m \u001b[0mend_lr\u001b[0m\u001b[0;34m=\u001b[0m\u001b[0;36m1\u001b[0m\u001b[0;34m,\u001b[0m \u001b[0mlinear\u001b[0m\u001b[0;34m=\u001b[0m\u001b[0;32mFalse\u001b[0m\u001b[0;34m)\u001b[0m\u001b[0;34m\u001b[0m\u001b[0m\n\u001b[0m\u001b[1;32m      3\u001b[0m \u001b[0mlearner\u001b[0m\u001b[0;34m.\u001b[0m\u001b[0msched\u001b[0m\u001b[0;34m.\u001b[0m\u001b[0mplot\u001b[0m\u001b[0;34m(\u001b[0m\u001b[0;34m)\u001b[0m\u001b[0;34m\u001b[0m\u001b[0m\n",
      "\u001b[0;32m~/fastai/fastai/learner.py\u001b[0m in \u001b[0;36mlr_find\u001b[0;34m(self, start_lr, end_lr, wds, linear, **kwargs)\u001b[0m\n\u001b[1;32m    345\u001b[0m         \u001b[0mlayer_opt\u001b[0m \u001b[0;34m=\u001b[0m \u001b[0mself\u001b[0m\u001b[0;34m.\u001b[0m\u001b[0mget_layer_opt\u001b[0m\u001b[0;34m(\u001b[0m\u001b[0mstart_lr\u001b[0m\u001b[0;34m,\u001b[0m \u001b[0mwds\u001b[0m\u001b[0;34m)\u001b[0m\u001b[0;34m\u001b[0m\u001b[0m\n\u001b[1;32m    346\u001b[0m         \u001b[0mself\u001b[0m\u001b[0;34m.\u001b[0m\u001b[0msched\u001b[0m \u001b[0;34m=\u001b[0m \u001b[0mLR_Finder\u001b[0m\u001b[0;34m(\u001b[0m\u001b[0mlayer_opt\u001b[0m\u001b[0;34m,\u001b[0m \u001b[0mlen\u001b[0m\u001b[0;34m(\u001b[0m\u001b[0mself\u001b[0m\u001b[0;34m.\u001b[0m\u001b[0mdata\u001b[0m\u001b[0;34m.\u001b[0m\u001b[0mtrn_dl\u001b[0m\u001b[0;34m)\u001b[0m\u001b[0;34m,\u001b[0m \u001b[0mend_lr\u001b[0m\u001b[0;34m,\u001b[0m \u001b[0mlinear\u001b[0m\u001b[0;34m=\u001b[0m\u001b[0mlinear\u001b[0m\u001b[0;34m)\u001b[0m\u001b[0;34m\u001b[0m\u001b[0m\n\u001b[0;32m--> 347\u001b[0;31m         \u001b[0mself\u001b[0m\u001b[0;34m.\u001b[0m\u001b[0mfit_gen\u001b[0m\u001b[0;34m(\u001b[0m\u001b[0mself\u001b[0m\u001b[0;34m.\u001b[0m\u001b[0mmodel\u001b[0m\u001b[0;34m,\u001b[0m \u001b[0mself\u001b[0m\u001b[0;34m.\u001b[0m\u001b[0mdata\u001b[0m\u001b[0;34m,\u001b[0m \u001b[0mlayer_opt\u001b[0m\u001b[0;34m,\u001b[0m \u001b[0;36m1\u001b[0m\u001b[0;34m,\u001b[0m \u001b[0;34m**\u001b[0m\u001b[0mkwargs\u001b[0m\u001b[0;34m)\u001b[0m\u001b[0;34m\u001b[0m\u001b[0m\n\u001b[0m\u001b[1;32m    348\u001b[0m         \u001b[0mself\u001b[0m\u001b[0;34m.\u001b[0m\u001b[0mload\u001b[0m\u001b[0;34m(\u001b[0m\u001b[0;34m'tmp'\u001b[0m\u001b[0;34m)\u001b[0m\u001b[0;34m\u001b[0m\u001b[0m\n\u001b[1;32m    349\u001b[0m \u001b[0;34m\u001b[0m\u001b[0m\n",
      "\u001b[0;32m~/fastai/fastai/learner.py\u001b[0m in \u001b[0;36mfit_gen\u001b[0;34m(self, model, data, layer_opt, n_cycle, cycle_len, cycle_mult, cycle_save_name, best_save_name, use_clr, use_clr_beta, metrics, callbacks, use_wd_sched, norm_wds, wds_sched_mult, use_swa, swa_start, swa_eval_freq, **kwargs)\u001b[0m\n\u001b[1;32m    249\u001b[0m             \u001b[0mmetrics\u001b[0m\u001b[0;34m=\u001b[0m\u001b[0mmetrics\u001b[0m\u001b[0;34m,\u001b[0m \u001b[0mcallbacks\u001b[0m\u001b[0;34m=\u001b[0m\u001b[0mcallbacks\u001b[0m\u001b[0;34m,\u001b[0m \u001b[0mreg_fn\u001b[0m\u001b[0;34m=\u001b[0m\u001b[0mself\u001b[0m\u001b[0;34m.\u001b[0m\u001b[0mreg_fn\u001b[0m\u001b[0;34m,\u001b[0m \u001b[0mclip\u001b[0m\u001b[0;34m=\u001b[0m\u001b[0mself\u001b[0m\u001b[0;34m.\u001b[0m\u001b[0mclip\u001b[0m\u001b[0;34m,\u001b[0m \u001b[0mfp16\u001b[0m\u001b[0;34m=\u001b[0m\u001b[0mself\u001b[0m\u001b[0;34m.\u001b[0m\u001b[0mfp16\u001b[0m\u001b[0;34m,\u001b[0m\u001b[0;34m\u001b[0m\u001b[0m\n\u001b[1;32m    250\u001b[0m             \u001b[0mswa_model\u001b[0m\u001b[0;34m=\u001b[0m\u001b[0mself\u001b[0m\u001b[0;34m.\u001b[0m\u001b[0mswa_model\u001b[0m \u001b[0;32mif\u001b[0m \u001b[0muse_swa\u001b[0m \u001b[0;32melse\u001b[0m \u001b[0;32mNone\u001b[0m\u001b[0;34m,\u001b[0m \u001b[0mswa_start\u001b[0m\u001b[0;34m=\u001b[0m\u001b[0mswa_start\u001b[0m\u001b[0;34m,\u001b[0m\u001b[0;34m\u001b[0m\u001b[0m\n\u001b[0;32m--> 251\u001b[0;31m             swa_eval_freq=swa_eval_freq, **kwargs)\n\u001b[0m\u001b[1;32m    252\u001b[0m \u001b[0;34m\u001b[0m\u001b[0m\n\u001b[1;32m    253\u001b[0m     \u001b[0;32mdef\u001b[0m \u001b[0mget_layer_groups\u001b[0m\u001b[0;34m(\u001b[0m\u001b[0mself\u001b[0m\u001b[0;34m)\u001b[0m\u001b[0;34m:\u001b[0m \u001b[0;32mreturn\u001b[0m \u001b[0mself\u001b[0m\u001b[0;34m.\u001b[0m\u001b[0mmodels\u001b[0m\u001b[0;34m.\u001b[0m\u001b[0mget_layer_groups\u001b[0m\u001b[0;34m(\u001b[0m\u001b[0;34m)\u001b[0m\u001b[0;34m\u001b[0m\u001b[0m\n",
      "\u001b[0;32m~/fastai/fastai/model.py\u001b[0m in \u001b[0;36mfit\u001b[0;34m(model, data, n_epochs, opt, crit, metrics, callbacks, stepper, swa_model, swa_start, swa_eval_freq, visualize, **kwargs)\u001b[0m\n\u001b[1;32m    139\u001b[0m             \u001b[0mbatch_num\u001b[0m \u001b[0;34m+=\u001b[0m \u001b[0;36m1\u001b[0m\u001b[0;34m\u001b[0m\u001b[0m\n\u001b[1;32m    140\u001b[0m             \u001b[0;32mfor\u001b[0m \u001b[0mcb\u001b[0m \u001b[0;32min\u001b[0m \u001b[0mcallbacks\u001b[0m\u001b[0;34m:\u001b[0m \u001b[0mcb\u001b[0m\u001b[0;34m.\u001b[0m\u001b[0mon_batch_begin\u001b[0m\u001b[0;34m(\u001b[0m\u001b[0;34m)\u001b[0m\u001b[0;34m\u001b[0m\u001b[0m\n\u001b[0;32m--> 141\u001b[0;31m             \u001b[0mloss\u001b[0m \u001b[0;34m=\u001b[0m \u001b[0mmodel_stepper\u001b[0m\u001b[0;34m.\u001b[0m\u001b[0mstep\u001b[0m\u001b[0;34m(\u001b[0m\u001b[0mV\u001b[0m\u001b[0;34m(\u001b[0m\u001b[0mx\u001b[0m\u001b[0;34m)\u001b[0m\u001b[0;34m,\u001b[0m\u001b[0mV\u001b[0m\u001b[0;34m(\u001b[0m\u001b[0my\u001b[0m\u001b[0;34m)\u001b[0m\u001b[0;34m,\u001b[0m \u001b[0mepoch\u001b[0m\u001b[0;34m)\u001b[0m\u001b[0;34m\u001b[0m\u001b[0m\n\u001b[0m\u001b[1;32m    142\u001b[0m             \u001b[0mavg_loss\u001b[0m \u001b[0;34m=\u001b[0m \u001b[0mavg_loss\u001b[0m \u001b[0;34m*\u001b[0m \u001b[0mavg_mom\u001b[0m \u001b[0;34m+\u001b[0m \u001b[0mloss\u001b[0m \u001b[0;34m*\u001b[0m \u001b[0;34m(\u001b[0m\u001b[0;36m1\u001b[0m\u001b[0;34m-\u001b[0m\u001b[0mavg_mom\u001b[0m\u001b[0;34m)\u001b[0m\u001b[0;34m\u001b[0m\u001b[0m\n\u001b[1;32m    143\u001b[0m             \u001b[0mdebias_loss\u001b[0m \u001b[0;34m=\u001b[0m \u001b[0mavg_loss\u001b[0m \u001b[0;34m/\u001b[0m \u001b[0;34m(\u001b[0m\u001b[0;36m1\u001b[0m \u001b[0;34m-\u001b[0m \u001b[0mavg_mom\u001b[0m\u001b[0;34m**\u001b[0m\u001b[0mbatch_num\u001b[0m\u001b[0;34m)\u001b[0m\u001b[0;34m\u001b[0m\u001b[0m\n",
      "\u001b[0;32m~/fastai/fastai/model.py\u001b[0m in \u001b[0;36mstep\u001b[0;34m(self, xs, y, epoch)\u001b[0m\n\u001b[1;32m     55\u001b[0m         \u001b[0;32mif\u001b[0m \u001b[0mself\u001b[0m\u001b[0;34m.\u001b[0m\u001b[0mloss_scale\u001b[0m \u001b[0;34m!=\u001b[0m \u001b[0;36m1\u001b[0m\u001b[0;34m:\u001b[0m \u001b[0;32massert\u001b[0m\u001b[0;34m(\u001b[0m\u001b[0mself\u001b[0m\u001b[0;34m.\u001b[0m\u001b[0mfp16\u001b[0m\u001b[0;34m)\u001b[0m\u001b[0;34m;\u001b[0m \u001b[0mloss\u001b[0m \u001b[0;34m=\u001b[0m \u001b[0mloss\u001b[0m\u001b[0;34m*\u001b[0m\u001b[0mself\u001b[0m\u001b[0;34m.\u001b[0m\u001b[0mloss_scale\u001b[0m\u001b[0;34m\u001b[0m\u001b[0m\n\u001b[1;32m     56\u001b[0m         \u001b[0;32mif\u001b[0m \u001b[0mself\u001b[0m\u001b[0;34m.\u001b[0m\u001b[0mreg_fn\u001b[0m\u001b[0;34m:\u001b[0m \u001b[0mloss\u001b[0m \u001b[0;34m=\u001b[0m \u001b[0mself\u001b[0m\u001b[0;34m.\u001b[0m\u001b[0mreg_fn\u001b[0m\u001b[0;34m(\u001b[0m\u001b[0moutput\u001b[0m\u001b[0;34m,\u001b[0m \u001b[0mxtra\u001b[0m\u001b[0;34m,\u001b[0m \u001b[0mraw_loss\u001b[0m\u001b[0;34m)\u001b[0m\u001b[0;34m\u001b[0m\u001b[0m\n\u001b[0;32m---> 57\u001b[0;31m         \u001b[0mloss\u001b[0m\u001b[0;34m.\u001b[0m\u001b[0mbackward\u001b[0m\u001b[0;34m(\u001b[0m\u001b[0;34m)\u001b[0m\u001b[0;34m\u001b[0m\u001b[0m\n\u001b[0m\u001b[1;32m     58\u001b[0m         \u001b[0;32mif\u001b[0m \u001b[0mself\u001b[0m\u001b[0;34m.\u001b[0m\u001b[0mfp16\u001b[0m\u001b[0;34m:\u001b[0m \u001b[0mupdate_fp32_grads\u001b[0m\u001b[0;34m(\u001b[0m\u001b[0mself\u001b[0m\u001b[0;34m.\u001b[0m\u001b[0mfp32_params\u001b[0m\u001b[0;34m,\u001b[0m \u001b[0mself\u001b[0m\u001b[0;34m.\u001b[0m\u001b[0mm\u001b[0m\u001b[0;34m)\u001b[0m\u001b[0;34m\u001b[0m\u001b[0m\n\u001b[1;32m     59\u001b[0m         \u001b[0;32mif\u001b[0m \u001b[0mself\u001b[0m\u001b[0;34m.\u001b[0m\u001b[0mloss_scale\u001b[0m \u001b[0;34m!=\u001b[0m \u001b[0;36m1\u001b[0m\u001b[0;34m:\u001b[0m\u001b[0;34m\u001b[0m\u001b[0m\n",
      "\u001b[0;32m/opt/conda/lib/python3.6/site-packages/torch/tensor.py\u001b[0m in \u001b[0;36mbackward\u001b[0;34m(self, gradient, retain_graph, create_graph)\u001b[0m\n\u001b[1;32m     91\u001b[0m                 \u001b[0mproducts\u001b[0m\u001b[0;34m.\u001b[0m \u001b[0mDefaults\u001b[0m \u001b[0mto\u001b[0m\u001b[0;31m \u001b[0m\u001b[0;31m`\u001b[0m\u001b[0;31m`\u001b[0m\u001b[0;32mFalse\u001b[0m\u001b[0;31m`\u001b[0m\u001b[0;31m`\u001b[0m\u001b[0;34m.\u001b[0m\u001b[0;34m\u001b[0m\u001b[0m\n\u001b[1;32m     92\u001b[0m         \"\"\"\n\u001b[0;32m---> 93\u001b[0;31m         \u001b[0mtorch\u001b[0m\u001b[0;34m.\u001b[0m\u001b[0mautograd\u001b[0m\u001b[0;34m.\u001b[0m\u001b[0mbackward\u001b[0m\u001b[0;34m(\u001b[0m\u001b[0mself\u001b[0m\u001b[0;34m,\u001b[0m \u001b[0mgradient\u001b[0m\u001b[0;34m,\u001b[0m \u001b[0mretain_graph\u001b[0m\u001b[0;34m,\u001b[0m \u001b[0mcreate_graph\u001b[0m\u001b[0;34m)\u001b[0m\u001b[0;34m\u001b[0m\u001b[0m\n\u001b[0m\u001b[1;32m     94\u001b[0m \u001b[0;34m\u001b[0m\u001b[0m\n\u001b[1;32m     95\u001b[0m     \u001b[0;32mdef\u001b[0m \u001b[0mregister_hook\u001b[0m\u001b[0;34m(\u001b[0m\u001b[0mself\u001b[0m\u001b[0;34m,\u001b[0m \u001b[0mhook\u001b[0m\u001b[0;34m)\u001b[0m\u001b[0;34m:\u001b[0m\u001b[0;34m\u001b[0m\u001b[0m\n",
      "\u001b[0;32m/opt/conda/lib/python3.6/site-packages/torch/autograd/__init__.py\u001b[0m in \u001b[0;36mbackward\u001b[0;34m(tensors, grad_tensors, retain_graph, create_graph, grad_variables)\u001b[0m\n\u001b[1;32m     88\u001b[0m     Variable._execution_engine.run_backward(\n\u001b[1;32m     89\u001b[0m         \u001b[0mtensors\u001b[0m\u001b[0;34m,\u001b[0m \u001b[0mgrad_tensors\u001b[0m\u001b[0;34m,\u001b[0m \u001b[0mretain_graph\u001b[0m\u001b[0;34m,\u001b[0m \u001b[0mcreate_graph\u001b[0m\u001b[0;34m,\u001b[0m\u001b[0;34m\u001b[0m\u001b[0m\n\u001b[0;32m---> 90\u001b[0;31m         allow_unreachable=True)  # allow_unreachable flag\n\u001b[0m\u001b[1;32m     91\u001b[0m \u001b[0;34m\u001b[0m\u001b[0m\n\u001b[1;32m     92\u001b[0m \u001b[0;34m\u001b[0m\u001b[0m\n",
      "\u001b[0;31mKeyboardInterrupt\u001b[0m: "
     ]
    }
   ],
   "source": [
    "learner.clip = 25.\n",
    "learner.lr_find(start_lr=1e-5, end_lr=1, linear=False)\n",
    "learner.sched.plot()"
   ]
  },
  {
   "cell_type": "code",
   "execution_count": 22,
   "metadata": {
    "hidden": true
   },
   "outputs": [
    {
     "data": {
      "application/vnd.jupyter.widget-view+json": {
       "model_id": "5ce4fa2b68604912812353e8e81ec528",
       "version_major": 2,
       "version_minor": 0
      },
      "text/plain": [
       "HBox(children=(IntProgress(value=0, description='Epoch', max=10), HTML(value='')))"
      ]
     },
     "metadata": {},
     "output_type": "display_data"
    },
    {
     "name": "stdout",
     "output_type": "stream",
     "text": [
      "epoch      trn_loss   val_loss                                  \n",
      "    0      4.565469   4.451593  \n",
      "    1      4.183575   4.027893                                  \n",
      "    2      4.071145   3.896606                                  \n",
      "    3      4.008949   3.823468                                  \n",
      "    4      3.956882   3.769333                                  \n",
      "    5      3.918282   3.731168                                  \n",
      "    6      3.894945   3.702762                                  \n",
      "    7      3.872636   3.680947                                  \n",
      "    8      3.854972   3.663175                                  \n",
      "    9      3.843054   3.652749                                  \n"
     ]
    },
    {
     "data": {
      "text/plain": [
       "[3.6527488382143667]"
      ]
     },
     "execution_count": 22,
     "metadata": {},
     "output_type": "execute_result"
    }
   ],
   "source": [
    "lrs = 2e-3\n",
    "learner.fit(lrs, 1, wds=1e-7, use_clr=(50, 3), cycle_len=10, use_wd_sched=True)"
   ]
  },
  {
   "cell_type": "code",
   "execution_count": 23,
   "metadata": {
    "hidden": true
   },
   "outputs": [
    {
     "data": {
      "image/png": "[encoded data removed]",
      "text/plain": [
       "<Figure size 432x288 with 1 Axes>"
      ]
     },
     "metadata": {},
     "output_type": "display_data"
    }
   ],
   "source": [
    "learner.sched.plot_lr()"
   ]
  },
  {
   "cell_type": "code",
   "execution_count": 43,
   "metadata": {
    "hidden": true
   },
   "outputs": [
    {
     "data": {
      "application/vnd.jupyter.widget-view+json": {
       "model_id": "8ecc25a27b544cc8bb97930c56f71a3f",
       "version_major": 2,
       "version_minor": 0
      },
      "text/plain": [
       "HBox(children=(IntProgress(value=0, description='Epoch', max=10), HTML(value='')))"
      ]
     },
     "metadata": {},
     "output_type": "display_data"
    },
    {
     "name": "stdout",
     "output_type": "stream",
     "text": [
      "epoch      trn_loss   val_loss                                  \n",
      "    0      3.849988   3.651798  \n",
      "    1      3.843731   3.652289                                  \n",
      "    2      3.851551   3.653735                                  \n",
      "    3      3.851972   3.649651                                  \n",
      "    4      3.841882   3.643531                                  \n",
      "    5      3.83303    3.639206                                  \n",
      " 73%|███████▎  | 7710/10598 [12:47<04:47, 10.05it/s, loss=3.81]"
     ]
    },
    {
     "ename": "KeyboardInterrupt",
     "evalue": "",
     "output_type": "error",
     "traceback": [
      "\u001b[0;31m---------------------------------------------------------------------------\u001b[0m",
      "\u001b[0;31mKeyboardInterrupt\u001b[0m                         Traceback (most recent call last)",
      "\u001b[0;32m<ipython-input-43-7dab8a925206>\u001b[0m in \u001b[0;36m<module>\u001b[0;34m()\u001b[0m\n\u001b[1;32m      1\u001b[0m \u001b[0mlrs\u001b[0m \u001b[0;34m=\u001b[0m \u001b[0;36m5e-4\u001b[0m\u001b[0;34m\u001b[0m\u001b[0m\n\u001b[0;32m----> 2\u001b[0;31m \u001b[0mlearner\u001b[0m\u001b[0;34m.\u001b[0m\u001b[0mfit\u001b[0m\u001b[0;34m(\u001b[0m\u001b[0mlrs\u001b[0m\u001b[0;34m,\u001b[0m \u001b[0;36m1\u001b[0m\u001b[0;34m,\u001b[0m \u001b[0mwds\u001b[0m\u001b[0;34m=\u001b[0m\u001b[0;36m1e-7\u001b[0m\u001b[0;34m,\u001b[0m \u001b[0muse_clr\u001b[0m\u001b[0;34m=\u001b[0m\u001b[0;34m(\u001b[0m\u001b[0;36m50\u001b[0m\u001b[0;34m,\u001b[0m \u001b[0;36m3\u001b[0m\u001b[0;34m)\u001b[0m\u001b[0;34m,\u001b[0m \u001b[0mcycle_len\u001b[0m\u001b[0;34m=\u001b[0m\u001b[0;36m10\u001b[0m\u001b[0;34m,\u001b[0m \u001b[0muse_wd_sched\u001b[0m\u001b[0;34m=\u001b[0m\u001b[0;32mTrue\u001b[0m\u001b[0;34m)\u001b[0m\u001b[0;34m\u001b[0m\u001b[0m\n\u001b[0m",
      "\u001b[0;32m~/fastai/fastai/text.py\u001b[0m in \u001b[0;36mfit\u001b[0;34m(self, *args, **kwargs)\u001b[0m\n\u001b[1;32m    209\u001b[0m \u001b[0;34m\u001b[0m\u001b[0m\n\u001b[1;32m    210\u001b[0m     \u001b[0;32mdef\u001b[0m \u001b[0m_get_crit\u001b[0m\u001b[0;34m(\u001b[0m\u001b[0mself\u001b[0m\u001b[0;34m,\u001b[0m \u001b[0mdata\u001b[0m\u001b[0;34m)\u001b[0m\u001b[0;34m:\u001b[0m \u001b[0;32mreturn\u001b[0m \u001b[0mF\u001b[0m\u001b[0;34m.\u001b[0m\u001b[0mcross_entropy\u001b[0m\u001b[0;34m\u001b[0m\u001b[0m\n\u001b[0;32m--> 211\u001b[0;31m     \u001b[0;32mdef\u001b[0m \u001b[0mfit\u001b[0m\u001b[0;34m(\u001b[0m\u001b[0mself\u001b[0m\u001b[0;34m,\u001b[0m \u001b[0;34m*\u001b[0m\u001b[0margs\u001b[0m\u001b[0;34m,\u001b[0m \u001b[0;34m**\u001b[0m\u001b[0mkwargs\u001b[0m\u001b[0;34m)\u001b[0m\u001b[0;34m:\u001b[0m \u001b[0;32mreturn\u001b[0m \u001b[0msuper\u001b[0m\u001b[0;34m(\u001b[0m\u001b[0;34m)\u001b[0m\u001b[0;34m.\u001b[0m\u001b[0mfit\u001b[0m\u001b[0;34m(\u001b[0m\u001b[0;34m*\u001b[0m\u001b[0margs\u001b[0m\u001b[0;34m,\u001b[0m \u001b[0;34m**\u001b[0m\u001b[0mkwargs\u001b[0m\u001b[0;34m,\u001b[0m \u001b[0mseq_first\u001b[0m\u001b[0;34m=\u001b[0m\u001b[0;32mTrue\u001b[0m\u001b[0;34m)\u001b[0m\u001b[0;34m\u001b[0m\u001b[0m\n\u001b[0m\u001b[1;32m    212\u001b[0m \u001b[0;34m\u001b[0m\u001b[0m\n\u001b[1;32m    213\u001b[0m     \u001b[0;32mdef\u001b[0m \u001b[0msave_encoder\u001b[0m\u001b[0;34m(\u001b[0m\u001b[0mself\u001b[0m\u001b[0;34m,\u001b[0m \u001b[0mname\u001b[0m\u001b[0;34m)\u001b[0m\u001b[0;34m:\u001b[0m \u001b[0msave_model\u001b[0m\u001b[0;34m(\u001b[0m\u001b[0mself\u001b[0m\u001b[0;34m.\u001b[0m\u001b[0mmodel\u001b[0m\u001b[0;34m[\u001b[0m\u001b[0;36m0\u001b[0m\u001b[0;34m]\u001b[0m\u001b[0;34m,\u001b[0m \u001b[0mself\u001b[0m\u001b[0;34m.\u001b[0m\u001b[0mget_model_path\u001b[0m\u001b[0;34m(\u001b[0m\u001b[0mname\u001b[0m\u001b[0;34m)\u001b[0m\u001b[0;34m)\u001b[0m\u001b[0;34m\u001b[0m\u001b[0m\n",
      "\u001b[0;32m~/fastai/fastai/learner.py\u001b[0m in \u001b[0;36mfit\u001b[0;34m(self, lrs, n_cycle, wds, **kwargs)\u001b[0m\n\u001b[1;32m    302\u001b[0m         \u001b[0mself\u001b[0m\u001b[0;34m.\u001b[0m\u001b[0msched\u001b[0m \u001b[0;34m=\u001b[0m \u001b[0;32mNone\u001b[0m\u001b[0;34m\u001b[0m\u001b[0m\n\u001b[1;32m    303\u001b[0m         \u001b[0mlayer_opt\u001b[0m \u001b[0;34m=\u001b[0m \u001b[0mself\u001b[0m\u001b[0;34m.\u001b[0m\u001b[0mget_layer_opt\u001b[0m\u001b[0;34m(\u001b[0m\u001b[0mlrs\u001b[0m\u001b[0;34m,\u001b[0m \u001b[0mwds\u001b[0m\u001b[0;34m)\u001b[0m\u001b[0;34m\u001b[0m\u001b[0m\n\u001b[0;32m--> 304\u001b[0;31m         \u001b[0;32mreturn\u001b[0m \u001b[0mself\u001b[0m\u001b[0;34m.\u001b[0m\u001b[0mfit_gen\u001b[0m\u001b[0;34m(\u001b[0m\u001b[0mself\u001b[0m\u001b[0;34m.\u001b[0m\u001b[0mmodel\u001b[0m\u001b[0;34m,\u001b[0m \u001b[0mself\u001b[0m\u001b[0;34m.\u001b[0m\u001b[0mdata\u001b[0m\u001b[0;34m,\u001b[0m \u001b[0mlayer_opt\u001b[0m\u001b[0;34m,\u001b[0m \u001b[0mn_cycle\u001b[0m\u001b[0;34m,\u001b[0m \u001b[0;34m**\u001b[0m\u001b[0mkwargs\u001b[0m\u001b[0;34m)\u001b[0m\u001b[0;34m\u001b[0m\u001b[0m\n\u001b[0m\u001b[1;32m    305\u001b[0m \u001b[0;34m\u001b[0m\u001b[0m\n\u001b[1;32m    306\u001b[0m     \u001b[0;32mdef\u001b[0m \u001b[0mwarm_up\u001b[0m\u001b[0;34m(\u001b[0m\u001b[0mself\u001b[0m\u001b[0;34m,\u001b[0m \u001b[0mlr\u001b[0m\u001b[0;34m,\u001b[0m \u001b[0mwds\u001b[0m\u001b[0;34m=\u001b[0m\u001b[0;32mNone\u001b[0m\u001b[0;34m)\u001b[0m\u001b[0;34m:\u001b[0m\u001b[0;34m\u001b[0m\u001b[0m\n",
      "\u001b[0;32m~/fastai/fastai/learner.py\u001b[0m in \u001b[0;36mfit_gen\u001b[0;34m(self, model, data, layer_opt, n_cycle, cycle_len, cycle_mult, cycle_save_name, best_save_name, use_clr, use_clr_beta, metrics, callbacks, use_wd_sched, norm_wds, wds_sched_mult, use_swa, swa_start, swa_eval_freq, **kwargs)\u001b[0m\n\u001b[1;32m    249\u001b[0m             \u001b[0mmetrics\u001b[0m\u001b[0;34m=\u001b[0m\u001b[0mmetrics\u001b[0m\u001b[0;34m,\u001b[0m \u001b[0mcallbacks\u001b[0m\u001b[0;34m=\u001b[0m\u001b[0mcallbacks\u001b[0m\u001b[0;34m,\u001b[0m \u001b[0mreg_fn\u001b[0m\u001b[0;34m=\u001b[0m\u001b[0mself\u001b[0m\u001b[0;34m.\u001b[0m\u001b[0mreg_fn\u001b[0m\u001b[0;34m,\u001b[0m \u001b[0mclip\u001b[0m\u001b[0;34m=\u001b[0m\u001b[0mself\u001b[0m\u001b[0;34m.\u001b[0m\u001b[0mclip\u001b[0m\u001b[0;34m,\u001b[0m \u001b[0mfp16\u001b[0m\u001b[0;34m=\u001b[0m\u001b[0mself\u001b[0m\u001b[0;34m.\u001b[0m\u001b[0mfp16\u001b[0m\u001b[0;34m,\u001b[0m\u001b[0;34m\u001b[0m\u001b[0m\n\u001b[1;32m    250\u001b[0m             \u001b[0mswa_model\u001b[0m\u001b[0;34m=\u001b[0m\u001b[0mself\u001b[0m\u001b[0;34m.\u001b[0m\u001b[0mswa_model\u001b[0m \u001b[0;32mif\u001b[0m \u001b[0muse_swa\u001b[0m \u001b[0;32melse\u001b[0m \u001b[0;32mNone\u001b[0m\u001b[0;34m,\u001b[0m \u001b[0mswa_start\u001b[0m\u001b[0;34m=\u001b[0m\u001b[0mswa_start\u001b[0m\u001b[0;34m,\u001b[0m\u001b[0;34m\u001b[0m\u001b[0m\n\u001b[0;32m--> 251\u001b[0;31m             swa_eval_freq=swa_eval_freq, **kwargs)\n\u001b[0m\u001b[1;32m    252\u001b[0m \u001b[0;34m\u001b[0m\u001b[0m\n\u001b[1;32m    253\u001b[0m     \u001b[0;32mdef\u001b[0m \u001b[0mget_layer_groups\u001b[0m\u001b[0;34m(\u001b[0m\u001b[0mself\u001b[0m\u001b[0;34m)\u001b[0m\u001b[0;34m:\u001b[0m \u001b[0;32mreturn\u001b[0m \u001b[0mself\u001b[0m\u001b[0;34m.\u001b[0m\u001b[0mmodels\u001b[0m\u001b[0;34m.\u001b[0m\u001b[0mget_layer_groups\u001b[0m\u001b[0;34m(\u001b[0m\u001b[0;34m)\u001b[0m\u001b[0;34m\u001b[0m\u001b[0m\n",
      "\u001b[0;32m~/fastai/fastai/model.py\u001b[0m in \u001b[0;36mfit\u001b[0;34m(model, data, n_epochs, opt, crit, metrics, callbacks, stepper, swa_model, swa_start, swa_eval_freq, visualize, **kwargs)\u001b[0m\n\u001b[1;32m    139\u001b[0m             \u001b[0mbatch_num\u001b[0m \u001b[0;34m+=\u001b[0m \u001b[0;36m1\u001b[0m\u001b[0;34m\u001b[0m\u001b[0m\n\u001b[1;32m    140\u001b[0m             \u001b[0;32mfor\u001b[0m \u001b[0mcb\u001b[0m \u001b[0;32min\u001b[0m \u001b[0mcallbacks\u001b[0m\u001b[0;34m:\u001b[0m \u001b[0mcb\u001b[0m\u001b[0;34m.\u001b[0m\u001b[0mon_batch_begin\u001b[0m\u001b[0;34m(\u001b[0m\u001b[0;34m)\u001b[0m\u001b[0;34m\u001b[0m\u001b[0m\n\u001b[0;32m--> 141\u001b[0;31m             \u001b[0mloss\u001b[0m \u001b[0;34m=\u001b[0m \u001b[0mmodel_stepper\u001b[0m\u001b[0;34m.\u001b[0m\u001b[0mstep\u001b[0m\u001b[0;34m(\u001b[0m\u001b[0mV\u001b[0m\u001b[0;34m(\u001b[0m\u001b[0mx\u001b[0m\u001b[0;34m)\u001b[0m\u001b[0;34m,\u001b[0m\u001b[0mV\u001b[0m\u001b[0;34m(\u001b[0m\u001b[0my\u001b[0m\u001b[0;34m)\u001b[0m\u001b[0;34m,\u001b[0m \u001b[0mepoch\u001b[0m\u001b[0;34m)\u001b[0m\u001b[0;34m\u001b[0m\u001b[0m\n\u001b[0m\u001b[1;32m    142\u001b[0m             \u001b[0mavg_loss\u001b[0m \u001b[0;34m=\u001b[0m \u001b[0mavg_loss\u001b[0m \u001b[0;34m*\u001b[0m \u001b[0mavg_mom\u001b[0m \u001b[0;34m+\u001b[0m \u001b[0mloss\u001b[0m \u001b[0;34m*\u001b[0m \u001b[0;34m(\u001b[0m\u001b[0;36m1\u001b[0m\u001b[0;34m-\u001b[0m\u001b[0mavg_mom\u001b[0m\u001b[0;34m)\u001b[0m\u001b[0;34m\u001b[0m\u001b[0m\n\u001b[1;32m    143\u001b[0m             \u001b[0mdebias_loss\u001b[0m \u001b[0;34m=\u001b[0m \u001b[0mavg_loss\u001b[0m \u001b[0;34m/\u001b[0m \u001b[0;34m(\u001b[0m\u001b[0;36m1\u001b[0m \u001b[0;34m-\u001b[0m \u001b[0mavg_mom\u001b[0m\u001b[0;34m**\u001b[0m\u001b[0mbatch_num\u001b[0m\u001b[0;34m)\u001b[0m\u001b[0;34m\u001b[0m\u001b[0m\n",
      "\u001b[0;32m~/fastai/fastai/model.py\u001b[0m in \u001b[0;36mstep\u001b[0;34m(self, xs, y, epoch)\u001b[0m\n\u001b[1;32m     55\u001b[0m         \u001b[0;32mif\u001b[0m \u001b[0mself\u001b[0m\u001b[0;34m.\u001b[0m\u001b[0mloss_scale\u001b[0m \u001b[0;34m!=\u001b[0m \u001b[0;36m1\u001b[0m\u001b[0;34m:\u001b[0m \u001b[0;32massert\u001b[0m\u001b[0;34m(\u001b[0m\u001b[0mself\u001b[0m\u001b[0;34m.\u001b[0m\u001b[0mfp16\u001b[0m\u001b[0;34m)\u001b[0m\u001b[0;34m;\u001b[0m \u001b[0mloss\u001b[0m \u001b[0;34m=\u001b[0m \u001b[0mloss\u001b[0m\u001b[0;34m*\u001b[0m\u001b[0mself\u001b[0m\u001b[0;34m.\u001b[0m\u001b[0mloss_scale\u001b[0m\u001b[0;34m\u001b[0m\u001b[0m\n\u001b[1;32m     56\u001b[0m         \u001b[0;32mif\u001b[0m \u001b[0mself\u001b[0m\u001b[0;34m.\u001b[0m\u001b[0mreg_fn\u001b[0m\u001b[0;34m:\u001b[0m \u001b[0mloss\u001b[0m \u001b[0;34m=\u001b[0m \u001b[0mself\u001b[0m\u001b[0;34m.\u001b[0m\u001b[0mreg_fn\u001b[0m\u001b[0;34m(\u001b[0m\u001b[0moutput\u001b[0m\u001b[0;34m,\u001b[0m \u001b[0mxtra\u001b[0m\u001b[0;34m,\u001b[0m \u001b[0mraw_loss\u001b[0m\u001b[0;34m)\u001b[0m\u001b[0;34m\u001b[0m\u001b[0m\n\u001b[0;32m---> 57\u001b[0;31m         \u001b[0mloss\u001b[0m\u001b[0;34m.\u001b[0m\u001b[0mbackward\u001b[0m\u001b[0;34m(\u001b[0m\u001b[0;34m)\u001b[0m\u001b[0;34m\u001b[0m\u001b[0m\n\u001b[0m\u001b[1;32m     58\u001b[0m         \u001b[0;32mif\u001b[0m \u001b[0mself\u001b[0m\u001b[0;34m.\u001b[0m\u001b[0mfp16\u001b[0m\u001b[0;34m:\u001b[0m \u001b[0mupdate_fp32_grads\u001b[0m\u001b[0;34m(\u001b[0m\u001b[0mself\u001b[0m\u001b[0;34m.\u001b[0m\u001b[0mfp32_params\u001b[0m\u001b[0;34m,\u001b[0m \u001b[0mself\u001b[0m\u001b[0;34m.\u001b[0m\u001b[0mm\u001b[0m\u001b[0;34m)\u001b[0m\u001b[0;34m\u001b[0m\u001b[0m\n\u001b[1;32m     59\u001b[0m         \u001b[0;32mif\u001b[0m \u001b[0mself\u001b[0m\u001b[0;34m.\u001b[0m\u001b[0mloss_scale\u001b[0m \u001b[0;34m!=\u001b[0m \u001b[0;36m1\u001b[0m\u001b[0;34m:\u001b[0m\u001b[0;34m\u001b[0m\u001b[0m\n",
      "\u001b[0;32m/opt/conda/lib/python3.6/site-packages/torch/tensor.py\u001b[0m in \u001b[0;36mbackward\u001b[0;34m(self, gradient, retain_graph, create_graph)\u001b[0m\n\u001b[1;32m     91\u001b[0m                 \u001b[0mproducts\u001b[0m\u001b[0;34m.\u001b[0m \u001b[0mDefaults\u001b[0m \u001b[0mto\u001b[0m\u001b[0;31m \u001b[0m\u001b[0;31m`\u001b[0m\u001b[0;31m`\u001b[0m\u001b[0;32mFalse\u001b[0m\u001b[0;31m`\u001b[0m\u001b[0;31m`\u001b[0m\u001b[0;34m.\u001b[0m\u001b[0;34m\u001b[0m\u001b[0m\n\u001b[1;32m     92\u001b[0m         \"\"\"\n\u001b[0;32m---> 93\u001b[0;31m         \u001b[0mtorch\u001b[0m\u001b[0;34m.\u001b[0m\u001b[0mautograd\u001b[0m\u001b[0;34m.\u001b[0m\u001b[0mbackward\u001b[0m\u001b[0;34m(\u001b[0m\u001b[0mself\u001b[0m\u001b[0;34m,\u001b[0m \u001b[0mgradient\u001b[0m\u001b[0;34m,\u001b[0m \u001b[0mretain_graph\u001b[0m\u001b[0;34m,\u001b[0m \u001b[0mcreate_graph\u001b[0m\u001b[0;34m)\u001b[0m\u001b[0;34m\u001b[0m\u001b[0m\n\u001b[0m\u001b[1;32m     94\u001b[0m \u001b[0;34m\u001b[0m\u001b[0m\n\u001b[1;32m     95\u001b[0m     \u001b[0;32mdef\u001b[0m \u001b[0mregister_hook\u001b[0m\u001b[0;34m(\u001b[0m\u001b[0mself\u001b[0m\u001b[0;34m,\u001b[0m \u001b[0mhook\u001b[0m\u001b[0;34m)\u001b[0m\u001b[0;34m:\u001b[0m\u001b[0;34m\u001b[0m\u001b[0m\n",
      "\u001b[0;32m/opt/conda/lib/python3.6/site-packages/torch/autograd/__init__.py\u001b[0m in \u001b[0;36mbackward\u001b[0;34m(tensors, grad_tensors, retain_graph, create_graph, grad_variables)\u001b[0m\n\u001b[1;32m     88\u001b[0m     Variable._execution_engine.run_backward(\n\u001b[1;32m     89\u001b[0m         \u001b[0mtensors\u001b[0m\u001b[0;34m,\u001b[0m \u001b[0mgrad_tensors\u001b[0m\u001b[0;34m,\u001b[0m \u001b[0mretain_graph\u001b[0m\u001b[0;34m,\u001b[0m \u001b[0mcreate_graph\u001b[0m\u001b[0;34m,\u001b[0m\u001b[0;34m\u001b[0m\u001b[0m\n\u001b[0;32m---> 90\u001b[0;31m         allow_unreachable=True)  # allow_unreachable flag\n\u001b[0m\u001b[1;32m     91\u001b[0m \u001b[0;34m\u001b[0m\u001b[0m\n\u001b[1;32m     92\u001b[0m \u001b[0;34m\u001b[0m\u001b[0m\n",
      "\u001b[0;31mKeyboardInterrupt\u001b[0m: "
     ]
    }
   ],
   "source": [
    "lrs = 5e-4\n",
    "learner.fit(lrs, 1, wds=1e-7, use_clr=(50, 3), cycle_len=10, use_wd_sched=True)"
   ]
  },
  {
   "cell_type": "code",
   "execution_count": 14,
   "metadata": {
    "hidden": true
   },
   "outputs": [
    {
     "data": {
      "image/png": "[encoded data removed]",
      "text/plain": [
       "<Figure size 432x288 with 1 Axes>"
      ]
     },
     "metadata": {},
     "output_type": "display_data"
    }
   ],
   "source": [
    "learner.sched.plot_loss()"
   ]
  },
  {
   "cell_type": "code",
   "execution_count": 44,
   "metadata": {
    "hidden": true
   },
   "outputs": [],
   "source": [
    "learner.save(\"lm_qrnn\")\n",
    "learner.save_encoder(\"lm_qrnn_enc\")"
   ]
  },
  {
   "cell_type": "code",
   "execution_count": null,
   "metadata": {
    "hidden": true
   },
   "outputs": [],
   "source": [
    "learner.load(\"lm_qrnn\")"
   ]
  },
  {
   "cell_type": "markdown",
   "metadata": {},
   "source": [
    "### LSTM"
   ]
  },
  {
   "cell_type": "code",
   "execution_count": 19,
   "metadata": {},
   "outputs": [],
   "source": [
    "drops = np.array([0.1, 0.1, 0.05, 0, 0.1])\n",
    "learner = model_data.get_model(\n",
    "    partial(Adam, betas=(0.8, 0.999)),\n",
    "    emb_sz=300, n_hid=500, n_layers=3,\n",
    "    dropouti=drops[0], dropout=drops[1], wdrop=drops[2],\n",
    "    dropoute=drops[3], dropouth=drops[4], qrnn=False\n",
    ")"
   ]
  },
  {
   "cell_type": "code",
   "execution_count": 20,
   "metadata": {},
   "outputs": [
    {
     "data": {
      "application/vnd.jupyter.widget-view+json": {
       "model_id": "d4dcff3a1acf44aab6e2a1996c6b7905",
       "version_major": 2,
       "version_minor": 0
      },
      "text/plain": [
       "HBox(children=(IntProgress(value=0, description='Epoch', max=1), HTML(value='')))"
      ]
     },
     "metadata": {},
     "output_type": "display_data"
    },
    {
     "name": "stdout",
     "output_type": "stream",
     "text": [
      " 88%|████████▊ | 12233/13836 [14:03<01:50, 14.51it/s, loss=20.4]"
     ]
    },
    {
     "data": {
      "image/png": "[encoded data removed]",
      "text/plain": [
       "<Figure size 432x288 with 1 Axes>"
      ]
     },
     "metadata": {},
     "output_type": "display_data"
    }
   ],
   "source": [
    "learner.clip = 25.\n",
    "learner.lr_find(start_lr=1e-5, end_lr=1, linear=False)\n",
    "learner.sched.plot()"
   ]
  },
  {
   "cell_type": "code",
   "execution_count": 21,
   "metadata": {},
   "outputs": [
    {
     "data": {
      "application/vnd.jupyter.widget-view+json": {
       "model_id": "e50f4fad43fd4d30abc8e608a8117861",
       "version_major": 2,
       "version_minor": 0
      },
      "text/plain": [
       "HBox(children=(IntProgress(value=0, description='Epoch', max=20), HTML(value='')))"
      ]
     },
     "metadata": {},
     "output_type": "display_data"
    },
    {
     "name": "stdout",
     "output_type": "stream",
     "text": [
      "epoch      trn_loss   val_loss                                  \n",
      "    0      5.074749   5.08744   \n",
      "    1      4.656655   4.620055                                  \n",
      "    2      4.520525   4.496911                                  \n",
      "    3      4.481254   4.449455                                  \n",
      "    4      4.424954   4.388754                                  \n",
      "    5      4.394228   4.343976                                  \n",
      "    6      4.386279   4.31135                                   \n",
      "    7      4.339633   4.287091                                  \n",
      "    8      4.330917   4.264053                                  \n",
      "    9      4.33403    4.245124                                  \n",
      "    10     4.308752   4.226011                                  \n",
      "    11     4.317921   4.212718                                  \n",
      "    12     4.270177   4.196944                                  \n",
      "    13     4.264707   4.182222                                  \n",
      "    14     4.255588   4.169501                                  \n",
      "    15     4.227801   4.157128                                  \n",
      "    16     4.244489   4.143801                                  \n",
      "    17     4.212113   4.134194                                  \n",
      "    18     4.214959   4.124068                                  \n",
      "    19     4.2211     4.116773                                  \n"
     ]
    },
    {
     "data": {
      "text/plain": [
       "[4.116772791059771]"
      ]
     },
     "execution_count": 21,
     "metadata": {},
     "output_type": "execute_result"
    }
   ],
   "source": [
    "lrs = 2e-3\n",
    "learner.clip = 10.\n",
    "learner.fit(lrs, 1, wds=1e-7, use_clr=(50, 5), cycle_len=20, use_wd_sched=True)"
   ]
  },
  {
   "cell_type": "code",
   "execution_count": 22,
   "metadata": {},
   "outputs": [
    {
     "data": {
      "image/png": "[encoded data removed]",
      "text/plain": [
       "<Figure size 432x288 with 1 Axes>"
      ]
     },
     "metadata": {},
     "output_type": "display_data"
    }
   ],
   "source": [
    "learner.sched.plot_lr()"
   ]
  },
  {
   "cell_type": "code",
   "execution_count": 23,
   "metadata": {},
   "outputs": [],
   "source": [
    "learner.save(\"lm_lstm\")\n",
    "learner.save_encoder(\"lm_lstm_enc\")"
   ]
  },
  {
   "cell_type": "code",
   "execution_count": 24,
   "metadata": {},
   "outputs": [],
   "source": [
    "tmp_iter = iter(trn_loader)"
   ]
  },
  {
   "cell_type": "code",
   "execution_count": 25,
   "metadata": {},
   "outputs": [
    {
     "data": {
      "text/plain": [
       "torch.Size([100, 64])"
      ]
     },
     "execution_count": 25,
     "metadata": {},
     "output_type": "execute_result"
    }
   ],
   "source": [
    "next(tmp_iter)[0].shape"
   ]
  },
  {
   "cell_type": "code",
   "execution_count": 26,
   "metadata": {},
   "outputs": [],
   "source": [
    "learner.load(\"lm_lstm\")"
   ]
  },
  {
   "cell_type": "markdown",
   "metadata": {},
   "source": [
    "## Test the model"
   ]
  },
  {
   "cell_type": "code",
   "execution_count": 27,
   "metadata": {},
   "outputs": [
    {
     "data": {
      "text/plain": [
       "SequentialRNN(\n",
       "  (0): RNN_Encoder(\n",
       "    (encoder): Embedding(7500, 300, padding_idx=2)\n",
       "    (encoder_with_dropout): EmbeddingDropout(\n",
       "      (embed): Embedding(7500, 300, padding_idx=2)\n",
       "    )\n",
       "    (rnns): ModuleList(\n",
       "      (0): WeightDrop(\n",
       "        (module): LSTM(300, 500)\n",
       "      )\n",
       "      (1): WeightDrop(\n",
       "        (module): LSTM(500, 500)\n",
       "      )\n",
       "      (2): WeightDrop(\n",
       "        (module): LSTM(500, 300)\n",
       "      )\n",
       "    )\n",
       "    (dropouti): LockedDropout()\n",
       "    (dropouths): ModuleList(\n",
       "      (0): LockedDropout()\n",
       "      (1): LockedDropout()\n",
       "      (2): LockedDropout()\n",
       "    )\n",
       "  )\n",
       "  (1): LinearDecoder(\n",
       "    (decoder): Linear(in_features=300, out_features=7500, bias=False)\n",
       "    (dropout): LockedDropout()\n",
       "  )\n",
       ")"
      ]
     },
     "execution_count": 27,
     "metadata": {},
     "output_type": "execute_result"
    }
   ],
   "source": [
    "learner.model.eval()"
   ]
  },
  {
   "cell_type": "markdown",
   "metadata": {},
   "source": [
    "### Next Character Inference"
   ]
  },
  {
   "cell_type": "code",
   "execution_count": 28,
   "metadata": {},
   "outputs": [
    {
     "data": {
      "text/plain": [
       "[513,\n",
       " 11,\n",
       " 314,\n",
       " 29,\n",
       " 95,\n",
       " 45,\n",
       " 14,\n",
       " 4,\n",
       " 51,\n",
       " 1690,\n",
       " 712,\n",
       " 195,\n",
       " 3,\n",
       " 1156,\n",
       " 34,\n",
       " 354,\n",
       " 2923,\n",
       " 450,\n",
       " 3523]"
      ]
     },
     "execution_count": 28,
     "metadata": {},
     "output_type": "execute_result"
    }
   ],
   "source": [
    "tokens = sp.EncodeAsIds(\"德国 是 世界 大国 之 一 ， 其 国内 生产 总 值 以 国际 汇率 计\")\n",
    "tokens"
   ]
  },
  {
   "cell_type": "code",
   "execution_count": 29,
   "metadata": {},
   "outputs": [
    {
     "data": {
      "text/plain": [
       "torch.Size([19, 7500])"
      ]
     },
     "execution_count": 29,
     "metadata": {},
     "output_type": "execute_result"
    }
   ],
   "source": [
    "logits, _, _ = learner.model(T(tokens).unsqueeze(1))\n",
    "logits.shape"
   ]
  },
  {
   "cell_type": "code",
   "execution_count": 30,
   "metadata": {},
   "outputs": [
    {
     "data": {
      "text/html": [
       "<div>\n",
       "<style scoped>\n",
       "    .dataframe tbody tr th:only-of-type {\n",
       "        vertical-align: middle;\n",
       "    }\n",
       "\n",
       "    .dataframe tbody tr th {\n",
       "        vertical-align: top;\n",
       "    }\n",
       "\n",
       "    .dataframe thead th {\n",
       "        text-align: right;\n",
       "    }\n",
       "</style>\n",
       "<table border=\"1\" class=\"dataframe\">\n",
       "  <thead>\n",
       "    <tr style=\"text-align: right;\">\n",
       "      <th></th>\n",
       "      <th>orig</th>\n",
       "      <th>pred_1</th>\n",
       "      <th>pred_2</th>\n",
       "      <th>pred_3</th>\n",
       "    </tr>\n",
       "  </thead>\n",
       "  <tbody>\n",
       "    <tr>\n",
       "      <th>0</th>\n",
       "      <td>▁德国</td>\n",
       "      <td></td>\n",
       "      <td></td>\n",
       "      <td></td>\n",
       "    </tr>\n",
       "    <tr>\n",
       "      <th>1</th>\n",
       "      <td>▁是</td>\n",
       "      <td>▁人</td>\n",
       "      <td>▁的</td>\n",
       "      <td>▁</td>\n",
       "    </tr>\n",
       "    <tr>\n",
       "      <th>2</th>\n",
       "      <td>▁世界</td>\n",
       "      <td>▁一个</td>\n",
       "      <td>▁一</td>\n",
       "      <td>▁</td>\n",
       "    </tr>\n",
       "    <tr>\n",
       "      <th>3</th>\n",
       "      <td>▁大</td>\n",
       "      <td>▁上</td>\n",
       "      <td>▁最</td>\n",
       "      <td>▁第一</td>\n",
       "    </tr>\n",
       "    <tr>\n",
       "      <th>4</th>\n",
       "      <td>国</td>\n",
       "      <td>赛</td>\n",
       "      <td>国</td>\n",
       "      <td>气</td>\n",
       "    </tr>\n",
       "    <tr>\n",
       "      <th>5</th>\n",
       "      <td>▁之</td>\n",
       "      <td>▁,</td>\n",
       "      <td>▁。</td>\n",
       "      <td>▁的</td>\n",
       "    </tr>\n",
       "    <tr>\n",
       "      <th>6</th>\n",
       "      <td>▁一</td>\n",
       "      <td>▁</td>\n",
       "      <td>▁首</td>\n",
       "      <td>▁父</td>\n",
       "    </tr>\n",
       "    <tr>\n",
       "      <th>7</th>\n",
       "      <td>▁,</td>\n",
       "      <td>▁</td>\n",
       "      <td>▁。</td>\n",
       "      <td>▁大</td>\n",
       "    </tr>\n",
       "    <tr>\n",
       "      <th>8</th>\n",
       "      <td>▁其</td>\n",
       "      <td>▁而</td>\n",
       "      <td>▁在</td>\n",
       "      <td>▁</td>\n",
       "    </tr>\n",
       "    <tr>\n",
       "      <th>9</th>\n",
       "      <td>▁国内</td>\n",
       "      <td>▁</td>\n",
       "      <td>次</td>\n",
       "      <td>▁目的</td>\n",
       "    </tr>\n",
       "    <tr>\n",
       "      <th>10</th>\n",
       "      <td>▁生产</td>\n",
       "      <td>▁的</td>\n",
       "      <td>▁</td>\n",
       "      <td>外</td>\n",
       "    </tr>\n",
       "    <tr>\n",
       "      <th>11</th>\n",
       "      <td>▁总</td>\n",
       "      <td>总</td>\n",
       "      <td>力</td>\n",
       "      <td>量</td>\n",
       "    </tr>\n",
       "    <tr>\n",
       "      <th>12</th>\n",
       "      <td>▁</td>\n",
       "      <td>额</td>\n",
       "      <td>量</td>\n",
       "      <td>值</td>\n",
       "    </tr>\n",
       "    <tr>\n",
       "      <th>13</th>\n",
       "      <td>值</td>\n",
       "      <td>耗</td>\n",
       "      <td>量</td>\n",
       "      <td>储</td>\n",
       "    </tr>\n",
       "    <tr>\n",
       "      <th>14</th>\n",
       "      <td>▁以</td>\n",
       "      <td>▁为</td>\n",
       "      <td>▁约</td>\n",
       "      <td>▁超</td>\n",
       "    </tr>\n",
       "    <tr>\n",
       "      <th>15</th>\n",
       "      <td>▁国际</td>\n",
       "      <td>▁</td>\n",
       "      <td>▁1</td>\n",
       "      <td>▁2</td>\n",
       "    </tr>\n",
       "    <tr>\n",
       "      <th>16</th>\n",
       "      <td>▁汇</td>\n",
       "      <td>▁</td>\n",
       "      <td>▁货币</td>\n",
       "      <td>▁标准</td>\n",
       "    </tr>\n",
       "    <tr>\n",
       "      <th>17</th>\n",
       "      <td>率</td>\n",
       "      <td>率</td>\n",
       "      <td>总</td>\n",
       "      <td>丰</td>\n",
       "    </tr>\n",
       "    <tr>\n",
       "      <th>18</th>\n",
       "      <td>▁计</td>\n",
       "      <td>▁为</td>\n",
       "      <td>▁的</td>\n",
       "      <td>▁计算</td>\n",
       "    </tr>\n",
       "    <tr>\n",
       "      <th>19</th>\n",
       "      <td></td>\n",
       "      <td>数</td>\n",
       "      <td>量</td>\n",
       "      <td>▁,</td>\n",
       "    </tr>\n",
       "  </tbody>\n",
       "</table>\n",
       "</div>"
      ],
      "text/plain": [
       "   orig pred_1 pred_2 pred_3\n",
       "0   ▁德国                     \n",
       "1    ▁是     ▁人     ▁的      ▁\n",
       "2   ▁世界    ▁一个     ▁一      ▁\n",
       "3    ▁大     ▁上     ▁最    ▁第一\n",
       "4     国      赛      国      气\n",
       "5    ▁之     ▁,     ▁。     ▁的\n",
       "6    ▁一      ▁     ▁首     ▁父\n",
       "7    ▁,      ▁     ▁。     ▁大\n",
       "8    ▁其     ▁而     ▁在      ▁\n",
       "9   ▁国内      ▁      次    ▁目的\n",
       "10  ▁生产     ▁的      ▁      外\n",
       "11   ▁总      总      力      量\n",
       "12    ▁      额      量      值\n",
       "13    值      耗      量      储\n",
       "14   ▁以     ▁为     ▁约     ▁超\n",
       "15  ▁国际      ▁     ▁1     ▁2\n",
       "16   ▁汇      ▁    ▁货币    ▁标准\n",
       "17    率      率      总      丰\n",
       "18   ▁计     ▁为     ▁的    ▁计算\n",
       "19           数      量     ▁,"
      ]
     },
     "execution_count": 30,
     "metadata": {},
     "output_type": "execute_result"
    }
   ],
   "source": [
    "sorted_idx = np.argsort(logits.data.cpu().numpy(), 1)\n",
    "preds = []\n",
    "for i in range(1, 4):\n",
    "      preds.append([sp.IdToPiece(x) for x in sorted_idx[:, -i].tolist()])\n",
    "# preds = list(map(lambda x: itos[x], np.argmax(logits.data.cpu().numpy(), 1)))\n",
    "pd.DataFrame({\"orig\": sp.EncodeAsPieces(\"德国 是 世界 大国 之 一 ， 其 国内 生产 总 值 以 国际 汇率 计\") + [\"\"], \n",
    "              \"pred_1\": [\"\"] + preds[0], \"pred_2\": [\"\"] + preds[1], \"pred_3\": [\"\"] + preds[2]})"
   ]
  },
  {
   "cell_type": "code",
   "execution_count": 31,
   "metadata": {},
   "outputs": [],
   "source": [
    "def eval(texts):\n",
    "    learner.model[0].reset()\n",
    "    tokens =sp.EncodeAsIds(texts)\n",
    "    logits, _, _ = learner.model(T(tokens).unsqueeze(1))\n",
    "    sorted_idx = np.argsort(logits.data.cpu().numpy(), 1)\n",
    "    preds = []\n",
    "    for i in range(1, 4):\n",
    "          preds.append([sp.IdToPiece(x) for x in sorted_idx[:, -i].tolist()])\n",
    "    # preds = list(map(lambda x: itos[x], np.argmax(logits.data.cpu().numpy(), 1)))\n",
    "    return pd.DataFrame({\"orig\": sp.EncodeAsPieces(texts) + [\"\"], \n",
    "                  \"pred_1\": [\"\"] + preds[0], \"pred_2\": [\"\"] + preds[1], \"pred_3\": [\"\"] + preds[2]})"
   ]
  },
  {
   "cell_type": "code",
   "execution_count": 32,
   "metadata": {},
   "outputs": [
    {
     "data": {
      "text/html": [
       "<div>\n",
       "<style scoped>\n",
       "    .dataframe tbody tr th:only-of-type {\n",
       "        vertical-align: middle;\n",
       "    }\n",
       "\n",
       "    .dataframe tbody tr th {\n",
       "        vertical-align: top;\n",
       "    }\n",
       "\n",
       "    .dataframe thead th {\n",
       "        text-align: right;\n",
       "    }\n",
       "</style>\n",
       "<table border=\"1\" class=\"dataframe\">\n",
       "  <thead>\n",
       "    <tr style=\"text-align: right;\">\n",
       "      <th></th>\n",
       "      <th>orig</th>\n",
       "      <th>pred_1</th>\n",
       "      <th>pred_2</th>\n",
       "      <th>pred_3</th>\n",
       "    </tr>\n",
       "  </thead>\n",
       "  <tbody>\n",
       "    <tr>\n",
       "      <th>0</th>\n",
       "      <td>▁在</td>\n",
       "      <td></td>\n",
       "      <td></td>\n",
       "      <td></td>\n",
       "    </tr>\n",
       "    <tr>\n",
       "      <th>1</th>\n",
       "      <td>▁现代</td>\n",
       "      <td>▁</td>\n",
       "      <td>▁中国</td>\n",
       "      <td>▁此</td>\n",
       "    </tr>\n",
       "    <tr>\n",
       "      <th>2</th>\n",
       "      <td>▁印刷</td>\n",
       "      <td>▁的</td>\n",
       "      <td>▁</td>\n",
       "      <td>▁世界</td>\n",
       "    </tr>\n",
       "    <tr>\n",
       "      <th>3</th>\n",
       "      <td>▁媒体</td>\n",
       "      <td>厂</td>\n",
       "      <td>业</td>\n",
       "      <td>▁的</td>\n",
       "    </tr>\n",
       "    <tr>\n",
       "      <th>4</th>\n",
       "      <td>▁,</td>\n",
       "      <td>▁中</td>\n",
       "      <td>▁上</td>\n",
       "      <td>▁的</td>\n",
       "    </tr>\n",
       "    <tr>\n",
       "      <th>5</th>\n",
       "      <td>▁卡</td>\n",
       "      <td>▁</td>\n",
       "      <td>▁也</td>\n",
       "      <td>▁在</td>\n",
       "    </tr>\n",
       "    <tr>\n",
       "      <th>6</th>\n",
       "      <td>通</td>\n",
       "      <td>通</td>\n",
       "      <td>洛</td>\n",
       "      <td>内</td>\n",
       "    </tr>\n",
       "    <tr>\n",
       "      <th>7</th>\n",
       "      <td>▁是</td>\n",
       "      <td>▁的</td>\n",
       "      <td>▁</td>\n",
       "      <td>▁公司</td>\n",
       "    </tr>\n",
       "    <tr>\n",
       "      <th>8</th>\n",
       "      <td>▁一</td>\n",
       "      <td>▁一</td>\n",
       "      <td>▁</td>\n",
       "      <td>▁由</td>\n",
       "    </tr>\n",
       "    <tr>\n",
       "      <th>9</th>\n",
       "      <td>▁种</td>\n",
       "      <td>▁种</td>\n",
       "      <td>▁部</td>\n",
       "      <td>▁套</td>\n",
       "    </tr>\n",
       "    <tr>\n",
       "      <th>10</th>\n",
       "      <td>▁通常</td>\n",
       "      <td>▁</td>\n",
       "      <td>▁新</td>\n",
       "      <td>▁用</td>\n",
       "    </tr>\n",
       "    <tr>\n",
       "      <th>11</th>\n",
       "      <td>▁有</td>\n",
       "      <td>▁的</td>\n",
       "      <td>▁使用</td>\n",
       "      <td>▁</td>\n",
       "    </tr>\n",
       "    <tr>\n",
       "      <th>12</th>\n",
       "      <td>▁</td>\n",
       "      <td>▁</td>\n",
       "      <td>用</td>\n",
       "      <td>▁一</td>\n",
       "    </tr>\n",
       "    <tr>\n",
       "      <th>13</th>\n",
       "      <td>幽</td>\n",
       "      <td>“</td>\n",
       "      <td>&lt;unk&gt;</td>\n",
       "      <td>色</td>\n",
       "    </tr>\n",
       "    <tr>\n",
       "      <th>14</th>\n",
       "      <td>默</td>\n",
       "      <td>默</td>\n",
       "      <td>灵</td>\n",
       "      <td>禁</td>\n",
       "    </tr>\n",
       "    <tr>\n",
       "      <th>15</th>\n",
       "      <td>▁</td>\n",
       "      <td>▁的</td>\n",
       "      <td>感</td>\n",
       "      <td>▁</td>\n",
       "    </tr>\n",
       "    <tr>\n",
       "      <th>16</th>\n",
       "      <td>色</td>\n",
       "      <td>&lt;unk&gt;</td>\n",
       "      <td>幽</td>\n",
       "      <td>色</td>\n",
       "    </tr>\n",
       "    <tr>\n",
       "      <th>17</th>\n",
       "      <td></td>\n",
       "      <td>情</td>\n",
       "      <td>调</td>\n",
       "      <td>感</td>\n",
       "    </tr>\n",
       "  </tbody>\n",
       "</table>\n",
       "</div>"
      ],
      "text/plain": [
       "   orig pred_1 pred_2 pred_3\n",
       "0    ▁在                     \n",
       "1   ▁现代      ▁    ▁中国     ▁此\n",
       "2   ▁印刷     ▁的      ▁    ▁世界\n",
       "3   ▁媒体      厂      业     ▁的\n",
       "4    ▁,     ▁中     ▁上     ▁的\n",
       "5    ▁卡      ▁     ▁也     ▁在\n",
       "6     通      通      洛      内\n",
       "7    ▁是     ▁的      ▁    ▁公司\n",
       "8    ▁一     ▁一      ▁     ▁由\n",
       "9    ▁种     ▁种     ▁部     ▁套\n",
       "10  ▁通常      ▁     ▁新     ▁用\n",
       "11   ▁有     ▁的    ▁使用      ▁\n",
       "12    ▁      ▁      用     ▁一\n",
       "13    幽      “  <unk>      色\n",
       "14    默      默      灵      禁\n",
       "15    ▁     ▁的      感      ▁\n",
       "16    色  <unk>      幽      色\n",
       "17           情      调      感"
      ]
     },
     "execution_count": 32,
     "metadata": {},
     "output_type": "execute_result"
    }
   ],
   "source": [
    "eval(\"在 现代 印刷 媒体 ， 卡通 是 一 种 通常 有 幽默 色\")"
   ]
  },
  {
   "cell_type": "code",
   "execution_count": 33,
   "metadata": {},
   "outputs": [
    {
     "data": {
      "text/html": [
       "<div>\n",
       "<style scoped>\n",
       "    .dataframe tbody tr th:only-of-type {\n",
       "        vertical-align: middle;\n",
       "    }\n",
       "\n",
       "    .dataframe tbody tr th {\n",
       "        vertical-align: top;\n",
       "    }\n",
       "\n",
       "    .dataframe thead th {\n",
       "        text-align: right;\n",
       "    }\n",
       "</style>\n",
       "<table border=\"1\" class=\"dataframe\">\n",
       "  <thead>\n",
       "    <tr style=\"text-align: right;\">\n",
       "      <th></th>\n",
       "      <th>orig</th>\n",
       "      <th>pred_1</th>\n",
       "      <th>pred_2</th>\n",
       "      <th>pred_3</th>\n",
       "    </tr>\n",
       "  </thead>\n",
       "  <tbody>\n",
       "    <tr>\n",
       "      <th>0</th>\n",
       "      <td>▁对</td>\n",
       "      <td></td>\n",
       "      <td></td>\n",
       "      <td></td>\n",
       "    </tr>\n",
       "    <tr>\n",
       "      <th>1</th>\n",
       "      <td>▁中国</td>\n",
       "      <td>▁</td>\n",
       "      <td>立</td>\n",
       "      <td>▁此</td>\n",
       "    </tr>\n",
       "    <tr>\n",
       "      <th>2</th>\n",
       "      <td>▁与</td>\n",
       "      <td>▁的</td>\n",
       "      <td>▁大陆</td>\n",
       "      <td>▁人</td>\n",
       "    </tr>\n",
       "    <tr>\n",
       "      <th>3</th>\n",
       "      <td>▁南</td>\n",
       "      <td>▁中国</td>\n",
       "      <td>▁日本</td>\n",
       "      <td>▁美国</td>\n",
       "    </tr>\n",
       "    <tr>\n",
       "      <th>4</th>\n",
       "      <td>洋</td>\n",
       "      <td>韩</td>\n",
       "      <td>▁韩</td>\n",
       "      <td>洋</td>\n",
       "    </tr>\n",
       "    <tr>\n",
       "      <th>5</th>\n",
       "      <td>▁发动</td>\n",
       "      <td>▁的</td>\n",
       "      <td>▁地区</td>\n",
       "      <td>▁各国</td>\n",
       "    </tr>\n",
       "    <tr>\n",
       "      <th>6</th>\n",
       "      <td>▁全面</td>\n",
       "      <td>▁的</td>\n",
       "      <td>▁战争</td>\n",
       "      <td>▁</td>\n",
       "    </tr>\n",
       "    <tr>\n",
       "      <th>7</th>\n",
       "      <td>▁的</td>\n",
       "      <td>▁战争</td>\n",
       "      <td>▁的</td>\n",
       "      <td>▁攻击</td>\n",
       "    </tr>\n",
       "    <tr>\n",
       "      <th>8</th>\n",
       "      <td>▁战争</td>\n",
       "      <td>▁战争</td>\n",
       "      <td>▁</td>\n",
       "      <td>▁攻击</td>\n",
       "    </tr>\n",
       "    <tr>\n",
       "      <th>9</th>\n",
       "      <td>▁。</td>\n",
       "      <td>▁,</td>\n",
       "      <td>▁。</td>\n",
       "      <td>▁、</td>\n",
       "    </tr>\n",
       "    <tr>\n",
       "      <th>10</th>\n",
       "      <td>▁1990</td>\n",
       "      <td>▁在</td>\n",
       "      <td>▁</td>\n",
       "      <td>▁而</td>\n",
       "    </tr>\n",
       "    <tr>\n",
       "      <th>11</th>\n",
       "      <td>▁年代</td>\n",
       "      <td>年</td>\n",
       "      <td>▁年代</td>\n",
       "      <td>-19</td>\n",
       "    </tr>\n",
       "    <tr>\n",
       "      <th>12</th>\n",
       "      <td>▁,</td>\n",
       "      <td>▁,</td>\n",
       "      <td>▁初</td>\n",
       "      <td>▁末</td>\n",
       "    </tr>\n",
       "    <tr>\n",
       "      <th>13</th>\n",
       "      <td>▁中</td>\n",
       "      <td>▁中国</td>\n",
       "      <td>▁</td>\n",
       "      <td>▁在</td>\n",
       "    </tr>\n",
       "    <tr>\n",
       "      <th>14</th>\n",
       "      <td></td>\n",
       "      <td>▁美</td>\n",
       "      <td>▁越</td>\n",
       "      <td>▁</td>\n",
       "    </tr>\n",
       "  </tbody>\n",
       "</table>\n",
       "</div>"
      ],
      "text/plain": [
       "     orig pred_1 pred_2 pred_3\n",
       "0      ▁对                     \n",
       "1     ▁中国      ▁      立     ▁此\n",
       "2      ▁与     ▁的    ▁大陆     ▁人\n",
       "3      ▁南    ▁中国    ▁日本    ▁美国\n",
       "4       洋      韩     ▁韩      洋\n",
       "5     ▁发动     ▁的    ▁地区    ▁各国\n",
       "6     ▁全面     ▁的    ▁战争      ▁\n",
       "7      ▁的    ▁战争     ▁的    ▁攻击\n",
       "8     ▁战争    ▁战争      ▁    ▁攻击\n",
       "9      ▁。     ▁,     ▁。     ▁、\n",
       "10  ▁1990     ▁在      ▁     ▁而\n",
       "11    ▁年代      年    ▁年代    -19\n",
       "12     ▁,     ▁,     ▁初     ▁末\n",
       "13     ▁中    ▁中国      ▁     ▁在\n",
       "14            ▁美     ▁越      ▁"
      ]
     },
     "execution_count": 33,
     "metadata": {},
     "output_type": "execute_result"
    }
   ],
   "source": [
    "eval(\"对 中国 与 南洋 发动 全面 的 战争 。 1990 年代 ， 中\")"
   ]
  },
  {
   "cell_type": "markdown",
   "metadata": {},
   "source": [
    "### Generate Sentence"
   ]
  },
  {
   "cell_type": "code",
   "execution_count": 34,
   "metadata": {},
   "outputs": [
    {
     "name": "stdout",
     "output_type": "stream",
     "text": [
      "[0.05208 0.03808 0.03358] 0.0018540656\n",
      "德国 是 世界 大国 之 一 , 其 国内 生产 总 值 以 国际 汇率 为主 , 只有\n",
      "[0.06039 0.03714 0.02512] 0.0021891166\n",
      "德国 是 世界 大国 之 一 , 其 国内 生产 总 值 以 国际 汇率 为主 , 只有 美\n",
      "[0.08239 0.05494 0.04991] 0.08238611\n",
      "德国 是 世界 大国 之 一 , 其 国内 生产 总 值 以 国际 汇率 为主 , 只有 美 、\n",
      "[0.21    0.15759 0.10468] 0.022674112\n",
      "德国 是 世界 大国 之 一 , 其 国内 生产 总 值 以 国际 汇率 为主 , 只有 美 、 苏\n",
      "[0.5692  0.18353 0.07052] 0.07052022\n",
      "德国 是 世界 大国 之 一 , 其 国内 生产 总 值 以 国际 汇率 为主 , 只有 美 、 苏 等\n",
      "[0.58475 0.06071 0.03751] 0.0021627087\n",
      "德国 是 世界 大国 之 一 , 其 国内 生产 总 值 以 国际 汇率 为主 , 只有 美 、 苏 等 强\n",
      "[0.89562 0.01159 0.00447] 0.8956195\n",
      "德国 是 世界 大国 之 一 , 其 国内 生产 总 值 以 国际 汇率 为主 , 只有 美 、 苏 等 强国\n",
      "[0.14029 0.11542 0.10918] 0.00020717917\n",
      "德国 是 世界 大国 之 一 , 其 国内 生产 总 值 以 国际 汇率 为主 , 只有 美 、 苏 等 强国 要求\n",
      "[0.03651 0.02984 0.01996] 0.00032998098\n",
      "德国 是 世界 大国 之 一 , 其 国内 生产 总 值 以 国际 汇率 为主 , 只有 美 、 苏 等 强国 要求 授予\n",
      "[0.09184 0.04377 0.03593] 0.0038169057\n",
      "德国 是 世界 大国 之 一 , 其 国内 生产 总 值 以 国际 汇率 为主 , 只有 美 、 苏 等 强国 要求 授予 在\n",
      "[0.06473 0.05359 0.04003] 4.9145165e-05\n",
      "德国 是 世界 大国 之 一 , 其 国内 生产 总 值 以 国际 汇率 为主 , 只有 美 、 苏 等 强国 要求 授予 在那\n",
      "[0.21854 0.09095 0.08428] 0.0014352486\n",
      "德国 是 世界 大国 之 一 , 其 国内 生产 总 值 以 国际 汇率 为主 , 只有 美 、 苏 等 强国 要求 授予 在那东\n",
      "[0.21867 0.1402  0.09943] 0.21866547\n",
      "德国 是 世界 大国 之 一 , 其 国内 生产 总 值 以 国际 汇率 为主 , 只有 美 、 苏 等 强国 要求 授予 在那东洋\n",
      "[0.29311 0.05159 0.05074] 0.00010989295\n",
      "德国 是 世界 大国 之 一 , 其 国内 生产 总 值 以 国际 汇率 为主 , 只有 美 、 苏 等 强国 要求 授予 在那东洋 没有\n",
      "[0.14781 0.04486 0.01517] 0.044862393\n",
      "德国 是 世界 大国 之 一 , 其 国内 生产 总 值 以 国际 汇率 为主 , 只有 美 、 苏 等 强国 要求 授予 在那东洋 没有 \n",
      "[0.05317 0.04873 0.04433] 0.00081264676\n",
      "德国 是 世界 大国 之 一 , 其 国内 生产 总 值 以 国际 汇率 为主 , 只有 美 、 苏 等 强国 要求 授予 在那东洋 没有 耐\n",
      "[0.20135 0.1561  0.1546 ] 0.20134673\n",
      "德国 是 世界 大国 之 一 , 其 国内 生产 总 值 以 国际 汇率 为主 , 只有 美 、 苏 等 强国 要求 授予 在那东洋 没有 耐久\n",
      "[0.40911 0.29263 0.02517] 0.024239274\n",
      "德国 是 世界 大国 之 一 , 其 国内 生产 总 值 以 国际 汇率 为主 , 只有 美 、 苏 等 强国 要求 授予 在那东洋 没有 耐久 \n",
      "[0.06648 0.05466 0.04945] 8.3579645e-05\n",
      "德国 是 世界 大国 之 一 , 其 国内 生产 总 值 以 国际 汇率 为主 , 只有 美 、 苏 等 强国 要求 授予 在那东洋 没有 耐久 Q\n",
      "[0.31973 0.1141  0.03465] 0.03465395\n",
      "德国 是 世界 大国 之 一 , 其 国内 生产 总 值 以 国际 汇率 为主 , 只有 美 、 苏 等 强国 要求 授予 在那东洋 没有 耐久 QP\n",
      "[0.13138 0.07013 0.06633] 0.13137601\n",
      "德国 是 世界 大国 之 一 , 其 国内 生产 总 值 以 国际 汇率 为主 , 只有 美 、 苏 等 强国 要求 授予 在那东洋 没有 耐久 QPI\n",
      "[0.23511 0.09461 0.09319] 0.015935212\n",
      "德国 是 世界 大国 之 一 , 其 国内 生产 总 值 以 国际 汇率 为主 , 只有 美 、 苏 等 强国 要求 授予 在那东洋 没有 耐久 QPIP\n",
      "[0.12446 0.10458 0.09902] 0.018145522\n",
      "德国 是 世界 大国 之 一 , 其 国内 生产 总 值 以 国际 汇率 为主 , 只有 美 、 苏 等 强国 要求 授予 在那东洋 没有 耐久 QPIPI\n",
      "[0.1645  0.08734 0.07928] 0.023826925\n",
      "德国 是 世界 大国 之 一 , 其 国内 生产 总 值 以 国际 汇率 为主 , 只有 美 、 苏 等 强国 要求 授予 在那东洋 没有 耐久 QPIPIA\n",
      "[0.21681 0.0854  0.08236] 0.00014866672\n",
      "德国 是 世界 大国 之 一 , 其 国内 生产 总 值 以 国际 汇率 为主 , 只有 美 、 苏 等 强国 要求 授予 在那东洋 没有 耐久 QPIPIA 优先\n"
     ]
    }
   ],
   "source": [
    "import random\n",
    "\n",
    "def generate_text(tokens, N=25):    \n",
    "    preds = []          \n",
    "    for i in range(N):   \n",
    "        learner.model[0].reset()          \n",
    "        logits, _, _ = learner.model(T(tokens).unsqueeze(1))\n",
    "        probs = F.softmax(logits).data.cpu().numpy()[-1, :]\n",
    "        candidates = np.argsort(probs)[::-1]\n",
    "        while True:\n",
    "            # Sampling\n",
    "            candidate = np.random.choice(candidates, p=probs[candidates])\n",
    "            # Greedy\n",
    "            # candidate = np.argmax(probs[2:]) + 2\n",
    "            if candidate > 2:\n",
    "                print(probs[candidates][:3], probs[candidate])\n",
    "                preds.append(candidate)\n",
    "                break\n",
    "        # for candidate in candidates:\n",
    "        #     if candidate > 1 and ord(itos[candidate]) > 255 and (random.random() < probs[candidate] or probs[candidate] < 0.2):\n",
    "        #         print(probs[candidate])\n",
    "        #         preds.append(candidate)\n",
    "        #         break\n",
    "        # tokens  = [preds[-1]]# \n",
    "        tokens.append(int(preds[-1]))\n",
    "        # tokens = [:1]\n",
    "        print(sp.DecodeIds(tokens)) \n",
    "    \n",
    "generate_text(sp.EncodeAsIds(\"德国 是 世界 大国 之 一 ， 其 国内 生产 总 值 以 国际 汇率 为主 ， \"))"
   ]
  },
  {
   "cell_type": "code",
   "execution_count": 35,
   "metadata": {},
   "outputs": [
    {
     "name": "stdout",
     "output_type": "stream",
     "text": [
      "[0.73961 0.15849 0.02406] 0.7396053\n",
      "在 现代 印刷 媒体 , 卡通 是 一种 通常 有 幽默 色情\n",
      "[0.49789 0.03914 0.02247] 4.291249e-05\n",
      "在 现代 印刷 媒体 , 卡通 是 一种 通常 有 幽默 色情 走\n",
      "[0.27951 0.14506 0.07668] 0.0016123268\n",
      "在 现代 印刷 媒体 , 卡通 是 一种 通常 有 幽默 色情 走状\n",
      "[0.58237 0.07925 0.03394] 0.58237445\n",
      "在 现代 印刷 媒体 , 卡通 是 一种 通常 有 幽默 色情 走状 的\n",
      "[0.13145 0.02824 0.01819] 0.0047878963\n",
      "在 现代 印刷 媒体 , 卡通 是 一种 通常 有 幽默 色情 走状 的 大\n",
      "[0.11681 0.04444 0.03019] 0.001309693\n",
      "在 现代 印刷 媒体 , 卡通 是 一种 通常 有 幽默 色情 走状 的 大宗\n",
      "[0.24502 0.17397 0.06803] 0.029720532\n",
      "在 现代 印刷 媒体 , 卡通 是 一种 通常 有 幽默 色情 走状 的 大宗 作品\n",
      "[0.48043 0.44047 0.01074] 0.48042804\n",
      "在 现代 印刷 媒体 , 卡通 是 一种 通常 有 幽默 色情 走状 的 大宗 作品 ,\n",
      "[0.06851 0.03699 0.03572] 5.338688e-05\n",
      "在 现代 印刷 媒体 , 卡通 是 一种 通常 有 幽默 色情 走状 的 大宗 作品 , 视觉\n",
      "[0.195   0.1177  0.09199] 0.0020074637\n",
      "在 现代 印刷 媒体 , 卡通 是 一种 通常 有 幽默 色情 走状 的 大宗 作品 , 视觉 人物\n",
      "[0.06103 0.05135 0.03979] 0.016009362\n",
      "在 现代 印刷 媒体 , 卡通 是 一种 通常 有 幽默 色情 走状 的 大宗 作品 , 视觉 人物 如\n",
      "[0.16485 0.01436 0.00962] 0.014357605\n",
      "在 现代 印刷 媒体 , 卡通 是 一种 通常 有 幽默 色情 走状 的 大宗 作品 , 视觉 人物 如 :\n",
      "[0.20752 0.02401 0.01001] 0.0021805856\n",
      "在 现代 印刷 媒体 , 卡通 是 一种 通常 有 幽默 色情 走状 的 大宗 作品 , 视觉 人物 如 : 巴\n",
      "[0.09083 0.07217 0.06873] 0.014156991\n",
      "在 现代 印刷 媒体 , 卡通 是 一种 通常 有 幽默 色情 走状 的 大宗 作品 , 视觉 人物 如 : 巴蒂\n",
      "[0.21763 0.19358 0.14622] 0.14621592\n",
      "在 现代 印刷 媒体 , 卡通 是 一种 通常 有 幽默 色情 走状 的 大宗 作品 , 视觉 人物 如 : 巴蒂尔\n",
      "[0.45882 0.18352 0.04896] 0.45882216\n",
      "在 现代 印刷 媒体 , 卡通 是 一种 通常 有 幽默 色情 走状 的 大宗 作品 , 视觉 人物 如 : 巴蒂尔 ·\n",
      "[0.1051  0.02476 0.02238] 0.0070469757\n",
      "在 现代 印刷 媒体 , 卡通 是 一种 通常 有 幽默 色情 走状 的 大宗 作品 , 视觉 人物 如 : 巴蒂尔 · 梅\n",
      "[0.07888 0.04838 0.03022] 0.015211673\n",
      "在 现代 印刷 媒体 , 卡通 是 一种 通常 有 幽默 色情 走状 的 大宗 作品 , 视觉 人物 如 : 巴蒂尔 · 梅莉\n",
      "[0.3137  0.08034 0.07523] 0.023005165\n",
      "在 现代 印刷 媒体 , 卡通 是 一种 通常 有 幽默 色情 走状 的 大宗 作品 , 视觉 人物 如 : 巴蒂尔 · 梅莉达\n",
      "[0.42797 0.10222 0.09607] 0.42797074\n",
      "在 现代 印刷 媒体 , 卡通 是 一种 通常 有 幽默 色情 走状 的 大宗 作品 , 视觉 人物 如 : 巴蒂尔 · 梅莉达 、\n",
      "[0.10793 0.02219 0.02097] 0.0012385602\n",
      "在 现代 印刷 媒体 , 卡通 是 一种 通常 有 幽默 色情 走状 的 大宗 作品 , 视觉 人物 如 : 巴蒂尔 · 梅莉达 、 图\n",
      "[0.06688 0.05613 0.04146] 0.056134317\n",
      "在 现代 印刷 媒体 , 卡通 是 一种 通常 有 幽默 色情 走状 的 大宗 作品 , 视觉 人物 如 : 巴蒂尔 · 梅莉达 、 图拉\n",
      "[0.10844 0.08505 0.05534] 0.0003864557\n",
      "在 现代 印刷 媒体 , 卡通 是 一种 通常 有 幽默 色情 走状 的 大宗 作品 , 视觉 人物 如 : 巴蒂尔 · 梅莉达 、 图拉一\n",
      "[0.63483 0.04525 0.0318 ] 0.6348301\n",
      "在 现代 印刷 媒体 , 卡通 是 一种 通常 有 幽默 色情 走状 的 大宗 作品 , 视觉 人物 如 : 巴蒂尔 · 梅莉达 、 图拉一 、\n",
      "[0.12932 0.03    0.02042] 0.008557242\n",
      "在 现代 印刷 媒体 , 卡通 是 一种 通常 有 幽默 色情 走状 的 大宗 作品 , 视觉 人物 如 : 巴蒂尔 · 梅莉达 、 图拉一 、 亚\n"
     ]
    }
   ],
   "source": [
    "generate_text(sp.EncodeAsIds(\"在 现代 印刷 媒体 ， 卡通 是 一种 通常 有 幽默 色 \"))"
   ]
  },
  {
   "cell_type": "code",
   "execution_count": 36,
   "metadata": {},
   "outputs": [
    {
     "name": "stdout",
     "output_type": "stream",
     "text": [
      "[0.33627 0.22675 0.03861] 0.33627397\n",
      "日本 后来 成为 第二次 世界大战 的 轴心国 之一 , 对 中国 与 南洋 发动 全面 的 战争 ,\n",
      "[0.04486 0.04287 0.0307 ] 2.1041302e-05\n",
      "日本 后来 成为 第二次 世界大战 的 轴心国 之一 , 对 中国 与 南洋 发动 全面 的 战争 , 数百\n",
      "[0.22174 0.18803 0.18428] 0.22174242\n",
      "日本 后来 成为 第二次 世界大战 的 轴心国 之一 , 对 中国 与 南洋 发动 全面 的 战争 , 数百 人\n",
      "[0.06325 0.05569 0.05105] 0.0025217775\n",
      "日本 后来 成为 第二次 世界大战 的 轴心国 之一 , 对 中国 与 南洋 发动 全面 的 战争 , 数百 人 逃\n",
      "[0.18111 0.1136  0.10861] 0.108613774\n",
      "日本 后来 成为 第二次 世界大战 的 轴心国 之一 , 对 中国 与 南洋 发动 全面 的 战争 , 数百 人 逃往\n",
      "[0.16376 0.10607 0.05897] 3.442174e-05\n",
      "日本 后来 成为 第二次 世界大战 的 轴心国 之一 , 对 中国 与 南洋 发动 全面 的 战争 , 数百 人 逃往 两岸\n",
      "[0.33129 0.2124  0.02399] 0.21240017\n",
      "日本 后来 成为 第二次 世界大战 的 轴心国 之一 , 对 中国 与 南洋 发动 全面 的 战争 , 数百 人 逃往 两岸 。\n",
      "[0.06641 0.044   0.02127] 0.0009601754\n",
      "日本 后来 成为 第二次 世界大战 的 轴心国 之一 , 对 中国 与 南洋 发动 全面 的 战争 , 数百 人 逃往 两岸 。 1972\n",
      "[0.99051 0.00269 0.00211] 0.99051476\n",
      "日本 后来 成为 第二次 世界大战 的 轴心国 之一 , 对 中国 与 南洋 发动 全面 的 战争 , 数百 人 逃往 两岸 。 1972年\n",
      "[0.30696 0.03693 0.03622] 0.036181603\n",
      "日本 后来 成为 第二次 世界大战 的 轴心国 之一 , 对 中国 与 南洋 发动 全面 的 战争 , 数百 人 逃往 两岸 。 1972年 5\n",
      "[0.9973  0.0018  0.00016] 0.9973036\n",
      "日本 后来 成为 第二次 世界大战 的 轴心国 之一 , 对 中国 与 南洋 发动 全面 的 战争 , 数百 人 逃往 两岸 。 1972年 5月\n",
      "[0.27418 0.03944 0.02361] 0.0165032\n",
      "日本 后来 成为 第二次 世界大战 的 轴心国 之一 , 对 中国 与 南洋 发动 全面 的 战争 , 数百 人 逃往 两岸 。 1972年 5月 18\n",
      "[0.99558 0.00254 0.00052] 0.9955759\n",
      "日本 后来 成为 第二次 世界大战 的 轴心国 之一 , 对 中国 与 南洋 发动 全面 的 战争 , 数百 人 逃往 两岸 。 1972年 5月 18日\n",
      "[0.77704 0.0125  0.01175] 0.77704054\n",
      "日本 后来 成为 第二次 世界大战 的 轴心国 之一 , 对 中国 与 南洋 发动 全面 的 战争 , 数百 人 逃往 两岸 。 1972年 5月 18日 ,\n",
      "[0.08341 0.06199 0.05359] 0.0011423338\n",
      "日本 后来 成为 第二次 世界大战 的 轴心国 之一 , 对 中国 与 南洋 发动 全面 的 战争 , 数百 人 逃往 两岸 。 1972年 5月 18日 , 白\n",
      "[0.09269 0.06369 0.04308] 0.005729298\n",
      "日本 后来 成为 第二次 世界大战 的 轴心国 之一 , 对 中国 与 南洋 发动 全面 的 战争 , 数百 人 逃往 两岸 。 1972年 5月 18日 , 白莲\n",
      "[0.15324 0.07927 0.06922] 0.0005347534\n",
      "日本 后来 成为 第二次 世界大战 的 轴心国 之一 , 对 中国 与 南洋 发动 全面 的 战争 , 数百 人 逃往 两岸 。 1972年 5月 18日 , 白莲 照\n",
      "[0.13601 0.04575 0.04388] 0.043877568\n",
      "日本 后来 成为 第二次 世界大战 的 轴心国 之一 , 对 中国 与 南洋 发动 全面 的 战争 , 数百 人 逃往 两岸 。 1972年 5月 18日 , 白莲 照料\n",
      "[0.05821 0.02393 0.02362] 0.00016619948\n",
      "日本 后来 成为 第二次 世界大战 的 轴心国 之一 , 对 中国 与 南洋 发动 全面 的 战争 , 数百 人 逃往 两岸 。 1972年 5月 18日 , 白莲 照料 部分\n",
      "[0.05985 0.03637 0.0225 ] 0.004910264\n",
      "日本 后来 成为 第二次 世界大战 的 轴心国 之一 , 对 中国 与 南洋 发动 全面 的 战争 , 数百 人 逃往 两岸 。 1972年 5月 18日 , 白莲 照料 部分 来自\n",
      "[0.11745 0.11614 0.0901 ] 0.0004437109\n",
      "日本 后来 成为 第二次 世界大战 的 轴心国 之一 , 对 中国 与 南洋 发动 全面 的 战争 , 数百 人 逃往 两岸 。 1972年 5月 18日 , 白莲 照料 部分 来自 林\n",
      "[0.05654 0.05654 0.05166] 0.02748016\n",
      "日本 后来 成为 第二次 世界大战 的 轴心国 之一 , 对 中国 与 南洋 发动 全面 的 战争 , 数百 人 逃往 两岸 。 1972年 5月 18日 , 白莲 照料 部分 来自 林森\n",
      "[0.14207 0.0896  0.04189] 0.019414585\n",
      "日本 后来 成为 第二次 世界大战 的 轴心国 之一 , 对 中国 与 南洋 发动 全面 的 战争 , 数百 人 逃往 两岸 。 1972年 5月 18日 , 白莲 照料 部分 来自 林森镇\n",
      "[0.46041 0.08499 0.03514] 0.08498848\n",
      "日本 后来 成为 第二次 世界大战 的 轴心国 之一 , 对 中国 与 南洋 发动 全面 的 战争 , 数百 人 逃往 两岸 。 1972年 5月 18日 , 白莲 照料 部分 来自 林森镇 ,\n",
      "[0.04202 0.03314 0.03273] 0.004584407\n",
      "日本 后来 成为 第二次 世界大战 的 轴心国 之一 , 对 中国 与 南洋 发动 全面 的 战争 , 数百 人 逃往 两岸 。 1972年 5月 18日 , 白莲 照料 部分 来自 林森镇 , 两\n"
     ]
    }
   ],
   "source": [
    "generate_text(sp.EncodeAsIds(\"日本 后来 成为 第二次 世界大战 的 轴心国 之一 ， 对 中国 与 南洋 发动 全面 的 战争\"))"
   ]
  },
  {
   "cell_type": "code",
   "execution_count": 37,
   "metadata": {},
   "outputs": [
    {
     "name": "stdout",
     "output_type": "stream",
     "text": [
      "[0.10323 0.07297 0.06288] 5.2419236e-05\n",
      "特朗普 政府 以为 加征 关税 会 令 中国 屈服 , 这种 策略 肯定 会 适得其反 , 如果 就业 和 财富 靠\n",
      "[0.09258 0.02274 0.02261] 0.0020576685\n",
      "特朗普 政府 以为 加征 关税 会 令 中国 屈服 , 这种 策略 肯定 会 适得其反 , 如果 就业 和 财富 靠 有\n",
      "[0.12179 0.01353 0.01289] 9.155701e-05\n",
      "特朗普 政府 以为 加征 关税 会 令 中国 屈服 , 这种 策略 肯定 会 适得其反 , 如果 就业 和 财富 靠 有 离开\n",
      "[0.16025 0.09521 0.06819] 2.8413026e-05\n",
      "特朗普 政府 以为 加征 关税 会 令 中国 屈服 , 这种 策略 肯定 会 适得其反 , 如果 就业 和 财富 靠 有 离开子\n",
      "[0.24119 0.21934 0.04189] 0.2411898\n",
      "特朗普 政府 以为 加征 关税 会 令 中国 屈服 , 这种 策略 肯定 会 适得其反 , 如果 就业 和 财富 靠 有 离开子 的\n",
      "[0.0854  0.07665 0.04456] 0.034043938\n",
      "特朗普 政府 以为 加征 关税 会 令 中国 屈服 , 这种 策略 肯定 会 适得其反 , 如果 就业 和 财富 靠 有 离开子 的 能力\n",
      "[0.69723 0.02978 0.01258] 0.010828357\n",
      "特朗普 政府 以为 加征 关税 会 令 中国 屈服 , 这种 策略 肯定 会 适得其反 , 如果 就业 和 财富 靠 有 离开子 的 能力 而\n",
      "[0.08722 0.05934 0.0205 ] 0.016003415\n",
      "特朗普 政府 以为 加征 关税 会 令 中国 屈服 , 这种 策略 肯定 会 适得其反 , 如果 就业 和 财富 靠 有 离开子 的 能力 而已\n",
      "[0.50558 0.41094 0.02946] 0.0001391696\n",
      "特朗普 政府 以为 加征 关税 会 令 中国 屈服 , 这种 策略 肯定 会 适得其反 , 如果 就业 和 财富 靠 有 离开子 的 能力 而已 ——\n",
      "[0.0689  0.0396  0.02074] 0.0004129345\n",
      "特朗普 政府 以为 加征 关税 会 令 中国 屈服 , 这种 策略 肯定 会 适得其反 , 如果 就业 和 财富 靠 有 离开子 的 能力 而已 —— 中央\n",
      "[0.22096 0.06184 0.0326 ] 0.0014816973\n",
      "特朗普 政府 以为 加征 关税 会 令 中国 屈服 , 这种 策略 肯定 会 适得其反 , 如果 就业 和 财富 靠 有 离开子 的 能力 而已 —— 中央 上\n",
      "[0.09887 0.05429 0.04221] 0.00090278697\n",
      "特朗普 政府 以为 加征 关税 会 令 中国 屈服 , 这种 策略 肯定 会 适得其反 , 如果 就业 和 财富 靠 有 离开子 的 能力 而已 —— 中央 上 行\n",
      "[0.0569  0.05401 0.04177] 0.00020741615\n",
      "特朗普 政府 以为 加征 关税 会 令 中国 屈服 , 这种 策略 肯定 会 适得其反 , 如果 就业 和 财富 靠 有 离开子 的 能力 而已 —— 中央 上 行 双方\n",
      "[0.0823  0.0612  0.05458] 0.015473941\n",
      "特朗普 政府 以为 加征 关税 会 令 中国 屈服 , 这种 策略 肯定 会 适得其反 , 如果 就业 和 财富 靠 有 离开子 的 能力 而已 —— 中央 上 行 双方 对\n",
      "[0.18828 0.10896 0.05603] 3.50065e-05\n",
      "特朗普 政府 以为 加征 关税 会 令 中国 屈服 , 这种 策略 肯定 会 适得其反 , 如果 就业 和 财富 靠 有 离开子 的 能力 而已 —— 中央 上 行 双方 对 法案\n",
      "[0.29901 0.03326 0.03048] 0.002734007\n",
      "特朗普 政府 以为 加征 关税 会 令 中国 屈服 , 这种 策略 肯定 会 适得其反 , 如果 就业 和 财富 靠 有 离开子 的 能力 而已 —— 中央 上 行 双方 对 法案 将\n",
      "[0.27621 0.06169 0.03686] 0.0006618172\n",
      "特朗普 政府 以为 加征 关税 会 令 中国 屈服 , 这种 策略 肯定 会 适得其反 , 如果 就业 和 财富 靠 有 离开子 的 能力 而已 —— 中央 上 行 双方 对 法案 将 打\n",
      "[0.11674 0.10742 0.05773] 0.0030630305\n",
      "特朗普 政府 以为 加征 关税 会 令 中国 屈服 , 这种 策略 肯定 会 适得其反 , 如果 就业 和 财富 靠 有 离开子 的 能力 而已 —— 中央 上 行 双方 对 法案 将 打工\n",
      "[0.22992 0.15331 0.06191] 0.15331139\n",
      "特朗普 政府 以为 加征 关税 会 令 中国 屈服 , 这种 策略 肯定 会 适得其反 , 如果 就业 和 财富 靠 有 离开子 的 能力 而已 —— 中央 上 行 双方 对 法案 将 打工 。\n",
      "[0.0707  0.04606 0.02249] 0.0057971305\n",
      "特朗普 政府 以为 加征 关税 会 令 中国 屈服 , 这种 策略 肯定 会 适得其反 , 如果 就业 和 财富 靠 有 离开子 的 能力 而已 —— 中央 上 行 双方 对 法案 将 打工 。 中国\n",
      "[0.10218 0.08366 0.05878] 0.057782184\n",
      "特朗普 政府 以为 加征 关税 会 令 中国 屈服 , 这种 策略 肯定 会 适得其反 , 如果 就业 和 财富 靠 有 离开子 的 能力 而已 —— 中央 上 行 双方 对 法案 将 打工 。 中国 共产党\n",
      "[0.09468 0.06038 0.04439] 0.016826222\n",
      "特朗普 政府 以为 加征 关税 会 令 中国 屈服 , 这种 策略 肯定 会 适得其反 , 如果 就业 和 财富 靠 有 离开子 的 能力 而已 —— 中央 上 行 双方 对 法案 将 打工 。 中国 共产党 党员\n",
      "[0.04488 0.03765 0.02613] 0.00072537124\n",
      "特朗普 政府 以为 加征 关税 会 令 中国 屈服 , 这种 策略 肯定 会 适得其反 , 如果 就业 和 财富 靠 有 离开子 的 能力 而已 —— 中央 上 行 双方 对 法案 将 打工 。 中国 共产党 党员 小\n",
      "[0.04266 0.03332 0.02796] 0.0111012105\n",
      "特朗普 政府 以为 加征 关税 会 令 中国 屈服 , 这种 策略 肯定 会 适得其反 , 如果 就业 和 财富 靠 有 离开子 的 能力 而已 —— 中央 上 行 双方 对 法案 将 打工 。 中国 共产党 党员 小泉\n",
      "[0.0736  0.01949 0.01596] 0.0068178587\n",
      "特朗普 政府 以为 加征 关税 会 令 中国 屈服 , 这种 策略 肯定 会 适得其反 , 如果 就业 和 财富 靠 有 离开子 的 能力 而已 —— 中央 上 行 双方 对 法案 将 打工 。 中国 共产党 党员 小泉敏\n"
     ]
    }
   ],
   "source": [
    "generate_text(sp.EncodeAsIds(\"特朗普 政府 以为 加征 关税 会 令 中国 屈服 ， 这种 策略 肯定 会 适得其反 ， 如果 就业 和 财富\"))"
   ]
  },
  {
   "cell_type": "code",
   "execution_count": null,
   "metadata": {},
   "outputs": [],
   "source": []
  }
 ],
 "metadata": {
  "kernelspec": {
   "display_name": "Python 3",
   "language": "python",
   "name": "python3"
  },
  "language_info": {
   "codemirror_mode": {
    "name": "ipython",
    "version": 3
   },
   "file_extension": ".py",
   "mimetype": "text/x-python",
   "name": "python",
   "nbconvert_exporter": "python",
   "pygments_lexer": "ipython3",
   "version": "3.6.6"
  }
 },
 "nbformat": 4,
 "nbformat_minor": 2
}
