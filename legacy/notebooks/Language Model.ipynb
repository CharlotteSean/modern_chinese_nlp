{
 "cells": [
  {
   "cell_type": "code",
   "execution_count": 1,
   "metadata": {},
   "outputs": [],
   "source": [
    "import sys\n",
    "sys.path.append(\"../\")"
   ]
  },
  {
   "cell_type": "code",
   "execution_count": 1,
   "metadata": {},
   "outputs": [
    {
     "name": "stderr",
     "output_type": "stream",
     "text": [
      "/opt/conda/lib/python3.6/importlib/_bootstrap.py:219: RuntimeWarning: numpy.dtype size changed, may indicate binary incompatibility. Expected 96, got 88\n",
      "  return f(*args, **kwds)\n",
      "/opt/conda/lib/python3.6/importlib/_bootstrap.py:219: RuntimeWarning: numpy.dtype size changed, may indicate binary incompatibility. Expected 96, got 88\n",
      "  return f(*args, **kwds)\n",
      "/opt/conda/lib/python3.6/site-packages/sklearn/ensemble/weight_boosting.py:29: DeprecationWarning: numpy.core.umath_tests is an internal NumPy module and should not be imported. It will be removed in a future NumPy release.\n",
      "  from numpy.core.umath_tests import inner1d\n",
      "/opt/conda/lib/python3.6/importlib/_bootstrap.py:219: RuntimeWarning: numpy.dtype size changed, may indicate binary incompatibility. Expected 96, got 88\n",
      "  return f(*args, **kwds)\n",
      "/opt/conda/lib/python3.6/importlib/_bootstrap.py:219: RuntimeWarning: numpy.ufunc size changed, may indicate binary incompatibility. Expected 192, got 176\n",
      "  return f(*args, **kwds)\n"
     ]
    }
   ],
   "source": [
    "from pathlib import Path\n",
    "from functools import partial\n",
    "\n",
    "import joblib\n",
    "import pandas as pd\n",
    "import numpy as np\n",
    "\n",
    "from sklearn.model_selection import train_test_split\n",
    "from fastai.text import LanguageModelLoader, LanguageModelData\n",
    "from fastai.core import T\n",
    "from fastai.rnn_reg import EmbeddingDropout\n",
    "from torch.optim import Adam\n",
    "import torch.nn as nn\n",
    "import torch\n",
    "import torch.nn.functional as F"
   ]
  },
  {
   "cell_type": "code",
   "execution_count": 3,
   "metadata": {},
   "outputs": [],
   "source": [
    "tokens = joblib.load(\"../data/tokens.pkl\")"
   ]
  },
  {
   "cell_type": "code",
   "execution_count": 4,
   "metadata": {},
   "outputs": [],
   "source": [
    "# Filter out empty texts\n",
    "tokens = [x for x in tokens if x.shape[0] > 0]"
   ]
  },
  {
   "cell_type": "code",
   "execution_count": 5,
   "metadata": {},
   "outputs": [],
   "source": [
    "trn_tokens, val_tokens = train_test_split(tokens, test_size=0.2)\n",
    "val_tokens, tst_tokens = train_test_split(val_tokens, test_size=0.5)"
   ]
  },
  {
   "cell_type": "code",
   "execution_count": 6,
   "metadata": {},
   "outputs": [
    {
     "name": "stdout",
     "output_type": "stream",
     "text": [
      "Total tokens: 169361694\n",
      "Unknown Percentage: 0.54 %\n"
     ]
    }
   ],
   "source": [
    "def get_voc_stats(tokens):\n",
    "    total_tokens = np.sum([x.shape[0] for x in tokens])\n",
    "    unks = np.sum([np.sum(x == 1) for x in tokens])\n",
    "    print(\"Total tokens: %d\\nUnknown Percentage: %.2f %%\" % (total_tokens, unks * 100 / total_tokens))\n",
    "get_voc_stats(tokens)"
   ]
  },
  {
   "cell_type": "code",
   "execution_count": 7,
   "metadata": {},
   "outputs": [],
   "source": [
    "bptt = 100\n",
    "batch_size = 128\n",
    "n_tok = int(np.max([np.max(x) for x in tokens]) + 1)\n",
    "trn_loader = LanguageModelLoader(\n",
    "    np.concatenate(trn_tokens), batch_size, bptt)\n",
    "val_loader = LanguageModelLoader(\n",
    "    np.concatenate(val_tokens), batch_size, bptt)\n",
    "tst_loader = LanguageModelLoader(\n",
    "    np.concatenate(tst_tokens), batch_size, bptt)"
   ]
  },
  {
   "cell_type": "code",
   "execution_count": 8,
   "metadata": {},
   "outputs": [
    {
     "data": {
      "text/plain": [
       "[(4, 9459),\n",
       " (1, 1413),\n",
       " (7, 506),\n",
       " (3, 403),\n",
       " (2, 388),\n",
       " (80, 147),\n",
       " (21, 131),\n",
       " (466, 118),\n",
       " (112, 115),\n",
       " (79, 114)]"
      ]
     },
     "execution_count": 8,
     "metadata": {},
     "output_type": "execute_result"
    }
   ],
   "source": [
    "from collections import Counter\n",
    "tmp = []\n",
    "for i in range(10000):\n",
    "    for j in range(1, trn_tokens[i].shape[0]):\n",
    "        if trn_tokens[i][j] == 1:\n",
    "            tmp.append(trn_tokens[i][j-1])\n",
    "Counter(tmp).most_common(10)"
   ]
  },
  {
   "cell_type": "code",
   "execution_count": 9,
   "metadata": {},
   "outputs": [
    {
     "data": {
      "text/plain": [
       "[(1, 9459),\n",
       " (5, 7343),\n",
       " (10, 4999),\n",
       " (9, 4229),\n",
       " (52, 2333),\n",
       " (68, 2039),\n",
       " (35, 1945),\n",
       " (99, 1365),\n",
       " (118, 1287),\n",
       " (54, 1271)]"
      ]
     },
     "execution_count": 9,
     "metadata": {},
     "output_type": "execute_result"
    }
   ],
   "source": [
    "from collections import Counter\n",
    "tmp = []\n",
    "for i in range(10000):\n",
    "    for j in range(1, trn_tokens[i].shape[0]-1):\n",
    "        if trn_tokens[i][j] == 4:\n",
    "            tmp.append(trn_tokens[i][j+1])\n",
    "Counter(tmp).most_common(10)"
   ]
  },
  {
   "cell_type": "code",
   "execution_count": 10,
   "metadata": {},
   "outputs": [],
   "source": [
    "mapping = joblib.load(\"../data/mapping.pkl\")"
   ]
  },
  {
   "cell_type": "code",
   "execution_count": 11,
   "metadata": {},
   "outputs": [],
   "source": [
    "itos = ['<unk>'] *  n_tok\n",
    "for k, v in mapping.items():\n",
    "    itos[v] = k"
   ]
  },
  {
   "cell_type": "code",
   "execution_count": 12,
   "metadata": {},
   "outputs": [
    {
     "data": {
      "text/plain": [
       "'2'"
      ]
     },
     "execution_count": 12,
     "metadata": {},
     "output_type": "execute_result"
    }
   ],
   "source": [
    "itos[10]"
   ]
  },
  {
   "cell_type": "code",
   "execution_count": 13,
   "metadata": {},
   "outputs": [],
   "source": [
    "path = Path(\"../data/cache/lm/\")\n",
    "path.mkdir(parents=True, exist_ok=True)\n",
    "model_data = LanguageModelData(\n",
    "    path, pad_idx=0, n_tok=n_tok, trn_dl=trn_loader, val_dl=val_loader, test_dl=tst_loader\n",
    ")"
   ]
  },
  {
   "cell_type": "markdown",
   "metadata": {},
   "source": [
    "### QRNN Model"
   ]
  },
  {
   "cell_type": "code",
   "execution_count": 21,
   "metadata": {},
   "outputs": [],
   "source": [
    "drops = np.array([0.05, 0.1, 0.05, 0, 0.1])\n",
    "learner = model_data.get_model(\n",
    "    partial(Adam, betas=(0.8, 0.999)),\n",
    "    emb_sz=300, n_hid=500, n_layers=4,\n",
    "    dropouti=drops[0], dropout=drops[1], wdrop=drops[2],\n",
    "    dropoute=drops[3], dropouth=drops[4], qrnn=True\n",
    ")"
   ]
  },
  {
   "cell_type": "code",
   "execution_count": 20,
   "metadata": {},
   "outputs": [
    {
     "data": {
      "application/vnd.jupyter.widget-view+json": {
       "model_id": "e8fa5308b21c464095868f2df74df4d0",
       "version_major": 2,
       "version_minor": 0
      },
      "text/plain": [
       "HBox(children=(IntProgress(value=0, description='Epoch', max=1), HTML(value='')))"
      ]
     },
     "metadata": {},
     "output_type": "display_data"
    },
    {
     "name": "stdout",
     "output_type": "stream",
     "text": [
      "  1%|          | 73/10598 [00:07<17:33,  9.99it/s, loss=8.27]"
     ]
    },
    {
     "ename": "KeyboardInterrupt",
     "evalue": "",
     "output_type": "error",
     "traceback": [
      "\u001b[0;31m---------------------------------------------------------------------------\u001b[0m",
      "\u001b[0;31mKeyboardInterrupt\u001b[0m                         Traceback (most recent call last)",
      "\u001b[0;32m<ipython-input-20-856fc726a175>\u001b[0m in \u001b[0;36m<module>\u001b[0;34m()\u001b[0m\n\u001b[1;32m      1\u001b[0m \u001b[0mlearner\u001b[0m\u001b[0;34m.\u001b[0m\u001b[0mclip\u001b[0m \u001b[0;34m=\u001b[0m \u001b[0;36m25.\u001b[0m\u001b[0;34m\u001b[0m\u001b[0m\n\u001b[0;32m----> 2\u001b[0;31m \u001b[0mlearner\u001b[0m\u001b[0;34m.\u001b[0m\u001b[0mlr_find\u001b[0m\u001b[0;34m(\u001b[0m\u001b[0mstart_lr\u001b[0m\u001b[0;34m=\u001b[0m\u001b[0;36m1e-5\u001b[0m\u001b[0;34m,\u001b[0m \u001b[0mend_lr\u001b[0m\u001b[0;34m=\u001b[0m\u001b[0;36m1\u001b[0m\u001b[0;34m,\u001b[0m \u001b[0mlinear\u001b[0m\u001b[0;34m=\u001b[0m\u001b[0;32mFalse\u001b[0m\u001b[0;34m)\u001b[0m\u001b[0;34m\u001b[0m\u001b[0m\n\u001b[0m\u001b[1;32m      3\u001b[0m \u001b[0mlearner\u001b[0m\u001b[0;34m.\u001b[0m\u001b[0msched\u001b[0m\u001b[0;34m.\u001b[0m\u001b[0mplot\u001b[0m\u001b[0;34m(\u001b[0m\u001b[0;34m)\u001b[0m\u001b[0;34m\u001b[0m\u001b[0m\n",
      "\u001b[0;32m~/fastai/fastai/learner.py\u001b[0m in \u001b[0;36mlr_find\u001b[0;34m(self, start_lr, end_lr, wds, linear, **kwargs)\u001b[0m\n\u001b[1;32m    345\u001b[0m         \u001b[0mlayer_opt\u001b[0m \u001b[0;34m=\u001b[0m \u001b[0mself\u001b[0m\u001b[0;34m.\u001b[0m\u001b[0mget_layer_opt\u001b[0m\u001b[0;34m(\u001b[0m\u001b[0mstart_lr\u001b[0m\u001b[0;34m,\u001b[0m \u001b[0mwds\u001b[0m\u001b[0;34m)\u001b[0m\u001b[0;34m\u001b[0m\u001b[0m\n\u001b[1;32m    346\u001b[0m         \u001b[0mself\u001b[0m\u001b[0;34m.\u001b[0m\u001b[0msched\u001b[0m \u001b[0;34m=\u001b[0m \u001b[0mLR_Finder\u001b[0m\u001b[0;34m(\u001b[0m\u001b[0mlayer_opt\u001b[0m\u001b[0;34m,\u001b[0m \u001b[0mlen\u001b[0m\u001b[0;34m(\u001b[0m\u001b[0mself\u001b[0m\u001b[0;34m.\u001b[0m\u001b[0mdata\u001b[0m\u001b[0;34m.\u001b[0m\u001b[0mtrn_dl\u001b[0m\u001b[0;34m)\u001b[0m\u001b[0;34m,\u001b[0m \u001b[0mend_lr\u001b[0m\u001b[0;34m,\u001b[0m \u001b[0mlinear\u001b[0m\u001b[0;34m=\u001b[0m\u001b[0mlinear\u001b[0m\u001b[0;34m)\u001b[0m\u001b[0;34m\u001b[0m\u001b[0m\n\u001b[0;32m--> 347\u001b[0;31m         \u001b[0mself\u001b[0m\u001b[0;34m.\u001b[0m\u001b[0mfit_gen\u001b[0m\u001b[0;34m(\u001b[0m\u001b[0mself\u001b[0m\u001b[0;34m.\u001b[0m\u001b[0mmodel\u001b[0m\u001b[0;34m,\u001b[0m \u001b[0mself\u001b[0m\u001b[0;34m.\u001b[0m\u001b[0mdata\u001b[0m\u001b[0;34m,\u001b[0m \u001b[0mlayer_opt\u001b[0m\u001b[0;34m,\u001b[0m \u001b[0;36m1\u001b[0m\u001b[0;34m,\u001b[0m \u001b[0;34m**\u001b[0m\u001b[0mkwargs\u001b[0m\u001b[0;34m)\u001b[0m\u001b[0;34m\u001b[0m\u001b[0m\n\u001b[0m\u001b[1;32m    348\u001b[0m         \u001b[0mself\u001b[0m\u001b[0;34m.\u001b[0m\u001b[0mload\u001b[0m\u001b[0;34m(\u001b[0m\u001b[0;34m'tmp'\u001b[0m\u001b[0;34m)\u001b[0m\u001b[0;34m\u001b[0m\u001b[0m\n\u001b[1;32m    349\u001b[0m \u001b[0;34m\u001b[0m\u001b[0m\n",
      "\u001b[0;32m~/fastai/fastai/learner.py\u001b[0m in \u001b[0;36mfit_gen\u001b[0;34m(self, model, data, layer_opt, n_cycle, cycle_len, cycle_mult, cycle_save_name, best_save_name, use_clr, use_clr_beta, metrics, callbacks, use_wd_sched, norm_wds, wds_sched_mult, use_swa, swa_start, swa_eval_freq, **kwargs)\u001b[0m\n\u001b[1;32m    249\u001b[0m             \u001b[0mmetrics\u001b[0m\u001b[0;34m=\u001b[0m\u001b[0mmetrics\u001b[0m\u001b[0;34m,\u001b[0m \u001b[0mcallbacks\u001b[0m\u001b[0;34m=\u001b[0m\u001b[0mcallbacks\u001b[0m\u001b[0;34m,\u001b[0m \u001b[0mreg_fn\u001b[0m\u001b[0;34m=\u001b[0m\u001b[0mself\u001b[0m\u001b[0;34m.\u001b[0m\u001b[0mreg_fn\u001b[0m\u001b[0;34m,\u001b[0m \u001b[0mclip\u001b[0m\u001b[0;34m=\u001b[0m\u001b[0mself\u001b[0m\u001b[0;34m.\u001b[0m\u001b[0mclip\u001b[0m\u001b[0;34m,\u001b[0m \u001b[0mfp16\u001b[0m\u001b[0;34m=\u001b[0m\u001b[0mself\u001b[0m\u001b[0;34m.\u001b[0m\u001b[0mfp16\u001b[0m\u001b[0;34m,\u001b[0m\u001b[0;34m\u001b[0m\u001b[0m\n\u001b[1;32m    250\u001b[0m             \u001b[0mswa_model\u001b[0m\u001b[0;34m=\u001b[0m\u001b[0mself\u001b[0m\u001b[0;34m.\u001b[0m\u001b[0mswa_model\u001b[0m \u001b[0;32mif\u001b[0m \u001b[0muse_swa\u001b[0m \u001b[0;32melse\u001b[0m \u001b[0;32mNone\u001b[0m\u001b[0;34m,\u001b[0m \u001b[0mswa_start\u001b[0m\u001b[0;34m=\u001b[0m\u001b[0mswa_start\u001b[0m\u001b[0;34m,\u001b[0m\u001b[0;34m\u001b[0m\u001b[0m\n\u001b[0;32m--> 251\u001b[0;31m             swa_eval_freq=swa_eval_freq, **kwargs)\n\u001b[0m\u001b[1;32m    252\u001b[0m \u001b[0;34m\u001b[0m\u001b[0m\n\u001b[1;32m    253\u001b[0m     \u001b[0;32mdef\u001b[0m \u001b[0mget_layer_groups\u001b[0m\u001b[0;34m(\u001b[0m\u001b[0mself\u001b[0m\u001b[0;34m)\u001b[0m\u001b[0;34m:\u001b[0m \u001b[0;32mreturn\u001b[0m \u001b[0mself\u001b[0m\u001b[0;34m.\u001b[0m\u001b[0mmodels\u001b[0m\u001b[0;34m.\u001b[0m\u001b[0mget_layer_groups\u001b[0m\u001b[0;34m(\u001b[0m\u001b[0;34m)\u001b[0m\u001b[0;34m\u001b[0m\u001b[0m\n",
      "\u001b[0;32m~/fastai/fastai/model.py\u001b[0m in \u001b[0;36mfit\u001b[0;34m(model, data, n_epochs, opt, crit, metrics, callbacks, stepper, swa_model, swa_start, swa_eval_freq, visualize, **kwargs)\u001b[0m\n\u001b[1;32m    139\u001b[0m             \u001b[0mbatch_num\u001b[0m \u001b[0;34m+=\u001b[0m \u001b[0;36m1\u001b[0m\u001b[0;34m\u001b[0m\u001b[0m\n\u001b[1;32m    140\u001b[0m             \u001b[0;32mfor\u001b[0m \u001b[0mcb\u001b[0m \u001b[0;32min\u001b[0m \u001b[0mcallbacks\u001b[0m\u001b[0;34m:\u001b[0m \u001b[0mcb\u001b[0m\u001b[0;34m.\u001b[0m\u001b[0mon_batch_begin\u001b[0m\u001b[0;34m(\u001b[0m\u001b[0;34m)\u001b[0m\u001b[0;34m\u001b[0m\u001b[0m\n\u001b[0;32m--> 141\u001b[0;31m             \u001b[0mloss\u001b[0m \u001b[0;34m=\u001b[0m \u001b[0mmodel_stepper\u001b[0m\u001b[0;34m.\u001b[0m\u001b[0mstep\u001b[0m\u001b[0;34m(\u001b[0m\u001b[0mV\u001b[0m\u001b[0;34m(\u001b[0m\u001b[0mx\u001b[0m\u001b[0;34m)\u001b[0m\u001b[0;34m,\u001b[0m\u001b[0mV\u001b[0m\u001b[0;34m(\u001b[0m\u001b[0my\u001b[0m\u001b[0;34m)\u001b[0m\u001b[0;34m,\u001b[0m \u001b[0mepoch\u001b[0m\u001b[0;34m)\u001b[0m\u001b[0;34m\u001b[0m\u001b[0m\n\u001b[0m\u001b[1;32m    142\u001b[0m             \u001b[0mavg_loss\u001b[0m \u001b[0;34m=\u001b[0m \u001b[0mavg_loss\u001b[0m \u001b[0;34m*\u001b[0m \u001b[0mavg_mom\u001b[0m \u001b[0;34m+\u001b[0m \u001b[0mloss\u001b[0m \u001b[0;34m*\u001b[0m \u001b[0;34m(\u001b[0m\u001b[0;36m1\u001b[0m\u001b[0;34m-\u001b[0m\u001b[0mavg_mom\u001b[0m\u001b[0;34m)\u001b[0m\u001b[0;34m\u001b[0m\u001b[0m\n\u001b[1;32m    143\u001b[0m             \u001b[0mdebias_loss\u001b[0m \u001b[0;34m=\u001b[0m \u001b[0mavg_loss\u001b[0m \u001b[0;34m/\u001b[0m \u001b[0;34m(\u001b[0m\u001b[0;36m1\u001b[0m \u001b[0;34m-\u001b[0m \u001b[0mavg_mom\u001b[0m\u001b[0;34m**\u001b[0m\u001b[0mbatch_num\u001b[0m\u001b[0;34m)\u001b[0m\u001b[0;34m\u001b[0m\u001b[0m\n",
      "\u001b[0;32m~/fastai/fastai/model.py\u001b[0m in \u001b[0;36mstep\u001b[0;34m(self, xs, y, epoch)\u001b[0m\n\u001b[1;32m     55\u001b[0m         \u001b[0;32mif\u001b[0m \u001b[0mself\u001b[0m\u001b[0;34m.\u001b[0m\u001b[0mloss_scale\u001b[0m \u001b[0;34m!=\u001b[0m \u001b[0;36m1\u001b[0m\u001b[0;34m:\u001b[0m \u001b[0;32massert\u001b[0m\u001b[0;34m(\u001b[0m\u001b[0mself\u001b[0m\u001b[0;34m.\u001b[0m\u001b[0mfp16\u001b[0m\u001b[0;34m)\u001b[0m\u001b[0;34m;\u001b[0m \u001b[0mloss\u001b[0m \u001b[0;34m=\u001b[0m \u001b[0mloss\u001b[0m\u001b[0;34m*\u001b[0m\u001b[0mself\u001b[0m\u001b[0;34m.\u001b[0m\u001b[0mloss_scale\u001b[0m\u001b[0;34m\u001b[0m\u001b[0m\n\u001b[1;32m     56\u001b[0m         \u001b[0;32mif\u001b[0m \u001b[0mself\u001b[0m\u001b[0;34m.\u001b[0m\u001b[0mreg_fn\u001b[0m\u001b[0;34m:\u001b[0m \u001b[0mloss\u001b[0m \u001b[0;34m=\u001b[0m \u001b[0mself\u001b[0m\u001b[0;34m.\u001b[0m\u001b[0mreg_fn\u001b[0m\u001b[0;34m(\u001b[0m\u001b[0moutput\u001b[0m\u001b[0;34m,\u001b[0m \u001b[0mxtra\u001b[0m\u001b[0;34m,\u001b[0m \u001b[0mraw_loss\u001b[0m\u001b[0;34m)\u001b[0m\u001b[0;34m\u001b[0m\u001b[0m\n\u001b[0;32m---> 57\u001b[0;31m         \u001b[0mloss\u001b[0m\u001b[0;34m.\u001b[0m\u001b[0mbackward\u001b[0m\u001b[0;34m(\u001b[0m\u001b[0;34m)\u001b[0m\u001b[0;34m\u001b[0m\u001b[0m\n\u001b[0m\u001b[1;32m     58\u001b[0m         \u001b[0;32mif\u001b[0m \u001b[0mself\u001b[0m\u001b[0;34m.\u001b[0m\u001b[0mfp16\u001b[0m\u001b[0;34m:\u001b[0m \u001b[0mupdate_fp32_grads\u001b[0m\u001b[0;34m(\u001b[0m\u001b[0mself\u001b[0m\u001b[0;34m.\u001b[0m\u001b[0mfp32_params\u001b[0m\u001b[0;34m,\u001b[0m \u001b[0mself\u001b[0m\u001b[0;34m.\u001b[0m\u001b[0mm\u001b[0m\u001b[0;34m)\u001b[0m\u001b[0;34m\u001b[0m\u001b[0m\n\u001b[1;32m     59\u001b[0m         \u001b[0;32mif\u001b[0m \u001b[0mself\u001b[0m\u001b[0;34m.\u001b[0m\u001b[0mloss_scale\u001b[0m \u001b[0;34m!=\u001b[0m \u001b[0;36m1\u001b[0m\u001b[0;34m:\u001b[0m\u001b[0;34m\u001b[0m\u001b[0m\n",
      "\u001b[0;32m/opt/conda/lib/python3.6/site-packages/torch/tensor.py\u001b[0m in \u001b[0;36mbackward\u001b[0;34m(self, gradient, retain_graph, create_graph)\u001b[0m\n\u001b[1;32m     91\u001b[0m                 \u001b[0mproducts\u001b[0m\u001b[0;34m.\u001b[0m \u001b[0mDefaults\u001b[0m \u001b[0mto\u001b[0m\u001b[0;31m \u001b[0m\u001b[0;31m`\u001b[0m\u001b[0;31m`\u001b[0m\u001b[0;32mFalse\u001b[0m\u001b[0;31m`\u001b[0m\u001b[0;31m`\u001b[0m\u001b[0;34m.\u001b[0m\u001b[0;34m\u001b[0m\u001b[0m\n\u001b[1;32m     92\u001b[0m         \"\"\"\n\u001b[0;32m---> 93\u001b[0;31m         \u001b[0mtorch\u001b[0m\u001b[0;34m.\u001b[0m\u001b[0mautograd\u001b[0m\u001b[0;34m.\u001b[0m\u001b[0mbackward\u001b[0m\u001b[0;34m(\u001b[0m\u001b[0mself\u001b[0m\u001b[0;34m,\u001b[0m \u001b[0mgradient\u001b[0m\u001b[0;34m,\u001b[0m \u001b[0mretain_graph\u001b[0m\u001b[0;34m,\u001b[0m \u001b[0mcreate_graph\u001b[0m\u001b[0;34m)\u001b[0m\u001b[0;34m\u001b[0m\u001b[0m\n\u001b[0m\u001b[1;32m     94\u001b[0m \u001b[0;34m\u001b[0m\u001b[0m\n\u001b[1;32m     95\u001b[0m     \u001b[0;32mdef\u001b[0m \u001b[0mregister_hook\u001b[0m\u001b[0;34m(\u001b[0m\u001b[0mself\u001b[0m\u001b[0;34m,\u001b[0m \u001b[0mhook\u001b[0m\u001b[0;34m)\u001b[0m\u001b[0;34m:\u001b[0m\u001b[0;34m\u001b[0m\u001b[0m\n",
      "\u001b[0;32m/opt/conda/lib/python3.6/site-packages/torch/autograd/__init__.py\u001b[0m in \u001b[0;36mbackward\u001b[0;34m(tensors, grad_tensors, retain_graph, create_graph, grad_variables)\u001b[0m\n\u001b[1;32m     88\u001b[0m     Variable._execution_engine.run_backward(\n\u001b[1;32m     89\u001b[0m         \u001b[0mtensors\u001b[0m\u001b[0;34m,\u001b[0m \u001b[0mgrad_tensors\u001b[0m\u001b[0;34m,\u001b[0m \u001b[0mretain_graph\u001b[0m\u001b[0;34m,\u001b[0m \u001b[0mcreate_graph\u001b[0m\u001b[0;34m,\u001b[0m\u001b[0;34m\u001b[0m\u001b[0m\n\u001b[0;32m---> 90\u001b[0;31m         allow_unreachable=True)  # allow_unreachable flag\n\u001b[0m\u001b[1;32m     91\u001b[0m \u001b[0;34m\u001b[0m\u001b[0m\n\u001b[1;32m     92\u001b[0m \u001b[0;34m\u001b[0m\u001b[0m\n",
      "\u001b[0;31mKeyboardInterrupt\u001b[0m: "
     ]
    }
   ],
   "source": [
    "learner.clip = 25.\n",
    "learner.lr_find(start_lr=1e-5, end_lr=1, linear=False)\n",
    "learner.sched.plot()"
   ]
  },
  {
   "cell_type": "code",
   "execution_count": 22,
   "metadata": {},
   "outputs": [
    {
     "data": {
      "application/vnd.jupyter.widget-view+json": {
       "model_id": "5ce4fa2b68604912812353e8e81ec528",
       "version_major": 2,
       "version_minor": 0
      },
      "text/plain": [
       "HBox(children=(IntProgress(value=0, description='Epoch', max=10), HTML(value='')))"
      ]
     },
     "metadata": {},
     "output_type": "display_data"
    },
    {
     "name": "stdout",
     "output_type": "stream",
     "text": [
      "epoch      trn_loss   val_loss                                  \n",
      "    0      4.565469   4.451593  \n",
      "    1      4.183575   4.027893                                  \n",
      "    2      4.071145   3.896606                                  \n",
      "    3      4.008949   3.823468                                  \n",
      "    4      3.956882   3.769333                                  \n",
      "    5      3.918282   3.731168                                  \n",
      "    6      3.894945   3.702762                                  \n",
      "    7      3.872636   3.680947                                  \n",
      "    8      3.854972   3.663175                                  \n",
      "    9      3.843054   3.652749                                  \n"
     ]
    },
    {
     "data": {
      "text/plain": [
       "[3.6527488382143667]"
      ]
     },
     "execution_count": 22,
     "metadata": {},
     "output_type": "execute_result"
    }
   ],
   "source": [
    "lrs = 2e-3\n",
    "learner.fit(lrs, 1, wds=1e-7, use_clr=(50, 3), cycle_len=10, use_wd_sched=True)"
   ]
  },
  {
   "cell_type": "code",
   "execution_count": 23,
   "metadata": {},
   "outputs": [
    {
     "data": {
      "image/png": "[encoded data removed]",
      "text/plain": [
       "<Figure size 432x288 with 1 Axes>"
      ]
     },
     "metadata": {},
     "output_type": "display_data"
    }
   ],
   "source": [
    "learner.sched.plot_lr()"
   ]
  },
  {
   "cell_type": "code",
   "execution_count": 43,
   "metadata": {},
   "outputs": [
    {
     "data": {
      "application/vnd.jupyter.widget-view+json": {
       "model_id": "8ecc25a27b544cc8bb97930c56f71a3f",
       "version_major": 2,
       "version_minor": 0
      },
      "text/plain": [
       "HBox(children=(IntProgress(value=0, description='Epoch', max=10), HTML(value='')))"
      ]
     },
     "metadata": {},
     "output_type": "display_data"
    },
    {
     "name": "stdout",
     "output_type": "stream",
     "text": [
      "epoch      trn_loss   val_loss                                  \n",
      "    0      3.849988   3.651798  \n",
      "    1      3.843731   3.652289                                  \n",
      "    2      3.851551   3.653735                                  \n",
      "    3      3.851972   3.649651                                  \n",
      "    4      3.841882   3.643531                                  \n",
      "    5      3.83303    3.639206                                  \n",
      " 73%|███████▎  | 7710/10598 [12:47<04:47, 10.05it/s, loss=3.81]"
     ]
    },
    {
     "ename": "KeyboardInterrupt",
     "evalue": "",
     "output_type": "error",
     "traceback": [
      "\u001b[0;31m---------------------------------------------------------------------------\u001b[0m",
      "\u001b[0;31mKeyboardInterrupt\u001b[0m                         Traceback (most recent call last)",
      "\u001b[0;32m<ipython-input-43-7dab8a925206>\u001b[0m in \u001b[0;36m<module>\u001b[0;34m()\u001b[0m\n\u001b[1;32m      1\u001b[0m \u001b[0mlrs\u001b[0m \u001b[0;34m=\u001b[0m \u001b[0;36m5e-4\u001b[0m\u001b[0;34m\u001b[0m\u001b[0m\n\u001b[0;32m----> 2\u001b[0;31m \u001b[0mlearner\u001b[0m\u001b[0;34m.\u001b[0m\u001b[0mfit\u001b[0m\u001b[0;34m(\u001b[0m\u001b[0mlrs\u001b[0m\u001b[0;34m,\u001b[0m \u001b[0;36m1\u001b[0m\u001b[0;34m,\u001b[0m \u001b[0mwds\u001b[0m\u001b[0;34m=\u001b[0m\u001b[0;36m1e-7\u001b[0m\u001b[0;34m,\u001b[0m \u001b[0muse_clr\u001b[0m\u001b[0;34m=\u001b[0m\u001b[0;34m(\u001b[0m\u001b[0;36m50\u001b[0m\u001b[0;34m,\u001b[0m \u001b[0;36m3\u001b[0m\u001b[0;34m)\u001b[0m\u001b[0;34m,\u001b[0m \u001b[0mcycle_len\u001b[0m\u001b[0;34m=\u001b[0m\u001b[0;36m10\u001b[0m\u001b[0;34m,\u001b[0m \u001b[0muse_wd_sched\u001b[0m\u001b[0;34m=\u001b[0m\u001b[0;32mTrue\u001b[0m\u001b[0;34m)\u001b[0m\u001b[0;34m\u001b[0m\u001b[0m\n\u001b[0m",
      "\u001b[0;32m~/fastai/fastai/text.py\u001b[0m in \u001b[0;36mfit\u001b[0;34m(self, *args, **kwargs)\u001b[0m\n\u001b[1;32m    209\u001b[0m \u001b[0;34m\u001b[0m\u001b[0m\n\u001b[1;32m    210\u001b[0m     \u001b[0;32mdef\u001b[0m \u001b[0m_get_crit\u001b[0m\u001b[0;34m(\u001b[0m\u001b[0mself\u001b[0m\u001b[0;34m,\u001b[0m \u001b[0mdata\u001b[0m\u001b[0;34m)\u001b[0m\u001b[0;34m:\u001b[0m \u001b[0;32mreturn\u001b[0m \u001b[0mF\u001b[0m\u001b[0;34m.\u001b[0m\u001b[0mcross_entropy\u001b[0m\u001b[0;34m\u001b[0m\u001b[0m\n\u001b[0;32m--> 211\u001b[0;31m     \u001b[0;32mdef\u001b[0m \u001b[0mfit\u001b[0m\u001b[0;34m(\u001b[0m\u001b[0mself\u001b[0m\u001b[0;34m,\u001b[0m \u001b[0;34m*\u001b[0m\u001b[0margs\u001b[0m\u001b[0;34m,\u001b[0m \u001b[0;34m**\u001b[0m\u001b[0mkwargs\u001b[0m\u001b[0;34m)\u001b[0m\u001b[0;34m:\u001b[0m \u001b[0;32mreturn\u001b[0m \u001b[0msuper\u001b[0m\u001b[0;34m(\u001b[0m\u001b[0;34m)\u001b[0m\u001b[0;34m.\u001b[0m\u001b[0mfit\u001b[0m\u001b[0;34m(\u001b[0m\u001b[0;34m*\u001b[0m\u001b[0margs\u001b[0m\u001b[0;34m,\u001b[0m \u001b[0;34m**\u001b[0m\u001b[0mkwargs\u001b[0m\u001b[0;34m,\u001b[0m \u001b[0mseq_first\u001b[0m\u001b[0;34m=\u001b[0m\u001b[0;32mTrue\u001b[0m\u001b[0;34m)\u001b[0m\u001b[0;34m\u001b[0m\u001b[0m\n\u001b[0m\u001b[1;32m    212\u001b[0m \u001b[0;34m\u001b[0m\u001b[0m\n\u001b[1;32m    213\u001b[0m     \u001b[0;32mdef\u001b[0m \u001b[0msave_encoder\u001b[0m\u001b[0;34m(\u001b[0m\u001b[0mself\u001b[0m\u001b[0;34m,\u001b[0m \u001b[0mname\u001b[0m\u001b[0;34m)\u001b[0m\u001b[0;34m:\u001b[0m \u001b[0msave_model\u001b[0m\u001b[0;34m(\u001b[0m\u001b[0mself\u001b[0m\u001b[0;34m.\u001b[0m\u001b[0mmodel\u001b[0m\u001b[0;34m[\u001b[0m\u001b[0;36m0\u001b[0m\u001b[0;34m]\u001b[0m\u001b[0;34m,\u001b[0m \u001b[0mself\u001b[0m\u001b[0;34m.\u001b[0m\u001b[0mget_model_path\u001b[0m\u001b[0;34m(\u001b[0m\u001b[0mname\u001b[0m\u001b[0;34m)\u001b[0m\u001b[0;34m)\u001b[0m\u001b[0;34m\u001b[0m\u001b[0m\n",
      "\u001b[0;32m~/fastai/fastai/learner.py\u001b[0m in \u001b[0;36mfit\u001b[0;34m(self, lrs, n_cycle, wds, **kwargs)\u001b[0m\n\u001b[1;32m    302\u001b[0m         \u001b[0mself\u001b[0m\u001b[0;34m.\u001b[0m\u001b[0msched\u001b[0m \u001b[0;34m=\u001b[0m \u001b[0;32mNone\u001b[0m\u001b[0;34m\u001b[0m\u001b[0m\n\u001b[1;32m    303\u001b[0m         \u001b[0mlayer_opt\u001b[0m \u001b[0;34m=\u001b[0m \u001b[0mself\u001b[0m\u001b[0;34m.\u001b[0m\u001b[0mget_layer_opt\u001b[0m\u001b[0;34m(\u001b[0m\u001b[0mlrs\u001b[0m\u001b[0;34m,\u001b[0m \u001b[0mwds\u001b[0m\u001b[0;34m)\u001b[0m\u001b[0;34m\u001b[0m\u001b[0m\n\u001b[0;32m--> 304\u001b[0;31m         \u001b[0;32mreturn\u001b[0m \u001b[0mself\u001b[0m\u001b[0;34m.\u001b[0m\u001b[0mfit_gen\u001b[0m\u001b[0;34m(\u001b[0m\u001b[0mself\u001b[0m\u001b[0;34m.\u001b[0m\u001b[0mmodel\u001b[0m\u001b[0;34m,\u001b[0m \u001b[0mself\u001b[0m\u001b[0;34m.\u001b[0m\u001b[0mdata\u001b[0m\u001b[0;34m,\u001b[0m \u001b[0mlayer_opt\u001b[0m\u001b[0;34m,\u001b[0m \u001b[0mn_cycle\u001b[0m\u001b[0;34m,\u001b[0m \u001b[0;34m**\u001b[0m\u001b[0mkwargs\u001b[0m\u001b[0;34m)\u001b[0m\u001b[0;34m\u001b[0m\u001b[0m\n\u001b[0m\u001b[1;32m    305\u001b[0m \u001b[0;34m\u001b[0m\u001b[0m\n\u001b[1;32m    306\u001b[0m     \u001b[0;32mdef\u001b[0m \u001b[0mwarm_up\u001b[0m\u001b[0;34m(\u001b[0m\u001b[0mself\u001b[0m\u001b[0;34m,\u001b[0m \u001b[0mlr\u001b[0m\u001b[0;34m,\u001b[0m \u001b[0mwds\u001b[0m\u001b[0;34m=\u001b[0m\u001b[0;32mNone\u001b[0m\u001b[0;34m)\u001b[0m\u001b[0;34m:\u001b[0m\u001b[0;34m\u001b[0m\u001b[0m\n",
      "\u001b[0;32m~/fastai/fastai/learner.py\u001b[0m in \u001b[0;36mfit_gen\u001b[0;34m(self, model, data, layer_opt, n_cycle, cycle_len, cycle_mult, cycle_save_name, best_save_name, use_clr, use_clr_beta, metrics, callbacks, use_wd_sched, norm_wds, wds_sched_mult, use_swa, swa_start, swa_eval_freq, **kwargs)\u001b[0m\n\u001b[1;32m    249\u001b[0m             \u001b[0mmetrics\u001b[0m\u001b[0;34m=\u001b[0m\u001b[0mmetrics\u001b[0m\u001b[0;34m,\u001b[0m \u001b[0mcallbacks\u001b[0m\u001b[0;34m=\u001b[0m\u001b[0mcallbacks\u001b[0m\u001b[0;34m,\u001b[0m \u001b[0mreg_fn\u001b[0m\u001b[0;34m=\u001b[0m\u001b[0mself\u001b[0m\u001b[0;34m.\u001b[0m\u001b[0mreg_fn\u001b[0m\u001b[0;34m,\u001b[0m \u001b[0mclip\u001b[0m\u001b[0;34m=\u001b[0m\u001b[0mself\u001b[0m\u001b[0;34m.\u001b[0m\u001b[0mclip\u001b[0m\u001b[0;34m,\u001b[0m \u001b[0mfp16\u001b[0m\u001b[0;34m=\u001b[0m\u001b[0mself\u001b[0m\u001b[0;34m.\u001b[0m\u001b[0mfp16\u001b[0m\u001b[0;34m,\u001b[0m\u001b[0;34m\u001b[0m\u001b[0m\n\u001b[1;32m    250\u001b[0m             \u001b[0mswa_model\u001b[0m\u001b[0;34m=\u001b[0m\u001b[0mself\u001b[0m\u001b[0;34m.\u001b[0m\u001b[0mswa_model\u001b[0m \u001b[0;32mif\u001b[0m \u001b[0muse_swa\u001b[0m \u001b[0;32melse\u001b[0m \u001b[0;32mNone\u001b[0m\u001b[0;34m,\u001b[0m \u001b[0mswa_start\u001b[0m\u001b[0;34m=\u001b[0m\u001b[0mswa_start\u001b[0m\u001b[0;34m,\u001b[0m\u001b[0;34m\u001b[0m\u001b[0m\n\u001b[0;32m--> 251\u001b[0;31m             swa_eval_freq=swa_eval_freq, **kwargs)\n\u001b[0m\u001b[1;32m    252\u001b[0m \u001b[0;34m\u001b[0m\u001b[0m\n\u001b[1;32m    253\u001b[0m     \u001b[0;32mdef\u001b[0m \u001b[0mget_layer_groups\u001b[0m\u001b[0;34m(\u001b[0m\u001b[0mself\u001b[0m\u001b[0;34m)\u001b[0m\u001b[0;34m:\u001b[0m \u001b[0;32mreturn\u001b[0m \u001b[0mself\u001b[0m\u001b[0;34m.\u001b[0m\u001b[0mmodels\u001b[0m\u001b[0;34m.\u001b[0m\u001b[0mget_layer_groups\u001b[0m\u001b[0;34m(\u001b[0m\u001b[0;34m)\u001b[0m\u001b[0;34m\u001b[0m\u001b[0m\n",
      "\u001b[0;32m~/fastai/fastai/model.py\u001b[0m in \u001b[0;36mfit\u001b[0;34m(model, data, n_epochs, opt, crit, metrics, callbacks, stepper, swa_model, swa_start, swa_eval_freq, visualize, **kwargs)\u001b[0m\n\u001b[1;32m    139\u001b[0m             \u001b[0mbatch_num\u001b[0m \u001b[0;34m+=\u001b[0m \u001b[0;36m1\u001b[0m\u001b[0;34m\u001b[0m\u001b[0m\n\u001b[1;32m    140\u001b[0m             \u001b[0;32mfor\u001b[0m \u001b[0mcb\u001b[0m \u001b[0;32min\u001b[0m \u001b[0mcallbacks\u001b[0m\u001b[0;34m:\u001b[0m \u001b[0mcb\u001b[0m\u001b[0;34m.\u001b[0m\u001b[0mon_batch_begin\u001b[0m\u001b[0;34m(\u001b[0m\u001b[0;34m)\u001b[0m\u001b[0;34m\u001b[0m\u001b[0m\n\u001b[0;32m--> 141\u001b[0;31m             \u001b[0mloss\u001b[0m \u001b[0;34m=\u001b[0m \u001b[0mmodel_stepper\u001b[0m\u001b[0;34m.\u001b[0m\u001b[0mstep\u001b[0m\u001b[0;34m(\u001b[0m\u001b[0mV\u001b[0m\u001b[0;34m(\u001b[0m\u001b[0mx\u001b[0m\u001b[0;34m)\u001b[0m\u001b[0;34m,\u001b[0m\u001b[0mV\u001b[0m\u001b[0;34m(\u001b[0m\u001b[0my\u001b[0m\u001b[0;34m)\u001b[0m\u001b[0;34m,\u001b[0m \u001b[0mepoch\u001b[0m\u001b[0;34m)\u001b[0m\u001b[0;34m\u001b[0m\u001b[0m\n\u001b[0m\u001b[1;32m    142\u001b[0m             \u001b[0mavg_loss\u001b[0m \u001b[0;34m=\u001b[0m \u001b[0mavg_loss\u001b[0m \u001b[0;34m*\u001b[0m \u001b[0mavg_mom\u001b[0m \u001b[0;34m+\u001b[0m \u001b[0mloss\u001b[0m \u001b[0;34m*\u001b[0m \u001b[0;34m(\u001b[0m\u001b[0;36m1\u001b[0m\u001b[0;34m-\u001b[0m\u001b[0mavg_mom\u001b[0m\u001b[0;34m)\u001b[0m\u001b[0;34m\u001b[0m\u001b[0m\n\u001b[1;32m    143\u001b[0m             \u001b[0mdebias_loss\u001b[0m \u001b[0;34m=\u001b[0m \u001b[0mavg_loss\u001b[0m \u001b[0;34m/\u001b[0m \u001b[0;34m(\u001b[0m\u001b[0;36m1\u001b[0m \u001b[0;34m-\u001b[0m \u001b[0mavg_mom\u001b[0m\u001b[0;34m**\u001b[0m\u001b[0mbatch_num\u001b[0m\u001b[0;34m)\u001b[0m\u001b[0;34m\u001b[0m\u001b[0m\n",
      "\u001b[0;32m~/fastai/fastai/model.py\u001b[0m in \u001b[0;36mstep\u001b[0;34m(self, xs, y, epoch)\u001b[0m\n\u001b[1;32m     55\u001b[0m         \u001b[0;32mif\u001b[0m \u001b[0mself\u001b[0m\u001b[0;34m.\u001b[0m\u001b[0mloss_scale\u001b[0m \u001b[0;34m!=\u001b[0m \u001b[0;36m1\u001b[0m\u001b[0;34m:\u001b[0m \u001b[0;32massert\u001b[0m\u001b[0;34m(\u001b[0m\u001b[0mself\u001b[0m\u001b[0;34m.\u001b[0m\u001b[0mfp16\u001b[0m\u001b[0;34m)\u001b[0m\u001b[0;34m;\u001b[0m \u001b[0mloss\u001b[0m \u001b[0;34m=\u001b[0m \u001b[0mloss\u001b[0m\u001b[0;34m*\u001b[0m\u001b[0mself\u001b[0m\u001b[0;34m.\u001b[0m\u001b[0mloss_scale\u001b[0m\u001b[0;34m\u001b[0m\u001b[0m\n\u001b[1;32m     56\u001b[0m         \u001b[0;32mif\u001b[0m \u001b[0mself\u001b[0m\u001b[0;34m.\u001b[0m\u001b[0mreg_fn\u001b[0m\u001b[0;34m:\u001b[0m \u001b[0mloss\u001b[0m \u001b[0;34m=\u001b[0m \u001b[0mself\u001b[0m\u001b[0;34m.\u001b[0m\u001b[0mreg_fn\u001b[0m\u001b[0;34m(\u001b[0m\u001b[0moutput\u001b[0m\u001b[0;34m,\u001b[0m \u001b[0mxtra\u001b[0m\u001b[0;34m,\u001b[0m \u001b[0mraw_loss\u001b[0m\u001b[0;34m)\u001b[0m\u001b[0;34m\u001b[0m\u001b[0m\n\u001b[0;32m---> 57\u001b[0;31m         \u001b[0mloss\u001b[0m\u001b[0;34m.\u001b[0m\u001b[0mbackward\u001b[0m\u001b[0;34m(\u001b[0m\u001b[0;34m)\u001b[0m\u001b[0;34m\u001b[0m\u001b[0m\n\u001b[0m\u001b[1;32m     58\u001b[0m         \u001b[0;32mif\u001b[0m \u001b[0mself\u001b[0m\u001b[0;34m.\u001b[0m\u001b[0mfp16\u001b[0m\u001b[0;34m:\u001b[0m \u001b[0mupdate_fp32_grads\u001b[0m\u001b[0;34m(\u001b[0m\u001b[0mself\u001b[0m\u001b[0;34m.\u001b[0m\u001b[0mfp32_params\u001b[0m\u001b[0;34m,\u001b[0m \u001b[0mself\u001b[0m\u001b[0;34m.\u001b[0m\u001b[0mm\u001b[0m\u001b[0;34m)\u001b[0m\u001b[0;34m\u001b[0m\u001b[0m\n\u001b[1;32m     59\u001b[0m         \u001b[0;32mif\u001b[0m \u001b[0mself\u001b[0m\u001b[0;34m.\u001b[0m\u001b[0mloss_scale\u001b[0m \u001b[0;34m!=\u001b[0m \u001b[0;36m1\u001b[0m\u001b[0;34m:\u001b[0m\u001b[0;34m\u001b[0m\u001b[0m\n",
      "\u001b[0;32m/opt/conda/lib/python3.6/site-packages/torch/tensor.py\u001b[0m in \u001b[0;36mbackward\u001b[0;34m(self, gradient, retain_graph, create_graph)\u001b[0m\n\u001b[1;32m     91\u001b[0m                 \u001b[0mproducts\u001b[0m\u001b[0;34m.\u001b[0m \u001b[0mDefaults\u001b[0m \u001b[0mto\u001b[0m\u001b[0;31m \u001b[0m\u001b[0;31m`\u001b[0m\u001b[0;31m`\u001b[0m\u001b[0;32mFalse\u001b[0m\u001b[0;31m`\u001b[0m\u001b[0;31m`\u001b[0m\u001b[0;34m.\u001b[0m\u001b[0;34m\u001b[0m\u001b[0m\n\u001b[1;32m     92\u001b[0m         \"\"\"\n\u001b[0;32m---> 93\u001b[0;31m         \u001b[0mtorch\u001b[0m\u001b[0;34m.\u001b[0m\u001b[0mautograd\u001b[0m\u001b[0;34m.\u001b[0m\u001b[0mbackward\u001b[0m\u001b[0;34m(\u001b[0m\u001b[0mself\u001b[0m\u001b[0;34m,\u001b[0m \u001b[0mgradient\u001b[0m\u001b[0;34m,\u001b[0m \u001b[0mretain_graph\u001b[0m\u001b[0;34m,\u001b[0m \u001b[0mcreate_graph\u001b[0m\u001b[0;34m)\u001b[0m\u001b[0;34m\u001b[0m\u001b[0m\n\u001b[0m\u001b[1;32m     94\u001b[0m \u001b[0;34m\u001b[0m\u001b[0m\n\u001b[1;32m     95\u001b[0m     \u001b[0;32mdef\u001b[0m \u001b[0mregister_hook\u001b[0m\u001b[0;34m(\u001b[0m\u001b[0mself\u001b[0m\u001b[0;34m,\u001b[0m \u001b[0mhook\u001b[0m\u001b[0;34m)\u001b[0m\u001b[0;34m:\u001b[0m\u001b[0;34m\u001b[0m\u001b[0m\n",
      "\u001b[0;32m/opt/conda/lib/python3.6/site-packages/torch/autograd/__init__.py\u001b[0m in \u001b[0;36mbackward\u001b[0;34m(tensors, grad_tensors, retain_graph, create_graph, grad_variables)\u001b[0m\n\u001b[1;32m     88\u001b[0m     Variable._execution_engine.run_backward(\n\u001b[1;32m     89\u001b[0m         \u001b[0mtensors\u001b[0m\u001b[0;34m,\u001b[0m \u001b[0mgrad_tensors\u001b[0m\u001b[0;34m,\u001b[0m \u001b[0mretain_graph\u001b[0m\u001b[0;34m,\u001b[0m \u001b[0mcreate_graph\u001b[0m\u001b[0;34m,\u001b[0m\u001b[0;34m\u001b[0m\u001b[0m\n\u001b[0;32m---> 90\u001b[0;31m         allow_unreachable=True)  # allow_unreachable flag\n\u001b[0m\u001b[1;32m     91\u001b[0m \u001b[0;34m\u001b[0m\u001b[0m\n\u001b[1;32m     92\u001b[0m \u001b[0;34m\u001b[0m\u001b[0m\n",
      "\u001b[0;31mKeyboardInterrupt\u001b[0m: "
     ]
    }
   ],
   "source": [
    "lrs = 5e-4\n",
    "learner.fit(lrs, 1, wds=1e-7, use_clr=(50, 3), cycle_len=10, use_wd_sched=True)"
   ]
  },
  {
   "cell_type": "code",
   "execution_count": 14,
   "metadata": {},
   "outputs": [
    {
     "data": {
      "image/png": "[encoded data removed]",
      "text/plain": [
       "<Figure size 432x288 with 1 Axes>"
      ]
     },
     "metadata": {},
     "output_type": "display_data"
    }
   ],
   "source": [
    "learner.sched.plot_loss()"
   ]
  },
  {
   "cell_type": "code",
   "execution_count": 44,
   "metadata": {},
   "outputs": [],
   "source": [
    "learner.save(\"lm_qrnn\")\n",
    "learner.save_encoder(\"lm_qrnn_enc\")"
   ]
  },
  {
   "cell_type": "code",
   "execution_count": null,
   "metadata": {},
   "outputs": [],
   "source": [
    "learner.load(\"lm_qrnn\")"
   ]
  },
  {
   "cell_type": "markdown",
   "metadata": {},
   "source": [
    "### LSTM"
   ]
  },
  {
   "cell_type": "code",
   "execution_count": 45,
   "metadata": {},
   "outputs": [],
   "source": [
    "drops = np.array([0.1, 0.1, 0.05, 0, 0.1])\n",
    "learner = model_data.get_model(\n",
    "    partial(Adam, betas=(0.8, 0.999)),\n",
    "    emb_sz=300, n_hid=500, n_layers=3,\n",
    "    dropouti=drops[0], dropout=drops[1], wdrop=drops[2],\n",
    "    dropoute=drops[3], dropouth=drops[4], qrnn=False\n",
    ")"
   ]
  },
  {
   "cell_type": "code",
   "execution_count": 10,
   "metadata": {},
   "outputs": [
    {
     "data": {
      "application/vnd.jupyter.widget-view+json": {
       "model_id": "19f9168007ae47dfb6fc991167c52b2e",
       "version_major": 2,
       "version_minor": 0
      },
      "text/plain": [
       "HBox(children=(IntProgress(value=0, description='Epoch', max=1), HTML(value='')))"
      ]
     },
     "metadata": {},
     "output_type": "display_data"
    },
    {
     "name": "stdout",
     "output_type": "stream",
     "text": [
      " 86%|████████▌ | 9069/10584 [13:20<02:13, 11.33it/s, loss=16.3]"
     ]
    },
    {
     "data": {
      "image/png": "[encoded data removed]",
      "text/plain": [
       "<Figure size 432x288 with 1 Axes>"
      ]
     },
     "metadata": {},
     "output_type": "display_data"
    }
   ],
   "source": [
    "learner.clip = 25.\n",
    "learner.lr_find(start_lr=1e-5, end_lr=1, linear=False)\n",
    "learner.sched.plot()"
   ]
  },
  {
   "cell_type": "code",
   "execution_count": 46,
   "metadata": {},
   "outputs": [
    {
     "data": {
      "application/vnd.jupyter.widget-view+json": {
       "model_id": "72cf1f30ee244e0d863bd2d08cb4e14d",
       "version_major": 2,
       "version_minor": 0
      },
      "text/plain": [
       "HBox(children=(IntProgress(value=0, description='Epoch', max=10), HTML(value='')))"
      ]
     },
     "metadata": {},
     "output_type": "display_data"
    },
    {
     "name": "stdout",
     "output_type": "stream",
     "text": [
      "epoch      trn_loss   val_loss                                  \n",
      "    0      3.997274   3.874192  \n",
      "    1      3.886165   3.745574                                  \n",
      "    2      3.883702   3.74487                                   \n",
      "    3      3.858762   3.71016                                   \n",
      "    4      3.807739   3.652625                                  \n",
      "    5      3.768698   3.608639                                  \n",
      "    6      3.73006    3.56887                                   \n",
      "    7      3.699534   3.535021                                  \n",
      "    8      3.664338   3.502909                                  \n",
      "    9      3.647414   3.479918                                  \n"
     ]
    },
    {
     "data": {
      "text/plain": [
       "[3.479918434955321]"
      ]
     },
     "execution_count": 46,
     "metadata": {},
     "output_type": "execute_result"
    }
   ],
   "source": [
    "lrs = 6e-3\n",
    "learner.fit(lrs, 1, wds=1e-7, use_clr=(50, 3), cycle_len=10, use_wd_sched=True)"
   ]
  },
  {
   "cell_type": "code",
   "execution_count": 47,
   "metadata": {},
   "outputs": [
    {
     "data": {
      "application/vnd.jupyter.widget-view+json": {
       "model_id": "320df366a6684041babf73c36292e2e7",
       "version_major": 2,
       "version_minor": 0
      },
      "text/plain": [
       "HBox(children=(IntProgress(value=0, description='Epoch', max=10), HTML(value='')))"
      ]
     },
     "metadata": {},
     "output_type": "display_data"
    },
    {
     "name": "stdout",
     "output_type": "stream",
     "text": [
      "epoch      trn_loss   val_loss                                  \n",
      "    0      3.644362   3.477419  \n",
      "    1      3.648247   3.47944                                   \n",
      "    2      3.649749   3.482529                                  \n",
      "    3      3.649635   3.479658                                  \n",
      "    4      3.642473   3.473618                                  \n",
      "    5      3.642013   3.466264                                  \n",
      "    6      3.626558   3.459457                                  \n",
      "    7      3.62733    3.454232                                  \n",
      "    8      3.614818   3.449351                                  \n",
      "    9      3.615465   3.446883                                  \n"
     ]
    },
    {
     "data": {
      "text/plain": [
       "[3.4468825760903012]"
      ]
     },
     "execution_count": 47,
     "metadata": {},
     "output_type": "execute_result"
    }
   ],
   "source": [
    "lrs = 1e-3\n",
    "learner.fit(lrs, 1, wds=1e-7, use_clr=(50, 3), cycle_len=10, use_wd_sched=True)"
   ]
  },
  {
   "cell_type": "code",
   "execution_count": 48,
   "metadata": {},
   "outputs": [
    {
     "data": {
      "image/png": "[encoded data removed]",
      "text/plain": [
       "<Figure size 432x288 with 1 Axes>"
      ]
     },
     "metadata": {},
     "output_type": "display_data"
    }
   ],
   "source": [
    "learner.sched.plot_lr()"
   ]
  },
  {
   "cell_type": "code",
   "execution_count": 49,
   "metadata": {},
   "outputs": [],
   "source": [
    "learner.save(\"lm_lstm\")\n",
    "learner.save_encoder(\"lm_lstm_enc\")"
   ]
  },
  {
   "cell_type": "code",
   "execution_count": 68,
   "metadata": {},
   "outputs": [
    {
     "ename": "TypeError",
     "evalue": "'NoneType' object is not iterable",
     "output_type": "error",
     "traceback": [
      "\u001b[0;31m---------------------------------------------------------------------------\u001b[0m",
      "\u001b[0;31mTypeError\u001b[0m                                 Traceback (most recent call last)",
      "\u001b[0;32m<ipython-input-68-4bd7ad036987>\u001b[0m in \u001b[0;36m<module>\u001b[0;34m()\u001b[0m\n\u001b[0;32m----> 1\u001b[0;31m \u001b[0mpred\u001b[0m\u001b[0;34m,\u001b[0m \u001b[0mtarg\u001b[0m \u001b[0;34m=\u001b[0m \u001b[0mlearner\u001b[0m\u001b[0;34m.\u001b[0m\u001b[0mpredict_with_targs\u001b[0m\u001b[0;34m(\u001b[0m\u001b[0mis_test\u001b[0m\u001b[0;34m=\u001b[0m\u001b[0;32mTrue\u001b[0m\u001b[0;34m)\u001b[0m\u001b[0;34m\u001b[0m\u001b[0m\n\u001b[0m",
      "\u001b[0;32m~/fastai/fastai/learner.py\u001b[0m in \u001b[0;36mpredict_with_targs\u001b[0;34m(self, is_test, use_swa)\u001b[0m\n\u001b[1;32m    377\u001b[0m         \u001b[0mdl\u001b[0m \u001b[0;34m=\u001b[0m \u001b[0mself\u001b[0m\u001b[0;34m.\u001b[0m\u001b[0mdata\u001b[0m\u001b[0;34m.\u001b[0m\u001b[0mtest_dl\u001b[0m \u001b[0;32mif\u001b[0m \u001b[0mis_test\u001b[0m \u001b[0;32melse\u001b[0m \u001b[0mself\u001b[0m\u001b[0;34m.\u001b[0m\u001b[0mdata\u001b[0m\u001b[0;34m.\u001b[0m\u001b[0mval_dl\u001b[0m\u001b[0;34m\u001b[0m\u001b[0m\n\u001b[1;32m    378\u001b[0m         \u001b[0mm\u001b[0m \u001b[0;34m=\u001b[0m \u001b[0mself\u001b[0m\u001b[0;34m.\u001b[0m\u001b[0mswa_model\u001b[0m \u001b[0;32mif\u001b[0m \u001b[0muse_swa\u001b[0m \u001b[0;32melse\u001b[0m \u001b[0mself\u001b[0m\u001b[0;34m.\u001b[0m\u001b[0mmodel\u001b[0m\u001b[0;34m\u001b[0m\u001b[0m\n\u001b[0;32m--> 379\u001b[0;31m         \u001b[0;32mreturn\u001b[0m \u001b[0mpredict_with_targs\u001b[0m\u001b[0;34m(\u001b[0m\u001b[0mm\u001b[0m\u001b[0;34m,\u001b[0m \u001b[0mdl\u001b[0m\u001b[0;34m)\u001b[0m\u001b[0;34m\u001b[0m\u001b[0m\n\u001b[0m\u001b[1;32m    380\u001b[0m \u001b[0;34m\u001b[0m\u001b[0m\n\u001b[1;32m    381\u001b[0m     \u001b[0;32mdef\u001b[0m \u001b[0mpredict_dl\u001b[0m\u001b[0;34m(\u001b[0m\u001b[0mself\u001b[0m\u001b[0;34m,\u001b[0m \u001b[0mdl\u001b[0m\u001b[0;34m)\u001b[0m\u001b[0;34m:\u001b[0m \u001b[0;32mreturn\u001b[0m \u001b[0mpredict_with_targs\u001b[0m\u001b[0;34m(\u001b[0m\u001b[0mself\u001b[0m\u001b[0;34m.\u001b[0m\u001b[0mmodel\u001b[0m\u001b[0;34m,\u001b[0m \u001b[0mdl\u001b[0m\u001b[0;34m)\u001b[0m\u001b[0;34m[\u001b[0m\u001b[0;36m0\u001b[0m\u001b[0;34m]\u001b[0m\u001b[0;34m\u001b[0m\u001b[0m\n",
      "\u001b[0;32m~/fastai/fastai/model.py\u001b[0m in \u001b[0;36mpredict_with_targs\u001b[0;34m(m, dl)\u001b[0m\n\u001b[1;32m    262\u001b[0m \u001b[0;34m\u001b[0m\u001b[0m\n\u001b[1;32m    263\u001b[0m \u001b[0;32mdef\u001b[0m \u001b[0mpredict_with_targs\u001b[0m\u001b[0;34m(\u001b[0m\u001b[0mm\u001b[0m\u001b[0;34m,\u001b[0m \u001b[0mdl\u001b[0m\u001b[0;34m)\u001b[0m\u001b[0;34m:\u001b[0m\u001b[0;34m\u001b[0m\u001b[0m\n\u001b[0;32m--> 264\u001b[0;31m     \u001b[0mpreda\u001b[0m\u001b[0;34m,\u001b[0m\u001b[0mtarga\u001b[0m \u001b[0;34m=\u001b[0m \u001b[0mpredict_with_targs_\u001b[0m\u001b[0;34m(\u001b[0m\u001b[0mm\u001b[0m\u001b[0;34m,\u001b[0m \u001b[0mdl\u001b[0m\u001b[0;34m)\u001b[0m\u001b[0;34m\u001b[0m\u001b[0m\n\u001b[0m\u001b[1;32m    265\u001b[0m     \u001b[0;32mreturn\u001b[0m \u001b[0mnp\u001b[0m\u001b[0;34m.\u001b[0m\u001b[0mconcatenate\u001b[0m\u001b[0;34m(\u001b[0m\u001b[0mpreda\u001b[0m\u001b[0;34m)\u001b[0m\u001b[0;34m,\u001b[0m \u001b[0mnp\u001b[0m\u001b[0;34m.\u001b[0m\u001b[0mconcatenate\u001b[0m\u001b[0;34m(\u001b[0m\u001b[0mtarga\u001b[0m\u001b[0;34m)\u001b[0m\u001b[0;34m\u001b[0m\u001b[0m\n\u001b[1;32m    266\u001b[0m \u001b[0;34m\u001b[0m\u001b[0m\n",
      "\u001b[0;32m~/fastai/fastai/model.py\u001b[0m in \u001b[0;36mpredict_with_targs_\u001b[0;34m(m, dl)\u001b[0m\n\u001b[1;32m    258\u001b[0m     \u001b[0;32mif\u001b[0m \u001b[0mhasattr\u001b[0m\u001b[0;34m(\u001b[0m\u001b[0mm\u001b[0m\u001b[0;34m,\u001b[0m \u001b[0;34m'reset'\u001b[0m\u001b[0;34m)\u001b[0m\u001b[0;34m:\u001b[0m \u001b[0mm\u001b[0m\u001b[0;34m.\u001b[0m\u001b[0mreset\u001b[0m\u001b[0;34m(\u001b[0m\u001b[0;34m)\u001b[0m\u001b[0;34m\u001b[0m\u001b[0m\n\u001b[1;32m    259\u001b[0m     \u001b[0mres\u001b[0m \u001b[0;34m=\u001b[0m \u001b[0;34m[\u001b[0m\u001b[0;34m]\u001b[0m\u001b[0;34m\u001b[0m\u001b[0m\n\u001b[0;32m--> 260\u001b[0;31m     \u001b[0;32mfor\u001b[0m \u001b[0;34m*\u001b[0m\u001b[0mx\u001b[0m\u001b[0;34m,\u001b[0m\u001b[0my\u001b[0m \u001b[0;32min\u001b[0m \u001b[0miter\u001b[0m\u001b[0;34m(\u001b[0m\u001b[0mdl\u001b[0m\u001b[0;34m)\u001b[0m\u001b[0;34m:\u001b[0m \u001b[0mres\u001b[0m\u001b[0;34m.\u001b[0m\u001b[0mappend\u001b[0m\u001b[0;34m(\u001b[0m\u001b[0;34m[\u001b[0m\u001b[0mget_prediction\u001b[0m\u001b[0;34m(\u001b[0m\u001b[0mto_np\u001b[0m\u001b[0;34m(\u001b[0m\u001b[0mm\u001b[0m\u001b[0;34m(\u001b[0m\u001b[0;34m*\u001b[0m\u001b[0mVV\u001b[0m\u001b[0;34m(\u001b[0m\u001b[0mx\u001b[0m\u001b[0;34m)\u001b[0m\u001b[0;34m)\u001b[0m\u001b[0;34m)\u001b[0m\u001b[0;34m)\u001b[0m\u001b[0;34m,\u001b[0m\u001b[0mto_np\u001b[0m\u001b[0;34m(\u001b[0m\u001b[0my\u001b[0m\u001b[0;34m)\u001b[0m\u001b[0;34m]\u001b[0m\u001b[0;34m)\u001b[0m\u001b[0;34m\u001b[0m\u001b[0m\n\u001b[0m\u001b[1;32m    261\u001b[0m     \u001b[0;32mreturn\u001b[0m \u001b[0mzip\u001b[0m\u001b[0;34m(\u001b[0m\u001b[0;34m*\u001b[0m\u001b[0mres\u001b[0m\u001b[0;34m)\u001b[0m\u001b[0;34m\u001b[0m\u001b[0m\n\u001b[1;32m    262\u001b[0m \u001b[0;34m\u001b[0m\u001b[0m\n",
      "\u001b[0;31mTypeError\u001b[0m: 'NoneType' object is not iterable"
     ]
    }
   ],
   "source": [
    "# Use tons of memory...\n",
    "# pred, targ = learner.predict_with_targs(is_test=True)"
   ]
  },
  {
   "cell_type": "code",
   "execution_count": 33,
   "metadata": {},
   "outputs": [],
   "source": [
    "tmp_iter = iter(trn_loader)"
   ]
  },
  {
   "cell_type": "code",
   "execution_count": 65,
   "metadata": {},
   "outputs": [
    {
     "data": {
      "text/plain": [
       "torch.Size([93, 128])"
      ]
     },
     "execution_count": 65,
     "metadata": {},
     "output_type": "execute_result"
    }
   ],
   "source": [
    "next(tmp_iter)[0].shape"
   ]
  },
  {
   "cell_type": "code",
   "execution_count": 66,
   "metadata": {},
   "outputs": [],
   "source": [
    "learner.load(\"lm_lstm\")"
   ]
  },
  {
   "cell_type": "markdown",
   "metadata": {},
   "source": [
    "## Test the model"
   ]
  },
  {
   "cell_type": "code",
   "execution_count": 50,
   "metadata": {},
   "outputs": [
    {
     "data": {
      "text/plain": [
       "SequentialRNN(\n",
       "  (0): RNN_Encoder(\n",
       "    (encoder): Embedding(3937, 300, padding_idx=0)\n",
       "    (encoder_with_dropout): EmbeddingDropout(\n",
       "      (embed): Embedding(3937, 300, padding_idx=0)\n",
       "    )\n",
       "    (rnns): ModuleList(\n",
       "      (0): WeightDrop(\n",
       "        (module): LSTM(300, 500)\n",
       "      )\n",
       "      (1): WeightDrop(\n",
       "        (module): LSTM(500, 500)\n",
       "      )\n",
       "      (2): WeightDrop(\n",
       "        (module): LSTM(500, 300)\n",
       "      )\n",
       "    )\n",
       "    (dropouti): LockedDropout()\n",
       "    (dropouths): ModuleList(\n",
       "      (0): LockedDropout()\n",
       "      (1): LockedDropout()\n",
       "      (2): LockedDropout()\n",
       "    )\n",
       "  )\n",
       "  (1): LinearDecoder(\n",
       "    (decoder): Linear(in_features=300, out_features=3937, bias=False)\n",
       "    (dropout): LockedDropout()\n",
       "  )\n",
       ")"
      ]
     },
     "execution_count": 50,
     "metadata": {},
     "output_type": "execute_result"
    }
   ],
   "source": [
    "learner.model.eval()"
   ]
  },
  {
   "cell_type": "markdown",
   "metadata": {},
   "source": [
    "### Next Character Inference"
   ]
  },
  {
   "cell_type": "code",
   "execution_count": 51,
   "metadata": {},
   "outputs": [
    {
     "data": {
      "text/plain": [
       "[170,\n",
       " 14,\n",
       " 15,\n",
       " 149,\n",
       " 271,\n",
       " 19,\n",
       " 14,\n",
       " 41,\n",
       " 11,\n",
       " 2,\n",
       " 54,\n",
       " 14,\n",
       " 134,\n",
       " 51,\n",
       " 230,\n",
       " 207,\n",
       " 823,\n",
       " 24,\n",
       " 14,\n",
       " 411,\n",
       " 1255,\n",
       " 584,\n",
       " 224]"
      ]
     },
     "execution_count": 51,
     "metadata": {},
     "output_type": "execute_result"
    }
   ],
   "source": [
    "tokens = list(map(lambda x: mapping.get(x, 1), \"德国是世界大国之一，其国内生产总值以国际汇率计\"))\n",
    "tokens"
   ]
  },
  {
   "cell_type": "code",
   "execution_count": 52,
   "metadata": {},
   "outputs": [
    {
     "data": {
      "text/plain": [
       "torch.Size([23, 3937])"
      ]
     },
     "execution_count": 52,
     "metadata": {},
     "output_type": "execute_result"
    }
   ],
   "source": [
    "logits, _, _ = learner.model(T(tokens).unsqueeze(1))\n",
    "logits.shape"
   ]
  },
  {
   "cell_type": "code",
   "execution_count": 53,
   "metadata": {},
   "outputs": [
    {
     "data": {
      "text/html": [
       "<div>\n",
       "<style scoped>\n",
       "    .dataframe tbody tr th:only-of-type {\n",
       "        vertical-align: middle;\n",
       "    }\n",
       "\n",
       "    .dataframe tbody tr th {\n",
       "        vertical-align: top;\n",
       "    }\n",
       "\n",
       "    .dataframe thead th {\n",
       "        text-align: right;\n",
       "    }\n",
       "</style>\n",
       "<table border=\"1\" class=\"dataframe\">\n",
       "  <thead>\n",
       "    <tr style=\"text-align: right;\">\n",
       "      <th></th>\n",
       "      <th>orig</th>\n",
       "      <th>pred_1</th>\n",
       "      <th>pred_2</th>\n",
       "      <th>pred_3</th>\n",
       "    </tr>\n",
       "  </thead>\n",
       "  <tbody>\n",
       "    <tr>\n",
       "      <th>0</th>\n",
       "      <td>德</td>\n",
       "      <td></td>\n",
       "      <td></td>\n",
       "      <td></td>\n",
       "    </tr>\n",
       "    <tr>\n",
       "      <th>1</th>\n",
       "      <td>国</td>\n",
       "      <td>国</td>\n",
       "      <td>州</td>\n",
       "      <td>克</td>\n",
       "    </tr>\n",
       "    <tr>\n",
       "      <th>2</th>\n",
       "      <td>是</td>\n",
       "      <td>的</td>\n",
       "      <td>人</td>\n",
       "      <td>国</td>\n",
       "    </tr>\n",
       "    <tr>\n",
       "      <th>3</th>\n",
       "      <td>世</td>\n",
       "      <td>一</td>\n",
       "      <td>否</td>\n",
       "      <td>最</td>\n",
       "    </tr>\n",
       "    <tr>\n",
       "      <th>4</th>\n",
       "      <td>界</td>\n",
       "      <td>界</td>\n",
       "      <td>上</td>\n",
       "      <td>纪</td>\n",
       "    </tr>\n",
       "    <tr>\n",
       "      <th>5</th>\n",
       "      <td>大</td>\n",
       "      <td>上</td>\n",
       "      <td>最</td>\n",
       "      <td>第</td>\n",
       "    </tr>\n",
       "    <tr>\n",
       "      <th>6</th>\n",
       "      <td>国</td>\n",
       "      <td>学</td>\n",
       "      <td>赛</td>\n",
       "      <td>战</td>\n",
       "    </tr>\n",
       "    <tr>\n",
       "      <th>7</th>\n",
       "      <td>之</td>\n",
       "      <td>的</td>\n",
       "      <td>，</td>\n",
       "      <td>家</td>\n",
       "    </tr>\n",
       "    <tr>\n",
       "      <th>8</th>\n",
       "      <td>一</td>\n",
       "      <td>一</td>\n",
       "      <td>首</td>\n",
       "      <td>间</td>\n",
       "    </tr>\n",
       "    <tr>\n",
       "      <th>9</th>\n",
       "      <td>，</td>\n",
       "      <td>。</td>\n",
       "      <td>，</td>\n",
       "      <td>的</td>\n",
       "    </tr>\n",
       "    <tr>\n",
       "      <th>10</th>\n",
       "      <td>其</td>\n",
       "      <td>但</td>\n",
       "      <td>并</td>\n",
       "      <td>在</td>\n",
       "    </tr>\n",
       "    <tr>\n",
       "      <th>11</th>\n",
       "      <td>国</td>\n",
       "      <td>中</td>\n",
       "      <td>他</td>\n",
       "      <td>后</td>\n",
       "    </tr>\n",
       "    <tr>\n",
       "      <th>12</th>\n",
       "      <td>内</td>\n",
       "      <td>家</td>\n",
       "      <td>际</td>\n",
       "      <td>内</td>\n",
       "    </tr>\n",
       "    <tr>\n",
       "      <th>13</th>\n",
       "      <td>生</td>\n",
       "      <td>的</td>\n",
       "      <td>有</td>\n",
       "      <td>最</td>\n",
       "    </tr>\n",
       "    <tr>\n",
       "      <th>14</th>\n",
       "      <td>产</td>\n",
       "      <td>产</td>\n",
       "      <td>活</td>\n",
       "      <td>态</td>\n",
       "    </tr>\n",
       "    <tr>\n",
       "      <th>15</th>\n",
       "      <td>总</td>\n",
       "      <td>总</td>\n",
       "      <td>商</td>\n",
       "      <td>的</td>\n",
       "    </tr>\n",
       "    <tr>\n",
       "      <th>16</th>\n",
       "      <td>值</td>\n",
       "      <td>值</td>\n",
       "      <td>额</td>\n",
       "      <td>量</td>\n",
       "    </tr>\n",
       "    <tr>\n",
       "      <th>17</th>\n",
       "      <td>以</td>\n",
       "      <td>为</td>\n",
       "      <td>达</td>\n",
       "      <td>约</td>\n",
       "    </tr>\n",
       "    <tr>\n",
       "      <th>18</th>\n",
       "      <td>国</td>\n",
       "      <td>及</td>\n",
       "      <td>1</td>\n",
       "      <td>2</td>\n",
       "    </tr>\n",
       "    <tr>\n",
       "      <th>19</th>\n",
       "      <td>际</td>\n",
       "      <td>际</td>\n",
       "      <td>家</td>\n",
       "      <td>内</td>\n",
       "    </tr>\n",
       "    <tr>\n",
       "      <th>20</th>\n",
       "      <td>汇</td>\n",
       "      <td>性</td>\n",
       "      <td>化</td>\n",
       "      <td>法</td>\n",
       "    </tr>\n",
       "    <tr>\n",
       "      <th>21</th>\n",
       "      <td>率</td>\n",
       "      <td>率</td>\n",
       "      <td>报</td>\n",
       "      <td>总</td>\n",
       "    </tr>\n",
       "    <tr>\n",
       "      <th>22</th>\n",
       "      <td>计</td>\n",
       "      <td>为</td>\n",
       "      <td>的</td>\n",
       "      <td>和</td>\n",
       "    </tr>\n",
       "    <tr>\n",
       "      <th>23</th>\n",
       "      <td></td>\n",
       "      <td>算</td>\n",
       "      <td>划</td>\n",
       "      <td>量</td>\n",
       "    </tr>\n",
       "  </tbody>\n",
       "</table>\n",
       "</div>"
      ],
      "text/plain": [
       "   orig pred_1 pred_2 pred_3\n",
       "0     德                     \n",
       "1     国      国      州      克\n",
       "2     是      的      人      国\n",
       "3     世      一      否      最\n",
       "4     界      界      上      纪\n",
       "5     大      上      最      第\n",
       "6     国      学      赛      战\n",
       "7     之      的      ，      家\n",
       "8     一      一      首      间\n",
       "9     ，      。      ，      的\n",
       "10    其      但      并      在\n",
       "11    国      中      他      后\n",
       "12    内      家      际      内\n",
       "13    生      的      有      最\n",
       "14    产      产      活      态\n",
       "15    总      总      商      的\n",
       "16    值      值      额      量\n",
       "17    以      为      达      约\n",
       "18    国      及      1      2\n",
       "19    际      际      家      内\n",
       "20    汇      性      化      法\n",
       "21    率      率      报      总\n",
       "22    计      为      的      和\n",
       "23           算      划      量"
      ]
     },
     "execution_count": 53,
     "metadata": {},
     "output_type": "execute_result"
    }
   ],
   "source": [
    "sorted_idx = np.argsort(logits.data.cpu().numpy(), 1)\n",
    "preds = []\n",
    "for i in range(1, 4):\n",
    "      preds.append(list(map(lambda x: itos[x], sorted_idx[:, -i])))\n",
    "# preds = list(map(lambda x: itos[x], np.argmax(logits.data.cpu().numpy(), 1)))\n",
    "pd.DataFrame({\"orig\": [x for x in \"德国是世界大国之一，其国内生产总值以国际汇率计 \"], \n",
    "              \"pred_1\": [\"\"] + preds[0], \"pred_2\": [\"\"] + preds[1], \"pred_3\": [\"\"] + preds[2]})"
   ]
  },
  {
   "cell_type": "code",
   "execution_count": 54,
   "metadata": {},
   "outputs": [],
   "source": [
    "def eval(texts):\n",
    "    learner.model[0].reset()\n",
    "    tokens = list(map(lambda x: mapping.get(x, 1), texts))\n",
    "    logits, _, _ = learner.model(T(tokens).unsqueeze(1))\n",
    "    sorted_idx = np.argsort(logits.data.cpu().numpy(), 1)\n",
    "    preds = []\n",
    "    for i in range(1, 4):\n",
    "          preds.append(list(map(lambda x: itos[x], sorted_idx[:, -i])))\n",
    "    # preds = list(map(lambda x: itos[x], np.argmax(logits.data.cpu().numpy(), 1)))\n",
    "    return pd.DataFrame({\"orig\": [x for x in texts + \" \"], \n",
    "                  \"pred_1\": [\"\"] + preds[0], \"pred_2\": [\"\"] + preds[1], \"pred_3\": [\"\"] + preds[2]})"
   ]
  },
  {
   "cell_type": "code",
   "execution_count": 55,
   "metadata": {},
   "outputs": [
    {
     "data": {
      "text/html": [
       "<div>\n",
       "<style scoped>\n",
       "    .dataframe tbody tr th:only-of-type {\n",
       "        vertical-align: middle;\n",
       "    }\n",
       "\n",
       "    .dataframe tbody tr th {\n",
       "        vertical-align: top;\n",
       "    }\n",
       "\n",
       "    .dataframe thead th {\n",
       "        text-align: right;\n",
       "    }\n",
       "</style>\n",
       "<table border=\"1\" class=\"dataframe\">\n",
       "  <thead>\n",
       "    <tr style=\"text-align: right;\">\n",
       "      <th></th>\n",
       "      <th>orig</th>\n",
       "      <th>pred_1</th>\n",
       "      <th>pred_2</th>\n",
       "      <th>pred_3</th>\n",
       "    </tr>\n",
       "  </thead>\n",
       "  <tbody>\n",
       "    <tr>\n",
       "      <th>0</th>\n",
       "      <td>在</td>\n",
       "      <td></td>\n",
       "      <td></td>\n",
       "      <td></td>\n",
       "    </tr>\n",
       "    <tr>\n",
       "      <th>1</th>\n",
       "      <td>现</td>\n",
       "      <td>1</td>\n",
       "      <td>2</td>\n",
       "      <td>中</td>\n",
       "    </tr>\n",
       "    <tr>\n",
       "      <th>2</th>\n",
       "      <td>代</td>\n",
       "      <td>场</td>\n",
       "      <td>代</td>\n",
       "      <td>在</td>\n",
       "    </tr>\n",
       "    <tr>\n",
       "      <th>3</th>\n",
       "      <td>印</td>\n",
       "      <td>化</td>\n",
       "      <td>的</td>\n",
       "      <td>国</td>\n",
       "    </tr>\n",
       "    <tr>\n",
       "      <th>4</th>\n",
       "      <td>刷</td>\n",
       "      <td>度</td>\n",
       "      <td>刷</td>\n",
       "      <td>第</td>\n",
       "    </tr>\n",
       "    <tr>\n",
       "      <th>5</th>\n",
       "      <td>媒</td>\n",
       "      <td>业</td>\n",
       "      <td>厂</td>\n",
       "      <td>品</td>\n",
       "    </tr>\n",
       "    <tr>\n",
       "      <th>6</th>\n",
       "      <td>体</td>\n",
       "      <td>体</td>\n",
       "      <td>介</td>\n",
       "      <td>报</td>\n",
       "    </tr>\n",
       "    <tr>\n",
       "      <th>7</th>\n",
       "      <td>，</td>\n",
       "      <td>上</td>\n",
       "      <td>中</td>\n",
       "      <td>的</td>\n",
       "    </tr>\n",
       "    <tr>\n",
       "      <th>8</th>\n",
       "      <td>卡</td>\n",
       "      <td>以</td>\n",
       "      <td>并</td>\n",
       "      <td>在</td>\n",
       "    </tr>\n",
       "    <tr>\n",
       "      <th>9</th>\n",
       "      <td>通</td>\n",
       "      <td>尔</td>\n",
       "      <td>拉</td>\n",
       "      <td>斯</td>\n",
       "    </tr>\n",
       "    <tr>\n",
       "      <th>10</th>\n",
       "      <td>是</td>\n",
       "      <td>的</td>\n",
       "      <td>、</td>\n",
       "      <td>，</td>\n",
       "    </tr>\n",
       "    <tr>\n",
       "      <th>11</th>\n",
       "      <td>一</td>\n",
       "      <td>一</td>\n",
       "      <td>否</td>\n",
       "      <td>由</td>\n",
       "    </tr>\n",
       "    <tr>\n",
       "      <th>12</th>\n",
       "      <td>种</td>\n",
       "      <td>个</td>\n",
       "      <td>种</td>\n",
       "      <td>部</td>\n",
       "    </tr>\n",
       "    <tr>\n",
       "      <th>13</th>\n",
       "      <td>通</td>\n",
       "      <td>不</td>\n",
       "      <td>非</td>\n",
       "      <td>新</td>\n",
       "    </tr>\n",
       "    <tr>\n",
       "      <th>14</th>\n",
       "      <td>常</td>\n",
       "      <td>讯</td>\n",
       "      <td>过</td>\n",
       "      <td>用</td>\n",
       "    </tr>\n",
       "    <tr>\n",
       "      <th>15</th>\n",
       "      <td>有</td>\n",
       "      <td>的</td>\n",
       "      <td>用</td>\n",
       "      <td>都</td>\n",
       "    </tr>\n",
       "    <tr>\n",
       "      <th>16</th>\n",
       "      <td>幽</td>\n",
       "      <td>效</td>\n",
       "      <td>关</td>\n",
       "      <td>一</td>\n",
       "    </tr>\n",
       "    <tr>\n",
       "      <th>17</th>\n",
       "      <td>默</td>\n",
       "      <td>默</td>\n",
       "      <td>灵</td>\n",
       "      <td>冥</td>\n",
       "    </tr>\n",
       "    <tr>\n",
       "      <th>18</th>\n",
       "      <td>色</td>\n",
       "      <td>的</td>\n",
       "      <td>、</td>\n",
       "      <td>感</td>\n",
       "    </tr>\n",
       "    <tr>\n",
       "      <th>19</th>\n",
       "      <td></td>\n",
       "      <td>彩</td>\n",
       "      <td>情</td>\n",
       "      <td>调</td>\n",
       "    </tr>\n",
       "  </tbody>\n",
       "</table>\n",
       "</div>"
      ],
      "text/plain": [
       "   orig pred_1 pred_2 pred_3\n",
       "0     在                     \n",
       "1     现      1      2      中\n",
       "2     代      场      代      在\n",
       "3     印      化      的      国\n",
       "4     刷      度      刷      第\n",
       "5     媒      业      厂      品\n",
       "6     体      体      介      报\n",
       "7     ，      上      中      的\n",
       "8     卡      以      并      在\n",
       "9     通      尔      拉      斯\n",
       "10    是      的      、      ，\n",
       "11    一      一      否      由\n",
       "12    种      个      种      部\n",
       "13    通      不      非      新\n",
       "14    常      讯      过      用\n",
       "15    有      的      用      都\n",
       "16    幽      效      关      一\n",
       "17    默      默      灵      冥\n",
       "18    色      的      、      感\n",
       "19           彩      情      调"
      ]
     },
     "execution_count": 55,
     "metadata": {},
     "output_type": "execute_result"
    }
   ],
   "source": [
    "eval(\"在现代印刷媒体，卡通是一种通常有幽默色\")"
   ]
  },
  {
   "cell_type": "code",
   "execution_count": 56,
   "metadata": {},
   "outputs": [
    {
     "data": {
      "text/html": [
       "<div>\n",
       "<style scoped>\n",
       "    .dataframe tbody tr th:only-of-type {\n",
       "        vertical-align: middle;\n",
       "    }\n",
       "\n",
       "    .dataframe tbody tr th {\n",
       "        vertical-align: top;\n",
       "    }\n",
       "\n",
       "    .dataframe thead th {\n",
       "        text-align: right;\n",
       "    }\n",
       "</style>\n",
       "<table border=\"1\" class=\"dataframe\">\n",
       "  <thead>\n",
       "    <tr style=\"text-align: right;\">\n",
       "      <th></th>\n",
       "      <th>orig</th>\n",
       "      <th>pred_1</th>\n",
       "      <th>pred_2</th>\n",
       "      <th>pred_3</th>\n",
       "    </tr>\n",
       "  </thead>\n",
       "  <tbody>\n",
       "    <tr>\n",
       "      <th>0</th>\n",
       "      <td>对</td>\n",
       "      <td></td>\n",
       "      <td></td>\n",
       "      <td></td>\n",
       "    </tr>\n",
       "    <tr>\n",
       "      <th>1</th>\n",
       "      <td>中</td>\n",
       "      <td>于</td>\n",
       "      <td>象</td>\n",
       "      <td>外</td>\n",
       "    </tr>\n",
       "    <tr>\n",
       "      <th>2</th>\n",
       "      <td>国</td>\n",
       "      <td>国</td>\n",
       "      <td>华</td>\n",
       "      <td>央</td>\n",
       "    </tr>\n",
       "    <tr>\n",
       "      <th>3</th>\n",
       "      <td>与</td>\n",
       "      <td>的</td>\n",
       "      <td>大</td>\n",
       "      <td>人</td>\n",
       "    </tr>\n",
       "    <tr>\n",
       "      <th>4</th>\n",
       "      <td>南</td>\n",
       "      <td>中</td>\n",
       "      <td>日</td>\n",
       "      <td>印</td>\n",
       "    </tr>\n",
       "    <tr>\n",
       "      <th>5</th>\n",
       "      <td>洋</td>\n",
       "      <td>非</td>\n",
       "      <td>美</td>\n",
       "      <td>韩</td>\n",
       "    </tr>\n",
       "    <tr>\n",
       "      <th>6</th>\n",
       "      <td>发</td>\n",
       "      <td>的</td>\n",
       "      <td>之</td>\n",
       "      <td>各</td>\n",
       "    </tr>\n",
       "    <tr>\n",
       "      <th>7</th>\n",
       "      <td>动</td>\n",
       "      <td>展</td>\n",
       "      <td>生</td>\n",
       "      <td>动</td>\n",
       "    </tr>\n",
       "    <tr>\n",
       "      <th>8</th>\n",
       "      <td>全</td>\n",
       "      <td>的</td>\n",
       "      <td>了</td>\n",
       "      <td>战</td>\n",
       "    </tr>\n",
       "    <tr>\n",
       "      <th>9</th>\n",
       "      <td>面</td>\n",
       "      <td>面</td>\n",
       "      <td>球</td>\n",
       "      <td>国</td>\n",
       "    </tr>\n",
       "    <tr>\n",
       "      <th>10</th>\n",
       "      <td>的</td>\n",
       "      <td>的</td>\n",
       "      <td>战</td>\n",
       "      <td>进</td>\n",
       "    </tr>\n",
       "    <tr>\n",
       "      <th>11</th>\n",
       "      <td>战</td>\n",
       "      <td>战</td>\n",
       "      <td>攻</td>\n",
       "      <td>冲</td>\n",
       "    </tr>\n",
       "    <tr>\n",
       "      <th>12</th>\n",
       "      <td>争</td>\n",
       "      <td>争</td>\n",
       "      <td>斗</td>\n",
       "      <td>略</td>\n",
       "    </tr>\n",
       "    <tr>\n",
       "      <th>13</th>\n",
       "      <td>。</td>\n",
       "      <td>，</td>\n",
       "      <td>。</td>\n",
       "      <td>的</td>\n",
       "    </tr>\n",
       "    <tr>\n",
       "      <th>14</th>\n",
       "      <td>\\n</td>\n",
       "      <td>&lt;unk&gt;</td>\n",
       "      <td>1</td>\n",
       "      <td>在</td>\n",
       "    </tr>\n",
       "    <tr>\n",
       "      <th>15</th>\n",
       "      <td>1</td>\n",
       "      <td>1</td>\n",
       "      <td>2</td>\n",
       "      <td>在</td>\n",
       "    </tr>\n",
       "    <tr>\n",
       "      <th>16</th>\n",
       "      <td>9</td>\n",
       "      <td>9</td>\n",
       "      <td>8</td>\n",
       "      <td>7</td>\n",
       "    </tr>\n",
       "    <tr>\n",
       "      <th>17</th>\n",
       "      <td>9</td>\n",
       "      <td>9</td>\n",
       "      <td>8</td>\n",
       "      <td>4</td>\n",
       "    </tr>\n",
       "    <tr>\n",
       "      <th>18</th>\n",
       "      <td>0</td>\n",
       "      <td>9</td>\n",
       "      <td>0</td>\n",
       "      <td>8</td>\n",
       "    </tr>\n",
       "    <tr>\n",
       "      <th>19</th>\n",
       "      <td>年</td>\n",
       "      <td>年</td>\n",
       "      <td>-</td>\n",
       "      <td>至</td>\n",
       "    </tr>\n",
       "    <tr>\n",
       "      <th>20</th>\n",
       "      <td>代</td>\n",
       "      <td>代</td>\n",
       "      <td>，</td>\n",
       "      <td>1</td>\n",
       "    </tr>\n",
       "    <tr>\n",
       "      <th>21</th>\n",
       "      <td>，</td>\n",
       "      <td>，</td>\n",
       "      <td>初</td>\n",
       "      <td>末</td>\n",
       "    </tr>\n",
       "    <tr>\n",
       "      <th>22</th>\n",
       "      <td>中</td>\n",
       "      <td>中</td>\n",
       "      <td>在</td>\n",
       "      <td>由</td>\n",
       "    </tr>\n",
       "    <tr>\n",
       "      <th>23</th>\n",
       "      <td></td>\n",
       "      <td>国</td>\n",
       "      <td>华</td>\n",
       "      <td>共</td>\n",
       "    </tr>\n",
       "  </tbody>\n",
       "</table>\n",
       "</div>"
      ],
      "text/plain": [
       "   orig pred_1 pred_2 pred_3\n",
       "0     对                     \n",
       "1     中      于      象      外\n",
       "2     国      国      华      央\n",
       "3     与      的      大      人\n",
       "4     南      中      日      印\n",
       "5     洋      非      美      韩\n",
       "6     发      的      之      各\n",
       "7     动      展      生      动\n",
       "8     全      的      了      战\n",
       "9     面      面      球      国\n",
       "10    的      的      战      进\n",
       "11    战      战      攻      冲\n",
       "12    争      争      斗      略\n",
       "13    。      ，      。      的\n",
       "14   \\n  <unk>      1      在\n",
       "15    1      1      2      在\n",
       "16    9      9      8      7\n",
       "17    9      9      8      4\n",
       "18    0      9      0      8\n",
       "19    年      年      -      至\n",
       "20    代      代      ，      1\n",
       "21    ，      ，      初      末\n",
       "22    中      中      在      由\n",
       "23           国      华      共"
      ]
     },
     "execution_count": 56,
     "metadata": {},
     "output_type": "execute_result"
    }
   ],
   "source": [
    "eval(\"对中国与南洋发动全面的战争。\\n1990年代，中\")"
   ]
  },
  {
   "cell_type": "markdown",
   "metadata": {},
   "source": [
    "### Generate Sentence"
   ]
  },
  {
   "cell_type": "code",
   "execution_count": 1,
   "metadata": {},
   "outputs": [
    {
     "ename": "NameError",
     "evalue": "name 'mapping' is not defined",
     "output_type": "error",
     "traceback": [
      "\u001b[0;31m---------------------------------------------------------------------------\u001b[0m",
      "\u001b[0;31mNameError\u001b[0m                                 Traceback (most recent call last)",
      "\u001b[0;32m<ipython-input-1-ac62bc097061>\u001b[0m in \u001b[0;36m<module>\u001b[0;34m()\u001b[0m\n\u001b[1;32m     27\u001b[0m         \u001b[0mprint\u001b[0m\u001b[0;34m(\u001b[0m\u001b[0;34m\"\"\u001b[0m\u001b[0;34m.\u001b[0m\u001b[0mjoin\u001b[0m\u001b[0;34m(\u001b[0m\u001b[0;34m[\u001b[0m\u001b[0mitos\u001b[0m\u001b[0;34m[\u001b[0m\u001b[0mx\u001b[0m\u001b[0;34m]\u001b[0m \u001b[0;32mfor\u001b[0m \u001b[0mx\u001b[0m \u001b[0;32min\u001b[0m \u001b[0mtokens\u001b[0m\u001b[0;34m]\u001b[0m\u001b[0;34m)\u001b[0m\u001b[0;34m)\u001b[0m\u001b[0;34m\u001b[0m\u001b[0m\n\u001b[1;32m     28\u001b[0m \u001b[0;34m\u001b[0m\u001b[0m\n\u001b[0;32m---> 29\u001b[0;31m \u001b[0mgenerate_text\u001b[0m\u001b[0;34m(\u001b[0m\u001b[0mget_tokens\u001b[0m\u001b[0;34m(\u001b[0m\u001b[0;34m\"德国是世界大国之一，其国内生产总值以国际汇率为主，\"\u001b[0m\u001b[0;34m)\u001b[0m\u001b[0;34m)\u001b[0m\u001b[0;34m\u001b[0m\u001b[0m\n\u001b[0m",
      "\u001b[0;32m<ipython-input-1-ac62bc097061>\u001b[0m in \u001b[0;36mget_tokens\u001b[0;34m(texts)\u001b[0m\n\u001b[1;32m      2\u001b[0m \u001b[0;34m\u001b[0m\u001b[0m\n\u001b[1;32m      3\u001b[0m \u001b[0;32mdef\u001b[0m \u001b[0mget_tokens\u001b[0m\u001b[0;34m(\u001b[0m\u001b[0mtexts\u001b[0m\u001b[0;34m)\u001b[0m\u001b[0;34m:\u001b[0m\u001b[0;34m\u001b[0m\u001b[0m\n\u001b[0;32m----> 4\u001b[0;31m     \u001b[0;32mreturn\u001b[0m \u001b[0mlist\u001b[0m\u001b[0;34m(\u001b[0m\u001b[0mmap\u001b[0m\u001b[0;34m(\u001b[0m\u001b[0;32mlambda\u001b[0m \u001b[0mx\u001b[0m\u001b[0;34m:\u001b[0m \u001b[0mmapping\u001b[0m\u001b[0;34m.\u001b[0m\u001b[0mget\u001b[0m\u001b[0;34m(\u001b[0m\u001b[0mx\u001b[0m\u001b[0;34m,\u001b[0m \u001b[0;36m1\u001b[0m\u001b[0;34m)\u001b[0m\u001b[0;34m,\u001b[0m \u001b[0mtexts\u001b[0m\u001b[0;34m)\u001b[0m\u001b[0;34m)\u001b[0m\u001b[0;34m\u001b[0m\u001b[0m\n\u001b[0m\u001b[1;32m      5\u001b[0m \u001b[0;34m\u001b[0m\u001b[0m\n\u001b[1;32m      6\u001b[0m \u001b[0;32mdef\u001b[0m \u001b[0mgenerate_text\u001b[0m\u001b[0;34m(\u001b[0m\u001b[0mtokens\u001b[0m\u001b[0;34m,\u001b[0m\u001b[0mN\u001b[0m\u001b[0;34m=\u001b[0m\u001b[0;36m25\u001b[0m\u001b[0;34m)\u001b[0m\u001b[0;34m:\u001b[0m\u001b[0;34m\u001b[0m\u001b[0m\n",
      "\u001b[0;32m<ipython-input-1-ac62bc097061>\u001b[0m in \u001b[0;36m<lambda>\u001b[0;34m(x)\u001b[0m\n\u001b[1;32m      2\u001b[0m \u001b[0;34m\u001b[0m\u001b[0m\n\u001b[1;32m      3\u001b[0m \u001b[0;32mdef\u001b[0m \u001b[0mget_tokens\u001b[0m\u001b[0;34m(\u001b[0m\u001b[0mtexts\u001b[0m\u001b[0;34m)\u001b[0m\u001b[0;34m:\u001b[0m\u001b[0;34m\u001b[0m\u001b[0m\n\u001b[0;32m----> 4\u001b[0;31m     \u001b[0;32mreturn\u001b[0m \u001b[0mlist\u001b[0m\u001b[0;34m(\u001b[0m\u001b[0mmap\u001b[0m\u001b[0;34m(\u001b[0m\u001b[0;32mlambda\u001b[0m \u001b[0mx\u001b[0m\u001b[0;34m:\u001b[0m \u001b[0mmapping\u001b[0m\u001b[0;34m.\u001b[0m\u001b[0mget\u001b[0m\u001b[0;34m(\u001b[0m\u001b[0mx\u001b[0m\u001b[0;34m,\u001b[0m \u001b[0;36m1\u001b[0m\u001b[0;34m)\u001b[0m\u001b[0;34m,\u001b[0m \u001b[0mtexts\u001b[0m\u001b[0;34m)\u001b[0m\u001b[0;34m)\u001b[0m\u001b[0;34m\u001b[0m\u001b[0m\n\u001b[0m\u001b[1;32m      5\u001b[0m \u001b[0;34m\u001b[0m\u001b[0m\n\u001b[1;32m      6\u001b[0m \u001b[0;32mdef\u001b[0m \u001b[0mgenerate_text\u001b[0m\u001b[0;34m(\u001b[0m\u001b[0mtokens\u001b[0m\u001b[0;34m,\u001b[0m\u001b[0mN\u001b[0m\u001b[0;34m=\u001b[0m\u001b[0;36m25\u001b[0m\u001b[0;34m)\u001b[0m\u001b[0;34m:\u001b[0m\u001b[0;34m\u001b[0m\u001b[0m\n",
      "\u001b[0;31mNameError\u001b[0m: name 'mapping' is not defined"
     ]
    }
   ],
   "source": [
    "import random\n",
    "\n",
    "def get_tokens(texts):\n",
    "    return list(map(lambda x: mapping.get(x, 1), texts))\n",
    "\n",
    "def generate_text(tokens,N=25):    \n",
    "    preds = []          \n",
    "    for i in range(N):   \n",
    "        learner.model[0].reset()          \n",
    "        logits, _, _ = learner.model(T(tokens).unsqueeze(1))\n",
    "        probs = F.softmax(logits).data.cpu().numpy()[-1, :]\n",
    "        candidates = np.argsort(probs)[::-1]\n",
    "        while True:\n",
    "            candidate = np.random.choice(candidates, p=probs[candidates])\n",
    "            if candidate > 1 and ord(itos[candidate]) > 255:\n",
    "                print(probs[candidates][:3], probs[candidate])\n",
    "                preds.append(candidate)\n",
    "                break\n",
    "        # for candidate in candidates:\n",
    "        #     if candidate > 1 and ord(itos[candidate]) > 255 and (random.random() < probs[candidate] or probs[candidate] < 0.2):\n",
    "        #         print(probs[candidate])\n",
    "        #         preds.append(candidate)\n",
    "        #         break\n",
    "        # tokens  = [preds[-1]]# \n",
    "        tokens.append(preds[-1])\n",
    "        # tokens = [:1]\n",
    "        print(\"\".join([itos[x] for x in tokens])) \n",
    "    \n",
    "generate_text(get_tokens(\"德国是世界大国之一，其国内生产总值以国际汇率为主，\"))"
   ]
  },
  {
   "cell_type": "code",
   "execution_count": 73,
   "metadata": {},
   "outputs": [
    {
     "name": "stdout",
     "output_type": "stream",
     "text": [
      "[0.97204 0.01741 0.00242] 0.97203964\n",
      "在现代印刷媒体，卡通是一种通常有幽默色彩\n",
      "[0.79854 0.04406 0.0319 ] 0.79853874\n",
      "在现代印刷媒体，卡通是一种通常有幽默色彩的\n",
      "[0.04831 0.01729 0.01346] 2.5049203e-05\n",
      "在现代印刷媒体，卡通是一种通常有幽默色彩的彗\n",
      "[0.92119 0.01683 0.00602] 0.016833587\n",
      "在现代印刷媒体，卡通是一种通常有幽默色彩的彗体\n",
      "[0.26568 0.23342 0.01468] 0.23341978\n",
      "在现代印刷媒体，卡通是一种通常有幽默色彩的彗体。\n",
      "[0.10097 0.05627 0.03845] 0.0023278366\n",
      "在现代印刷媒体，卡通是一种通常有幽默色彩的彗体。阿\n",
      "[0.1108  0.09062 0.04832] 0.014364317\n",
      "在现代印刷媒体，卡通是一种通常有幽默色彩的彗体。阿斯\n",
      "[0.09415 0.07406 0.07022] 0.022943802\n",
      "在现代印刷媒体，卡通是一种通常有幽默色彩的彗体。阿斯蒂\n",
      "[0.05765 0.05608 0.05353] 0.0014080367\n",
      "在现代印刷媒体，卡通是一种通常有幽默色彩的彗体。阿斯蒂一\n",
      "[0.14327 0.12997 0.06533] 0.004424166\n",
      "在现代印刷媒体，卡通是一种通常有幽默色彩的彗体。阿斯蒂一向\n",
      "[0.06895 0.0454  0.04008] 0.0005687519\n",
      "在现代印刷媒体，卡通是一种通常有幽默色彩的彗体。阿斯蒂一向到\n",
      "[0.25465 0.11516 0.03191] 0.25464857\n",
      "在现代印刷媒体，卡通是一种通常有幽默色彩的彗体。阿斯蒂一向到了\n",
      "[0.15358 0.07915 0.02014] 0.0040254504\n",
      "在现代印刷媒体，卡通是一种通常有幽默色彩的彗体。阿斯蒂一向到了该\n",
      "[0.07732 0.04548 0.03315] 0.0004444278\n",
      "在现代印刷媒体，卡通是一种通常有幽默色彩的彗体。阿斯蒂一向到了该办\n",
      "[0.73926 0.12025 0.06847] 0.06847328\n",
      "在现代印刷媒体，卡通是一种通常有幽默色彩的彗体。阿斯蒂一向到了该办法\n",
      "[0.2709  0.10933 0.10357] 0.01903456\n",
      "在现代印刷媒体，卡通是一种通常有幽默色彩的彗体。阿斯蒂一向到了该办法是\n",
      "[0.05084 0.04732 0.04638] 0.02288597\n",
      "在现代印刷媒体，卡通是一种通常有幽默色彩的彗体。阿斯蒂一向到了该办法是“\n",
      "[0.02707 0.01708 0.01663] 0.00030738124\n",
      "在现代印刷媒体，卡通是一种通常有幽默色彩的彗体。阿斯蒂一向到了该办法是“玛\n",
      "[0.4003  0.08046 0.07095] 0.40029588\n",
      "在现代印刷媒体，卡通是一种通常有幽默色彩的彗体。阿斯蒂一向到了该办法是“玛丽\n",
      "[0.18616 0.1795  0.04882] 0.00023918573\n",
      "在现代印刷媒体，卡通是一种通常有幽默色彩的彗体。阿斯蒂一向到了该办法是“玛丽宫\n",
      "[0.2928  0.1422  0.01894] 0.00077881326\n",
      "在现代印刷媒体，卡通是一种通常有幽默色彩的彗体。阿斯蒂一向到了该办法是“玛丽宫举\n",
      "[0.58238 0.21191 0.01417] 0.5823835\n",
      "在现代印刷媒体，卡通是一种通常有幽默色彩的彗体。阿斯蒂一向到了该办法是“玛丽宫举行\n",
      "[0.37417 0.09742 0.04068] 0.3741717\n",
      "在现代印刷媒体，卡通是一种通常有幽默色彩的彗体。阿斯蒂一向到了该办法是“玛丽宫举行的\n",
      "[0.12487 0.04545 0.04155] 0.0051490804\n",
      "在现代印刷媒体，卡通是一种通常有幽默色彩的彗体。阿斯蒂一向到了该办法是“玛丽宫举行的三\n",
      "[0.13664 0.12813 0.08694] 0.0009176853\n",
      "在现代印刷媒体，卡通是一种通常有幽默色彩的彗体。阿斯蒂一向到了该办法是“玛丽宫举行的三党\n"
     ]
    }
   ],
   "source": [
    "generate_text(get_tokens(\"在现代印刷媒体，卡通是一种通常有幽默色\"))"
   ]
  },
  {
   "cell_type": "code",
   "execution_count": 74,
   "metadata": {},
   "outputs": [
    {
     "name": "stdout",
     "output_type": "stream",
     "text": [
      "[0.33281 0.22589 0.11032] 0.22588727\n",
      "在现代印刷媒体， 第二\n",
      "[0.15895 0.10703 0.04518] 0.15895009\n",
      "在现代印刷媒体， 第二次\n",
      "[0.68488 0.01888 0.01076] 0.6848839\n",
      "在现代印刷媒体， 第二次世\n",
      "[0.99992 0.00004 0.00001] 0.9999187\n",
      "在现代印刷媒体， 第二次世界\n",
      "[0.99946 0.00005 0.00005] 0.9994642\n",
      "在现代印刷媒体， 第二次世界大\n",
      "[0.99994 0.00001 0.00001] 0.9999356\n",
      "在现代印刷媒体， 第二次世界大战\n",
      "[0.17927 0.14888 0.09744] 0.17927426\n",
      "在现代印刷媒体， 第二次世界大战期\n",
      "[0.99924 0.00016 0.00005] 0.99924004\n",
      "在现代印刷媒体， 第二次世界大战期间\n",
      "[0.76657 0.01834 0.00865] 0.7665748\n",
      "在现代印刷媒体， 第二次世界大战期间，\n",
      "[0.03996 0.02927 0.02716] 0.0015408307\n",
      "在现代印刷媒体， 第二次世界大战期间，先\n",
      "[0.42428 0.08643 0.07613] 0.42427954\n",
      "在现代印刷媒体， 第二次世界大战期间，先后\n",
      "[0.13964 0.06443 0.04112] 0.13964178\n",
      "在现代印刷媒体， 第二次世界大战期间，先后在\n",
      "[0.04719 0.03397 0.02794] 0.0022378713\n",
      "在现代印刷媒体， 第二次世界大战期间，先后在「\n",
      "[0.02083 0.01673 0.01662] 0.00266622\n",
      "在现代印刷媒体， 第二次世界大战期间，先后在「最\n",
      "[0.17932 0.09813 0.09307] 0.006299039\n",
      "在现代印刷媒体， 第二次世界大战期间，先后在「最优\n",
      "[0.60013 0.03076 0.03055] 0.60013026\n",
      "在现代印刷媒体， 第二次世界大战期间，先后在「最优秀\n",
      "[0.4149  0.02621 0.01749] 0.4148982\n",
      "在现代印刷媒体， 第二次世界大战期间，先后在「最优秀的\n",
      "[0.03133 0.02942 0.01721] 0.0015902517\n",
      "在现代印刷媒体， 第二次世界大战期间，先后在「最优秀的主\n",
      "[0.22135 0.16364 0.04507] 0.22135095\n",
      "在现代印刷媒体， 第二次世界大战期间，先后在「最优秀的主要\n",
      "[0.05355 0.02481 0.01564] 0.0062272428\n",
      "在现代印刷媒体， 第二次世界大战期间，先后在「最优秀的主要奖\n",
      "[0.28985 0.2124  0.1922 ] 0.19219635\n",
      "在现代印刷媒体， 第二次世界大战期间，先后在「最优秀的主要奖项\n",
      "[0.74745 0.03572 0.01519] 0.74744976\n",
      "在现代印刷媒体， 第二次世界大战期间，先后在「最优秀的主要奖项」\n",
      "[0.25808 0.14137 0.07826] 0.14136614\n",
      "在现代印刷媒体， 第二次世界大战期间，先后在「最优秀的主要奖项」、\n",
      "[0.94693 0.01073 0.00538] 0.9469345\n",
      "在现代印刷媒体， 第二次世界大战期间，先后在「最优秀的主要奖项」、「\n",
      "[0.06452 0.04539 0.03613] 0.0013322425\n",
      "在现代印刷媒体， 第二次世界大战期间，先后在「最优秀的主要奖项」、「财\n"
     ]
    }
   ],
   "source": [
    "generate_text(get_tokens(\"在现代印刷媒体， 第\"))"
   ]
  },
  {
   "cell_type": "code",
   "execution_count": 75,
   "metadata": {},
   "outputs": [
    {
     "name": "stdout",
     "output_type": "stream",
     "text": [
      "[0.10539 0.08652 0.05457] 3.3233395e-05\n",
      "日本后来成为第二次世界大战的轴心国之一，对中国与南洋发动全面的战争。拜\n",
      "[0.44787 0.13044 0.13019] 0.44787207\n",
      "日本后来成为第二次世界大战的轴心国之一，对中国与南洋发动全面的战争。拜占\n",
      "[0.97914 0.01888 0.0003 ] 0.979142\n",
      "日本后来成为第二次世界大战的轴心国之一，对中国与南洋发动全面的战争。拜占庭\n",
      "[0.32348 0.07669 0.04778] 0.0044252477\n",
      "日本后来成为第二次世界大战的轴心国之一，对中国与南洋发动全面的战争。拜占庭陆\n",
      "[0.94447 0.02147 0.01202] 0.9444729\n",
      "日本后来成为第二次世界大战的轴心国之一，对中国与南洋发动全面的战争。拜占庭陆军\n",
      "[0.06924 0.06916 0.03364] 0.0036778732\n",
      "日本后来成为第二次世界大战的轴心国之一，对中国与南洋发动全面的战争。拜占庭陆军使\n",
      "[0.88803 0.02943 0.0098 ] 0.0001601568\n",
      "日本后来成为第二次世界大战的轴心国之一，对中国与南洋发动全面的战争。拜占庭陆军使事\n",
      "[0.57382 0.13503 0.06514] 0.573817\n",
      "日本后来成为第二次世界大战的轴心国之一，对中国与南洋发动全面的战争。拜占庭陆军使事件\n",
      "[0.10493 0.05362 0.05189] 0.0066636247\n",
      "日本后来成为第二次世界大战的轴心国之一，对中国与南洋发动全面的战争。拜占庭陆军使事件以\n",
      "[0.03981 0.03943 0.02576] 0.021399217\n",
      "日本后来成为第二次世界大战的轴心国之一，对中国与南洋发动全面的战争。拜占庭陆军使事件以及\n",
      "[0.03158 0.02385 0.02332] 0.0032025902\n",
      "日本后来成为第二次世界大战的轴心国之一，对中国与南洋发动全面的战争。拜占庭陆军使事件以及无\n",
      "[0.11303 0.06241 0.0614 ] 0.0019601176\n",
      "日本后来成为第二次世界大战的轴心国之一，对中国与南洋发动全面的战争。拜占庭陆军使事件以及无界\n",
      "[0.23886 0.05353 0.01799] 0.23886451\n",
      "日本后来成为第二次世界大战的轴心国之一，对中国与南洋发动全面的战争。拜占庭陆军使事件以及无界的\n",
      "[0.06256 0.02437 0.02082] 0.06255786\n",
      "日本后来成为第二次世界大战的轴心国之一，对中国与南洋发动全面的战争。拜占庭陆军使事件以及无界的战\n",
      "[0.57822 0.12636 0.06278] 0.5782159\n",
      "日本后来成为第二次世界大战的轴心国之一，对中国与南洋发动全面的战争。拜占庭陆军使事件以及无界的战争\n",
      "[0.07148 0.03861 0.02942] 0.00028418656\n",
      "日本后来成为第二次世界大战的轴心国之一，对中国与南洋发动全面的战争。拜占庭陆军使事件以及无界的战争观\n",
      "[0.32679 0.29265 0.12602] 0.29265276\n",
      "日本后来成为第二次世界大战的轴心国之一，对中国与南洋发动全面的战争。拜占庭陆军使事件以及无界的战争观念\n",
      "[0.0484  0.03179 0.03021] 0.020290315\n",
      "日本后来成为第二次世界大战的轴心国之一，对中国与南洋发动全面的战争。拜占庭陆军使事件以及无界的战争观念在\n",
      "[0.09638 0.04075 0.03864] 3.632074e-05\n",
      "日本后来成为第二次世界大战的轴心国之一，对中国与南洋发动全面的战争。拜占庭陆军使事件以及无界的战争观念在苦\n",
      "[0.38124 0.25999 0.02962] 0.006268523\n",
      "日本后来成为第二次世界大战的轴心国之一，对中国与南洋发动全面的战争。拜占庭陆军使事件以及无界的战争观念在苦闷\n",
      "[0.16613 0.14687 0.05784] 0.020363776\n",
      "日本后来成为第二次世界大战的轴心国之一，对中国与南洋发动全面的战争。拜占庭陆军使事件以及无界的战争观念在苦闷期\n",
      "[0.91403 0.01525 0.0071 ] 0.9140268\n",
      "日本后来成为第二次世界大战的轴心国之一，对中国与南洋发动全面的战争。拜占庭陆军使事件以及无界的战争观念在苦闷期间\n",
      "[0.0769  0.07595 0.03359] 0.03358666\n",
      "日本后来成为第二次世界大战的轴心国之一，对中国与南洋发动全面的战争。拜占庭陆军使事件以及无界的战争观念在苦闷期间的\n",
      "[0.02325 0.01972 0.01339] 0.007234228\n",
      "日本后来成为第二次世界大战的轴心国之一，对中国与南洋发动全面的战争。拜占庭陆军使事件以及无界的战争观念在苦闷期间的冲\n",
      "[0.75209 0.2248  0.00308] 0.7520886\n",
      "日本后来成为第二次世界大战的轴心国之一，对中国与南洋发动全面的战争。拜占庭陆军使事件以及无界的战争观念在苦闷期间的冲突\n"
     ]
    }
   ],
   "source": [
    "generate_text(get_tokens(\"日本后来成为第二次世界大战的轴心国之一，对中国与南洋发动全面的战争。\"))           "
   ]
  },
  {
   "cell_type": "code",
   "execution_count": 76,
   "metadata": {},
   "outputs": [
    {
     "name": "stdout",
     "output_type": "stream",
     "text": [
      "[0.65026 0.05711 0.02879] 0.65025944\n",
      "传说日本于公元前660年2月11日建国，在公元4世纪出现首个统一政权，并于大化改新中确立了天皇的中央集权体制。至平安时代结束前，日本透过文字、宗教、艺术、政治制度等从汉文化引进的事物，开始派生出今日为人所知的文化基础。12世纪后的六百年间，日本由武家阶级创建的数个幕府及军事强人政权实际掌权，期间包括了政治纷乱的南北朝与战国时\n",
      "[0.54108 0.45224 0.00129] 0.4522431\n",
      "传说日本于公元前660年2月11日建国，在公元4世纪出现首个统一政权，并于大化改新中确立了天皇的中央集权体制。至平安时代结束前，日本透过文字、宗教、艺术、政治制度等从汉文化引进的事物，开始派生出今日为人所知的文化基础。12世纪后的六百年间，日本由武家阶级创建的数个幕府及军事强人政权实际掌权，期间包括了政治纷乱的南北朝与战国时代\n",
      "[0.25275 0.2381  0.1895 ] 0.2527525\n",
      "传说日本于公元前660年2月11日建国，在公元4世纪出现首个统一政权，并于大化改新中确立了天皇的中央集权体制。至平安时代结束前，日本透过文字、宗教、艺术、政治制度等从汉文化引进的事物，开始派生出今日为人所知的文化基础。12世纪后的六百年间，日本由武家阶级创建的数个幕府及军事强人政权实际掌权，期间包括了政治纷乱的南北朝与战国时代，\n",
      "[0.03927 0.03271 0.03061] 0.0015480097\n",
      "传说日本于公元前660年2月11日建国，在公元4世纪出现首个统一政权，并于大化改新中确立了天皇的中央集权体制。至平安时代结束前，日本透过文字、宗教、艺术、政治制度等从汉文化引进的事物，开始派生出今日为人所知的文化基础。12世纪后的六百年间，日本由武家阶级创建的数个幕府及军事强人政权实际掌权，期间包括了政治纷乱的南北朝与战国时代，长\n",
      "[0.48057 0.09687 0.05162] 0.01976907\n",
      "传说日本于公元前660年2月11日建国，在公元4世纪出现首个统一政权，并于大化改新中确立了天皇的中央集权体制。至平安时代结束前，日本透过文字、宗教、艺术、政治制度等从汉文化引进的事物，开始派生出今日为人所知的文化基础。12世纪后的六百年间，日本由武家阶级创建的数个幕府及军事强人政权实际掌权，期间包括了政治纷乱的南北朝与战国时代，长安\n",
      "[0.10994 0.04269 0.03471] 0.0347091\n",
      "传说日本于公元前660年2月11日建国，在公元4世纪出现首个统一政权，并于大化改新中确立了天皇的中央集权体制。至平安时代结束前，日本透过文字、宗教、艺术、政治制度等从汉文化引进的事物，开始派生出今日为人所知的文化基础。12世纪后的六百年间，日本由武家阶级创建的数个幕府及军事强人政权实际掌权，期间包括了政治纷乱的南北朝与战国时代，长安在\n",
      "[0.09827 0.0602  0.04327] 0.028070768\n",
      "传说日本于公元前660年2月11日建国，在公元4世纪出现首个统一政权，并于大化改新中确立了天皇的中央集权体制。至平安时代结束前，日本透过文字、宗教、艺术、政治制度等从汉文化引进的事物，开始派生出今日为人所知的文化基础。12世纪后的六百年间，日本由武家阶级创建的数个幕府及军事强人政权实际掌权，期间包括了政治纷乱的南北朝与战国时代，长安在中\n",
      "[0.67981 0.10532 0.04337] 0.6798069\n",
      "传说日本于公元前660年2月11日建国，在公元4世纪出现首个统一政权，并于大化改新中确立了天皇的中央集权体制。至平安时代结束前，日本透过文字、宗教、艺术、政治制度等从汉文化引进的事物，开始派生出今日为人所知的文化基础。12世纪后的六百年间，日本由武家阶级创建的数个幕府及军事强人政权实际掌权，期间包括了政治纷乱的南北朝与战国时代，长安在中国\n",
      "[0.12656 0.05858 0.04468] 0.058578033\n",
      "传说日本于公元前660年2月11日建国，在公元4世纪出现首个统一政权，并于大化改新中确立了天皇的中央集权体制。至平安时代结束前，日本透过文字、宗教、艺术、政治制度等从汉文化引进的事物，开始派生出今日为人所知的文化基础。12世纪后的六百年间，日本由武家阶级创建的数个幕府及军事强人政权实际掌权，期间包括了政治纷乱的南北朝与战国时代，长安在中国大\n",
      "[0.98299 0.00298 0.00235] 0.9829852\n",
      "传说日本于公元前660年2月11日建国，在公元4世纪出现首个统一政权，并于大化改新中确立了天皇的中央集权体制。至平安时代结束前，日本透过文字、宗教、艺术、政治制度等从汉文化引进的事物，开始派生出今日为人所知的文化基础。12世纪后的六百年间，日本由武家阶级创建的数个幕府及军事强人政权实际掌权，期间包括了政治纷乱的南北朝与战国时代，长安在中国大陆\n",
      "[0.17172 0.0422  0.02775] 0.0033272235\n",
      "传说日本于公元前660年2月11日建国，在公元4世纪出现首个统一政权，并于大化改新中确立了天皇的中央集权体制。至平安时代结束前，日本透过文字、宗教、艺术、政治制度等从汉文化引进的事物，开始派生出今日为人所知的文化基础。12世纪后的六百年间，日本由武家阶级创建的数个幕府及军事强人政权实际掌权，期间包括了政治纷乱的南北朝与战国时代，长安在中国大陆不\n",
      "[0.60648 0.06711 0.04167] 0.60647863\n",
      "传说日本于公元前660年2月11日建国，在公元4世纪出现首个统一政权，并于大化改新中确立了天皇的中央集权体制。至平安时代结束前，日本透过文字、宗教、艺术、政治制度等从汉文化引进的事物，开始派生出今日为人所知的文化基础。12世纪后的六百年间，日本由武家阶级创建的数个幕府及军事强人政权实际掌权，期间包括了政治纷乱的南北朝与战国时代，长安在中国大陆不断\n",
      "[0.07529 0.07446 0.06198] 0.0023353416\n",
      "传说日本于公元前660年2月11日建国，在公元4世纪出现首个统一政权，并于大化改新中确立了天皇的中央集权体制。至平安时代结束前，日本透过文字、宗教、艺术、政治制度等从汉文化引进的事物，开始派生出今日为人所知的文化基础。12世纪后的六百年间，日本由武家阶级创建的数个幕府及军事强人政权实际掌权，期间包括了政治纷乱的南北朝与战国时代，长安在中国大陆不断取\n",
      "[0.53812 0.28728 0.07182] 0.28727603\n",
      "传说日本于公元前660年2月11日建国，在公元4世纪出现首个统一政权，并于大化改新中确立了天皇的中央集权体制。至平安时代结束前，日本透过文字、宗教、艺术、政治制度等从汉文化引进的事物，开始派生出今日为人所知的文化基础。12世纪后的六百年间，日本由武家阶级创建的数个幕府及军事强人政权实际掌权，期间包括了政治纷乱的南北朝与战国时代，长安在中国大陆不断取代\n",
      "[0.17292 0.04762 0.04134] 0.041339774\n",
      "传说日本于公元前660年2月11日建国，在公元4世纪出现首个统一政权，并于大化改新中确立了天皇的中央集权体制。至平安时代结束前，日本透过文字、宗教、艺术、政治制度等从汉文化引进的事物，开始派生出今日为人所知的文化基础。12世纪后的六百年间，日本由武家阶级创建的数个幕府及军事强人政权实际掌权，期间包括了政治纷乱的南北朝与战国时代，长安在中国大陆不断取代朝\n",
      "[0.95401 0.03495 0.00374] 0.95401\n",
      "传说日本于公元前660年2月11日建国，在公元4世纪出现首个统一政权，并于大化改新中确立了天皇的中央集权体制。至平安时代结束前，日本透过文字、宗教、艺术、政治制度等从汉文化引进的事物，开始派生出今日为人所知的文化基础。12世纪后的六百年间，日本由武家阶级创建的数个幕府及军事强人政权实际掌权，期间包括了政治纷乱的南北朝与战国时代，长安在中国大陆不断取代朝鲜\n",
      "[0.21782 0.10829 0.08277] 0.027851094\n",
      "传说日本于公元前660年2月11日建国，在公元4世纪出现首个统一政权，并于大化改新中确立了天皇的中央集权体制。至平安时代结束前，日本透过文字、宗教、艺术、政治制度等从汉文化引进的事物，开始派生出今日为人所知的文化基础。12世纪后的六百年间，日本由武家阶级创建的数个幕府及军事强人政权实际掌权，期间包括了政治纷乱的南北朝与战国时代，长安在中国大陆不断取代朝鲜国\n",
      "[0.23458 0.20336 0.08684] 0.086840324\n",
      "传说日本于公元前660年2月11日建国，在公元4世纪出现首个统一政权，并于大化改新中确立了天皇的中央集权体制。至平安时代结束前，日本透过文字、宗教、艺术、政治制度等从汉文化引进的事物，开始派生出今日为人所知的文化基础。12世纪后的六百年间，日本由武家阶级创建的数个幕府及军事强人政权实际掌权，期间包括了政治纷乱的南北朝与战国时代，长安在中国大陆不断取代朝鲜国内\n",
      "[0.30774 0.13642 0.04834] 0.30773923\n",
      "传说日本于公元前660年2月11日建国，在公元4世纪出现首个统一政权，并于大化改新中确立了天皇的中央集权体制。至平安时代结束前，日本透过文字、宗教、艺术、政治制度等从汉文化引进的事物，开始派生出今日为人所知的文化基础。12世纪后的六百年间，日本由武家阶级创建的数个幕府及军事强人政权实际掌权，期间包括了政治纷乱的南北朝与战国时代，长安在中国大陆不断取代朝鲜国内的\n",
      "[0.05681 0.04944 0.03263] 0.008135833\n",
      "传说日本于公元前660年2月11日建国，在公元4世纪出现首个统一政权，并于大化改新中确立了天皇的中央集权体制。至平安时代结束前，日本透过文字、宗教、艺术、政治制度等从汉文化引进的事物，开始派生出今日为人所知的文化基础。12世纪后的六百年间，日本由武家阶级创建的数个幕府及军事强人政权实际掌权，期间包括了政治纷乱的南北朝与战国时代，长安在中国大陆不断取代朝鲜国内的新\n",
      "[0.15615 0.08927 0.07925] 0.03960722\n",
      "传说日本于公元前660年2月11日建国，在公元4世纪出现首个统一政权，并于大化改新中确立了天皇的中央集权体制。至平安时代结束前，日本透过文字、宗教、艺术、政治制度等从汉文化引进的事物，开始派生出今日为人所知的文化基础。12世纪后的六百年间，日本由武家阶级创建的数个幕府及军事强人政权实际掌权，期间包括了政治纷乱的南北朝与战国时代，长安在中国大陆不断取代朝鲜国内的新朝\n",
      "[0.15874 0.13211 0.12313] 0.0044555524\n",
      "传说日本于公元前660年2月11日建国，在公元4世纪出现首个统一政权，并于大化改新中确立了天皇的中央集权体制。至平安时代结束前，日本透过文字、宗教、艺术、政治制度等从汉文化引进的事物，开始派生出今日为人所知的文化基础。12世纪后的六百年间，日本由武家阶级创建的数个幕府及军事强人政权实际掌权，期间包括了政治纷乱的南北朝与战国时代，长安在中国大陆不断取代朝鲜国内的新朝和\n",
      "[0.11912 0.04548 0.03849] 0.0047448445\n",
      "传说日本于公元前660年2月11日建国，在公元4世纪出现首个统一政权，并于大化改新中确立了天皇的中央集权体制。至平安时代结束前，日本透过文字、宗教、艺术、政治制度等从汉文化引进的事物，开始派生出今日为人所知的文化基础。12世纪后的六百年间，日本由武家阶级创建的数个幕府及军事强人政权实际掌权，期间包括了政治纷乱的南北朝与战国时代，长安在中国大陆不断取代朝鲜国内的新朝和三\n",
      "[0.49135 0.10545 0.04367] 0.49134934\n",
      "传说日本于公元前660年2月11日建国，在公元4世纪出现首个统一政权，并于大化改新中确立了天皇的中央集权体制。至平安时代结束前，日本透过文字、宗教、艺术、政治制度等从汉文化引进的事物，开始派生出今日为人所知的文化基础。12世纪后的六百年间，日本由武家阶级创建的数个幕府及军事强人政权实际掌权，期间包括了政治纷乱的南北朝与战国时代，长安在中国大陆不断取代朝鲜国内的新朝和三国\n",
      "[0.17722 0.11976 0.11858] 0.11858432\n",
      "传说日本于公元前660年2月11日建国，在公元4世纪出现首个统一政权，并于大化改新中确立了天皇的中央集权体制。至平安时代结束前，日本透过文字、宗教、艺术、政治制度等从汉文化引进的事物，开始派生出今日为人所知的文化基础。12世纪后的六百年间，日本由武家阶级创建的数个幕府及军事强人政权实际掌权，期间包括了政治纷乱的南北朝与战国时代，长安在中国大陆不断取代朝鲜国内的新朝和三国的\n"
     ]
    }
   ],
   "source": [
    "generate_text(get_tokens(\"传说日本于公元前660年2月11日建国，在公元4世纪出现首个统一政权，并于大化改新中确立了天皇的中央集权体制\"\n",
    "                         \"。至平安时代结束前，日本透过文字、宗教、艺术、政治制度等从汉文化引进的事物，开始派生出今日为人所知的文化基\"\n",
    "                         \"础。12世纪后的六百年间，日本由武家阶级创建的数个幕府及军事强人政权实际掌权，期间包括了政治纷乱的南北朝与\"\n",
    "                         \"战国\"))           "
   ]
  },
  {
   "cell_type": "code",
   "execution_count": 77,
   "metadata": {},
   "outputs": [
    {
     "name": "stdout",
     "output_type": "stream",
     "text": [
      "[0.10299 0.0882  0.0566 ] 0.0009332779\n",
      "特朗普政府以为加征关税会令中国屈服，这种策略肯定会适得其反。如果就业和财富价\n",
      "[0.64191 0.31716 0.01799] 0.31716254\n",
      "特朗普政府以为加征关税会令中国屈服，这种策略肯定会适得其反。如果就业和财富价值\n",
      "[0.12555 0.08338 0.05092] 0.011666127\n",
      "特朗普政府以为加征关税会令中国屈服，这种策略肯定会适得其反。如果就业和财富价值大\n",
      "[0.22541 0.09939 0.0516 ] 0.050168876\n",
      "特朗普政府以为加征关税会令中国屈服，这种策略肯定会适得其反。如果就业和财富价值大于\n",
      "[0.05374 0.0517  0.02946] 0.0033325765\n",
      "特朗普政府以为加征关税会令中国屈服，这种策略肯定会适得其反。如果就业和财富价值大于现\n",
      "[0.39742 0.14112 0.09683] 0.051533077\n",
      "特朗普政府以为加征关税会令中国屈服，这种策略肯定会适得其反。如果就业和财富价值大于现时\n",
      "[0.24899 0.24309 0.02744] 0.24898584\n",
      "特朗普政府以为加征关税会令中国屈服，这种策略肯定会适得其反。如果就业和财富价值大于现时，\n",
      "[0.02887 0.0253  0.01916] 0.014872824\n",
      "特朗普政府以为加征关税会令中国屈服，这种策略肯定会适得其反。如果就业和财富价值大于现时，在\n",
      "[0.03054 0.02871 0.02804] 0.023710221\n",
      "特朗普政府以为加征关税会令中国屈服，这种策略肯定会适得其反。如果就业和财富价值大于现时，在国\n",
      "[0.29887 0.26461 0.17246] 0.29886985\n",
      "特朗普政府以为加征关税会令中国屈服，这种策略肯定会适得其反。如果就业和财富价值大于现时，在国内\n",
      "[0.14261 0.05351 0.03881] 0.00056786457\n",
      "特朗普政府以为加征关税会令中国屈服，这种策略肯定会适得其反。如果就业和财富价值大于现时，在国内申\n",
      "[0.87107 0.07117 0.01499] 0.8710653\n",
      "特朗普政府以为加征关税会令中国屈服，这种策略肯定会适得其反。如果就业和财富价值大于现时，在国内申请\n",
      "[0.08653 0.03885 0.0324 ] 0.00060143415\n",
      "特朗普政府以为加征关税会令中国屈服，这种策略肯定会适得其反。如果就业和财富价值大于现时，在国内申请项\n",
      "[0.98606 0.00426 0.00103] 0.98606384\n",
      "特朗普政府以为加征关税会令中国屈服，这种策略肯定会适得其反。如果就业和财富价值大于现时，在国内申请项目\n",
      "[0.14351 0.08793 0.04808] 0.014911942\n",
      "特朗普政府以为加征关税会令中国屈服，这种策略肯定会适得其反。如果就业和财富价值大于现时，在国内申请项目也\n",
      "[0.2374  0.09742 0.09292] 0.09292384\n",
      "特朗普政府以为加征关税会令中国屈服，这种策略肯定会适得其反。如果就业和财富价值大于现时，在国内申请项目也可\n",
      "[0.51434 0.24168 0.01059] 0.514344\n",
      "特朗普政府以为加征关税会令中国屈服，这种策略肯定会适得其反。如果就业和财富价值大于现时，在国内申请项目也可以\n",
      "[0.04335 0.02469 0.02152] 0.0048502996\n",
      "特朗普政府以为加征关税会令中国屈服，这种策略肯定会适得其反。如果就业和财富价值大于现时，在国内申请项目也可以分\n",
      "[0.23046 0.16199 0.10175] 0.021001684\n",
      "特朗普政府以为加征关税会令中国屈服，这种策略肯定会适得其反。如果就业和财富价值大于现时，在国内申请项目也可以分开\n",
      "[0.28493 0.27598 0.03512] 0.28492728\n",
      "特朗普政府以为加征关税会令中国屈服，这种策略肯定会适得其反。如果就业和财富价值大于现时，在国内申请项目也可以分开。\n",
      "[0.13176 0.04133 0.02969] 0.00079550047\n",
      "特朗普政府以为加征关税会令中国屈服，这种策略肯定会适得其反。如果就业和财富价值大于现时，在国内申请项目也可以分开。长\n",
      "[0.4572  0.06197 0.0332 ] 0.020096723\n",
      "特朗普政府以为加征关税会令中国屈服，这种策略肯定会适得其反。如果就业和财富价值大于现时，在国内申请项目也可以分开。长途\n",
      "[0.09733 0.04233 0.03818] 0.014327814\n",
      "特朗普政府以为加征关税会令中国屈服，这种策略肯定会适得其反。如果就业和财富价值大于现时，在国内申请项目也可以分开。长途中\n",
      "[0.34532 0.11015 0.09274] 0.34532198\n",
      "特朗普政府以为加征关税会令中国屈服，这种策略肯定会适得其反。如果就业和财富价值大于现时，在国内申请项目也可以分开。长途中心\n",
      "[0.12209 0.05208 0.04875] 0.01626614\n",
      "特朗普政府以为加征关税会令中国屈服，这种策略肯定会适得其反。如果就业和财富价值大于现时，在国内申请项目也可以分开。长途中心有\n"
     ]
    }
   ],
   "source": [
    "generate_text(get_tokens(\"特朗普政府以为加征关税会令中国屈服，这种策略肯定会适得其反。如果就业和财富\"))"
   ]
  },
  {
   "cell_type": "code",
   "execution_count": 78,
   "metadata": {},
   "outputs": [
    {
     "name": "stdout",
     "output_type": "stream",
     "text": [
      "[0.60864 0.07306 0.05637] 0.0563702\n",
      "香港有半数人住在公屋，如今这里意外成为Instagram上备受欢迎的拍照地区\n",
      "[0.55778 0.27253 0.04076] 0.0011583116\n",
      "香港有半数人住在公屋，如今这里意外成为Instagram上备受欢迎的拍照地区以\n",
      "[0.53452 0.13243 0.11574] 0.5345151\n",
      "香港有半数人住在公屋，如今这里意外成为Instagram上备受欢迎的拍照地区以及\n",
      "[0.02874 0.02578 0.02051] 0.0028437753\n",
      "香港有半数人住在公屋，如今这里意外成为Instagram上备受欢迎的拍照地区以及民\n",
      "[0.50225 0.15766 0.07535] 0.50225496\n",
      "香港有半数人住在公屋，如今这里意外成为Instagram上备受欢迎的拍照地区以及民间\n",
      "[0.13714 0.06068 0.01626] 0.001399822\n",
      "香港有半数人住在公屋，如今这里意外成为Instagram上备受欢迎的拍照地区以及民间热\n",
      "[0.18219 0.15026 0.09835] 0.041872736\n",
      "香港有半数人住在公屋，如今这里意外成为Instagram上备受欢迎的拍照地区以及民间热心\n",
      "[0.36656 0.0677  0.04467] 0.044669893\n",
      "香港有半数人住在公屋，如今这里意外成为Instagram上备受欢迎的拍照地区以及民间热心人\n",
      "[0.4277  0.34991 0.04604] 0.34990644\n",
      "香港有半数人住在公屋，如今这里意外成为Instagram上备受欢迎的拍照地区以及民间热心人物\n",
      "[0.32108 0.28932 0.15541] 0.32107615\n",
      "香港有半数人住在公屋，如今这里意外成为Instagram上备受欢迎的拍照地区以及民间热心人物的\n",
      "[0.04225 0.03284 0.01978] 0.019776525\n",
      "香港有半数人住在公屋，如今这里意外成为Instagram上备受欢迎的拍照地区以及民间热心人物的活\n",
      "[0.96619 0.02029 0.00404] 0.9661872\n",
      "香港有半数人住在公屋，如今这里意外成为Instagram上备受欢迎的拍照地区以及民间热心人物的活动\n",
      "[0.54153 0.25039 0.02905] 0.25038618\n",
      "香港有半数人住在公屋，如今这里意外成为Instagram上备受欢迎的拍照地区以及民间热心人物的活动，\n",
      "[0.05832 0.05641 0.04858] 0.003932257\n",
      "香港有半数人住在公屋，如今这里意外成为Instagram上备受欢迎的拍照地区以及民间热心人物的活动，虽\n",
      "[0.94565 0.00559 0.00311] 0.94564885\n",
      "香港有半数人住在公屋，如今这里意外成为Instagram上备受欢迎的拍照地区以及民间热心人物的活动，虽然\n",
      "[0.04307 0.04281 0.03572] 5.612238e-05\n",
      "香港有半数人住在公屋，如今这里意外成为Instagram上备受欢迎的拍照地区以及民间热心人物的活动，虽然婴\n",
      "[0.9713  0.01843 0.00392] 0.9712992\n",
      "香港有半数人住在公屋，如今这里意外成为Instagram上备受欢迎的拍照地区以及民间热心人物的活动，虽然婴儿\n",
      "[0.08145 0.05214 0.02188] 0.006330086\n",
      "香港有半数人住在公屋，如今这里意外成为Instagram上备受欢迎的拍照地区以及民间热心人物的活动，虽然婴儿出\n",
      "[0.46087 0.29863 0.04931] 0.049305186\n",
      "香港有半数人住在公屋，如今这里意外成为Instagram上备受欢迎的拍照地区以及民间热心人物的活动，虽然婴儿出身\n",
      "[0.19392 0.07664 0.06989] 0.1939177\n",
      "香港有半数人住在公屋，如今这里意外成为Instagram上备受欢迎的拍照地区以及民间热心人物的活动，虽然婴儿出身的\n",
      "[0.06328 0.04487 0.02027] 0.007539634\n",
      "香港有半数人住在公屋，如今这里意外成为Instagram上备受欢迎的拍照地区以及民间热心人物的活动，虽然婴儿出身的大\n",
      "[0.14614 0.0822  0.07627] 1.2464222e-05\n",
      "香港有半数人住在公屋，如今这里意外成为Instagram上备受欢迎的拍照地区以及民间热心人物的活动，虽然婴儿出身的大戈\n",
      "[0.0233  0.02118 0.02103] 0.0073313634\n",
      "香港有半数人住在公屋，如今这里意外成为Instagram上备受欢迎的拍照地区以及民间热心人物的活动，虽然婴儿出身的大戈都\n",
      "[0.17589 0.07801 0.05028] 0.050281644\n",
      "香港有半数人住在公屋，如今这里意外成为Instagram上备受欢迎的拍照地区以及民间热心人物的活动，虽然婴儿出身的大戈都在\n",
      "[0.04729 0.042   0.02998] 0.0001361553\n",
      "香港有半数人住在公屋，如今这里意外成为Instagram上备受欢迎的拍照地区以及民间热心人物的活动，虽然婴儿出身的大戈都在草\n"
     ]
    }
   ],
   "source": [
    "generate_text(get_tokens(\"香港有半数人住在公屋，如今这里意外成为Instagram上备受欢迎的拍照地\"))"
   ]
  },
  {
   "cell_type": "code",
   "execution_count": 79,
   "metadata": {},
   "outputs": [
    {
     "name": "stdout",
     "output_type": "stream",
     "text": [
      "[0.56026 0.30826 0.01554] 0.56026465\n",
      "香港有半数人住在公屋，如今这里意外成为Instagram上备受欢迎的拍照地，呈现出一个与天际线中的香港不同的景象。\n",
      "[0.19394 0.04387 0.0378 ] 0.0015059201\n",
      "香港有半数人住在公屋，如今这里意外成为Instagram上备受欢迎的拍照地，呈现出一个与天际线中的香港不同的景象。作\n",
      "[0.82864 0.09443 0.02558] 0.82864255\n",
      "香港有半数人住在公屋，如今这里意外成为Instagram上备受欢迎的拍照地，呈现出一个与天际线中的香港不同的景象。作为\n",
      "[0.15802 0.04953 0.02116] 0.003574114\n",
      "香港有半数人住在公屋，如今这里意外成为Instagram上备受欢迎的拍照地，呈现出一个与天际线中的香港不同的景象。作为西\n",
      "[0.22203 0.10498 0.0479 ] 0.011606572\n",
      "香港有半数人住在公屋，如今这里意外成为Instagram上备受欢迎的拍照地，呈现出一个与天际线中的香港不同的景象。作为西部\n",
      "[0.13052 0.08852 0.02701] 0.13051753\n",
      "香港有半数人住在公屋，如今这里意外成为Instagram上备受欢迎的拍照地，呈现出一个与天际线中的香港不同的景象。作为西部地\n",
      "[0.90432 0.04592 0.00598] 0.90431553\n",
      "香港有半数人住在公屋，如今这里意外成为Instagram上备受欢迎的拍照地，呈现出一个与天际线中的香港不同的景象。作为西部地区\n",
      "[0.41698 0.05347 0.03663] 0.0009295838\n",
      "香港有半数人住在公屋，如今这里意外成为Instagram上备受欢迎的拍照地，呈现出一个与天际线中的香港不同的景象。作为西部地区部\n",
      "[0.61618 0.21744 0.14397] 0.61617976\n",
      "香港有半数人住在公屋，如今这里意外成为Instagram上备受欢迎的拍照地，呈现出一个与天际线中的香港不同的景象。作为西部地区部分\n",
      "[0.1628  0.14807 0.04037] 0.14806625\n",
      "香港有半数人住在公屋，如今这里意外成为Instagram上备受欢迎的拍照地，呈现出一个与天际线中的香港不同的景象。作为西部地区部分地\n",
      "[0.83702 0.09308 0.00907] 0.83702046\n",
      "香港有半数人住在公屋，如今这里意外成为Instagram上备受欢迎的拍照地，呈现出一个与天际线中的香港不同的景象。作为西部地区部分地区\n",
      "[0.4349  0.1797  0.01738] 0.43490002\n",
      "香港有半数人住在公屋，如今这里意外成为Instagram上备受欢迎的拍照地，呈现出一个与天际线中的香港不同的景象。作为西部地区部分地区的\n",
      "[0.08275 0.03895 0.03421] 0.0024491935\n",
      "香港有半数人住在公屋，如今这里意外成为Instagram上备受欢迎的拍照地，呈现出一个与天际线中的香港不同的景象。作为西部地区部分地区的两\n",
      "[0.36008 0.08034 0.05404] 0.0116917575\n",
      "香港有半数人住在公屋，如今这里意外成为Instagram上备受欢迎的拍照地，呈现出一个与天际线中的香港不同的景象。作为西部地区部分地区的两家\n",
      "[0.07408 0.059   0.03355] 0.07407815\n",
      "香港有半数人住在公屋，如今这里意外成为Instagram上备受欢迎的拍照地，呈现出一个与天际线中的香港不同的景象。作为西部地区部分地区的两家公\n",
      "[0.8475  0.0419  0.02914] 0.84750366\n",
      "香港有半数人住在公屋，如今这里意外成为Instagram上备受欢迎的拍照地，呈现出一个与天际线中的香港不同的景象。作为西部地区部分地区的两家公司\n",
      "[0.46811 0.04208 0.03788] 0.4681104\n",
      "香港有半数人住在公屋，如今这里意外成为Instagram上备受欢迎的拍照地，呈现出一个与天际线中的香港不同的景象。作为西部地区部分地区的两家公司，\n",
      "[0.03059 0.02986 0.02459] 0.0004865259\n",
      "香港有半数人住在公屋，如今这里意外成为Instagram上备受欢迎的拍照地，呈现出一个与天际线中的香港不同的景象。作为西部地区部分地区的两家公司，表\n",
      "[0.3863  0.26024 0.13685] 0.3862957\n",
      "香港有半数人住在公屋，如今这里意外成为Instagram上备受欢迎的拍照地，呈现出一个与天际线中的香港不同的景象。作为西部地区部分地区的两家公司，表示\n",
      "[0.05292 0.0329  0.03065] 0.004661256\n",
      "香港有半数人住在公屋，如今这里意外成为Instagram上备受欢迎的拍照地，呈现出一个与天际线中的香港不同的景象。作为西部地区部分地区的两家公司，表示同\n",
      "[0.19955 0.19697 0.15497] 0.19697352\n",
      "香港有半数人住在公屋，如今这里意外成为Instagram上备受欢迎的拍照地，呈现出一个与天际线中的香港不同的景象。作为西部地区部分地区的两家公司，表示同时\n",
      "[0.12818 0.04233 0.03412] 0.12818459\n",
      "香港有半数人住在公屋，如今这里意外成为Instagram上备受欢迎的拍照地，呈现出一个与天际线中的香港不同的景象。作为西部地区部分地区的两家公司，表示同时也\n",
      "[0.40432 0.05397 0.03918] 0.007945438\n",
      "香港有半数人住在公屋，如今这里意外成为Instagram上备受欢迎的拍照地，呈现出一个与天际线中的香港不同的景象。作为西部地区部分地区的两家公司，表示同时也曾\n",
      "[0.22862 0.12586 0.04603] 5.9161903e-06\n",
      "香港有半数人住在公屋，如今这里意外成为Instagram上备受欢迎的拍照地，呈现出一个与天际线中的香港不同的景象。作为西部地区部分地区的两家公司，表示同时也曾桂\n",
      "[0.1408  0.06446 0.04105] 0.003403004\n",
      "香港有半数人住在公屋，如今这里意外成为Instagram上备受欢迎的拍照地，呈现出一个与天际线中的香港不同的景象。作为西部地区部分地区的两家公司，表示同时也曾桂江\n"
     ]
    }
   ],
   "source": [
    "generate_text(get_tokens(\"香港有半数人住在公屋，如今这里意外成为Instagram上备受欢迎的拍照地，\"\n",
    "                         \"呈现出一个与天际线中的香港不同的景象\"))"
   ]
  },
  {
   "cell_type": "code",
   "execution_count": 65,
   "metadata": {},
   "outputs": [
    {
     "name": "stdout",
     "output_type": "stream",
     "text": [
      "1.7492926e-05\n",
      "香港有半数人住在公屋，如今这里意外成为Insta组\n",
      "0.35289606\n",
      "香港有半数人住在公屋，如今这里意外成为Insta组织\n",
      "0.37017646\n",
      "香港有半数人住在公屋，如今这里意外成为Insta组织的\n",
      "0.0905959\n",
      "香港有半数人住在公屋，如今这里意外成为Insta组织的一\n",
      "0.5507382\n",
      "香港有半数人住在公屋，如今这里意外成为Insta组织的一部\n",
      "0.7318875\n",
      "香港有半数人住在公屋，如今这里意外成为Insta组织的一部分\n",
      "0.32186127\n",
      "香港有半数人住在公屋，如今这里意外成为Insta组织的一部分，\n",
      "0.051492844\n",
      "香港有半数人住在公屋，如今这里意外成为Insta组织的一部分，而\n",
      "0.15504123\n",
      "香港有半数人住在公屋，如今这里意外成为Insta组织的一部分，而且\n",
      "0.0629118\n",
      "香港有半数人住在公屋，如今这里意外成为Insta组织的一部分，而且在\n",
      "0.02319025\n",
      "香港有半数人住在公屋，如今这里意外成为Insta组织的一部分，而且在香\n",
      "0.99780566\n",
      "香港有半数人住在公屋，如今这里意外成为Insta组织的一部分，而且在香港\n",
      "0.11965721\n",
      "香港有半数人住在公屋，如今这里意外成为Insta组织的一部分，而且在香港的\n",
      "0.02037998\n",
      "香港有半数人住在公屋，如今这里意外成为Insta组织的一部分，而且在香港的地\n",
      "0.3514001\n",
      "香港有半数人住在公屋，如今这里意外成为Insta组织的一部分，而且在香港的地区\n",
      "0.14796719\n",
      "香港有半数人住在公屋，如今这里意外成为Insta组织的一部分，而且在香港的地区，\n",
      "0.04125365\n",
      "香港有半数人住在公屋，如今这里意外成为Insta组织的一部分，而且在香港的地区，有\n",
      "0.11210539\n",
      "香港有半数人住在公屋，如今这里意外成为Insta组织的一部分，而且在香港的地区，有些\n",
      "0.11153627\n",
      "香港有半数人住在公屋，如今这里意外成为Insta组织的一部分，而且在香港的地区，有些人\n",
      "0.08680985\n",
      "香港有半数人住在公屋，如今这里意外成为Insta组织的一部分，而且在香港的地区，有些人认\n",
      "0.9763025\n",
      "香港有半数人住在公屋，如今这里意外成为Insta组织的一部分，而且在香港的地区，有些人认为\n",
      "0.10648458\n",
      "香港有半数人住在公屋，如今这里意外成为Insta组织的一部分，而且在香港的地区，有些人认为这\n",
      "0.23592275\n",
      "香港有半数人住在公屋，如今这里意外成为Insta组织的一部分，而且在香港的地区，有些人认为这是\n",
      "0.17673405\n",
      "香港有半数人住在公屋，如今这里意外成为Insta组织的一部分，而且在香港的地区，有些人认为这是一\n",
      "0.034041304\n",
      "香港有半数人住在公屋，如今这里意外成为Insta组织的一部分，而且在香港的地区，有些人认为这是一场\n"
     ]
    }
   ],
   "source": [
    "generate_text(get_tokens(\"香港有半数人住在公屋，如今这里意外成为Insta\"))"
   ]
  },
  {
   "cell_type": "code",
   "execution_count": null,
   "metadata": {},
   "outputs": [],
   "source": []
  },
  {
   "cell_type": "code",
   "execution_count": null,
   "metadata": {},
   "outputs": [],
   "source": []
  }
 ],
 "metadata": {
  "kernelspec": {
   "display_name": "Python 3",
   "language": "python",
   "name": "python3"
  },
  "language_info": {
   "codemirror_mode": {
    "name": "ipython",
    "version": 3
   },
   "file_extension": ".py",
   "mimetype": "text/x-python",
   "name": "python",
   "nbconvert_exporter": "python",
   "pygments_lexer": "ipython3",
   "version": "3.6.6"
  }
 },
 "nbformat": 4,
 "nbformat_minor": 2
}
