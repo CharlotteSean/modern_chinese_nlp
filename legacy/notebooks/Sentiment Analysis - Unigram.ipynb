{
 "cells": [
  {
   "cell_type": "code",
   "execution_count": 1,
   "metadata": {},
   "outputs": [],
   "source": [
    "import sys\n",
    "sys.path.append(\"../\")"
   ]
  },
  {
   "cell_type": "code",
   "execution_count": 2,
   "metadata": {},
   "outputs": [
    {
     "name": "stdout",
     "output_type": "stream",
     "text": [
      "torch 0.4.1\n",
      "pandas 0.22.0\n",
      "numpy 1.15.0\n",
      "\n",
      "compiler   : GCC 7.2.0\n",
      "system     : Linux\n",
      "release    : 4.10.0-32-generic\n",
      "machine    : x86_64\n",
      "processor  : x86_64\n",
      "CPU cores  : 8\n",
      "interpreter: 64bit\n"
     ]
    },
    {
     "name": "stderr",
     "output_type": "stream",
     "text": [
      "/opt/conda/lib/python3.6/importlib/_bootstrap.py:219: RuntimeWarning: numpy.dtype size changed, may indicate binary incompatibility. Expected 96, got 88\n",
      "  return f(*args, **kwds)\n",
      "/opt/conda/lib/python3.6/importlib/_bootstrap.py:219: RuntimeWarning: numpy.dtype size changed, may indicate binary incompatibility. Expected 96, got 88\n",
      "  return f(*args, **kwds)\n"
     ]
    }
   ],
   "source": [
    "%load_ext watermark\n",
    "%watermark -p torch,pandas,numpy -m"
   ]
  },
  {
   "cell_type": "code",
   "execution_count": 3,
   "metadata": {},
   "outputs": [
    {
     "name": "stderr",
     "output_type": "stream",
     "text": [
      "/opt/conda/lib/python3.6/site-packages/sklearn/ensemble/weight_boosting.py:29: DeprecationWarning: numpy.core.umath_tests is an internal NumPy module and should not be imported. It will be removed in a future NumPy release.\n",
      "  from numpy.core.umath_tests import inner1d\n",
      "/opt/conda/lib/python3.6/importlib/_bootstrap.py:219: RuntimeWarning: numpy.dtype size changed, may indicate binary incompatibility. Expected 96, got 88\n",
      "  return f(*args, **kwds)\n",
      "/opt/conda/lib/python3.6/importlib/_bootstrap.py:219: RuntimeWarning: numpy.ufunc size changed, may indicate binary incompatibility. Expected 192, got 176\n",
      "  return f(*args, **kwds)\n"
     ]
    }
   ],
   "source": [
    "from pathlib import Path\n",
    "import itertools\n",
    "from collections import Counter\n",
    "from functools import partial, reduce\n",
    "\n",
    "import joblib\n",
    "import pandas as pd\n",
    "import numpy as np\n",
    "\n",
    "from sklearn.model_selection import StratifiedShuffleSplit\n",
    "from fastai.text import (\n",
    "    TextDataset, SortishSampler, SortSampler, DataLoader, ModelData, get_rnn_classifier, seq2seq_reg, \n",
    "    RNN_Learner, TextModel, to_gpu, LanguageModelLoader, LanguageModelData\n",
    ")\n",
    "from fastai.core import T\n",
    "from fastai.rnn_reg import EmbeddingDropout\n",
    "from fastai.text import accuracy\n",
    "from torch.optim import Adam\n",
    "import torch.nn as nn\n",
    "import torch\n",
    "import torch.nn.functional as F\n",
    "from sklearn.metrics import confusion_matrix\n",
    "import matplotlib.pyplot as plt\n",
    "from tqdm import tqdm_notebook\n",
    "import sentencepiece as spm\n",
    "\n",
    "%matplotlib inline"
   ]
  },
  {
   "cell_type": "code",
   "execution_count": 4,
   "metadata": {},
   "outputs": [],
   "source": [
    "path = Path(\"../data/cache/lm_unigram_douban/\")\n",
    "path.mkdir(parents=True, exist_ok=True)"
   ]
  },
  {
   "cell_type": "code",
   "execution_count": 5,
   "metadata": {},
   "outputs": [],
   "source": [
    "def plot_confusion_matrix(cm, classes,\n",
    "                          normalize=False,\n",
    "                          title='Confusion matrix',\n",
    "                          cmap=plt.cm.Blues):\n",
    "    \"\"\"\n",
    "    This function prints and plots the confusion matrix.\n",
    "    Normalization can be applied by setting `normalize=True`.\n",
    "    \"\"\"\n",
    "    if normalize:\n",
    "        cm = cm.astype('float') / cm.sum(axis=1)[:, np.newaxis]\n",
    "        print(\"Normalized confusion matrix\")\n",
    "    else:\n",
    "        print('Confusion matrix, without normalization')\n",
    "\n",
    "    print(cm)\n",
    "\n",
    "    plt.imshow(cm, interpolation='nearest', cmap=cmap)\n",
    "    plt.title(title)\n",
    "    plt.colorbar()\n",
    "    tick_marks = np.arange(len(classes))\n",
    "    plt.xticks(tick_marks, classes, rotation=45)\n",
    "    plt.yticks(tick_marks, classes)\n",
    "\n",
    "    fmt = '.2f' if normalize else 'd'\n",
    "    thresh = cm.max() / 2.\n",
    "    for i, j in itertools.product(range(cm.shape[0]), range(cm.shape[1])):\n",
    "        plt.text(j, i, format(cm[i, j], fmt),\n",
    "                 horizontalalignment=\"center\",\n",
    "                 color=\"white\" if cm[i, j] > thresh else \"black\")\n",
    "\n",
    "    plt.tight_layout()\n",
    "    plt.ylabel('True label')\n",
    "    plt.xlabel('Predicted label')"
   ]
  },
  {
   "cell_type": "markdown",
   "metadata": {},
   "source": [
    "## Import And Tokenize Comments and Ratings"
   ]
  },
  {
   "cell_type": "code",
   "execution_count": 6,
   "metadata": {},
   "outputs": [
    {
     "data": {
      "text/html": [
       "<div>\n",
       "<style scoped>\n",
       "    .dataframe tbody tr th:only-of-type {\n",
       "        vertical-align: middle;\n",
       "    }\n",
       "\n",
       "    .dataframe tbody tr th {\n",
       "        vertical-align: top;\n",
       "    }\n",
       "\n",
       "    .dataframe thead th {\n",
       "        text-align: right;\n",
       "    }\n",
       "</style>\n",
       "<table border=\"1\" class=\"dataframe\">\n",
       "  <thead>\n",
       "    <tr style=\"text-align: right;\">\n",
       "      <th></th>\n",
       "      <th>comment</th>\n",
       "      <th>rating</th>\n",
       "    </tr>\n",
       "  </thead>\n",
       "  <tbody>\n",
       "    <tr>\n",
       "      <th>0</th>\n",
       "      <td>别 拿 矫揉造作 的 资产阶级 情调 麻醉 中国 人民 ！</td>\n",
       "      <td>1</td>\n",
       "    </tr>\n",
       "    <tr>\n",
       "      <th>1</th>\n",
       "      <td>文青 们 向往 的 生活 ， 可是 生活 中 没有 了 喜怒哀乐 ， 没有 了 问题 与 冲...</td>\n",
       "      <td>2</td>\n",
       "    </tr>\n",
       "    <tr>\n",
       "      <th>2</th>\n",
       "      <td>自由 也许 在 大理 ， 生活 确实 在 别处 。</td>\n",
       "      <td>3</td>\n",
       "    </tr>\n",
       "    <tr>\n",
       "      <th>3</th>\n",
       "      <td>原来 八旬 是 小四 的 老公 ， 小 彩旗 的 爹 ， 杨丽萍 的 妹夫 。</td>\n",
       "      <td>3</td>\n",
       "    </tr>\n",
       "    <tr>\n",
       "      <th>4</th>\n",
       "      <td>关于 大理 的 蓝光 旅游 宣传片 。</td>\n",
       "      <td>3</td>\n",
       "    </tr>\n",
       "  </tbody>\n",
       "</table>\n",
       "</div>"
      ],
      "text/plain": [
       "                                             comment  rating\n",
       "0                      别 拿 矫揉造作 的 资产阶级 情调 麻醉 中国 人民 ！       1\n",
       "1  文青 们 向往 的 生活 ， 可是 生活 中 没有 了 喜怒哀乐 ， 没有 了 问题 与 冲...       2\n",
       "2                          自由 也许 在 大理 ， 生活 确实 在 别处 。       3\n",
       "3            原来 八旬 是 小四 的 老公 ， 小 彩旗 的 爹 ， 杨丽萍 的 妹夫 。       3\n",
       "4                                关于 大理 的 蓝光 旅游 宣传片 。       3"
      ]
     },
     "execution_count": 6,
     "metadata": {},
     "output_type": "execute_result"
    }
   ],
   "source": [
    "df_ratings = pd.read_csv(\"../data/ratings_word.csv\")\n",
    "df_ratings.head()"
   ]
  },
  {
   "cell_type": "code",
   "execution_count": 7,
   "metadata": {},
   "outputs": [],
   "source": [
    "sss = StratifiedShuffleSplit(n_splits=1, test_size=0.4, random_state=888)\n",
    "train_idx, test_idx = next(sss.split(df_ratings, df_ratings.rating))\n",
    "df_train = df_ratings.iloc[train_idx].copy()\n",
    "df_test = df_ratings.iloc[test_idx].copy()\n",
    "sss = StratifiedShuffleSplit(n_splits=1, test_size=0.5, random_state=888)\n",
    "val_idx, test_idx = next(sss.split(df_test, df_test.rating))\n",
    "df_val = df_test.iloc[val_idx].copy()\n",
    "df_test = df_test.iloc[test_idx].copy()\n",
    "del df_ratings"
   ]
  },
  {
   "cell_type": "code",
   "execution_count": 8,
   "metadata": {},
   "outputs": [],
   "source": [
    "UNK = 0\n",
    "BEG = 1\n",
    "EMB_DIM = 300"
   ]
  },
  {
   "cell_type": "markdown",
   "metadata": {
    "heading_collapsed": true
   },
   "source": [
    "### Use the Unigram Vocabulary from the Wiki model"
   ]
  },
  {
   "cell_type": "code",
   "execution_count": 9,
   "metadata": {
    "hidden": true
   },
   "outputs": [
    {
     "data": {
      "text/plain": [
       "True"
      ]
     },
     "execution_count": 9,
     "metadata": {},
     "output_type": "execute_result"
    }
   ],
   "source": [
    "sp = spm.SentencePieceProcessor()\n",
    "sp.Load(\"../data/unigram_model.model\")"
   ]
  },
  {
   "cell_type": "markdown",
   "metadata": {
    "hidden": true
   },
   "source": [
    "#### Tokenize"
   ]
  },
  {
   "cell_type": "code",
   "execution_count": 11,
   "metadata": {
    "hidden": true
   },
   "outputs": [
    {
     "data": {
      "application/vnd.jupyter.widget-view+json": {
       "model_id": "97ad2ea5e1fa4126a1442d4dfa64d858",
       "version_major": 2,
       "version_minor": 0
      },
      "text/plain": [
       "HBox(children=(IntProgress(value=0, max=528624), HTML(value='')))"
      ]
     },
     "metadata": {},
     "output_type": "display_data"
    },
    {
     "name": "stdout",
     "output_type": "stream",
     "text": [
      "\n"
     ]
    },
    {
     "data": {
      "application/vnd.jupyter.widget-view+json": {
       "model_id": "f37565f7818c4006a2bbce4ad6e1b842",
       "version_major": 2,
       "version_minor": 0
      },
      "text/plain": [
       "HBox(children=(IntProgress(value=0, max=176208), HTML(value='')))"
      ]
     },
     "metadata": {},
     "output_type": "display_data"
    },
    {
     "name": "stdout",
     "output_type": "stream",
     "text": [
      "\n"
     ]
    },
    {
     "data": {
      "application/vnd.jupyter.widget-view+json": {
       "model_id": "6874c3474be64ccea56608309b93599f",
       "version_major": 2,
       "version_minor": 0
      },
      "text/plain": [
       "HBox(children=(IntProgress(value=0, max=176209), HTML(value='')))"
      ]
     },
     "metadata": {},
     "output_type": "display_data"
    },
    {
     "name": "stdout",
     "output_type": "stream",
     "text": [
      "\n"
     ]
    }
   ],
   "source": [
    "results = []\n",
    "tokens_train, tokens_val, tokens_test = [], [], []\n",
    "for df, tokens in zip((df_train, df_val, df_test), (tokens_train, tokens_val, tokens_test)) :\n",
    "    for i, row in tqdm_notebook(df.iterrows(), total=df.shape[0]):\n",
    "        tokens.append(np.array([BEG] + sp.EncodeAsIds(row[\"comment\"])))"
   ]
  },
  {
   "cell_type": "code",
   "execution_count": 12,
   "metadata": {
    "hidden": true
   },
   "outputs": [],
   "source": [
    "assert len(tokens_train) == df_train.shape[0]"
   ]
  },
  {
   "cell_type": "code",
   "execution_count": 14,
   "metadata": {
    "hidden": true
   },
   "outputs": [
    {
     "data": {
      "text/plain": [
       "array([   1,   17,  265,  226, 3354,   28,  603,  956, 5043,    3,  410,   11,  218, 2900,  133,   17, 4569,\n",
       "       5471,  381,    5,  133, 1670,   12,   68, 3781, 4228, 6047,    4, 4569, 6521,    3, 2937, 2376,   29,\n",
       "         17,   15,    3,   40, 4452,  198,  265,   15, 1226,    5])"
      ]
     },
     "execution_count": 14,
     "metadata": {},
     "output_type": "execute_result"
    }
   ],
   "source": [
    "tokens_train[0]"
   ]
  },
  {
   "cell_type": "markdown",
   "metadata": {
    "hidden": true
   },
   "source": [
    "#### Embedding\n",
    "We can keep using the original embedding matrix, but the row corresponding to the BEG token must be zeroed."
   ]
  },
  {
   "cell_type": "code",
   "execution_count": 17,
   "metadata": {
    "hidden": true
   },
   "outputs": [
    {
     "data": {
      "text/plain": [
       "torch.Size([7500, 300])"
      ]
     },
     "execution_count": 17,
     "metadata": {},
     "output_type": "execute_result"
    }
   ],
   "source": [
    "MODEL_PATH = \"../data/cache/lm_unigram/models/lm_lstm.h5\"\n",
    "weights = torch.load(MODEL_PATH, map_location=lambda storage, loc: storage)\n",
    "assert weights['0.encoder.weight'].shape[1] == EMB_DIM\n",
    "weights['0.encoder.weight'].shape"
   ]
  },
  {
   "cell_type": "code",
   "execution_count": 18,
   "metadata": {
    "hidden": true
   },
   "outputs": [],
   "source": [
    "weights['0.encoder.weight'][BEG, :] = 0\n",
    "weights['0.encoder_with_dropout.embed.weight'][BEG, :] = 0\n",
    "weights['1.decoder.weight'][BEG, :] = 0"
   ]
  },
  {
   "cell_type": "code",
   "execution_count": 22,
   "metadata": {
    "hidden": true
   },
   "outputs": [],
   "source": [
    "n_toks = weights['0.encoder.weight'].shape[0]"
   ]
  },
  {
   "cell_type": "markdown",
   "metadata": {},
   "source": [
    "### Use the Refitted Vocabulary\n",
    "#### Investigate Vocabulary Differences"
   ]
  },
  {
   "cell_type": "code",
   "execution_count": 9,
   "metadata": {},
   "outputs": [
    {
     "data": {
      "text/plain": [
       "7500"
      ]
     },
     "execution_count": 9,
     "metadata": {},
     "output_type": "execute_result"
    }
   ],
   "source": [
    "itos_orig = []\n",
    "with open(\"../data/unigram_model.vocab\", mode=\"r\", encoding=\"utf-8\") as f:\n",
    "    for line in f.readlines():\n",
    "        itos_orig.append(line.split(\"\\t\")[0])\n",
    "itos = []\n",
    "with open(\"../data/rating_unigram_model.vocab\", mode=\"r\", encoding=\"utf-8\") as f:\n",
    "    for line in f.readlines():\n",
    "        itos.append(line.split(\"\\t\")[0])\n",
    "n_toks = len(itos)\n",
    "n_toks"
   ]
  },
  {
   "cell_type": "code",
   "execution_count": 10,
   "metadata": {},
   "outputs": [
    {
     "data": {
      "text/plain": [
       "['<unk>', '<s>', '</s>', '▁,', '▁的']"
      ]
     },
     "execution_count": 10,
     "metadata": {},
     "output_type": "execute_result"
    }
   ],
   "source": [
    "itos[:5]"
   ]
  },
  {
   "cell_type": "code",
   "execution_count": 11,
   "metadata": {},
   "outputs": [],
   "source": [
    "mapping = {s: idx for idx, s in enumerate(itos)}\n",
    "mapping_orig = {s: idx for idx, s in enumerate(itos_orig)}"
   ]
  },
  {
   "cell_type": "code",
   "execution_count": 12,
   "metadata": {},
   "outputs": [
    {
     "name": "stdout",
     "output_type": "stream",
     "text": [
      "2823 7500\n"
     ]
    },
    {
     "data": {
      "text/plain": [
       "[('婪', 7499),\n",
       " ('★', 7491),\n",
       " ('】', 7490),\n",
       " ('兀', 7489),\n",
       " ('☆', 7488),\n",
       " ('葩', 7487),\n",
       " ('̄', 7486),\n",
       " ('喂', 7485),\n",
       " ('咱', 7484),\n",
       " ('匆', 7482),\n",
       " ('蝴', 7478),\n",
       " ('袱', 7477),\n",
       " ('寥', 7476),\n",
       " ('疙', 7475),\n",
       " ('痨', 7474),\n",
       " ('【', 7470),\n",
       " (']', 7469),\n",
       " ('*', 7468),\n",
       " ('扔', 7466),\n",
       " ('窒', 7464),\n",
       " ('漓', 7462),\n",
       " ('肮', 7459),\n",
       " ('@', 7458),\n",
       " ('[', 7457),\n",
       " ('驭', 7455),\n",
       " ('渲', 7453),\n",
       " ('樟', 7452),\n",
       " ('跪', 7451),\n",
       " ('甩', 7448),\n",
       " ('噱', 7445),\n",
       " ('暧', 7440),\n",
       " ('谑', 7439),\n",
       " ('蹩', 7435),\n",
       " ('讶', 7434),\n",
       " ('戛', 7431),\n",
       " ('╭', 7428),\n",
       " ('娴', 7423),\n",
       " ('蹋', 7422),\n",
       " ('疵', 7403),\n",
       " ('潇', 7401),\n",
       " ('尴', 7400),\n",
       " ('烘', 7390),\n",
       " ('陌', 7383),\n",
       " ('馨', 7381),\n",
       " ('瑕', 7377),\n",
       " ('>', 7373),\n",
       " ('唏', 7372),\n",
       " ('俐', 7371),\n",
       " ('谬', 7369),\n",
       " ('缚', 7359)]"
      ]
     },
     "execution_count": 12,
     "metadata": {},
     "output_type": "execute_result"
    }
   ],
   "source": [
    "voc_diff = set(itos) - set(itos_orig)\n",
    "print(len(voc_diff), len(itos))\n",
    "sorted([(x, mapping[x]) for x in list(voc_diff)], key=lambda x: x[1], reverse=True)[:50]"
   ]
  },
  {
   "cell_type": "markdown",
   "metadata": {},
   "source": [
    "#### Tokenize"
   ]
  },
  {
   "cell_type": "code",
   "execution_count": 13,
   "metadata": {},
   "outputs": [
    {
     "data": {
      "text/plain": [
       "True"
      ]
     },
     "execution_count": 13,
     "metadata": {},
     "output_type": "execute_result"
    }
   ],
   "source": [
    "sp = spm.SentencePieceProcessor()\n",
    "sp.Load(\"../data/rating_unigram_model.model\")"
   ]
  },
  {
   "cell_type": "code",
   "execution_count": 14,
   "metadata": {},
   "outputs": [
    {
     "data": {
      "application/vnd.jupyter.widget-view+json": {
       "model_id": "cf046d28de7040f580d7778eff8c8fc6",
       "version_major": 2,
       "version_minor": 0
      },
      "text/plain": [
       "HBox(children=(IntProgress(value=0, max=528624), HTML(value='')))"
      ]
     },
     "metadata": {},
     "output_type": "display_data"
    },
    {
     "name": "stdout",
     "output_type": "stream",
     "text": [
      "\n"
     ]
    },
    {
     "data": {
      "application/vnd.jupyter.widget-view+json": {
       "model_id": "ff754f1f7efd40c2847477ac43068293",
       "version_major": 2,
       "version_minor": 0
      },
      "text/plain": [
       "HBox(children=(IntProgress(value=0, max=176208), HTML(value='')))"
      ]
     },
     "metadata": {},
     "output_type": "display_data"
    },
    {
     "name": "stdout",
     "output_type": "stream",
     "text": [
      "\n"
     ]
    },
    {
     "data": {
      "application/vnd.jupyter.widget-view+json": {
       "model_id": "6df41da2ecf84fbdb9a1753fc860ba1a",
       "version_major": 2,
       "version_minor": 0
      },
      "text/plain": [
       "HBox(children=(IntProgress(value=0, max=176209), HTML(value='')))"
      ]
     },
     "metadata": {},
     "output_type": "display_data"
    },
    {
     "name": "stdout",
     "output_type": "stream",
     "text": [
      "\n"
     ]
    }
   ],
   "source": [
    "results = []\n",
    "tokens_train, tokens_val, tokens_test = [], [], []\n",
    "for df, tokens in zip((df_train, df_val, df_test), (tokens_train, tokens_val, tokens_test)) :\n",
    "    for i, row in tqdm_notebook(df.iterrows(), total=df.shape[0]):\n",
    "        tokens.append(np.array([BEG] + sp.EncodeAsIds(row[\"comment\"])))\n",
    "assert len(tokens_train) == df_train.shape[0]        "
   ]
  },
  {
   "cell_type": "code",
   "execution_count": 15,
   "metadata": {},
   "outputs": [
    {
     "data": {
      "text/plain": [
       "array([   1,  163,  149,   99, 1064, 1412])"
      ]
     },
     "execution_count": 15,
     "metadata": {},
     "output_type": "execute_result"
    }
   ],
   "source": [
    "tokens_val[0]"
   ]
  },
  {
   "cell_type": "code",
   "execution_count": 16,
   "metadata": {},
   "outputs": [
    {
     "data": {
      "text/plain": [
       "comment    男 主角 像 卡卡\n",
       "rating             2\n",
       "Name: 681247, dtype: object"
      ]
     },
     "execution_count": 16,
     "metadata": {},
     "output_type": "execute_result"
    }
   ],
   "source": [
    "df_val.iloc[0]"
   ]
  },
  {
   "cell_type": "markdown",
   "metadata": {},
   "source": [
    "#### Prepare the embedding matrix"
   ]
  },
  {
   "cell_type": "code",
   "execution_count": 17,
   "metadata": {},
   "outputs": [
    {
     "data": {
      "text/plain": [
       "torch.Size([7500, 300])"
      ]
     },
     "execution_count": 17,
     "metadata": {},
     "output_type": "execute_result"
    }
   ],
   "source": [
    "MODEL_PATH = \"../data/cache/lm_unigram/models/lm_lstm.h5\"\n",
    "weights = torch.load(MODEL_PATH, map_location=lambda storage, loc: storage)\n",
    "assert weights['0.encoder.weight'].shape[1] == EMB_DIM\n",
    "weights['0.encoder.weight'].shape"
   ]
  },
  {
   "cell_type": "code",
   "execution_count": 18,
   "metadata": {},
   "outputs": [
    {
     "data": {
      "text/plain": [
       "(4677, 62.38495398159264)"
      ]
     },
     "execution_count": 18,
     "metadata": {},
     "output_type": "execute_result"
    }
   ],
   "source": [
    "new_matrix = np.zeros((n_toks, EMB_DIM))\n",
    "hits = 0\n",
    "for i, w in enumerate(itos):\n",
    "    if w in mapping_orig:\n",
    "        new_matrix[i] = weights['0.encoder.weight'][mapping_orig[w]]\n",
    "        hits += 1\n",
    "new_matrix[BEG, :] = 0\n",
    "hits, hits *100 / len(itos[3:])"
   ]
  },
  {
   "cell_type": "code",
   "execution_count": 19,
   "metadata": {},
   "outputs": [],
   "source": [
    "weights['0.encoder.weight'] = T(new_matrix)\n",
    "weights['0.encoder_with_dropout.embed.weight'] = T(np.copy(new_matrix))\n",
    "weights['1.decoder.weight'] = T(np.copy(new_matrix))"
   ]
  },
  {
   "cell_type": "markdown",
   "metadata": {},
   "source": [
    "## Languange Model"
   ]
  },
  {
   "cell_type": "code",
   "execution_count": 20,
   "metadata": {},
   "outputs": [],
   "source": [
    "bs = 64\n",
    "bptt = 50\n",
    "trn_dl = LanguageModelLoader(np.concatenate(tokens_train), bs, bptt)\n",
    "val_dl = LanguageModelLoader(np.concatenate(tokens_val), bs, bptt)"
   ]
  },
  {
   "cell_type": "code",
   "execution_count": 21,
   "metadata": {},
   "outputs": [
    {
     "data": {
      "text/plain": [
       "7490"
      ]
     },
     "execution_count": 21,
     "metadata": {},
     "output_type": "execute_result"
    }
   ],
   "source": [
    "np.max(np.array(list(itertools.chain.from_iterable(tokens_train))))"
   ]
  },
  {
   "cell_type": "code",
   "execution_count": 23,
   "metadata": {},
   "outputs": [],
   "source": [
    "model_data = LanguageModelData(path, 2, n_toks, trn_dl, val_dl, bs=bs, bptt=bptt)"
   ]
  },
  {
   "cell_type": "code",
   "execution_count": 24,
   "metadata": {},
   "outputs": [],
   "source": [
    "drops = np.array([0.25, 0.1, 0.2, 0.02, 0.15])*0.7\n",
    "opt_fn = partial(torch.optim.Adam, betas=(0.8, 0.99))"
   ]
  },
  {
   "cell_type": "code",
   "execution_count": 25,
   "metadata": {},
   "outputs": [],
   "source": [
    "learner = model_data.get_model(opt_fn, EMB_DIM, 500, 3, \n",
    "    dropouti=drops[0], dropout=drops[1], wdrop=drops[2], dropoute=drops[3], dropouth=drops[4])\n",
    "learner.metrics = [accuracy]\n",
    "learner.freeze_to(-1)"
   ]
  },
  {
   "cell_type": "code",
   "execution_count": 26,
   "metadata": {},
   "outputs": [],
   "source": [
    "learner.model.load_state_dict(weights)"
   ]
  },
  {
   "cell_type": "code",
   "execution_count": 27,
   "metadata": {},
   "outputs": [
    {
     "data": {
      "application/vnd.jupyter.widget-view+json": {
       "model_id": "021e7c48fa3b433cbcdd34ed3051a08d",
       "version_major": 2,
       "version_minor": 0
      },
      "text/plain": [
       "HBox(children=(IntProgress(value=0, description='Epoch', max=1), HTML(value='')))"
      ]
     },
     "metadata": {},
     "output_type": "display_data"
    },
    {
     "name": "stdout",
     "output_type": "stream",
     "text": [
      "epoch      trn_loss   val_loss   accuracy                     \n",
      "    0      5.577481   5.377635   0.168046  \n",
      "\n"
     ]
    },
    {
     "data": {
      "text/plain": [
       "[5.377635119494657, 0.1680461146952847]"
      ]
     },
     "execution_count": 27,
     "metadata": {},
     "output_type": "execute_result"
    }
   ],
   "source": [
    "lr=1e-3\n",
    "lrs = lr\n",
    "learner.fit(lrs/2, 1, wds=1e-7, use_clr=(32,2), cycle_len=1)"
   ]
  },
  {
   "cell_type": "code",
   "execution_count": 28,
   "metadata": {},
   "outputs": [],
   "source": [
    "learner.save('lm_last_ft')"
   ]
  },
  {
   "cell_type": "code",
   "execution_count": 29,
   "metadata": {},
   "outputs": [
    {
     "data": {
      "application/vnd.jupyter.widget-view+json": {
       "model_id": "1b9e4e9bd9794c8a9c048ac1f2cec8d5",
       "version_major": 2,
       "version_minor": 0
      },
      "text/plain": [
       "HBox(children=(IntProgress(value=0, description='Epoch', max=1), HTML(value='')))"
      ]
     },
     "metadata": {},
     "output_type": "display_data"
    },
    {
     "name": "stdout",
     "output_type": "stream",
     "text": [
      "epoch      trn_loss   val_loss   accuracy                     \n",
      "    0      5.157025   4.966034   0.200338  \n",
      "\n"
     ]
    }
   ],
   "source": [
    "learner.unfreeze()\n",
    "learner.clip = 25\n",
    "learner.lr_find(start_lr=lrs/10, end_lr=lrs*10, linear=True)"
   ]
  },
  {
   "cell_type": "code",
   "execution_count": 30,
   "metadata": {},
   "outputs": [
    {
     "data": {
      "image/png": "[encoded data removed]",
      "text/plain": [
       "<Figure size 432x288 with 1 Axes>"
      ]
     },
     "metadata": {},
     "output_type": "display_data"
    }
   ],
   "source": [
    "learner.sched.plot()"
   ]
  },
  {
   "cell_type": "code",
   "execution_count": 31,
   "metadata": {},
   "outputs": [
    {
     "data": {
      "application/vnd.jupyter.widget-view+json": {
       "model_id": "36f9e66a8875454982d77bab90698334",
       "version_major": 2,
       "version_minor": 0
      },
      "text/plain": [
       "HBox(children=(IntProgress(value=0, description='Epoch', max=10), HTML(value='')))"
      ]
     },
     "metadata": {},
     "output_type": "display_data"
    },
    {
     "name": "stdout",
     "output_type": "stream",
     "text": [
      "epoch      trn_loss   val_loss   accuracy                     \n",
      "    0      5.004644   4.810403   0.215846  \n",
      "    1      4.888845   4.690563   0.225409                     \n",
      "    2      4.812634   4.619514   0.232305                     \n",
      "    3      4.74716    4.575836   0.23663                      \n",
      "    4      4.719796   4.541729   0.239888                     \n",
      "    5      4.676504   4.511105   0.24359                      \n",
      "    6      4.649265   4.486551   0.24584                      \n",
      "    7      4.619393   4.464896   0.248276                     \n",
      "    8      4.599483   4.446389   0.250157                     \n",
      "    9      4.584525   4.432842   0.251815                     \n",
      "\n"
     ]
    },
    {
     "data": {
      "text/plain": [
       "[4.432841840593756, 0.2518151349175449]"
      ]
     },
     "execution_count": 31,
     "metadata": {},
     "output_type": "execute_result"
    }
   ],
   "source": [
    "lr = 3e-3\n",
    "lrs = lr\n",
    "learner.fit(lrs, 1, wds=1e-7, use_clr=(20,5), cycle_len=10)"
   ]
  },
  {
   "cell_type": "code",
   "execution_count": 34,
   "metadata": {},
   "outputs": [],
   "source": [
    "learner.save_encoder(\"lm1_enc\")"
   ]
  },
  {
   "cell_type": "code",
   "execution_count": 35,
   "metadata": {},
   "outputs": [],
   "source": [
    "learner.save(\"lm1\")"
   ]
  },
  {
   "cell_type": "code",
   "execution_count": 36,
   "metadata": {},
   "outputs": [],
   "source": [
    "del learner"
   ]
  },
  {
   "cell_type": "markdown",
   "metadata": {},
   "source": [
    "## 3-class Classifier\n",
    "As in https://zhuanlan.zhihu.com/p/27198713"
   ]
  },
  {
   "cell_type": "markdown",
   "metadata": {
    "heading_collapsed": true
   },
   "source": [
    "### Full Dataset (v1)"
   ]
  },
  {
   "cell_type": "code",
   "execution_count": 37,
   "metadata": {
    "hidden": true
   },
   "outputs": [],
   "source": [
    "for df in (df_train, df_val, df_test):\n",
    "    df[\"label\"] = (df[\"rating\"] >= 3) * 1\n",
    "    df.loc[df.rating == 3, \"label\"] = 1\n",
    "    df.loc[df.rating > 3, \"label\"] = 2"
   ]
  },
  {
   "cell_type": "code",
   "execution_count": 38,
   "metadata": {
    "hidden": true
   },
   "outputs": [
    {
     "data": {
      "text/plain": [
       "2    240094\n",
       "1    184124\n",
       "0    104406\n",
       "Name: label, dtype: int64"
      ]
     },
     "execution_count": 38,
     "metadata": {},
     "output_type": "execute_result"
    }
   ],
   "source": [
    "df_train.label.value_counts()"
   ]
  },
  {
   "cell_type": "code",
   "execution_count": 39,
   "metadata": {
    "hidden": true
   },
   "outputs": [],
   "source": [
    "bs = 64\n",
    "trn_ds = TextDataset(tokens_train, df_train.label.values)\n",
    "val_ds = TextDataset(tokens_val, df_val.label.values)\n",
    "trn_samp = SortishSampler(tokens_train, key=lambda x: len(tokens_train[x]), bs=bs//2)\n",
    "val_samp = SortSampler(tokens_val, key=lambda x: len(tokens_val[x]))\n",
    "trn_dl = DataLoader(trn_ds, bs//2, transpose=True, num_workers=1, pad_idx=0, sampler=trn_samp)\n",
    "val_dl = DataLoader(val_ds, bs, transpose=True, num_workers=1, pad_idx=0, sampler=val_samp)\n",
    "model_data = ModelData(path, trn_dl, val_dl)"
   ]
  },
  {
   "cell_type": "code",
   "execution_count": 40,
   "metadata": {
    "hidden": true
   },
   "outputs": [],
   "source": [
    "dps = np.array([0.4,0.5,0.05,0.3,0.4]) * 0.5\n",
    "opt_fn = partial(torch.optim.Adam, betas=(0.7, 0.99))\n",
    "bptt = 50"
   ]
  },
  {
   "cell_type": "code",
   "execution_count": 41,
   "metadata": {
    "hidden": true
   },
   "outputs": [],
   "source": [
    "model = get_rnn_classifier(bptt, bptt*2, 3, n_toks, emb_sz=EMB_DIM, n_hid=500, n_layers=3, pad_token=2,\n",
    "          layers=[EMB_DIM*3, 50, 3], drops=[dps[4], 0.1],\n",
    "          dropouti=dps[0], wdrop=dps[1], dropoute=dps[2], dropouth=dps[3])"
   ]
  },
  {
   "cell_type": "code",
   "execution_count": 42,
   "metadata": {
    "hidden": true
   },
   "outputs": [],
   "source": [
    "learn = RNN_Learner(model_data, TextModel(to_gpu(model)), opt_fn=opt_fn)\n",
    "learn.reg_fn = partial(seq2seq_reg, alpha=2, beta=1)\n",
    "learn.clip=25.\n",
    "learn.metrics = [accuracy]\n",
    "learn.load_encoder('lm1_enc')"
   ]
  },
  {
   "cell_type": "code",
   "execution_count": 43,
   "metadata": {
    "hidden": true
   },
   "outputs": [
    {
     "data": {
      "application/vnd.jupyter.widget-view+json": {
       "model_id": "8f058694e3394a6988e76feb63254e81",
       "version_major": 2,
       "version_minor": 0
      },
      "text/plain": [
       "HBox(children=(IntProgress(value=0, description='Epoch', max=1), HTML(value='')))"
      ]
     },
     "metadata": {},
     "output_type": "display_data"
    },
    {
     "name": "stdout",
     "output_type": "stream",
     "text": [
      " 82%|████████▏ | 13521/16520 [02:40<00:35, 84.20it/s, loss=3.04] "
     ]
    },
    {
     "data": {
      "image/png": "[encoded data removed]",
      "text/plain": [
       "<Figure size 432x288 with 1 Axes>"
      ]
     },
     "metadata": {},
     "output_type": "display_data"
    }
   ],
   "source": [
    "learn.freeze_to(-1)\n",
    "learn.lr_find(lrs/1000)\n",
    "learn.sched.plot()"
   ]
  },
  {
   "cell_type": "code",
   "execution_count": 44,
   "metadata": {
    "hidden": true
   },
   "outputs": [
    {
     "data": {
      "application/vnd.jupyter.widget-view+json": {
       "model_id": "d7999038b83c4ad4bc4dd3558aa22df1",
       "version_major": 2,
       "version_minor": 0
      },
      "text/plain": [
       "HBox(children=(IntProgress(value=0, description='Epoch', max=1), HTML(value='')))"
      ]
     },
     "metadata": {},
     "output_type": "display_data"
    },
    {
     "name": "stdout",
     "output_type": "stream",
     "text": [
      "epoch      trn_loss   val_loss   accuracy                         \n",
      "    0      0.884187   0.844602   0.599309  \n"
     ]
    },
    {
     "data": {
      "text/plain": [
       "[0.8446015893065355, 0.5993087714519204]"
      ]
     },
     "execution_count": 44,
     "metadata": {},
     "output_type": "execute_result"
    }
   ],
   "source": [
    "lr=2e-4\n",
    "lrm = 2.6\n",
    "lrs = np.array([lr/(lrm**4), lr/(lrm**3), lr/(lrm**2), lr/lrm, lr])\n",
    "learn.fit(lrs, 1, wds=0, cycle_len=1, use_clr=(8,3))"
   ]
  },
  {
   "cell_type": "code",
   "execution_count": 45,
   "metadata": {
    "hidden": true
   },
   "outputs": [],
   "source": [
    "learn.save('clas_0')"
   ]
  },
  {
   "cell_type": "code",
   "execution_count": 46,
   "metadata": {
    "hidden": true
   },
   "outputs": [
    {
     "data": {
      "application/vnd.jupyter.widget-view+json": {
       "model_id": "192da9e2fdec49faa8dda0ed69456d19",
       "version_major": 2,
       "version_minor": 0
      },
      "text/plain": [
       "HBox(children=(IntProgress(value=0, description='Epoch', max=1), HTML(value='')))"
      ]
     },
     "metadata": {},
     "output_type": "display_data"
    },
    {
     "name": "stdout",
     "output_type": "stream",
     "text": [
      "epoch      trn_loss   val_loss   accuracy                        \n",
      "    0      0.889135   0.83309    0.606091  \n"
     ]
    },
    {
     "data": {
      "text/plain": [
       "[0.8330896465327838, 0.6060905293743757]"
      ]
     },
     "execution_count": 46,
     "metadata": {},
     "output_type": "execute_result"
    }
   ],
   "source": [
    "learn.freeze_to(-2)\n",
    "learn.fit(lrs, 1, wds=0, cycle_len=1, use_clr=(8,3))"
   ]
  },
  {
   "cell_type": "code",
   "execution_count": 47,
   "metadata": {
    "hidden": true
   },
   "outputs": [],
   "source": [
    "learn.save('clas_1')"
   ]
  },
  {
   "cell_type": "code",
   "execution_count": 48,
   "metadata": {
    "hidden": true
   },
   "outputs": [
    {
     "data": {
      "application/vnd.jupyter.widget-view+json": {
       "model_id": "e72c76bd0e394e9eaec9bbcb8e488f9f",
       "version_major": 2,
       "version_minor": 0
      },
      "text/plain": [
       "HBox(children=(IntProgress(value=0, description='Epoch', max=14), HTML(value='')))"
      ]
     },
     "metadata": {},
     "output_type": "display_data"
    },
    {
     "name": "stdout",
     "output_type": "stream",
     "text": [
      "epoch      trn_loss   val_loss   accuracy                        \n",
      "    0      0.87336    0.821222   0.610977  \n",
      "    1      0.841587   0.8015     0.624909                        \n",
      "    2      0.829036   0.788889   0.63244                         \n",
      "    3      0.814548   0.784089   0.634529                        \n",
      "    4      0.808048   0.77581    0.63963                         \n",
      "    5      0.805943   0.772495   0.640896                        \n",
      "    6      0.793054   0.769689   0.642423                        \n",
      "    7      0.797281   0.767278   0.644267                        \n",
      "    8      0.780281   0.76666    0.644579                        \n",
      "    9      0.81333    0.767201   0.644085                        \n",
      "    10     0.795573   0.763356   0.645987                        \n",
      "    11     0.785277   0.766877   0.644914                        \n",
      "    12     0.804006   0.761355   0.647326                        \n",
      "    13     0.801202   0.761603   0.646702                        \n"
     ]
    },
    {
     "data": {
      "text/plain": [
       "[0.7616032683198787, 0.6467016253518569]"
      ]
     },
     "execution_count": 48,
     "metadata": {},
     "output_type": "execute_result"
    }
   ],
   "source": [
    "learn.unfreeze()\n",
    "learn.fit(lrs, 1, wds=0, cycle_len=14, use_clr=(32,10))"
   ]
  },
  {
   "cell_type": "code",
   "execution_count": 49,
   "metadata": {
    "hidden": true
   },
   "outputs": [],
   "source": [
    "learn.save(\"clas_full\")"
   ]
  },
  {
   "cell_type": "markdown",
   "metadata": {
    "heading_collapsed": true,
    "hidden": true
   },
   "source": [
    "#### Evaluate"
   ]
  },
  {
   "cell_type": "code",
   "execution_count": 50,
   "metadata": {
    "hidden": true
   },
   "outputs": [],
   "source": [
    "learn.load(\"clas_full\")\n",
    "learn.model.reset()\n",
    "_ = learn.model.eval()"
   ]
  },
  {
   "cell_type": "code",
   "execution_count": 51,
   "metadata": {
    "hidden": true
   },
   "outputs": [
    {
     "data": {
      "application/vnd.jupyter.widget-view+json": {
       "model_id": "e4bb9d9e88f641fc9ab40fe4203542c4",
       "version_major": 2,
       "version_minor": 0
      },
      "text/plain": [
       "HBox(children=(IntProgress(value=0, max=2754), HTML(value='')))"
      ]
     },
     "metadata": {},
     "output_type": "display_data"
    }
   ],
   "source": [
    "learn.model.eval()\n",
    "preds, ys = [], []\n",
    "for x, y in tqdm_notebook(val_dl):\n",
    "    preds.append(np.argmax(learn.model(x)[0].cpu().data.numpy(), axis=1))\n",
    "    ys.append(y.cpu().numpy())"
   ]
  },
  {
   "cell_type": "code",
   "execution_count": 52,
   "metadata": {
    "hidden": true
   },
   "outputs": [
    {
     "data": {
      "text/plain": [
       "((176208,), (176208,))"
      ]
     },
     "execution_count": 52,
     "metadata": {},
     "output_type": "execute_result"
    }
   ],
   "source": [
    "preds = np.concatenate(preds)\n",
    "ys = np.concatenate(ys)\n",
    "preds.shape, ys.shape"
   ]
  },
  {
   "cell_type": "code",
   "execution_count": 53,
   "metadata": {
    "hidden": true
   },
   "outputs": [
    {
     "data": {
      "text/plain": [
       "2    80031\n",
       "1    61374\n",
       "0    34803\n",
       "dtype: int64"
      ]
     },
     "execution_count": 53,
     "metadata": {},
     "output_type": "execute_result"
    }
   ],
   "source": [
    "pd.Series(ys).value_counts()"
   ]
  },
  {
   "cell_type": "code",
   "execution_count": 54,
   "metadata": {
    "hidden": true
   },
   "outputs": [
    {
     "data": {
      "text/plain": [
       "2    92847\n",
       "1    51618\n",
       "0    31743\n",
       "dtype: int64"
      ]
     },
     "execution_count": 54,
     "metadata": {},
     "output_type": "execute_result"
    }
   ],
   "source": [
    "pd.Series(preds).value_counts()"
   ]
  },
  {
   "cell_type": "code",
   "execution_count": 55,
   "metadata": {
    "hidden": true
   },
   "outputs": [
    {
     "data": {
      "text/plain": [
       "0.6467016253518569"
      ]
     },
     "execution_count": 55,
     "metadata": {},
     "output_type": "execute_result"
    }
   ],
   "source": [
    "np.sum(ys==preds) / ys.shape[0]"
   ]
  },
  {
   "cell_type": "code",
   "execution_count": 56,
   "metadata": {
    "hidden": true
   },
   "outputs": [
    {
     "data": {
      "text/plain": [
       "(array([    12,     15,     18, ..., 176198, 176202, 176207]),)"
      ]
     },
     "execution_count": 56,
     "metadata": {},
     "output_type": "execute_result"
    }
   ],
   "source": [
    "np.where(ys==0)"
   ]
  },
  {
   "cell_type": "code",
   "execution_count": 57,
   "metadata": {
    "hidden": true
   },
   "outputs": [
    {
     "data": {
      "text/plain": [
       "array([   1,  296,    4, 5142,    3, 1195,   13,   20,   16,    5, 3497,  326,    8,    3,   15,   82,  179])"
      ]
     },
     "execution_count": 57,
     "metadata": {},
     "output_type": "execute_result"
    }
   ],
   "source": [
    "tokens_val[176196]"
   ]
  },
  {
   "cell_type": "code",
   "execution_count": 58,
   "metadata": {
    "hidden": true
   },
   "outputs": [
    {
     "data": {
      "text/plain": [
       "('如此 的 欺骗 , 或许 我 也 就 释然 了 , 有 什么 呢', '如此 的 欺骗 ， 或许 我 也 就 释然 了 ， 有 什么 呢')"
      ]
     },
     "execution_count": 58,
     "metadata": {},
     "output_type": "execute_result"
    }
   ],
   "source": [
    "sp.DecodeIds(tokens_val[176196].tolist()), df_val[\"comment\"].iloc[176196]"
   ]
  },
  {
   "cell_type": "code",
   "execution_count": 59,
   "metadata": {
    "hidden": true
   },
   "outputs": [],
   "source": [
    "def get_prediction(texts):\n",
    "    input_tensor = T(np.array([1] + sp.EncodeAsIds(texts))).unsqueeze(1)\n",
    "    return learn.model(input_tensor)[0].data.cpu().numpy()"
   ]
  },
  {
   "cell_type": "code",
   "execution_count": 60,
   "metadata": {
    "hidden": true
   },
   "outputs": [
    {
     "data": {
      "text/plain": [
       "array([[ 0.81372,  0.50976, -0.36634]], dtype=float32)"
      ]
     },
     "execution_count": 60,
     "metadata": {},
     "output_type": "execute_result"
    }
   ],
   "source": [
    "get_prediction(\"看 了 快 一半 了 才 发现 是 mini 的 广告\")"
   ]
  },
  {
   "cell_type": "code",
   "execution_count": 61,
   "metadata": {
    "hidden": true
   },
   "outputs": [
    {
     "data": {
      "text/plain": [
       "array([[-2.24729, -1.05744,  1.79974]], dtype=float32)"
      ]
     },
     "execution_count": 61,
     "metadata": {},
     "output_type": "execute_result"
    }
   ],
   "source": [
    "get_prediction(\"妈蛋 ， 简直 太 好看 了 。 最后 的 DJ battle 部分 ， 兴奋 的 我 ， 简直 想 从 座位 上 站 起来 一起 扭\")"
   ]
  },
  {
   "cell_type": "code",
   "execution_count": 62,
   "metadata": {
    "hidden": true
   },
   "outputs": [
    {
     "data": {
      "text/plain": [
       "array([[-0.17188,  0.76937, -0.28284]], dtype=float32)"
      ]
     },
     "execution_count": 62,
     "metadata": {},
     "output_type": "execute_result"
    }
   ],
   "source": [
    "get_prediction(\"说 实话 我 没 怎么 认真 看 ， 电影院 里 的 熊 孩子 太 闹腾 了 ， 前面 的 小奶娃 还 时不时 站 \"\n",
    "               \"在 老爸 腿上 蹦迪 ， 观影 体验 极差 ， 不过 小朋友 应该 挺 喜欢 的\")"
   ]
  },
  {
   "cell_type": "code",
   "execution_count": 63,
   "metadata": {
    "hidden": true
   },
   "outputs": [
    {
     "data": {
      "text/plain": [
       "array([[-1.61565, -0.25882,  1.13853]], dtype=float32)"
      ]
     },
     "execution_count": 63,
     "metadata": {},
     "output_type": "execute_result"
    }
   ],
   "source": [
    "get_prediction(\"这 电影 太 好笑 了 ， 说好 的 高科技 人才 研制 的 产品 永远 在 关键 时候 失灵 \"\n",
    "               \"； 特地 飞 到 泰国 请来 救援 人才 ， 大家 研究 出 的 方法 每次 都是 先 给 鲨鱼 \"\n",
    "               \"当 诱饵 … … 显然 这样 的 对战 坚持不了 多久 ， 只能 赶紧 让 鲨鱼 输 了 。\")"
   ]
  },
  {
   "cell_type": "code",
   "execution_count": 64,
   "metadata": {
    "hidden": true
   },
   "outputs": [
    {
     "data": {
      "text/plain": [
       "array([[-0.94944,  0.44604, -0.08478]], dtype=float32)"
      ]
     },
     "execution_count": 64,
     "metadata": {},
     "output_type": "execute_result"
    }
   ],
   "source": [
    "get_prediction(\"太 接地气 了 ， 在 三亚 煮饺子 式 的 景区 海域 ， 冒出来 一条 大 鲨鱼 \"\n",
    "               \"… … 爽点 也 很 密集 ， 郭达森 与 李冰冰 的 CP 感 不错 ， 编剧 果然 是 \"\n",
    "               \"老外 ， 中文 台词 有点 尬 。\")"
   ]
  },
  {
   "cell_type": "code",
   "execution_count": 65,
   "metadata": {
    "hidden": true
   },
   "outputs": [
    {
     "data": {
      "text/plain": [
       "array([[-0.16678,  0.35306, -0.27641]], dtype=float32)"
      ]
     },
     "execution_count": 65,
     "metadata": {},
     "output_type": "execute_result"
    }
   ],
   "source": [
    "get_prediction(\"李冰冰 的 脸 真的 很 紧绷 ， 比 鲨鱼 的 脸 还 绷 。\")"
   ]
  },
  {
   "cell_type": "code",
   "execution_count": 66,
   "metadata": {
    "hidden": true
   },
   "outputs": [
    {
     "data": {
      "text/plain": [
       "array([[ 1.24439,  0.64315, -0.77132]], dtype=float32)"
      ]
     },
     "execution_count": 66,
     "metadata": {},
     "output_type": "execute_result"
    }
   ],
   "source": [
    "get_prediction(\"太 难 了 。 。 。\")"
   ]
  },
  {
   "cell_type": "code",
   "execution_count": 67,
   "metadata": {
    "hidden": true
   },
   "outputs": [
    {
     "data": {
      "text/plain": [
       "array([[ 0.99737, -0.48013, -0.02205]], dtype=float32)"
      ]
     },
     "execution_count": 67,
     "metadata": {},
     "output_type": "execute_result"
    }
   ],
   "source": [
    "get_prediction(\"把 我 基神 写成 智障 ， 辣鸡 mcu\")"
   ]
  },
  {
   "cell_type": "code",
   "execution_count": 68,
   "metadata": {
    "hidden": true
   },
   "outputs": [
    {
     "data": {
      "text/plain": [
       "array([[ 0.46175,  1.35265, -1.97814]], dtype=float32)"
      ]
     },
     "execution_count": 68,
     "metadata": {},
     "output_type": "execute_result"
    }
   ],
   "source": [
    "get_prediction(\"鲨鱼 部分 还是 不错 的 ， 尤其 是 中段 第一次 出海 捕鲨 非常 刺激 ， 其后 急速 下滑 ， \"\n",
    "               \"三亚 那 部分 拍得 是什么 鬼 。 。 。 爆米花 片 可以 适度 的 蠢 ， 但 人类 反派 炸鲨 \"\n",
    "               \"和 直升机 相撞 部分 简直 蠢得 太过份 了 吧 ？ 另外 充满 硬 加戏 视感 的 尴尬 感情戏 \"\n",
    "               \"把 节奏 也 拖垮 了 ， 明明 可以 更 出色 ， 却 很遗憾 地 止步 在 马马虎虎 的 水平 。 6 / 10\")"
   ]
  },
  {
   "cell_type": "code",
   "execution_count": 69,
   "metadata": {
    "hidden": true
   },
   "outputs": [
    {
     "data": {
      "text/plain": [
       "array([[-1.64013, -0.14092,  1.10669]], dtype=float32)"
      ]
     },
     "execution_count": 69,
     "metadata": {},
     "output_type": "execute_result"
    }
   ],
   "source": [
    "get_prediction(\"老冰冰 真的 很努力 ！ 为 老冰冰 实现 了 她 的 好莱坞 女主梦 鼓掌 . . .\")"
   ]
  },
  {
   "cell_type": "code",
   "execution_count": 70,
   "metadata": {
    "hidden": true
   },
   "outputs": [
    {
     "data": {
      "text/plain": [
       "array([[-0.54731, -0.02726,  0.20957]], dtype=float32)"
      ]
     },
     "execution_count": 70,
     "metadata": {},
     "output_type": "execute_result"
    }
   ],
   "source": [
    "get_prediction(\"结局 简直 丧 出 天际 ！ 灭霸 竟然 有 内心戏 ！ 全程 下来 美队 \"\n",
    "               \"和 钢铁侠 也 没 见上 一面 ， 我 还 以为 在 世界 末日 前 必然 \"\n",
    "               \"要 重修 旧好 了 ！ \")"
   ]
  },
  {
   "cell_type": "code",
   "execution_count": 71,
   "metadata": {
    "hidden": true
   },
   "outputs": [
    {
     "data": {
      "text/plain": [
       "array([[ 4.0647 , -0.66184, -1.75789]], dtype=float32)"
      ]
     },
     "execution_count": 71,
     "metadata": {},
     "output_type": "execute_result"
    }
   ],
   "source": [
    "get_prediction(\"太 烂 了 ， 难看 至极 。\")"
   ]
  },
  {
   "cell_type": "code",
   "execution_count": 72,
   "metadata": {
    "hidden": true
   },
   "outputs": [
    {
     "data": {
      "text/plain": [
       "array([[ 0.85817,  0.47482, -0.78418]], dtype=float32)"
      ]
     },
     "execution_count": 72,
     "metadata": {},
     "output_type": "execute_result"
    }
   ],
   "source": [
    "get_prediction(\"看完 之后 很 生气 ！ 剧情 太差 了\")"
   ]
  },
  {
   "cell_type": "code",
   "execution_count": 73,
   "metadata": {
    "hidden": true
   },
   "outputs": [
    {
     "data": {
      "text/plain": [
       "array([[ 1.10744,  0.5297 , -1.10803]], dtype=float32)"
      ]
     },
     "execution_count": 73,
     "metadata": {},
     "output_type": "execute_result"
    }
   ],
   "source": [
    "get_prediction(\"关键点 都 好傻 ， 我 知道 你 要拍 续集 ， \"\n",
    "               \"我 知道 未来 可以 被 重写 ， 但 那 一拳 真的 有点 傻 。\")"
   ]
  },
  {
   "cell_type": "code",
   "execution_count": 74,
   "metadata": {
    "hidden": true
   },
   "outputs": [
    {
     "data": {
      "text/plain": [
       "array([[ 0.18292, -0.27182,  0.24647]], dtype=float32)"
      ]
     },
     "execution_count": 74,
     "metadata": {},
     "output_type": "execute_result"
    }
   ],
   "source": [
    "get_prediction(\"好了 可以 了 。 再也 不看 Marvel 了 。 我 努力 过 了 。 实在 是 。 。 啥呀 这是 。 🙄️\")"
   ]
  },
  {
   "cell_type": "code",
   "execution_count": 75,
   "metadata": {
    "hidden": true
   },
   "outputs": [
    {
     "data": {
      "text/plain": [
       "array([[ 1.06886, -0.09724,  0.11563]], dtype=float32)"
      ]
     },
     "execution_count": 75,
     "metadata": {},
     "output_type": "execute_result"
    }
   ],
   "source": [
    "get_prediction(\"还 我 电影票 14 元\")"
   ]
  },
  {
   "cell_type": "code",
   "execution_count": 76,
   "metadata": {
    "hidden": true
   },
   "outputs": [
    {
     "name": "stdout",
     "output_type": "stream",
     "text": [
      "Confusion matrix, without normalization\n",
      "[[20378  9302  5123]\n",
      " [ 8418 29404 23552]\n",
      " [ 2947 12912 64172]]\n"
     ]
    },
    {
     "data": {
      "image/png": "[encoded data removed]",
      "text/plain": [
       "<Figure size 432x288 with 2 Axes>"
      ]
     },
     "metadata": {},
     "output_type": "display_data"
    }
   ],
   "source": [
    "cnf_matrix = confusion_matrix(ys, preds)\n",
    "np.set_printoptions(precision=2)\n",
    "\n",
    "# Plot non-normalized confusion matrix\n",
    "plt.figure()\n",
    "plot_confusion_matrix(\n",
    "    cnf_matrix, classes=[0, 1, 2],\n",
    "    title='Confusion matrix, without normalization')"
   ]
  },
  {
   "cell_type": "code",
   "execution_count": 77,
   "metadata": {
    "hidden": true
   },
   "outputs": [
    {
     "name": "stdout",
     "output_type": "stream",
     "text": [
      "Normalized confusion matrix\n",
      "[[0.59 0.27 0.15]\n",
      " [0.14 0.48 0.38]\n",
      " [0.04 0.16 0.8 ]]\n"
     ]
    },
    {
     "data": {
      "image/png": "[encoded data removed]",
      "text/plain": [
       "<Figure size 432x288 with 2 Axes>"
      ]
     },
     "metadata": {},
     "output_type": "display_data"
    }
   ],
   "source": [
    "plot_confusion_matrix(\n",
    "    cnf_matrix, classes=[0, 1, 2], normalize=True,\n",
    "    title='Confusion matrix, without normalization')"
   ]
  },
  {
   "cell_type": "code",
   "execution_count": 78,
   "metadata": {
    "hidden": true
   },
   "outputs": [
    {
     "name": "stdout",
     "output_type": "stream",
     "text": [
      "Class 0: P 64%, R 59%, FS 0.61, Support: 34803\n",
      "Class 1: P 57%, R 48%, FS 0.52, Support: 61374\n",
      "Class 2: P 69%, R 80%, FS 0.74, Support: 80031\n"
     ]
    }
   ],
   "source": [
    "from sklearn.metrics import precision_recall_fscore_support\n",
    "precision, recall, fscore, support = precision_recall_fscore_support(ys, preds)\n",
    "for i in range(3):\n",
    "    print(f\"Class {i}: P {precision[i]*100:.0f}%, R {recall[i]*100:.0f}%, FS {fscore[i]:.2f}, Support: {support[i]}\")"
   ]
  },
  {
   "cell_type": "code",
   "execution_count": 79,
   "metadata": {
    "hidden": true
   },
   "outputs": [],
   "source": [
    "test_ds = TextDataset(tokens_test, df_test.label.values)\n",
    "test_samp = SortSampler(tokens_test, key=lambda x: len(tokens_test[x]))\n",
    "test_dl = DataLoader(test_ds, bs, transpose=True, num_workers=1, pad_idx=0, sampler=test_samp)"
   ]
  },
  {
   "cell_type": "code",
   "execution_count": 80,
   "metadata": {
    "hidden": true
   },
   "outputs": [
    {
     "data": {
      "application/vnd.jupyter.widget-view+json": {
       "model_id": "8bf0d3a927af45f19b0ef837a6e88df3",
       "version_major": 2,
       "version_minor": 0
      },
      "text/plain": [
       "HBox(children=(IntProgress(value=0, max=2754), HTML(value='')))"
      ]
     },
     "metadata": {},
     "output_type": "display_data"
    }
   ],
   "source": [
    "learn.model.eval()\n",
    "preds, ys = [], []\n",
    "for x, y in tqdm_notebook(test_dl):\n",
    "    preds.append(np.argmax(learn.model(x)[0].cpu().data.numpy(), axis=1))\n",
    "    ys.append(y.cpu().numpy())"
   ]
  },
  {
   "cell_type": "code",
   "execution_count": 81,
   "metadata": {
    "hidden": true
   },
   "outputs": [
    {
     "data": {
      "text/plain": [
       "((176209,), (176209,))"
      ]
     },
     "execution_count": 81,
     "metadata": {},
     "output_type": "execute_result"
    }
   ],
   "source": [
    "preds = np.concatenate(preds)\n",
    "ys = np.concatenate(ys)\n",
    "preds.shape, ys.shape"
   ]
  },
  {
   "cell_type": "code",
   "execution_count": 82,
   "metadata": {
    "hidden": true
   },
   "outputs": [
    {
     "data": {
      "text/plain": [
       "0.6463461003694476"
      ]
     },
     "execution_count": 82,
     "metadata": {},
     "output_type": "execute_result"
    }
   ],
   "source": [
    "np.sum(ys==preds) / ys.shape[0]"
   ]
  },
  {
   "cell_type": "code",
   "execution_count": 83,
   "metadata": {
    "hidden": true
   },
   "outputs": [
    {
     "name": "stdout",
     "output_type": "stream",
     "text": [
      "Confusion matrix, without normalization\n",
      "[[20103  9456  5243]\n",
      " [ 8442 29518 23415]\n",
      " [ 2908 12853 64271]]\n"
     ]
    },
    {
     "data": {
      "image/png": "[encoded data removed]",
      "text/plain": [
       "<Figure size 432x288 with 2 Axes>"
      ]
     },
     "metadata": {},
     "output_type": "display_data"
    }
   ],
   "source": [
    "cnf_matrix = confusion_matrix(ys, preds)\n",
    "np.set_printoptions(precision=2)\n",
    "\n",
    "# Plot non-normalized confusion matrix\n",
    "plt.figure()\n",
    "plot_confusion_matrix(\n",
    "    cnf_matrix, classes=[0, 1, 2],\n",
    "    title='Confusion matrix, without normalization')"
   ]
  },
  {
   "cell_type": "code",
   "execution_count": 84,
   "metadata": {
    "hidden": true
   },
   "outputs": [
    {
     "name": "stdout",
     "output_type": "stream",
     "text": [
      "Normalized confusion matrix\n",
      "[[0.58 0.27 0.15]\n",
      " [0.14 0.48 0.38]\n",
      " [0.04 0.16 0.8 ]]\n"
     ]
    },
    {
     "data": {
      "image/png": "[encoded data removed]",
      "text/plain": [
       "<Figure size 432x288 with 2 Axes>"
      ]
     },
     "metadata": {},
     "output_type": "display_data"
    }
   ],
   "source": [
    "plot_confusion_matrix(\n",
    "    cnf_matrix, classes=[0, 1, 2], normalize=True,\n",
    "    title='Confusion matrix, without normalization')"
   ]
  },
  {
   "cell_type": "code",
   "execution_count": 85,
   "metadata": {
    "hidden": true
   },
   "outputs": [
    {
     "name": "stdout",
     "output_type": "stream",
     "text": [
      "Class 0: P 64%, R 58%, FS 0.61, Support: 34802\n",
      "Class 1: P 57%, R 48%, FS 0.52, Support: 61375\n",
      "Class 2: P 69%, R 80%, FS 0.74, Support: 80032\n"
     ]
    }
   ],
   "source": [
    "from sklearn.metrics import precision_recall_fscore_support\n",
    "precision, recall, fscore, support = precision_recall_fscore_support(ys, preds)\n",
    "for i in range(3):\n",
    "    print(f\"Class {i}: P {precision[i]*100:.0f}%, R {recall[i]*100:.0f}%, FS {fscore[i]:.2f}, Support: {support[i]}\")"
   ]
  },
  {
   "cell_type": "markdown",
   "metadata": {},
   "source": [
    "### Smaller Dataset "
   ]
  },
  {
   "cell_type": "code",
   "execution_count": 86,
   "metadata": {},
   "outputs": [],
   "source": [
    "df_train.reset_index(drop=True, inplace=True)\n",
    "df_val.reset_index(drop=True, inplace=True)"
   ]
  },
  {
   "cell_type": "code",
   "execution_count": 87,
   "metadata": {},
   "outputs": [],
   "source": [
    "df_train_small = pd.concat([\n",
    "    df_train[df_train.label==0].sample(15000),\n",
    "    df_train[df_train.label==1].sample(15000),\n",
    "    df_train[df_train.label==2].sample(15000)\n",
    "], axis=0)\n",
    "df_val_small = pd.concat([\n",
    "    df_val[df_val.label==0].sample(5000),\n",
    "    df_val[df_val.label==1].sample(5000),\n",
    "    df_val[df_val.label==2].sample(5000)\n",
    "], axis=0)"
   ]
  },
  {
   "cell_type": "code",
   "execution_count": 88,
   "metadata": {},
   "outputs": [
    {
     "data": {
      "text/plain": [
       "array([172194, 370706,  16474, ...,    999, 118848, 302932])"
      ]
     },
     "execution_count": 88,
     "metadata": {},
     "output_type": "execute_result"
    }
   ],
   "source": [
    "np.array(df_train_small.index)"
   ]
  },
  {
   "cell_type": "code",
   "execution_count": 89,
   "metadata": {},
   "outputs": [],
   "source": [
    "bs = 64\n",
    "tokens_train_small = np.array(tokens_train)[np.array(df_train_small.index)]\n",
    "tokens_val_small = np.array(tokens_val)[np.array(df_val_small.index)]\n",
    "trn_ds = TextDataset(tokens_train_small, df_train_small.label.values)\n",
    "val_ds = TextDataset(tokens_val_small, df_val_small.label.values)\n",
    "trn_samp = SortishSampler(tokens_train_small, key=lambda x: len(tokens_train_small[x]), bs=bs//2)\n",
    "val_samp = SortSampler(tokens_val_small, key=lambda x: len(tokens_val_small[x]))\n",
    "trn_dl = DataLoader(trn_ds, bs//2, transpose=True, num_workers=1, pad_idx=0, sampler=trn_samp)\n",
    "val_dl = DataLoader(val_ds, bs, transpose=True, num_workers=1, pad_idx=0, sampler=val_samp)\n",
    "model_data = ModelData(path, trn_dl, val_dl)"
   ]
  },
  {
   "cell_type": "code",
   "execution_count": 90,
   "metadata": {},
   "outputs": [],
   "source": [
    "dps = np.array([0.4,0.5,0.05,0.3,0.4])\n",
    "opt_fn = partial(torch.optim.Adam, betas=(0.7, 0.99))\n",
    "bptt = 50"
   ]
  },
  {
   "cell_type": "code",
   "execution_count": 91,
   "metadata": {},
   "outputs": [],
   "source": [
    "model = get_rnn_classifier(bptt, bptt*2, 3, n_toks, emb_sz=EMB_DIM, n_hid=500, n_layers=3, pad_token=0,\n",
    "          layers=[EMB_DIM*3, 50, 3], drops=[dps[4], 0.1],\n",
    "          dropouti=dps[0], wdrop=dps[1], dropoute=dps[2], dropouth=dps[3])"
   ]
  },
  {
   "cell_type": "code",
   "execution_count": 92,
   "metadata": {},
   "outputs": [],
   "source": [
    "learn = RNN_Learner(model_data, TextModel(to_gpu(model)), opt_fn=opt_fn)\n",
    "learn.reg_fn = partial(seq2seq_reg, alpha=2, beta=1)\n",
    "learn.clip=25.\n",
    "learn.metrics = [accuracy]\n",
    "learn.load_encoder('lm1_enc')"
   ]
  },
  {
   "cell_type": "code",
   "execution_count": 93,
   "metadata": {},
   "outputs": [
    {
     "data": {
      "application/vnd.jupyter.widget-view+json": {
       "model_id": "0b4eff7ce76848ea8b7ac679c771dda1",
       "version_major": 2,
       "version_minor": 0
      },
      "text/plain": [
       "HBox(children=(IntProgress(value=0, description='Epoch', max=1), HTML(value='')))"
      ]
     },
     "metadata": {},
     "output_type": "display_data"
    },
    {
     "name": "stdout",
     "output_type": "stream",
     "text": [
      " 82%|████████▏ | 1153/1407 [00:14<00:03, 82.20it/s, loss=3.86]"
     ]
    },
    {
     "data": {
      "image/png": "[encoded data removed]",
      "text/plain": [
       "<Figure size 432x288 with 1 Axes>"
      ]
     },
     "metadata": {},
     "output_type": "display_data"
    }
   ],
   "source": [
    "learn.freeze_to(-1)\n",
    "learn.lr_find(lrs/100)\n",
    "learn.sched.plot()"
   ]
  },
  {
   "cell_type": "code",
   "execution_count": 94,
   "metadata": {},
   "outputs": [
    {
     "data": {
      "application/vnd.jupyter.widget-view+json": {
       "model_id": "bf2b31c9628342afbbabfeef4e9673ed",
       "version_major": 2,
       "version_minor": 0
      },
      "text/plain": [
       "HBox(children=(IntProgress(value=0, description='Epoch', max=1), HTML(value='')))"
      ]
     },
     "metadata": {},
     "output_type": "display_data"
    },
    {
     "name": "stdout",
     "output_type": "stream",
     "text": [
      "epoch      trn_loss   val_loss   accuracy                      \n",
      "    0      1.008255   0.911152   0.560067  \n"
     ]
    },
    {
     "data": {
      "text/plain": [
       "[0.9111515250841776, 0.560066666730245]"
      ]
     },
     "execution_count": 94,
     "metadata": {},
     "output_type": "execute_result"
    }
   ],
   "source": [
    "lr=1e-3\n",
    "lrm = 2.6\n",
    "lrs = np.array([lr/(lrm**4), lr/(lrm**3), lr/(lrm**2), lr/lrm, lr])\n",
    "learn.fit(lrs, 1, wds=0, cycle_len=1, use_clr=(8,3))"
   ]
  },
  {
   "cell_type": "code",
   "execution_count": 95,
   "metadata": {},
   "outputs": [
    {
     "data": {
      "application/vnd.jupyter.widget-view+json": {
       "model_id": "d1b8b2f1606241a9a77a8c950d28a20b",
       "version_major": 2,
       "version_minor": 0
      },
      "text/plain": [
       "HBox(children=(IntProgress(value=0, description='Epoch', max=1), HTML(value='')))"
      ]
     },
     "metadata": {},
     "output_type": "display_data"
    },
    {
     "name": "stdout",
     "output_type": "stream",
     "text": [
      "epoch      trn_loss   val_loss   accuracy                      \n",
      "    0      0.981435   0.904076   0.563     \n"
     ]
    },
    {
     "data": {
      "text/plain": [
       "[0.9040763699531555, 0.5630000000317892]"
      ]
     },
     "execution_count": 95,
     "metadata": {},
     "output_type": "execute_result"
    }
   ],
   "source": [
    "learn.freeze_to(-2)\n",
    "learn.fit(lrs, 1, wds=0, cycle_len=1, use_clr=(8,3))"
   ]
  },
  {
   "cell_type": "code",
   "execution_count": 96,
   "metadata": {},
   "outputs": [
    {
     "data": {
      "application/vnd.jupyter.widget-view+json": {
       "model_id": "e105cc82049c4221aaa422f8a810a55c",
       "version_major": 2,
       "version_minor": 0
      },
      "text/plain": [
       "HBox(children=(IntProgress(value=0, description='Epoch', max=14), HTML(value='')))"
      ]
     },
     "metadata": {},
     "output_type": "display_data"
    },
    {
     "name": "stdout",
     "output_type": "stream",
     "text": [
      "epoch      trn_loss   val_loss   accuracy                      \n",
      "    0      0.986445   0.897079   0.568     \n",
      "    1      0.969528   0.883052   0.578333                      \n",
      "    2      0.963595   0.869589   0.584867                      \n",
      "    3      0.937584   0.865238   0.586733                      \n",
      "    4      0.935019   0.864455   0.589533                      \n",
      "    5      0.926273   0.860759   0.5912                        \n",
      "    6      0.923473   0.859153   0.5922                        \n",
      "    7      0.903564   0.855341   0.593867                      \n",
      "    8      0.925118   0.850956   0.600333                      \n",
      "    9      0.906861   0.853416   0.596667                      \n",
      "    10     0.902489   0.854341   0.5964                        \n",
      "    11     0.886815   0.849023   0.599933                      \n",
      "    12     0.893847   0.849745   0.5966                        \n",
      "    13     0.899159   0.847769   0.6014                        \n"
     ]
    },
    {
     "data": {
      "text/plain": [
       "[0.847769185034434, 0.6014000000635783]"
      ]
     },
     "execution_count": 96,
     "metadata": {},
     "output_type": "execute_result"
    }
   ],
   "source": [
    "learn.unfreeze()\n",
    "learn.fit(lrs, 1, wds=0, cycle_len=14, use_clr=(32,10))"
   ]
  },
  {
   "cell_type": "code",
   "execution_count": 97,
   "metadata": {},
   "outputs": [],
   "source": [
    "learn.save(\"clas_small_full\")"
   ]
  },
  {
   "cell_type": "code",
   "execution_count": 98,
   "metadata": {},
   "outputs": [],
   "source": [
    "learn.model.eval()\n",
    "preds, ys = [], []\n",
    "for x, y in val_dl:\n",
    "    preds.append(np.argmax(learn.model(x)[0].cpu().data.numpy(), axis=1))\n",
    "    ys.append(y.cpu().numpy())"
   ]
  },
  {
   "cell_type": "code",
   "execution_count": 99,
   "metadata": {},
   "outputs": [
    {
     "data": {
      "text/plain": [
       "((15000,), (15000,))"
      ]
     },
     "execution_count": 99,
     "metadata": {},
     "output_type": "execute_result"
    }
   ],
   "source": [
    "preds = np.concatenate(preds)\n",
    "ys = np.concatenate(ys)\n",
    "preds.shape, ys.shape"
   ]
  },
  {
   "cell_type": "code",
   "execution_count": 100,
   "metadata": {},
   "outputs": [
    {
     "name": "stdout",
     "output_type": "stream",
     "text": [
      "Normalized confusion matrix\n",
      "[[0.68 0.19 0.13]\n",
      " [0.24 0.41 0.35]\n",
      " [0.1  0.19 0.72]]\n"
     ]
    },
    {
     "data": {
      "image/png": "[encoded data removed]",
      "text/plain": [
       "<Figure size 432x288 with 2 Axes>"
      ]
     },
     "metadata": {},
     "output_type": "display_data"
    }
   ],
   "source": [
    "cnf_matrix = confusion_matrix(ys, preds)\n",
    "np.set_printoptions(precision=2)\n",
    "plot_confusion_matrix(\n",
    "    cnf_matrix, classes=[0, 1, 2], normalize=True,\n",
    "    title='Confusion matrix, without normalization')"
   ]
  },
  {
   "cell_type": "code",
   "execution_count": 101,
   "metadata": {},
   "outputs": [],
   "source": [
    "test_ds = TextDataset(tokens_test, df_test.label.values)\n",
    "test_samp = SortSampler(tokens_test, key=lambda x: len(tokens_test[x]))\n",
    "test_dl = DataLoader(test_ds, bs, transpose=True, num_workers=1, pad_idx=0, sampler=test_samp)"
   ]
  },
  {
   "cell_type": "code",
   "execution_count": 102,
   "metadata": {},
   "outputs": [
    {
     "data": {
      "application/vnd.jupyter.widget-view+json": {
       "model_id": "496b24d1e62e4576aee26df6dbd0861a",
       "version_major": 2,
       "version_minor": 0
      },
      "text/plain": [
       "HBox(children=(IntProgress(value=0, max=2754), HTML(value='')))"
      ]
     },
     "metadata": {},
     "output_type": "display_data"
    }
   ],
   "source": [
    "learn.model.eval()\n",
    "preds, ys = [], []\n",
    "for x, y in tqdm_notebook(test_dl):\n",
    "    preds.append(np.argmax(learn.model(x)[0].cpu().data.numpy(), axis=1))\n",
    "    ys.append(y.cpu().numpy())"
   ]
  },
  {
   "cell_type": "code",
   "execution_count": 103,
   "metadata": {},
   "outputs": [
    {
     "data": {
      "text/plain": [
       "((176209,), (176209,))"
      ]
     },
     "execution_count": 103,
     "metadata": {},
     "output_type": "execute_result"
    }
   ],
   "source": [
    "preds = np.concatenate(preds)\n",
    "ys = np.concatenate(ys)\n",
    "preds.shape, ys.shape"
   ]
  },
  {
   "cell_type": "code",
   "execution_count": 104,
   "metadata": {},
   "outputs": [
    {
     "data": {
      "text/plain": [
       "0.6006730643724214"
      ]
     },
     "execution_count": 104,
     "metadata": {},
     "output_type": "execute_result"
    }
   ],
   "source": [
    "np.sum(preds==ys) / preds.shape[0]"
   ]
  },
  {
   "cell_type": "code",
   "execution_count": 105,
   "metadata": {},
   "outputs": [
    {
     "name": "stdout",
     "output_type": "stream",
     "text": [
      "Normalized confusion matrix\n",
      "[[0.67 0.19 0.13]\n",
      " [0.25 0.4  0.35]\n",
      " [0.1  0.18 0.72]]\n"
     ]
    },
    {
     "data": {
      "image/png": "[encoded data removed]",
      "text/plain": [
       "<Figure size 432x288 with 2 Axes>"
      ]
     },
     "metadata": {},
     "output_type": "display_data"
    }
   ],
   "source": [
    "cnf_matrix = confusion_matrix(ys, preds)\n",
    "np.set_printoptions(precision=2)\n",
    "plot_confusion_matrix(\n",
    "    cnf_matrix, classes=[0, 1, 2], normalize=True,\n",
    "    title='Confusion matrix, without normalization')"
   ]
  },
  {
   "cell_type": "code",
   "execution_count": 106,
   "metadata": {},
   "outputs": [
    {
     "name": "stdout",
     "output_type": "stream",
     "text": [
      "Class 0: P 50%, R 67%, FS 0.58, Support: 34802\n",
      "Class 1: P 54%, R 40%, FS 0.46, Support: 61375\n",
      "Class 2: P 69%, R 72%, FS 0.71, Support: 80032\n"
     ]
    }
   ],
   "source": [
    "precision, recall, fscore, support = precision_recall_fscore_support(ys, preds)\n",
    "for i in range(3):\n",
    "    print(f\"Class {i}: P {precision[i]*100:.0f}%, R {recall[i]*100:.0f}%, FS {fscore[i]:.2f}, Support: {support[i]}\")"
   ]
  },
  {
   "cell_type": "markdown",
   "metadata": {},
   "source": [
    "## Regressor"
   ]
  },
  {
   "cell_type": "code",
   "execution_count": 107,
   "metadata": {},
   "outputs": [],
   "source": [
    "bs = 64\n",
    "trn_ds = TextDataset(tokens_train, df_train.rating.values.astype(\"float32\"))\n",
    "val_ds = TextDataset(tokens_val, df_val.rating.values.astype(\"float32\"))\n",
    "trn_samp = SortishSampler(tokens_train, key=lambda x: len(tokens_train[x]), bs=bs//2)\n",
    "val_samp = SortSampler(tokens_val, key=lambda x: len(tokens_val[x]))\n",
    "trn_dl = DataLoader(trn_ds, bs//2, transpose=True, num_workers=1, pad_idx=0, sampler=trn_samp)\n",
    "val_dl = DataLoader(val_ds, bs, transpose=True, num_workers=1, pad_idx=0, sampler=val_samp)\n",
    "model_data = ModelData(path, trn_dl, val_dl)"
   ]
  },
  {
   "cell_type": "code",
   "execution_count": 108,
   "metadata": {},
   "outputs": [],
   "source": [
    "dps = np.array([0.4,0.5,0.05,0.3,0.4]) * 0.5\n",
    "opt_fn = partial(torch.optim.Adam, betas=(0.7, 0.99))\n",
    "bptt = 50"
   ]
  },
  {
   "cell_type": "code",
   "execution_count": 109,
   "metadata": {},
   "outputs": [],
   "source": [
    "model = get_rnn_classifier(bptt, bptt*2, 3, n_toks, emb_sz=EMB_DIM, n_hid=500, n_layers=3, pad_token=0,\n",
    "          layers=[EMB_DIM*3, 50, 1], drops=[dps[4], 0.1],\n",
    "          dropouti=dps[0], wdrop=dps[1], dropoute=dps[2], dropouth=dps[3])"
   ]
  },
  {
   "cell_type": "code",
   "execution_count": 110,
   "metadata": {},
   "outputs": [],
   "source": [
    "class RNN_RegLearner(RNN_Learner):\n",
    "    def __init__(self, data, models, **kwargs):\n",
    "        super().__init__(data, models, **kwargs)\n",
    "\n",
    "    def _get_crit(self, data): return lambda x, y: F.mse_loss(x[:, 0], y)"
   ]
  },
  {
   "cell_type": "code",
   "execution_count": 111,
   "metadata": {},
   "outputs": [],
   "source": [
    "learn = RNN_RegLearner(model_data, TextModel(to_gpu(model)), opt_fn=opt_fn)\n",
    "learn.reg_fn = partial(seq2seq_reg, alpha=2, beta=1)\n",
    "learn.clip=25.\n",
    "learn.metrics = []\n",
    "learn.load_encoder('lm1_enc')"
   ]
  },
  {
   "cell_type": "code",
   "execution_count": 112,
   "metadata": {},
   "outputs": [],
   "source": [
    "lr=2e-4\n",
    "lrm = 2.6\n",
    "lrs = np.array([lr/(lrm**4), lr/(lrm**3), lr/(lrm**2), lr/lrm, lr])"
   ]
  },
  {
   "cell_type": "code",
   "execution_count": 113,
   "metadata": {},
   "outputs": [
    {
     "data": {
      "application/vnd.jupyter.widget-view+json": {
       "model_id": "c737e5405d474e1c9cd6adf63c75f3cb",
       "version_major": 2,
       "version_minor": 0
      },
      "text/plain": [
       "HBox(children=(IntProgress(value=0, description='Epoch', max=1), HTML(value='')))"
      ]
     },
     "metadata": {},
     "output_type": "display_data"
    },
    {
     "name": "stdout",
     "output_type": "stream",
     "text": [
      " 80%|███████▉  | 13165/16520 [02:44<00:41, 80.05it/s, loss=3.58] "
     ]
    },
    {
     "data": {
      "image/png": "[encoded data removed]",
      "text/plain": [
       "<Figure size 432x288 with 1 Axes>"
      ]
     },
     "metadata": {},
     "output_type": "display_data"
    }
   ],
   "source": [
    "learn.freeze_to(-1)\n",
    "learn.lr_find(lrs/1000)\n",
    "learn.sched.plot()"
   ]
  },
  {
   "cell_type": "code",
   "execution_count": 114,
   "metadata": {},
   "outputs": [
    {
     "data": {
      "application/vnd.jupyter.widget-view+json": {
       "model_id": "7cd079fda4734d55ab64b83ee9315d7a",
       "version_major": 2,
       "version_minor": 0
      },
      "text/plain": [
       "HBox(children=(IntProgress(value=0, description='Epoch', max=1), HTML(value='')))"
      ]
     },
     "metadata": {},
     "output_type": "display_data"
    },
    {
     "name": "stdout",
     "output_type": "stream",
     "text": [
      "epoch      trn_loss   val_loss                                    \n",
      "    0      0.906491   0.806622  \n"
     ]
    }
   ],
   "source": [
    "learn.fit(lrs, 1, wds=0, cycle_len=1, use_clr=(8,3))\n",
    "learn.save('reg_0')"
   ]
  },
  {
   "cell_type": "code",
   "execution_count": 115,
   "metadata": {},
   "outputs": [
    {
     "data": {
      "application/vnd.jupyter.widget-view+json": {
       "model_id": "bc7d2379e21c4dda98286fb4f1866b27",
       "version_major": 2,
       "version_minor": 0
      },
      "text/plain": [
       "HBox(children=(IntProgress(value=0, description='Epoch', max=1), HTML(value='')))"
      ]
     },
     "metadata": {},
     "output_type": "display_data"
    },
    {
     "name": "stdout",
     "output_type": "stream",
     "text": [
      "epoch      trn_loss   val_loss                                   \n",
      "    0      0.85863    0.78094   \n"
     ]
    }
   ],
   "source": [
    "learn.freeze_to(-2)\n",
    "learn.fit(lrs, 1, wds=0, cycle_len=1, use_clr=(8,3))\n",
    "learn.save('reg_1')"
   ]
  },
  {
   "cell_type": "code",
   "execution_count": 116,
   "metadata": {
    "scrolled": true
   },
   "outputs": [
    {
     "data": {
      "application/vnd.jupyter.widget-view+json": {
       "model_id": "40385c43ef054c4eb529747bd0dd1531",
       "version_major": 2,
       "version_minor": 0
      },
      "text/plain": [
       "HBox(children=(IntProgress(value=0, description='Epoch', max=14), HTML(value='')))"
      ]
     },
     "metadata": {},
     "output_type": "display_data"
    },
    {
     "name": "stdout",
     "output_type": "stream",
     "text": [
      "epoch      trn_loss   val_loss                                   \n",
      "    0      0.840117   0.766736  \n",
      "    1      0.818093   0.726338                                   \n",
      "    2      0.806031   0.709372                                   \n",
      "    3      0.775895   0.69642                                    \n",
      "    4      0.756379   0.689876                                   \n",
      "    5      0.746213   0.680605                                   \n",
      "    6      0.740827   0.677815                                   \n",
      "    7      0.753874   0.677036                                   \n",
      "    8      0.773144   0.675859                                   \n",
      "    9      0.750596   0.670305                                   \n",
      "    10     0.71643    0.671012                                   \n",
      "    11     0.743645   0.671412                                   \n",
      "    12     0.754897   0.669753                                   \n",
      "    13     0.716792   0.667246                                   \n"
     ]
    }
   ],
   "source": [
    "learn.unfreeze()\n",
    "learn.fit(lrs, 1, wds=0, cycle_len=14, use_clr=(32,10))\n",
    "learn.save('reg_full')"
   ]
  },
  {
   "cell_type": "code",
   "execution_count": 119,
   "metadata": {},
   "outputs": [],
   "source": [
    "# Export Model\n",
    "torch.save(learn.model, path / \"sentiment_model.pth\")"
   ]
  },
  {
   "cell_type": "code",
   "execution_count": 120,
   "metadata": {},
   "outputs": [],
   "source": [
    "learn.load('reg_full')"
   ]
  },
  {
   "cell_type": "markdown",
   "metadata": {},
   "source": [
    "### Evaluation"
   ]
  },
  {
   "cell_type": "code",
   "execution_count": 121,
   "metadata": {},
   "outputs": [],
   "source": [
    "test_ds = TextDataset(tokens_test, df_test.rating.values)\n",
    "test_samp = SortSampler(tokens_test, key=lambda x: len(tokens_test[x]))\n",
    "test_dl = DataLoader(test_ds, bs, transpose=True, num_workers=1, pad_idx=0, sampler=test_samp)"
   ]
  },
  {
   "cell_type": "code",
   "execution_count": 122,
   "metadata": {},
   "outputs": [
    {
     "data": {
      "application/vnd.jupyter.widget-view+json": {
       "model_id": "03e2cf3125544927b79f50452741e469",
       "version_major": 2,
       "version_minor": 0
      },
      "text/plain": [
       "HBox(children=(IntProgress(value=0, max=2754), HTML(value='')))"
      ]
     },
     "metadata": {},
     "output_type": "display_data"
    },
    {
     "data": {
      "text/plain": [
       "((176208,), (176208,))"
      ]
     },
     "execution_count": 122,
     "metadata": {},
     "output_type": "execute_result"
    }
   ],
   "source": [
    "def get_preds(data_loader):\n",
    "    learn.model.eval()\n",
    "    learn.model.reset()         \n",
    "    preds, ys = [], []\n",
    "    for x, y in tqdm_notebook(data_loader):   \n",
    "        preds.append(learn.model(x)[0].cpu().data.numpy()[:, 0])\n",
    "        ys.append(y.cpu().numpy())\n",
    "    preds = np.concatenate(preds)\n",
    "    ys = np.concatenate(ys)\n",
    "    return ys, preds\n",
    "ys, preds = get_preds(val_dl)\n",
    "preds.shape, ys.shape"
   ]
  },
  {
   "cell_type": "code",
   "execution_count": 123,
   "metadata": {
    "scrolled": true
   },
   "outputs": [
    {
     "data": {
      "text/plain": [
       "count    176208.000000\n",
       "mean          3.335331\n",
       "std           1.080536\n",
       "min           1.000000\n",
       "25%           3.000000\n",
       "50%           3.000000\n",
       "75%           4.000000\n",
       "max           5.000000\n",
       "dtype: float64"
      ]
     },
     "execution_count": 123,
     "metadata": {},
     "output_type": "execute_result"
    }
   ],
   "source": [
    "pd.Series(ys).describe()"
   ]
  },
  {
   "cell_type": "code",
   "execution_count": 124,
   "metadata": {},
   "outputs": [
    {
     "data": {
      "text/plain": [
       "count    176208.000000\n",
       "mean          3.335331\n",
       "std           1.080536\n",
       "min           1.000000\n",
       "25%           3.000000\n",
       "50%           3.000000\n",
       "75%           4.000000\n",
       "max           5.000000\n",
       "dtype: float64"
      ]
     },
     "execution_count": 124,
     "metadata": {},
     "output_type": "execute_result"
    }
   ],
   "source": [
    "pd.Series(ys).describe()"
   ]
  },
  {
   "cell_type": "code",
   "execution_count": 125,
   "metadata": {},
   "outputs": [
    {
     "data": {
      "text/plain": [
       "0.6672458383699945"
      ]
     },
     "execution_count": 125,
     "metadata": {},
     "output_type": "execute_result"
    }
   ],
   "source": [
    "np.sum(np.square(preds - ys)) / preds.shape[0]"
   ]
  },
  {
   "cell_type": "code",
   "execution_count": 126,
   "metadata": {},
   "outputs": [
    {
     "data": {
      "text/plain": [
       "0.6645135826693453"
      ]
     },
     "execution_count": 126,
     "metadata": {},
     "output_type": "execute_result"
    }
   ],
   "source": [
    "preds = np.clip(preds, 1, 5)\n",
    "np.sum(np.square(preds - ys)) / preds.shape[0]"
   ]
  },
  {
   "cell_type": "code",
   "execution_count": 127,
   "metadata": {},
   "outputs": [
    {
     "data": {
      "text/html": [
       "<div>\n",
       "<style scoped>\n",
       "    .dataframe tbody tr th:only-of-type {\n",
       "        vertical-align: middle;\n",
       "    }\n",
       "\n",
       "    .dataframe tbody tr th {\n",
       "        vertical-align: top;\n",
       "    }\n",
       "\n",
       "    .dataframe thead th {\n",
       "        text-align: right;\n",
       "    }\n",
       "</style>\n",
       "<table border=\"1\" class=\"dataframe\">\n",
       "  <thead>\n",
       "    <tr style=\"text-align: right;\">\n",
       "      <th></th>\n",
       "      <th>comment</th>\n",
       "      <th>rating</th>\n",
       "      <th>label</th>\n",
       "      <th>preds</th>\n",
       "    </tr>\n",
       "  </thead>\n",
       "  <tbody>\n",
       "    <tr>\n",
       "      <th>0</th>\n",
       "      <td>男 主角 像 卡卡</td>\n",
       "      <td>2</td>\n",
       "      <td>0</td>\n",
       "      <td>3.259298</td>\n",
       "    </tr>\n",
       "    <tr>\n",
       "      <th>1</th>\n",
       "      <td>经典 改编 ， 还是 忠于 原著 的 ， 一路 都 很 稳 。</td>\n",
       "      <td>4</td>\n",
       "      <td>2</td>\n",
       "      <td>3.962335</td>\n",
       "    </tr>\n",
       "    <tr>\n",
       "      <th>2</th>\n",
       "      <td>叙事 ： 时间 空间 的 有机 结合</td>\n",
       "      <td>5</td>\n",
       "      <td>2</td>\n",
       "      <td>3.984771</td>\n",
       "    </tr>\n",
       "    <tr>\n",
       "      <th>3</th>\n",
       "      <td>看 街头 小 混混 打 外星人 挺 热闹 的 ， 可是 前 一 秒 还 在 抢劫 的 少年犯...</td>\n",
       "      <td>2</td>\n",
       "      <td>0</td>\n",
       "      <td>2.617926</td>\n",
       "    </tr>\n",
       "    <tr>\n",
       "      <th>4</th>\n",
       "      <td>这 电影 也 就 一般</td>\n",
       "      <td>3</td>\n",
       "      <td>1</td>\n",
       "      <td>2.664217</td>\n",
       "    </tr>\n",
       "  </tbody>\n",
       "</table>\n",
       "</div>"
      ],
      "text/plain": [
       "                                             comment  rating  label     preds\n",
       "0                                          男 主角 像 卡卡       2      0  3.259298\n",
       "1                    经典 改编 ， 还是 忠于 原著 的 ， 一路 都 很 稳 。       4      2  3.962335\n",
       "2                                 叙事 ： 时间 空间 的 有机 结合       5      2  3.984771\n",
       "3  看 街头 小 混混 打 外星人 挺 热闹 的 ， 可是 前 一 秒 还 在 抢劫 的 少年犯...       2      0  2.617926\n",
       "4                                        这 电影 也 就 一般       3      1  2.664217"
      ]
     },
     "execution_count": 127,
     "metadata": {},
     "output_type": "execute_result"
    }
   ],
   "source": [
    "# Save predictions\n",
    "df_val.loc[df_val.iloc[list(iter(val_samp))].index, \"preds\"] = preds\n",
    "df_val.to_csv(path / \"df_val.csv.gz\", index=False, compression=\"gzip\")\n",
    "df_val.head()"
   ]
  },
  {
   "cell_type": "code",
   "execution_count": 128,
   "metadata": {},
   "outputs": [
    {
     "data": {
      "text/plain": [
       "0.6645136139748985"
      ]
     },
     "execution_count": 128,
     "metadata": {},
     "output_type": "execute_result"
    }
   ],
   "source": [
    "np.sum(np.square(df_val.rating.values - df_val.preds.values)) / preds.shape[0]"
   ]
  },
  {
   "cell_type": "code",
   "execution_count": 129,
   "metadata": {},
   "outputs": [
    {
     "data": {
      "application/vnd.jupyter.widget-view+json": {
       "model_id": "70170ffad44a4671ae0929093eaaef6c",
       "version_major": 2,
       "version_minor": 0
      },
      "text/plain": [
       "HBox(children=(IntProgress(value=0, max=2754), HTML(value='')))"
      ]
     },
     "metadata": {},
     "output_type": "display_data"
    },
    {
     "data": {
      "text/plain": [
       "((176209,), (176209,))"
      ]
     },
     "execution_count": 129,
     "metadata": {},
     "output_type": "execute_result"
    }
   ],
   "source": [
    "ys, preds = get_preds(test_dl)\n",
    "preds.shape, ys.shape"
   ]
  },
  {
   "cell_type": "code",
   "execution_count": 130,
   "metadata": {},
   "outputs": [
    {
     "data": {
      "text/plain": [
       "0.6696406409027693"
      ]
     },
     "execution_count": 130,
     "metadata": {},
     "output_type": "execute_result"
    }
   ],
   "source": [
    "preds = np.clip(preds, 1, 5)\n",
    "np.sum(np.square(preds - ys)) / preds.shape[0]"
   ]
  },
  {
   "cell_type": "code",
   "execution_count": 131,
   "metadata": {},
   "outputs": [
    {
     "data": {
      "text/html": [
       "<div>\n",
       "<style scoped>\n",
       "    .dataframe tbody tr th:only-of-type {\n",
       "        vertical-align: middle;\n",
       "    }\n",
       "\n",
       "    .dataframe tbody tr th {\n",
       "        vertical-align: top;\n",
       "    }\n",
       "\n",
       "    .dataframe thead th {\n",
       "        text-align: right;\n",
       "    }\n",
       "</style>\n",
       "<table border=\"1\" class=\"dataframe\">\n",
       "  <thead>\n",
       "    <tr style=\"text-align: right;\">\n",
       "      <th></th>\n",
       "      <th>comment</th>\n",
       "      <th>rating</th>\n",
       "      <th>label</th>\n",
       "      <th>preds</th>\n",
       "    </tr>\n",
       "  </thead>\n",
       "  <tbody>\n",
       "    <tr>\n",
       "      <th>258461</th>\n",
       "      <td>无话可说 .</td>\n",
       "      <td>3</td>\n",
       "      <td>1</td>\n",
       "      <td>2.793769</td>\n",
       "    </tr>\n",
       "    <tr>\n",
       "      <th>118491</th>\n",
       "      <td>老师 你 太 可爱</td>\n",
       "      <td>5</td>\n",
       "      <td>2</td>\n",
       "      <td>3.972624</td>\n",
       "    </tr>\n",
       "    <tr>\n",
       "      <th>44768</th>\n",
       "      <td>说 了 好多 话 ， 可惜 都 是 陈词滥调 、 无 凭 无据 。</td>\n",
       "      <td>2</td>\n",
       "      <td>0</td>\n",
       "      <td>2.899381</td>\n",
       "    </tr>\n",
       "    <tr>\n",
       "      <th>34630</th>\n",
       "      <td>普巴 家用 的 电脑 是 苹果 。</td>\n",
       "      <td>3</td>\n",
       "      <td>1</td>\n",
       "      <td>3.418046</td>\n",
       "    </tr>\n",
       "    <tr>\n",
       "      <th>382761</th>\n",
       "      <td>这 才 是 一 部 看 完 之后 观众 讲 不 清道 不 明 的 电影 ， 主线 不 明了 ...</td>\n",
       "      <td>4</td>\n",
       "      <td>2</td>\n",
       "      <td>3.353409</td>\n",
       "    </tr>\n",
       "  </tbody>\n",
       "</table>\n",
       "</div>"
      ],
      "text/plain": [
       "                                                  comment  rating  label  \\\n",
       "258461                                             无话可说 .       3      1   \n",
       "118491                                          老师 你 太 可爱       5      2   \n",
       "44768                   说 了 好多 话 ， 可惜 都 是 陈词滥调 、 无 凭 无据 。       2      0   \n",
       "34630                                   普巴 家用 的 电脑 是 苹果 。       3      1   \n",
       "382761  这 才 是 一 部 看 完 之后 观众 讲 不 清道 不 明 的 电影 ， 主线 不 明了 ...       4      2   \n",
       "\n",
       "           preds  \n",
       "258461  2.793769  \n",
       "118491  3.972624  \n",
       "44768   2.899381  \n",
       "34630   3.418046  \n",
       "382761  3.353409  "
      ]
     },
     "execution_count": 131,
     "metadata": {},
     "output_type": "execute_result"
    }
   ],
   "source": [
    "# Save predictions\n",
    "df_test.loc[df_test.iloc[list(iter(test_samp))].index, \"preds\"] = preds\n",
    "df_test.to_csv(path / \"df_test.csv.gz\", index=False, compression=\"gzip\")\n",
    "df_test.head()"
   ]
  },
  {
   "cell_type": "code",
   "execution_count": 132,
   "metadata": {},
   "outputs": [
    {
     "data": {
      "text/html": [
       "<div>\n",
       "<style scoped>\n",
       "    .dataframe tbody tr th:only-of-type {\n",
       "        vertical-align: middle;\n",
       "    }\n",
       "\n",
       "    .dataframe tbody tr th {\n",
       "        vertical-align: top;\n",
       "    }\n",
       "\n",
       "    .dataframe thead th {\n",
       "        text-align: right;\n",
       "    }\n",
       "</style>\n",
       "<table border=\"1\" class=\"dataframe\">\n",
       "  <thead>\n",
       "    <tr style=\"text-align: right;\">\n",
       "      <th></th>\n",
       "      <th>comment</th>\n",
       "      <th>rating</th>\n",
       "      <th>label</th>\n",
       "      <th>preds</th>\n",
       "    </tr>\n",
       "  </thead>\n",
       "  <tbody>\n",
       "    <tr>\n",
       "      <th>842390</th>\n",
       "      <td>初中 的 时候 看 了 一 堆 007 的 VCD 。</td>\n",
       "      <td>3</td>\n",
       "      <td>1</td>\n",
       "      <td>3.232347</td>\n",
       "    </tr>\n",
       "    <tr>\n",
       "      <th>627523</th>\n",
       "      <td>现在 还 记得 张铁林 扮演 的 怡 亲王 。 。 。</td>\n",
       "      <td>5</td>\n",
       "      <td>2</td>\n",
       "      <td>3.298126</td>\n",
       "    </tr>\n",
       "    <tr>\n",
       "      <th>624264</th>\n",
       "      <td>一般 般</td>\n",
       "      <td>3</td>\n",
       "      <td>1</td>\n",
       "      <td>2.779430</td>\n",
       "    </tr>\n",
       "    <tr>\n",
       "      <th>113664</th>\n",
       "      <td>我 的 天 Higgs 已经 是 两 年 多 之前 的 事情 了 ................</td>\n",
       "      <td>5</td>\n",
       "      <td>2</td>\n",
       "      <td>4.072724</td>\n",
       "    </tr>\n",
       "    <tr>\n",
       "      <th>159047</th>\n",
       "      <td>在 不 知道 是 俄语 字幕 还是 爪 哇语 字幕 的 干扰 下 ， 欢快 的 啃生 肉 啃...</td>\n",
       "      <td>4</td>\n",
       "      <td>2</td>\n",
       "      <td>1.821184</td>\n",
       "    </tr>\n",
       "    <tr>\n",
       "      <th>219821</th>\n",
       "      <td>切入点 选 得 好 ， 反 高潮 ， 去 戏剧化 ， 斯皮尔伯格 难得 这么 克制 ， 只是...</td>\n",
       "      <td>4</td>\n",
       "      <td>2</td>\n",
       "      <td>3.595191</td>\n",
       "    </tr>\n",
       "    <tr>\n",
       "      <th>667673</th>\n",
       "      <td>几 个 细节 ： 1. 嫌犯 被捕 时 被 通知不宣 读 个人 权利 ， 审问 时 没有 律...</td>\n",
       "      <td>4</td>\n",
       "      <td>2</td>\n",
       "      <td>3.452877</td>\n",
       "    </tr>\n",
       "    <tr>\n",
       "      <th>637800</th>\n",
       "      <td>灰暗 ， 低沉 。</td>\n",
       "      <td>3</td>\n",
       "      <td>1</td>\n",
       "      <td>3.352764</td>\n",
       "    </tr>\n",
       "    <tr>\n",
       "      <th>258851</th>\n",
       "      <td>2.5 吧 。 看 在 老屈 的 面子 四 舍 五 入 一下 。 实在 是 一 部 类似 疾...</td>\n",
       "      <td>3</td>\n",
       "      <td>1</td>\n",
       "      <td>2.796375</td>\n",
       "    </tr>\n",
       "    <tr>\n",
       "      <th>594371</th>\n",
       "      <td>没 看 过 ， 但是 我 看 过 一些 数典忘祖 的 美 狗 日杂 ， 所以 五星</td>\n",
       "      <td>5</td>\n",
       "      <td>2</td>\n",
       "      <td>5.000000</td>\n",
       "    </tr>\n",
       "    <tr>\n",
       "      <th>289037</th>\n",
       "      <td>该片 情节 紧凑 , 绝 无 冷场 , 教授 提出 的 理念 发人深思 , 在 当今 社会 ...</td>\n",
       "      <td>5</td>\n",
       "      <td>2</td>\n",
       "      <td>4.033984</td>\n",
       "    </tr>\n",
       "    <tr>\n",
       "      <th>9278</th>\n",
       "      <td>不 常 看 记录片 ， 但是 这 一 部 还 不错 。 P.S. 这些 模特 真 漂亮</td>\n",
       "      <td>4</td>\n",
       "      <td>2</td>\n",
       "      <td>3.934962</td>\n",
       "    </tr>\n",
       "    <tr>\n",
       "      <th>398362</th>\n",
       "      <td>生活 要是 变成 了 这样 才 让 人 无奈 , 不过 大片儿 却 总是 有 一个 好 的 ...</td>\n",
       "      <td>4</td>\n",
       "      <td>2</td>\n",
       "      <td>3.580623</td>\n",
       "    </tr>\n",
       "    <tr>\n",
       "      <th>100857</th>\n",
       "      <td>其实 也 可以 去 取材 青旅 的 人们 。 不过 ， 北海道 在 我 心里 总是 美 得 ...</td>\n",
       "      <td>4</td>\n",
       "      <td>2</td>\n",
       "      <td>3.954683</td>\n",
       "    </tr>\n",
       "    <tr>\n",
       "      <th>842974</th>\n",
       "      <td>引进 了 克隆 技术 ！ 充分 说明 了 克隆 人 的 不稳定性 ！ 说 真 的 ， 看 《...</td>\n",
       "      <td>3</td>\n",
       "      <td>1</td>\n",
       "      <td>4.181439</td>\n",
       "    </tr>\n",
       "    <tr>\n",
       "      <th>398025</th>\n",
       "      <td>不得不 夸赞 音乐 配 得 贴切 大气 ， 把 一 漏洞百出 的 白痴谍 战加 连环 杀手片...</td>\n",
       "      <td>2</td>\n",
       "      <td>0</td>\n",
       "      <td>2.898876</td>\n",
       "    </tr>\n",
       "    <tr>\n",
       "      <th>17881</th>\n",
       "      <td>挺无感 的 ， 不 是 很 对 胃口 ， 就 绿 皮 火车 上 唱戏 那段 比较 有意思 。...</td>\n",
       "      <td>3</td>\n",
       "      <td>1</td>\n",
       "      <td>2.740129</td>\n",
       "    </tr>\n",
       "    <tr>\n",
       "      <th>317943</th>\n",
       "      <td>脏兮兮</td>\n",
       "      <td>2</td>\n",
       "      <td>0</td>\n",
       "      <td>2.843403</td>\n",
       "    </tr>\n",
       "    <tr>\n",
       "      <th>643146</th>\n",
       "      <td>沉淀 的 美 。</td>\n",
       "      <td>4</td>\n",
       "      <td>2</td>\n",
       "      <td>4.120893</td>\n",
       "    </tr>\n",
       "    <tr>\n",
       "      <th>648156</th>\n",
       "      <td>60 万 吞 80 万 ！</td>\n",
       "      <td>5</td>\n",
       "      <td>2</td>\n",
       "      <td>3.587331</td>\n",
       "    </tr>\n",
       "  </tbody>\n",
       "</table>\n",
       "</div>"
      ],
      "text/plain": [
       "                                                  comment  rating  label  \\\n",
       "842390                        初中 的 时候 看 了 一 堆 007 的 VCD 。       3      1   \n",
       "627523                        现在 还 记得 张铁林 扮演 的 怡 亲王 。 。 。       5      2   \n",
       "624264                                               一般 般       3      1   \n",
       "113664  我 的 天 Higgs 已经 是 两 年 多 之前 的 事情 了 ................       5      2   \n",
       "159047  在 不 知道 是 俄语 字幕 还是 爪 哇语 字幕 的 干扰 下 ， 欢快 的 啃生 肉 啃...       4      2   \n",
       "219821  切入点 选 得 好 ， 反 高潮 ， 去 戏剧化 ， 斯皮尔伯格 难得 这么 克制 ， 只是...       4      2   \n",
       "667673  几 个 细节 ： 1. 嫌犯 被捕 时 被 通知不宣 读 个人 权利 ， 审问 时 没有 律...       4      2   \n",
       "637800                                          灰暗 ， 低沉 。       3      1   \n",
       "258851  2.5 吧 。 看 在 老屈 的 面子 四 舍 五 入 一下 。 实在 是 一 部 类似 疾...       3      1   \n",
       "594371          没 看 过 ， 但是 我 看 过 一些 数典忘祖 的 美 狗 日杂 ， 所以 五星       5      2   \n",
       "289037  该片 情节 紧凑 , 绝 无 冷场 , 教授 提出 的 理念 发人深思 , 在 当今 社会 ...       5      2   \n",
       "9278          不 常 看 记录片 ， 但是 这 一 部 还 不错 。 P.S. 这些 模特 真 漂亮       4      2   \n",
       "398362  生活 要是 变成 了 这样 才 让 人 无奈 , 不过 大片儿 却 总是 有 一个 好 的 ...       4      2   \n",
       "100857  其实 也 可以 去 取材 青旅 的 人们 。 不过 ， 北海道 在 我 心里 总是 美 得 ...       4      2   \n",
       "842974  引进 了 克隆 技术 ！ 充分 说明 了 克隆 人 的 不稳定性 ！ 说 真 的 ， 看 《...       3      1   \n",
       "398025  不得不 夸赞 音乐 配 得 贴切 大气 ， 把 一 漏洞百出 的 白痴谍 战加 连环 杀手片...       2      0   \n",
       "17881   挺无感 的 ， 不 是 很 对 胃口 ， 就 绿 皮 火车 上 唱戏 那段 比较 有意思 。...       3      1   \n",
       "317943                                                脏兮兮       2      0   \n",
       "643146                                           沉淀 的 美 。       4      2   \n",
       "648156                                      60 万 吞 80 万 ！       5      2   \n",
       "\n",
       "           preds  \n",
       "842390  3.232347  \n",
       "627523  3.298126  \n",
       "624264  2.779430  \n",
       "113664  4.072724  \n",
       "159047  1.821184  \n",
       "219821  3.595191  \n",
       "667673  3.452877  \n",
       "637800  3.352764  \n",
       "258851  2.796375  \n",
       "594371  5.000000  \n",
       "289037  4.033984  \n",
       "9278    3.934962  \n",
       "398362  3.580623  \n",
       "100857  3.954683  \n",
       "842974  4.181439  \n",
       "398025  2.898876  \n",
       "17881   2.740129  \n",
       "317943  2.843403  \n",
       "643146  4.120893  \n",
       "648156  3.587331  "
      ]
     },
     "execution_count": 132,
     "metadata": {},
     "output_type": "execute_result"
    }
   ],
   "source": [
    "df_test.sample(20)"
   ]
  },
  {
   "cell_type": "code",
   "execution_count": 133,
   "metadata": {},
   "outputs": [
    {
     "data": {
      "text/plain": [
       "0.6696406409027692"
      ]
     },
     "execution_count": 133,
     "metadata": {},
     "output_type": "execute_result"
    }
   ],
   "source": [
    "np.sum(np.square(df_test.rating.values - df_test.preds.values)) / preds.shape[0]"
   ]
  },
  {
   "cell_type": "code",
   "execution_count": 134,
   "metadata": {},
   "outputs": [],
   "source": [
    "preds_class = np.round(preds)"
   ]
  },
  {
   "cell_type": "code",
   "execution_count": 135,
   "metadata": {},
   "outputs": [
    {
     "name": "stdout",
     "output_type": "stream",
     "text": [
      "Confusion matrix, without normalization\n",
      "[[ 2295  4783  3571   831    42]\n",
      " [  928  8134 11832  2369    17]\n",
      " [  138  5062 35945 20023   207]\n",
      " [   19   758 15338 36985  1549]\n",
      " [   24   286  3694 18211  3168]]\n"
     ]
    },
    {
     "data": {
      "image/png": "[encoded data removed]",
      "text/plain": [
       "<Figure size 432x288 with 2 Axes>"
      ]
     },
     "metadata": {},
     "output_type": "display_data"
    }
   ],
   "source": [
    "cnf_matrix = confusion_matrix(ys, preds_class)\n",
    "np.set_printoptions(precision=2)\n",
    "\n",
    "# Plot non-normalized confusion matrix\n",
    "plt.figure()\n",
    "plot_confusion_matrix(\n",
    "    cnf_matrix, classes=[0, 1, 2],\n",
    "    title='Confusion matrix, without normalization')"
   ]
  },
  {
   "cell_type": "code",
   "execution_count": 136,
   "metadata": {},
   "outputs": [
    {
     "name": "stdout",
     "output_type": "stream",
     "text": [
      "Class 0: P 67%, R 20%, FS 0.31, Support: 11522\n",
      "Class 1: P 43%, R 35%, FS 0.38, Support: 23280\n",
      "Class 2: P 51%, R 59%, FS 0.55, Support: 61375\n",
      "Class 3: P 47%, R 68%, FS 0.56, Support: 54649\n",
      "Class 4: P 64%, R 12%, FS 0.21, Support: 25383\n"
     ]
    }
   ],
   "source": [
    "from sklearn.metrics import precision_recall_fscore_support\n",
    "precision, recall, fscore, support = precision_recall_fscore_support(ys, preds_class)\n",
    "for i in range(5):\n",
    "    print(f\"Class {i}: P {precision[i]*100:.0f}%, R {recall[i]*100:.0f}%, FS {fscore[i]:.2f}, Support: {support[i]}\")"
   ]
  },
  {
   "cell_type": "code",
   "execution_count": 137,
   "metadata": {},
   "outputs": [],
   "source": [
    "def get_prediction(texts):\n",
    "    input_tensor = T(np.array([1] + sp.EncodeAsIds(texts))).unsqueeze(1)\n",
    "    return learn.model(input_tensor)[0].data.cpu().numpy()[0, 0]"
   ]
  },
  {
   "cell_type": "code",
   "execution_count": 138,
   "metadata": {},
   "outputs": [
    {
     "data": {
      "text/plain": [
       "2.5044014"
      ]
     },
     "execution_count": 138,
     "metadata": {},
     "output_type": "execute_result"
    }
   ],
   "source": [
    "get_prediction(\"看 了 快 一半 了 才 发现 是 mini 的 广告\")"
   ]
  },
  {
   "cell_type": "code",
   "execution_count": 139,
   "metadata": {},
   "outputs": [
    {
     "data": {
      "text/plain": [
       "4.534949"
      ]
     },
     "execution_count": 139,
     "metadata": {},
     "output_type": "execute_result"
    }
   ],
   "source": [
    "get_prediction(\"妈蛋 ， 简直 太 好看 了 。 最后 的 DJ battle 部分 ， 兴奋 的 我 ， 简直 想 从 座位 上 站 起来 一起 扭\")"
   ]
  },
  {
   "cell_type": "code",
   "execution_count": 140,
   "metadata": {},
   "outputs": [
    {
     "data": {
      "text/plain": [
       "2.3158228"
      ]
     },
     "execution_count": 140,
     "metadata": {},
     "output_type": "execute_result"
    }
   ],
   "source": [
    "get_prediction(\"关键点 都 好傻 ， 我 知道 你 要拍 续集 ， \"\n",
    "               \"我 知道 未来 可以 被 重写 ， 但 那 一拳 真的 有点 傻 。\")"
   ]
  },
  {
   "cell_type": "code",
   "execution_count": 141,
   "metadata": {},
   "outputs": [
    {
     "data": {
      "text/plain": [
       "3.0249376"
      ]
     },
     "execution_count": 141,
     "metadata": {},
     "output_type": "execute_result"
    }
   ],
   "source": [
    "get_prediction(\"李冰冰 的 脸 真的 很 紧绷 ， 比 鲨鱼 的 脸 还 绷 。\")"
   ]
  },
  {
   "cell_type": "code",
   "execution_count": 142,
   "metadata": {},
   "outputs": [
    {
     "data": {
      "text/plain": [
       "1.3973805"
      ]
     },
     "execution_count": 142,
     "metadata": {},
     "output_type": "execute_result"
    }
   ],
   "source": [
    "get_prediction(\"太 烂 了 ， 难看 至极 。\")"
   ]
  },
  {
   "cell_type": "code",
   "execution_count": 143,
   "metadata": {},
   "outputs": [
    {
     "data": {
      "text/plain": [
       "2.4281068"
      ]
     },
     "execution_count": 143,
     "metadata": {},
     "output_type": "execute_result"
    }
   ],
   "source": [
    "get_prediction(\"看完 之后 很 生气 ！ 剧情 太差 了\")"
   ]
  },
  {
   "cell_type": "code",
   "execution_count": 144,
   "metadata": {},
   "outputs": [
    {
     "data": {
      "text/plain": [
       "3.234384"
      ]
     },
     "execution_count": 144,
     "metadata": {},
     "output_type": "execute_result"
    }
   ],
   "source": [
    "get_prediction(\"好了 可以 了 。 再也 不看 Marvel 了 。 我 努力 过 了 。 实在 是 。 。 啥呀 这是 。 🙄️\")"
   ]
  },
  {
   "cell_type": "code",
   "execution_count": 145,
   "metadata": {},
   "outputs": [
    {
     "data": {
      "text/plain": [
       "2.522077"
      ]
     },
     "execution_count": 145,
     "metadata": {},
     "output_type": "execute_result"
    }
   ],
   "source": [
    "get_prediction(\"还 我 电影票 14 元\")"
   ]
  },
  {
   "cell_type": "code",
   "execution_count": null,
   "metadata": {},
   "outputs": [],
   "source": []
  }
 ],
 "metadata": {
  "kernelspec": {
   "display_name": "Python 3",
   "language": "python",
   "name": "python3"
  },
  "language_info": {
   "codemirror_mode": {
    "name": "ipython",
    "version": 3
   },
   "file_extension": ".py",
   "mimetype": "text/x-python",
   "name": "python",
   "nbconvert_exporter": "python",
   "pygments_lexer": "ipython3",
   "version": "3.6.6"
  }
 },
 "nbformat": 4,
 "nbformat_minor": 2
}
