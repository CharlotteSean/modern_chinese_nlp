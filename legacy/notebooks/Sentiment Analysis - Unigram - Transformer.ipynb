{
 "cells": [
  {
   "cell_type": "code",
   "execution_count": 1,
   "metadata": {},
   "outputs": [],
   "source": [
    "import sys\n",
    "sys.path.append(\"../\")\n",
    "sys.path.append(\"../fastai/\")"
   ]
  },
  {
   "cell_type": "code",
   "execution_count": 2,
   "metadata": {},
   "outputs": [
    {
     "name": "stdout",
     "output_type": "stream",
     "text": [
      "torch 0.4.1\n",
      "pandas 0.22.0\n",
      "numpy 1.15.0\n",
      "\n",
      "compiler   : GCC 7.2.0\n",
      "system     : Linux\n",
      "release    : 4.10.0-32-generic\n",
      "machine    : x86_64\n",
      "processor  : x86_64\n",
      "CPU cores  : 8\n",
      "interpreter: 64bit\n"
     ]
    },
    {
     "name": "stderr",
     "output_type": "stream",
     "text": [
      "/opt/conda/lib/python3.6/importlib/_bootstrap.py:219: RuntimeWarning: numpy.dtype size changed, may indicate binary incompatibility. Expected 96, got 88\n",
      "  return f(*args, **kwds)\n",
      "/opt/conda/lib/python3.6/importlib/_bootstrap.py:219: RuntimeWarning: numpy.dtype size changed, may indicate binary incompatibility. Expected 96, got 88\n",
      "  return f(*args, **kwds)\n"
     ]
    }
   ],
   "source": [
    "%load_ext watermark\n",
    "%watermark -p torch,pandas,numpy -m"
   ]
  },
  {
   "cell_type": "code",
   "execution_count": 3,
   "metadata": {},
   "outputs": [
    {
     "name": "stderr",
     "output_type": "stream",
     "text": [
      "/opt/conda/lib/python3.6/site-packages/sklearn/ensemble/weight_boosting.py:29: DeprecationWarning: numpy.core.umath_tests is an internal NumPy module and should not be imported. It will be removed in a future NumPy release.\n",
      "  from numpy.core.umath_tests import inner1d\n",
      "/opt/conda/lib/python3.6/importlib/_bootstrap.py:219: RuntimeWarning: numpy.dtype size changed, may indicate binary incompatibility. Expected 96, got 88\n",
      "  return f(*args, **kwds)\n",
      "/opt/conda/lib/python3.6/importlib/_bootstrap.py:219: RuntimeWarning: numpy.ufunc size changed, may indicate binary incompatibility. Expected 192, got 176\n",
      "  return f(*args, **kwds)\n"
     ]
    }
   ],
   "source": [
    "from pathlib import Path\n",
    "import itertools\n",
    "from collections import Counter\n",
    "from functools import partial, reduce\n",
    "\n",
    "import joblib\n",
    "import pandas as pd\n",
    "import numpy as np\n",
    "\n",
    "from sklearn.model_selection import StratifiedShuffleSplit\n",
    "from sklearn.metrics import precision_recall_fscore_support\n",
    "from fastai.text import (\n",
    "    SortishSampler, SortSampler, DataLoader, ModelData, to_gpu\n",
    ")\n",
    "from fastai.core import T\n",
    "from fastai.rnn_reg import EmbeddingDropout\n",
    "from fastai.text import accuracy\n",
    "from torch.optim import Adam\n",
    "import torch.nn as nn\n",
    "import torch\n",
    "import torch.nn.functional as F\n",
    "from sklearn.metrics import confusion_matrix\n",
    "import matplotlib.pyplot as plt\n",
    "from tqdm import tqdm_notebook\n",
    "import sentencepiece as spm\n",
    "\n",
    "from cnlp.fastai_extended import (\n",
    "    LanguageModelLoader, LanguageModelData, get_transformer_classifier, \n",
    "    TransformerTextModel, TextDataset, TransformerLearner, FixedLengthDataLoader,\n",
    "    ShuffledLanguageModelLoader\n",
    ")\n",
    "\n",
    "%matplotlib inline"
   ]
  },
  {
   "cell_type": "code",
   "execution_count": 4,
   "metadata": {},
   "outputs": [],
   "source": [
    "path = Path(\"../data/cache/lm_unigram_transformer_douban/\")\n",
    "path.mkdir(parents=True, exist_ok=True)"
   ]
  },
  {
   "cell_type": "markdown",
   "metadata": {
    "heading_collapsed": true
   },
   "source": [
    "## Utility Function(s)"
   ]
  },
  {
   "cell_type": "code",
   "execution_count": 5,
   "metadata": {
    "hidden": true
   },
   "outputs": [],
   "source": [
    "def plot_confusion_matrix(cm, classes,\n",
    "                          normalize=False,\n",
    "                          title='Confusion matrix',\n",
    "                          cmap=plt.cm.Blues):\n",
    "    \"\"\"\n",
    "    This function prints and plots the confusion matrix.\n",
    "    Normalization can be applied by setting `normalize=True`.\n",
    "    \"\"\"\n",
    "    if normalize:\n",
    "        cm = cm.astype('float') / cm.sum(axis=1)[:, np.newaxis]\n",
    "        print(\"Normalized confusion matrix\")\n",
    "    else:\n",
    "        print('Confusion matrix, without normalization')\n",
    "\n",
    "    print(cm)\n",
    "\n",
    "    plt.imshow(cm, interpolation='nearest', cmap=cmap)\n",
    "    plt.title(title)\n",
    "    plt.colorbar()\n",
    "    tick_marks = np.arange(len(classes))\n",
    "    plt.xticks(tick_marks, classes, rotation=45)\n",
    "    plt.yticks(tick_marks, classes)\n",
    "\n",
    "    fmt = '.2f' if normalize else 'd'\n",
    "    thresh = cm.max() / 2.\n",
    "    for i, j in itertools.product(range(cm.shape[0]), range(cm.shape[1])):\n",
    "        plt.text(j, i, format(cm[i, j], fmt),\n",
    "                 horizontalalignment=\"center\",\n",
    "                 color=\"white\" if cm[i, j] > thresh else \"black\")\n",
    "\n",
    "    plt.tight_layout()\n",
    "    plt.ylabel('True label')\n",
    "    plt.xlabel('Predicted label')"
   ]
  },
  {
   "cell_type": "markdown",
   "metadata": {},
   "source": [
    "## Import And Tokenize Comments and Ratings"
   ]
  },
  {
   "cell_type": "code",
   "execution_count": 6,
   "metadata": {},
   "outputs": [
    {
     "data": {
      "text/html": [
       "<div>\n",
       "<style scoped>\n",
       "    .dataframe tbody tr th:only-of-type {\n",
       "        vertical-align: middle;\n",
       "    }\n",
       "\n",
       "    .dataframe tbody tr th {\n",
       "        vertical-align: top;\n",
       "    }\n",
       "\n",
       "    .dataframe thead th {\n",
       "        text-align: right;\n",
       "    }\n",
       "</style>\n",
       "<table border=\"1\" class=\"dataframe\">\n",
       "  <thead>\n",
       "    <tr style=\"text-align: right;\">\n",
       "      <th></th>\n",
       "      <th>comment</th>\n",
       "      <th>rating</th>\n",
       "    </tr>\n",
       "  </thead>\n",
       "  <tbody>\n",
       "    <tr>\n",
       "      <th>0</th>\n",
       "      <td>别 拿 矫揉造作 的 资产阶级 情调 麻醉 中国 人民 ！</td>\n",
       "      <td>1</td>\n",
       "    </tr>\n",
       "    <tr>\n",
       "      <th>1</th>\n",
       "      <td>文青 们 向往 的 生活 ， 可是 生活 中 没有 了 喜怒哀乐 ， 没有 了 问题 与 冲...</td>\n",
       "      <td>2</td>\n",
       "    </tr>\n",
       "    <tr>\n",
       "      <th>2</th>\n",
       "      <td>自由 也许 在 大理 ， 生活 确实 在 别处 。</td>\n",
       "      <td>3</td>\n",
       "    </tr>\n",
       "    <tr>\n",
       "      <th>3</th>\n",
       "      <td>原来 八旬 是 小四 的 老公 ， 小 彩旗 的 爹 ， 杨丽萍 的 妹夫 。</td>\n",
       "      <td>3</td>\n",
       "    </tr>\n",
       "    <tr>\n",
       "      <th>4</th>\n",
       "      <td>关于 大理 的 蓝光 旅游 宣传片 。</td>\n",
       "      <td>3</td>\n",
       "    </tr>\n",
       "  </tbody>\n",
       "</table>\n",
       "</div>"
      ],
      "text/plain": [
       "                                             comment  rating\n",
       "0                      别 拿 矫揉造作 的 资产阶级 情调 麻醉 中国 人民 ！       1\n",
       "1  文青 们 向往 的 生活 ， 可是 生活 中 没有 了 喜怒哀乐 ， 没有 了 问题 与 冲...       2\n",
       "2                          自由 也许 在 大理 ， 生活 确实 在 别处 。       3\n",
       "3            原来 八旬 是 小四 的 老公 ， 小 彩旗 的 爹 ， 杨丽萍 的 妹夫 。       3\n",
       "4                                关于 大理 的 蓝光 旅游 宣传片 。       3"
      ]
     },
     "execution_count": 6,
     "metadata": {},
     "output_type": "execute_result"
    }
   ],
   "source": [
    "df_ratings = pd.read_csv(\"../data/ratings_word.csv\")\n",
    "df_ratings.head()"
   ]
  },
  {
   "cell_type": "code",
   "execution_count": 7,
   "metadata": {},
   "outputs": [],
   "source": [
    "sss = StratifiedShuffleSplit(n_splits=1, test_size=0.4, random_state=888)\n",
    "train_idx, test_idx = next(sss.split(df_ratings, df_ratings.rating))\n",
    "df_train = df_ratings.iloc[train_idx].copy()\n",
    "df_test = df_ratings.iloc[test_idx].copy()\n",
    "sss = StratifiedShuffleSplit(n_splits=1, test_size=0.5, random_state=888)\n",
    "val_idx, test_idx = next(sss.split(df_test, df_test.rating))\n",
    "df_val = df_test.iloc[val_idx].copy()\n",
    "df_test = df_test.iloc[test_idx].copy()\n",
    "del df_ratings"
   ]
  },
  {
   "cell_type": "code",
   "execution_count": 8,
   "metadata": {},
   "outputs": [],
   "source": [
    "UNK = 0\n",
    "BEG = 1\n",
    "EMB_DIM = 480"
   ]
  },
  {
   "cell_type": "code",
   "execution_count": 9,
   "metadata": {},
   "outputs": [
    {
     "data": {
      "text/plain": [
       "True"
      ]
     },
     "execution_count": 9,
     "metadata": {},
     "output_type": "execute_result"
    }
   ],
   "source": [
    "sp = spm.SentencePieceProcessor()\n",
    "sp.Load(\"../data/rating_unigram_model.model\")"
   ]
  },
  {
   "cell_type": "markdown",
   "metadata": {
    "heading_collapsed": true
   },
   "source": [
    "### Use the Refitted Vocabulary\n",
    "#### Investigate Vocabulary Differences"
   ]
  },
  {
   "cell_type": "code",
   "execution_count": 19,
   "metadata": {
    "hidden": true
   },
   "outputs": [
    {
     "data": {
      "text/plain": [
       "7500"
      ]
     },
     "execution_count": 19,
     "metadata": {},
     "output_type": "execute_result"
    }
   ],
   "source": [
    "itos_orig = []\n",
    "with open(\"../data/unigram_model.vocab\", mode=\"r\", encoding=\"utf-8\") as f:\n",
    "    for line in f.readlines():\n",
    "        itos_orig.append(line.split(\"\\t\")[0])\n",
    "itos = []\n",
    "with open(\"../data/rating_unigram_model.vocab\", mode=\"r\", encoding=\"utf-8\") as f:\n",
    "    for line in f.readlines():\n",
    "        itos.append(line.split(\"\\t\")[0])\n",
    "n_toks = len(itos)\n",
    "n_toks"
   ]
  },
  {
   "cell_type": "code",
   "execution_count": 10,
   "metadata": {
    "hidden": true
   },
   "outputs": [
    {
     "data": {
      "text/plain": [
       "['<unk>', '<s>', '</s>', '▁,', '▁的']"
      ]
     },
     "execution_count": 10,
     "metadata": {},
     "output_type": "execute_result"
    }
   ],
   "source": [
    "itos[:5]"
   ]
  },
  {
   "cell_type": "code",
   "execution_count": 25,
   "metadata": {
    "hidden": true
   },
   "outputs": [],
   "source": [
    "mapping = {s: idx for idx, s in enumerate(itos)}\n",
    "mapping_orig = {s: idx for idx, s in enumerate(itos_orig)}"
   ]
  },
  {
   "cell_type": "code",
   "execution_count": 26,
   "metadata": {
    "hidden": true
   },
   "outputs": [
    {
     "name": "stdout",
     "output_type": "stream",
     "text": [
      "2823 7500\n"
     ]
    },
    {
     "data": {
      "text/plain": [
       "[('婪', 7499),\n",
       " ('★', 7491),\n",
       " ('】', 7490),\n",
       " ('兀', 7489),\n",
       " ('☆', 7488),\n",
       " ('葩', 7487),\n",
       " ('̄', 7486),\n",
       " ('喂', 7485),\n",
       " ('咱', 7484),\n",
       " ('匆', 7482),\n",
       " ('蝴', 7478),\n",
       " ('袱', 7477),\n",
       " ('寥', 7476),\n",
       " ('疙', 7475),\n",
       " ('痨', 7474),\n",
       " ('【', 7470),\n",
       " (']', 7469),\n",
       " ('*', 7468),\n",
       " ('扔', 7466),\n",
       " ('窒', 7464),\n",
       " ('漓', 7462),\n",
       " ('肮', 7459),\n",
       " ('@', 7458),\n",
       " ('[', 7457),\n",
       " ('驭', 7455),\n",
       " ('渲', 7453),\n",
       " ('樟', 7452),\n",
       " ('跪', 7451),\n",
       " ('甩', 7448),\n",
       " ('噱', 7445),\n",
       " ('暧', 7440),\n",
       " ('谑', 7439),\n",
       " ('蹩', 7435),\n",
       " ('讶', 7434),\n",
       " ('戛', 7431),\n",
       " ('╭', 7428),\n",
       " ('娴', 7423),\n",
       " ('蹋', 7422),\n",
       " ('疵', 7403),\n",
       " ('潇', 7401),\n",
       " ('尴', 7400),\n",
       " ('烘', 7390),\n",
       " ('陌', 7383),\n",
       " ('馨', 7381),\n",
       " ('瑕', 7377),\n",
       " ('>', 7373),\n",
       " ('唏', 7372),\n",
       " ('俐', 7371),\n",
       " ('谬', 7369),\n",
       " ('缚', 7359)]"
      ]
     },
     "execution_count": 26,
     "metadata": {},
     "output_type": "execute_result"
    }
   ],
   "source": [
    "voc_diff = set(itos) - set(itos_orig)\n",
    "print(len(voc_diff), len(itos))\n",
    "sorted([(x, mapping[x]) for x in list(voc_diff)], key=lambda x: x[1], reverse=True)[:50]"
   ]
  },
  {
   "cell_type": "markdown",
   "metadata": {
    "hidden": true
   },
   "source": [
    "#### Tokenize"
   ]
  },
  {
   "cell_type": "code",
   "execution_count": 14,
   "metadata": {
    "hidden": true
   },
   "outputs": [
    {
     "data": {
      "application/vnd.jupyter.widget-view+json": {
       "model_id": "e2623bfbe5634e5fa102bac7523f76ca",
       "version_major": 2,
       "version_minor": 0
      },
      "text/plain": [
       "HBox(children=(IntProgress(value=0, max=528624), HTML(value='')))"
      ]
     },
     "metadata": {},
     "output_type": "display_data"
    },
    {
     "name": "stdout",
     "output_type": "stream",
     "text": [
      "\n"
     ]
    },
    {
     "data": {
      "application/vnd.jupyter.widget-view+json": {
       "model_id": "fefb7526d4ac421da729d050e7ac5ccd",
       "version_major": 2,
       "version_minor": 0
      },
      "text/plain": [
       "HBox(children=(IntProgress(value=0, max=176208), HTML(value='')))"
      ]
     },
     "metadata": {},
     "output_type": "display_data"
    },
    {
     "name": "stdout",
     "output_type": "stream",
     "text": [
      "\n"
     ]
    },
    {
     "data": {
      "application/vnd.jupyter.widget-view+json": {
       "model_id": "bd40ca5172a04d48a07a63e817cdbde8",
       "version_major": 2,
       "version_minor": 0
      },
      "text/plain": [
       "HBox(children=(IntProgress(value=0, max=176209), HTML(value='')))"
      ]
     },
     "metadata": {},
     "output_type": "display_data"
    },
    {
     "name": "stdout",
     "output_type": "stream",
     "text": [
      "\n"
     ]
    }
   ],
   "source": [
    "results = []\n",
    "tokens_train, tokens_val, tokens_test = [], [], []\n",
    "for df, tokens in zip((df_train, df_val, df_test), (tokens_train, tokens_val, tokens_test)) :\n",
    "    for i, row in tqdm_notebook(df.iterrows(), total=df.shape[0]):\n",
    "        tokens.append(np.array([BEG] + sp.EncodeAsIds(row[\"comment\"])))\n",
    "assert len(tokens_train) == df_train.shape[0]        "
   ]
  },
  {
   "cell_type": "code",
   "execution_count": 22,
   "metadata": {
    "hidden": true
   },
   "outputs": [
    {
     "data": {
      "text/plain": [
       "['../data/cache/rating_unigram_tokens.pkl']"
      ]
     },
     "execution_count": 22,
     "metadata": {},
     "output_type": "execute_result"
    }
   ],
   "source": [
    "joblib.dump([n_toks, tokens_train, tokens_val, tokens_test], \"../data/cache/rating_unigram_tokens.pkl\")"
   ]
  },
  {
   "cell_type": "code",
   "execution_count": 15,
   "metadata": {
    "hidden": true
   },
   "outputs": [
    {
     "data": {
      "text/plain": [
       "array([   1,  163,  149,   99, 1064, 1412])"
      ]
     },
     "execution_count": 15,
     "metadata": {},
     "output_type": "execute_result"
    }
   ],
   "source": [
    "tokens_val[0]"
   ]
  },
  {
   "cell_type": "code",
   "execution_count": 16,
   "metadata": {
    "hidden": true
   },
   "outputs": [
    {
     "data": {
      "text/plain": [
       "comment    男 主角 像 卡卡\n",
       "rating             2\n",
       "Name: 681247, dtype: object"
      ]
     },
     "execution_count": 16,
     "metadata": {},
     "output_type": "execute_result"
    }
   ],
   "source": [
    "df_val.iloc[0]"
   ]
  },
  {
   "cell_type": "markdown",
   "metadata": {
    "heading_collapsed": true,
    "hidden": true
   },
   "source": [
    "#### Prepare the embedding matrix"
   ]
  },
  {
   "cell_type": "code",
   "execution_count": 38,
   "metadata": {
    "hidden": true
   },
   "outputs": [
    {
     "data": {
      "text/plain": [
       "torch.Size([7600, 480])"
      ]
     },
     "execution_count": 38,
     "metadata": {},
     "output_type": "execute_result"
    }
   ],
   "source": [
    "MODEL_PATH = \"../data/cache/lm_unigram_transformer/models/lm_transformer.h5\"\n",
    "weights = torch.load(MODEL_PATH, map_location=lambda storage, loc: storage)\n",
    "assert weights['0.embed.weight'].shape[1] == EMB_DIM\n",
    "weights['0.embed.weight'].shape"
   ]
  },
  {
   "cell_type": "code",
   "execution_count": 39,
   "metadata": {
    "hidden": true
   },
   "outputs": [
    {
     "data": {
      "text/plain": [
       "(4677, 62.38495398159264)"
      ]
     },
     "execution_count": 39,
     "metadata": {},
     "output_type": "execute_result"
    }
   ],
   "source": [
    "new_matrix = np.zeros((n_toks + 100, EMB_DIM))\n",
    "hits = 0\n",
    "for i, w in enumerate(itos):\n",
    "    if w in mapping_orig:\n",
    "        new_matrix[i] = weights['0.embed.weight'][mapping_orig[w]]\n",
    "        hits += 1\n",
    "new_matrix[BEG, :] = 0\n",
    "hits, hits *100 / len(itos[3:])"
   ]
  },
  {
   "cell_type": "code",
   "execution_count": 40,
   "metadata": {
    "hidden": true
   },
   "outputs": [],
   "source": [
    "new_matrix[n_toks:, :] = weights['0.embed.weight'][-100:, :]"
   ]
  },
  {
   "cell_type": "code",
   "execution_count": 41,
   "metadata": {
    "hidden": true
   },
   "outputs": [
    {
     "data": {
      "text/plain": [
       "torch.Size([7600, 480])"
      ]
     },
     "execution_count": 41,
     "metadata": {},
     "output_type": "execute_result"
    }
   ],
   "source": [
    "weights['0.embed.weight'] = T(new_matrix)\n",
    "weights['1.weight'] = T(np.copy(new_matrix)[:-100, :])\n",
    "weights['0.embed.weight'].shape"
   ]
  },
  {
   "cell_type": "markdown",
   "metadata": {
    "heading_collapsed": true
   },
   "source": [
    "## Languange Model"
   ]
  },
  {
   "cell_type": "code",
   "execution_count": 10,
   "metadata": {
    "hidden": true
   },
   "outputs": [],
   "source": [
    "n_toks, tokens_train, tokens_val, tokens_test = joblib.load(\"../data/cache/rating_unigram_tokens.pkl\")"
   ]
  },
  {
   "cell_type": "code",
   "execution_count": 15,
   "metadata": {
    "hidden": true
   },
   "outputs": [],
   "source": [
    "bs = 32\n",
    "bptt = 100\n",
    "target_length = 90\n",
    "trn_dl = ShuffledLanguageModelLoader(\n",
    "    np.concatenate(tokens_train), bs, bptt, target_length=target_length, batch_first=True)\n",
    "val_dl = LanguageModelLoader(\n",
    "    np.concatenate(tokens_val), bs, bptt, target_length=target_length, batch_first=True)"
   ]
  },
  {
   "cell_type": "code",
   "execution_count": 16,
   "metadata": {
    "hidden": true
   },
   "outputs": [],
   "source": [
    "model_data = LanguageModelData(\n",
    "    path, pad_idx=2, n_tok=n_toks, trn_dl=trn_dl, val_dl=val_dl, bs=bs, bptt=bptt\n",
    ")"
   ]
  },
  {
   "cell_type": "code",
   "execution_count": 43,
   "metadata": {
    "hidden": true
   },
   "outputs": [],
   "source": [
    "learner = model_data.get_transformer_model(\n",
    "    partial(Adam, betas=(0.8, 0.999)),\n",
    "    max_seq_len=trn_dl.max_possible_seq_len,\n",
    "    emb_sz=EMB_DIM,\n",
    "    n_head=12,\n",
    "    n_layer=6,\n",
    "    embd_pdrop=0.1,\n",
    "    attn_pdrop=0.1,\n",
    "    resid_pdrop=0.1\n",
    ")\n",
    "learner.metrics = [accuracy]"
   ]
  },
  {
   "cell_type": "code",
   "execution_count": 44,
   "metadata": {
    "hidden": true
   },
   "outputs": [],
   "source": [
    "learner.model.load_state_dict(weights)"
   ]
  },
  {
   "cell_type": "code",
   "execution_count": 45,
   "metadata": {
    "hidden": true
   },
   "outputs": [
    {
     "data": {
      "text/plain": [
       "torch.Size([32, 100])"
      ]
     },
     "execution_count": 45,
     "metadata": {},
     "output_type": "execute_result"
    }
   ],
   "source": [
    "next(iter(trn_dl))[0].size()"
   ]
  },
  {
   "cell_type": "code",
   "execution_count": 47,
   "metadata": {
    "hidden": true
   },
   "outputs": [],
   "source": [
    "from fastai.core import set_trainable\n",
    "set_trainable(learner.model, False)\n",
    "set_trainable(learner.get_layer_groups()[0], True)\n",
    "set_trainable(learner.get_layer_groups()[-1], True)\n",
    "assert learner.model[0].blocks[0].trainable == False\n",
    "assert learner.model[0].blocks[0].attn.c_proj.weight.requires_grad == False\n",
    "assert learner.model[1].weight.requires_grad == True\n",
    "assert learner.model[1].trainable == True\n",
    "assert learner.model[0].embed.trainable == True\n",
    "assert learner.model[0].embed.weight.requires_grad == True"
   ]
  },
  {
   "cell_type": "code",
   "execution_count": 48,
   "metadata": {
    "hidden": true
   },
   "outputs": [
    {
     "data": {
      "application/vnd.jupyter.widget-view+json": {
       "model_id": "f8436c8b7a084f90b269236f9ea46245",
       "version_major": 2,
       "version_minor": 0
      },
      "text/plain": [
       "HBox(children=(IntProgress(value=0, description='Epoch', max=1), HTML(value='')))"
      ]
     },
     "metadata": {},
     "output_type": "display_data"
    },
    {
     "name": "stdout",
     "output_type": "stream",
     "text": [
      "epoch      trn_loss   val_loss   accuracy                     \n",
      "    0      5.666281   5.556535   0.152705  \n",
      "\n"
     ]
    },
    {
     "data": {
      "text/plain": [
       "[5.556534588645421, 0.15270510214783117]"
      ]
     },
     "execution_count": 48,
     "metadata": {},
     "output_type": "execute_result"
    }
   ],
   "source": [
    "lr=1e-3\n",
    "lrs = lr\n",
    "learner.freeze_to(-1)\n",
    "learner.fit(lrs/2, 1, wds=0, use_clr=(32,2), cycle_len=1)"
   ]
  },
  {
   "cell_type": "code",
   "execution_count": 49,
   "metadata": {
    "hidden": true
   },
   "outputs": [],
   "source": [
    "learner.save('lm_last_ft')"
   ]
  },
  {
   "cell_type": "code",
   "execution_count": 51,
   "metadata": {
    "hidden": true
   },
   "outputs": [
    {
     "data": {
      "application/vnd.jupyter.widget-view+json": {
       "model_id": "ac7aa23110794764b2090cb96529c8e1",
       "version_major": 2,
       "version_minor": 0
      },
      "text/plain": [
       "HBox(children=(IntProgress(value=0, description='Epoch', max=1), HTML(value='')))"
      ]
     },
     "metadata": {},
     "output_type": "display_data"
    },
    {
     "name": "stdout",
     "output_type": "stream",
     "text": [
      "epoch      trn_loss   val_loss   accuracy                     \n",
      "    0      5.073715   4.992648   0.195355  \n",
      "\n"
     ]
    }
   ],
   "source": [
    "learner.unfreeze()\n",
    "lrs = np.array([5e-5, *[1e-4]*6, 1e-3])\n",
    "learner.clip = 5.\n",
    "learner.lr_find(start_lr=lrs/10, end_lr=lrs*10, linear=True)"
   ]
  },
  {
   "cell_type": "code",
   "execution_count": 52,
   "metadata": {
    "hidden": true
   },
   "outputs": [
    {
     "data": {
      "image/png": "[encoded data removed]",
      "text/plain": [
       "<Figure size 432x288 with 1 Axes>"
      ]
     },
     "metadata": {},
     "output_type": "display_data"
    }
   ],
   "source": [
    "learner.sched.plot()"
   ]
  },
  {
   "cell_type": "code",
   "execution_count": 53,
   "metadata": {
    "hidden": true
   },
   "outputs": [
    {
     "data": {
      "application/vnd.jupyter.widget-view+json": {
       "model_id": "9359852789b74232a9d94d371873fd71",
       "version_major": 2,
       "version_minor": 0
      },
      "text/plain": [
       "HBox(children=(IntProgress(value=0, description='Epoch', max=5), HTML(value='')))"
      ]
     },
     "metadata": {},
     "output_type": "display_data"
    },
    {
     "name": "stdout",
     "output_type": "stream",
     "text": [
      "epoch      trn_loss   val_loss   accuracy                     \n",
      "    0      4.879172   4.801402   0.212191  \n",
      "    1      4.672455   4.653626   0.228902                     \n",
      "    2      4.554123   4.549286   0.23968                      \n",
      "    3      4.458433   4.476455   0.247213                     \n",
      "    4      4.419563   4.432238   0.252095                     \n",
      "\n"
     ]
    },
    {
     "data": {
      "text/plain": [
       "[4.432238157348019, 0.2520947202894453]"
      ]
     },
     "execution_count": 53,
     "metadata": {},
     "output_type": "execute_result"
    }
   ],
   "source": [
    "lrs = np.array([1e-4, *[5e-4]*6, 2e-3])\n",
    "learner.unfreeze()\n",
    "learner.clip = 5.\n",
    "learner.fit(lrs, n_cycle=1, wds=0, use_clr=(32,4), cycle_len=5)"
   ]
  },
  {
   "cell_type": "code",
   "execution_count": 54,
   "metadata": {
    "hidden": true
   },
   "outputs": [],
   "source": [
    "learner.save_encoder(\"lm1_enc\")"
   ]
  },
  {
   "cell_type": "code",
   "execution_count": 55,
   "metadata": {
    "hidden": true
   },
   "outputs": [],
   "source": [
    "learner.save(\"lm1\")"
   ]
  },
  {
   "cell_type": "code",
   "execution_count": 56,
   "metadata": {
    "hidden": true
   },
   "outputs": [],
   "source": [
    "del learner"
   ]
  },
  {
   "cell_type": "markdown",
   "metadata": {},
   "source": [
    "## 3-class Classifier\n",
    "As in https://zhuanlan.zhihu.com/p/27198713"
   ]
  },
  {
   "cell_type": "markdown",
   "metadata": {},
   "source": [
    "### Full Dataset (v1)"
   ]
  },
  {
   "cell_type": "code",
   "execution_count": 10,
   "metadata": {},
   "outputs": [],
   "source": [
    "n_toks, tokens_train, tokens_val, tokens_test = joblib.load(\"../data/cache/rating_unigram_tokens.pkl\")"
   ]
  },
  {
   "cell_type": "code",
   "execution_count": 11,
   "metadata": {},
   "outputs": [],
   "source": [
    "for df in (df_train, df_val, df_test):\n",
    "    df[\"label\"] = (df[\"rating\"] >= 3) * 1\n",
    "    df.loc[df.rating == 3, \"label\"] = 1\n",
    "    df.loc[df.rating > 3, \"label\"] = 2"
   ]
  },
  {
   "cell_type": "code",
   "execution_count": 12,
   "metadata": {},
   "outputs": [
    {
     "data": {
      "text/plain": [
       "2    240094\n",
       "1    184124\n",
       "0    104406\n",
       "Name: label, dtype: int64"
      ]
     },
     "execution_count": 12,
     "metadata": {},
     "output_type": "execute_result"
    }
   ],
   "source": [
    "df_train.label.value_counts()"
   ]
  },
  {
   "cell_type": "code",
   "execution_count": 13,
   "metadata": {},
   "outputs": [],
   "source": [
    "bs = 64\n",
    "trn_ds = TextDataset(tokens_train, df_train.label.values, max_seq_len=100)\n",
    "val_ds = TextDataset(tokens_val, df_val.label.values, max_seq_len=100)\n",
    "trn_samp = SortishSampler(tokens_train, key=lambda x: len(tokens_train[x]), bs=bs//2)\n",
    "val_samp = SortSampler(tokens_val, key=lambda x: len(tokens_val[x]))\n",
    "trn_dl = DataLoader(trn_ds, bs//2, transpose=False, num_workers=1, pad_idx=2, sampler=trn_samp)\n",
    "val_dl = DataLoader(val_ds, bs, transpose=False, num_workers=1, pad_idx=2, sampler=val_samp)\n",
    "model_data = ModelData(path, trn_dl, val_dl)"
   ]
  },
  {
   "cell_type": "code",
   "execution_count": 14,
   "metadata": {},
   "outputs": [],
   "source": [
    "model= get_transformer_classifier(\n",
    "    n_tok=n_toks, \n",
    "    emb_sz=EMB_DIM, \n",
    "    n_head=12, \n",
    "    n_layer=6, \n",
    "    n_ctx=100,\n",
    "    clf_layers=[EMB_DIM, 100, 3],\n",
    "    pad_token=2,\n",
    "    embd_pdrop=0.1,\n",
    "    attn_pdrop=0.1,\n",
    "    resid_pdrop=0.1,\n",
    "    clf_pdrop=[0.5, 0.2],\n",
    "    afn=\"gelu\"\n",
    ")    "
   ]
  },
  {
   "cell_type": "code",
   "execution_count": 15,
   "metadata": {},
   "outputs": [],
   "source": [
    "learn = TransformerLearner(\n",
    "    model_data, \n",
    "    TransformerTextModel(to_gpu(model)), \n",
    "    opt_fn=partial(torch.optim.Adam, betas=(0.8, 0.99)))\n",
    "learn.clip=2.\n",
    "learn.metrics = [accuracy]\n",
    "learn.load_encoder('lm1_enc')"
   ]
  },
  {
   "cell_type": "code",
   "execution_count": 16,
   "metadata": {},
   "outputs": [
    {
     "data": {
      "application/vnd.jupyter.widget-view+json": {
       "model_id": "823a56915f6a4cb2bc333a4fbd5fde5c",
       "version_major": 2,
       "version_minor": 0
      },
      "text/plain": [
       "HBox(children=(IntProgress(value=0, description='Epoch', max=1), HTML(value='')))"
      ]
     },
     "metadata": {},
     "output_type": "display_data"
    },
    {
     "name": "stdout",
     "output_type": "stream",
     "text": [
      "epoch      trn_loss   val_loss   accuracy                        \n",
      "    0      0.975933   0.933682   0.538863  \n",
      "\n"
     ]
    },
    {
     "data": {
      "text/plain": [
       "[0.9336821136666851, 0.5388631617179697]"
      ]
     },
     "execution_count": 16,
     "metadata": {},
     "output_type": "execute_result"
    }
   ],
   "source": [
    "lrs = np.array([1e-3 / 2 ** (7 - i) for i in range(8)])\n",
    "learn.freeze_to(-1)\n",
    "learn.fit(lrs, 1, wds=0, cycle_len=1, use_clr=(8,3))"
   ]
  },
  {
   "cell_type": "code",
   "execution_count": 17,
   "metadata": {},
   "outputs": [
    {
     "data": {
      "application/vnd.jupyter.widget-view+json": {
       "model_id": "0987e196b2014ff79a8b87a71599dbaa",
       "version_major": 2,
       "version_minor": 0
      },
      "text/plain": [
       "HBox(children=(IntProgress(value=0, description='Epoch', max=1), HTML(value='')))"
      ]
     },
     "metadata": {},
     "output_type": "display_data"
    },
    {
     "name": "stdout",
     "output_type": "stream",
     "text": [
      " 81%|████████  | 13390/16520 [15:56<03:43, 14.00it/s, loss=3.22]"
     ]
    },
    {
     "data": {
      "image/png": "[encoded data removed]",
      "text/plain": [
       "<Figure size 432x288 with 1 Axes>"
      ]
     },
     "metadata": {},
     "output_type": "display_data"
    }
   ],
   "source": [
    "lrs = np.array([1e-3 / 2 ** (7 - i) for i in range(8)])\n",
    "learn.unfreeze()\n",
    "learn.lr_find(lrs/1000)\n",
    "learn.sched.plot()"
   ]
  },
  {
   "cell_type": "code",
   "execution_count": 18,
   "metadata": {},
   "outputs": [
    {
     "data": {
      "application/vnd.jupyter.widget-view+json": {
       "model_id": "64d8a1c279fd46e2b364b455520bf6b2",
       "version_major": 2,
       "version_minor": 0
      },
      "text/plain": [
       "HBox(children=(IntProgress(value=0, description='Epoch', max=10), HTML(value='')))"
      ]
     },
     "metadata": {},
     "output_type": "display_data"
    },
    {
     "name": "stdout",
     "output_type": "stream",
     "text": [
      "epoch      trn_loss   val_loss   accuracy                        \n",
      "    0      0.816995   0.831963   0.614671  \n",
      "    1      0.793568   0.784209   0.63891                         \n",
      "    2      0.798699   0.772591   0.641293                        \n",
      "    3      0.755744   0.769108   0.648137                        \n",
      "    4      0.759209   0.764101   0.649647                        \n",
      "    5      0.72702    0.770679   0.651083                        \n",
      "    6      0.73225    0.775643   0.652082                        \n",
      "    7      0.706188   0.776128   0.651565                        \n",
      "    8      0.689349   0.798562   0.6532                          \n",
      "    9      0.67012    0.808373   0.652348                        \n"
     ]
    },
    {
     "data": {
      "text/plain": [
       "[0.8083732705896496, 0.6523483610278762]"
      ]
     },
     "execution_count": 18,
     "metadata": {},
     "output_type": "execute_result"
    }
   ],
   "source": [
    "learn.unfreeze()\n",
    "learn.fit(lrs, 1, wds=0, cycle_len=10, use_clr=(32,10))"
   ]
  },
  {
   "cell_type": "code",
   "execution_count": 21,
   "metadata": {},
   "outputs": [],
   "source": [
    "learn.save(\"clas_full\")"
   ]
  },
  {
   "cell_type": "markdown",
   "metadata": {},
   "source": [
    "#### Evaluate"
   ]
  },
  {
   "cell_type": "code",
   "execution_count": 22,
   "metadata": {},
   "outputs": [],
   "source": [
    "learn.load(\"clas_full\")\n",
    "learn.model.reset()"
   ]
  },
  {
   "cell_type": "code",
   "execution_count": 23,
   "metadata": {},
   "outputs": [
    {
     "data": {
      "application/vnd.jupyter.widget-view+json": {
       "model_id": "8cec3848286847d9a62eb9745ec582f8",
       "version_major": 2,
       "version_minor": 0
      },
      "text/plain": [
       "HBox(children=(IntProgress(value=0, max=2754), HTML(value='')))"
      ]
     },
     "metadata": {},
     "output_type": "display_data"
    }
   ],
   "source": [
    "learn.model.eval()\n",
    "preds, ys = [], []\n",
    "for x, y in tqdm_notebook(val_dl):\n",
    "    preds.append(np.argmax(learn.model(x).cpu().data.numpy(), axis=1))\n",
    "    ys.append(y.cpu().numpy())"
   ]
  },
  {
   "cell_type": "code",
   "execution_count": 24,
   "metadata": {},
   "outputs": [
    {
     "data": {
      "text/plain": [
       "((176208,), (176208,))"
      ]
     },
     "execution_count": 24,
     "metadata": {},
     "output_type": "execute_result"
    }
   ],
   "source": [
    "preds = np.concatenate(preds)\n",
    "ys = np.concatenate(ys)\n",
    "preds.shape, ys.shape"
   ]
  },
  {
   "cell_type": "code",
   "execution_count": 25,
   "metadata": {},
   "outputs": [
    {
     "data": {
      "text/plain": [
       "2    80031\n",
       "1    61374\n",
       "0    34803\n",
       "dtype: int64"
      ]
     },
     "execution_count": 25,
     "metadata": {},
     "output_type": "execute_result"
    }
   ],
   "source": [
    "pd.Series(ys).value_counts()"
   ]
  },
  {
   "cell_type": "code",
   "execution_count": 26,
   "metadata": {},
   "outputs": [
    {
     "data": {
      "text/plain": [
       "2    85925\n",
       "1    62542\n",
       "0    27741\n",
       "dtype: int64"
      ]
     },
     "execution_count": 26,
     "metadata": {},
     "output_type": "execute_result"
    }
   ],
   "source": [
    "pd.Series(preds).value_counts()"
   ]
  },
  {
   "cell_type": "code",
   "execution_count": 27,
   "metadata": {},
   "outputs": [
    {
     "data": {
      "text/plain": [
       "0.6523483610278762"
      ]
     },
     "execution_count": 27,
     "metadata": {},
     "output_type": "execute_result"
    }
   ],
   "source": [
    "np.sum(ys==preds) / ys.shape[0]"
   ]
  },
  {
   "cell_type": "code",
   "execution_count": 28,
   "metadata": {},
   "outputs": [
    {
     "data": {
      "text/plain": [
       "(array([    12,     15,     18, ..., 176198, 176202, 176207]),)"
      ]
     },
     "execution_count": 28,
     "metadata": {},
     "output_type": "execute_result"
    }
   ],
   "source": [
    "np.where(ys==0)"
   ]
  },
  {
   "cell_type": "code",
   "execution_count": 29,
   "metadata": {},
   "outputs": [
    {
     "data": {
      "text/plain": [
       "array([   1,  296,    4, 5142,    3, 1195,   13,   20,   16,    5, 3497,  326,    8,    3,   15,   82,  179])"
      ]
     },
     "execution_count": 29,
     "metadata": {},
     "output_type": "execute_result"
    }
   ],
   "source": [
    "tokens_val[176196]"
   ]
  },
  {
   "cell_type": "code",
   "execution_count": 30,
   "metadata": {},
   "outputs": [
    {
     "data": {
      "text/plain": [
       "('如此 的 欺骗 , 或许 我 也 就 释然 了 , 有 什么 呢', '如此 的 欺骗 ， 或许 我 也 就 释然 了 ， 有 什么 呢')"
      ]
     },
     "execution_count": 30,
     "metadata": {},
     "output_type": "execute_result"
    }
   ],
   "source": [
    "sp.DecodeIds(tokens_val[176196].tolist()), df_val[\"comment\"].iloc[176196]"
   ]
  },
  {
   "cell_type": "code",
   "execution_count": 45,
   "metadata": {},
   "outputs": [],
   "source": [
    "def get_prediction(texts):\n",
    "    input_tensor = T(np.array([1] + sp.EncodeAsIds(texts))).unsqueeze(0)[:, :100]\n",
    "    return learn.model(input_tensor)[0].data.cpu().numpy()"
   ]
  },
  {
   "cell_type": "code",
   "execution_count": 35,
   "metadata": {},
   "outputs": [
    {
     "data": {
      "text/plain": [
       "array([-0.93497,  1.06628, -1.21033], dtype=float32)"
      ]
     },
     "execution_count": 35,
     "metadata": {},
     "output_type": "execute_result"
    }
   ],
   "source": [
    "get_prediction(\"看 了 快 一半 了 才 发现 是 mini 的 广告\")"
   ]
  },
  {
   "cell_type": "code",
   "execution_count": 36,
   "metadata": {},
   "outputs": [
    {
     "data": {
      "text/plain": [
       "array([-2.82742, -1.15121,  3.01437], dtype=float32)"
      ]
     },
     "execution_count": 36,
     "metadata": {},
     "output_type": "execute_result"
    }
   ],
   "source": [
    "get_prediction(\"妈蛋 ， 简直 太 好看 了 。 最后 的 DJ battle 部分 ， 兴奋 的 我 ， 简直 想 从 座位 上 站 起来 一起 扭\")"
   ]
  },
  {
   "cell_type": "code",
   "execution_count": 37,
   "metadata": {},
   "outputs": [
    {
     "data": {
      "text/plain": [
       "array([-0.88522,  0.78842, -0.64733], dtype=float32)"
      ]
     },
     "execution_count": 37,
     "metadata": {},
     "output_type": "execute_result"
    }
   ],
   "source": [
    "get_prediction(\"说 实话 我 没 怎么 认真 看 ， 电影院 里 的 熊 孩子 太 闹腾 了 ， 前面 的 小奶娃 还 时不时 站 \"\n",
    "               \"在 老爸 腿上 蹦迪 ， 观影 体验 极差 ， 不过 小朋友 应该 挺 喜欢 的\")"
   ]
  },
  {
   "cell_type": "code",
   "execution_count": 38,
   "metadata": {},
   "outputs": [
    {
     "data": {
      "text/plain": [
       "array([-2.91495, -1.00263,  3.00592], dtype=float32)"
      ]
     },
     "execution_count": 38,
     "metadata": {},
     "output_type": "execute_result"
    }
   ],
   "source": [
    "get_prediction(\"这 电影 太 好笑 了 ， 说好 的 高科技 人才 研制 的 产品 永远 在 关键 时候 失灵 \"\n",
    "               \"； 特地 飞 到 泰国 请来 救援 人才 ， 大家 研究 出 的 方法 每次 都是 先 给 鲨鱼 \"\n",
    "               \"当 诱饵 … … 显然 这样 的 对战 坚持不了 多久 ， 只能 赶紧 让 鲨鱼 输 了 。\")"
   ]
  },
  {
   "cell_type": "code",
   "execution_count": 39,
   "metadata": {},
   "outputs": [
    {
     "data": {
      "text/plain": [
       "array([-2.69502,  0.99664,  0.95434], dtype=float32)"
      ]
     },
     "execution_count": 39,
     "metadata": {},
     "output_type": "execute_result"
    }
   ],
   "source": [
    "get_prediction(\"太 接地气 了 ， 在 三亚 煮饺子 式 的 景区 海域 ， 冒出来 一条 大 鲨鱼 \"\n",
    "               \"… … 爽点 也 很 密集 ， 郭达森 与 李冰冰 的 CP 感 不错 ， 编剧 果然 是 \"\n",
    "               \"老外 ， 中文 台词 有点 尬 。\")"
   ]
  },
  {
   "cell_type": "code",
   "execution_count": 40,
   "metadata": {},
   "outputs": [
    {
     "data": {
      "text/plain": [
       "array([-0.37585,  0.40224, -0.51943], dtype=float32)"
      ]
     },
     "execution_count": 40,
     "metadata": {},
     "output_type": "execute_result"
    }
   ],
   "source": [
    "get_prediction(\"李冰冰 的 脸 真的 很 紧绷 ， 比 鲨鱼 的 脸 还 绷 。\")"
   ]
  },
  {
   "cell_type": "code",
   "execution_count": 41,
   "metadata": {},
   "outputs": [
    {
     "data": {
      "text/plain": [
       "array([ 1.09429, -0.15851, -0.8539 ], dtype=float32)"
      ]
     },
     "execution_count": 41,
     "metadata": {},
     "output_type": "execute_result"
    }
   ],
   "source": [
    "get_prediction(\"太 难 了 。 。 。\")"
   ]
  },
  {
   "cell_type": "code",
   "execution_count": 42,
   "metadata": {},
   "outputs": [
    {
     "data": {
      "text/plain": [
       "array([ 1.50037, -0.74921, -0.08398], dtype=float32)"
      ]
     },
     "execution_count": 42,
     "metadata": {},
     "output_type": "execute_result"
    }
   ],
   "source": [
    "get_prediction(\"把 我 基神 写成 智障 ， 辣鸡 mcu\")"
   ]
  },
  {
   "cell_type": "code",
   "execution_count": 46,
   "metadata": {},
   "outputs": [
    {
     "data": {
      "text/plain": [
       "array([ 0.00563,  1.18905, -2.86299], dtype=float32)"
      ]
     },
     "execution_count": 46,
     "metadata": {},
     "output_type": "execute_result"
    }
   ],
   "source": [
    "get_prediction(\"鲨鱼 部分 还是 不错 的 ， 尤其 是 中段 第一次 出海 捕鲨 非常 刺激 ， 其后 急速 下滑 ， \"\n",
    "               \"三亚 那 部分 拍得 是什么 鬼 。 。 。 爆米花 片 可以 适度 的 蠢 ， 但 人类 反派 炸鲨 \"\n",
    "               \"和 直升机 相撞 部分 简直 蠢得 太过份 了 吧 ？ 另外 充满 硬 加戏 视感 的 尴尬 感情戏 \"\n",
    "               \"把 节奏 也 拖垮 了 ， 明明 可以 更 出色 ， 却 很遗憾 地 止步 在 马马虎虎 的 水平 。 6 / 10\")"
   ]
  },
  {
   "cell_type": "code",
   "execution_count": 47,
   "metadata": {},
   "outputs": [
    {
     "data": {
      "text/plain": [
       "array([-3.23207,  0.19572,  2.10121], dtype=float32)"
      ]
     },
     "execution_count": 47,
     "metadata": {},
     "output_type": "execute_result"
    }
   ],
   "source": [
    "get_prediction(\"老冰冰 真的 很努力 ！ 为 老冰冰 实现 了 她 的 好莱坞 女主梦 鼓掌 . . .\")"
   ]
  },
  {
   "cell_type": "code",
   "execution_count": 48,
   "metadata": {},
   "outputs": [
    {
     "data": {
      "text/plain": [
       "array([ 0.64459,  0.7838 , -2.75728], dtype=float32)"
      ]
     },
     "execution_count": 48,
     "metadata": {},
     "output_type": "execute_result"
    }
   ],
   "source": [
    "get_prediction(\"结局 简直 丧 出 天际 ！ 灭霸 竟然 有 内心戏 ！ 全程 下来 美队 \"\n",
    "               \"和 钢铁侠 也 没 见上 一面 ， 我 还 以为 在 世界 末日 前 必然 \"\n",
    "               \"要 重修 旧好 了 ！ \")"
   ]
  },
  {
   "cell_type": "code",
   "execution_count": 49,
   "metadata": {},
   "outputs": [
    {
     "data": {
      "text/plain": [
       "array([ 3.03603, -0.7962 , -2.12671], dtype=float32)"
      ]
     },
     "execution_count": 49,
     "metadata": {},
     "output_type": "execute_result"
    }
   ],
   "source": [
    "get_prediction(\"太 烂 了 ， 难看 至极 。\")"
   ]
  },
  {
   "cell_type": "code",
   "execution_count": 50,
   "metadata": {},
   "outputs": [
    {
     "data": {
      "text/plain": [
       "array([ 1.26615,  0.62203, -3.12839], dtype=float32)"
      ]
     },
     "execution_count": 50,
     "metadata": {},
     "output_type": "execute_result"
    }
   ],
   "source": [
    "get_prediction(\"看完 之后 很 生气 ！ 剧情 太差 了\")"
   ]
  },
  {
   "cell_type": "code",
   "execution_count": 51,
   "metadata": {},
   "outputs": [
    {
     "data": {
      "text/plain": [
       "array([ 1.49094,  0.3343 , -2.50171], dtype=float32)"
      ]
     },
     "execution_count": 51,
     "metadata": {},
     "output_type": "execute_result"
    }
   ],
   "source": [
    "get_prediction(\"关键点 都 好傻 ， 我 知道 你 要拍 续集 ， \"\n",
    "               \"我 知道 未来 可以 被 重写 ， 但 那 一拳 真的 有点 傻 。\")"
   ]
  },
  {
   "cell_type": "code",
   "execution_count": 52,
   "metadata": {},
   "outputs": [
    {
     "data": {
      "text/plain": [
       "array([-3.35765, -0.12141,  2.46626], dtype=float32)"
      ]
     },
     "execution_count": 52,
     "metadata": {},
     "output_type": "execute_result"
    }
   ],
   "source": [
    "get_prediction(\"好了 可以 了 。 再也 不看 Marvel 了 。 我 努力 过 了 。 实在 是 。 。 啥呀 这是 。 🙄️\")"
   ]
  },
  {
   "cell_type": "code",
   "execution_count": 53,
   "metadata": {},
   "outputs": [
    {
     "data": {
      "text/plain": [
       "array([ 2.26484, -0.33687, -1.69309], dtype=float32)"
      ]
     },
     "execution_count": 53,
     "metadata": {},
     "output_type": "execute_result"
    }
   ],
   "source": [
    "get_prediction(\"还 我 电影票 14 元\")"
   ]
  },
  {
   "cell_type": "code",
   "execution_count": 54,
   "metadata": {},
   "outputs": [
    {
     "name": "stdout",
     "output_type": "stream",
     "text": [
      "Confusion matrix, without normalization\n",
      "[[19016 11708  4079]\n",
      " [ 6643 34409 20322]\n",
      " [ 2082 16425 61524]]\n"
     ]
    },
    {
     "data": {
      "image/png": "[encoded data removed]",
      "text/plain": [
       "<Figure size 432x288 with 2 Axes>"
      ]
     },
     "metadata": {},
     "output_type": "display_data"
    }
   ],
   "source": [
    "cnf_matrix = confusion_matrix(ys, preds)\n",
    "np.set_printoptions(precision=2)\n",
    "\n",
    "# Plot non-normalized confusion matrix\n",
    "plt.figure()\n",
    "plot_confusion_matrix(\n",
    "    cnf_matrix, classes=[0, 1, 2],\n",
    "    title='Confusion matrix, without normalization')"
   ]
  },
  {
   "cell_type": "code",
   "execution_count": 55,
   "metadata": {},
   "outputs": [
    {
     "name": "stdout",
     "output_type": "stream",
     "text": [
      "Normalized confusion matrix\n",
      "[[0.55 0.34 0.12]\n",
      " [0.11 0.56 0.33]\n",
      " [0.03 0.21 0.77]]\n"
     ]
    },
    {
     "data": {
      "image/png": "[encoded data removed]",
      "text/plain": [
       "<Figure size 432x288 with 2 Axes>"
      ]
     },
     "metadata": {},
     "output_type": "display_data"
    }
   ],
   "source": [
    "plot_confusion_matrix(\n",
    "    cnf_matrix, classes=[0, 1, 2], normalize=True,\n",
    "    title='Confusion matrix, without normalization')"
   ]
  },
  {
   "cell_type": "code",
   "execution_count": 56,
   "metadata": {},
   "outputs": [
    {
     "name": "stdout",
     "output_type": "stream",
     "text": [
      "Class 0: P 69%, R 55%, FS 0.61, Support: 34803\n",
      "Class 1: P 55%, R 56%, FS 0.56, Support: 61374\n",
      "Class 2: P 72%, R 77%, FS 0.74, Support: 80031\n"
     ]
    }
   ],
   "source": [
    "precision, recall, fscore, support = precision_recall_fscore_support(ys, preds)\n",
    "for i in range(3):\n",
    "    print(f\"Class {i}: P {precision[i]*100:.0f}%, R {recall[i]*100:.0f}%, FS {fscore[i]:.2f}, Support: {support[i]}\")"
   ]
  },
  {
   "cell_type": "code",
   "execution_count": 60,
   "metadata": {},
   "outputs": [],
   "source": [
    "test_ds = TextDataset(tokens_test, df_test.label.values, max_seq_len=100)\n",
    "test_samp = SortSampler(tokens_test, key=lambda x: len(tokens_test[x]))\n",
    "test_dl = DataLoader(test_ds, bs, transpose=False, num_workers=1, pad_idx=0, sampler=test_samp)"
   ]
  },
  {
   "cell_type": "code",
   "execution_count": 61,
   "metadata": {},
   "outputs": [
    {
     "data": {
      "application/vnd.jupyter.widget-view+json": {
       "model_id": "70def5beedf0424d9cc805ef8841dd97",
       "version_major": 2,
       "version_minor": 0
      },
      "text/plain": [
       "HBox(children=(IntProgress(value=0, max=2754), HTML(value='')))"
      ]
     },
     "metadata": {},
     "output_type": "display_data"
    }
   ],
   "source": [
    "learn.model.eval()\n",
    "preds, ys = [], []\n",
    "for x, y in tqdm_notebook(test_dl):\n",
    "    preds.append(np.argmax(learn.model(x).cpu().data.numpy(), axis=1))\n",
    "    ys.append(y.cpu().numpy())"
   ]
  },
  {
   "cell_type": "code",
   "execution_count": 62,
   "metadata": {},
   "outputs": [
    {
     "data": {
      "text/plain": [
       "((176209,), (176209,))"
      ]
     },
     "execution_count": 62,
     "metadata": {},
     "output_type": "execute_result"
    }
   ],
   "source": [
    "preds = np.concatenate(preds)\n",
    "ys = np.concatenate(ys)\n",
    "preds.shape, ys.shape"
   ]
  },
  {
   "cell_type": "code",
   "execution_count": 63,
   "metadata": {},
   "outputs": [
    {
     "data": {
      "text/plain": [
       "0.6509769648542356"
      ]
     },
     "execution_count": 63,
     "metadata": {},
     "output_type": "execute_result"
    }
   ],
   "source": [
    "np.sum(ys==preds) / ys.shape[0]"
   ]
  },
  {
   "cell_type": "code",
   "execution_count": 64,
   "metadata": {},
   "outputs": [
    {
     "name": "stdout",
     "output_type": "stream",
     "text": [
      "Confusion matrix, without normalization\n",
      "[[18776 11889  4137]\n",
      " [ 6787 34280 20308]\n",
      " [ 2065 16315 61652]]\n"
     ]
    },
    {
     "data": {
      "image/png": "[encoded data removed]",
      "text/plain": [
       "<Figure size 432x288 with 2 Axes>"
      ]
     },
     "metadata": {},
     "output_type": "display_data"
    }
   ],
   "source": [
    "cnf_matrix = confusion_matrix(ys, preds)\n",
    "np.set_printoptions(precision=2)\n",
    "\n",
    "# Plot non-normalized confusion matrix\n",
    "plt.figure()\n",
    "plot_confusion_matrix(\n",
    "    cnf_matrix, classes=[0, 1, 2],\n",
    "    title='Confusion matrix, without normalization')"
   ]
  },
  {
   "cell_type": "code",
   "execution_count": 65,
   "metadata": {},
   "outputs": [
    {
     "name": "stdout",
     "output_type": "stream",
     "text": [
      "Normalized confusion matrix\n",
      "[[0.54 0.34 0.12]\n",
      " [0.11 0.56 0.33]\n",
      " [0.03 0.2  0.77]]\n"
     ]
    },
    {
     "data": {
      "image/png": "[encoded data removed]",
      "text/plain": [
       "<Figure size 432x288 with 2 Axes>"
      ]
     },
     "metadata": {},
     "output_type": "display_data"
    }
   ],
   "source": [
    "plot_confusion_matrix(\n",
    "    cnf_matrix, classes=[0, 1, 2], normalize=True,\n",
    "    title='Confusion matrix, without normalization')"
   ]
  },
  {
   "cell_type": "code",
   "execution_count": 66,
   "metadata": {},
   "outputs": [
    {
     "name": "stdout",
     "output_type": "stream",
     "text": [
      "Class 0: P 68%, R 54%, FS 0.60, Support: 34802\n",
      "Class 1: P 55%, R 56%, FS 0.55, Support: 61375\n",
      "Class 2: P 72%, R 77%, FS 0.74, Support: 80032\n"
     ]
    }
   ],
   "source": [
    "from sklearn.metrics import precision_recall_fscore_support\n",
    "precision, recall, fscore, support = precision_recall_fscore_support(ys, preds)\n",
    "for i in range(3):\n",
    "    print(f\"Class {i}: P {precision[i]*100:.0f}%, R {recall[i]*100:.0f}%, FS {fscore[i]:.2f}, Support: {support[i]}\")"
   ]
  },
  {
   "cell_type": "markdown",
   "metadata": {
    "heading_collapsed": true
   },
   "source": [
    "### Smaller Dataset "
   ]
  },
  {
   "cell_type": "code",
   "execution_count": 10,
   "metadata": {
    "hidden": true
   },
   "outputs": [],
   "source": [
    "n_toks, tokens_train, tokens_val, tokens_test = joblib.load(\"../data/cache/rating_unigram_tokens.pkl\")"
   ]
  },
  {
   "cell_type": "code",
   "execution_count": 11,
   "metadata": {
    "hidden": true
   },
   "outputs": [],
   "source": [
    "for df in (df_train, df_val, df_test):\n",
    "    df[\"label\"] = (df[\"rating\"] >= 3) * 1\n",
    "    df.loc[df.rating == 3, \"label\"] = 1\n",
    "    df.loc[df.rating > 3, \"label\"] = 2"
   ]
  },
  {
   "cell_type": "code",
   "execution_count": 12,
   "metadata": {
    "hidden": true
   },
   "outputs": [],
   "source": [
    "df_train.reset_index(drop=True, inplace=True)\n",
    "df_val.reset_index(drop=True, inplace=True)"
   ]
  },
  {
   "cell_type": "code",
   "execution_count": 13,
   "metadata": {
    "hidden": true
   },
   "outputs": [],
   "source": [
    "df_train_small = pd.concat([\n",
    "    df_train[df_train.label==0].sample(15000),\n",
    "    df_train[df_train.label==1].sample(15000),\n",
    "    df_train[df_train.label==2].sample(15000)\n",
    "], axis=0)\n",
    "df_val_small = pd.concat([\n",
    "    df_val[df_val.label==0].sample(5000),\n",
    "    df_val[df_val.label==1].sample(5000),\n",
    "    df_val[df_val.label==2].sample(5000)\n",
    "], axis=0)"
   ]
  },
  {
   "cell_type": "code",
   "execution_count": 14,
   "metadata": {
    "hidden": true
   },
   "outputs": [
    {
     "data": {
      "text/plain": [
       "array([116109, 242673, 456939, ..., 292281, 226809, 508226])"
      ]
     },
     "execution_count": 14,
     "metadata": {},
     "output_type": "execute_result"
    }
   ],
   "source": [
    "np.array(df_train_small.index)"
   ]
  },
  {
   "cell_type": "code",
   "execution_count": 15,
   "metadata": {
    "hidden": true
   },
   "outputs": [],
   "source": [
    "bs = 64\n",
    "tokens_train_small = np.array(tokens_train)[np.array(df_train_small.index)]\n",
    "tokens_val_small = np.array(tokens_val)[np.array(df_val_small.index)]\n",
    "trn_ds = TextDataset(tokens_train_small, df_train_small.label.values, max_seq_len=100)\n",
    "val_ds = TextDataset(tokens_val_small, df_val_small.label.values, max_seq_len=100)\n",
    "trn_samp = SortishSampler(tokens_train_small, key=lambda x: len(tokens_train_small[x]), bs=bs//2)\n",
    "val_samp = SortSampler(tokens_val_small, key=lambda x: len(tokens_val_small[x]))\n",
    "# trn_dl = FixedLengthDataLoader(\n",
    "#     trn_ds, batch_size=bs//2, seq_length=100, transpose=False, num_workers=1, pad_idx=2, sampler=trn_samp)\n",
    "# val_dl = FixedLengthDataLoader(\n",
    "#     val_ds, batch_size=bs, seq_length=100, transpose=False, num_workers=1, pad_idx=2, sampler=val_samp)\n",
    "trn_dl = DataLoader(trn_ds, batch_size=bs//2, transpose=False, num_workers=1, pad_idx=2, sampler=trn_samp)\n",
    "val_dl = DataLoader(val_ds, batch_size=bs, transpose=False, num_workers=1, pad_idx=2, sampler=val_samp)\n",
    "model_data = ModelData(path, trn_dl, val_dl)"
   ]
  },
  {
   "cell_type": "code",
   "execution_count": 16,
   "metadata": {
    "hidden": true
   },
   "outputs": [],
   "source": [
    "model= get_transformer_classifier(\n",
    "    n_tok=n_toks, \n",
    "    emb_sz=EMB_DIM, \n",
    "    n_head=12, \n",
    "    n_layer=6, \n",
    "    n_ctx=100,\n",
    "    clf_layers=[EMB_DIM, 100, 3],\n",
    "    pad_token=2,\n",
    "    embd_pdrop=0.1,\n",
    "    attn_pdrop=0.2,\n",
    "    resid_pdrop=0.2,\n",
    "    clf_pdrop=[0.5, 0.2],\n",
    "    afn=\"gelu\"\n",
    ")"
   ]
  },
  {
   "cell_type": "code",
   "execution_count": 17,
   "metadata": {
    "hidden": true
   },
   "outputs": [],
   "source": [
    "learn = TransformerLearner(\n",
    "    model_data, \n",
    "    TransformerTextModel(to_gpu(model)), \n",
    "    opt_fn=partial(torch.optim.Adam, betas=(0.8, 0.99)))\n",
    "learn.clip=25\n",
    "learn.metrics = [accuracy]\n",
    "learn.load_encoder('lm1_enc')"
   ]
  },
  {
   "cell_type": "code",
   "execution_count": 18,
   "metadata": {
    "hidden": true
   },
   "outputs": [
    {
     "data": {
      "application/vnd.jupyter.widget-view+json": {
       "model_id": "dd74b4279bb94f2eb72cdfc80c7e8797",
       "version_major": 2,
       "version_minor": 0
      },
      "text/plain": [
       "HBox(children=(IntProgress(value=0, description='Epoch', max=1), HTML(value='')))"
      ]
     },
     "metadata": {},
     "output_type": "display_data"
    },
    {
     "name": "stdout",
     "output_type": "stream",
     "text": [
      "epoch      trn_loss   val_loss   accuracy                     \n",
      "    0      1.076279   1.014316   0.4822    \n",
      "\n"
     ]
    },
    {
     "data": {
      "text/plain": [
       "[1.0143162530899048, 0.4822000000158946]"
      ]
     },
     "execution_count": 18,
     "metadata": {},
     "output_type": "execute_result"
    }
   ],
   "source": [
    "learn.freeze_to(-1)\n",
    "lrs = np.array([2e-4, *[5e-4]*6, 1e-3])\n",
    "learn.fit(lrs, 1, wds=1e-5, cycle_len=1, use_clr=(8,3), use_wd_sched=True)"
   ]
  },
  {
   "cell_type": "code",
   "execution_count": 21,
   "metadata": {
    "hidden": true
   },
   "outputs": [
    {
     "data": {
      "application/vnd.jupyter.widget-view+json": {
       "model_id": "540cee4ddbd44a29a26d87fcbbb11083",
       "version_major": 2,
       "version_minor": 0
      },
      "text/plain": [
       "HBox(children=(IntProgress(value=0, description='Epoch', max=1), HTML(value='')))"
      ]
     },
     "metadata": {},
     "output_type": "display_data"
    },
    {
     "name": "stdout",
     "output_type": "stream",
     "text": [
      " 79%|███████▉  | 1111/1407 [01:27<00:23, 12.67it/s, loss=3.87]"
     ]
    },
    {
     "data": {
      "image/png": "[encoded data removed]",
      "text/plain": [
       "<Figure size 432x288 with 1 Axes>"
      ]
     },
     "metadata": {},
     "output_type": "display_data"
    }
   ],
   "source": [
    "lrs = np.array([1e-4, *[1e-4]*6, 2e-4])\n",
    "learn.unfreeze()\n",
    "learn.lr_find(lrs/100)\n",
    "learn.sched.plot()"
   ]
  },
  {
   "cell_type": "code",
   "execution_count": 22,
   "metadata": {
    "hidden": true
   },
   "outputs": [
    {
     "data": {
      "application/vnd.jupyter.widget-view+json": {
       "model_id": "a8e13c99c0404d5ab8503eae9e7e8d2f",
       "version_major": 2,
       "version_minor": 0
      },
      "text/plain": [
       "HBox(children=(IntProgress(value=0, description='Epoch', max=8), HTML(value='')))"
      ]
     },
     "metadata": {},
     "output_type": "display_data"
    },
    {
     "name": "stdout",
     "output_type": "stream",
     "text": [
      "epoch      trn_loss   val_loss   accuracy                      \n",
      "    0      0.954783   0.91678    0.555333  \n",
      "    1      0.905701   0.916583   0.562533                      \n",
      "    2      0.88402    0.883497   0.586533                      \n",
      "    3      0.843824   0.883794   0.589                         \n",
      "    4      0.811115   0.879617   0.592467                      \n",
      "    5      0.817176   0.87323    0.597933                      \n",
      "    6      0.785547   0.888924   0.593533                      \n",
      "    7      0.758039   0.907905   0.597333                      \n"
     ]
    },
    {
     "data": {
      "text/plain": [
       "[0.9079052782694499, 0.5973333333651225]"
      ]
     },
     "execution_count": 22,
     "metadata": {},
     "output_type": "execute_result"
    }
   ],
   "source": [
    "lrs = np.array([1e-4, *[1e-4]*6,2e-4])\n",
    "learn.unfreeze()\n",
    "learn.fit(lrs, 1, wds=1e-5, cycle_len=8, use_clr=(16,4), use_wd_sched=True)"
   ]
  },
  {
   "cell_type": "code",
   "execution_count": 23,
   "metadata": {
    "hidden": true
   },
   "outputs": [],
   "source": [
    "learn.save(\"clas_small_full\")"
   ]
  },
  {
   "cell_type": "code",
   "execution_count": 24,
   "metadata": {
    "hidden": true
   },
   "outputs": [],
   "source": [
    "learn.model.eval()\n",
    "preds, ys = [], []\n",
    "for x, y in val_dl:\n",
    "    preds.append(np.argmax(learn.model(x).cpu().data.numpy(), axis=1))\n",
    "    ys.append(y.cpu().numpy())"
   ]
  },
  {
   "cell_type": "code",
   "execution_count": 25,
   "metadata": {
    "hidden": true
   },
   "outputs": [
    {
     "data": {
      "text/plain": [
       "((15000,), (15000,))"
      ]
     },
     "execution_count": 25,
     "metadata": {},
     "output_type": "execute_result"
    }
   ],
   "source": [
    "preds = np.concatenate(preds)\n",
    "ys = np.concatenate(ys)\n",
    "preds.shape, ys.shape"
   ]
  },
  {
   "cell_type": "code",
   "execution_count": 26,
   "metadata": {
    "hidden": true
   },
   "outputs": [
    {
     "data": {
      "text/plain": [
       "0.5973333333333334"
      ]
     },
     "execution_count": 26,
     "metadata": {},
     "output_type": "execute_result"
    }
   ],
   "source": [
    "np.sum(preds==ys) / preds.shape[0]"
   ]
  },
  {
   "cell_type": "code",
   "execution_count": 27,
   "metadata": {
    "hidden": true
   },
   "outputs": [
    {
     "name": "stdout",
     "output_type": "stream",
     "text": [
      "Normalized confusion matrix\n",
      "[[0.68 0.22 0.1 ]\n",
      " [0.25 0.44 0.31]\n",
      " [0.1  0.23 0.68]]\n"
     ]
    },
    {
     "data": {
      "image/png": "[encoded data removed]",
      "text/plain": [
       "<Figure size 432x288 with 2 Axes>"
      ]
     },
     "metadata": {},
     "output_type": "display_data"
    }
   ],
   "source": [
    "cnf_matrix = confusion_matrix(ys, preds)\n",
    "np.set_printoptions(precision=2)\n",
    "plot_confusion_matrix(\n",
    "    cnf_matrix, classes=[0, 1, 2], normalize=True,\n",
    "    title='Confusion matrix, without normalization')"
   ]
  },
  {
   "cell_type": "code",
   "execution_count": 30,
   "metadata": {
    "hidden": true
   },
   "outputs": [],
   "source": [
    "test_ds = TextDataset(tokens_test, df_test.label.values, max_seq_len=100)\n",
    "test_samp = SortSampler(tokens_test, key=lambda x: len(tokens_test[x]))\n",
    "test_dl = DataLoader(test_ds, bs, transpose=False, num_workers=1, pad_idx=2, sampler=test_samp)"
   ]
  },
  {
   "cell_type": "code",
   "execution_count": 31,
   "metadata": {
    "hidden": true
   },
   "outputs": [
    {
     "data": {
      "application/vnd.jupyter.widget-view+json": {
       "model_id": "778bc41537454092aa03a08dc4a1e7a8",
       "version_major": 2,
       "version_minor": 0
      },
      "text/plain": [
       "HBox(children=(IntProgress(value=0, max=2754), HTML(value='')))"
      ]
     },
     "metadata": {},
     "output_type": "display_data"
    }
   ],
   "source": [
    "learn.model.eval()\n",
    "preds, ys = [], []\n",
    "for x, y in tqdm_notebook(test_dl):\n",
    "    preds.append(np.argmax(learn.model(x).cpu().data.numpy(), axis=1))\n",
    "    ys.append(y.cpu().numpy())"
   ]
  },
  {
   "cell_type": "code",
   "execution_count": 32,
   "metadata": {
    "hidden": true
   },
   "outputs": [
    {
     "name": "stdout",
     "output_type": "stream",
     "text": [
      "(176209,) (176209,)\n"
     ]
    },
    {
     "data": {
      "text/plain": [
       "0.5993223955643582"
      ]
     },
     "execution_count": 32,
     "metadata": {},
     "output_type": "execute_result"
    }
   ],
   "source": [
    "preds = np.concatenate(preds)\n",
    "ys = np.concatenate(ys)\n",
    "print(preds.shape, ys.shape)\n",
    "np.sum(preds==ys) / preds.shape[0]"
   ]
  },
  {
   "cell_type": "code",
   "execution_count": 33,
   "metadata": {
    "hidden": true
   },
   "outputs": [
    {
     "name": "stdout",
     "output_type": "stream",
     "text": [
      "Normalized confusion matrix\n",
      "[[0.68 0.21 0.11]\n",
      " [0.25 0.45 0.29]\n",
      " [0.1  0.23 0.68]]\n"
     ]
    },
    {
     "data": {
      "image/png": "[encoded data removed]",
      "text/plain": [
       "<Figure size 432x288 with 2 Axes>"
      ]
     },
     "metadata": {},
     "output_type": "display_data"
    }
   ],
   "source": [
    "cnf_matrix = confusion_matrix(ys, preds)\n",
    "np.set_printoptions(precision=2)\n",
    "plot_confusion_matrix(\n",
    "    cnf_matrix, classes=[0, 1, 2], normalize=True,\n",
    "    title='Confusion matrix, without normalization')"
   ]
  },
  {
   "cell_type": "code",
   "execution_count": 34,
   "metadata": {
    "hidden": true
   },
   "outputs": [
    {
     "name": "stdout",
     "output_type": "stream",
     "text": [
      "Class 0: P 50%, R 68%, FS 0.58, Support: 34802\n",
      "Class 1: P 52%, R 45%, FS 0.49, Support: 61375\n",
      "Class 2: P 71%, R 68%, FS 0.69, Support: 80032\n"
     ]
    }
   ],
   "source": [
    "precision, recall, fscore, support = precision_recall_fscore_support(ys, preds)\n",
    "for i in range(3):\n",
    "    print(f\"Class {i}: P {precision[i]*100:.0f}%, R {recall[i]*100:.0f}%, FS {fscore[i]:.2f}, Support: {support[i]}\")"
   ]
  },
  {
   "cell_type": "markdown",
   "metadata": {
    "heading_collapsed": true
   },
   "source": [
    "## Regressor"
   ]
  },
  {
   "cell_type": "code",
   "execution_count": 57,
   "metadata": {
    "hidden": true
   },
   "outputs": [],
   "source": [
    "n_toks, tokens_train, tokens_val, tokens_test = joblib.load(\"../data/cache/rating_unigram_tokens.pkl\")"
   ]
  },
  {
   "cell_type": "code",
   "execution_count": 36,
   "metadata": {
    "hidden": true
   },
   "outputs": [],
   "source": [
    "bs = 128\n",
    "trn_ds = TextDataset(tokens_train, df_train.rating.values.astype(\"float32\"), max_seq_len=100)\n",
    "val_ds = TextDataset(tokens_val, df_val.rating.values.astype(\"float32\"), max_seq_len=100)\n",
    "trn_samp = SortishSampler(tokens_train, key=lambda x: len(tokens_train[x]), bs=bs//2)\n",
    "val_samp = SortSampler(tokens_val, key=lambda x: len(tokens_val[x]))\n",
    "# trn_dl = FixedLengthDataLoader(trn_ds, seq_length=100, batch_size=bs//2, transpose=False, num_workers=1, pad_idx=2, sampler=trn_samp)\n",
    "# val_dl = FixedLengthDataLoader(val_ds, seq_length=100, batch_size=bs, transpose=False, num_workers=1, pad_idx=2, sampler=val_samp)\n",
    "trn_dl = DataLoader(trn_ds, batch_size=bs//2, transpose=False, num_workers=1, pad_idx=2, sampler=trn_samp)\n",
    "val_dl = DataLoader(val_ds, batch_size=bs, transpose=False, num_workers=1, pad_idx=2, sampler=val_samp)\n",
    "model_data = ModelData(path, trn_dl, val_dl)"
   ]
  },
  {
   "cell_type": "code",
   "execution_count": 37,
   "metadata": {
    "hidden": true
   },
   "outputs": [
    {
     "data": {
      "text/plain": [
       "torch.Size([64, 100])"
      ]
     },
     "execution_count": 37,
     "metadata": {},
     "output_type": "execute_result"
    }
   ],
   "source": [
    "tmp = next(iter(trn_dl))\n",
    "tmp[0].size()"
   ]
  },
  {
   "cell_type": "code",
   "execution_count": 38,
   "metadata": {
    "hidden": true
   },
   "outputs": [
    {
     "data": {
      "text/plain": [
       "tensor([   1,  199,   22,   16,   99,  879,    4,  826,    5,    0, 2366,    6,\n",
       "        2974,    3, 1098, 1724,    9,   39,  801, 3143, 5290,    3, 1038,   20,\n",
       "        2046,    9, 1325,    4,   10,  239, 1008, 2752,    3, 1177,  103,   19,\n",
       "         343, 1488,    3,  184, 2342,    8,   88,    4, 6632, 2591, 3222,  114,\n",
       "         794, 2008,  669,    4, 1346, 3917,    6,  177,   24, 1074,  162,  373,\n",
       "           3,   57, 2029,   22, 3706, 6853,    5,    0,    4, 5640, 1632, 3617,\n",
       "        2297,    5, 5207,  875,   81,  139,    5, 3904, 1892, 4343, 7296, 5241,\n",
       "           3,  904,  402, 1763,   88,   64, 1567,   95, 2664, 2512,   20,   85,\n",
       "           5, 4799, 4641,    5], device='cuda:0')"
      ]
     },
     "execution_count": 38,
     "metadata": {},
     "output_type": "execute_result"
    }
   ],
   "source": [
    "tmp[0][2, :]"
   ]
  },
  {
   "cell_type": "code",
   "execution_count": 58,
   "metadata": {
    "hidden": true
   },
   "outputs": [],
   "source": [
    "class TransformerRegLearner(TransformerLearner):\n",
    "    def __init__(self, data, models, **kwargs):\n",
    "        super().__init__(data, models, **kwargs)\n",
    "\n",
    "    def _get_crit(self, data): return lambda x, y: F.mse_loss(x[:, 0], y)"
   ]
  },
  {
   "cell_type": "code",
   "execution_count": 59,
   "metadata": {
    "hidden": true
   },
   "outputs": [],
   "source": [
    "model= get_transformer_classifier(\n",
    "    n_tok=n_toks, \n",
    "    emb_sz=EMB_DIM, \n",
    "    n_head=12, \n",
    "    n_layer=6, \n",
    "    n_ctx=100,\n",
    "    clf_layers=[EMB_DIM, 100, 1],\n",
    "    pad_token=2,\n",
    "    embd_pdrop=0.1,\n",
    "    attn_pdrop=0.1,\n",
    "    resid_pdrop=0.1,\n",
    "    clf_pdrop=[0.5, 0.2],\n",
    "    afn=\"gelu\"\n",
    ")    "
   ]
  },
  {
   "cell_type": "code",
   "execution_count": 60,
   "metadata": {
    "hidden": true
   },
   "outputs": [],
   "source": [
    "learn = TransformerRegLearner(\n",
    "    model_data, \n",
    "    TransformerTextModel(to_gpu(model)), \n",
    "    opt_fn=partial(torch.optim.Adam, betas=(0.8, 0.99)))\n",
    "learn.clip=2.\n",
    "learn.load_encoder('lm1_enc')"
   ]
  },
  {
   "cell_type": "code",
   "execution_count": 61,
   "metadata": {
    "hidden": true
   },
   "outputs": [
    {
     "data": {
      "text/plain": [
       "MLP(\n",
       "  (layers): ModuleList(\n",
       "    (0): LinearBlock(\n",
       "      (lin): Linear(in_features=480, out_features=100, bias=True)\n",
       "      (drop): Dropout(p=0.5)\n",
       "      (ln): LayerNorm(torch.Size([480]), eps=1e-05, elementwise_affine=True)\n",
       "    )\n",
       "    (1): LinearBlock(\n",
       "      (lin): Linear(in_features=100, out_features=1, bias=True)\n",
       "      (drop): Dropout(p=0.2)\n",
       "      (ln): LayerNorm(torch.Size([100]), eps=1e-05, elementwise_affine=True)\n",
       "    )\n",
       "  )\n",
       ")"
      ]
     },
     "execution_count": 61,
     "metadata": {},
     "output_type": "execute_result"
    }
   ],
   "source": [
    "learn.model[1]"
   ]
  },
  {
   "cell_type": "code",
   "execution_count": 62,
   "metadata": {
    "hidden": true
   },
   "outputs": [
    {
     "data": {
      "application/vnd.jupyter.widget-view+json": {
       "model_id": "35d27a785879460587c57b672e48b345",
       "version_major": 2,
       "version_minor": 0
      },
      "text/plain": [
       "HBox(children=(IntProgress(value=0, description='Epoch', max=1), HTML(value='')))"
      ]
     },
     "metadata": {},
     "output_type": "display_data"
    },
    {
     "name": "stdout",
     "output_type": "stream",
     "text": [
      "epoch      trn_loss   val_loss                                \n",
      "    0      1.091365   0.946824  \n",
      "CPU times: user 4min 41s, sys: 3min 16s, total: 7min 57s\n",
      "Wall time: 7min 54s\n"
     ]
    }
   ],
   "source": [
    "lrs = np.array([5e-5, *[1e-4]*6, 1e-3])\n",
    "learn.freeze_to(-1)\n",
    "%time learn.fit(lrs, 1, wds=0, cycle_len=1, use_clr=(8,3))\n",
    "learn.save('reg_0')"
   ]
  },
  {
   "cell_type": "code",
   "execution_count": 47,
   "metadata": {
    "hidden": true
   },
   "outputs": [
    {
     "data": {
      "application/vnd.jupyter.widget-view+json": {
       "model_id": "53ab77a3d26448369c81b6a2b1f7c028",
       "version_major": 2,
       "version_minor": 0
      },
      "text/plain": [
       "HBox(children=(IntProgress(value=0, description='Epoch', max=1), HTML(value='')))"
      ]
     },
     "metadata": {},
     "output_type": "display_data"
    },
    {
     "name": "stdout",
     "output_type": "stream",
     "text": [
      " 80%|███████▉  | 6570/8260 [14:51<03:49,  7.37it/s, loss=2.41] "
     ]
    },
    {
     "data": {
      "image/png": "[encoded data removed]",
      "text/plain": [
       "<Figure size 432x288 with 1 Axes>"
      ]
     },
     "metadata": {},
     "output_type": "display_data"
    }
   ],
   "source": [
    "lrs = np.array([5e-5, *[1e-4]*6, 1e-3])\n",
    "learn.unfreeze()\n",
    "learn.lr_find(lrs/1000)\n",
    "learn.sched.plot()"
   ]
  },
  {
   "cell_type": "code",
   "execution_count": 64,
   "metadata": {
    "hidden": true
   },
   "outputs": [
    {
     "data": {
      "application/vnd.jupyter.widget-view+json": {
       "model_id": "65c484f92e5f4802a4ae2028f5d82bf8",
       "version_major": 2,
       "version_minor": 0
      },
      "text/plain": [
       "HBox(children=(IntProgress(value=0, description='Epoch', max=2), HTML(value='')))"
      ]
     },
     "metadata": {},
     "output_type": "display_data"
    },
    {
     "name": "stdout",
     "output_type": "stream",
     "text": [
      "epoch      trn_loss   val_loss                                 \n",
      "    0      0.869585   0.814217  \n",
      "    1      0.863255   0.745996                                 \n",
      "CPU times: user 13min 3s, sys: 9min 5s, total: 22min 9s\n",
      "Wall time: 22min 2s\n"
     ]
    },
    {
     "data": {
      "text/plain": [
       "[0.7459960235493347]"
      ]
     },
     "execution_count": 64,
     "metadata": {},
     "output_type": "execute_result"
    }
   ],
   "source": [
    "lrs = np.array([1e-4, *[5e-4 / 2 ** (6 - i) for i in range(6)], 1e-3])\n",
    "learn.freeze_to(-3)\n",
    "%time learn.fit(lrs, 1, wds=1e-5, cycle_len=2, use_clr=(32,4), use_wd_sched=True)"
   ]
  },
  {
   "cell_type": "code",
   "execution_count": 65,
   "metadata": {
    "hidden": true
   },
   "outputs": [
    {
     "data": {
      "application/vnd.jupyter.widget-view+json": {
       "model_id": "594ba2d0cdd9483e8856587a1f0a150a",
       "version_major": 2,
       "version_minor": 0
      },
      "text/plain": [
       "HBox(children=(IntProgress(value=0, description='Epoch', max=2), HTML(value='')))"
      ]
     },
     "metadata": {},
     "output_type": "display_data"
    },
    {
     "name": "stdout",
     "output_type": "stream",
     "text": [
      "epoch      trn_loss   val_loss                                 \n",
      "    0      0.748412   0.713915  \n",
      "    1      0.686241   0.687606                                 \n",
      "CPU times: user 18min 43s, sys: 13min 26s, total: 32min 10s\n",
      "Wall time: 32min 2s\n"
     ]
    },
    {
     "data": {
      "text/plain": [
       "[0.6876059699954794]"
      ]
     },
     "execution_count": 65,
     "metadata": {},
     "output_type": "execute_result"
    }
   ],
   "source": [
    "lrs = np.array([1e-4, *[5e-4 / 2 ** (6 - i) for i in range(6)], 1e-3])\n",
    "learn.freeze_to(-5)\n",
    "%time learn.fit(lrs, 1, wds=1e-5, cycle_len=2, use_clr=(32,4), use_wd_sched=True)"
   ]
  },
  {
   "cell_type": "code",
   "execution_count": 66,
   "metadata": {
    "hidden": true
   },
   "outputs": [],
   "source": [
    "learn.save(\"tmp\")"
   ]
  },
  {
   "cell_type": "code",
   "execution_count": 67,
   "metadata": {
    "hidden": true,
    "scrolled": true
   },
   "outputs": [
    {
     "data": {
      "application/vnd.jupyter.widget-view+json": {
       "model_id": "0aa3fd3615774002a7838abf9c570492",
       "version_major": 2,
       "version_minor": 0
      },
      "text/plain": [
       "HBox(children=(IntProgress(value=0, description='Epoch', max=2), HTML(value='')))"
      ]
     },
     "metadata": {},
     "output_type": "display_data"
    },
    {
     "name": "stdout",
     "output_type": "stream",
     "text": [
      "epoch      trn_loss   val_loss                                 \n",
      "    0      0.694939   0.689135  \n",
      "    1      0.658806   0.667701                                 \n",
      "CPU times: user 26min 20s, sys: 18min 39s, total: 44min 59s\n",
      "Wall time: 44min 58s\n"
     ]
    }
   ],
   "source": [
    "learn.unfreeze()\n",
    "lrs = np.array([1e-4, *[5e-4 / 2 ** (6 - i) for i in range(6)], 1e-3])\n",
    "%time learn.fit(lrs, 1, wds=1e-5, cycle_len=2, use_clr=(32,4), use_wd_sched=True)\n",
    "learn.save('reg_full')"
   ]
  },
  {
   "cell_type": "code",
   "execution_count": 68,
   "metadata": {
    "hidden": true
   },
   "outputs": [],
   "source": [
    "# Export Model\n",
    "torch.save(learn.model, path / \"sentiment_model.pth\")"
   ]
  },
  {
   "cell_type": "markdown",
   "metadata": {
    "heading_collapsed": true,
    "hidden": true
   },
   "source": [
    "### Evaluation"
   ]
  },
  {
   "cell_type": "code",
   "execution_count": 69,
   "metadata": {
    "hidden": true
   },
   "outputs": [],
   "source": [
    "def get_preds(data_loader):\n",
    "    learn.model.eval()       \n",
    "    preds, ys = [], []\n",
    "    for x, y in tqdm_notebook(data_loader):   \n",
    "        with torch.set_grad_enabled(False):\n",
    "            preds.append(learn.model(x).cpu().data.numpy()[:, 0])\n",
    "            ys.append(y.cpu().numpy())\n",
    "    preds = np.concatenate(preds)\n",
    "    ys = np.concatenate(ys)\n",
    "    return ys, preds"
   ]
  },
  {
   "cell_type": "code",
   "execution_count": 70,
   "metadata": {
    "hidden": true
   },
   "outputs": [
    {
     "data": {
      "application/vnd.jupyter.widget-view+json": {
       "model_id": "0ba3ac25bc2a462eb7c49741104d55bc",
       "version_major": 2,
       "version_minor": 0
      },
      "text/plain": [
       "HBox(children=(IntProgress(value=0, max=1377), HTML(value='')))"
      ]
     },
     "metadata": {},
     "output_type": "display_data"
    },
    {
     "name": "stdout",
     "output_type": "stream",
     "text": [
      "(Validation set): (176208,) (176208,)\n"
     ]
    },
    {
     "data": {
      "text/plain": [
       "0.6677007783415055"
      ]
     },
     "execution_count": 70,
     "metadata": {},
     "output_type": "execute_result"
    }
   ],
   "source": [
    "ys, preds = get_preds(val_dl)\n",
    "print(\"(Validation set):\", preds.shape, ys.shape)\n",
    "np.sum(np.square(preds - ys)) / preds.shape[0]"
   ]
  },
  {
   "cell_type": "code",
   "execution_count": 71,
   "metadata": {
    "hidden": true
   },
   "outputs": [
    {
     "data": {
      "text/plain": [
       "count    176208.000000\n",
       "mean          3.363096\n",
       "std           0.814887\n",
       "min           0.832348\n",
       "25%           2.859134\n",
       "50%           3.461971\n",
       "75%           3.988681\n",
       "max           4.798726\n",
       "dtype: float64"
      ]
     },
     "execution_count": 71,
     "metadata": {},
     "output_type": "execute_result"
    }
   ],
   "source": [
    "pd.Series(preds).describe()"
   ]
  },
  {
   "cell_type": "code",
   "execution_count": null,
   "metadata": {
    "hidden": true
   },
   "outputs": [],
   "source": [
    "preds = np.clip(preds, 1, 5)\n",
    "np.sum(np.square(preds - ys)) / preds.shape[0]"
   ]
  },
  {
   "cell_type": "code",
   "execution_count": 74,
   "metadata": {
    "hidden": true
   },
   "outputs": [],
   "source": [
    "test_ds = TextDataset(tokens_test, df_test.rating.values, max_seq_len=100)\n",
    "test_samp = SortSampler(tokens_test, key=lambda x: len(tokens_test[x]))\n",
    "test_dl = DataLoader(test_ds, bs, transpose=False, num_workers=1, pad_idx=2, sampler=test_samp)"
   ]
  },
  {
   "cell_type": "code",
   "execution_count": 75,
   "metadata": {
    "hidden": true
   },
   "outputs": [
    {
     "data": {
      "application/vnd.jupyter.widget-view+json": {
       "model_id": "d90b0cccb40744e8805f889d6b579938",
       "version_major": 2,
       "version_minor": 0
      },
      "text/plain": [
       "HBox(children=(IntProgress(value=0, max=1377), HTML(value='')))"
      ]
     },
     "metadata": {},
     "output_type": "display_data"
    },
    {
     "name": "stdout",
     "output_type": "stream",
     "text": [
      "(Test set): (176209,) (176209,)\n"
     ]
    },
    {
     "data": {
      "text/plain": [
       "0.6723806315357022"
      ]
     },
     "execution_count": 75,
     "metadata": {},
     "output_type": "execute_result"
    }
   ],
   "source": [
    "ys, preds = get_preds(test_dl)\n",
    "print(\"(Test set):\", preds.shape, ys.shape)\n",
    "np.sum(np.square(preds - ys)) / preds.shape[0]"
   ]
  },
  {
   "cell_type": "code",
   "execution_count": 76,
   "metadata": {
    "hidden": true
   },
   "outputs": [
    {
     "data": {
      "text/plain": [
       "0.6723734144838666"
      ]
     },
     "execution_count": 76,
     "metadata": {},
     "output_type": "execute_result"
    }
   ],
   "source": [
    "preds = np.clip(preds, 1, 5)\n",
    "np.sum(np.square(preds - ys)) / preds.shape[0]"
   ]
  },
  {
   "cell_type": "code",
   "execution_count": null,
   "metadata": {
    "hidden": true,
    "scrolled": true
   },
   "outputs": [],
   "source": [
    "pd.Series(ys).describe()"
   ]
  },
  {
   "cell_type": "code",
   "execution_count": 90,
   "metadata": {
    "hidden": true
   },
   "outputs": [
    {
     "data": {
      "text/html": [
       "<div>\n",
       "<style scoped>\n",
       "    .dataframe tbody tr th:only-of-type {\n",
       "        vertical-align: middle;\n",
       "    }\n",
       "\n",
       "    .dataframe tbody tr th {\n",
       "        vertical-align: top;\n",
       "    }\n",
       "\n",
       "    .dataframe thead th {\n",
       "        text-align: right;\n",
       "    }\n",
       "</style>\n",
       "<table border=\"1\" class=\"dataframe\">\n",
       "  <thead>\n",
       "    <tr style=\"text-align: right;\">\n",
       "      <th></th>\n",
       "      <th>comment</th>\n",
       "      <th>rating</th>\n",
       "      <th>label</th>\n",
       "      <th>preds</th>\n",
       "    </tr>\n",
       "  </thead>\n",
       "  <tbody>\n",
       "    <tr>\n",
       "      <th>258461</th>\n",
       "      <td>无话可说 .</td>\n",
       "      <td>3</td>\n",
       "      <td>1</td>\n",
       "      <td>2.493271</td>\n",
       "    </tr>\n",
       "    <tr>\n",
       "      <th>118491</th>\n",
       "      <td>老师 你 太 可爱</td>\n",
       "      <td>5</td>\n",
       "      <td>2</td>\n",
       "      <td>4.157641</td>\n",
       "    </tr>\n",
       "    <tr>\n",
       "      <th>44768</th>\n",
       "      <td>说 了 好多 话 ， 可惜 都 是 陈词滥调 、 无 凭 无据 。</td>\n",
       "      <td>2</td>\n",
       "      <td>0</td>\n",
       "      <td>2.707678</td>\n",
       "    </tr>\n",
       "    <tr>\n",
       "      <th>34630</th>\n",
       "      <td>普巴 家用 的 电脑 是 苹果 。</td>\n",
       "      <td>3</td>\n",
       "      <td>1</td>\n",
       "      <td>3.348979</td>\n",
       "    </tr>\n",
       "    <tr>\n",
       "      <th>382761</th>\n",
       "      <td>这 才 是 一 部 看 完 之后 观众 讲 不 清道 不 明 的 电影 ， 主线 不 明了 ...</td>\n",
       "      <td>4</td>\n",
       "      <td>2</td>\n",
       "      <td>3.533488</td>\n",
       "    </tr>\n",
       "  </tbody>\n",
       "</table>\n",
       "</div>"
      ],
      "text/plain": [
       "                                                  comment  rating  label  \\\n",
       "258461                                             无话可说 .       3      1   \n",
       "118491                                          老师 你 太 可爱       5      2   \n",
       "44768                   说 了 好多 话 ， 可惜 都 是 陈词滥调 、 无 凭 无据 。       2      0   \n",
       "34630                                   普巴 家用 的 电脑 是 苹果 。       3      1   \n",
       "382761  这 才 是 一 部 看 完 之后 观众 讲 不 清道 不 明 的 电影 ， 主线 不 明了 ...       4      2   \n",
       "\n",
       "           preds  \n",
       "258461  2.493271  \n",
       "118491  4.157641  \n",
       "44768   2.707678  \n",
       "34630   3.348979  \n",
       "382761  3.533488  "
      ]
     },
     "execution_count": 90,
     "metadata": {},
     "output_type": "execute_result"
    }
   ],
   "source": [
    "# Save predictions\n",
    "df_test.loc[df_test.iloc[list(iter(test_samp))].index, \"preds\"] = preds\n",
    "# df_test.to_csv(path / \"df_test.csv.gz\", index=False, compression=\"gzip\")\n",
    "df_test.head()"
   ]
  },
  {
   "cell_type": "code",
   "execution_count": 91,
   "metadata": {
    "hidden": true
   },
   "outputs": [
    {
     "data": {
      "text/html": [
       "<div>\n",
       "<style scoped>\n",
       "    .dataframe tbody tr th:only-of-type {\n",
       "        vertical-align: middle;\n",
       "    }\n",
       "\n",
       "    .dataframe tbody tr th {\n",
       "        vertical-align: top;\n",
       "    }\n",
       "\n",
       "    .dataframe thead th {\n",
       "        text-align: right;\n",
       "    }\n",
       "</style>\n",
       "<table border=\"1\" class=\"dataframe\">\n",
       "  <thead>\n",
       "    <tr style=\"text-align: right;\">\n",
       "      <th></th>\n",
       "      <th>comment</th>\n",
       "      <th>rating</th>\n",
       "      <th>label</th>\n",
       "      <th>preds</th>\n",
       "    </tr>\n",
       "  </thead>\n",
       "  <tbody>\n",
       "    <tr>\n",
       "      <th>797185</th>\n",
       "      <td>终于 找到 了 ！ 高中 时 和 一 帮 同学 一起 看 得 好 起劲 ， 膝盖 向 后 弯...</td>\n",
       "      <td>3</td>\n",
       "      <td>1</td>\n",
       "      <td>4.149887</td>\n",
       "    </tr>\n",
       "    <tr>\n",
       "      <th>330580</th>\n",
       "      <td>的确 很 勉强 了</td>\n",
       "      <td>3</td>\n",
       "      <td>1</td>\n",
       "      <td>2.716822</td>\n",
       "    </tr>\n",
       "    <tr>\n",
       "      <th>582044</th>\n",
       "      <td>昆汀 童鞋 你 怎 马 回归 故事 流 了 。 。 。 白眉一 出场 顿时 就 欢乐 了 音...</td>\n",
       "      <td>3</td>\n",
       "      <td>1</td>\n",
       "      <td>3.660117</td>\n",
       "    </tr>\n",
       "    <tr>\n",
       "      <th>567093</th>\n",
       "      <td>这个 很 赞 。 整部 电影 的 配乐 非常 有趣 ， 味道 浓烈 。 我 一 忽儿 看到 ...</td>\n",
       "      <td>5</td>\n",
       "      <td>2</td>\n",
       "      <td>4.563919</td>\n",
       "    </tr>\n",
       "    <tr>\n",
       "      <th>254892</th>\n",
       "      <td>珍爱 生命 ， 远离 烂片 ！ ！ ！ ！ 谁 TMD 敢 说 这 是 个 恐怖片 ？ ？ ...</td>\n",
       "      <td>1</td>\n",
       "      <td>0</td>\n",
       "      <td>1.531836</td>\n",
       "    </tr>\n",
       "    <tr>\n",
       "      <th>475299</th>\n",
       "      <td>非常 沉 得 住 气 的 一 部 片子 ， 前面 近 两 个 小时 都 是 在 为 最后 的...</td>\n",
       "      <td>4</td>\n",
       "      <td>2</td>\n",
       "      <td>3.667084</td>\n",
       "    </tr>\n",
       "    <tr>\n",
       "      <th>826166</th>\n",
       "      <td>几 个 老套 的 场景 设计 。</td>\n",
       "      <td>2</td>\n",
       "      <td>0</td>\n",
       "      <td>2.754994</td>\n",
       "    </tr>\n",
       "    <tr>\n",
       "      <th>849581</th>\n",
       "      <td>说 英文 的 阿童木 。 。 。 。 。</td>\n",
       "      <td>3</td>\n",
       "      <td>1</td>\n",
       "      <td>3.018945</td>\n",
       "    </tr>\n",
       "    <tr>\n",
       "      <th>578462</th>\n",
       "      <td>比不上 仁义 的 墓场 ~ 7.7</td>\n",
       "      <td>4</td>\n",
       "      <td>2</td>\n",
       "      <td>3.175455</td>\n",
       "    </tr>\n",
       "    <tr>\n",
       "      <th>685760</th>\n",
       "      <td>还 行 ， 一般 科幻片 吧 ， 题材 好看 ， 喜欢 这 类 的 科幻片</td>\n",
       "      <td>3</td>\n",
       "      <td>1</td>\n",
       "      <td>3.385180</td>\n",
       "    </tr>\n",
       "    <tr>\n",
       "      <th>786695</th>\n",
       "      <td>当年 在 网吧 当 三级 片用 快 进 或者 分段 落 看 的 ， 几 年 前 午夜 影院 ...</td>\n",
       "      <td>3</td>\n",
       "      <td>1</td>\n",
       "      <td>3.807580</td>\n",
       "    </tr>\n",
       "    <tr>\n",
       "      <th>377195</th>\n",
       "      <td>吴倩莲 演 过 不少 奇怪 的 角色 ， 我 还 记得 恐怖 的 《 恐怖鸡 》 。 黄子华...</td>\n",
       "      <td>3</td>\n",
       "      <td>1</td>\n",
       "      <td>2.571191</td>\n",
       "    </tr>\n",
       "    <tr>\n",
       "      <th>825316</th>\n",
       "      <td>明星 的 亲戚 亦 是 帅哥 美女 ， 节奏 还是 挺 抓 人 的 ， 不要 仔细 推敲 他...</td>\n",
       "      <td>4</td>\n",
       "      <td>2</td>\n",
       "      <td>3.175067</td>\n",
       "    </tr>\n",
       "    <tr>\n",
       "      <th>161127</th>\n",
       "      <td>无感</td>\n",
       "      <td>2</td>\n",
       "      <td>0</td>\n",
       "      <td>2.225430</td>\n",
       "    </tr>\n",
       "    <tr>\n",
       "      <th>600331</th>\n",
       "      <td>人物 细节 刻画 很 打动 人 ， 感慨 伟人 不过 是 有 信仰 有 行动 有 坚持 有 ...</td>\n",
       "      <td>3</td>\n",
       "      <td>1</td>\n",
       "      <td>3.629376</td>\n",
       "    </tr>\n",
       "    <tr>\n",
       "      <th>479210</th>\n",
       "      <td>布鲁克林 武士道</td>\n",
       "      <td>5</td>\n",
       "      <td>2</td>\n",
       "      <td>3.639739</td>\n",
       "    </tr>\n",
       "    <tr>\n",
       "      <th>621416</th>\n",
       "      <td>好 早 啊 ， 我 才 出生 几 个 月 吧 。 撼动 心灵</td>\n",
       "      <td>4</td>\n",
       "      <td>2</td>\n",
       "      <td>4.190939</td>\n",
       "    </tr>\n",
       "    <tr>\n",
       "      <th>31767</th>\n",
       "      <td>敬佩 科学家 对于 真相 的 追求 与 牺牲 。</td>\n",
       "      <td>4</td>\n",
       "      <td>2</td>\n",
       "      <td>4.367244</td>\n",
       "    </tr>\n",
       "    <tr>\n",
       "      <th>713393</th>\n",
       "      <td>什么 东东 。 。</td>\n",
       "      <td>1</td>\n",
       "      <td>0</td>\n",
       "      <td>2.286594</td>\n",
       "    </tr>\n",
       "    <tr>\n",
       "      <th>12001</th>\n",
       "      <td>节奏 好 慢 … 并且 有些 说 辞 过于 牵强不过 还 算 说 得 通吧 这 世界 本来 ...</td>\n",
       "      <td>3</td>\n",
       "      <td>1</td>\n",
       "      <td>2.821585</td>\n",
       "    </tr>\n",
       "  </tbody>\n",
       "</table>\n",
       "</div>"
      ],
      "text/plain": [
       "                                                  comment  rating  label  \\\n",
       "797185  终于 找到 了 ！ 高中 时 和 一 帮 同学 一起 看 得 好 起劲 ， 膝盖 向 后 弯...       3      1   \n",
       "330580                                          的确 很 勉强 了       3      1   \n",
       "582044  昆汀 童鞋 你 怎 马 回归 故事 流 了 。 。 。 白眉一 出场 顿时 就 欢乐 了 音...       3      1   \n",
       "567093  这个 很 赞 。 整部 电影 的 配乐 非常 有趣 ， 味道 浓烈 。 我 一 忽儿 看到 ...       5      2   \n",
       "254892  珍爱 生命 ， 远离 烂片 ！ ！ ！ ！ 谁 TMD 敢 说 这 是 个 恐怖片 ？ ？ ...       1      0   \n",
       "475299  非常 沉 得 住 气 的 一 部 片子 ， 前面 近 两 个 小时 都 是 在 为 最后 的...       4      2   \n",
       "826166                                   几 个 老套 的 场景 设计 。       2      0   \n",
       "849581                               说 英文 的 阿童木 。 。 。 。 。       3      1   \n",
       "578462                                  比不上 仁义 的 墓场 ~ 7.7       4      2   \n",
       "685760              还 行 ， 一般 科幻片 吧 ， 题材 好看 ， 喜欢 这 类 的 科幻片       3      1   \n",
       "786695  当年 在 网吧 当 三级 片用 快 进 或者 分段 落 看 的 ， 几 年 前 午夜 影院 ...       3      1   \n",
       "377195  吴倩莲 演 过 不少 奇怪 的 角色 ， 我 还 记得 恐怖 的 《 恐怖鸡 》 。 黄子华...       3      1   \n",
       "825316  明星 的 亲戚 亦 是 帅哥 美女 ， 节奏 还是 挺 抓 人 的 ， 不要 仔细 推敲 他...       4      2   \n",
       "161127                                                 无感       2      0   \n",
       "600331  人物 细节 刻画 很 打动 人 ， 感慨 伟人 不过 是 有 信仰 有 行动 有 坚持 有 ...       3      1   \n",
       "479210                                           布鲁克林 武士道       5      2   \n",
       "621416                     好 早 啊 ， 我 才 出生 几 个 月 吧 。 撼动 心灵       4      2   \n",
       "31767                            敬佩 科学家 对于 真相 的 追求 与 牺牲 。       4      2   \n",
       "713393                                          什么 东东 。 。       1      0   \n",
       "12001   节奏 好 慢 … 并且 有些 说 辞 过于 牵强不过 还 算 说 得 通吧 这 世界 本来 ...       3      1   \n",
       "\n",
       "           preds  \n",
       "797185  4.149887  \n",
       "330580  2.716822  \n",
       "582044  3.660117  \n",
       "567093  4.563919  \n",
       "254892  1.531836  \n",
       "475299  3.667084  \n",
       "826166  2.754994  \n",
       "849581  3.018945  \n",
       "578462  3.175455  \n",
       "685760  3.385180  \n",
       "786695  3.807580  \n",
       "377195  2.571191  \n",
       "825316  3.175067  \n",
       "161127  2.225430  \n",
       "600331  3.629376  \n",
       "479210  3.639739  \n",
       "621416  4.190939  \n",
       "31767   4.367244  \n",
       "713393  2.286594  \n",
       "12001   2.821585  "
      ]
     },
     "execution_count": 91,
     "metadata": {},
     "output_type": "execute_result"
    }
   ],
   "source": [
    "df_test.sample(20)"
   ]
  },
  {
   "cell_type": "code",
   "execution_count": 78,
   "metadata": {
    "hidden": true
   },
   "outputs": [
    {
     "ename": "AttributeError",
     "evalue": "'DataFrame' object has no attribute 'preds'",
     "output_type": "error",
     "traceback": [
      "\u001b[0;31m---------------------------------------------------------------------------\u001b[0m",
      "\u001b[0;31mAttributeError\u001b[0m                            Traceback (most recent call last)",
      "\u001b[0;32m<ipython-input-78-06725c8b28e9>\u001b[0m in \u001b[0;36m<module>\u001b[0;34m()\u001b[0m\n\u001b[0;32m----> 1\u001b[0;31m \u001b[0mnp\u001b[0m\u001b[0;34m.\u001b[0m\u001b[0msum\u001b[0m\u001b[0;34m(\u001b[0m\u001b[0mnp\u001b[0m\u001b[0;34m.\u001b[0m\u001b[0msquare\u001b[0m\u001b[0;34m(\u001b[0m\u001b[0mdf_test\u001b[0m\u001b[0;34m.\u001b[0m\u001b[0mrating\u001b[0m\u001b[0;34m.\u001b[0m\u001b[0mvalues\u001b[0m \u001b[0;34m-\u001b[0m \u001b[0mdf_test\u001b[0m\u001b[0;34m.\u001b[0m\u001b[0mpreds\u001b[0m\u001b[0;34m.\u001b[0m\u001b[0mvalues\u001b[0m\u001b[0;34m)\u001b[0m\u001b[0;34m)\u001b[0m \u001b[0;34m/\u001b[0m \u001b[0mpreds\u001b[0m\u001b[0;34m.\u001b[0m\u001b[0mshape\u001b[0m\u001b[0;34m[\u001b[0m\u001b[0;36m0\u001b[0m\u001b[0;34m]\u001b[0m\u001b[0;34m\u001b[0m\u001b[0m\n\u001b[0m",
      "\u001b[0;32m/opt/conda/lib/python3.6/site-packages/pandas/core/generic.py\u001b[0m in \u001b[0;36m__getattr__\u001b[0;34m(self, name)\u001b[0m\n\u001b[1;32m   3612\u001b[0m             \u001b[0;32mif\u001b[0m \u001b[0mname\u001b[0m \u001b[0;32min\u001b[0m \u001b[0mself\u001b[0m\u001b[0;34m.\u001b[0m\u001b[0m_info_axis\u001b[0m\u001b[0;34m:\u001b[0m\u001b[0;34m\u001b[0m\u001b[0m\n\u001b[1;32m   3613\u001b[0m                 \u001b[0;32mreturn\u001b[0m \u001b[0mself\u001b[0m\u001b[0;34m[\u001b[0m\u001b[0mname\u001b[0m\u001b[0;34m]\u001b[0m\u001b[0;34m\u001b[0m\u001b[0m\n\u001b[0;32m-> 3614\u001b[0;31m             \u001b[0;32mreturn\u001b[0m \u001b[0mobject\u001b[0m\u001b[0;34m.\u001b[0m\u001b[0m__getattribute__\u001b[0m\u001b[0;34m(\u001b[0m\u001b[0mself\u001b[0m\u001b[0;34m,\u001b[0m \u001b[0mname\u001b[0m\u001b[0;34m)\u001b[0m\u001b[0;34m\u001b[0m\u001b[0m\n\u001b[0m\u001b[1;32m   3615\u001b[0m \u001b[0;34m\u001b[0m\u001b[0m\n\u001b[1;32m   3616\u001b[0m     \u001b[0;32mdef\u001b[0m \u001b[0m__setattr__\u001b[0m\u001b[0;34m(\u001b[0m\u001b[0mself\u001b[0m\u001b[0;34m,\u001b[0m \u001b[0mname\u001b[0m\u001b[0;34m,\u001b[0m \u001b[0mvalue\u001b[0m\u001b[0;34m)\u001b[0m\u001b[0;34m:\u001b[0m\u001b[0;34m\u001b[0m\u001b[0m\n",
      "\u001b[0;31mAttributeError\u001b[0m: 'DataFrame' object has no attribute 'preds'"
     ]
    }
   ],
   "source": [
    "np.sum(np.square(df_test.rating.values - df_test.preds.values)) / preds.shape[0]"
   ]
  },
  {
   "cell_type": "code",
   "execution_count": 79,
   "metadata": {
    "hidden": true
   },
   "outputs": [],
   "source": [
    "preds_class = np.round(preds)"
   ]
  },
  {
   "cell_type": "code",
   "execution_count": 80,
   "metadata": {
    "hidden": true
   },
   "outputs": [
    {
     "name": "stdout",
     "output_type": "stream",
     "text": [
      "Confusion matrix, without normalization\n",
      "[[ 3135  4756  2641   913    77]\n",
      " [ 1276  9376  9981  2590    57]\n",
      " [  268  6840 33690 20072   505]\n",
      " [   51  1170 14405 35827  3196]\n",
      " [   45   415  3105 16293  5525]]\n"
     ]
    },
    {
     "data": {
      "image/png": "[encoded data removed]",
      "text/plain": [
       "<Figure size 432x288 with 2 Axes>"
      ]
     },
     "metadata": {},
     "output_type": "display_data"
    }
   ],
   "source": [
    "cnf_matrix = confusion_matrix(ys, preds_class)\n",
    "np.set_printoptions(precision=2)\n",
    "\n",
    "# Plot non-normalized confusion matrix\n",
    "plt.figure()\n",
    "plot_confusion_matrix(\n",
    "    cnf_matrix, classes=[0, 1, 2],\n",
    "    title='Confusion matrix, without normalization')"
   ]
  },
  {
   "cell_type": "code",
   "execution_count": 81,
   "metadata": {
    "hidden": true
   },
   "outputs": [
    {
     "name": "stdout",
     "output_type": "stream",
     "text": [
      "Class 0: P 66%, R 27%, FS 0.38, Support: 11522\n",
      "Class 1: P 42%, R 40%, FS 0.41, Support: 23280\n",
      "Class 2: P 53%, R 55%, FS 0.54, Support: 61375\n",
      "Class 3: P 47%, R 66%, FS 0.55, Support: 54649\n",
      "Class 4: P 59%, R 22%, FS 0.32, Support: 25383\n"
     ]
    }
   ],
   "source": [
    "from sklearn.metrics import precision_recall_fscore_support\n",
    "precision, recall, fscore, support = precision_recall_fscore_support(ys, preds_class)\n",
    "for i in range(5):\n",
    "    print(f\"Class {i}: P {precision[i]*100:.0f}%, R {recall[i]*100:.0f}%, FS {fscore[i]:.2f}, Support: {support[i]}\")"
   ]
  },
  {
   "cell_type": "code",
   "execution_count": 82,
   "metadata": {
    "hidden": true
   },
   "outputs": [],
   "source": [
    "def get_prediction(texts):\n",
    "    input_tensor = T(np.array([1] + sp.EncodeAsIds(texts))).unsqueeze(0)\n",
    "    return learn.model(input_tensor).data.cpu().numpy()[0, 0]"
   ]
  },
  {
   "cell_type": "code",
   "execution_count": 83,
   "metadata": {
    "hidden": true
   },
   "outputs": [
    {
     "data": {
      "text/plain": [
       "2.36404"
      ]
     },
     "execution_count": 83,
     "metadata": {},
     "output_type": "execute_result"
    }
   ],
   "source": [
    "get_prediction(\"看 了 快 一半 了 才 发现 是 mini 的 广告\")"
   ]
  },
  {
   "cell_type": "code",
   "execution_count": 84,
   "metadata": {
    "hidden": true
   },
   "outputs": [
    {
     "data": {
      "text/plain": [
       "4.69897"
      ]
     },
     "execution_count": 84,
     "metadata": {},
     "output_type": "execute_result"
    }
   ],
   "source": [
    "get_prediction(\"妈蛋 ， 简直 太 好看 了 。 最后 的 DJ battle 部分 ， 兴奋 的 我 ， 简直 想 从 座位 上 站 起来 一起 扭\")"
   ]
  },
  {
   "cell_type": "code",
   "execution_count": 85,
   "metadata": {
    "hidden": true
   },
   "outputs": [
    {
     "data": {
      "text/plain": [
       "2.5457776"
      ]
     },
     "execution_count": 85,
     "metadata": {},
     "output_type": "execute_result"
    }
   ],
   "source": [
    "get_prediction(\"关键点 都 好傻 ， 我 知道 你 要拍 续集 ， \"\n",
    "               \"我 知道 未来 可以 被 重写 ， 但 那 一拳 真的 有点 傻 。\")"
   ]
  },
  {
   "cell_type": "code",
   "execution_count": 86,
   "metadata": {
    "hidden": true
   },
   "outputs": [
    {
     "data": {
      "text/plain": [
       "2.9808483"
      ]
     },
     "execution_count": 86,
     "metadata": {},
     "output_type": "execute_result"
    }
   ],
   "source": [
    "get_prediction(\"李冰冰 的 脸 真的 很 紧绷 ， 比 鲨鱼 的 脸 还 绷 。\")"
   ]
  },
  {
   "cell_type": "code",
   "execution_count": 87,
   "metadata": {
    "hidden": true
   },
   "outputs": [
    {
     "data": {
      "text/plain": [
       "1.2158102"
      ]
     },
     "execution_count": 87,
     "metadata": {},
     "output_type": "execute_result"
    }
   ],
   "source": [
    "get_prediction(\"太 烂 了 ， 难看 至极 。\")"
   ]
  },
  {
   "cell_type": "code",
   "execution_count": 88,
   "metadata": {
    "hidden": true
   },
   "outputs": [
    {
     "data": {
      "text/plain": [
       "2.4479275"
      ]
     },
     "execution_count": 88,
     "metadata": {},
     "output_type": "execute_result"
    }
   ],
   "source": [
    "get_prediction(\"看完 之后 很 生气 ！ 剧情 太差 了\")"
   ]
  },
  {
   "cell_type": "code",
   "execution_count": 89,
   "metadata": {
    "hidden": true
   },
   "outputs": [
    {
     "data": {
      "text/plain": [
       "3.0634825"
      ]
     },
     "execution_count": 89,
     "metadata": {},
     "output_type": "execute_result"
    }
   ],
   "source": [
    "get_prediction(\"好了 可以 了 。 再也 不看 Marvel 了 。 我 努力 过 了 。 实在 是 。 。 啥呀 这是 。 🙄️\")"
   ]
  },
  {
   "cell_type": "code",
   "execution_count": 90,
   "metadata": {
    "hidden": true
   },
   "outputs": [
    {
     "data": {
      "text/plain": [
       "2.0054574"
      ]
     },
     "execution_count": 90,
     "metadata": {},
     "output_type": "execute_result"
    }
   ],
   "source": [
    "get_prediction(\"还 我 电影票 14 元\")"
   ]
  },
  {
   "cell_type": "code",
   "execution_count": null,
   "metadata": {
    "hidden": true
   },
   "outputs": [],
   "source": []
  }
 ],
 "metadata": {
  "kernelspec": {
   "display_name": "Python 3",
   "language": "python",
   "name": "python3"
  },
  "language_info": {
   "codemirror_mode": {
    "name": "ipython",
    "version": 3
   },
   "file_extension": ".py",
   "mimetype": "text/x-python",
   "name": "python",
   "nbconvert_exporter": "python",
   "pygments_lexer": "ipython3",
   "version": "3.6.6"
  }
 },
 "nbformat": 4,
 "nbformat_minor": 2
}
